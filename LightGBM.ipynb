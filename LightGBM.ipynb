{
  "nbformat": 4,
  "nbformat_minor": 0,
  "metadata": {
    "colab": {
      "name": "LightGBM.ipynb",
      "provenance": [],
      "collapsed_sections": [],
      "mount_file_id": "https://github.com/applejxd/colaboratory/blob/master/LightGbmSample.ipynb",
      "authorship_tag": "ABX9TyPouhRFuUtgH8MQQsfIpAOB",
      "include_colab_link": true
    },
    "kernelspec": {
      "name": "python3",
      "display_name": "Python 3"
    }
  },
  "cells": [
    {
      "cell_type": "markdown",
      "metadata": {
        "id": "view-in-github",
        "colab_type": "text"
      },
      "source": [
        "<a href=\"https://colab.research.google.com/github/applejxd/colaboratory/blob/master/LightGBM.ipynb\" target=\"_parent\"><img src=\"https://colab.research.google.com/assets/colab-badge.svg\" alt=\"Open In Colab\"/></a>"
      ]
    },
    {
      "cell_type": "markdown",
      "metadata": {
        "id": "3cNJEMs3kG1t"
      },
      "source": [
        "# LightGBM で回帰タスクをするサンプル\n",
        "- [ボストンの住宅価格に関する回帰タスク](https://scikit-learn.org/stable/modules/generated/sklearn.datasets.load_boston.html)\n",
        "- [説明変数をDataFrame形式で用意](https://scikit-learn.org/stable/datasets/index.html#boston-dataset)"
      ]
    },
    {
      "cell_type": "markdown",
      "metadata": {
        "id": "Mj3qBu3J6Kc2"
      },
      "source": [
        "## 前準備"
      ]
    },
    {
      "cell_type": "markdown",
      "metadata": {
        "id": "kQ3zGoPP6QHr"
      },
      "source": [
        "説明変数を DataFrame で用意"
      ]
    },
    {
      "cell_type": "code",
      "metadata": {
        "id": "kNlV9hCZh1wg",
        "outputId": "8f3ed9e5-3f70-42bd-d80c-39099f26110c",
        "colab": {
          "base_uri": "https://localhost:8080/",
          "height": 233
        }
      },
      "source": [
        "import pandas as pd\n",
        "from sklearn.datasets import load_boston\n",
        "\n",
        "data = load_boston()\n",
        "train_x: pd.DataFrame = pd.DataFrame(data.data, columns = data.feature_names)\n",
        "\n",
        "print(len(train_x))\n",
        "display(train_x.head())"
      ],
      "execution_count": null,
      "outputs": [
        {
          "output_type": "stream",
          "text": [
            "506\n"
          ],
          "name": "stdout"
        },
        {
          "output_type": "display_data",
          "data": {
            "text/html": [
              "<div>\n",
              "<style scoped>\n",
              "    .dataframe tbody tr th:only-of-type {\n",
              "        vertical-align: middle;\n",
              "    }\n",
              "\n",
              "    .dataframe tbody tr th {\n",
              "        vertical-align: top;\n",
              "    }\n",
              "\n",
              "    .dataframe thead th {\n",
              "        text-align: right;\n",
              "    }\n",
              "</style>\n",
              "<table border=\"1\" class=\"dataframe\">\n",
              "  <thead>\n",
              "    <tr style=\"text-align: right;\">\n",
              "      <th></th>\n",
              "      <th>CRIM</th>\n",
              "      <th>ZN</th>\n",
              "      <th>INDUS</th>\n",
              "      <th>CHAS</th>\n",
              "      <th>NOX</th>\n",
              "      <th>RM</th>\n",
              "      <th>AGE</th>\n",
              "      <th>DIS</th>\n",
              "      <th>RAD</th>\n",
              "      <th>TAX</th>\n",
              "      <th>PTRATIO</th>\n",
              "      <th>B</th>\n",
              "      <th>LSTAT</th>\n",
              "    </tr>\n",
              "  </thead>\n",
              "  <tbody>\n",
              "    <tr>\n",
              "      <th>0</th>\n",
              "      <td>0.00632</td>\n",
              "      <td>18.0</td>\n",
              "      <td>2.31</td>\n",
              "      <td>0.0</td>\n",
              "      <td>0.538</td>\n",
              "      <td>6.575</td>\n",
              "      <td>65.2</td>\n",
              "      <td>4.0900</td>\n",
              "      <td>1.0</td>\n",
              "      <td>296.0</td>\n",
              "      <td>15.3</td>\n",
              "      <td>396.90</td>\n",
              "      <td>4.98</td>\n",
              "    </tr>\n",
              "    <tr>\n",
              "      <th>1</th>\n",
              "      <td>0.02731</td>\n",
              "      <td>0.0</td>\n",
              "      <td>7.07</td>\n",
              "      <td>0.0</td>\n",
              "      <td>0.469</td>\n",
              "      <td>6.421</td>\n",
              "      <td>78.9</td>\n",
              "      <td>4.9671</td>\n",
              "      <td>2.0</td>\n",
              "      <td>242.0</td>\n",
              "      <td>17.8</td>\n",
              "      <td>396.90</td>\n",
              "      <td>9.14</td>\n",
              "    </tr>\n",
              "    <tr>\n",
              "      <th>2</th>\n",
              "      <td>0.02729</td>\n",
              "      <td>0.0</td>\n",
              "      <td>7.07</td>\n",
              "      <td>0.0</td>\n",
              "      <td>0.469</td>\n",
              "      <td>7.185</td>\n",
              "      <td>61.1</td>\n",
              "      <td>4.9671</td>\n",
              "      <td>2.0</td>\n",
              "      <td>242.0</td>\n",
              "      <td>17.8</td>\n",
              "      <td>392.83</td>\n",
              "      <td>4.03</td>\n",
              "    </tr>\n",
              "    <tr>\n",
              "      <th>3</th>\n",
              "      <td>0.03237</td>\n",
              "      <td>0.0</td>\n",
              "      <td>2.18</td>\n",
              "      <td>0.0</td>\n",
              "      <td>0.458</td>\n",
              "      <td>6.998</td>\n",
              "      <td>45.8</td>\n",
              "      <td>6.0622</td>\n",
              "      <td>3.0</td>\n",
              "      <td>222.0</td>\n",
              "      <td>18.7</td>\n",
              "      <td>394.63</td>\n",
              "      <td>2.94</td>\n",
              "    </tr>\n",
              "    <tr>\n",
              "      <th>4</th>\n",
              "      <td>0.06905</td>\n",
              "      <td>0.0</td>\n",
              "      <td>2.18</td>\n",
              "      <td>0.0</td>\n",
              "      <td>0.458</td>\n",
              "      <td>7.147</td>\n",
              "      <td>54.2</td>\n",
              "      <td>6.0622</td>\n",
              "      <td>3.0</td>\n",
              "      <td>222.0</td>\n",
              "      <td>18.7</td>\n",
              "      <td>396.90</td>\n",
              "      <td>5.33</td>\n",
              "    </tr>\n",
              "  </tbody>\n",
              "</table>\n",
              "</div>"
            ],
            "text/plain": [
              "      CRIM    ZN  INDUS  CHAS    NOX  ...  RAD    TAX  PTRATIO       B  LSTAT\n",
              "0  0.00632  18.0   2.31   0.0  0.538  ...  1.0  296.0     15.3  396.90   4.98\n",
              "1  0.02731   0.0   7.07   0.0  0.469  ...  2.0  242.0     17.8  396.90   9.14\n",
              "2  0.02729   0.0   7.07   0.0  0.469  ...  2.0  242.0     17.8  392.83   4.03\n",
              "3  0.03237   0.0   2.18   0.0  0.458  ...  3.0  222.0     18.7  394.63   2.94\n",
              "4  0.06905   0.0   2.18   0.0  0.458  ...  3.0  222.0     18.7  396.90   5.33\n",
              "\n",
              "[5 rows x 13 columns]"
            ]
          },
          "metadata": {
            "tags": []
          }
        }
      ]
    },
    {
      "cell_type": "markdown",
      "metadata": {
        "id": "qvd0dq8SlWDa"
      },
      "source": [
        "目的変数も DataFrame で用意"
      ]
    },
    {
      "cell_type": "code",
      "metadata": {
        "id": "Edhnw7KbkGID",
        "outputId": "ce916035-f415-4ed5-c770-d04d58f5b246",
        "colab": {
          "base_uri": "https://localhost:8080/",
          "height": 195
        }
      },
      "source": [
        "train_y: pd.DataFrame = pd.DataFrame(data.target, columns = [\"MEDV\"])\n",
        "display(train_y.head())"
      ],
      "execution_count": null,
      "outputs": [
        {
          "output_type": "display_data",
          "data": {
            "text/html": [
              "<div>\n",
              "<style scoped>\n",
              "    .dataframe tbody tr th:only-of-type {\n",
              "        vertical-align: middle;\n",
              "    }\n",
              "\n",
              "    .dataframe tbody tr th {\n",
              "        vertical-align: top;\n",
              "    }\n",
              "\n",
              "    .dataframe thead th {\n",
              "        text-align: right;\n",
              "    }\n",
              "</style>\n",
              "<table border=\"1\" class=\"dataframe\">\n",
              "  <thead>\n",
              "    <tr style=\"text-align: right;\">\n",
              "      <th></th>\n",
              "      <th>MEDV</th>\n",
              "    </tr>\n",
              "  </thead>\n",
              "  <tbody>\n",
              "    <tr>\n",
              "      <th>0</th>\n",
              "      <td>24.0</td>\n",
              "    </tr>\n",
              "    <tr>\n",
              "      <th>1</th>\n",
              "      <td>21.6</td>\n",
              "    </tr>\n",
              "    <tr>\n",
              "      <th>2</th>\n",
              "      <td>34.7</td>\n",
              "    </tr>\n",
              "    <tr>\n",
              "      <th>3</th>\n",
              "      <td>33.4</td>\n",
              "    </tr>\n",
              "    <tr>\n",
              "      <th>4</th>\n",
              "      <td>36.2</td>\n",
              "    </tr>\n",
              "  </tbody>\n",
              "</table>\n",
              "</div>"
            ],
            "text/plain": [
              "   MEDV\n",
              "0  24.0\n",
              "1  21.6\n",
              "2  34.7\n",
              "3  33.4\n",
              "4  36.2"
            ]
          },
          "metadata": {
            "tags": []
          }
        }
      ]
    },
    {
      "cell_type": "markdown",
      "metadata": {
        "id": "1ThLUndUoox-"
      },
      "source": [
        "学習を行ってモデルを戻す関数を定義"
      ]
    },
    {
      "cell_type": "code",
      "metadata": {
        "id": "yGeQb6E6lcI5"
      },
      "source": [
        "from typing import Dict\n",
        "# !pip install optuna\n",
        "# import optuna.integration.lightgbm as lgb\n",
        "import lightgbm as lgb\n",
        "\n",
        "def Fit(tr_x: pd.DataFrame, tr_y: pd.Series,\n",
        "        va_x: pd.DataFrame, va_y: pd.Series,\n",
        "        params: Dict = {}) -> lgb.Booster:\n",
        "    \"\"\"\n",
        "    :param tr_x: 学習用説明変数\n",
        "    :param tr_y: 学習用目的変数\n",
        "    :param va_x: バリデーション用説明変数\n",
        "    :param va_y: バリデーション用目的変数\n",
        "    :return: 学習済みモデル\n",
        "    \"\"\"\n",
        "    # LightGBM が扱う形式に変換\n",
        "    lgb_train: lgb.Dataset = lgb.Dataset(tr_x, tr_y)\n",
        "    lgb_eval: lgb.Dataset = lgb.Dataset(va_x, va_y)\n",
        "\n",
        "    # ハイパーパラメータ\n",
        "    if len(params) == 0:\n",
        "        params = {'objective': 'regression', 'metrics': 'l1', 'seed': 71}\n",
        "\n",
        "    # 学習の実施\n",
        "    booster = lgb.train(params, lgb_train, \n",
        "                        valid_names=['train', 'valid'],\n",
        "                        valid_sets=[lgb_train, lgb_eval],\n",
        "                        verbose_eval=False)\n",
        "    return booster"
      ],
      "execution_count": null,
      "outputs": []
    },
    {
      "cell_type": "markdown",
      "metadata": {
        "id": "kx3QIj3vyKiJ"
      },
      "source": [
        "クロスバリデーションの準備"
      ]
    },
    {
      "cell_type": "code",
      "metadata": {
        "id": "8X60nrGwyK9x"
      },
      "source": [
        "from sklearn.model_selection import KFold\n",
        "kf = KFold(n_splits=4, shuffle=True, random_state=71)"
      ],
      "execution_count": null,
      "outputs": []
    },
    {
      "cell_type": "markdown",
      "metadata": {
        "id": "iSb_KTCF6XxL"
      },
      "source": [
        "## 学習の実施"
      ]
    },
    {
      "cell_type": "markdown",
      "metadata": {
        "id": "Z_IchKhnTPdE"
      },
      "source": [
        "学習の実施"
      ]
    },
    {
      "cell_type": "code",
      "metadata": {
        "id": "TzPu6BYpdq30",
        "outputId": "0b87c20e-3476-463f-8179-b762cdcadc25",
        "colab": {
          "base_uri": "https://localhost:8080/",
          "height": 432
        }
      },
      "source": [
        "# 学習・バリデーションデータの分離\n",
        "tr_idx, va_idx = list(kf.split(train_x))[0]\n",
        "tr_x, va_x = train_x.iloc[tr_idx], train_x.iloc[va_idx]\n",
        "tr_y, va_y = train_y.iloc[tr_idx], train_y.iloc[va_idx]\n",
        "\n",
        "# 学習\n",
        "model: lgb.Booster = Fit(tr_x, tr_y, va_x, va_y)\n",
        "\n",
        "# 特徴量評価\n",
        "importance = pd.DataFrame(model.feature_importance(),\n",
        "                          index=tr_x.columns.values, \n",
        "                          columns=[\"importance\"])\n",
        "display(importance)"
      ],
      "execution_count": null,
      "outputs": [
        {
          "output_type": "display_data",
          "data": {
            "text/html": [
              "<div>\n",
              "<style scoped>\n",
              "    .dataframe tbody tr th:only-of-type {\n",
              "        vertical-align: middle;\n",
              "    }\n",
              "\n",
              "    .dataframe tbody tr th {\n",
              "        vertical-align: top;\n",
              "    }\n",
              "\n",
              "    .dataframe thead th {\n",
              "        text-align: right;\n",
              "    }\n",
              "</style>\n",
              "<table border=\"1\" class=\"dataframe\">\n",
              "  <thead>\n",
              "    <tr style=\"text-align: right;\">\n",
              "      <th></th>\n",
              "      <th>importance</th>\n",
              "    </tr>\n",
              "  </thead>\n",
              "  <tbody>\n",
              "    <tr>\n",
              "      <th>CRIM</th>\n",
              "      <td>145</td>\n",
              "    </tr>\n",
              "    <tr>\n",
              "      <th>ZN</th>\n",
              "      <td>5</td>\n",
              "    </tr>\n",
              "    <tr>\n",
              "      <th>INDUS</th>\n",
              "      <td>55</td>\n",
              "    </tr>\n",
              "    <tr>\n",
              "      <th>CHAS</th>\n",
              "      <td>6</td>\n",
              "    </tr>\n",
              "    <tr>\n",
              "      <th>NOX</th>\n",
              "      <td>128</td>\n",
              "    </tr>\n",
              "    <tr>\n",
              "      <th>RM</th>\n",
              "      <td>205</td>\n",
              "    </tr>\n",
              "    <tr>\n",
              "      <th>AGE</th>\n",
              "      <td>149</td>\n",
              "    </tr>\n",
              "    <tr>\n",
              "      <th>DIS</th>\n",
              "      <td>222</td>\n",
              "    </tr>\n",
              "    <tr>\n",
              "      <th>RAD</th>\n",
              "      <td>28</td>\n",
              "    </tr>\n",
              "    <tr>\n",
              "      <th>TAX</th>\n",
              "      <td>67</td>\n",
              "    </tr>\n",
              "    <tr>\n",
              "      <th>PTRATIO</th>\n",
              "      <td>60</td>\n",
              "    </tr>\n",
              "    <tr>\n",
              "      <th>B</th>\n",
              "      <td>133</td>\n",
              "    </tr>\n",
              "    <tr>\n",
              "      <th>LSTAT</th>\n",
              "      <td>218</td>\n",
              "    </tr>\n",
              "  </tbody>\n",
              "</table>\n",
              "</div>"
            ],
            "text/plain": [
              "         importance\n",
              "CRIM            145\n",
              "ZN                5\n",
              "INDUS            55\n",
              "CHAS              6\n",
              "NOX             128\n",
              "RM              205\n",
              "AGE             149\n",
              "DIS             222\n",
              "RAD              28\n",
              "TAX              67\n",
              "PTRATIO          60\n",
              "B               133\n",
              "LSTAT           218"
            ]
          },
          "metadata": {
            "tags": []
          }
        }
      ]
    },
    {
      "cell_type": "markdown",
      "metadata": {
        "id": "CVrVE45BhW1c"
      },
      "source": [
        "バリデーションの実施"
      ]
    },
    {
      "cell_type": "code",
      "metadata": {
        "id": "TCJbAAcJhV2t",
        "outputId": "f3926847-2511-43cc-af6f-62b91cf9633f",
        "colab": {
          "base_uri": "https://localhost:8080/",
          "height": 34
        }
      },
      "source": [
        "import numpy as np\n",
        "from sklearn.metrics import mean_absolute_error\n",
        "\n",
        "va_pred: np.ndarray = model.predict(va_x)\n",
        "score: float = mean_absolute_error(va_y, va_pred)\n",
        "print(f'MAE: {score:.4f}')"
      ],
      "execution_count": null,
      "outputs": [
        {
          "output_type": "stream",
          "text": [
            "MAE: 2.2260\n"
          ],
          "name": "stdout"
        }
      ]
    },
    {
      "cell_type": "markdown",
      "metadata": {
        "id": "vY-D8kwb6ck3"
      },
      "source": [
        "## クロスバリデーションとハイパーパラメータの調整"
      ]
    },
    {
      "cell_type": "markdown",
      "metadata": {
        "id": "NTwnKB1KhGqB"
      },
      "source": [
        "クロスバリデーションを行う関数を定義"
      ]
    },
    {
      "cell_type": "code",
      "metadata": {
        "id": "S_FNl_uSS7Wd"
      },
      "source": [
        "from hyperopt import STATUS_OK\n",
        "\n",
        "def score(params):\n",
        "    scores = []\n",
        "    for tr_idx, va_idx in kf.split(train_x):\n",
        "        # 学習・バリデーションデータの分離\n",
        "        tr_x, va_x = train_x.iloc[tr_idx], train_x.iloc[va_idx]\n",
        "        tr_y, va_y = train_y.iloc[tr_idx], train_y.iloc[va_idx]\n",
        "\n",
        "        # 学習\n",
        "        model = Fit(tr_x, tr_y, va_x, va_y)\n",
        "\n",
        "        # バリデーション\n",
        "        va_pred = model.predict(va_x)\n",
        "        score = mean_absolute_error(va_y, va_pred)\n",
        "        scores.append(score)\n",
        "        \n",
        "    # 情報を記録しておく\n",
        "    score_ave = np.mean(scores)\n",
        "    history.append((params, score_ave))\n",
        "\n",
        "    return {'loss': score_ave, 'status': STATUS_OK}"
      ],
      "execution_count": null,
      "outputs": []
    },
    {
      "cell_type": "markdown",
      "metadata": {
        "id": "_JJItyvyF-33"
      },
      "source": [
        "探索するパラメータの空間を指定\n",
        "\n",
        "cf. [Laurae++: PARAMETERS](https://sites.google.com/view/lauraepp/parameters)"
      ]
    },
    {
      "cell_type": "code",
      "metadata": {
        "id": "tPSlcS3WF1QS"
      },
      "source": [
        "from hyperopt import hp\n",
        "\n",
        "space = {\n",
        "    'num_leaves': hp.quniform('num_leaves', 50, 200, 10),\n",
        "    'max_depth': hp.quniform('max_depth', 3, 10, 1),\n",
        "    'min_data_in_leaf': hp.quniform('min_data_in_leaf',  5, 25, 2),\n",
        "    'colsample_bytree': hp.uniform('colsample_bytree', 0.5, 1.0),\n",
        "    'learning_rate': hp.uniform('learning_rate', 0.03, 0.2),\n",
        "    'subsample': hp.uniform('subsample', 0.5, 1.0)\n",
        "}"
      ],
      "execution_count": null,
      "outputs": []
    },
    {
      "cell_type": "markdown",
      "metadata": {
        "id": "4fKV6XsH2-gZ"
      },
      "source": [
        "hyperoptによるパラメータ探索の実行"
      ]
    },
    {
      "cell_type": "code",
      "metadata": {
        "id": "S20on1Ug222c",
        "outputId": "619350c6-73ab-49be-850e-27d3c25ccd80",
        "colab": {
          "base_uri": "https://localhost:8080/",
          "height": 140
        }
      },
      "source": [
        "from hyperopt import fmin, tpe, Trials\n",
        "\n",
        "trials = Trials()\n",
        "history = []\n",
        "fmin(score, space, algo=tpe.suggest, trials=trials, max_evals=200)"
      ],
      "execution_count": null,
      "outputs": [
        {
          "output_type": "stream",
          "text": [
            "100%|██████████| 200/200 [01:33<00:00,  2.15it/s, best loss: 2.2817945860126856]\n"
          ],
          "name": "stdout"
        },
        {
          "output_type": "execute_result",
          "data": {
            "text/plain": [
              "{'colsample_bytree': 0.8665393305457109,\n",
              " 'learning_rate': 0.04691483835368401,\n",
              " 'max_depth': 8.0,\n",
              " 'min_data_in_leaf': 10.0,\n",
              " 'num_leaves': 120.0,\n",
              " 'subsample': 0.9570367904211257}"
            ]
          },
          "metadata": {
            "tags": []
          },
          "execution_count": 9
        }
      ]
    },
    {
      "cell_type": "markdown",
      "metadata": {
        "id": "iYIjp67eHe82"
      },
      "source": [
        "記録した情報からスコアを出力"
      ]
    },
    {
      "cell_type": "code",
      "metadata": {
        "id": "5xNn-pB3HccU",
        "outputId": "f8e9683a-759e-497f-b95e-33506b7fff79",
        "colab": {
          "base_uri": "https://localhost:8080/",
          "height": 72
        }
      },
      "source": [
        "history = sorted(history, key=lambda tpl: tpl[1])\n",
        "# 最新の履歴\n",
        "best = history[0]\n",
        "print(f'params: {best[0]}')\n",
        "print(f'score: {best[1]:.4f}')"
      ],
      "execution_count": null,
      "outputs": [
        {
          "output_type": "stream",
          "text": [
            "params: {'colsample_bytree': 0.8665393305457109, 'learning_rate': 0.04691483835368401, 'max_depth': 8.0, 'min_data_in_leaf': 10.0, 'num_leaves': 120.0, 'subsample': 0.9570367904211257}\n",
            "score: 2.2818\n"
          ],
          "name": "stdout"
        }
      ]
    }
  ]
}
