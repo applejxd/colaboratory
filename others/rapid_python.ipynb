{
  "nbformat": 4,
  "nbformat_minor": 0,
  "metadata": {
    "colab": {
      "provenance": [],
      "authorship_tag": "ABX9TyNgNX7xlye4Uw9OpuCODXPe",
      "include_colab_link": true
    },
    "kernelspec": {
      "name": "python3",
      "display_name": "Python 3"
    },
    "language_info": {
      "name": "python"
    },
    "accelerator": "GPU",
    "gpuClass": "standard",
    "widgets": {
      "application/vnd.jupyter.widget-state+json": {
        "ffdaae7b836447f0a09b18d40fdac4ce": {
          "model_module": "@jupyter-widgets/controls",
          "model_name": "HBoxModel",
          "model_module_version": "1.5.0",
          "state": {
            "_dom_classes": [],
            "_model_module": "@jupyter-widgets/controls",
            "_model_module_version": "1.5.0",
            "_model_name": "HBoxModel",
            "_view_count": null,
            "_view_module": "@jupyter-widgets/controls",
            "_view_module_version": "1.5.0",
            "_view_name": "HBoxView",
            "box_style": "",
            "children": [
              "IPY_MODEL_cb4fa40b7a2e4b02814b43d961730f37",
              "IPY_MODEL_01048924e6c84deeabb1e8ae95256530",
              "IPY_MODEL_023ab2ab67664dd7909a3cd7f8ec7168"
            ],
            "layout": "IPY_MODEL_8bdf39ff963f48ffb30a0f525232b7e1"
          }
        },
        "cb4fa40b7a2e4b02814b43d961730f37": {
          "model_module": "@jupyter-widgets/controls",
          "model_name": "HTMLModel",
          "model_module_version": "1.5.0",
          "state": {
            "_dom_classes": [],
            "_model_module": "@jupyter-widgets/controls",
            "_model_module_version": "1.5.0",
            "_model_name": "HTMLModel",
            "_view_count": null,
            "_view_module": "@jupyter-widgets/controls",
            "_view_module_version": "1.5.0",
            "_view_name": "HTMLView",
            "description": "",
            "description_tooltip": null,
            "layout": "IPY_MODEL_84a6fc196dd9447b8d6e55d7f5b23372",
            "placeholder": "​",
            "style": "IPY_MODEL_9d9b8969f07e4d57bf93174700b14738",
            "value": "100%"
          }
        },
        "01048924e6c84deeabb1e8ae95256530": {
          "model_module": "@jupyter-widgets/controls",
          "model_name": "FloatProgressModel",
          "model_module_version": "1.5.0",
          "state": {
            "_dom_classes": [],
            "_model_module": "@jupyter-widgets/controls",
            "_model_module_version": "1.5.0",
            "_model_name": "FloatProgressModel",
            "_view_count": null,
            "_view_module": "@jupyter-widgets/controls",
            "_view_module_version": "1.5.0",
            "_view_name": "ProgressView",
            "bar_style": "success",
            "description": "",
            "description_tooltip": null,
            "layout": "IPY_MODEL_0b38d8031f2a41a49820808952da744c",
            "max": 6,
            "min": 0,
            "orientation": "horizontal",
            "style": "IPY_MODEL_17e0211d10404bf1bad26be7487bb314",
            "value": 6
          }
        },
        "023ab2ab67664dd7909a3cd7f8ec7168": {
          "model_module": "@jupyter-widgets/controls",
          "model_name": "HTMLModel",
          "model_module_version": "1.5.0",
          "state": {
            "_dom_classes": [],
            "_model_module": "@jupyter-widgets/controls",
            "_model_module_version": "1.5.0",
            "_model_name": "HTMLModel",
            "_view_count": null,
            "_view_module": "@jupyter-widgets/controls",
            "_view_module_version": "1.5.0",
            "_view_name": "HTMLView",
            "description": "",
            "description_tooltip": null,
            "layout": "IPY_MODEL_662d7426c2264980b8f88e7cf361d635",
            "placeholder": "​",
            "style": "IPY_MODEL_6f801cd289ad457a8a49d7b658c606a7",
            "value": " 6/6 [00:00&lt;00:00,  4.12it/s]"
          }
        },
        "8bdf39ff963f48ffb30a0f525232b7e1": {
          "model_module": "@jupyter-widgets/base",
          "model_name": "LayoutModel",
          "model_module_version": "1.2.0",
          "state": {
            "_model_module": "@jupyter-widgets/base",
            "_model_module_version": "1.2.0",
            "_model_name": "LayoutModel",
            "_view_count": null,
            "_view_module": "@jupyter-widgets/base",
            "_view_module_version": "1.2.0",
            "_view_name": "LayoutView",
            "align_content": null,
            "align_items": null,
            "align_self": null,
            "border": null,
            "bottom": null,
            "display": null,
            "flex": null,
            "flex_flow": null,
            "grid_area": null,
            "grid_auto_columns": null,
            "grid_auto_flow": null,
            "grid_auto_rows": null,
            "grid_column": null,
            "grid_gap": null,
            "grid_row": null,
            "grid_template_areas": null,
            "grid_template_columns": null,
            "grid_template_rows": null,
            "height": null,
            "justify_content": null,
            "justify_items": null,
            "left": null,
            "margin": null,
            "max_height": null,
            "max_width": null,
            "min_height": null,
            "min_width": null,
            "object_fit": null,
            "object_position": null,
            "order": null,
            "overflow": null,
            "overflow_x": null,
            "overflow_y": null,
            "padding": null,
            "right": null,
            "top": null,
            "visibility": null,
            "width": null
          }
        },
        "84a6fc196dd9447b8d6e55d7f5b23372": {
          "model_module": "@jupyter-widgets/base",
          "model_name": "LayoutModel",
          "model_module_version": "1.2.0",
          "state": {
            "_model_module": "@jupyter-widgets/base",
            "_model_module_version": "1.2.0",
            "_model_name": "LayoutModel",
            "_view_count": null,
            "_view_module": "@jupyter-widgets/base",
            "_view_module_version": "1.2.0",
            "_view_name": "LayoutView",
            "align_content": null,
            "align_items": null,
            "align_self": null,
            "border": null,
            "bottom": null,
            "display": null,
            "flex": null,
            "flex_flow": null,
            "grid_area": null,
            "grid_auto_columns": null,
            "grid_auto_flow": null,
            "grid_auto_rows": null,
            "grid_column": null,
            "grid_gap": null,
            "grid_row": null,
            "grid_template_areas": null,
            "grid_template_columns": null,
            "grid_template_rows": null,
            "height": null,
            "justify_content": null,
            "justify_items": null,
            "left": null,
            "margin": null,
            "max_height": null,
            "max_width": null,
            "min_height": null,
            "min_width": null,
            "object_fit": null,
            "object_position": null,
            "order": null,
            "overflow": null,
            "overflow_x": null,
            "overflow_y": null,
            "padding": null,
            "right": null,
            "top": null,
            "visibility": null,
            "width": null
          }
        },
        "9d9b8969f07e4d57bf93174700b14738": {
          "model_module": "@jupyter-widgets/controls",
          "model_name": "DescriptionStyleModel",
          "model_module_version": "1.5.0",
          "state": {
            "_model_module": "@jupyter-widgets/controls",
            "_model_module_version": "1.5.0",
            "_model_name": "DescriptionStyleModel",
            "_view_count": null,
            "_view_module": "@jupyter-widgets/base",
            "_view_module_version": "1.2.0",
            "_view_name": "StyleView",
            "description_width": ""
          }
        },
        "0b38d8031f2a41a49820808952da744c": {
          "model_module": "@jupyter-widgets/base",
          "model_name": "LayoutModel",
          "model_module_version": "1.2.0",
          "state": {
            "_model_module": "@jupyter-widgets/base",
            "_model_module_version": "1.2.0",
            "_model_name": "LayoutModel",
            "_view_count": null,
            "_view_module": "@jupyter-widgets/base",
            "_view_module_version": "1.2.0",
            "_view_name": "LayoutView",
            "align_content": null,
            "align_items": null,
            "align_self": null,
            "border": null,
            "bottom": null,
            "display": null,
            "flex": null,
            "flex_flow": null,
            "grid_area": null,
            "grid_auto_columns": null,
            "grid_auto_flow": null,
            "grid_auto_rows": null,
            "grid_column": null,
            "grid_gap": null,
            "grid_row": null,
            "grid_template_areas": null,
            "grid_template_columns": null,
            "grid_template_rows": null,
            "height": null,
            "justify_content": null,
            "justify_items": null,
            "left": null,
            "margin": null,
            "max_height": null,
            "max_width": null,
            "min_height": null,
            "min_width": null,
            "object_fit": null,
            "object_position": null,
            "order": null,
            "overflow": null,
            "overflow_x": null,
            "overflow_y": null,
            "padding": null,
            "right": null,
            "top": null,
            "visibility": null,
            "width": null
          }
        },
        "17e0211d10404bf1bad26be7487bb314": {
          "model_module": "@jupyter-widgets/controls",
          "model_name": "ProgressStyleModel",
          "model_module_version": "1.5.0",
          "state": {
            "_model_module": "@jupyter-widgets/controls",
            "_model_module_version": "1.5.0",
            "_model_name": "ProgressStyleModel",
            "_view_count": null,
            "_view_module": "@jupyter-widgets/base",
            "_view_module_version": "1.2.0",
            "_view_name": "StyleView",
            "bar_color": null,
            "description_width": ""
          }
        },
        "662d7426c2264980b8f88e7cf361d635": {
          "model_module": "@jupyter-widgets/base",
          "model_name": "LayoutModel",
          "model_module_version": "1.2.0",
          "state": {
            "_model_module": "@jupyter-widgets/base",
            "_model_module_version": "1.2.0",
            "_model_name": "LayoutModel",
            "_view_count": null,
            "_view_module": "@jupyter-widgets/base",
            "_view_module_version": "1.2.0",
            "_view_name": "LayoutView",
            "align_content": null,
            "align_items": null,
            "align_self": null,
            "border": null,
            "bottom": null,
            "display": null,
            "flex": null,
            "flex_flow": null,
            "grid_area": null,
            "grid_auto_columns": null,
            "grid_auto_flow": null,
            "grid_auto_rows": null,
            "grid_column": null,
            "grid_gap": null,
            "grid_row": null,
            "grid_template_areas": null,
            "grid_template_columns": null,
            "grid_template_rows": null,
            "height": null,
            "justify_content": null,
            "justify_items": null,
            "left": null,
            "margin": null,
            "max_height": null,
            "max_width": null,
            "min_height": null,
            "min_width": null,
            "object_fit": null,
            "object_position": null,
            "order": null,
            "overflow": null,
            "overflow_x": null,
            "overflow_y": null,
            "padding": null,
            "right": null,
            "top": null,
            "visibility": null,
            "width": null
          }
        },
        "6f801cd289ad457a8a49d7b658c606a7": {
          "model_module": "@jupyter-widgets/controls",
          "model_name": "DescriptionStyleModel",
          "model_module_version": "1.5.0",
          "state": {
            "_model_module": "@jupyter-widgets/controls",
            "_model_module_version": "1.5.0",
            "_model_name": "DescriptionStyleModel",
            "_view_count": null,
            "_view_module": "@jupyter-widgets/base",
            "_view_module_version": "1.2.0",
            "_view_name": "StyleView",
            "description_width": ""
          }
        },
        "eca1c555b15c4c4d9e9bf6b6c79fd5dc": {
          "model_module": "@jupyter-widgets/controls",
          "model_name": "HBoxModel",
          "model_module_version": "1.5.0",
          "state": {
            "_dom_classes": [],
            "_model_module": "@jupyter-widgets/controls",
            "_model_module_version": "1.5.0",
            "_model_name": "HBoxModel",
            "_view_count": null,
            "_view_module": "@jupyter-widgets/controls",
            "_view_module_version": "1.5.0",
            "_view_name": "HBoxView",
            "box_style": "",
            "children": [
              "IPY_MODEL_25ad46aa766f433d84913015c2352957",
              "IPY_MODEL_da263050156244c2b40ba915323a8b83",
              "IPY_MODEL_e2ec663a95ed4ecd938ca913265d863b"
            ],
            "layout": "IPY_MODEL_c8ffea31a3c84377aad1a462e0b58f1c"
          }
        },
        "25ad46aa766f433d84913015c2352957": {
          "model_module": "@jupyter-widgets/controls",
          "model_name": "HTMLModel",
          "model_module_version": "1.5.0",
          "state": {
            "_dom_classes": [],
            "_model_module": "@jupyter-widgets/controls",
            "_model_module_version": "1.5.0",
            "_model_name": "HTMLModel",
            "_view_count": null,
            "_view_module": "@jupyter-widgets/controls",
            "_view_module_version": "1.5.0",
            "_view_name": "HTMLView",
            "description": "",
            "description_tooltip": null,
            "layout": "IPY_MODEL_03f8614b8ed34950a4a5582d39cb31e5",
            "placeholder": "​",
            "style": "IPY_MODEL_524c584ff8fd468d8a7dd66a6a59f63d",
            "value": "100%"
          }
        },
        "da263050156244c2b40ba915323a8b83": {
          "model_module": "@jupyter-widgets/controls",
          "model_name": "FloatProgressModel",
          "model_module_version": "1.5.0",
          "state": {
            "_dom_classes": [],
            "_model_module": "@jupyter-widgets/controls",
            "_model_module_version": "1.5.0",
            "_model_name": "FloatProgressModel",
            "_view_count": null,
            "_view_module": "@jupyter-widgets/controls",
            "_view_module_version": "1.5.0",
            "_view_name": "ProgressView",
            "bar_style": "success",
            "description": "",
            "description_tooltip": null,
            "layout": "IPY_MODEL_2e91dc3f74894c508000b08a744662d8",
            "max": 10,
            "min": 0,
            "orientation": "horizontal",
            "style": "IPY_MODEL_e2a45bf0225f48bf8ae0546439887444",
            "value": 10
          }
        },
        "e2ec663a95ed4ecd938ca913265d863b": {
          "model_module": "@jupyter-widgets/controls",
          "model_name": "HTMLModel",
          "model_module_version": "1.5.0",
          "state": {
            "_dom_classes": [],
            "_model_module": "@jupyter-widgets/controls",
            "_model_module_version": "1.5.0",
            "_model_name": "HTMLModel",
            "_view_count": null,
            "_view_module": "@jupyter-widgets/controls",
            "_view_module_version": "1.5.0",
            "_view_name": "HTMLView",
            "description": "",
            "description_tooltip": null,
            "layout": "IPY_MODEL_9739691b36374178bcbf4dabfdfa488d",
            "placeholder": "​",
            "style": "IPY_MODEL_324eebaf11d84a918123c401d8c9f56a",
            "value": " 10/10 [00:00&lt;00:00, 10.97it/s]"
          }
        },
        "c8ffea31a3c84377aad1a462e0b58f1c": {
          "model_module": "@jupyter-widgets/base",
          "model_name": "LayoutModel",
          "model_module_version": "1.2.0",
          "state": {
            "_model_module": "@jupyter-widgets/base",
            "_model_module_version": "1.2.0",
            "_model_name": "LayoutModel",
            "_view_count": null,
            "_view_module": "@jupyter-widgets/base",
            "_view_module_version": "1.2.0",
            "_view_name": "LayoutView",
            "align_content": null,
            "align_items": null,
            "align_self": null,
            "border": null,
            "bottom": null,
            "display": null,
            "flex": null,
            "flex_flow": null,
            "grid_area": null,
            "grid_auto_columns": null,
            "grid_auto_flow": null,
            "grid_auto_rows": null,
            "grid_column": null,
            "grid_gap": null,
            "grid_row": null,
            "grid_template_areas": null,
            "grid_template_columns": null,
            "grid_template_rows": null,
            "height": null,
            "justify_content": null,
            "justify_items": null,
            "left": null,
            "margin": null,
            "max_height": null,
            "max_width": null,
            "min_height": null,
            "min_width": null,
            "object_fit": null,
            "object_position": null,
            "order": null,
            "overflow": null,
            "overflow_x": null,
            "overflow_y": null,
            "padding": null,
            "right": null,
            "top": null,
            "visibility": null,
            "width": null
          }
        },
        "03f8614b8ed34950a4a5582d39cb31e5": {
          "model_module": "@jupyter-widgets/base",
          "model_name": "LayoutModel",
          "model_module_version": "1.2.0",
          "state": {
            "_model_module": "@jupyter-widgets/base",
            "_model_module_version": "1.2.0",
            "_model_name": "LayoutModel",
            "_view_count": null,
            "_view_module": "@jupyter-widgets/base",
            "_view_module_version": "1.2.0",
            "_view_name": "LayoutView",
            "align_content": null,
            "align_items": null,
            "align_self": null,
            "border": null,
            "bottom": null,
            "display": null,
            "flex": null,
            "flex_flow": null,
            "grid_area": null,
            "grid_auto_columns": null,
            "grid_auto_flow": null,
            "grid_auto_rows": null,
            "grid_column": null,
            "grid_gap": null,
            "grid_row": null,
            "grid_template_areas": null,
            "grid_template_columns": null,
            "grid_template_rows": null,
            "height": null,
            "justify_content": null,
            "justify_items": null,
            "left": null,
            "margin": null,
            "max_height": null,
            "max_width": null,
            "min_height": null,
            "min_width": null,
            "object_fit": null,
            "object_position": null,
            "order": null,
            "overflow": null,
            "overflow_x": null,
            "overflow_y": null,
            "padding": null,
            "right": null,
            "top": null,
            "visibility": null,
            "width": null
          }
        },
        "524c584ff8fd468d8a7dd66a6a59f63d": {
          "model_module": "@jupyter-widgets/controls",
          "model_name": "DescriptionStyleModel",
          "model_module_version": "1.5.0",
          "state": {
            "_model_module": "@jupyter-widgets/controls",
            "_model_module_version": "1.5.0",
            "_model_name": "DescriptionStyleModel",
            "_view_count": null,
            "_view_module": "@jupyter-widgets/base",
            "_view_module_version": "1.2.0",
            "_view_name": "StyleView",
            "description_width": ""
          }
        },
        "2e91dc3f74894c508000b08a744662d8": {
          "model_module": "@jupyter-widgets/base",
          "model_name": "LayoutModel",
          "model_module_version": "1.2.0",
          "state": {
            "_model_module": "@jupyter-widgets/base",
            "_model_module_version": "1.2.0",
            "_model_name": "LayoutModel",
            "_view_count": null,
            "_view_module": "@jupyter-widgets/base",
            "_view_module_version": "1.2.0",
            "_view_name": "LayoutView",
            "align_content": null,
            "align_items": null,
            "align_self": null,
            "border": null,
            "bottom": null,
            "display": null,
            "flex": null,
            "flex_flow": null,
            "grid_area": null,
            "grid_auto_columns": null,
            "grid_auto_flow": null,
            "grid_auto_rows": null,
            "grid_column": null,
            "grid_gap": null,
            "grid_row": null,
            "grid_template_areas": null,
            "grid_template_columns": null,
            "grid_template_rows": null,
            "height": null,
            "justify_content": null,
            "justify_items": null,
            "left": null,
            "margin": null,
            "max_height": null,
            "max_width": null,
            "min_height": null,
            "min_width": null,
            "object_fit": null,
            "object_position": null,
            "order": null,
            "overflow": null,
            "overflow_x": null,
            "overflow_y": null,
            "padding": null,
            "right": null,
            "top": null,
            "visibility": null,
            "width": null
          }
        },
        "e2a45bf0225f48bf8ae0546439887444": {
          "model_module": "@jupyter-widgets/controls",
          "model_name": "ProgressStyleModel",
          "model_module_version": "1.5.0",
          "state": {
            "_model_module": "@jupyter-widgets/controls",
            "_model_module_version": "1.5.0",
            "_model_name": "ProgressStyleModel",
            "_view_count": null,
            "_view_module": "@jupyter-widgets/base",
            "_view_module_version": "1.2.0",
            "_view_name": "StyleView",
            "bar_color": null,
            "description_width": ""
          }
        },
        "9739691b36374178bcbf4dabfdfa488d": {
          "model_module": "@jupyter-widgets/base",
          "model_name": "LayoutModel",
          "model_module_version": "1.2.0",
          "state": {
            "_model_module": "@jupyter-widgets/base",
            "_model_module_version": "1.2.0",
            "_model_name": "LayoutModel",
            "_view_count": null,
            "_view_module": "@jupyter-widgets/base",
            "_view_module_version": "1.2.0",
            "_view_name": "LayoutView",
            "align_content": null,
            "align_items": null,
            "align_self": null,
            "border": null,
            "bottom": null,
            "display": null,
            "flex": null,
            "flex_flow": null,
            "grid_area": null,
            "grid_auto_columns": null,
            "grid_auto_flow": null,
            "grid_auto_rows": null,
            "grid_column": null,
            "grid_gap": null,
            "grid_row": null,
            "grid_template_areas": null,
            "grid_template_columns": null,
            "grid_template_rows": null,
            "height": null,
            "justify_content": null,
            "justify_items": null,
            "left": null,
            "margin": null,
            "max_height": null,
            "max_width": null,
            "min_height": null,
            "min_width": null,
            "object_fit": null,
            "object_position": null,
            "order": null,
            "overflow": null,
            "overflow_x": null,
            "overflow_y": null,
            "padding": null,
            "right": null,
            "top": null,
            "visibility": null,
            "width": null
          }
        },
        "324eebaf11d84a918123c401d8c9f56a": {
          "model_module": "@jupyter-widgets/controls",
          "model_name": "DescriptionStyleModel",
          "model_module_version": "1.5.0",
          "state": {
            "_model_module": "@jupyter-widgets/controls",
            "_model_module_version": "1.5.0",
            "_model_name": "DescriptionStyleModel",
            "_view_count": null,
            "_view_module": "@jupyter-widgets/base",
            "_view_module_version": "1.2.0",
            "_view_name": "StyleView",
            "description_width": ""
          }
        }
      }
    }
  },
  "cells": [
    {
      "cell_type": "markdown",
      "metadata": {
        "id": "view-in-github",
        "colab_type": "text"
      },
      "source": [
        "<a href=\"https://colab.research.google.com/github/applejxd/colaboratory/blob/master/others/rapid_python.ipynb\" target=\"_parent\"><img src=\"https://colab.research.google.com/assets/colab-badge.svg\" alt=\"Open In Colab\"/></a>"
      ]
    },
    {
      "cell_type": "markdown",
      "source": [
        "## numba での高速化"
      ],
      "metadata": {
        "id": "8IdvJH2vMY8Q"
      }
    },
    {
      "cell_type": "markdown",
      "source": [
        "### njit: numba の nopython モード"
      ],
      "metadata": {
        "id": "IzedeV8I4L9-"
      }
    },
    {
      "cell_type": "markdown",
      "source": [
        "[numpy での重い計算の例](https://qiita.com/gyu-don/items/9d223b007ca620e95abc)"
      ],
      "metadata": {
        "id": "Tl2lr6Ye0Bfj"
      }
    },
    {
      "cell_type": "code",
      "execution_count": 43,
      "metadata": {
        "id": "q7gnobz9z72j"
      },
      "outputs": [],
      "source": [
        "import sys\n",
        "sys.setrecursionlimit(100000)\n",
        "\n",
        "def ack(m, n):\n",
        "    if m == 0:\n",
        "        return n + 1\n",
        "    if n == 0:\n",
        "        return ack(m - 1, 1)\n",
        "    return ack(m - 1, ack(m, n - 1))"
      ]
    },
    {
      "cell_type": "markdown",
      "source": [
        "通常時の計算時間を測定"
      ],
      "metadata": {
        "id": "HM09YR631y6L"
      }
    },
    {
      "cell_type": "code",
      "source": [
        "import time\n",
        "from contextlib import contextmanager\n",
        "\n",
        "@contextmanager\n",
        "def timer(target: str):\n",
        "    t = time.perf_counter()\n",
        "    yield None\n",
        "    # 有効数字3桁表示\n",
        "    print(f\"[{target}]: {time.perf_counter() - t: .3g} s\")\n",
        "\n",
        "with timer(\"ack(3, 10)\"):\n",
        "    ack(3, 10)"
      ],
      "metadata": {
        "colab": {
          "base_uri": "https://localhost:8080/"
        },
        "id": "VmDSM--G1sZ0",
        "outputId": "d98b2897-310e-4916-98e7-afddea287e03"
      },
      "execution_count": 44,
      "outputs": [
        {
          "output_type": "stream",
          "name": "stdout",
          "text": [
            "[ack(3, 10)]:  8.89 s\n"
          ]
        }
      ]
    },
    {
      "cell_type": "markdown",
      "source": [
        "njit で高速化。[型推論は自動。ポリモーフィズムも対応。](https://numba.readthedocs.io/en/stable/user/jit.html)"
      ],
      "metadata": {
        "id": "rceYjPsx4OgL"
      }
    },
    {
      "cell_type": "code",
      "source": [
        "from numba import njit\n",
        "\n",
        "with timer(\"define njit function\"):\n",
        "    @njit(cache=True)\n",
        "    def lazy_ack(m, n):\n",
        "        if m == 0:\n",
        "            return n + 1\n",
        "        if n == 0:\n",
        "            return lazy_ack(m - 1, 1)\n",
        "        return lazy_ack(m - 1, lazy_ack(m, n - 1))\n",
        "\n",
        "# コンパイル時間含む\n",
        "with timer(\"1st try\"):\n",
        "    lazy_ack(3, 10)\n",
        "\n",
        "# コンパイル時間含まない\n",
        "with timer(\"2nd try\"):\n",
        "    lazy_ack(3, 10)"
      ],
      "metadata": {
        "colab": {
          "base_uri": "https://localhost:8080/"
        },
        "id": "vTYXlQfi1340",
        "outputId": "afa109fd-31b4-4fca-c705-7266cfd1b00b"
      },
      "execution_count": 45,
      "outputs": [
        {
          "output_type": "stream",
          "name": "stdout",
          "text": [
            "[define njit function]:  0.00184 s\n",
            "[1st try]:  0.615 s\n",
            "[2nd try]:  0.239 s\n"
          ]
        }
      ]
    },
    {
      "cell_type": "markdown",
      "source": [
        "定義時に型指定でコンパイル。トータル時間は変化なし。\n",
        "ポリモーフィズムもないため処理速度を図る目的等がなければ使わなくてもよい。"
      ],
      "metadata": {
        "id": "vnlzwn-d4I1u"
      }
    },
    {
      "cell_type": "code",
      "source": [
        "with timer(\"define njit function\"):\n",
        "    @njit(\"int32(int32, int32)\", cache=True)\n",
        "    def eager_ack(m, n):\n",
        "        if m == 0:\n",
        "            return n + 1\n",
        "        if n == 0:\n",
        "            return eager_ack(m - 1, 1)\n",
        "        return eager_ack(m - 1, eager_ack(m, n - 1))\n",
        "\n",
        "# 初回\n",
        "with timer(\"compile time included\"):\n",
        "    eager_ack(3, 10)\n",
        "\n",
        "# 事前にコンパイル済なので二回目以降の計算時間も同等\n",
        "with timer(\"compile time excluded\"):\n",
        "    eager_ack(3, 10)"
      ],
      "metadata": {
        "colab": {
          "base_uri": "https://localhost:8080/"
        },
        "id": "_Irxms7w1Cp4",
        "outputId": "27fafe75-dad7-4021-d919-3961ee7c46f1"
      },
      "execution_count": 46,
      "outputs": [
        {
          "output_type": "stream",
          "name": "stdout",
          "text": [
            "[define njit function]:  0.103 s\n",
            "[compile time included]:  0.236 s\n",
            "[compile time excluded]:  0.241 s\n"
          ]
        }
      ]
    },
    {
      "cell_type": "markdown",
      "source": [
        "### 並列化 & fastmath\n"
      ],
      "metadata": {
        "id": "_SAW0HDr79A5"
      }
    },
    {
      "cell_type": "markdown",
      "source": [
        "[検証が容易な2重ループの例](https://qiita.com/AnchorBlues/items/59a8543765549fe7bac0)\n",
        "\\begin{equation}\n",
        " S_L=\\sum_{i=0}^{L-1}\\sum_{j=0}^{L-1} (i-j)\n",
        "\\end{equation}"
      ],
      "metadata": {
        "id": "PfkZQqBI4foh"
      }
    },
    {
      "cell_type": "code",
      "source": [
        "def double_sum(size):\n",
        "    sum = 0\n",
        "    for i in range(size):\n",
        "        for j in range(size):\n",
        "            sum += i - j\n",
        "    return sum\n",
        "\n",
        "size = 10000\n",
        "\n",
        "with timer(\"pure python\"):\n",
        "    # 0 となることを確認\n",
        "    print(f\"ans={double_sum(size)}\")"
      ],
      "metadata": {
        "colab": {
          "base_uri": "https://localhost:8080/"
        },
        "id": "Lr8D90Wa4YJo",
        "outputId": "16f388b8-8157-40d4-e349-b1b06b6c2a70"
      },
      "execution_count": 47,
      "outputs": [
        {
          "output_type": "stream",
          "name": "stdout",
          "text": [
            "ans=0\n",
            "[pure python]:  8.33 s\n"
          ]
        }
      ]
    },
    {
      "cell_type": "markdown",
      "source": [
        "numba を用いたケース"
      ],
      "metadata": {
        "id": "uAFQloBC9Ks9"
      }
    },
    {
      "cell_type": "code",
      "source": [
        "with timer(\"define njit function\"):\n",
        "    @njit(\"int32(int32)\", cache=True)\n",
        "    def double_sum_njit(size):\n",
        "        sum = 0\n",
        "        for i in range(size):\n",
        "            for j in range(size):\n",
        "                sum += i - j\n",
        "        return sum\n",
        "\n",
        "with timer(\"njit enabled\"):\n",
        "    print(f\"ans={double_sum_njit(size)}\")"
      ],
      "metadata": {
        "colab": {
          "base_uri": "https://localhost:8080/"
        },
        "id": "VUPNzmDW5Jcn",
        "outputId": "852fd53d-338a-41de-8792-999b385b91e5"
      },
      "execution_count": 48,
      "outputs": [
        {
          "output_type": "stream",
          "name": "stdout",
          "text": [
            "[define njit function]:  0.0729 s\n",
            "ans=0\n",
            "[njit enabled]:  3.74e-05 s\n"
          ]
        }
      ]
    },
    {
      "cell_type": "markdown",
      "source": [
        "更に高速化するには[追加オプション](https://numba.readthedocs.io/en/stable/user/performance-tips.html)を使用する。\n",
        "\n",
        "次の例は prange を用いた並列化. ただしこのケースではマルチコア化のバウンドの方が大きいため高速化されない。"
      ],
      "metadata": {
        "id": "wkj6dg9j8kWk"
      }
    },
    {
      "cell_type": "code",
      "source": [
        "from numba import prange\n",
        "\n",
        "with timer(\"define njit function\"):\n",
        "    @njit(\"int32(int32)\", cache=True, parallel=True)\n",
        "    def double_sum_parallel(size):\n",
        "        sum = 0\n",
        "        # 並列化の対象のループには prange を使う\n",
        "        for i in prange(size):\n",
        "            for j in range(size):\n",
        "                sum += i - j\n",
        "        return sum\n",
        "\n",
        "with timer(\"njit with parallel\"):\n",
        "    print(f\"ans={double_sum_parallel(size)}\")"
      ],
      "metadata": {
        "colab": {
          "base_uri": "https://localhost:8080/"
        },
        "id": "DkJRD8v-5iCx",
        "outputId": "c149b48a-1888-4d33-ff5c-619d7dd16a7e"
      },
      "execution_count": 49,
      "outputs": [
        {
          "output_type": "stream",
          "name": "stdout",
          "text": [
            "[define njit function]:  0.32 s\n",
            "ans=0\n",
            "[njit with parallel]:  0.00307 s\n"
          ]
        }
      ]
    },
    {
      "cell_type": "markdown",
      "source": [
        "C++ の最適化のように fastmath も使用可能"
      ],
      "metadata": {
        "id": "cjw7SvhB8eyU"
      }
    },
    {
      "cell_type": "code",
      "source": [
        "with timer(\"define njit function\"):\n",
        "    @njit(\"int32(int32)\", cache=True, parallel=True, fastmath=True)\n",
        "    def double_sum_fast(size):\n",
        "        sum = 0\n",
        "        for i in prange(size):\n",
        "            for j in range(size):\n",
        "                sum += i - j\n",
        "        return sum\n",
        "\n",
        "with timer(\"njit with parallel & fastmath\"):\n",
        "    print(f\"ans={double_sum_fast(size)}\")"
      ],
      "metadata": {
        "colab": {
          "base_uri": "https://localhost:8080/"
        },
        "id": "6fJYU2Yb5s_S",
        "outputId": "de1641b2-3556-4d60-8829-938f9067034e"
      },
      "execution_count": 50,
      "outputs": [
        {
          "output_type": "stream",
          "name": "stdout",
          "text": [
            "[define njit function]:  0.458 s\n",
            "ans=0\n",
            "[njit with parallel & fastmath]:  0.00137 s\n"
          ]
        }
      ]
    },
    {
      "cell_type": "markdown",
      "source": [
        "### numba.cuda"
      ],
      "metadata": {
        "id": "aa8OkDYfANbH"
      }
    },
    {
      "cell_type": "markdown",
      "source": [
        "[GPUを意識したプログラミング](https://co-crea.jp/wp-content/uploads/2016/07/File_2.pdf)が必要：\n",
        "- [グリッド・ブロック中のスレッド位置の取得方法](https://numba.pydata.org/numba-doc/latest/cuda/kernels.html#absolute-positions)\n",
        "- [CPU・GPU間のデータ転送方法](https://numba.pydata.org/numba-doc/latest/cuda/memory.html)"
      ],
      "metadata": {
        "id": "uMbOwe8ULOuG"
      }
    },
    {
      "cell_type": "code",
      "source": [
        "from numba import cuda\n",
        "import numpy as np\n",
        "import sys\n",
        "sys.setrecursionlimit(100000)\n",
        "\n",
        "\n",
        "# カーネル関数\n",
        "@cuda.jit\n",
        "def add_kernel(a, b, c):\n",
        "    i = cuda.grid(1)\n",
        "    c[i] = a[i] + b[i]\n",
        "\n",
        "# 起動関数\n",
        "def add_arrays(a, b, threads_per_block=256):\n",
        "    # threads_per_block は1ブロックあたりのスレッド数 (128~512)\n",
        "    # GPU の使用ブロック数を計算\n",
        "    blocks = (a.size + threads_per_block - 1) // threads_per_block\n",
        "\n",
        "    # 結果保存用にメモリ確保\n",
        "    result = cuda.to_device(np.zeros_like(a))\n",
        "    add_kernel[blocks, threads_per_block](\n",
        "        cuda.to_device(a), cuda.to_device(b), result)\n",
        "    return result.copy_to_host()\n",
        "\n",
        "array_size = 100000000\n",
        "a = np.ones(array_size, dtype=np.float32)\n",
        "b = np.ones(array_size, dtype=np.float32)\n",
        "\n",
        "with timer(\"CPU computation\"):\n",
        "    a + b\n",
        "\n",
        "add_arrays(a, b)\n",
        "with timer(\"GPU computation\"):\n",
        "    add_arrays(a, b)"
      ],
      "metadata": {
        "colab": {
          "base_uri": "https://localhost:8080/"
        },
        "id": "_PgVm8_TBBZD",
        "outputId": "855f42f4-0230-4f7c-8011-21fa0cf972e4"
      },
      "execution_count": 51,
      "outputs": [
        {
          "output_type": "stream",
          "name": "stdout",
          "text": [
            "[CPU computation]:  0.171 s\n",
            "[GPU computation]:  0.568 s\n"
          ]
        }
      ]
    },
    {
      "cell_type": "markdown",
      "source": [
        "## concurrent.futures での高速化"
      ],
      "metadata": {
        "id": "IG_QHzQlMckh"
      }
    },
    {
      "cell_type": "markdown",
      "source": [
        "### オリジナルの API"
      ],
      "metadata": {
        "id": "sSLUGyMhzkko"
      }
    },
    {
      "cell_type": "markdown",
      "source": [
        "CPU 数を確認"
      ],
      "metadata": {
        "id": "hz2CDo4jBR9d"
      }
    },
    {
      "cell_type": "code",
      "source": [
        "import os\n",
        "\n",
        "print(f\"CPU count is {os.cpu_count()}.\")\n",
        "print(f\"CPU for current thread is {len(os.sched_getaffinity(0))}.\")\n",
        "\n",
        "import multiprocessing\n",
        "print(f\"CPU count by multiprocessing is {multiprocessing.cpu_count()}.\")"
      ],
      "metadata": {
        "id": "F2l6VRhmBOCB",
        "outputId": "b8044379-097e-43fd-cde1-e5b291c03863",
        "colab": {
          "base_uri": "https://localhost:8080/"
        }
      },
      "execution_count": 52,
      "outputs": [
        {
          "output_type": "stream",
          "name": "stdout",
          "text": [
            "CPU count is 2.\n",
            "CPU for current thread is 2.\n",
            "CPU count by multiprocessing is 2.\n"
          ]
        }
      ]
    },
    {
      "cell_type": "markdown",
      "source": [
        "ProcessPoolExecutor は CPU bound のタスクに有効。\n",
        "\n",
        "以下はmax_workers の最適値を見つけるサンプル。"
      ],
      "metadata": {
        "id": "wwekeS81DZbT"
      }
    },
    {
      "cell_type": "code",
      "source": [
        "import numpy as np\n",
        "import concurrent.futures\n",
        "\n",
        "def do_something(size):\n",
        "    return np.dot(np.ones((size, size)), np.ones((size, size)))\n",
        "\n",
        "worker_values = [1, 2, 4, 8, 16, 32, 64]\n",
        "tasks = [1000] * 10\n",
        "\n",
        "for max_workers in worker_values:\n",
        "    with timer(f\"max_workers={max_workers}\"):\n",
        "        with concurrent.futures.ProcessPoolExecutor(max_workers) as executor:\n",
        "            futures = [executor.submit(do_something, task) for task in tasks]\n",
        "            results = [f.result() for f in concurrent.futures.as_completed(futures)]"
      ],
      "metadata": {
        "colab": {
          "base_uri": "https://localhost:8080/"
        },
        "id": "CfJwduFK0csU",
        "outputId": "dec02973-6487-4116-c194-692aa6cbe9f7"
      },
      "execution_count": 53,
      "outputs": [
        {
          "output_type": "stream",
          "name": "stdout",
          "text": [
            "[max_workers=1]:  1.15 s\n",
            "[max_workers=2]:  0.854 s\n",
            "[max_workers=4]:  0.9 s\n",
            "[max_workers=8]:  1.04 s\n",
            "[max_workers=16]:  1.28 s\n",
            "[max_workers=32]:  1.79 s\n",
            "[max_workers=64]:  2.75 s\n"
          ]
        }
      ]
    },
    {
      "cell_type": "markdown",
      "source": [
        "上記は submit メソッドを使用した。\n",
        "submit は for 文などで順次タスクを追加する場合に便利。\n",
        "\n",
        "既に処理対象がリストなどでまとまっている場合は map メソッドが便利。使い方は以下。"
      ],
      "metadata": {
        "id": "Dyz-vddJ-MpP"
      }
    },
    {
      "cell_type": "code",
      "source": [
        "import numpy as np\n",
        "import concurrent.futures\n",
        "\n",
        "def do_something(size):\n",
        "    return np.dot(np.ones((size, size)), np.ones((size, size)))\n",
        "\n",
        "worker_values = [1, 2, 4, 8, 16, 32, 64]\n",
        "tasks = [1000] * 10\n",
        "\n",
        "for max_workers in worker_values:\n",
        "    with timer(f\"max_workers={max_workers}\"):\n",
        "        with concurrent.futures.ProcessPoolExecutor(max_workers) as executor:\n",
        "            results = executor.map(do_something, tasks)"
      ],
      "metadata": {
        "id": "NNet8Nsz-TNg",
        "outputId": "ea64eb3e-69d1-47dc-efc3-ac3c49c67a1c",
        "colab": {
          "base_uri": "https://localhost:8080/"
        }
      },
      "execution_count": 54,
      "outputs": [
        {
          "output_type": "stream",
          "name": "stdout",
          "text": [
            "[max_workers=1]:  0.778 s\n",
            "[max_workers=2]:  1.05 s\n",
            "[max_workers=4]:  1.36 s\n",
            "[max_workers=8]:  1.62 s\n",
            "[max_workers=16]:  1.47 s\n",
            "[max_workers=32]:  2 s\n",
            "[max_workers=64]:  3.99 s\n"
          ]
        }
      ]
    },
    {
      "cell_type": "markdown",
      "source": [
        "ThreadPoolExecutor は I/O bound のタスクに有効"
      ],
      "metadata": {
        "id": "mGfwcN4e7iD_"
      }
    },
    {
      "cell_type": "code",
      "source": [
        "import numpy as np\n",
        "import requests\n",
        "import concurrent.futures\n",
        "\n",
        "def do_something(url):\n",
        "    response = requests.get(url)\n",
        "    return response\n",
        "\n",
        "worker_values = [1, 2, 4, 8, 16, 32, 64]\n",
        "tasks = ['https://google.com', 'https://facebook.com', 'https://twitter.com',\n",
        "         'https://www.youtube.com/', 'https://www.amazon.com/',\n",
        "         'https://github.com/']\n",
        "\n",
        "for max_workers in worker_values:\n",
        "    with timer(f\"max_workers={max_workers}\"):\n",
        "        with concurrent.futures.ThreadPoolExecutor(max_workers) as executor:\n",
        "            results = executor.map(do_something, tasks)"
      ],
      "metadata": {
        "id": "rfJ_vZXl054L",
        "colab": {
          "base_uri": "https://localhost:8080/"
        },
        "outputId": "006162f3-5214-4d03-a31c-bb9e7d820671"
      },
      "execution_count": 55,
      "outputs": [
        {
          "output_type": "stream",
          "name": "stdout",
          "text": [
            "[max_workers=1]:  2.04 s\n",
            "[max_workers=2]:  1.05 s\n",
            "[max_workers=4]:  0.483 s\n",
            "[max_workers=8]:  0.937 s\n",
            "[max_workers=16]:  0.442 s\n",
            "[max_workers=32]:  0.444 s\n",
            "[max_workers=64]:  0.451 s\n"
          ]
        }
      ]
    },
    {
      "cell_type": "markdown",
      "source": [
        "結果はジェネレータ式なので for 文で処理可能"
      ],
      "metadata": {
        "id": "IGdts22fAJg5"
      }
    },
    {
      "cell_type": "code",
      "source": [
        "with concurrent.futures.ThreadPoolExecutor(max_workers=16) as executor:\n",
        "    results = executor.map(do_something, tasks)\n",
        "\n",
        "print(f\"type_of_results={type(results)}\")\n",
        "for task, result in zip(tasks, results):\n",
        "    print(f\"{task}: code {result.status_code}\")"
      ],
      "metadata": {
        "id": "bxr8Rwi273EI",
        "colab": {
          "base_uri": "https://localhost:8080/"
        },
        "outputId": "e1ce0499-2550-4cf5-82e7-dab854882611"
      },
      "execution_count": 56,
      "outputs": [
        {
          "output_type": "stream",
          "name": "stdout",
          "text": [
            "type_of_results=<class 'generator'>\n",
            "https://google.com: code 200\n",
            "https://facebook.com: code 200\n",
            "https://twitter.com: code 200\n",
            "https://www.youtube.com/: code 200\n",
            "https://www.amazon.com/: code 503\n",
            "https://github.com/: code 200\n"
          ]
        }
      ]
    },
    {
      "cell_type": "markdown",
      "source": [
        "### tqdm.contrib の利用"
      ],
      "metadata": {
        "id": "iqDrkIs-zoF6"
      }
    },
    {
      "cell_type": "markdown",
      "source": [
        "tqdm.contrib.concurrent.thread_map で tqdm と併用可能。表記もシンプル。"
      ],
      "metadata": {
        "id": "ChXpE-Dpzzma"
      }
    },
    {
      "cell_type": "code",
      "source": [
        "from tqdm.contrib.concurrent import thread_map\n",
        "\n",
        "\n",
        "def do_something(url):\n",
        "    response = requests.get(url)\n",
        "    return response\n",
        "\n",
        "worker_values = [1, 2, 4, 8, 16, 32, 64]\n",
        "tasks = ['https://google.com', 'https://facebook.com', 'https://twitter.com',\n",
        "         'https://www.youtube.com/', 'https://www.amazon.com/',\n",
        "         'https://github.com/']\n",
        "\n",
        "results = list(thread_map(do_something, tasks))"
      ],
      "metadata": {
        "id": "Hd5Sod7N-dhn",
        "colab": {
          "base_uri": "https://localhost:8080/",
          "height": 49,
          "referenced_widgets": [
            "ffdaae7b836447f0a09b18d40fdac4ce",
            "cb4fa40b7a2e4b02814b43d961730f37",
            "01048924e6c84deeabb1e8ae95256530",
            "023ab2ab67664dd7909a3cd7f8ec7168",
            "8bdf39ff963f48ffb30a0f525232b7e1",
            "84a6fc196dd9447b8d6e55d7f5b23372",
            "9d9b8969f07e4d57bf93174700b14738",
            "0b38d8031f2a41a49820808952da744c",
            "17e0211d10404bf1bad26be7487bb314",
            "662d7426c2264980b8f88e7cf361d635",
            "6f801cd289ad457a8a49d7b658c606a7"
          ]
        },
        "outputId": "c3d6f1c0-2b90-4bb4-a8a5-47cf0f64c133"
      },
      "execution_count": 57,
      "outputs": [
        {
          "output_type": "display_data",
          "data": {
            "text/plain": [
              "  0%|          | 0/6 [00:00<?, ?it/s]"
            ],
            "application/vnd.jupyter.widget-view+json": {
              "version_major": 2,
              "version_minor": 0,
              "model_id": "ffdaae7b836447f0a09b18d40fdac4ce"
            }
          },
          "metadata": {}
        }
      ]
    },
    {
      "cell_type": "markdown",
      "source": [
        "tqdm.contrib.concurrent.process_map も同様"
      ],
      "metadata": {
        "id": "hK4bmtct0H3d"
      }
    },
    {
      "cell_type": "code",
      "source": [
        "from tqdm.contrib.concurrent import process_map\n",
        "\n",
        "def do_something(size):\n",
        "    return np.dot(np.ones((size, size)), np.ones((size, size)))\n",
        "\n",
        "tasks = [1000] * 10\n",
        "results = list(process_map(do_something, tasks))"
      ],
      "metadata": {
        "colab": {
          "base_uri": "https://localhost:8080/",
          "height": 49,
          "referenced_widgets": [
            "eca1c555b15c4c4d9e9bf6b6c79fd5dc",
            "25ad46aa766f433d84913015c2352957",
            "da263050156244c2b40ba915323a8b83",
            "e2ec663a95ed4ecd938ca913265d863b",
            "c8ffea31a3c84377aad1a462e0b58f1c",
            "03f8614b8ed34950a4a5582d39cb31e5",
            "524c584ff8fd468d8a7dd66a6a59f63d",
            "2e91dc3f74894c508000b08a744662d8",
            "e2a45bf0225f48bf8ae0546439887444",
            "9739691b36374178bcbf4dabfdfa488d",
            "324eebaf11d84a918123c401d8c9f56a"
          ]
        },
        "id": "X72TNx-E0K8l",
        "outputId": "24b22c15-68d9-4fe7-d6b3-cc944c3bc61e"
      },
      "execution_count": 58,
      "outputs": [
        {
          "output_type": "display_data",
          "data": {
            "text/plain": [
              "  0%|          | 0/10 [00:00<?, ?it/s]"
            ],
            "application/vnd.jupyter.widget-view+json": {
              "version_major": 2,
              "version_minor": 0,
              "model_id": "eca1c555b15c4c4d9e9bf6b6c79fd5dc"
            }
          },
          "metadata": {}
        }
      ]
    },
    {
      "cell_type": "markdown",
      "source": [
        "## データロードの高速化"
      ],
      "metadata": {
        "id": "ahodSORk0tt1"
      }
    },
    {
      "cell_type": "code",
      "source": [
        "%%capture\n",
        "!pip install dask[dataframe] orjson"
      ],
      "metadata": {
        "id": "XSMukFjL11PD"
      },
      "execution_count": 59,
      "outputs": []
    },
    {
      "cell_type": "code",
      "source": [
        "import pandas as pd\n",
        "import dask.dataframe as dd\n",
        "import json\n",
        "import orjson"
      ],
      "metadata": {
        "id": "Yyc4MVNn13wZ"
      },
      "execution_count": 60,
      "outputs": []
    },
    {
      "cell_type": "code",
      "source": [
        "import urllib\n",
        "\n",
        "url = \"https://github.com/mwaskom/seaborn-data/raw/refs/heads/master/diamonds.csv\"\n",
        "\n",
        "with urllib.request.urlopen(url) as web_file:\n",
        "  with open(\"diamonds.csv\", 'wb') as local_file:\n",
        "    local_file.write(web_file.read())"
      ],
      "metadata": {
        "id": "RKr79WJ2Dnu4"
      },
      "execution_count": 61,
      "outputs": []
    },
    {
      "cell_type": "code",
      "source": [
        "%%time\n",
        "df = pd.read_csv(\"data-large.csv\")"
      ],
      "metadata": {
        "id": "taFADPkQ2Bmt",
        "outputId": "ab8247cf-1b7f-434b-8936-b1d02909e6b4",
        "colab": {
          "base_uri": "https://localhost:8080/"
        }
      },
      "execution_count": 62,
      "outputs": [
        {
          "output_type": "stream",
          "name": "stdout",
          "text": [
            "CPU times: user 819 ms, sys: 126 ms, total: 945 ms\n",
            "Wall time: 975 ms\n"
          ]
        },
        {
          "output_type": "stream",
          "name": "stderr",
          "text": [
            "<timed exec>:1: DtypeWarning: Columns (0,1,2,3,4,5,6,7,8,9,10,11,12,13,14,15,16,17,18,19,20,21,22,23,24,25,26,27,28,29,30,31,32,33,34,35,36) have mixed types. Specify dtype option on import or set low_memory=False.\n"
          ]
        }
      ]
    },
    {
      "cell_type": "code",
      "source": [
        "%%time\n",
        "df = dd.read_csv(\"data-large.csv\").compute()"
      ],
      "metadata": {
        "id": "ZMMpGNnm2jPt",
        "outputId": "6cb8a20d-e647-471f-8c2a-0beafeea814e",
        "colab": {
          "base_uri": "https://localhost:8080/"
        }
      },
      "execution_count": 63,
      "outputs": [
        {
          "output_type": "stream",
          "name": "stderr",
          "text": [
            "/usr/local/lib/python3.10/dist-packages/dask/dataframe/io/csv.py:195: DtypeWarning: Columns (0,1,2,3,4,5,6,7,8,9,10,11,12,13,14,15,16,17,18,19,20,21,22,23,24,25,26,27,28,29,30,31,32,33,34,35,36) have mixed types. Specify dtype option on import or set low_memory=False.\n",
            "  df = reader(bio, **kwargs)\n"
          ]
        },
        {
          "output_type": "stream",
          "name": "stdout",
          "text": [
            "CPU times: user 4.17 s, sys: 297 ms, total: 4.46 s\n",
            "Wall time: 7.51 s\n"
          ]
        }
      ]
    },
    {
      "cell_type": "code",
      "source": [
        "url = \"https://github.com/json-iterator/test-data/raw/refs/heads/master/large-file.json\"\n",
        "\n",
        "with urllib.request.urlopen(url) as web_file:\n",
        "  with open(\"large-file.json\", 'wb') as local_file:\n",
        "    local_file.write(web_file.read())"
      ],
      "metadata": {
        "id": "b18AJjNLE_sl"
      },
      "execution_count": 64,
      "outputs": []
    },
    {
      "cell_type": "code",
      "source": [
        "%%time\n",
        "with open(\"large-file.json\") as f:\n",
        "    data = json.load(f)"
      ],
      "metadata": {
        "id": "AbTfkAxw2nIS",
        "outputId": "9025e158-6683-43ab-f94f-b4c7733356b0",
        "colab": {
          "base_uri": "https://localhost:8080/"
        }
      },
      "execution_count": 65,
      "outputs": [
        {
          "output_type": "stream",
          "name": "stdout",
          "text": [
            "CPU times: user 505 ms, sys: 117 ms, total: 622 ms\n",
            "Wall time: 624 ms\n"
          ]
        }
      ]
    },
    {
      "cell_type": "code",
      "source": [
        "%%time\n",
        "with open(\"large-file.json\") as f:\n",
        "    data = orjson.loads(f.read())"
      ],
      "metadata": {
        "id": "vEUbC41x2vIB",
        "outputId": "adf12706-8d73-4772-df54-63a918931afc",
        "colab": {
          "base_uri": "https://localhost:8080/"
        }
      },
      "execution_count": 66,
      "outputs": [
        {
          "output_type": "stream",
          "name": "stdout",
          "text": [
            "CPU times: user 185 ms, sys: 180 ms, total: 365 ms\n",
            "Wall time: 367 ms\n"
          ]
        }
      ]
    },
    {
      "cell_type": "code",
      "source": [],
      "metadata": {
        "id": "vL7kp_Db3CN0"
      },
      "execution_count": 66,
      "outputs": []
    }
  ]
}