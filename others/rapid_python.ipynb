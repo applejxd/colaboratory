{
  "nbformat": 4,
  "nbformat_minor": 0,
  "metadata": {
    "colab": {
      "provenance": [],
      "toc_visible": true,
      "authorship_tag": "ABX9TyPG8aU1+LdWELuuWheVvme9",
      "include_colab_link": true
    },
    "kernelspec": {
      "name": "python3",
      "display_name": "Python 3"
    },
    "language_info": {
      "name": "python"
    },
    "accelerator": "GPU",
    "gpuClass": "standard",
    "widgets": {
      "application/vnd.jupyter.widget-state+json": {
        "db1b3d356c2d440e813908dc9f89904f": {
          "model_module": "@jupyter-widgets/controls",
          "model_name": "HBoxModel",
          "model_module_version": "1.5.0",
          "state": {
            "_dom_classes": [],
            "_model_module": "@jupyter-widgets/controls",
            "_model_module_version": "1.5.0",
            "_model_name": "HBoxModel",
            "_view_count": null,
            "_view_module": "@jupyter-widgets/controls",
            "_view_module_version": "1.5.0",
            "_view_name": "HBoxView",
            "box_style": "",
            "children": [
              "IPY_MODEL_36d962c88fed457481906ed4bc0822e3",
              "IPY_MODEL_a0a7b42eb1584729846f2cedb2ea6a8f",
              "IPY_MODEL_57bbd8f3677a475faf5a361b5ae5f543"
            ],
            "layout": "IPY_MODEL_5656b620d941404bb5170466fb6a8710"
          }
        },
        "36d962c88fed457481906ed4bc0822e3": {
          "model_module": "@jupyter-widgets/controls",
          "model_name": "HTMLModel",
          "model_module_version": "1.5.0",
          "state": {
            "_dom_classes": [],
            "_model_module": "@jupyter-widgets/controls",
            "_model_module_version": "1.5.0",
            "_model_name": "HTMLModel",
            "_view_count": null,
            "_view_module": "@jupyter-widgets/controls",
            "_view_module_version": "1.5.0",
            "_view_name": "HTMLView",
            "description": "",
            "description_tooltip": null,
            "layout": "IPY_MODEL_4f9c6561399b4a0a9907554f611a2e6a",
            "placeholder": "​",
            "style": "IPY_MODEL_554667da578b48ccb08a7bb859d6c11a",
            "value": "100%"
          }
        },
        "a0a7b42eb1584729846f2cedb2ea6a8f": {
          "model_module": "@jupyter-widgets/controls",
          "model_name": "FloatProgressModel",
          "model_module_version": "1.5.0",
          "state": {
            "_dom_classes": [],
            "_model_module": "@jupyter-widgets/controls",
            "_model_module_version": "1.5.0",
            "_model_name": "FloatProgressModel",
            "_view_count": null,
            "_view_module": "@jupyter-widgets/controls",
            "_view_module_version": "1.5.0",
            "_view_name": "ProgressView",
            "bar_style": "success",
            "description": "",
            "description_tooltip": null,
            "layout": "IPY_MODEL_6c800155604546ba8a9ee4c0477a7eb1",
            "max": 6,
            "min": 0,
            "orientation": "horizontal",
            "style": "IPY_MODEL_beb9691c2cf242dbae14b30c0b6e9657",
            "value": 6
          }
        },
        "57bbd8f3677a475faf5a361b5ae5f543": {
          "model_module": "@jupyter-widgets/controls",
          "model_name": "HTMLModel",
          "model_module_version": "1.5.0",
          "state": {
            "_dom_classes": [],
            "_model_module": "@jupyter-widgets/controls",
            "_model_module_version": "1.5.0",
            "_model_name": "HTMLModel",
            "_view_count": null,
            "_view_module": "@jupyter-widgets/controls",
            "_view_module_version": "1.5.0",
            "_view_name": "HTMLView",
            "description": "",
            "description_tooltip": null,
            "layout": "IPY_MODEL_354584bebc2d4f4c9836f1c8d506e56f",
            "placeholder": "​",
            "style": "IPY_MODEL_0578ed8e57c24ef3b8a1fff7d8826404",
            "value": " 6/6 [00:00&lt;00:00,  6.54it/s]"
          }
        },
        "5656b620d941404bb5170466fb6a8710": {
          "model_module": "@jupyter-widgets/base",
          "model_name": "LayoutModel",
          "model_module_version": "1.2.0",
          "state": {
            "_model_module": "@jupyter-widgets/base",
            "_model_module_version": "1.2.0",
            "_model_name": "LayoutModel",
            "_view_count": null,
            "_view_module": "@jupyter-widgets/base",
            "_view_module_version": "1.2.0",
            "_view_name": "LayoutView",
            "align_content": null,
            "align_items": null,
            "align_self": null,
            "border": null,
            "bottom": null,
            "display": null,
            "flex": null,
            "flex_flow": null,
            "grid_area": null,
            "grid_auto_columns": null,
            "grid_auto_flow": null,
            "grid_auto_rows": null,
            "grid_column": null,
            "grid_gap": null,
            "grid_row": null,
            "grid_template_areas": null,
            "grid_template_columns": null,
            "grid_template_rows": null,
            "height": null,
            "justify_content": null,
            "justify_items": null,
            "left": null,
            "margin": null,
            "max_height": null,
            "max_width": null,
            "min_height": null,
            "min_width": null,
            "object_fit": null,
            "object_position": null,
            "order": null,
            "overflow": null,
            "overflow_x": null,
            "overflow_y": null,
            "padding": null,
            "right": null,
            "top": null,
            "visibility": null,
            "width": null
          }
        },
        "4f9c6561399b4a0a9907554f611a2e6a": {
          "model_module": "@jupyter-widgets/base",
          "model_name": "LayoutModel",
          "model_module_version": "1.2.0",
          "state": {
            "_model_module": "@jupyter-widgets/base",
            "_model_module_version": "1.2.0",
            "_model_name": "LayoutModel",
            "_view_count": null,
            "_view_module": "@jupyter-widgets/base",
            "_view_module_version": "1.2.0",
            "_view_name": "LayoutView",
            "align_content": null,
            "align_items": null,
            "align_self": null,
            "border": null,
            "bottom": null,
            "display": null,
            "flex": null,
            "flex_flow": null,
            "grid_area": null,
            "grid_auto_columns": null,
            "grid_auto_flow": null,
            "grid_auto_rows": null,
            "grid_column": null,
            "grid_gap": null,
            "grid_row": null,
            "grid_template_areas": null,
            "grid_template_columns": null,
            "grid_template_rows": null,
            "height": null,
            "justify_content": null,
            "justify_items": null,
            "left": null,
            "margin": null,
            "max_height": null,
            "max_width": null,
            "min_height": null,
            "min_width": null,
            "object_fit": null,
            "object_position": null,
            "order": null,
            "overflow": null,
            "overflow_x": null,
            "overflow_y": null,
            "padding": null,
            "right": null,
            "top": null,
            "visibility": null,
            "width": null
          }
        },
        "554667da578b48ccb08a7bb859d6c11a": {
          "model_module": "@jupyter-widgets/controls",
          "model_name": "DescriptionStyleModel",
          "model_module_version": "1.5.0",
          "state": {
            "_model_module": "@jupyter-widgets/controls",
            "_model_module_version": "1.5.0",
            "_model_name": "DescriptionStyleModel",
            "_view_count": null,
            "_view_module": "@jupyter-widgets/base",
            "_view_module_version": "1.2.0",
            "_view_name": "StyleView",
            "description_width": ""
          }
        },
        "6c800155604546ba8a9ee4c0477a7eb1": {
          "model_module": "@jupyter-widgets/base",
          "model_name": "LayoutModel",
          "model_module_version": "1.2.0",
          "state": {
            "_model_module": "@jupyter-widgets/base",
            "_model_module_version": "1.2.0",
            "_model_name": "LayoutModel",
            "_view_count": null,
            "_view_module": "@jupyter-widgets/base",
            "_view_module_version": "1.2.0",
            "_view_name": "LayoutView",
            "align_content": null,
            "align_items": null,
            "align_self": null,
            "border": null,
            "bottom": null,
            "display": null,
            "flex": null,
            "flex_flow": null,
            "grid_area": null,
            "grid_auto_columns": null,
            "grid_auto_flow": null,
            "grid_auto_rows": null,
            "grid_column": null,
            "grid_gap": null,
            "grid_row": null,
            "grid_template_areas": null,
            "grid_template_columns": null,
            "grid_template_rows": null,
            "height": null,
            "justify_content": null,
            "justify_items": null,
            "left": null,
            "margin": null,
            "max_height": null,
            "max_width": null,
            "min_height": null,
            "min_width": null,
            "object_fit": null,
            "object_position": null,
            "order": null,
            "overflow": null,
            "overflow_x": null,
            "overflow_y": null,
            "padding": null,
            "right": null,
            "top": null,
            "visibility": null,
            "width": null
          }
        },
        "beb9691c2cf242dbae14b30c0b6e9657": {
          "model_module": "@jupyter-widgets/controls",
          "model_name": "ProgressStyleModel",
          "model_module_version": "1.5.0",
          "state": {
            "_model_module": "@jupyter-widgets/controls",
            "_model_module_version": "1.5.0",
            "_model_name": "ProgressStyleModel",
            "_view_count": null,
            "_view_module": "@jupyter-widgets/base",
            "_view_module_version": "1.2.0",
            "_view_name": "StyleView",
            "bar_color": null,
            "description_width": ""
          }
        },
        "354584bebc2d4f4c9836f1c8d506e56f": {
          "model_module": "@jupyter-widgets/base",
          "model_name": "LayoutModel",
          "model_module_version": "1.2.0",
          "state": {
            "_model_module": "@jupyter-widgets/base",
            "_model_module_version": "1.2.0",
            "_model_name": "LayoutModel",
            "_view_count": null,
            "_view_module": "@jupyter-widgets/base",
            "_view_module_version": "1.2.0",
            "_view_name": "LayoutView",
            "align_content": null,
            "align_items": null,
            "align_self": null,
            "border": null,
            "bottom": null,
            "display": null,
            "flex": null,
            "flex_flow": null,
            "grid_area": null,
            "grid_auto_columns": null,
            "grid_auto_flow": null,
            "grid_auto_rows": null,
            "grid_column": null,
            "grid_gap": null,
            "grid_row": null,
            "grid_template_areas": null,
            "grid_template_columns": null,
            "grid_template_rows": null,
            "height": null,
            "justify_content": null,
            "justify_items": null,
            "left": null,
            "margin": null,
            "max_height": null,
            "max_width": null,
            "min_height": null,
            "min_width": null,
            "object_fit": null,
            "object_position": null,
            "order": null,
            "overflow": null,
            "overflow_x": null,
            "overflow_y": null,
            "padding": null,
            "right": null,
            "top": null,
            "visibility": null,
            "width": null
          }
        },
        "0578ed8e57c24ef3b8a1fff7d8826404": {
          "model_module": "@jupyter-widgets/controls",
          "model_name": "DescriptionStyleModel",
          "model_module_version": "1.5.0",
          "state": {
            "_model_module": "@jupyter-widgets/controls",
            "_model_module_version": "1.5.0",
            "_model_name": "DescriptionStyleModel",
            "_view_count": null,
            "_view_module": "@jupyter-widgets/base",
            "_view_module_version": "1.2.0",
            "_view_name": "StyleView",
            "description_width": ""
          }
        },
        "42ade088f2ea43daaee12e60abf7ce9a": {
          "model_module": "@jupyter-widgets/controls",
          "model_name": "HBoxModel",
          "model_module_version": "1.5.0",
          "state": {
            "_dom_classes": [],
            "_model_module": "@jupyter-widgets/controls",
            "_model_module_version": "1.5.0",
            "_model_name": "HBoxModel",
            "_view_count": null,
            "_view_module": "@jupyter-widgets/controls",
            "_view_module_version": "1.5.0",
            "_view_name": "HBoxView",
            "box_style": "",
            "children": [
              "IPY_MODEL_1153ef95503b4ae09772e54f977d74b0",
              "IPY_MODEL_38c0b33db5bf4b82914c3a80726e57d6",
              "IPY_MODEL_717b68ef97fa4ac58df47f599f62ac2a"
            ],
            "layout": "IPY_MODEL_02262f59275a49a68ceb9754d783df01"
          }
        },
        "1153ef95503b4ae09772e54f977d74b0": {
          "model_module": "@jupyter-widgets/controls",
          "model_name": "HTMLModel",
          "model_module_version": "1.5.0",
          "state": {
            "_dom_classes": [],
            "_model_module": "@jupyter-widgets/controls",
            "_model_module_version": "1.5.0",
            "_model_name": "HTMLModel",
            "_view_count": null,
            "_view_module": "@jupyter-widgets/controls",
            "_view_module_version": "1.5.0",
            "_view_name": "HTMLView",
            "description": "",
            "description_tooltip": null,
            "layout": "IPY_MODEL_218e52128627401e9f9ab569e778367f",
            "placeholder": "​",
            "style": "IPY_MODEL_d7ef5df22a30448483c665e614e34f91",
            "value": "100%"
          }
        },
        "38c0b33db5bf4b82914c3a80726e57d6": {
          "model_module": "@jupyter-widgets/controls",
          "model_name": "FloatProgressModel",
          "model_module_version": "1.5.0",
          "state": {
            "_dom_classes": [],
            "_model_module": "@jupyter-widgets/controls",
            "_model_module_version": "1.5.0",
            "_model_name": "FloatProgressModel",
            "_view_count": null,
            "_view_module": "@jupyter-widgets/controls",
            "_view_module_version": "1.5.0",
            "_view_name": "ProgressView",
            "bar_style": "success",
            "description": "",
            "description_tooltip": null,
            "layout": "IPY_MODEL_02747c85def04922ada33faeecf93959",
            "max": 10,
            "min": 0,
            "orientation": "horizontal",
            "style": "IPY_MODEL_5764611fb71548da8f500eb0c5867c10",
            "value": 10
          }
        },
        "717b68ef97fa4ac58df47f599f62ac2a": {
          "model_module": "@jupyter-widgets/controls",
          "model_name": "HTMLModel",
          "model_module_version": "1.5.0",
          "state": {
            "_dom_classes": [],
            "_model_module": "@jupyter-widgets/controls",
            "_model_module_version": "1.5.0",
            "_model_name": "HTMLModel",
            "_view_count": null,
            "_view_module": "@jupyter-widgets/controls",
            "_view_module_version": "1.5.0",
            "_view_name": "HTMLView",
            "description": "",
            "description_tooltip": null,
            "layout": "IPY_MODEL_df03ee536e2a4466ac0ad66dac4edd6c",
            "placeholder": "​",
            "style": "IPY_MODEL_2c91a2662cfc4c7b868040e470d3a811",
            "value": " 10/10 [00:00&lt;00:00, 11.53it/s]"
          }
        },
        "02262f59275a49a68ceb9754d783df01": {
          "model_module": "@jupyter-widgets/base",
          "model_name": "LayoutModel",
          "model_module_version": "1.2.0",
          "state": {
            "_model_module": "@jupyter-widgets/base",
            "_model_module_version": "1.2.0",
            "_model_name": "LayoutModel",
            "_view_count": null,
            "_view_module": "@jupyter-widgets/base",
            "_view_module_version": "1.2.0",
            "_view_name": "LayoutView",
            "align_content": null,
            "align_items": null,
            "align_self": null,
            "border": null,
            "bottom": null,
            "display": null,
            "flex": null,
            "flex_flow": null,
            "grid_area": null,
            "grid_auto_columns": null,
            "grid_auto_flow": null,
            "grid_auto_rows": null,
            "grid_column": null,
            "grid_gap": null,
            "grid_row": null,
            "grid_template_areas": null,
            "grid_template_columns": null,
            "grid_template_rows": null,
            "height": null,
            "justify_content": null,
            "justify_items": null,
            "left": null,
            "margin": null,
            "max_height": null,
            "max_width": null,
            "min_height": null,
            "min_width": null,
            "object_fit": null,
            "object_position": null,
            "order": null,
            "overflow": null,
            "overflow_x": null,
            "overflow_y": null,
            "padding": null,
            "right": null,
            "top": null,
            "visibility": null,
            "width": null
          }
        },
        "218e52128627401e9f9ab569e778367f": {
          "model_module": "@jupyter-widgets/base",
          "model_name": "LayoutModel",
          "model_module_version": "1.2.0",
          "state": {
            "_model_module": "@jupyter-widgets/base",
            "_model_module_version": "1.2.0",
            "_model_name": "LayoutModel",
            "_view_count": null,
            "_view_module": "@jupyter-widgets/base",
            "_view_module_version": "1.2.0",
            "_view_name": "LayoutView",
            "align_content": null,
            "align_items": null,
            "align_self": null,
            "border": null,
            "bottom": null,
            "display": null,
            "flex": null,
            "flex_flow": null,
            "grid_area": null,
            "grid_auto_columns": null,
            "grid_auto_flow": null,
            "grid_auto_rows": null,
            "grid_column": null,
            "grid_gap": null,
            "grid_row": null,
            "grid_template_areas": null,
            "grid_template_columns": null,
            "grid_template_rows": null,
            "height": null,
            "justify_content": null,
            "justify_items": null,
            "left": null,
            "margin": null,
            "max_height": null,
            "max_width": null,
            "min_height": null,
            "min_width": null,
            "object_fit": null,
            "object_position": null,
            "order": null,
            "overflow": null,
            "overflow_x": null,
            "overflow_y": null,
            "padding": null,
            "right": null,
            "top": null,
            "visibility": null,
            "width": null
          }
        },
        "d7ef5df22a30448483c665e614e34f91": {
          "model_module": "@jupyter-widgets/controls",
          "model_name": "DescriptionStyleModel",
          "model_module_version": "1.5.0",
          "state": {
            "_model_module": "@jupyter-widgets/controls",
            "_model_module_version": "1.5.0",
            "_model_name": "DescriptionStyleModel",
            "_view_count": null,
            "_view_module": "@jupyter-widgets/base",
            "_view_module_version": "1.2.0",
            "_view_name": "StyleView",
            "description_width": ""
          }
        },
        "02747c85def04922ada33faeecf93959": {
          "model_module": "@jupyter-widgets/base",
          "model_name": "LayoutModel",
          "model_module_version": "1.2.0",
          "state": {
            "_model_module": "@jupyter-widgets/base",
            "_model_module_version": "1.2.0",
            "_model_name": "LayoutModel",
            "_view_count": null,
            "_view_module": "@jupyter-widgets/base",
            "_view_module_version": "1.2.0",
            "_view_name": "LayoutView",
            "align_content": null,
            "align_items": null,
            "align_self": null,
            "border": null,
            "bottom": null,
            "display": null,
            "flex": null,
            "flex_flow": null,
            "grid_area": null,
            "grid_auto_columns": null,
            "grid_auto_flow": null,
            "grid_auto_rows": null,
            "grid_column": null,
            "grid_gap": null,
            "grid_row": null,
            "grid_template_areas": null,
            "grid_template_columns": null,
            "grid_template_rows": null,
            "height": null,
            "justify_content": null,
            "justify_items": null,
            "left": null,
            "margin": null,
            "max_height": null,
            "max_width": null,
            "min_height": null,
            "min_width": null,
            "object_fit": null,
            "object_position": null,
            "order": null,
            "overflow": null,
            "overflow_x": null,
            "overflow_y": null,
            "padding": null,
            "right": null,
            "top": null,
            "visibility": null,
            "width": null
          }
        },
        "5764611fb71548da8f500eb0c5867c10": {
          "model_module": "@jupyter-widgets/controls",
          "model_name": "ProgressStyleModel",
          "model_module_version": "1.5.0",
          "state": {
            "_model_module": "@jupyter-widgets/controls",
            "_model_module_version": "1.5.0",
            "_model_name": "ProgressStyleModel",
            "_view_count": null,
            "_view_module": "@jupyter-widgets/base",
            "_view_module_version": "1.2.0",
            "_view_name": "StyleView",
            "bar_color": null,
            "description_width": ""
          }
        },
        "df03ee536e2a4466ac0ad66dac4edd6c": {
          "model_module": "@jupyter-widgets/base",
          "model_name": "LayoutModel",
          "model_module_version": "1.2.0",
          "state": {
            "_model_module": "@jupyter-widgets/base",
            "_model_module_version": "1.2.0",
            "_model_name": "LayoutModel",
            "_view_count": null,
            "_view_module": "@jupyter-widgets/base",
            "_view_module_version": "1.2.0",
            "_view_name": "LayoutView",
            "align_content": null,
            "align_items": null,
            "align_self": null,
            "border": null,
            "bottom": null,
            "display": null,
            "flex": null,
            "flex_flow": null,
            "grid_area": null,
            "grid_auto_columns": null,
            "grid_auto_flow": null,
            "grid_auto_rows": null,
            "grid_column": null,
            "grid_gap": null,
            "grid_row": null,
            "grid_template_areas": null,
            "grid_template_columns": null,
            "grid_template_rows": null,
            "height": null,
            "justify_content": null,
            "justify_items": null,
            "left": null,
            "margin": null,
            "max_height": null,
            "max_width": null,
            "min_height": null,
            "min_width": null,
            "object_fit": null,
            "object_position": null,
            "order": null,
            "overflow": null,
            "overflow_x": null,
            "overflow_y": null,
            "padding": null,
            "right": null,
            "top": null,
            "visibility": null,
            "width": null
          }
        },
        "2c91a2662cfc4c7b868040e470d3a811": {
          "model_module": "@jupyter-widgets/controls",
          "model_name": "DescriptionStyleModel",
          "model_module_version": "1.5.0",
          "state": {
            "_model_module": "@jupyter-widgets/controls",
            "_model_module_version": "1.5.0",
            "_model_name": "DescriptionStyleModel",
            "_view_count": null,
            "_view_module": "@jupyter-widgets/base",
            "_view_module_version": "1.2.0",
            "_view_name": "StyleView",
            "description_width": ""
          }
        }
      }
    }
  },
  "cells": [
    {
      "cell_type": "markdown",
      "metadata": {
        "id": "view-in-github",
        "colab_type": "text"
      },
      "source": [
        "<a href=\"https://colab.research.google.com/github/applejxd/colaboratory/blob/master/others/rapid_python.ipynb\" target=\"_parent\"><img src=\"https://colab.research.google.com/assets/colab-badge.svg\" alt=\"Open In Colab\"/></a>"
      ]
    },
    {
      "cell_type": "markdown",
      "source": [
        "## numba での高速化"
      ],
      "metadata": {
        "id": "8IdvJH2vMY8Q"
      }
    },
    {
      "cell_type": "markdown",
      "source": [
        "### njit: numba の nopython モード"
      ],
      "metadata": {
        "id": "IzedeV8I4L9-"
      }
    },
    {
      "cell_type": "markdown",
      "source": [
        "[numpy での重い計算の例](https://qiita.com/gyu-don/items/9d223b007ca620e95abc)"
      ],
      "metadata": {
        "id": "Tl2lr6Ye0Bfj"
      }
    },
    {
      "cell_type": "code",
      "execution_count": 1,
      "metadata": {
        "id": "q7gnobz9z72j"
      },
      "outputs": [],
      "source": [
        "import sys\n",
        "sys.setrecursionlimit(100000)\n",
        "\n",
        "def ack(m, n):\n",
        "    if m == 0:\n",
        "        return n + 1\n",
        "    if n == 0:\n",
        "        return ack(m - 1, 1)\n",
        "    return ack(m - 1, ack(m, n - 1))"
      ]
    },
    {
      "cell_type": "markdown",
      "source": [
        "通常時の計算時間を測定"
      ],
      "metadata": {
        "id": "HM09YR631y6L"
      }
    },
    {
      "cell_type": "code",
      "source": [
        "import time\n",
        "from contextlib import contextmanager\n",
        "\n",
        "@contextmanager\n",
        "def timer(target: str):\n",
        "    t = time.perf_counter()\n",
        "    yield None\n",
        "    # 有効数字3桁表示\n",
        "    print(f\"[{target}]: {time.perf_counter() - t: .3g} s\")\n",
        "\n",
        "with timer(\"ack(3, 10)\"):\n",
        "    ack(3, 10)"
      ],
      "metadata": {
        "colab": {
          "base_uri": "https://localhost:8080/"
        },
        "id": "VmDSM--G1sZ0",
        "outputId": "687d1488-c047-476e-f974-837d38b9a8b2"
      },
      "execution_count": 2,
      "outputs": [
        {
          "output_type": "stream",
          "name": "stdout",
          "text": [
            "[ack(3, 10)]:  23.9 s\n"
          ]
        }
      ]
    },
    {
      "cell_type": "markdown",
      "source": [
        "njit で高速化。[型推論は自動。ポリモーフィズムも対応。](https://numba.readthedocs.io/en/stable/user/jit.html)"
      ],
      "metadata": {
        "id": "rceYjPsx4OgL"
      }
    },
    {
      "cell_type": "code",
      "source": [
        "from numba import njit\n",
        "\n",
        "with timer(\"define njit function\"):\n",
        "    @njit(cache=True)\n",
        "    def lazy_ack(m, n):\n",
        "        if m == 0:\n",
        "            return n + 1\n",
        "        if n == 0:\n",
        "            return lazy_ack(m - 1, 1)\n",
        "        return lazy_ack(m - 1, lazy_ack(m, n - 1))\n",
        "\n",
        "# コンパイル時間含む\n",
        "with timer(\"1st try\"):\n",
        "    lazy_ack(3, 10)\n",
        "\n",
        "# コンパイル時間含まない\n",
        "with timer(\"2nd try\"):\n",
        "    lazy_ack(3, 10)"
      ],
      "metadata": {
        "colab": {
          "base_uri": "https://localhost:8080/"
        },
        "id": "vTYXlQfi1340",
        "outputId": "c18c1601-7cdd-44ff-8747-e2cb97db8f20"
      },
      "execution_count": 3,
      "outputs": [
        {
          "output_type": "stream",
          "name": "stdout",
          "text": [
            "[define njit function]:  0.09 s\n",
            "[1st try]:  1.61 s\n",
            "[2nd try]:  0.233 s\n"
          ]
        }
      ]
    },
    {
      "cell_type": "markdown",
      "source": [
        "定義時に型指定でコンパイル。トータル時間は変化なし。\n",
        "ポリモーフィズムもないため処理速度を図る目的等がなければ使わなくてもよい。"
      ],
      "metadata": {
        "id": "vnlzwn-d4I1u"
      }
    },
    {
      "cell_type": "code",
      "source": [
        "with timer(\"define njit function\"):\n",
        "    @njit(\"int32(int32, int32)\", cache=True)\n",
        "    def eager_ack(m, n):\n",
        "        if m == 0:\n",
        "            return n + 1\n",
        "        if n == 0:\n",
        "            return eager_ack(m - 1, 1)\n",
        "        return eager_ack(m - 1, eager_ack(m, n - 1))\n",
        "\n",
        "# 初回\n",
        "with timer(\"compile time included\"):\n",
        "    eager_ack(3, 10)\n",
        "\n",
        "# 事前にコンパイル済なので二回目以降の計算時間も同等\n",
        "with timer(\"compile time excluded\"):\n",
        "    eager_ack(3, 10)"
      ],
      "metadata": {
        "colab": {
          "base_uri": "https://localhost:8080/"
        },
        "id": "_Irxms7w1Cp4",
        "outputId": "dee6fa2e-0cf5-4990-9143-3c137cced225"
      },
      "execution_count": 4,
      "outputs": [
        {
          "output_type": "stream",
          "name": "stdout",
          "text": [
            "[define njit function]:  0.428 s\n",
            "[compile time included]:  0.295 s\n",
            "[compile time excluded]:  0.474 s\n"
          ]
        }
      ]
    },
    {
      "cell_type": "markdown",
      "source": [
        "### 並列化 & fastmath\n"
      ],
      "metadata": {
        "id": "_SAW0HDr79A5"
      }
    },
    {
      "cell_type": "markdown",
      "source": [
        "[検証が容易な2重ループの例](https://qiita.com/AnchorBlues/items/59a8543765549fe7bac0)\n",
        "\\begin{equation}\n",
        " S_L=\\sum_{i=0}^{L-1}\\sum_{j=0}^{L-1} (i-j)\n",
        "\\end{equation}"
      ],
      "metadata": {
        "id": "PfkZQqBI4foh"
      }
    },
    {
      "cell_type": "code",
      "source": [
        "def double_sum(size):\n",
        "    sum = 0\n",
        "    for i in range(size):\n",
        "        for j in range(size):\n",
        "            sum += i - j\n",
        "    return sum\n",
        "\n",
        "size = 10000\n",
        "\n",
        "with timer(\"pure python\"):\n",
        "    # 0 となることを確認\n",
        "    print(f\"ans={double_sum(size)}\")"
      ],
      "metadata": {
        "colab": {
          "base_uri": "https://localhost:8080/"
        },
        "id": "Lr8D90Wa4YJo",
        "outputId": "30a44ef8-2599-4a09-b91d-d1c08b724fe0"
      },
      "execution_count": 5,
      "outputs": [
        {
          "output_type": "stream",
          "name": "stdout",
          "text": [
            "ans=0\n",
            "[pure python]:  16.2 s\n"
          ]
        }
      ]
    },
    {
      "cell_type": "markdown",
      "source": [
        "numba を用いたケース"
      ],
      "metadata": {
        "id": "uAFQloBC9Ks9"
      }
    },
    {
      "cell_type": "code",
      "source": [
        "with timer(\"define njit function\"):\n",
        "    @njit(\"int32(int32)\", cache=True)\n",
        "    def double_sum_njit(size):\n",
        "        sum = 0\n",
        "        for i in range(size):\n",
        "            for j in range(size):\n",
        "                sum += i - j\n",
        "        return sum\n",
        "\n",
        "with timer(\"njit enabled\"):\n",
        "    print(f\"ans={double_sum_njit(size)}\")"
      ],
      "metadata": {
        "colab": {
          "base_uri": "https://localhost:8080/"
        },
        "id": "VUPNzmDW5Jcn",
        "outputId": "a6129b38-d80f-411e-8fa5-8dcd280acdc7"
      },
      "execution_count": 6,
      "outputs": [
        {
          "output_type": "stream",
          "name": "stdout",
          "text": [
            "[define njit function]:  0.126 s\n",
            "ans=0\n",
            "[njit enabled]:  0.000534 s\n"
          ]
        }
      ]
    },
    {
      "cell_type": "markdown",
      "source": [
        "更に高速化するには[追加オプション](https://numba.readthedocs.io/en/stable/user/performance-tips.html)を使用する。\n",
        "\n",
        "次の例は prange を用いた並列化. ただしこのケースではマルチコア化のバウンドの方が大きいため高速化されない。"
      ],
      "metadata": {
        "id": "wkj6dg9j8kWk"
      }
    },
    {
      "cell_type": "code",
      "source": [
        "from numba import prange\n",
        "\n",
        "with timer(\"define njit function\"):\n",
        "    @njit(\"int32(int32)\", cache=True, parallel=True)\n",
        "    def double_sum_parallel(size):\n",
        "        sum = 0\n",
        "        # 並列化の対象のループには prange を使う\n",
        "        for i in prange(size):\n",
        "            for j in range(size):\n",
        "                sum += i - j\n",
        "        return sum\n",
        "\n",
        "with timer(\"njit with parallel\"):\n",
        "    print(f\"ans={double_sum_parallel(size)}\")"
      ],
      "metadata": {
        "colab": {
          "base_uri": "https://localhost:8080/"
        },
        "id": "DkJRD8v-5iCx",
        "outputId": "6d4c02d1-c259-4dcd-fee7-ca00be21a4d9"
      },
      "execution_count": 7,
      "outputs": [
        {
          "output_type": "stream",
          "name": "stdout",
          "text": [
            "[define njit function]:  0.846 s\n",
            "ans=0\n",
            "[njit with parallel]:  0.00134 s\n"
          ]
        }
      ]
    },
    {
      "cell_type": "markdown",
      "source": [
        "C++ の最適化のように fastmath も使用可能"
      ],
      "metadata": {
        "id": "cjw7SvhB8eyU"
      }
    },
    {
      "cell_type": "code",
      "source": [
        "with timer(\"define njit function\"):\n",
        "    @njit(\"int32(int32)\", cache=True, parallel=True, fastmath=True)\n",
        "    def double_sum_fast(size):\n",
        "        sum = 0\n",
        "        for i in prange(size):\n",
        "            for j in range(size):\n",
        "                sum += i - j\n",
        "        return sum\n",
        "\n",
        "with timer(\"njit with parallel & fastmath\"):\n",
        "    print(f\"ans={double_sum_fast(size)}\")"
      ],
      "metadata": {
        "colab": {
          "base_uri": "https://localhost:8080/"
        },
        "id": "6fJYU2Yb5s_S",
        "outputId": "82b4e80b-43af-4b64-d7a4-ffe39cdab3fc"
      },
      "execution_count": 8,
      "outputs": [
        {
          "output_type": "stream",
          "name": "stdout",
          "text": [
            "[define njit function]:  0.585 s\n",
            "ans=0\n",
            "[njit with parallel & fastmath]:  0.00137 s\n"
          ]
        }
      ]
    },
    {
      "cell_type": "markdown",
      "source": [
        "### numba.cuda"
      ],
      "metadata": {
        "id": "aa8OkDYfANbH"
      }
    },
    {
      "cell_type": "markdown",
      "source": [
        "[GPUを意識したプログラミング](https://co-crea.jp/wp-content/uploads/2016/07/File_2.pdf)が必要：\n",
        "- [グリッド・ブロック中のスレッド位置の取得方法](https://numba.pydata.org/numba-doc/latest/cuda/kernels.html#absolute-positions)\n",
        "- [CPU・GPU間のデータ転送方法](https://numba.pydata.org/numba-doc/latest/cuda/memory.html)"
      ],
      "metadata": {
        "id": "uMbOwe8ULOuG"
      }
    },
    {
      "cell_type": "code",
      "source": [
        "from numba import cuda\n",
        "import numpy as np\n",
        "import sys\n",
        "sys.setrecursionlimit(100000)\n",
        "\n",
        "\n",
        "# カーネル関数\n",
        "@cuda.jit\n",
        "def add_kernel(a, b, c):\n",
        "    i = cuda.grid(1)\n",
        "    c[i] = a[i] + b[i]\n",
        "\n",
        "# 起動関数\n",
        "def add_arrays(a, b, threads_per_block=256):\n",
        "    # threads_per_block は1ブロックあたりのスレッド数 (128~512)\n",
        "    # GPU の使用ブロック数を計算\n",
        "    blocks = (a.size + threads_per_block - 1) // threads_per_block\n",
        "\n",
        "    # 結果保存用にメモリ確保\n",
        "    result = cuda.to_device(np.zeros_like(a))\n",
        "    add_kernel[blocks, threads_per_block](\n",
        "        cuda.to_device(a), cuda.to_device(b), result)\n",
        "    return result.copy_to_host()\n",
        "\n",
        "array_size = 100000000\n",
        "a = np.ones(array_size, dtype=np.float32)\n",
        "b = np.ones(array_size, dtype=np.float32)\n",
        "\n",
        "with timer(\"CPU computation\"):\n",
        "    a + b\n",
        "\n",
        "add_arrays(a, b)\n",
        "with timer(\"GPU computation\"):\n",
        "    add_arrays(a, b)"
      ],
      "metadata": {
        "colab": {
          "base_uri": "https://localhost:8080/"
        },
        "id": "_PgVm8_TBBZD",
        "outputId": "a2ae8c66-1d63-4d0d-e4c2-9666820c81d2"
      },
      "execution_count": 9,
      "outputs": [
        {
          "output_type": "stream",
          "name": "stdout",
          "text": [
            "[CPU computation]:  0.188 s\n",
            "[GPU computation]:  0.744 s\n"
          ]
        }
      ]
    },
    {
      "cell_type": "markdown",
      "source": [
        "## concurrent.futures での高速化"
      ],
      "metadata": {
        "id": "IG_QHzQlMckh"
      }
    },
    {
      "cell_type": "markdown",
      "source": [
        "### オリジナルの API"
      ],
      "metadata": {
        "id": "sSLUGyMhzkko"
      }
    },
    {
      "cell_type": "markdown",
      "source": [
        "CPU 数を確認"
      ],
      "metadata": {
        "id": "hz2CDo4jBR9d"
      }
    },
    {
      "cell_type": "code",
      "source": [
        "import os\n",
        "\n",
        "print(f\"CPU count is {os.cpu_count()}.\")\n",
        "print(f\"CPU for current thread is {len(os.sched_getaffinity(0))}.\")\n",
        "\n",
        "import multiprocessing\n",
        "print(f\"CPU count by multiprocessing is {multiprocessing.cpu_count()}.\")"
      ],
      "metadata": {
        "id": "F2l6VRhmBOCB",
        "outputId": "767daa97-8ffd-43b5-a1dd-87ce69db2cdf",
        "colab": {
          "base_uri": "https://localhost:8080/"
        }
      },
      "execution_count": 10,
      "outputs": [
        {
          "output_type": "stream",
          "name": "stdout",
          "text": [
            "CPU count is 2.\n",
            "CPU for current thread is 2.\n",
            "CPU count by multiprocessing is 2.\n"
          ]
        }
      ]
    },
    {
      "cell_type": "markdown",
      "source": [
        "ProcessPoolExecutor は CPU bound のタスクに有効。\n",
        "\n",
        "以下はmax_workers の最適値を見つけるサンプル。"
      ],
      "metadata": {
        "id": "wwekeS81DZbT"
      }
    },
    {
      "cell_type": "code",
      "source": [
        "import numpy as np\n",
        "import concurrent.futures\n",
        "\n",
        "def do_something(size):\n",
        "    return np.dot(np.ones((size, size)), np.ones((size, size)))\n",
        "\n",
        "worker_values = [1, 2, 4, 8, 16, 32, 64]\n",
        "tasks = [1000] * 10\n",
        "\n",
        "for max_workers in worker_values:\n",
        "    with timer(f\"max_workers={max_workers}\"):\n",
        "        with concurrent.futures.ProcessPoolExecutor(max_workers) as executor:\n",
        "            futures = [executor.submit(do_something, task) for task in tasks]\n",
        "            results = [f.result() for f in concurrent.futures.as_completed(futures)]"
      ],
      "metadata": {
        "colab": {
          "base_uri": "https://localhost:8080/"
        },
        "id": "CfJwduFK0csU",
        "outputId": "a9b52b23-1031-48b3-81d9-e7d187e4e712"
      },
      "execution_count": 11,
      "outputs": [
        {
          "output_type": "stream",
          "name": "stdout",
          "text": [
            "[max_workers=1]:  1.04 s\n",
            "[max_workers=2]:  1.44 s\n",
            "[max_workers=4]:  1.76 s\n",
            "[max_workers=8]:  2.57 s\n",
            "[max_workers=16]:  1.51 s\n",
            "[max_workers=32]:  1.48 s\n",
            "[max_workers=64]:  1.83 s\n"
          ]
        }
      ]
    },
    {
      "cell_type": "markdown",
      "source": [
        "上記は submit メソッドを使用した。\n",
        "submit は for 文などで順次タスクを追加する場合に便利。\n",
        "\n",
        "既に処理対象がリストなどでまとまっている場合は map メソッドが便利。使い方は以下。"
      ],
      "metadata": {
        "id": "Dyz-vddJ-MpP"
      }
    },
    {
      "cell_type": "code",
      "source": [
        "import numpy as np\n",
        "import concurrent.futures\n",
        "\n",
        "def do_something(size):\n",
        "    return np.dot(np.ones((size, size)), np.ones((size, size)))\n",
        "\n",
        "worker_values = [1, 2, 4, 8, 16, 32, 64]\n",
        "tasks = [1000] * 10\n",
        "\n",
        "for max_workers in worker_values:\n",
        "    with timer(f\"max_workers={max_workers}\"):\n",
        "        with concurrent.futures.ProcessPoolExecutor(max_workers) as executor:\n",
        "            results = executor.map(do_something, tasks)"
      ],
      "metadata": {
        "id": "NNet8Nsz-TNg",
        "outputId": "0388a38b-737b-4f23-a9bb-0a67ef21993d",
        "colab": {
          "base_uri": "https://localhost:8080/"
        }
      },
      "execution_count": 12,
      "outputs": [
        {
          "output_type": "stream",
          "name": "stdout",
          "text": [
            "[max_workers=1]:  0.849 s\n",
            "[max_workers=2]:  1.08 s\n",
            "[max_workers=4]:  0.938 s\n",
            "[max_workers=8]:  0.979 s\n",
            "[max_workers=16]:  1.08 s\n",
            "[max_workers=32]:  2.03 s\n",
            "[max_workers=64]:  3.22 s\n"
          ]
        }
      ]
    },
    {
      "cell_type": "markdown",
      "source": [
        "ThreadPoolExecutor は I/O bound のタスクに有効"
      ],
      "metadata": {
        "id": "mGfwcN4e7iD_"
      }
    },
    {
      "cell_type": "code",
      "source": [
        "import numpy as np\n",
        "import requests\n",
        "import concurrent.futures\n",
        "\n",
        "def do_something(url):\n",
        "    response = requests.get(url)\n",
        "    return response\n",
        "\n",
        "worker_values = [1, 2, 4, 8, 16, 32, 64]\n",
        "tasks = ['https://google.com', 'https://facebook.com', 'https://twitter.com',\n",
        "         'https://www.youtube.com/', 'https://www.amazon.com/',\n",
        "         'https://github.com/']\n",
        "\n",
        "for max_workers in worker_values:\n",
        "    with timer(f\"max_workers={max_workers}\"):\n",
        "        with concurrent.futures.ThreadPoolExecutor(max_workers) as executor:\n",
        "            results = executor.map(do_something, tasks)"
      ],
      "metadata": {
        "id": "rfJ_vZXl054L",
        "colab": {
          "base_uri": "https://localhost:8080/"
        },
        "outputId": "260bec7c-d425-4c07-dc9c-a358856d4caf"
      },
      "execution_count": 13,
      "outputs": [
        {
          "output_type": "stream",
          "name": "stdout",
          "text": [
            "[max_workers=1]:  1.41 s\n",
            "[max_workers=2]:  0.756 s\n",
            "[max_workers=4]:  0.474 s\n",
            "[max_workers=8]:  0.37 s\n",
            "[max_workers=16]:  0.325 s\n",
            "[max_workers=32]:  0.373 s\n",
            "[max_workers=64]:  0.322 s\n"
          ]
        }
      ]
    },
    {
      "cell_type": "markdown",
      "source": [
        "結果はジェネレータ式なので for 文で処理可能"
      ],
      "metadata": {
        "id": "IGdts22fAJg5"
      }
    },
    {
      "cell_type": "code",
      "source": [
        "with concurrent.futures.ThreadPoolExecutor(max_workers=16) as executor:\n",
        "    results = executor.map(do_something, tasks)\n",
        "\n",
        "print(f\"type_of_results={type(results)}\")\n",
        "for task, result in zip(tasks, results):\n",
        "    print(f\"{task}: code {result.status_code}\")"
      ],
      "metadata": {
        "id": "bxr8Rwi273EI",
        "colab": {
          "base_uri": "https://localhost:8080/"
        },
        "outputId": "869835c6-4791-4803-cbf7-ebfcc5afbf85"
      },
      "execution_count": 14,
      "outputs": [
        {
          "output_type": "stream",
          "name": "stdout",
          "text": [
            "type_of_results=<class 'generator'>\n",
            "https://google.com: code 200\n",
            "https://facebook.com: code 200\n",
            "https://twitter.com: code 200\n",
            "https://www.youtube.com/: code 200\n",
            "https://www.amazon.com/: code 503\n",
            "https://github.com/: code 200\n"
          ]
        }
      ]
    },
    {
      "cell_type": "markdown",
      "source": [
        "### tqdm.contrib の利用"
      ],
      "metadata": {
        "id": "iqDrkIs-zoF6"
      }
    },
    {
      "cell_type": "markdown",
      "source": [
        "tqdm.contrib.concurrent.thread_map で tqdm と併用可能。表記もシンプル。"
      ],
      "metadata": {
        "id": "ChXpE-Dpzzma"
      }
    },
    {
      "cell_type": "code",
      "source": [
        "from tqdm.contrib.concurrent import thread_map\n",
        "\n",
        "\n",
        "def do_something(url):\n",
        "    response = requests.get(url)\n",
        "    return response\n",
        "\n",
        "worker_values = [1, 2, 4, 8, 16, 32, 64]\n",
        "tasks = ['https://google.com', 'https://facebook.com', 'https://twitter.com',\n",
        "         'https://www.youtube.com/', 'https://www.amazon.com/',\n",
        "         'https://github.com/']\n",
        "\n",
        "results = list(thread_map(do_something, tasks))"
      ],
      "metadata": {
        "id": "Hd5Sod7N-dhn",
        "outputId": "e9ec39a1-48f2-4453-9913-4e6cd96781fb",
        "colab": {
          "base_uri": "https://localhost:8080/",
          "height": 49,
          "referenced_widgets": [
            "db1b3d356c2d440e813908dc9f89904f",
            "36d962c88fed457481906ed4bc0822e3",
            "a0a7b42eb1584729846f2cedb2ea6a8f",
            "57bbd8f3677a475faf5a361b5ae5f543",
            "5656b620d941404bb5170466fb6a8710",
            "4f9c6561399b4a0a9907554f611a2e6a",
            "554667da578b48ccb08a7bb859d6c11a",
            "6c800155604546ba8a9ee4c0477a7eb1",
            "beb9691c2cf242dbae14b30c0b6e9657",
            "354584bebc2d4f4c9836f1c8d506e56f",
            "0578ed8e57c24ef3b8a1fff7d8826404"
          ]
        }
      },
      "execution_count": 17,
      "outputs": [
        {
          "output_type": "display_data",
          "data": {
            "text/plain": [
              "  0%|          | 0/6 [00:00<?, ?it/s]"
            ],
            "application/vnd.jupyter.widget-view+json": {
              "version_major": 2,
              "version_minor": 0,
              "model_id": "db1b3d356c2d440e813908dc9f89904f"
            }
          },
          "metadata": {}
        }
      ]
    },
    {
      "cell_type": "markdown",
      "source": [
        "tqdm.contrib.concurrent.process_map も同様"
      ],
      "metadata": {
        "id": "hK4bmtct0H3d"
      }
    },
    {
      "cell_type": "code",
      "source": [
        "from tqdm.contrib.concurrent import process_map\n",
        "\n",
        "def do_something(size):\n",
        "    return np.dot(np.ones((size, size)), np.ones((size, size)))\n",
        "\n",
        "tasks = [1000] * 10\n",
        "results = list(process_map(do_something, tasks))"
      ],
      "metadata": {
        "id": "X72TNx-E0K8l",
        "outputId": "45408e60-3b1e-4521-c1d5-c950ab5f86c9",
        "colab": {
          "base_uri": "https://localhost:8080/",
          "height": 49,
          "referenced_widgets": [
            "42ade088f2ea43daaee12e60abf7ce9a",
            "1153ef95503b4ae09772e54f977d74b0",
            "38c0b33db5bf4b82914c3a80726e57d6",
            "717b68ef97fa4ac58df47f599f62ac2a",
            "02262f59275a49a68ceb9754d783df01",
            "218e52128627401e9f9ab569e778367f",
            "d7ef5df22a30448483c665e614e34f91",
            "02747c85def04922ada33faeecf93959",
            "5764611fb71548da8f500eb0c5867c10",
            "df03ee536e2a4466ac0ad66dac4edd6c",
            "2c91a2662cfc4c7b868040e470d3a811"
          ]
        }
      },
      "execution_count": 19,
      "outputs": [
        {
          "output_type": "display_data",
          "data": {
            "text/plain": [
              "  0%|          | 0/10 [00:00<?, ?it/s]"
            ],
            "application/vnd.jupyter.widget-view+json": {
              "version_major": 2,
              "version_minor": 0,
              "model_id": "42ade088f2ea43daaee12e60abf7ce9a"
            }
          },
          "metadata": {}
        }
      ]
    },
    {
      "cell_type": "code",
      "source": [],
      "metadata": {
        "id": "W1CrLe640n01"
      },
      "execution_count": null,
      "outputs": []
    }
  ]
}