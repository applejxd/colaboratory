{
  "nbformat": 4,
  "nbformat_minor": 0,
  "metadata": {
    "colab": {
      "provenance": [],
      "toc_visible": true,
      "authorship_tag": "ABX9TyMaWDH+Vg/EgDcfHF4virca",
      "include_colab_link": true
    },
    "kernelspec": {
      "name": "python3",
      "display_name": "Python 3"
    },
    "language_info": {
      "name": "python"
    },
    "accelerator": "GPU",
    "gpuClass": "standard",
    "widgets": {
      "application/vnd.jupyter.widget-state+json": {
        "e946ea750c4f432a93ef8775906f6179": {
          "model_module": "@jupyter-widgets/controls",
          "model_name": "HBoxModel",
          "model_module_version": "1.5.0",
          "state": {
            "_dom_classes": [],
            "_model_module": "@jupyter-widgets/controls",
            "_model_module_version": "1.5.0",
            "_model_name": "HBoxModel",
            "_view_count": null,
            "_view_module": "@jupyter-widgets/controls",
            "_view_module_version": "1.5.0",
            "_view_name": "HBoxView",
            "box_style": "",
            "children": [
              "IPY_MODEL_472e79b309da45e29f917bafa39b9f17",
              "IPY_MODEL_baf4178707904b0a87ed9ef60bb62e75",
              "IPY_MODEL_715c84230f214377b1c099d8830a9ae1"
            ],
            "layout": "IPY_MODEL_4d6fbe85dc5045b08c67a1338278bcb4"
          }
        },
        "472e79b309da45e29f917bafa39b9f17": {
          "model_module": "@jupyter-widgets/controls",
          "model_name": "HTMLModel",
          "model_module_version": "1.5.0",
          "state": {
            "_dom_classes": [],
            "_model_module": "@jupyter-widgets/controls",
            "_model_module_version": "1.5.0",
            "_model_name": "HTMLModel",
            "_view_count": null,
            "_view_module": "@jupyter-widgets/controls",
            "_view_module_version": "1.5.0",
            "_view_name": "HTMLView",
            "description": "",
            "description_tooltip": null,
            "layout": "IPY_MODEL_895b740aa28b46cc864bc49b2cd98f07",
            "placeholder": "​",
            "style": "IPY_MODEL_8d7e9117029b4809b5c486b07f2ab3ac",
            "value": "100%"
          }
        },
        "baf4178707904b0a87ed9ef60bb62e75": {
          "model_module": "@jupyter-widgets/controls",
          "model_name": "FloatProgressModel",
          "model_module_version": "1.5.0",
          "state": {
            "_dom_classes": [],
            "_model_module": "@jupyter-widgets/controls",
            "_model_module_version": "1.5.0",
            "_model_name": "FloatProgressModel",
            "_view_count": null,
            "_view_module": "@jupyter-widgets/controls",
            "_view_module_version": "1.5.0",
            "_view_name": "ProgressView",
            "bar_style": "success",
            "description": "",
            "description_tooltip": null,
            "layout": "IPY_MODEL_2e0d3b8bafdc43a5a82023a8fc189b79",
            "max": 6,
            "min": 0,
            "orientation": "horizontal",
            "style": "IPY_MODEL_8b530eef616d47f5ace0311b0fd30c31",
            "value": 6
          }
        },
        "715c84230f214377b1c099d8830a9ae1": {
          "model_module": "@jupyter-widgets/controls",
          "model_name": "HTMLModel",
          "model_module_version": "1.5.0",
          "state": {
            "_dom_classes": [],
            "_model_module": "@jupyter-widgets/controls",
            "_model_module_version": "1.5.0",
            "_model_name": "HTMLModel",
            "_view_count": null,
            "_view_module": "@jupyter-widgets/controls",
            "_view_module_version": "1.5.0",
            "_view_name": "HTMLView",
            "description": "",
            "description_tooltip": null,
            "layout": "IPY_MODEL_bad9152fb73f4699b70a87bb28503bd1",
            "placeholder": "​",
            "style": "IPY_MODEL_2758b7eb0edc487582a23f7c85118b55",
            "value": " 6/6 [00:00&lt;00:00,  3.92it/s]"
          }
        },
        "4d6fbe85dc5045b08c67a1338278bcb4": {
          "model_module": "@jupyter-widgets/base",
          "model_name": "LayoutModel",
          "model_module_version": "1.2.0",
          "state": {
            "_model_module": "@jupyter-widgets/base",
            "_model_module_version": "1.2.0",
            "_model_name": "LayoutModel",
            "_view_count": null,
            "_view_module": "@jupyter-widgets/base",
            "_view_module_version": "1.2.0",
            "_view_name": "LayoutView",
            "align_content": null,
            "align_items": null,
            "align_self": null,
            "border": null,
            "bottom": null,
            "display": null,
            "flex": null,
            "flex_flow": null,
            "grid_area": null,
            "grid_auto_columns": null,
            "grid_auto_flow": null,
            "grid_auto_rows": null,
            "grid_column": null,
            "grid_gap": null,
            "grid_row": null,
            "grid_template_areas": null,
            "grid_template_columns": null,
            "grid_template_rows": null,
            "height": null,
            "justify_content": null,
            "justify_items": null,
            "left": null,
            "margin": null,
            "max_height": null,
            "max_width": null,
            "min_height": null,
            "min_width": null,
            "object_fit": null,
            "object_position": null,
            "order": null,
            "overflow": null,
            "overflow_x": null,
            "overflow_y": null,
            "padding": null,
            "right": null,
            "top": null,
            "visibility": null,
            "width": null
          }
        },
        "895b740aa28b46cc864bc49b2cd98f07": {
          "model_module": "@jupyter-widgets/base",
          "model_name": "LayoutModel",
          "model_module_version": "1.2.0",
          "state": {
            "_model_module": "@jupyter-widgets/base",
            "_model_module_version": "1.2.0",
            "_model_name": "LayoutModel",
            "_view_count": null,
            "_view_module": "@jupyter-widgets/base",
            "_view_module_version": "1.2.0",
            "_view_name": "LayoutView",
            "align_content": null,
            "align_items": null,
            "align_self": null,
            "border": null,
            "bottom": null,
            "display": null,
            "flex": null,
            "flex_flow": null,
            "grid_area": null,
            "grid_auto_columns": null,
            "grid_auto_flow": null,
            "grid_auto_rows": null,
            "grid_column": null,
            "grid_gap": null,
            "grid_row": null,
            "grid_template_areas": null,
            "grid_template_columns": null,
            "grid_template_rows": null,
            "height": null,
            "justify_content": null,
            "justify_items": null,
            "left": null,
            "margin": null,
            "max_height": null,
            "max_width": null,
            "min_height": null,
            "min_width": null,
            "object_fit": null,
            "object_position": null,
            "order": null,
            "overflow": null,
            "overflow_x": null,
            "overflow_y": null,
            "padding": null,
            "right": null,
            "top": null,
            "visibility": null,
            "width": null
          }
        },
        "8d7e9117029b4809b5c486b07f2ab3ac": {
          "model_module": "@jupyter-widgets/controls",
          "model_name": "DescriptionStyleModel",
          "model_module_version": "1.5.0",
          "state": {
            "_model_module": "@jupyter-widgets/controls",
            "_model_module_version": "1.5.0",
            "_model_name": "DescriptionStyleModel",
            "_view_count": null,
            "_view_module": "@jupyter-widgets/base",
            "_view_module_version": "1.2.0",
            "_view_name": "StyleView",
            "description_width": ""
          }
        },
        "2e0d3b8bafdc43a5a82023a8fc189b79": {
          "model_module": "@jupyter-widgets/base",
          "model_name": "LayoutModel",
          "model_module_version": "1.2.0",
          "state": {
            "_model_module": "@jupyter-widgets/base",
            "_model_module_version": "1.2.0",
            "_model_name": "LayoutModel",
            "_view_count": null,
            "_view_module": "@jupyter-widgets/base",
            "_view_module_version": "1.2.0",
            "_view_name": "LayoutView",
            "align_content": null,
            "align_items": null,
            "align_self": null,
            "border": null,
            "bottom": null,
            "display": null,
            "flex": null,
            "flex_flow": null,
            "grid_area": null,
            "grid_auto_columns": null,
            "grid_auto_flow": null,
            "grid_auto_rows": null,
            "grid_column": null,
            "grid_gap": null,
            "grid_row": null,
            "grid_template_areas": null,
            "grid_template_columns": null,
            "grid_template_rows": null,
            "height": null,
            "justify_content": null,
            "justify_items": null,
            "left": null,
            "margin": null,
            "max_height": null,
            "max_width": null,
            "min_height": null,
            "min_width": null,
            "object_fit": null,
            "object_position": null,
            "order": null,
            "overflow": null,
            "overflow_x": null,
            "overflow_y": null,
            "padding": null,
            "right": null,
            "top": null,
            "visibility": null,
            "width": null
          }
        },
        "8b530eef616d47f5ace0311b0fd30c31": {
          "model_module": "@jupyter-widgets/controls",
          "model_name": "ProgressStyleModel",
          "model_module_version": "1.5.0",
          "state": {
            "_model_module": "@jupyter-widgets/controls",
            "_model_module_version": "1.5.0",
            "_model_name": "ProgressStyleModel",
            "_view_count": null,
            "_view_module": "@jupyter-widgets/base",
            "_view_module_version": "1.2.0",
            "_view_name": "StyleView",
            "bar_color": null,
            "description_width": ""
          }
        },
        "bad9152fb73f4699b70a87bb28503bd1": {
          "model_module": "@jupyter-widgets/base",
          "model_name": "LayoutModel",
          "model_module_version": "1.2.0",
          "state": {
            "_model_module": "@jupyter-widgets/base",
            "_model_module_version": "1.2.0",
            "_model_name": "LayoutModel",
            "_view_count": null,
            "_view_module": "@jupyter-widgets/base",
            "_view_module_version": "1.2.0",
            "_view_name": "LayoutView",
            "align_content": null,
            "align_items": null,
            "align_self": null,
            "border": null,
            "bottom": null,
            "display": null,
            "flex": null,
            "flex_flow": null,
            "grid_area": null,
            "grid_auto_columns": null,
            "grid_auto_flow": null,
            "grid_auto_rows": null,
            "grid_column": null,
            "grid_gap": null,
            "grid_row": null,
            "grid_template_areas": null,
            "grid_template_columns": null,
            "grid_template_rows": null,
            "height": null,
            "justify_content": null,
            "justify_items": null,
            "left": null,
            "margin": null,
            "max_height": null,
            "max_width": null,
            "min_height": null,
            "min_width": null,
            "object_fit": null,
            "object_position": null,
            "order": null,
            "overflow": null,
            "overflow_x": null,
            "overflow_y": null,
            "padding": null,
            "right": null,
            "top": null,
            "visibility": null,
            "width": null
          }
        },
        "2758b7eb0edc487582a23f7c85118b55": {
          "model_module": "@jupyter-widgets/controls",
          "model_name": "DescriptionStyleModel",
          "model_module_version": "1.5.0",
          "state": {
            "_model_module": "@jupyter-widgets/controls",
            "_model_module_version": "1.5.0",
            "_model_name": "DescriptionStyleModel",
            "_view_count": null,
            "_view_module": "@jupyter-widgets/base",
            "_view_module_version": "1.2.0",
            "_view_name": "StyleView",
            "description_width": ""
          }
        },
        "0aa4b3328c2f4aa4997fe82c9b266ec8": {
          "model_module": "@jupyter-widgets/controls",
          "model_name": "HBoxModel",
          "model_module_version": "1.5.0",
          "state": {
            "_dom_classes": [],
            "_model_module": "@jupyter-widgets/controls",
            "_model_module_version": "1.5.0",
            "_model_name": "HBoxModel",
            "_view_count": null,
            "_view_module": "@jupyter-widgets/controls",
            "_view_module_version": "1.5.0",
            "_view_name": "HBoxView",
            "box_style": "",
            "children": [
              "IPY_MODEL_73875b3736ea49c19c3420cd8c211d1c",
              "IPY_MODEL_fdbdb1201770406aa5bf51fab0d5ed4b",
              "IPY_MODEL_4f5e0b86248b48479024b21f748b3fe8"
            ],
            "layout": "IPY_MODEL_777c720aa6b741bda368f57562ed516a"
          }
        },
        "73875b3736ea49c19c3420cd8c211d1c": {
          "model_module": "@jupyter-widgets/controls",
          "model_name": "HTMLModel",
          "model_module_version": "1.5.0",
          "state": {
            "_dom_classes": [],
            "_model_module": "@jupyter-widgets/controls",
            "_model_module_version": "1.5.0",
            "_model_name": "HTMLModel",
            "_view_count": null,
            "_view_module": "@jupyter-widgets/controls",
            "_view_module_version": "1.5.0",
            "_view_name": "HTMLView",
            "description": "",
            "description_tooltip": null,
            "layout": "IPY_MODEL_715246b3510b4aaca6ba016a42bc1178",
            "placeholder": "​",
            "style": "IPY_MODEL_28aa621b47d546b19b883fb96dc2d9b0",
            "value": "100%"
          }
        },
        "fdbdb1201770406aa5bf51fab0d5ed4b": {
          "model_module": "@jupyter-widgets/controls",
          "model_name": "FloatProgressModel",
          "model_module_version": "1.5.0",
          "state": {
            "_dom_classes": [],
            "_model_module": "@jupyter-widgets/controls",
            "_model_module_version": "1.5.0",
            "_model_name": "FloatProgressModel",
            "_view_count": null,
            "_view_module": "@jupyter-widgets/controls",
            "_view_module_version": "1.5.0",
            "_view_name": "ProgressView",
            "bar_style": "success",
            "description": "",
            "description_tooltip": null,
            "layout": "IPY_MODEL_45081a30fad04cad83125b40d6f66f05",
            "max": 10,
            "min": 0,
            "orientation": "horizontal",
            "style": "IPY_MODEL_09b9e7c706864c2da005c1a7165ff78f",
            "value": 10
          }
        },
        "4f5e0b86248b48479024b21f748b3fe8": {
          "model_module": "@jupyter-widgets/controls",
          "model_name": "HTMLModel",
          "model_module_version": "1.5.0",
          "state": {
            "_dom_classes": [],
            "_model_module": "@jupyter-widgets/controls",
            "_model_module_version": "1.5.0",
            "_model_name": "HTMLModel",
            "_view_count": null,
            "_view_module": "@jupyter-widgets/controls",
            "_view_module_version": "1.5.0",
            "_view_name": "HTMLView",
            "description": "",
            "description_tooltip": null,
            "layout": "IPY_MODEL_4a215563792a4cc8ab9f4e4e6b8c5e51",
            "placeholder": "​",
            "style": "IPY_MODEL_d89b10b8bc5645ec98a1644e1ed68918",
            "value": " 10/10 [00:01&lt;00:00, 12.56it/s]"
          }
        },
        "777c720aa6b741bda368f57562ed516a": {
          "model_module": "@jupyter-widgets/base",
          "model_name": "LayoutModel",
          "model_module_version": "1.2.0",
          "state": {
            "_model_module": "@jupyter-widgets/base",
            "_model_module_version": "1.2.0",
            "_model_name": "LayoutModel",
            "_view_count": null,
            "_view_module": "@jupyter-widgets/base",
            "_view_module_version": "1.2.0",
            "_view_name": "LayoutView",
            "align_content": null,
            "align_items": null,
            "align_self": null,
            "border": null,
            "bottom": null,
            "display": null,
            "flex": null,
            "flex_flow": null,
            "grid_area": null,
            "grid_auto_columns": null,
            "grid_auto_flow": null,
            "grid_auto_rows": null,
            "grid_column": null,
            "grid_gap": null,
            "grid_row": null,
            "grid_template_areas": null,
            "grid_template_columns": null,
            "grid_template_rows": null,
            "height": null,
            "justify_content": null,
            "justify_items": null,
            "left": null,
            "margin": null,
            "max_height": null,
            "max_width": null,
            "min_height": null,
            "min_width": null,
            "object_fit": null,
            "object_position": null,
            "order": null,
            "overflow": null,
            "overflow_x": null,
            "overflow_y": null,
            "padding": null,
            "right": null,
            "top": null,
            "visibility": null,
            "width": null
          }
        },
        "715246b3510b4aaca6ba016a42bc1178": {
          "model_module": "@jupyter-widgets/base",
          "model_name": "LayoutModel",
          "model_module_version": "1.2.0",
          "state": {
            "_model_module": "@jupyter-widgets/base",
            "_model_module_version": "1.2.0",
            "_model_name": "LayoutModel",
            "_view_count": null,
            "_view_module": "@jupyter-widgets/base",
            "_view_module_version": "1.2.0",
            "_view_name": "LayoutView",
            "align_content": null,
            "align_items": null,
            "align_self": null,
            "border": null,
            "bottom": null,
            "display": null,
            "flex": null,
            "flex_flow": null,
            "grid_area": null,
            "grid_auto_columns": null,
            "grid_auto_flow": null,
            "grid_auto_rows": null,
            "grid_column": null,
            "grid_gap": null,
            "grid_row": null,
            "grid_template_areas": null,
            "grid_template_columns": null,
            "grid_template_rows": null,
            "height": null,
            "justify_content": null,
            "justify_items": null,
            "left": null,
            "margin": null,
            "max_height": null,
            "max_width": null,
            "min_height": null,
            "min_width": null,
            "object_fit": null,
            "object_position": null,
            "order": null,
            "overflow": null,
            "overflow_x": null,
            "overflow_y": null,
            "padding": null,
            "right": null,
            "top": null,
            "visibility": null,
            "width": null
          }
        },
        "28aa621b47d546b19b883fb96dc2d9b0": {
          "model_module": "@jupyter-widgets/controls",
          "model_name": "DescriptionStyleModel",
          "model_module_version": "1.5.0",
          "state": {
            "_model_module": "@jupyter-widgets/controls",
            "_model_module_version": "1.5.0",
            "_model_name": "DescriptionStyleModel",
            "_view_count": null,
            "_view_module": "@jupyter-widgets/base",
            "_view_module_version": "1.2.0",
            "_view_name": "StyleView",
            "description_width": ""
          }
        },
        "45081a30fad04cad83125b40d6f66f05": {
          "model_module": "@jupyter-widgets/base",
          "model_name": "LayoutModel",
          "model_module_version": "1.2.0",
          "state": {
            "_model_module": "@jupyter-widgets/base",
            "_model_module_version": "1.2.0",
            "_model_name": "LayoutModel",
            "_view_count": null,
            "_view_module": "@jupyter-widgets/base",
            "_view_module_version": "1.2.0",
            "_view_name": "LayoutView",
            "align_content": null,
            "align_items": null,
            "align_self": null,
            "border": null,
            "bottom": null,
            "display": null,
            "flex": null,
            "flex_flow": null,
            "grid_area": null,
            "grid_auto_columns": null,
            "grid_auto_flow": null,
            "grid_auto_rows": null,
            "grid_column": null,
            "grid_gap": null,
            "grid_row": null,
            "grid_template_areas": null,
            "grid_template_columns": null,
            "grid_template_rows": null,
            "height": null,
            "justify_content": null,
            "justify_items": null,
            "left": null,
            "margin": null,
            "max_height": null,
            "max_width": null,
            "min_height": null,
            "min_width": null,
            "object_fit": null,
            "object_position": null,
            "order": null,
            "overflow": null,
            "overflow_x": null,
            "overflow_y": null,
            "padding": null,
            "right": null,
            "top": null,
            "visibility": null,
            "width": null
          }
        },
        "09b9e7c706864c2da005c1a7165ff78f": {
          "model_module": "@jupyter-widgets/controls",
          "model_name": "ProgressStyleModel",
          "model_module_version": "1.5.0",
          "state": {
            "_model_module": "@jupyter-widgets/controls",
            "_model_module_version": "1.5.0",
            "_model_name": "ProgressStyleModel",
            "_view_count": null,
            "_view_module": "@jupyter-widgets/base",
            "_view_module_version": "1.2.0",
            "_view_name": "StyleView",
            "bar_color": null,
            "description_width": ""
          }
        },
        "4a215563792a4cc8ab9f4e4e6b8c5e51": {
          "model_module": "@jupyter-widgets/base",
          "model_name": "LayoutModel",
          "model_module_version": "1.2.0",
          "state": {
            "_model_module": "@jupyter-widgets/base",
            "_model_module_version": "1.2.0",
            "_model_name": "LayoutModel",
            "_view_count": null,
            "_view_module": "@jupyter-widgets/base",
            "_view_module_version": "1.2.0",
            "_view_name": "LayoutView",
            "align_content": null,
            "align_items": null,
            "align_self": null,
            "border": null,
            "bottom": null,
            "display": null,
            "flex": null,
            "flex_flow": null,
            "grid_area": null,
            "grid_auto_columns": null,
            "grid_auto_flow": null,
            "grid_auto_rows": null,
            "grid_column": null,
            "grid_gap": null,
            "grid_row": null,
            "grid_template_areas": null,
            "grid_template_columns": null,
            "grid_template_rows": null,
            "height": null,
            "justify_content": null,
            "justify_items": null,
            "left": null,
            "margin": null,
            "max_height": null,
            "max_width": null,
            "min_height": null,
            "min_width": null,
            "object_fit": null,
            "object_position": null,
            "order": null,
            "overflow": null,
            "overflow_x": null,
            "overflow_y": null,
            "padding": null,
            "right": null,
            "top": null,
            "visibility": null,
            "width": null
          }
        },
        "d89b10b8bc5645ec98a1644e1ed68918": {
          "model_module": "@jupyter-widgets/controls",
          "model_name": "DescriptionStyleModel",
          "model_module_version": "1.5.0",
          "state": {
            "_model_module": "@jupyter-widgets/controls",
            "_model_module_version": "1.5.0",
            "_model_name": "DescriptionStyleModel",
            "_view_count": null,
            "_view_module": "@jupyter-widgets/base",
            "_view_module_version": "1.2.0",
            "_view_name": "StyleView",
            "description_width": ""
          }
        }
      }
    }
  },
  "cells": [
    {
      "cell_type": "markdown",
      "metadata": {
        "id": "view-in-github",
        "colab_type": "text"
      },
      "source": [
        "<a href=\"https://colab.research.google.com/github/applejxd/colaboratory/blob/master/others/rapid_python.ipynb\" target=\"_parent\"><img src=\"https://colab.research.google.com/assets/colab-badge.svg\" alt=\"Open In Colab\"/></a>"
      ]
    },
    {
      "cell_type": "markdown",
      "source": [
        "## numba での高速化"
      ],
      "metadata": {
        "id": "8IdvJH2vMY8Q"
      }
    },
    {
      "cell_type": "markdown",
      "source": [
        "### njit: numba の nopython モード"
      ],
      "metadata": {
        "id": "IzedeV8I4L9-"
      }
    },
    {
      "cell_type": "markdown",
      "source": [
        "[numpy での重い計算の例](https://qiita.com/gyu-don/items/9d223b007ca620e95abc)"
      ],
      "metadata": {
        "id": "Tl2lr6Ye0Bfj"
      }
    },
    {
      "cell_type": "code",
      "execution_count": 27,
      "metadata": {
        "id": "q7gnobz9z72j"
      },
      "outputs": [],
      "source": [
        "import sys\n",
        "sys.setrecursionlimit(100000)\n",
        "\n",
        "def ack(m, n):\n",
        "    if m == 0:\n",
        "        return n + 1\n",
        "    if n == 0:\n",
        "        return ack(m - 1, 1)\n",
        "    return ack(m - 1, ack(m, n - 1))"
      ]
    },
    {
      "cell_type": "markdown",
      "source": [
        "通常時の計算時間を測定"
      ],
      "metadata": {
        "id": "HM09YR631y6L"
      }
    },
    {
      "cell_type": "code",
      "source": [
        "import time\n",
        "from contextlib import contextmanager\n",
        "\n",
        "@contextmanager\n",
        "def timer(target: str):\n",
        "    t = time.perf_counter()\n",
        "    yield None\n",
        "    # 有効数字3桁表示\n",
        "    print(f\"[{target}]: {time.perf_counter() - t: .3g} s\")\n",
        "\n",
        "with timer(\"ack(3, 10)\"):\n",
        "    ack(3, 10)"
      ],
      "metadata": {
        "colab": {
          "base_uri": "https://localhost:8080/"
        },
        "id": "VmDSM--G1sZ0",
        "outputId": "86e29a0e-7106-43b8-87a1-e827c7d17ebc"
      },
      "execution_count": 28,
      "outputs": [
        {
          "output_type": "stream",
          "name": "stdout",
          "text": [
            "[ack(3, 10)]:  7.62 s\n"
          ]
        }
      ]
    },
    {
      "cell_type": "markdown",
      "source": [
        "njit で高速化。[型推論は自動。ポリモーフィズムも対応。](https://numba.readthedocs.io/en/stable/user/jit.html)"
      ],
      "metadata": {
        "id": "rceYjPsx4OgL"
      }
    },
    {
      "cell_type": "code",
      "source": [
        "from numba import njit\n",
        "\n",
        "with timer(\"define njit function\"):\n",
        "    @njit(cache=True)\n",
        "    def lazy_ack(m, n):\n",
        "        if m == 0:\n",
        "            return n + 1\n",
        "        if n == 0:\n",
        "            return lazy_ack(m - 1, 1)\n",
        "        return lazy_ack(m - 1, lazy_ack(m, n - 1))\n",
        "\n",
        "# コンパイル時間含む\n",
        "with timer(\"1st try\"):\n",
        "    lazy_ack(3, 10)\n",
        "\n",
        "# コンパイル時間含まない\n",
        "with timer(\"2nd try\"):\n",
        "    lazy_ack(3, 10)"
      ],
      "metadata": {
        "colab": {
          "base_uri": "https://localhost:8080/"
        },
        "id": "vTYXlQfi1340",
        "outputId": "62c3b189-acc4-4045-f318-a89641c6658b"
      },
      "execution_count": 29,
      "outputs": [
        {
          "output_type": "stream",
          "name": "stdout",
          "text": [
            "[define njit function]:  0.0647 s\n",
            "[1st try]:  1.36 s\n",
            "[2nd try]:  0.229 s\n"
          ]
        }
      ]
    },
    {
      "cell_type": "markdown",
      "source": [
        "定義時に型指定でコンパイル。トータル時間は変化なし。\n",
        "ポリモーフィズムもないため処理速度を図る目的等がなければ使わなくてもよい。"
      ],
      "metadata": {
        "id": "vnlzwn-d4I1u"
      }
    },
    {
      "cell_type": "code",
      "source": [
        "with timer(\"define njit function\"):\n",
        "    @njit(\"int32(int32, int32)\", cache=True)\n",
        "    def eager_ack(m, n):\n",
        "        if m == 0:\n",
        "            return n + 1\n",
        "        if n == 0:\n",
        "            return eager_ack(m - 1, 1)\n",
        "        return eager_ack(m - 1, eager_ack(m, n - 1))\n",
        "\n",
        "# 初回\n",
        "with timer(\"compile time included\"):\n",
        "    eager_ack(3, 10)\n",
        "\n",
        "# 事前にコンパイル済なので二回目以降の計算時間も同等\n",
        "with timer(\"compile time excluded\"):\n",
        "    eager_ack(3, 10)"
      ],
      "metadata": {
        "colab": {
          "base_uri": "https://localhost:8080/"
        },
        "id": "_Irxms7w1Cp4",
        "outputId": "5596ea89-c32b-4a88-d7fb-6179e29250f3"
      },
      "execution_count": 30,
      "outputs": [
        {
          "output_type": "stream",
          "name": "stdout",
          "text": [
            "[define njit function]:  0.396 s\n",
            "[compile time included]:  0.23 s\n",
            "[compile time excluded]:  0.242 s\n"
          ]
        }
      ]
    },
    {
      "cell_type": "markdown",
      "source": [
        "### 並列化 & fastmath\n"
      ],
      "metadata": {
        "id": "_SAW0HDr79A5"
      }
    },
    {
      "cell_type": "markdown",
      "source": [
        "[検証が容易な2重ループの例](https://qiita.com/AnchorBlues/items/59a8543765549fe7bac0)\n",
        "\\begin{equation}\n",
        " S_L=\\sum_{i=0}^{L-1}\\sum_{j=0}^{L-1} (i-j)\n",
        "\\end{equation}"
      ],
      "metadata": {
        "id": "PfkZQqBI4foh"
      }
    },
    {
      "cell_type": "code",
      "source": [
        "def double_sum(size):\n",
        "    sum = 0\n",
        "    for i in range(size):\n",
        "        for j in range(size):\n",
        "            sum += i - j\n",
        "    return sum\n",
        "\n",
        "size = 10000\n",
        "\n",
        "with timer(\"pure python\"):\n",
        "    # 0 となることを確認\n",
        "    print(f\"ans={double_sum(size)}\")"
      ],
      "metadata": {
        "colab": {
          "base_uri": "https://localhost:8080/"
        },
        "id": "Lr8D90Wa4YJo",
        "outputId": "59049179-b68b-46f1-b382-2be94b529452"
      },
      "execution_count": 31,
      "outputs": [
        {
          "output_type": "stream",
          "name": "stdout",
          "text": [
            "ans=0\n",
            "[pure python]:  8.34 s\n"
          ]
        }
      ]
    },
    {
      "cell_type": "markdown",
      "source": [
        "numba を用いたケース"
      ],
      "metadata": {
        "id": "uAFQloBC9Ks9"
      }
    },
    {
      "cell_type": "code",
      "source": [
        "with timer(\"define njit function\"):\n",
        "    @njit(\"int32(int32)\", cache=True)\n",
        "    def double_sum_njit(size):\n",
        "        sum = 0\n",
        "        for i in range(size):\n",
        "            for j in range(size):\n",
        "                sum += i - j\n",
        "        return sum\n",
        "\n",
        "with timer(\"njit enabled\"):\n",
        "    print(f\"ans={double_sum_njit(size)}\")"
      ],
      "metadata": {
        "colab": {
          "base_uri": "https://localhost:8080/"
        },
        "id": "VUPNzmDW5Jcn",
        "outputId": "c8501fc3-f262-4228-f83a-7fee78bbe25b"
      },
      "execution_count": 32,
      "outputs": [
        {
          "output_type": "stream",
          "name": "stdout",
          "text": [
            "[define njit function]:  0.0749 s\n",
            "ans=0\n",
            "[njit enabled]:  3.21e-05 s\n"
          ]
        }
      ]
    },
    {
      "cell_type": "markdown",
      "source": [
        "更に高速化するには[追加オプション](https://numba.readthedocs.io/en/stable/user/performance-tips.html)を使用する。\n",
        "\n",
        "次の例は prange を用いた並列化. ただしこのケースではマルチコア化のバウンドの方が大きいため高速化されない。"
      ],
      "metadata": {
        "id": "wkj6dg9j8kWk"
      }
    },
    {
      "cell_type": "code",
      "source": [
        "from numba import prange\n",
        "\n",
        "with timer(\"define njit function\"):\n",
        "    @njit(\"int32(int32)\", cache=True, parallel=True)\n",
        "    def double_sum_parallel(size):\n",
        "        sum = 0\n",
        "        # 並列化の対象のループには prange を使う\n",
        "        for i in prange(size):\n",
        "            for j in range(size):\n",
        "                sum += i - j\n",
        "        return sum\n",
        "\n",
        "with timer(\"njit with parallel\"):\n",
        "    print(f\"ans={double_sum_parallel(size)}\")"
      ],
      "metadata": {
        "colab": {
          "base_uri": "https://localhost:8080/"
        },
        "id": "DkJRD8v-5iCx",
        "outputId": "0b4794ba-052b-4d37-abf6-0b686f6cf268"
      },
      "execution_count": 33,
      "outputs": [
        {
          "output_type": "stream",
          "name": "stdout",
          "text": [
            "[define njit function]:  0.641 s\n",
            "ans=0\n",
            "[njit with parallel]:  0.00178 s\n"
          ]
        }
      ]
    },
    {
      "cell_type": "markdown",
      "source": [
        "C++ の最適化のように fastmath も使用可能"
      ],
      "metadata": {
        "id": "cjw7SvhB8eyU"
      }
    },
    {
      "cell_type": "code",
      "source": [
        "with timer(\"define njit function\"):\n",
        "    @njit(\"int32(int32)\", cache=True, parallel=True, fastmath=True)\n",
        "    def double_sum_fast(size):\n",
        "        sum = 0\n",
        "        for i in prange(size):\n",
        "            for j in range(size):\n",
        "                sum += i - j\n",
        "        return sum\n",
        "\n",
        "with timer(\"njit with parallel & fastmath\"):\n",
        "    print(f\"ans={double_sum_fast(size)}\")"
      ],
      "metadata": {
        "colab": {
          "base_uri": "https://localhost:8080/"
        },
        "id": "6fJYU2Yb5s_S",
        "outputId": "726a67ec-5f8e-4f26-e3a1-31b1f200d4d0"
      },
      "execution_count": 34,
      "outputs": [
        {
          "output_type": "stream",
          "name": "stdout",
          "text": [
            "[define njit function]:  0.765 s\n",
            "ans=0\n",
            "[njit with parallel & fastmath]:  0.00192 s\n"
          ]
        }
      ]
    },
    {
      "cell_type": "markdown",
      "source": [
        "### numba.cuda"
      ],
      "metadata": {
        "id": "aa8OkDYfANbH"
      }
    },
    {
      "cell_type": "markdown",
      "source": [
        "[GPUを意識したプログラミング](https://co-crea.jp/wp-content/uploads/2016/07/File_2.pdf)が必要：\n",
        "- [グリッド・ブロック中のスレッド位置の取得方法](https://numba.pydata.org/numba-doc/latest/cuda/kernels.html#absolute-positions)\n",
        "- [CPU・GPU間のデータ転送方法](https://numba.pydata.org/numba-doc/latest/cuda/memory.html)"
      ],
      "metadata": {
        "id": "uMbOwe8ULOuG"
      }
    },
    {
      "cell_type": "code",
      "source": [
        "from numba import cuda\n",
        "import numpy as np\n",
        "import sys\n",
        "sys.setrecursionlimit(100000)\n",
        "\n",
        "\n",
        "# カーネル関数\n",
        "@cuda.jit\n",
        "def add_kernel(a, b, c):\n",
        "    i = cuda.grid(1)\n",
        "    c[i] = a[i] + b[i]\n",
        "\n",
        "# 起動関数\n",
        "def add_arrays(a, b, threads_per_block=256):\n",
        "    # threads_per_block は1ブロックあたりのスレッド数 (128~512)\n",
        "    # GPU の使用ブロック数を計算\n",
        "    blocks = (a.size + threads_per_block - 1) // threads_per_block\n",
        "\n",
        "    # 結果保存用にメモリ確保\n",
        "    result = cuda.to_device(np.zeros_like(a))\n",
        "    add_kernel[blocks, threads_per_block](\n",
        "        cuda.to_device(a), cuda.to_device(b), result)\n",
        "    return result.copy_to_host()\n",
        "\n",
        "array_size = 100000000\n",
        "a = np.ones(array_size, dtype=np.float32)\n",
        "b = np.ones(array_size, dtype=np.float32)\n",
        "\n",
        "with timer(\"CPU computation\"):\n",
        "    a + b\n",
        "\n",
        "add_arrays(a, b)\n",
        "with timer(\"GPU computation\"):\n",
        "    add_arrays(a, b)"
      ],
      "metadata": {
        "colab": {
          "base_uri": "https://localhost:8080/"
        },
        "id": "_PgVm8_TBBZD",
        "outputId": "c5ac625e-8ae5-41c5-d11f-a888895c1449"
      },
      "execution_count": 35,
      "outputs": [
        {
          "output_type": "stream",
          "name": "stdout",
          "text": [
            "[CPU computation]:  0.193 s\n",
            "[GPU computation]:  0.503 s\n"
          ]
        }
      ]
    },
    {
      "cell_type": "markdown",
      "source": [
        "## concurrent.futures での高速化"
      ],
      "metadata": {
        "id": "IG_QHzQlMckh"
      }
    },
    {
      "cell_type": "markdown",
      "source": [
        "### オリジナルの API"
      ],
      "metadata": {
        "id": "sSLUGyMhzkko"
      }
    },
    {
      "cell_type": "markdown",
      "source": [
        "CPU 数を確認"
      ],
      "metadata": {
        "id": "hz2CDo4jBR9d"
      }
    },
    {
      "cell_type": "code",
      "source": [
        "import os\n",
        "\n",
        "print(f\"CPU count is {os.cpu_count()}.\")\n",
        "print(f\"CPU for current thread is {len(os.sched_getaffinity(0))}.\")\n",
        "\n",
        "import multiprocessing\n",
        "print(f\"CPU count by multiprocessing is {multiprocessing.cpu_count()}.\")"
      ],
      "metadata": {
        "id": "F2l6VRhmBOCB",
        "outputId": "fbaba7dd-ed35-4e05-dc7d-61dddecdfe60",
        "colab": {
          "base_uri": "https://localhost:8080/"
        }
      },
      "execution_count": 36,
      "outputs": [
        {
          "output_type": "stream",
          "name": "stdout",
          "text": [
            "CPU count is 2.\n",
            "CPU for current thread is 2.\n",
            "CPU count by multiprocessing is 2.\n"
          ]
        }
      ]
    },
    {
      "cell_type": "markdown",
      "source": [
        "ProcessPoolExecutor は CPU bound のタスクに有効。\n",
        "\n",
        "以下はmax_workers の最適値を見つけるサンプル。"
      ],
      "metadata": {
        "id": "wwekeS81DZbT"
      }
    },
    {
      "cell_type": "code",
      "source": [
        "import numpy as np\n",
        "import concurrent.futures\n",
        "\n",
        "def do_something(size):\n",
        "    return np.dot(np.ones((size, size)), np.ones((size, size)))\n",
        "\n",
        "worker_values = [1, 2, 4, 8, 16, 32, 64]\n",
        "tasks = [1000] * 10\n",
        "\n",
        "for max_workers in worker_values:\n",
        "    with timer(f\"max_workers={max_workers}\"):\n",
        "        with concurrent.futures.ProcessPoolExecutor(max_workers) as executor:\n",
        "            futures = [executor.submit(do_something, task) for task in tasks]\n",
        "            results = [f.result() for f in concurrent.futures.as_completed(futures)]"
      ],
      "metadata": {
        "colab": {
          "base_uri": "https://localhost:8080/"
        },
        "id": "CfJwduFK0csU",
        "outputId": "cc6b30a1-effe-426e-9c81-ce780cb2fa25"
      },
      "execution_count": 37,
      "outputs": [
        {
          "output_type": "stream",
          "name": "stdout",
          "text": [
            "[max_workers=1]:  0.715 s\n",
            "[max_workers=2]:  0.746 s\n",
            "[max_workers=4]:  1.03 s\n",
            "[max_workers=8]:  0.989 s\n",
            "[max_workers=16]:  1.18 s\n",
            "[max_workers=32]:  2.02 s\n",
            "[max_workers=64]:  3.19 s\n"
          ]
        }
      ]
    },
    {
      "cell_type": "markdown",
      "source": [
        "上記は submit メソッドを使用した。\n",
        "submit は for 文などで順次タスクを追加する場合に便利。\n",
        "\n",
        "既に処理対象がリストなどでまとまっている場合は map メソッドが便利。使い方は以下。"
      ],
      "metadata": {
        "id": "Dyz-vddJ-MpP"
      }
    },
    {
      "cell_type": "code",
      "source": [
        "import numpy as np\n",
        "import concurrent.futures\n",
        "\n",
        "def do_something(size):\n",
        "    return np.dot(np.ones((size, size)), np.ones((size, size)))\n",
        "\n",
        "worker_values = [1, 2, 4, 8, 16, 32, 64]\n",
        "tasks = [1000] * 10\n",
        "\n",
        "for max_workers in worker_values:\n",
        "    with timer(f\"max_workers={max_workers}\"):\n",
        "        with concurrent.futures.ProcessPoolExecutor(max_workers) as executor:\n",
        "            results = executor.map(do_something, tasks)"
      ],
      "metadata": {
        "id": "NNet8Nsz-TNg",
        "outputId": "9bffcf88-900e-42db-dd77-47373b26fdc1",
        "colab": {
          "base_uri": "https://localhost:8080/"
        }
      },
      "execution_count": 38,
      "outputs": [
        {
          "output_type": "stream",
          "name": "stdout",
          "text": [
            "[max_workers=1]:  1.12 s\n",
            "[max_workers=2]:  1.2 s\n",
            "[max_workers=4]:  1.04 s\n",
            "[max_workers=8]:  0.965 s\n",
            "[max_workers=16]:  1.14 s\n",
            "[max_workers=32]:  1.44 s\n",
            "[max_workers=64]:  2.02 s\n"
          ]
        }
      ]
    },
    {
      "cell_type": "markdown",
      "source": [
        "ThreadPoolExecutor は I/O bound のタスクに有効"
      ],
      "metadata": {
        "id": "mGfwcN4e7iD_"
      }
    },
    {
      "cell_type": "code",
      "source": [
        "import numpy as np\n",
        "import requests\n",
        "import concurrent.futures\n",
        "\n",
        "def do_something(url):\n",
        "    response = requests.get(url)\n",
        "    return response\n",
        "\n",
        "worker_values = [1, 2, 4, 8, 16, 32, 64]\n",
        "tasks = ['https://google.com', 'https://facebook.com', 'https://twitter.com',\n",
        "         'https://www.youtube.com/', 'https://www.amazon.com/',\n",
        "         'https://github.com/']\n",
        "\n",
        "for max_workers in worker_values:\n",
        "    with timer(f\"max_workers={max_workers}\"):\n",
        "        with concurrent.futures.ThreadPoolExecutor(max_workers) as executor:\n",
        "            results = executor.map(do_something, tasks)"
      ],
      "metadata": {
        "id": "rfJ_vZXl054L",
        "colab": {
          "base_uri": "https://localhost:8080/"
        },
        "outputId": "6f79b664-60ac-4704-9c88-6dc91f6a3796"
      },
      "execution_count": 39,
      "outputs": [
        {
          "output_type": "stream",
          "name": "stdout",
          "text": [
            "[max_workers=1]:  1.26 s\n",
            "[max_workers=2]:  0.828 s\n",
            "[max_workers=4]:  0.71 s\n",
            "[max_workers=8]:  0.505 s\n",
            "[max_workers=16]:  0.655 s\n",
            "[max_workers=32]:  0.502 s\n",
            "[max_workers=64]:  0.584 s\n"
          ]
        }
      ]
    },
    {
      "cell_type": "markdown",
      "source": [
        "結果はジェネレータ式なので for 文で処理可能"
      ],
      "metadata": {
        "id": "IGdts22fAJg5"
      }
    },
    {
      "cell_type": "code",
      "source": [
        "with concurrent.futures.ThreadPoolExecutor(max_workers=16) as executor:\n",
        "    results = executor.map(do_something, tasks)\n",
        "\n",
        "print(f\"type_of_results={type(results)}\")\n",
        "for task, result in zip(tasks, results):\n",
        "    print(f\"{task}: code {result.status_code}\")"
      ],
      "metadata": {
        "id": "bxr8Rwi273EI",
        "colab": {
          "base_uri": "https://localhost:8080/"
        },
        "outputId": "a7f5821e-0e50-49c8-f9d1-b505320bfe92"
      },
      "execution_count": 40,
      "outputs": [
        {
          "output_type": "stream",
          "name": "stdout",
          "text": [
            "type_of_results=<class 'generator'>\n",
            "https://google.com: code 200\n",
            "https://facebook.com: code 200\n",
            "https://twitter.com: code 200\n",
            "https://www.youtube.com/: code 200\n",
            "https://www.amazon.com/: code 503\n",
            "https://github.com/: code 200\n"
          ]
        }
      ]
    },
    {
      "cell_type": "markdown",
      "source": [
        "### tqdm.contrib の利用"
      ],
      "metadata": {
        "id": "iqDrkIs-zoF6"
      }
    },
    {
      "cell_type": "markdown",
      "source": [
        "tqdm.contrib.concurrent.thread_map で tqdm と併用可能。表記もシンプル。"
      ],
      "metadata": {
        "id": "ChXpE-Dpzzma"
      }
    },
    {
      "cell_type": "code",
      "source": [
        "import requests\n",
        "from tqdm.contrib.concurrent import thread_map\n",
        "\n",
        "\n",
        "def do_something(url):\n",
        "    response = requests.get(url)\n",
        "    return response\n",
        "\n",
        "worker_values = [1, 2, 4, 8, 16, 32, 64]\n",
        "tasks = ['https://google.com', 'https://facebook.com', 'https://twitter.com',\n",
        "         'https://www.youtube.com/', 'https://www.amazon.com/',\n",
        "         'https://github.com/']\n",
        "\n",
        "results = list(thread_map(do_something, tasks))"
      ],
      "metadata": {
        "id": "Hd5Sod7N-dhn",
        "colab": {
          "base_uri": "https://localhost:8080/",
          "height": 49,
          "referenced_widgets": [
            "e946ea750c4f432a93ef8775906f6179",
            "472e79b309da45e29f917bafa39b9f17",
            "baf4178707904b0a87ed9ef60bb62e75",
            "715c84230f214377b1c099d8830a9ae1",
            "4d6fbe85dc5045b08c67a1338278bcb4",
            "895b740aa28b46cc864bc49b2cd98f07",
            "8d7e9117029b4809b5c486b07f2ab3ac",
            "2e0d3b8bafdc43a5a82023a8fc189b79",
            "8b530eef616d47f5ace0311b0fd30c31",
            "bad9152fb73f4699b70a87bb28503bd1",
            "2758b7eb0edc487582a23f7c85118b55"
          ]
        },
        "outputId": "bca97174-c2af-4fc8-8a46-e5fe142b2da4"
      },
      "execution_count": 41,
      "outputs": [
        {
          "output_type": "display_data",
          "data": {
            "text/plain": [
              "  0%|          | 0/6 [00:00<?, ?it/s]"
            ],
            "application/vnd.jupyter.widget-view+json": {
              "version_major": 2,
              "version_minor": 0,
              "model_id": "e946ea750c4f432a93ef8775906f6179"
            }
          },
          "metadata": {}
        }
      ]
    },
    {
      "cell_type": "markdown",
      "source": [
        "tqdm.contrib.concurrent.process_map も同様"
      ],
      "metadata": {
        "id": "hK4bmtct0H3d"
      }
    },
    {
      "cell_type": "code",
      "source": [
        "from tqdm.contrib.concurrent import process_map\n",
        "\n",
        "def do_something(size):\n",
        "    return np.dot(np.ones((size, size)), np.ones((size, size)))\n",
        "\n",
        "tasks = [1000] * 10\n",
        "results = list(process_map(do_something, tasks))"
      ],
      "metadata": {
        "colab": {
          "base_uri": "https://localhost:8080/",
          "height": 49,
          "referenced_widgets": [
            "0aa4b3328c2f4aa4997fe82c9b266ec8",
            "73875b3736ea49c19c3420cd8c211d1c",
            "fdbdb1201770406aa5bf51fab0d5ed4b",
            "4f5e0b86248b48479024b21f748b3fe8",
            "777c720aa6b741bda368f57562ed516a",
            "715246b3510b4aaca6ba016a42bc1178",
            "28aa621b47d546b19b883fb96dc2d9b0",
            "45081a30fad04cad83125b40d6f66f05",
            "09b9e7c706864c2da005c1a7165ff78f",
            "4a215563792a4cc8ab9f4e4e6b8c5e51",
            "d89b10b8bc5645ec98a1644e1ed68918"
          ]
        },
        "id": "X72TNx-E0K8l",
        "outputId": "39e98cbe-b941-4b88-a932-2c7af5335511"
      },
      "execution_count": 42,
      "outputs": [
        {
          "output_type": "display_data",
          "data": {
            "text/plain": [
              "  0%|          | 0/10 [00:00<?, ?it/s]"
            ],
            "application/vnd.jupyter.widget-view+json": {
              "version_major": 2,
              "version_minor": 0,
              "model_id": "0aa4b3328c2f4aa4997fe82c9b266ec8"
            }
          },
          "metadata": {}
        }
      ]
    },
    {
      "cell_type": "markdown",
      "source": [
        "### プロセス間通信"
      ],
      "metadata": {
        "id": "he51HVAAhCHp"
      }
    },
    {
      "cell_type": "markdown",
      "source": [
        "[共有メモリを使う並列化](https://docs.python.org/ja/3/library/multiprocessing.html#sharing-state-between-processes)。\n",
        "\n",
        "[concurrent.futures.ProcessPoolExecutor](https://rinoguchi.net/2020/07/python-multiprocess.html)と使う方法は不明。"
      ],
      "metadata": {
        "id": "Kc9Kwh0Dl-G7"
      }
    },
    {
      "cell_type": "code",
      "source": [
        "from multiprocessing import Process, Value, Array\n",
        "from tqdm.contrib.concurrent import process_map\n",
        "\n",
        "def f(n, a):\n",
        "    n.value = 3.1415927\n",
        "    for i in range(len(a)):\n",
        "        a[i] = -a[i]\n",
        "\n",
        "num = Value('d', 0.0)\n",
        "arr = Array('i', range(10))\n",
        "\n",
        "p = Process(target=f, args=(num, arr))\n",
        "p.start()\n",
        "p.join()\n",
        "\n",
        "print(num.value)\n",
        "print(arr[:])"
      ],
      "metadata": {
        "id": "TqBySNOUeutV",
        "outputId": "7b410561-e715-46a7-e539-d85eb9071737",
        "colab": {
          "base_uri": "https://localhost:8080/"
        }
      },
      "execution_count": 43,
      "outputs": [
        {
          "output_type": "stream",
          "name": "stdout",
          "text": [
            "3.1415927\n",
            "[0, -1, -2, -3, -4, -5, -6, -7, -8, -9]\n"
          ]
        }
      ]
    },
    {
      "cell_type": "markdown",
      "source": [
        "[Manager は低速だが変数管理が自動なので使用しやすい](https://docs.python.org/ja/3/library/multiprocessing.html#sharing-state-between-processes)"
      ],
      "metadata": {
        "id": "tLgc99XWkv0f"
      }
    },
    {
      "cell_type": "code",
      "source": [
        "from multiprocessing import Process, Manager\n",
        "from tqdm.contrib.concurrent import process_map\n",
        "import time\n",
        "\n",
        "def f(d, l):\n",
        "    d[1] = '1'\n",
        "    d['2'] = 2\n",
        "    d[0.25] = None\n",
        "    time.sleep(1)\n",
        "    l.reverse()\n",
        "\n",
        "with Manager() as manager:\n",
        "    d = manager.dict()\n",
        "    l = manager.list(range(100))\n",
        "\n",
        "    p = Process(target=f, args=(d, l))\n",
        "    p.start()\n",
        "    p.join()\n",
        "\n",
        "    print(d)\n",
        "    print(l)"
      ],
      "metadata": {
        "id": "PaCCd9y2kzu9",
        "outputId": "dd604bed-c510-4964-db7e-d45eaa2d6ee0",
        "colab": {
          "base_uri": "https://localhost:8080/"
        }
      },
      "execution_count": 44,
      "outputs": [
        {
          "output_type": "stream",
          "name": "stdout",
          "text": [
            "{1: '1', '2': 2, 0.25: None}\n",
            "[99, 98, 97, 96, 95, 94, 93, 92, 91, 90, 89, 88, 87, 86, 85, 84, 83, 82, 81, 80, 79, 78, 77, 76, 75, 74, 73, 72, 71, 70, 69, 68, 67, 66, 65, 64, 63, 62, 61, 60, 59, 58, 57, 56, 55, 54, 53, 52, 51, 50, 49, 48, 47, 46, 45, 44, 43, 42, 41, 40, 39, 38, 37, 36, 35, 34, 33, 32, 31, 30, 29, 28, 27, 26, 25, 24, 23, 22, 21, 20, 19, 18, 17, 16, 15, 14, 13, 12, 11, 10, 9, 8, 7, 6, 5, 4, 3, 2, 1, 0]\n"
          ]
        }
      ]
    },
    {
      "cell_type": "markdown",
      "source": [
        "## データロードの高速化"
      ],
      "metadata": {
        "id": "ahodSORk0tt1"
      }
    },
    {
      "cell_type": "code",
      "source": [
        "%%capture\n",
        "!pip install dask[dataframe] orjson"
      ],
      "metadata": {
        "id": "XSMukFjL11PD"
      },
      "execution_count": 45,
      "outputs": []
    },
    {
      "cell_type": "code",
      "source": [
        "import pandas as pd\n",
        "import dask.dataframe as dd\n",
        "import json\n",
        "import orjson"
      ],
      "metadata": {
        "id": "Yyc4MVNn13wZ"
      },
      "execution_count": 46,
      "outputs": []
    },
    {
      "cell_type": "markdown",
      "source": [
        "### CSV"
      ],
      "metadata": {
        "id": "dYeJPF9Zh6w7"
      }
    },
    {
      "cell_type": "markdown",
      "source": [
        "CSV データを用意"
      ],
      "metadata": {
        "id": "MzeJTOUFg2cF"
      }
    },
    {
      "cell_type": "code",
      "source": [
        "import urllib\n",
        "\n",
        "url = \"https://github.com/mwaskom/seaborn-data/raw/refs/heads/master/diamonds.csv\"\n",
        "\n",
        "with urllib.request.urlopen(url) as web_file:\n",
        "  with open(\"diamonds.csv\", 'wb') as local_file:\n",
        "    local_file.write(web_file.read())"
      ],
      "metadata": {
        "id": "RKr79WJ2Dnu4"
      },
      "execution_count": 47,
      "outputs": []
    },
    {
      "cell_type": "markdown",
      "source": [
        "pandas で読み込み"
      ],
      "metadata": {
        "id": "9waX09jCg6Hq"
      }
    },
    {
      "cell_type": "code",
      "source": [
        "%%time\n",
        "df = pd.read_csv(\"diamonds.csv\")"
      ],
      "metadata": {
        "id": "taFADPkQ2Bmt",
        "outputId": "ea215039-08f6-45d1-b9b1-22bbb3c49b88",
        "colab": {
          "base_uri": "https://localhost:8080/"
        }
      },
      "execution_count": 48,
      "outputs": [
        {
          "output_type": "stream",
          "name": "stdout",
          "text": [
            "CPU times: user 55.7 ms, sys: 16.4 ms, total: 72.2 ms\n",
            "Wall time: 99.3 ms\n"
          ]
        }
      ]
    },
    {
      "cell_type": "markdown",
      "source": [
        "dask で並列読み込み"
      ],
      "metadata": {
        "id": "wwEp7wFlg8tO"
      }
    },
    {
      "cell_type": "code",
      "source": [
        "%%time\n",
        "df = dd.read_csv(\"diamonds.csv\", dtype={'table': 'float64'}).compute()"
      ],
      "metadata": {
        "id": "ZMMpGNnm2jPt",
        "outputId": "a56d6791-8c73-4173-8044-263d5b69957f",
        "colab": {
          "base_uri": "https://localhost:8080/"
        }
      },
      "execution_count": 49,
      "outputs": [
        {
          "output_type": "stream",
          "name": "stdout",
          "text": [
            "CPU times: user 366 ms, sys: 59.4 ms, total: 426 ms\n",
            "Wall time: 863 ms\n"
          ]
        }
      ]
    },
    {
      "cell_type": "markdown",
      "source": [
        "### Json"
      ],
      "metadata": {
        "id": "85qXiE7ih3mr"
      }
    },
    {
      "cell_type": "markdown",
      "source": [
        "json データ取得"
      ],
      "metadata": {
        "id": "345ot-8hg_4s"
      }
    },
    {
      "cell_type": "code",
      "source": [
        "url = \"https://github.com/json-iterator/test-data/raw/refs/heads/master/large-file.json\"\n",
        "\n",
        "with urllib.request.urlopen(url) as web_file:\n",
        "  with open(\"large-file.json\", 'wb') as local_file:\n",
        "    local_file.write(web_file.read())"
      ],
      "metadata": {
        "id": "b18AJjNLE_sl"
      },
      "execution_count": 50,
      "outputs": []
    },
    {
      "cell_type": "markdown",
      "source": [
        "標準の json ライブラリで取得"
      ],
      "metadata": {
        "id": "GeQ4u6nthBdy"
      }
    },
    {
      "cell_type": "code",
      "source": [
        "%%time\n",
        "with open(\"large-file.json\", mode=\"r\") as f:\n",
        "    data = json.load(f)"
      ],
      "metadata": {
        "id": "AbTfkAxw2nIS",
        "outputId": "159d341b-0f7f-4b58-9984-0627c371e1b5",
        "colab": {
          "base_uri": "https://localhost:8080/"
        }
      },
      "execution_count": 51,
      "outputs": [
        {
          "output_type": "stream",
          "name": "stdout",
          "text": [
            "CPU times: user 452 ms, sys: 153 ms, total: 605 ms\n",
            "Wall time: 755 ms\n"
          ]
        }
      ]
    },
    {
      "cell_type": "markdown",
      "source": [
        "orjson で高速に処理"
      ],
      "metadata": {
        "id": "Mx48U_CDhE75"
      }
    },
    {
      "cell_type": "code",
      "source": [
        "%%time\n",
        "with open(\"large-file.json\", mode=\"r\") as f:\n",
        "    data = orjson.loads(f.read())"
      ],
      "metadata": {
        "id": "vEUbC41x2vIB",
        "outputId": "9842204e-4571-48ca-e7a5-c12c71fdb185",
        "colab": {
          "base_uri": "https://localhost:8080/"
        }
      },
      "execution_count": 52,
      "outputs": [
        {
          "output_type": "stream",
          "name": "stdout",
          "text": [
            "CPU times: user 569 ms, sys: 235 ms, total: 804 ms\n",
            "Wall time: 875 ms\n"
          ]
        }
      ]
    },
    {
      "cell_type": "markdown",
      "source": [
        "書き出しも比較。まずは標準ライブラリ。"
      ],
      "metadata": {
        "id": "uoMFABwvhdQT"
      }
    },
    {
      "cell_type": "code",
      "source": [
        "%%time\n",
        "with open(\"large-file.json\", mode=\"w\") as f:\n",
        "    json.dump(data, f, ensure_ascii=False)"
      ],
      "metadata": {
        "id": "vL7kp_Db3CN0",
        "colab": {
          "base_uri": "https://localhost:8080/"
        },
        "outputId": "112e358c-a438-4536-c2e3-80e6ec8e0c28"
      },
      "execution_count": 53,
      "outputs": [
        {
          "output_type": "stream",
          "name": "stdout",
          "text": [
            "CPU times: user 1.86 s, sys: 91.3 ms, total: 1.95 s\n",
            "Wall time: 2.46 s\n"
          ]
        }
      ]
    },
    {
      "cell_type": "markdown",
      "source": [
        "次は orjson"
      ],
      "metadata": {
        "id": "AVDReeujiATJ"
      }
    },
    {
      "cell_type": "code",
      "source": [
        "%%time\n",
        "with open(\"large-file.json\", mode=\"wb\") as f:\n",
        "    f.write(orjson.dumps(data))"
      ],
      "metadata": {
        "colab": {
          "base_uri": "https://localhost:8080/"
        },
        "id": "Z2G9RX1yiBYi",
        "outputId": "59f07866-3014-4fe6-fbc2-f5a54079aad6"
      },
      "execution_count": 54,
      "outputs": [
        {
          "output_type": "stream",
          "name": "stdout",
          "text": [
            "CPU times: user 36.5 ms, sys: 40.5 ms, total: 76.9 ms\n",
            "Wall time: 114 ms\n"
          ]
        }
      ]
    },
    {
      "cell_type": "code",
      "source": [],
      "metadata": {
        "id": "L97FskpQifTQ"
      },
      "execution_count": 54,
      "outputs": []
    }
  ]
}