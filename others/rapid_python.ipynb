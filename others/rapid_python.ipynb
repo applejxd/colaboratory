{
  "nbformat": 4,
  "nbformat_minor": 0,
  "metadata": {
    "colab": {
      "provenance": [],
      "toc_visible": true,
      "authorship_tag": "ABX9TyPJnNRwGMx25+75UKlWLH+D",
      "include_colab_link": true
    },
    "kernelspec": {
      "name": "python3",
      "display_name": "Python 3"
    },
    "language_info": {
      "name": "python"
    },
    "accelerator": "GPU",
    "gpuClass": "standard",
    "widgets": {
      "application/vnd.jupyter.widget-state+json": {
        "c3507462d6754e06a9f2543a99caa42e": {
          "model_module": "@jupyter-widgets/controls",
          "model_name": "HBoxModel",
          "model_module_version": "1.5.0",
          "state": {
            "_dom_classes": [],
            "_model_module": "@jupyter-widgets/controls",
            "_model_module_version": "1.5.0",
            "_model_name": "HBoxModel",
            "_view_count": null,
            "_view_module": "@jupyter-widgets/controls",
            "_view_module_version": "1.5.0",
            "_view_name": "HBoxView",
            "box_style": "",
            "children": [
              "IPY_MODEL_d0803756767a44e5a3764dd291491028",
              "IPY_MODEL_d2980689260b4279918dd161a311de68",
              "IPY_MODEL_dfa3eedf9d434139ba89f79b7f3dcb6e"
            ],
            "layout": "IPY_MODEL_7b5fa6f3a83744578b6fc4531d340ede"
          }
        },
        "d0803756767a44e5a3764dd291491028": {
          "model_module": "@jupyter-widgets/controls",
          "model_name": "HTMLModel",
          "model_module_version": "1.5.0",
          "state": {
            "_dom_classes": [],
            "_model_module": "@jupyter-widgets/controls",
            "_model_module_version": "1.5.0",
            "_model_name": "HTMLModel",
            "_view_count": null,
            "_view_module": "@jupyter-widgets/controls",
            "_view_module_version": "1.5.0",
            "_view_name": "HTMLView",
            "description": "",
            "description_tooltip": null,
            "layout": "IPY_MODEL_ee7a38fd09374d27b2a57bb60dc14603",
            "placeholder": "​",
            "style": "IPY_MODEL_dab0bcde5bdb477683283a3c459acfcd",
            "value": "100%"
          }
        },
        "d2980689260b4279918dd161a311de68": {
          "model_module": "@jupyter-widgets/controls",
          "model_name": "FloatProgressModel",
          "model_module_version": "1.5.0",
          "state": {
            "_dom_classes": [],
            "_model_module": "@jupyter-widgets/controls",
            "_model_module_version": "1.5.0",
            "_model_name": "FloatProgressModel",
            "_view_count": null,
            "_view_module": "@jupyter-widgets/controls",
            "_view_module_version": "1.5.0",
            "_view_name": "ProgressView",
            "bar_style": "success",
            "description": "",
            "description_tooltip": null,
            "layout": "IPY_MODEL_fc0f4cdea911478cbb21c5356cb97bc6",
            "max": 6,
            "min": 0,
            "orientation": "horizontal",
            "style": "IPY_MODEL_07eb162a88c648069afc5a4939841fe0",
            "value": 6
          }
        },
        "dfa3eedf9d434139ba89f79b7f3dcb6e": {
          "model_module": "@jupyter-widgets/controls",
          "model_name": "HTMLModel",
          "model_module_version": "1.5.0",
          "state": {
            "_dom_classes": [],
            "_model_module": "@jupyter-widgets/controls",
            "_model_module_version": "1.5.0",
            "_model_name": "HTMLModel",
            "_view_count": null,
            "_view_module": "@jupyter-widgets/controls",
            "_view_module_version": "1.5.0",
            "_view_name": "HTMLView",
            "description": "",
            "description_tooltip": null,
            "layout": "IPY_MODEL_4c1adeca9aef414f8ce7c1f17e4c87fd",
            "placeholder": "​",
            "style": "IPY_MODEL_4d0de71bc16a49009932e1572cecdbe1",
            "value": " 6/6 [00:00&lt;00:00,  5.41it/s]"
          }
        },
        "7b5fa6f3a83744578b6fc4531d340ede": {
          "model_module": "@jupyter-widgets/base",
          "model_name": "LayoutModel",
          "model_module_version": "1.2.0",
          "state": {
            "_model_module": "@jupyter-widgets/base",
            "_model_module_version": "1.2.0",
            "_model_name": "LayoutModel",
            "_view_count": null,
            "_view_module": "@jupyter-widgets/base",
            "_view_module_version": "1.2.0",
            "_view_name": "LayoutView",
            "align_content": null,
            "align_items": null,
            "align_self": null,
            "border": null,
            "bottom": null,
            "display": null,
            "flex": null,
            "flex_flow": null,
            "grid_area": null,
            "grid_auto_columns": null,
            "grid_auto_flow": null,
            "grid_auto_rows": null,
            "grid_column": null,
            "grid_gap": null,
            "grid_row": null,
            "grid_template_areas": null,
            "grid_template_columns": null,
            "grid_template_rows": null,
            "height": null,
            "justify_content": null,
            "justify_items": null,
            "left": null,
            "margin": null,
            "max_height": null,
            "max_width": null,
            "min_height": null,
            "min_width": null,
            "object_fit": null,
            "object_position": null,
            "order": null,
            "overflow": null,
            "overflow_x": null,
            "overflow_y": null,
            "padding": null,
            "right": null,
            "top": null,
            "visibility": null,
            "width": null
          }
        },
        "ee7a38fd09374d27b2a57bb60dc14603": {
          "model_module": "@jupyter-widgets/base",
          "model_name": "LayoutModel",
          "model_module_version": "1.2.0",
          "state": {
            "_model_module": "@jupyter-widgets/base",
            "_model_module_version": "1.2.0",
            "_model_name": "LayoutModel",
            "_view_count": null,
            "_view_module": "@jupyter-widgets/base",
            "_view_module_version": "1.2.0",
            "_view_name": "LayoutView",
            "align_content": null,
            "align_items": null,
            "align_self": null,
            "border": null,
            "bottom": null,
            "display": null,
            "flex": null,
            "flex_flow": null,
            "grid_area": null,
            "grid_auto_columns": null,
            "grid_auto_flow": null,
            "grid_auto_rows": null,
            "grid_column": null,
            "grid_gap": null,
            "grid_row": null,
            "grid_template_areas": null,
            "grid_template_columns": null,
            "grid_template_rows": null,
            "height": null,
            "justify_content": null,
            "justify_items": null,
            "left": null,
            "margin": null,
            "max_height": null,
            "max_width": null,
            "min_height": null,
            "min_width": null,
            "object_fit": null,
            "object_position": null,
            "order": null,
            "overflow": null,
            "overflow_x": null,
            "overflow_y": null,
            "padding": null,
            "right": null,
            "top": null,
            "visibility": null,
            "width": null
          }
        },
        "dab0bcde5bdb477683283a3c459acfcd": {
          "model_module": "@jupyter-widgets/controls",
          "model_name": "DescriptionStyleModel",
          "model_module_version": "1.5.0",
          "state": {
            "_model_module": "@jupyter-widgets/controls",
            "_model_module_version": "1.5.0",
            "_model_name": "DescriptionStyleModel",
            "_view_count": null,
            "_view_module": "@jupyter-widgets/base",
            "_view_module_version": "1.2.0",
            "_view_name": "StyleView",
            "description_width": ""
          }
        },
        "fc0f4cdea911478cbb21c5356cb97bc6": {
          "model_module": "@jupyter-widgets/base",
          "model_name": "LayoutModel",
          "model_module_version": "1.2.0",
          "state": {
            "_model_module": "@jupyter-widgets/base",
            "_model_module_version": "1.2.0",
            "_model_name": "LayoutModel",
            "_view_count": null,
            "_view_module": "@jupyter-widgets/base",
            "_view_module_version": "1.2.0",
            "_view_name": "LayoutView",
            "align_content": null,
            "align_items": null,
            "align_self": null,
            "border": null,
            "bottom": null,
            "display": null,
            "flex": null,
            "flex_flow": null,
            "grid_area": null,
            "grid_auto_columns": null,
            "grid_auto_flow": null,
            "grid_auto_rows": null,
            "grid_column": null,
            "grid_gap": null,
            "grid_row": null,
            "grid_template_areas": null,
            "grid_template_columns": null,
            "grid_template_rows": null,
            "height": null,
            "justify_content": null,
            "justify_items": null,
            "left": null,
            "margin": null,
            "max_height": null,
            "max_width": null,
            "min_height": null,
            "min_width": null,
            "object_fit": null,
            "object_position": null,
            "order": null,
            "overflow": null,
            "overflow_x": null,
            "overflow_y": null,
            "padding": null,
            "right": null,
            "top": null,
            "visibility": null,
            "width": null
          }
        },
        "07eb162a88c648069afc5a4939841fe0": {
          "model_module": "@jupyter-widgets/controls",
          "model_name": "ProgressStyleModel",
          "model_module_version": "1.5.0",
          "state": {
            "_model_module": "@jupyter-widgets/controls",
            "_model_module_version": "1.5.0",
            "_model_name": "ProgressStyleModel",
            "_view_count": null,
            "_view_module": "@jupyter-widgets/base",
            "_view_module_version": "1.2.0",
            "_view_name": "StyleView",
            "bar_color": null,
            "description_width": ""
          }
        },
        "4c1adeca9aef414f8ce7c1f17e4c87fd": {
          "model_module": "@jupyter-widgets/base",
          "model_name": "LayoutModel",
          "model_module_version": "1.2.0",
          "state": {
            "_model_module": "@jupyter-widgets/base",
            "_model_module_version": "1.2.0",
            "_model_name": "LayoutModel",
            "_view_count": null,
            "_view_module": "@jupyter-widgets/base",
            "_view_module_version": "1.2.0",
            "_view_name": "LayoutView",
            "align_content": null,
            "align_items": null,
            "align_self": null,
            "border": null,
            "bottom": null,
            "display": null,
            "flex": null,
            "flex_flow": null,
            "grid_area": null,
            "grid_auto_columns": null,
            "grid_auto_flow": null,
            "grid_auto_rows": null,
            "grid_column": null,
            "grid_gap": null,
            "grid_row": null,
            "grid_template_areas": null,
            "grid_template_columns": null,
            "grid_template_rows": null,
            "height": null,
            "justify_content": null,
            "justify_items": null,
            "left": null,
            "margin": null,
            "max_height": null,
            "max_width": null,
            "min_height": null,
            "min_width": null,
            "object_fit": null,
            "object_position": null,
            "order": null,
            "overflow": null,
            "overflow_x": null,
            "overflow_y": null,
            "padding": null,
            "right": null,
            "top": null,
            "visibility": null,
            "width": null
          }
        },
        "4d0de71bc16a49009932e1572cecdbe1": {
          "model_module": "@jupyter-widgets/controls",
          "model_name": "DescriptionStyleModel",
          "model_module_version": "1.5.0",
          "state": {
            "_model_module": "@jupyter-widgets/controls",
            "_model_module_version": "1.5.0",
            "_model_name": "DescriptionStyleModel",
            "_view_count": null,
            "_view_module": "@jupyter-widgets/base",
            "_view_module_version": "1.2.0",
            "_view_name": "StyleView",
            "description_width": ""
          }
        },
        "404f36be7c1c46aead8149e8249ca8ee": {
          "model_module": "@jupyter-widgets/controls",
          "model_name": "HBoxModel",
          "model_module_version": "1.5.0",
          "state": {
            "_dom_classes": [],
            "_model_module": "@jupyter-widgets/controls",
            "_model_module_version": "1.5.0",
            "_model_name": "HBoxModel",
            "_view_count": null,
            "_view_module": "@jupyter-widgets/controls",
            "_view_module_version": "1.5.0",
            "_view_name": "HBoxView",
            "box_style": "",
            "children": [
              "IPY_MODEL_c40430be28a04adc90c5cb21236517dc",
              "IPY_MODEL_72c5d82308e4495fb04fe816b0375e1a",
              "IPY_MODEL_8c2b1779a6d241ffb407424732e1fbab"
            ],
            "layout": "IPY_MODEL_7f38c3c267674907a4e5300f1e6f0635"
          }
        },
        "c40430be28a04adc90c5cb21236517dc": {
          "model_module": "@jupyter-widgets/controls",
          "model_name": "HTMLModel",
          "model_module_version": "1.5.0",
          "state": {
            "_dom_classes": [],
            "_model_module": "@jupyter-widgets/controls",
            "_model_module_version": "1.5.0",
            "_model_name": "HTMLModel",
            "_view_count": null,
            "_view_module": "@jupyter-widgets/controls",
            "_view_module_version": "1.5.0",
            "_view_name": "HTMLView",
            "description": "",
            "description_tooltip": null,
            "layout": "IPY_MODEL_fb53bc4e81a94914a560e79dcbfaa9ca",
            "placeholder": "​",
            "style": "IPY_MODEL_f6b7bbe023e149e7b552f18f75541ca2",
            "value": "100%"
          }
        },
        "72c5d82308e4495fb04fe816b0375e1a": {
          "model_module": "@jupyter-widgets/controls",
          "model_name": "FloatProgressModel",
          "model_module_version": "1.5.0",
          "state": {
            "_dom_classes": [],
            "_model_module": "@jupyter-widgets/controls",
            "_model_module_version": "1.5.0",
            "_model_name": "FloatProgressModel",
            "_view_count": null,
            "_view_module": "@jupyter-widgets/controls",
            "_view_module_version": "1.5.0",
            "_view_name": "ProgressView",
            "bar_style": "success",
            "description": "",
            "description_tooltip": null,
            "layout": "IPY_MODEL_a60d108b03f64858ad00295355026bee",
            "max": 10,
            "min": 0,
            "orientation": "horizontal",
            "style": "IPY_MODEL_708432201f4b4fef88c0607424ca897c",
            "value": 10
          }
        },
        "8c2b1779a6d241ffb407424732e1fbab": {
          "model_module": "@jupyter-widgets/controls",
          "model_name": "HTMLModel",
          "model_module_version": "1.5.0",
          "state": {
            "_dom_classes": [],
            "_model_module": "@jupyter-widgets/controls",
            "_model_module_version": "1.5.0",
            "_model_name": "HTMLModel",
            "_view_count": null,
            "_view_module": "@jupyter-widgets/controls",
            "_view_module_version": "1.5.0",
            "_view_name": "HTMLView",
            "description": "",
            "description_tooltip": null,
            "layout": "IPY_MODEL_c908d70d5be04d45bcee0ed4e0e09ef6",
            "placeholder": "​",
            "style": "IPY_MODEL_6e83c2a6f57c4369a3c151cd4adc400e",
            "value": " 10/10 [00:01&lt;00:00,  7.89it/s]"
          }
        },
        "7f38c3c267674907a4e5300f1e6f0635": {
          "model_module": "@jupyter-widgets/base",
          "model_name": "LayoutModel",
          "model_module_version": "1.2.0",
          "state": {
            "_model_module": "@jupyter-widgets/base",
            "_model_module_version": "1.2.0",
            "_model_name": "LayoutModel",
            "_view_count": null,
            "_view_module": "@jupyter-widgets/base",
            "_view_module_version": "1.2.0",
            "_view_name": "LayoutView",
            "align_content": null,
            "align_items": null,
            "align_self": null,
            "border": null,
            "bottom": null,
            "display": null,
            "flex": null,
            "flex_flow": null,
            "grid_area": null,
            "grid_auto_columns": null,
            "grid_auto_flow": null,
            "grid_auto_rows": null,
            "grid_column": null,
            "grid_gap": null,
            "grid_row": null,
            "grid_template_areas": null,
            "grid_template_columns": null,
            "grid_template_rows": null,
            "height": null,
            "justify_content": null,
            "justify_items": null,
            "left": null,
            "margin": null,
            "max_height": null,
            "max_width": null,
            "min_height": null,
            "min_width": null,
            "object_fit": null,
            "object_position": null,
            "order": null,
            "overflow": null,
            "overflow_x": null,
            "overflow_y": null,
            "padding": null,
            "right": null,
            "top": null,
            "visibility": null,
            "width": null
          }
        },
        "fb53bc4e81a94914a560e79dcbfaa9ca": {
          "model_module": "@jupyter-widgets/base",
          "model_name": "LayoutModel",
          "model_module_version": "1.2.0",
          "state": {
            "_model_module": "@jupyter-widgets/base",
            "_model_module_version": "1.2.0",
            "_model_name": "LayoutModel",
            "_view_count": null,
            "_view_module": "@jupyter-widgets/base",
            "_view_module_version": "1.2.0",
            "_view_name": "LayoutView",
            "align_content": null,
            "align_items": null,
            "align_self": null,
            "border": null,
            "bottom": null,
            "display": null,
            "flex": null,
            "flex_flow": null,
            "grid_area": null,
            "grid_auto_columns": null,
            "grid_auto_flow": null,
            "grid_auto_rows": null,
            "grid_column": null,
            "grid_gap": null,
            "grid_row": null,
            "grid_template_areas": null,
            "grid_template_columns": null,
            "grid_template_rows": null,
            "height": null,
            "justify_content": null,
            "justify_items": null,
            "left": null,
            "margin": null,
            "max_height": null,
            "max_width": null,
            "min_height": null,
            "min_width": null,
            "object_fit": null,
            "object_position": null,
            "order": null,
            "overflow": null,
            "overflow_x": null,
            "overflow_y": null,
            "padding": null,
            "right": null,
            "top": null,
            "visibility": null,
            "width": null
          }
        },
        "f6b7bbe023e149e7b552f18f75541ca2": {
          "model_module": "@jupyter-widgets/controls",
          "model_name": "DescriptionStyleModel",
          "model_module_version": "1.5.0",
          "state": {
            "_model_module": "@jupyter-widgets/controls",
            "_model_module_version": "1.5.0",
            "_model_name": "DescriptionStyleModel",
            "_view_count": null,
            "_view_module": "@jupyter-widgets/base",
            "_view_module_version": "1.2.0",
            "_view_name": "StyleView",
            "description_width": ""
          }
        },
        "a60d108b03f64858ad00295355026bee": {
          "model_module": "@jupyter-widgets/base",
          "model_name": "LayoutModel",
          "model_module_version": "1.2.0",
          "state": {
            "_model_module": "@jupyter-widgets/base",
            "_model_module_version": "1.2.0",
            "_model_name": "LayoutModel",
            "_view_count": null,
            "_view_module": "@jupyter-widgets/base",
            "_view_module_version": "1.2.0",
            "_view_name": "LayoutView",
            "align_content": null,
            "align_items": null,
            "align_self": null,
            "border": null,
            "bottom": null,
            "display": null,
            "flex": null,
            "flex_flow": null,
            "grid_area": null,
            "grid_auto_columns": null,
            "grid_auto_flow": null,
            "grid_auto_rows": null,
            "grid_column": null,
            "grid_gap": null,
            "grid_row": null,
            "grid_template_areas": null,
            "grid_template_columns": null,
            "grid_template_rows": null,
            "height": null,
            "justify_content": null,
            "justify_items": null,
            "left": null,
            "margin": null,
            "max_height": null,
            "max_width": null,
            "min_height": null,
            "min_width": null,
            "object_fit": null,
            "object_position": null,
            "order": null,
            "overflow": null,
            "overflow_x": null,
            "overflow_y": null,
            "padding": null,
            "right": null,
            "top": null,
            "visibility": null,
            "width": null
          }
        },
        "708432201f4b4fef88c0607424ca897c": {
          "model_module": "@jupyter-widgets/controls",
          "model_name": "ProgressStyleModel",
          "model_module_version": "1.5.0",
          "state": {
            "_model_module": "@jupyter-widgets/controls",
            "_model_module_version": "1.5.0",
            "_model_name": "ProgressStyleModel",
            "_view_count": null,
            "_view_module": "@jupyter-widgets/base",
            "_view_module_version": "1.2.0",
            "_view_name": "StyleView",
            "bar_color": null,
            "description_width": ""
          }
        },
        "c908d70d5be04d45bcee0ed4e0e09ef6": {
          "model_module": "@jupyter-widgets/base",
          "model_name": "LayoutModel",
          "model_module_version": "1.2.0",
          "state": {
            "_model_module": "@jupyter-widgets/base",
            "_model_module_version": "1.2.0",
            "_model_name": "LayoutModel",
            "_view_count": null,
            "_view_module": "@jupyter-widgets/base",
            "_view_module_version": "1.2.0",
            "_view_name": "LayoutView",
            "align_content": null,
            "align_items": null,
            "align_self": null,
            "border": null,
            "bottom": null,
            "display": null,
            "flex": null,
            "flex_flow": null,
            "grid_area": null,
            "grid_auto_columns": null,
            "grid_auto_flow": null,
            "grid_auto_rows": null,
            "grid_column": null,
            "grid_gap": null,
            "grid_row": null,
            "grid_template_areas": null,
            "grid_template_columns": null,
            "grid_template_rows": null,
            "height": null,
            "justify_content": null,
            "justify_items": null,
            "left": null,
            "margin": null,
            "max_height": null,
            "max_width": null,
            "min_height": null,
            "min_width": null,
            "object_fit": null,
            "object_position": null,
            "order": null,
            "overflow": null,
            "overflow_x": null,
            "overflow_y": null,
            "padding": null,
            "right": null,
            "top": null,
            "visibility": null,
            "width": null
          }
        },
        "6e83c2a6f57c4369a3c151cd4adc400e": {
          "model_module": "@jupyter-widgets/controls",
          "model_name": "DescriptionStyleModel",
          "model_module_version": "1.5.0",
          "state": {
            "_model_module": "@jupyter-widgets/controls",
            "_model_module_version": "1.5.0",
            "_model_name": "DescriptionStyleModel",
            "_view_count": null,
            "_view_module": "@jupyter-widgets/base",
            "_view_module_version": "1.2.0",
            "_view_name": "StyleView",
            "description_width": ""
          }
        },
        "246b3902cc21405fb8ad77a54de14820": {
          "model_module": "@jupyter-widgets/controls",
          "model_name": "HBoxModel",
          "model_module_version": "1.5.0",
          "state": {
            "_dom_classes": [],
            "_model_module": "@jupyter-widgets/controls",
            "_model_module_version": "1.5.0",
            "_model_name": "HBoxModel",
            "_view_count": null,
            "_view_module": "@jupyter-widgets/controls",
            "_view_module_version": "1.5.0",
            "_view_name": "HBoxView",
            "box_style": "",
            "children": [
              "IPY_MODEL_e3f4b241930b445d821c796e60b20595",
              "IPY_MODEL_66fd7e1e4707438eb7f3f1f083fde15a",
              "IPY_MODEL_f7ca196811a34e529c0da00d6d7bc286"
            ],
            "layout": "IPY_MODEL_0df2641bbd88404a9f48003226742549"
          }
        },
        "e3f4b241930b445d821c796e60b20595": {
          "model_module": "@jupyter-widgets/controls",
          "model_name": "HTMLModel",
          "model_module_version": "1.5.0",
          "state": {
            "_dom_classes": [],
            "_model_module": "@jupyter-widgets/controls",
            "_model_module_version": "1.5.0",
            "_model_name": "HTMLModel",
            "_view_count": null,
            "_view_module": "@jupyter-widgets/controls",
            "_view_module_version": "1.5.0",
            "_view_name": "HTMLView",
            "description": "",
            "description_tooltip": null,
            "layout": "IPY_MODEL_6070e169835d487ea5b910f55331702e",
            "placeholder": "​",
            "style": "IPY_MODEL_02b01db37a5547f6ae709d8033d3274c",
            "value": "100%"
          }
        },
        "66fd7e1e4707438eb7f3f1f083fde15a": {
          "model_module": "@jupyter-widgets/controls",
          "model_name": "FloatProgressModel",
          "model_module_version": "1.5.0",
          "state": {
            "_dom_classes": [],
            "_model_module": "@jupyter-widgets/controls",
            "_model_module_version": "1.5.0",
            "_model_name": "FloatProgressModel",
            "_view_count": null,
            "_view_module": "@jupyter-widgets/controls",
            "_view_module_version": "1.5.0",
            "_view_name": "ProgressView",
            "bar_style": "success",
            "description": "",
            "description_tooltip": null,
            "layout": "IPY_MODEL_e567a4df353e4f028f844903bded2f06",
            "max": 100,
            "min": 0,
            "orientation": "horizontal",
            "style": "IPY_MODEL_9a01ff37c88143f7a5eb6c5a736281f8",
            "value": 100
          }
        },
        "f7ca196811a34e529c0da00d6d7bc286": {
          "model_module": "@jupyter-widgets/controls",
          "model_name": "HTMLModel",
          "model_module_version": "1.5.0",
          "state": {
            "_dom_classes": [],
            "_model_module": "@jupyter-widgets/controls",
            "_model_module_version": "1.5.0",
            "_model_name": "HTMLModel",
            "_view_count": null,
            "_view_module": "@jupyter-widgets/controls",
            "_view_module_version": "1.5.0",
            "_view_name": "HTMLView",
            "description": "",
            "description_tooltip": null,
            "layout": "IPY_MODEL_9f37d177eaf44237a46fe1d382c98c1d",
            "placeholder": "​",
            "style": "IPY_MODEL_4c605ca71a084b4cad6d5c5d54ff8405",
            "value": " 100/100 [00:00&lt;00:00, 194.49it/s]"
          }
        },
        "0df2641bbd88404a9f48003226742549": {
          "model_module": "@jupyter-widgets/base",
          "model_name": "LayoutModel",
          "model_module_version": "1.2.0",
          "state": {
            "_model_module": "@jupyter-widgets/base",
            "_model_module_version": "1.2.0",
            "_model_name": "LayoutModel",
            "_view_count": null,
            "_view_module": "@jupyter-widgets/base",
            "_view_module_version": "1.2.0",
            "_view_name": "LayoutView",
            "align_content": null,
            "align_items": null,
            "align_self": null,
            "border": null,
            "bottom": null,
            "display": null,
            "flex": null,
            "flex_flow": null,
            "grid_area": null,
            "grid_auto_columns": null,
            "grid_auto_flow": null,
            "grid_auto_rows": null,
            "grid_column": null,
            "grid_gap": null,
            "grid_row": null,
            "grid_template_areas": null,
            "grid_template_columns": null,
            "grid_template_rows": null,
            "height": null,
            "justify_content": null,
            "justify_items": null,
            "left": null,
            "margin": null,
            "max_height": null,
            "max_width": null,
            "min_height": null,
            "min_width": null,
            "object_fit": null,
            "object_position": null,
            "order": null,
            "overflow": null,
            "overflow_x": null,
            "overflow_y": null,
            "padding": null,
            "right": null,
            "top": null,
            "visibility": null,
            "width": null
          }
        },
        "6070e169835d487ea5b910f55331702e": {
          "model_module": "@jupyter-widgets/base",
          "model_name": "LayoutModel",
          "model_module_version": "1.2.0",
          "state": {
            "_model_module": "@jupyter-widgets/base",
            "_model_module_version": "1.2.0",
            "_model_name": "LayoutModel",
            "_view_count": null,
            "_view_module": "@jupyter-widgets/base",
            "_view_module_version": "1.2.0",
            "_view_name": "LayoutView",
            "align_content": null,
            "align_items": null,
            "align_self": null,
            "border": null,
            "bottom": null,
            "display": null,
            "flex": null,
            "flex_flow": null,
            "grid_area": null,
            "grid_auto_columns": null,
            "grid_auto_flow": null,
            "grid_auto_rows": null,
            "grid_column": null,
            "grid_gap": null,
            "grid_row": null,
            "grid_template_areas": null,
            "grid_template_columns": null,
            "grid_template_rows": null,
            "height": null,
            "justify_content": null,
            "justify_items": null,
            "left": null,
            "margin": null,
            "max_height": null,
            "max_width": null,
            "min_height": null,
            "min_width": null,
            "object_fit": null,
            "object_position": null,
            "order": null,
            "overflow": null,
            "overflow_x": null,
            "overflow_y": null,
            "padding": null,
            "right": null,
            "top": null,
            "visibility": null,
            "width": null
          }
        },
        "02b01db37a5547f6ae709d8033d3274c": {
          "model_module": "@jupyter-widgets/controls",
          "model_name": "DescriptionStyleModel",
          "model_module_version": "1.5.0",
          "state": {
            "_model_module": "@jupyter-widgets/controls",
            "_model_module_version": "1.5.0",
            "_model_name": "DescriptionStyleModel",
            "_view_count": null,
            "_view_module": "@jupyter-widgets/base",
            "_view_module_version": "1.2.0",
            "_view_name": "StyleView",
            "description_width": ""
          }
        },
        "e567a4df353e4f028f844903bded2f06": {
          "model_module": "@jupyter-widgets/base",
          "model_name": "LayoutModel",
          "model_module_version": "1.2.0",
          "state": {
            "_model_module": "@jupyter-widgets/base",
            "_model_module_version": "1.2.0",
            "_model_name": "LayoutModel",
            "_view_count": null,
            "_view_module": "@jupyter-widgets/base",
            "_view_module_version": "1.2.0",
            "_view_name": "LayoutView",
            "align_content": null,
            "align_items": null,
            "align_self": null,
            "border": null,
            "bottom": null,
            "display": null,
            "flex": null,
            "flex_flow": null,
            "grid_area": null,
            "grid_auto_columns": null,
            "grid_auto_flow": null,
            "grid_auto_rows": null,
            "grid_column": null,
            "grid_gap": null,
            "grid_row": null,
            "grid_template_areas": null,
            "grid_template_columns": null,
            "grid_template_rows": null,
            "height": null,
            "justify_content": null,
            "justify_items": null,
            "left": null,
            "margin": null,
            "max_height": null,
            "max_width": null,
            "min_height": null,
            "min_width": null,
            "object_fit": null,
            "object_position": null,
            "order": null,
            "overflow": null,
            "overflow_x": null,
            "overflow_y": null,
            "padding": null,
            "right": null,
            "top": null,
            "visibility": null,
            "width": null
          }
        },
        "9a01ff37c88143f7a5eb6c5a736281f8": {
          "model_module": "@jupyter-widgets/controls",
          "model_name": "ProgressStyleModel",
          "model_module_version": "1.5.0",
          "state": {
            "_model_module": "@jupyter-widgets/controls",
            "_model_module_version": "1.5.0",
            "_model_name": "ProgressStyleModel",
            "_view_count": null,
            "_view_module": "@jupyter-widgets/base",
            "_view_module_version": "1.2.0",
            "_view_name": "StyleView",
            "bar_color": null,
            "description_width": ""
          }
        },
        "9f37d177eaf44237a46fe1d382c98c1d": {
          "model_module": "@jupyter-widgets/base",
          "model_name": "LayoutModel",
          "model_module_version": "1.2.0",
          "state": {
            "_model_module": "@jupyter-widgets/base",
            "_model_module_version": "1.2.0",
            "_model_name": "LayoutModel",
            "_view_count": null,
            "_view_module": "@jupyter-widgets/base",
            "_view_module_version": "1.2.0",
            "_view_name": "LayoutView",
            "align_content": null,
            "align_items": null,
            "align_self": null,
            "border": null,
            "bottom": null,
            "display": null,
            "flex": null,
            "flex_flow": null,
            "grid_area": null,
            "grid_auto_columns": null,
            "grid_auto_flow": null,
            "grid_auto_rows": null,
            "grid_column": null,
            "grid_gap": null,
            "grid_row": null,
            "grid_template_areas": null,
            "grid_template_columns": null,
            "grid_template_rows": null,
            "height": null,
            "justify_content": null,
            "justify_items": null,
            "left": null,
            "margin": null,
            "max_height": null,
            "max_width": null,
            "min_height": null,
            "min_width": null,
            "object_fit": null,
            "object_position": null,
            "order": null,
            "overflow": null,
            "overflow_x": null,
            "overflow_y": null,
            "padding": null,
            "right": null,
            "top": null,
            "visibility": null,
            "width": null
          }
        },
        "4c605ca71a084b4cad6d5c5d54ff8405": {
          "model_module": "@jupyter-widgets/controls",
          "model_name": "DescriptionStyleModel",
          "model_module_version": "1.5.0",
          "state": {
            "_model_module": "@jupyter-widgets/controls",
            "_model_module_version": "1.5.0",
            "_model_name": "DescriptionStyleModel",
            "_view_count": null,
            "_view_module": "@jupyter-widgets/base",
            "_view_module_version": "1.2.0",
            "_view_name": "StyleView",
            "description_width": ""
          }
        }
      }
    }
  },
  "cells": [
    {
      "cell_type": "markdown",
      "metadata": {
        "id": "view-in-github",
        "colab_type": "text"
      },
      "source": [
        "<a href=\"https://colab.research.google.com/github/applejxd/colaboratory/blob/master/others/rapid_python.ipynb\" target=\"_parent\"><img src=\"https://colab.research.google.com/assets/colab-badge.svg\" alt=\"Open In Colab\"/></a>"
      ]
    },
    {
      "cell_type": "markdown",
      "source": [
        "## numba での高速化"
      ],
      "metadata": {
        "id": "8IdvJH2vMY8Q"
      }
    },
    {
      "cell_type": "markdown",
      "source": [
        "### njit: numba の nopython モード"
      ],
      "metadata": {
        "id": "IzedeV8I4L9-"
      }
    },
    {
      "cell_type": "markdown",
      "source": [
        "[numpy での重い計算の例](https://qiita.com/gyu-don/items/9d223b007ca620e95abc)"
      ],
      "metadata": {
        "id": "Tl2lr6Ye0Bfj"
      }
    },
    {
      "cell_type": "code",
      "execution_count": 1,
      "metadata": {
        "id": "q7gnobz9z72j"
      },
      "outputs": [],
      "source": [
        "import sys\n",
        "sys.setrecursionlimit(100000)\n",
        "\n",
        "def ack(m, n):\n",
        "    if m == 0:\n",
        "        return n + 1\n",
        "    if n == 0:\n",
        "        return ack(m - 1, 1)\n",
        "    return ack(m - 1, ack(m, n - 1))"
      ]
    },
    {
      "cell_type": "markdown",
      "source": [
        "通常時の計算時間を測定"
      ],
      "metadata": {
        "id": "HM09YR631y6L"
      }
    },
    {
      "cell_type": "code",
      "source": [
        "import time\n",
        "from contextlib import contextmanager\n",
        "\n",
        "@contextmanager\n",
        "def timer(target: str):\n",
        "    t = time.perf_counter()\n",
        "    yield None\n",
        "    # 有効数字3桁表示\n",
        "    print(f\"[{target}]: {time.perf_counter() - t: .3g} s\")\n",
        "\n",
        "with timer(\"ack(3, 10)\"):\n",
        "    ack(3, 10)"
      ],
      "metadata": {
        "colab": {
          "base_uri": "https://localhost:8080/"
        },
        "id": "VmDSM--G1sZ0",
        "outputId": "951d4861-d5ef-43b8-c284-099cff8917a7"
      },
      "execution_count": 2,
      "outputs": [
        {
          "output_type": "stream",
          "name": "stdout",
          "text": [
            "[ack(3, 10)]:  18.8 s\n"
          ]
        }
      ]
    },
    {
      "cell_type": "markdown",
      "source": [
        "njit で高速化。[型推論は自動。ポリモーフィズムも対応。](https://numba.readthedocs.io/en/stable/user/jit.html)"
      ],
      "metadata": {
        "id": "rceYjPsx4OgL"
      }
    },
    {
      "cell_type": "code",
      "source": [
        "from numba import njit\n",
        "\n",
        "with timer(\"define njit function\"):\n",
        "    @njit(cache=True)\n",
        "    def lazy_ack(m, n):\n",
        "        if m == 0:\n",
        "            return n + 1\n",
        "        if n == 0:\n",
        "            return lazy_ack(m - 1, 1)\n",
        "        return lazy_ack(m - 1, lazy_ack(m, n - 1))\n",
        "\n",
        "# コンパイル時間含む\n",
        "with timer(\"1st try\"):\n",
        "    lazy_ack(3, 10)\n",
        "\n",
        "# コンパイル時間含まない\n",
        "with timer(\"2nd try\"):\n",
        "    lazy_ack(3, 10)"
      ],
      "metadata": {
        "colab": {
          "base_uri": "https://localhost:8080/"
        },
        "id": "vTYXlQfi1340",
        "outputId": "6fb2b540-fec4-48c1-eb53-a2f55f2001f9"
      },
      "execution_count": 3,
      "outputs": [
        {
          "output_type": "stream",
          "name": "stdout",
          "text": [
            "[define njit function]:  0.0592 s\n",
            "[1st try]:  1.08 s\n",
            "[2nd try]:  0.231 s\n"
          ]
        }
      ]
    },
    {
      "cell_type": "markdown",
      "source": [
        "定義時に型指定でコンパイル。トータル時間は変化なし。\n",
        "ポリモーフィズムもないため処理速度を図る目的等がなければ使わなくてもよい。"
      ],
      "metadata": {
        "id": "vnlzwn-d4I1u"
      }
    },
    {
      "cell_type": "code",
      "source": [
        "with timer(\"define njit function\"):\n",
        "    @njit(\"int32(int32, int32)\", cache=True)\n",
        "    def eager_ack(m, n):\n",
        "        if m == 0:\n",
        "            return n + 1\n",
        "        if n == 0:\n",
        "            return eager_ack(m - 1, 1)\n",
        "        return eager_ack(m - 1, eager_ack(m, n - 1))\n",
        "\n",
        "# 初回\n",
        "with timer(\"compile time included\"):\n",
        "    eager_ack(3, 10)\n",
        "\n",
        "# 事前にコンパイル済なので二回目以降の計算時間も同等\n",
        "with timer(\"compile time excluded\"):\n",
        "    eager_ack(3, 10)"
      ],
      "metadata": {
        "colab": {
          "base_uri": "https://localhost:8080/"
        },
        "id": "_Irxms7w1Cp4",
        "outputId": "095d7a9f-0daa-485c-e652-d9045be46e3b"
      },
      "execution_count": 4,
      "outputs": [
        {
          "output_type": "stream",
          "name": "stdout",
          "text": [
            "[define njit function]:  0.388 s\n",
            "[compile time included]:  0.239 s\n",
            "[compile time excluded]:  0.224 s\n"
          ]
        }
      ]
    },
    {
      "cell_type": "markdown",
      "source": [
        "### 並列化 & fastmath\n"
      ],
      "metadata": {
        "id": "_SAW0HDr79A5"
      }
    },
    {
      "cell_type": "markdown",
      "source": [
        "[検証が容易な2重ループの例](https://qiita.com/AnchorBlues/items/59a8543765549fe7bac0)\n",
        "\\begin{equation}\n",
        " S_L=\\sum_{i=0}^{L-1}\\sum_{j=0}^{L-1} (i-j)\n",
        "\\end{equation}"
      ],
      "metadata": {
        "id": "PfkZQqBI4foh"
      }
    },
    {
      "cell_type": "code",
      "source": [
        "def double_sum(size):\n",
        "    sum = 0\n",
        "    for i in range(size):\n",
        "        for j in range(size):\n",
        "            sum += i - j\n",
        "    return sum\n",
        "\n",
        "size = 10000\n",
        "\n",
        "with timer(\"pure python\"):\n",
        "    # 0 となることを確認\n",
        "    print(f\"ans={double_sum(size)}\")"
      ],
      "metadata": {
        "colab": {
          "base_uri": "https://localhost:8080/"
        },
        "id": "Lr8D90Wa4YJo",
        "outputId": "4aea2c8b-a2d0-4491-f835-7c4ee739157b"
      },
      "execution_count": 5,
      "outputs": [
        {
          "output_type": "stream",
          "name": "stdout",
          "text": [
            "ans=0\n",
            "[pure python]:  9.73 s\n"
          ]
        }
      ]
    },
    {
      "cell_type": "markdown",
      "source": [
        "numba を用いたケース"
      ],
      "metadata": {
        "id": "uAFQloBC9Ks9"
      }
    },
    {
      "cell_type": "code",
      "source": [
        "with timer(\"define njit function\"):\n",
        "    @njit(\"int32(int32)\", cache=True)\n",
        "    def double_sum_njit(size):\n",
        "        sum = 0\n",
        "        for i in range(size):\n",
        "            for j in range(size):\n",
        "                sum += i - j\n",
        "        return sum\n",
        "\n",
        "with timer(\"njit enabled\"):\n",
        "    print(f\"ans={double_sum_njit(size)}\")"
      ],
      "metadata": {
        "colab": {
          "base_uri": "https://localhost:8080/"
        },
        "id": "VUPNzmDW5Jcn",
        "outputId": "689e9bf9-16e9-496b-fd58-e5384640ee80"
      },
      "execution_count": 6,
      "outputs": [
        {
          "output_type": "stream",
          "name": "stdout",
          "text": [
            "[define njit function]:  0.127 s\n",
            "ans=0\n",
            "[njit enabled]:  4.29e-05 s\n"
          ]
        }
      ]
    },
    {
      "cell_type": "markdown",
      "source": [
        "更に高速化するには[追加オプション](https://numba.readthedocs.io/en/stable/user/performance-tips.html)を使用する。\n",
        "\n",
        "次の例は prange を用いた並列化. ただしこのケースではマルチコア化のバウンドの方が大きいため高速化されない。"
      ],
      "metadata": {
        "id": "wkj6dg9j8kWk"
      }
    },
    {
      "cell_type": "code",
      "source": [
        "from numba import prange\n",
        "\n",
        "with timer(\"define njit function\"):\n",
        "    @njit(\"int32(int32)\", cache=True, parallel=True)\n",
        "    def double_sum_parallel(size):\n",
        "        sum = 0\n",
        "        # 並列化の対象のループには prange を使う\n",
        "        for i in prange(size):\n",
        "            for j in range(size):\n",
        "                sum += i - j\n",
        "        return sum\n",
        "\n",
        "with timer(\"njit with parallel\"):\n",
        "    print(f\"ans={double_sum_parallel(size)}\")"
      ],
      "metadata": {
        "colab": {
          "base_uri": "https://localhost:8080/"
        },
        "id": "DkJRD8v-5iCx",
        "outputId": "25faaff8-009b-4617-b175-d07c129ded6b"
      },
      "execution_count": 7,
      "outputs": [
        {
          "output_type": "stream",
          "name": "stdout",
          "text": [
            "[define njit function]:  0.889 s\n",
            "ans=0\n",
            "[njit with parallel]:  0.00187 s\n"
          ]
        }
      ]
    },
    {
      "cell_type": "markdown",
      "source": [
        "C++ の最適化のように fastmath も使用可能"
      ],
      "metadata": {
        "id": "cjw7SvhB8eyU"
      }
    },
    {
      "cell_type": "code",
      "source": [
        "with timer(\"define njit function\"):\n",
        "    @njit(\"int32(int32)\", cache=True, parallel=True, fastmath=True)\n",
        "    def double_sum_fast(size):\n",
        "        sum = 0\n",
        "        for i in prange(size):\n",
        "            for j in range(size):\n",
        "                sum += i - j\n",
        "        return sum\n",
        "\n",
        "with timer(\"njit with parallel & fastmath\"):\n",
        "    print(f\"ans={double_sum_fast(size)}\")"
      ],
      "metadata": {
        "colab": {
          "base_uri": "https://localhost:8080/"
        },
        "id": "6fJYU2Yb5s_S",
        "outputId": "70679d0d-3a68-4f6f-855b-3ede0321d72a"
      },
      "execution_count": 8,
      "outputs": [
        {
          "output_type": "stream",
          "name": "stdout",
          "text": [
            "[define njit function]:  0.586 s\n",
            "ans=0\n",
            "[njit with parallel & fastmath]:  0.0018 s\n"
          ]
        }
      ]
    },
    {
      "cell_type": "markdown",
      "source": [
        "### numba.cuda"
      ],
      "metadata": {
        "id": "aa8OkDYfANbH"
      }
    },
    {
      "cell_type": "markdown",
      "source": [
        "[GPUを意識したプログラミング](https://co-crea.jp/wp-content/uploads/2016/07/File_2.pdf)が必要：\n",
        "- [グリッド・ブロック中のスレッド位置の取得方法](https://numba.pydata.org/numba-doc/latest/cuda/kernels.html#absolute-positions)\n",
        "- [CPU・GPU間のデータ転送方法](https://numba.pydata.org/numba-doc/latest/cuda/memory.html)"
      ],
      "metadata": {
        "id": "uMbOwe8ULOuG"
      }
    },
    {
      "cell_type": "code",
      "source": [
        "from numba import cuda\n",
        "import numpy as np\n",
        "import sys\n",
        "sys.setrecursionlimit(100000)\n",
        "\n",
        "\n",
        "# カーネル関数\n",
        "@cuda.jit\n",
        "def add_kernel(a, b, c):\n",
        "    i = cuda.grid(1)\n",
        "    c[i] = a[i] + b[i]\n",
        "\n",
        "# 起動関数\n",
        "def add_arrays(a, b, threads_per_block=256):\n",
        "    # threads_per_block は1ブロックあたりのスレッド数 (128~512)\n",
        "    # GPU の使用ブロック数を計算\n",
        "    blocks = (a.size + threads_per_block - 1) // threads_per_block\n",
        "\n",
        "    # 結果保存用にメモリ確保\n",
        "    result = cuda.to_device(np.zeros_like(a))\n",
        "    add_kernel[blocks, threads_per_block](\n",
        "        cuda.to_device(a), cuda.to_device(b), result)\n",
        "    return result.copy_to_host()\n",
        "\n",
        "array_size = 100000000\n",
        "a = np.ones(array_size, dtype=np.float32)\n",
        "b = np.ones(array_size, dtype=np.float32)\n",
        "\n",
        "with timer(\"CPU computation\"):\n",
        "    a + b\n",
        "\n",
        "add_arrays(a, b)\n",
        "with timer(\"GPU computation\"):\n",
        "    add_arrays(a, b)"
      ],
      "metadata": {
        "colab": {
          "base_uri": "https://localhost:8080/"
        },
        "id": "_PgVm8_TBBZD",
        "outputId": "ace21415-0a44-4cbb-ee3b-bcca4745b911"
      },
      "execution_count": 9,
      "outputs": [
        {
          "output_type": "stream",
          "name": "stdout",
          "text": [
            "[CPU computation]:  0.189 s\n",
            "[GPU computation]:  0.624 s\n"
          ]
        }
      ]
    },
    {
      "cell_type": "markdown",
      "source": [
        "## concurrent.futures での高速化"
      ],
      "metadata": {
        "id": "IG_QHzQlMckh"
      }
    },
    {
      "cell_type": "markdown",
      "source": [
        "### オリジナルの API"
      ],
      "metadata": {
        "id": "sSLUGyMhzkko"
      }
    },
    {
      "cell_type": "markdown",
      "source": [
        "CPU 数を確認"
      ],
      "metadata": {
        "id": "hz2CDo4jBR9d"
      }
    },
    {
      "cell_type": "code",
      "source": [
        "import os\n",
        "\n",
        "print(f\"CPU count is {os.cpu_count()}.\")\n",
        "print(f\"CPU for current thread is {len(os.sched_getaffinity(0))}.\")\n",
        "\n",
        "import multiprocessing\n",
        "print(f\"CPU count by multiprocessing is {multiprocessing.cpu_count()}.\")"
      ],
      "metadata": {
        "id": "F2l6VRhmBOCB",
        "outputId": "5e936d03-14a5-4dfb-9dae-61d240ad4fdf",
        "colab": {
          "base_uri": "https://localhost:8080/"
        }
      },
      "execution_count": 10,
      "outputs": [
        {
          "output_type": "stream",
          "name": "stdout",
          "text": [
            "CPU count is 2.\n",
            "CPU for current thread is 2.\n",
            "CPU count by multiprocessing is 2.\n"
          ]
        }
      ]
    },
    {
      "cell_type": "markdown",
      "source": [
        "ProcessPoolExecutor は CPU bound のタスクに有効。\n",
        "\n",
        "以下はmax_workers の最適値を見つけるサンプル。"
      ],
      "metadata": {
        "id": "wwekeS81DZbT"
      }
    },
    {
      "cell_type": "code",
      "source": [
        "import numpy as np\n",
        "import concurrent.futures\n",
        "\n",
        "def do_something(size):\n",
        "    return np.dot(np.ones((size, size)), np.ones((size, size)))\n",
        "\n",
        "worker_values = [1, 2, 4, 8, 16, 32, 64]\n",
        "tasks = [1000] * 10\n",
        "\n",
        "for max_workers in worker_values:\n",
        "    with timer(f\"max_workers={max_workers}\"):\n",
        "        with concurrent.futures.ProcessPoolExecutor(max_workers) as executor:\n",
        "            futures = [executor.submit(do_something, task) for task in tasks]\n",
        "            results = [f.result() for f in concurrent.futures.as_completed(futures)]"
      ],
      "metadata": {
        "colab": {
          "base_uri": "https://localhost:8080/"
        },
        "id": "CfJwduFK0csU",
        "outputId": "46c3d133-f692-40f4-bf21-334fb29415e2"
      },
      "execution_count": 11,
      "outputs": [
        {
          "output_type": "stream",
          "name": "stdout",
          "text": [
            "[max_workers=1]:  1.59 s\n",
            "[max_workers=2]:  1.76 s\n",
            "[max_workers=4]:  1.7 s\n",
            "[max_workers=8]:  1.76 s\n",
            "[max_workers=16]:  1.87 s\n",
            "[max_workers=32]:  2.26 s\n",
            "[max_workers=64]:  2.81 s\n"
          ]
        }
      ]
    },
    {
      "cell_type": "markdown",
      "source": [
        "上記は submit メソッドを使用した。\n",
        "submit は for 文などで順次タスクを追加する場合に便利。\n",
        "\n",
        "既に処理対象がリストなどでまとまっている場合は map メソッドが便利。使い方は以下。"
      ],
      "metadata": {
        "id": "Dyz-vddJ-MpP"
      }
    },
    {
      "cell_type": "code",
      "source": [
        "import numpy as np\n",
        "import concurrent.futures\n",
        "\n",
        "def do_something(size):\n",
        "    return np.dot(np.ones((size, size)), np.ones((size, size)))\n",
        "\n",
        "worker_values = [1, 2, 4, 8, 16, 32, 64]\n",
        "tasks = [1000] * 10\n",
        "\n",
        "for max_workers in worker_values:\n",
        "    with timer(f\"max_workers={max_workers}\"):\n",
        "        with concurrent.futures.ProcessPoolExecutor(max_workers) as executor:\n",
        "            results = executor.map(do_something, tasks)"
      ],
      "metadata": {
        "id": "NNet8Nsz-TNg",
        "outputId": "c26d8c1e-116c-4e38-bf7b-eff84b7d95be",
        "colab": {
          "base_uri": "https://localhost:8080/"
        }
      },
      "execution_count": 12,
      "outputs": [
        {
          "output_type": "stream",
          "name": "stdout",
          "text": [
            "[max_workers=1]:  0.93 s\n",
            "[max_workers=2]:  1.51 s\n",
            "[max_workers=4]:  1.6 s\n",
            "[max_workers=8]:  2.17 s\n",
            "[max_workers=16]:  1.8 s\n",
            "[max_workers=32]:  1.72 s\n",
            "[max_workers=64]:  1.98 s\n"
          ]
        }
      ]
    },
    {
      "cell_type": "markdown",
      "source": [
        "ThreadPoolExecutor は I/O bound のタスクに有効"
      ],
      "metadata": {
        "id": "mGfwcN4e7iD_"
      }
    },
    {
      "cell_type": "code",
      "source": [
        "import numpy as np\n",
        "import requests\n",
        "import concurrent.futures\n",
        "\n",
        "def do_something(url):\n",
        "    response = requests.get(url)\n",
        "    return response\n",
        "\n",
        "worker_values = [1, 2, 4, 8, 16, 32, 64]\n",
        "tasks = ['https://google.com', 'https://facebook.com', 'https://twitter.com',\n",
        "         'https://www.youtube.com/', 'https://www.amazon.com/',\n",
        "         'https://github.com/']\n",
        "\n",
        "for max_workers in worker_values:\n",
        "    with timer(f\"max_workers={max_workers}\"):\n",
        "        with concurrent.futures.ThreadPoolExecutor(max_workers) as executor:\n",
        "            results = executor.map(do_something, tasks)"
      ],
      "metadata": {
        "id": "rfJ_vZXl054L",
        "colab": {
          "base_uri": "https://localhost:8080/"
        },
        "outputId": "c6d16052-0cc1-41a3-d32d-9998c62010c9"
      },
      "execution_count": 13,
      "outputs": [
        {
          "output_type": "stream",
          "name": "stdout",
          "text": [
            "[max_workers=1]:  1.25 s\n",
            "[max_workers=2]:  0.74 s\n",
            "[max_workers=4]:  0.451 s\n",
            "[max_workers=8]:  0.405 s\n",
            "[max_workers=16]:  0.403 s\n",
            "[max_workers=32]:  0.407 s\n",
            "[max_workers=64]:  0.51 s\n"
          ]
        }
      ]
    },
    {
      "cell_type": "markdown",
      "source": [
        "結果はジェネレータ式なので for 文で処理可能"
      ],
      "metadata": {
        "id": "IGdts22fAJg5"
      }
    },
    {
      "cell_type": "code",
      "source": [
        "with concurrent.futures.ThreadPoolExecutor(max_workers=16) as executor:\n",
        "    results = executor.map(do_something, tasks)\n",
        "\n",
        "print(f\"type_of_results={type(results)}\")\n",
        "for task, result in zip(tasks, results):\n",
        "    print(f\"{task}: code {result.status_code}\")"
      ],
      "metadata": {
        "id": "bxr8Rwi273EI",
        "colab": {
          "base_uri": "https://localhost:8080/"
        },
        "outputId": "24463dfe-a475-4182-fa0e-ca31715e3b85"
      },
      "execution_count": 14,
      "outputs": [
        {
          "output_type": "stream",
          "name": "stdout",
          "text": [
            "type_of_results=<class 'generator'>\n",
            "https://google.com: code 200\n",
            "https://facebook.com: code 200\n",
            "https://twitter.com: code 200\n",
            "https://www.youtube.com/: code 200\n",
            "https://www.amazon.com/: code 503\n",
            "https://github.com/: code 200\n"
          ]
        }
      ]
    },
    {
      "cell_type": "markdown",
      "source": [
        "### tqdm.contrib の利用"
      ],
      "metadata": {
        "id": "iqDrkIs-zoF6"
      }
    },
    {
      "cell_type": "markdown",
      "source": [
        "tqdm.contrib.concurrent.thread_map で tqdm と併用可能。表記もシンプル。"
      ],
      "metadata": {
        "id": "ChXpE-Dpzzma"
      }
    },
    {
      "cell_type": "code",
      "source": [
        "import requests\n",
        "from tqdm.contrib.concurrent import thread_map\n",
        "\n",
        "\n",
        "def do_something(url):\n",
        "    response = requests.get(url)\n",
        "    return response\n",
        "\n",
        "worker_values = [1, 2, 4, 8, 16, 32, 64]\n",
        "tasks = ['https://google.com', 'https://facebook.com', 'https://twitter.com',\n",
        "         'https://www.youtube.com/', 'https://www.amazon.com/',\n",
        "         'https://github.com/']\n",
        "\n",
        "results = list(thread_map(do_something, tasks))"
      ],
      "metadata": {
        "id": "Hd5Sod7N-dhn",
        "colab": {
          "base_uri": "https://localhost:8080/",
          "height": 49,
          "referenced_widgets": [
            "c3507462d6754e06a9f2543a99caa42e",
            "d0803756767a44e5a3764dd291491028",
            "d2980689260b4279918dd161a311de68",
            "dfa3eedf9d434139ba89f79b7f3dcb6e",
            "7b5fa6f3a83744578b6fc4531d340ede",
            "ee7a38fd09374d27b2a57bb60dc14603",
            "dab0bcde5bdb477683283a3c459acfcd",
            "fc0f4cdea911478cbb21c5356cb97bc6",
            "07eb162a88c648069afc5a4939841fe0",
            "4c1adeca9aef414f8ce7c1f17e4c87fd",
            "4d0de71bc16a49009932e1572cecdbe1"
          ]
        },
        "outputId": "cb4823af-75e9-4fcf-e75f-60b5f206704c"
      },
      "execution_count": 15,
      "outputs": [
        {
          "output_type": "display_data",
          "data": {
            "text/plain": [
              "  0%|          | 0/6 [00:00<?, ?it/s]"
            ],
            "application/vnd.jupyter.widget-view+json": {
              "version_major": 2,
              "version_minor": 0,
              "model_id": "c3507462d6754e06a9f2543a99caa42e"
            }
          },
          "metadata": {}
        }
      ]
    },
    {
      "cell_type": "markdown",
      "source": [
        "tqdm.contrib.concurrent.process_map も同様"
      ],
      "metadata": {
        "id": "hK4bmtct0H3d"
      }
    },
    {
      "cell_type": "code",
      "source": [
        "from tqdm.contrib.concurrent import process_map\n",
        "\n",
        "def do_something(size):\n",
        "    return np.dot(np.ones((size, size)), np.ones((size, size)))\n",
        "\n",
        "tasks = [1000] * 10\n",
        "results = list(process_map(do_something, tasks))"
      ],
      "metadata": {
        "colab": {
          "base_uri": "https://localhost:8080/",
          "height": 49,
          "referenced_widgets": [
            "404f36be7c1c46aead8149e8249ca8ee",
            "c40430be28a04adc90c5cb21236517dc",
            "72c5d82308e4495fb04fe816b0375e1a",
            "8c2b1779a6d241ffb407424732e1fbab",
            "7f38c3c267674907a4e5300f1e6f0635",
            "fb53bc4e81a94914a560e79dcbfaa9ca",
            "f6b7bbe023e149e7b552f18f75541ca2",
            "a60d108b03f64858ad00295355026bee",
            "708432201f4b4fef88c0607424ca897c",
            "c908d70d5be04d45bcee0ed4e0e09ef6",
            "6e83c2a6f57c4369a3c151cd4adc400e"
          ]
        },
        "id": "X72TNx-E0K8l",
        "outputId": "9c2f8e5e-43ce-4089-a5ce-b34d32249fea"
      },
      "execution_count": 16,
      "outputs": [
        {
          "output_type": "display_data",
          "data": {
            "text/plain": [
              "  0%|          | 0/10 [00:00<?, ?it/s]"
            ],
            "application/vnd.jupyter.widget-view+json": {
              "version_major": 2,
              "version_minor": 0,
              "model_id": "404f36be7c1c46aead8149e8249ca8ee"
            }
          },
          "metadata": {}
        }
      ]
    },
    {
      "cell_type": "markdown",
      "source": [
        "### プロセス間通信"
      ],
      "metadata": {
        "id": "he51HVAAhCHp"
      }
    },
    {
      "cell_type": "markdown",
      "source": [
        "[共有メモリを使う並列化](https://docs.python.org/ja/3/library/multiprocessing.html#sharing-state-between-processes)。\n",
        "\n",
        "[concurrent.futures.ProcessPoolExecutor](https://rinoguchi.net/2020/07/python-multiprocess.html)と使う方法は不明。"
      ],
      "metadata": {
        "id": "Kc9Kwh0Dl-G7"
      }
    },
    {
      "cell_type": "code",
      "source": [
        "from multiprocessing import Process, Value, Array\n",
        "from tqdm.contrib.concurrent import process_map\n",
        "\n",
        "def f(n, a):\n",
        "    n.value = 3.1415927\n",
        "    for i in range(len(a)):\n",
        "        a[i] = -a[i]\n",
        "\n",
        "num = Value('d', 0.0)\n",
        "arr = Array('i', range(10))\n",
        "\n",
        "p = Process(target=f, args=(num, arr))\n",
        "p.start()\n",
        "p.join()\n",
        "\n",
        "print(num.value)\n",
        "print(arr[:])"
      ],
      "metadata": {
        "colab": {
          "base_uri": "https://localhost:8080/"
        },
        "id": "TqBySNOUeutV",
        "outputId": "436c06e7-90e8-439e-e17e-e2f69a112677"
      },
      "execution_count": 17,
      "outputs": [
        {
          "output_type": "stream",
          "name": "stdout",
          "text": [
            "3.1415927\n",
            "[0, -1, -2, -3, -4, -5, -6, -7, -8, -9]\n"
          ]
        }
      ]
    },
    {
      "cell_type": "markdown",
      "source": [
        "[Manager は低速だが変数管理が自動なので使用しやすい](https://docs.python.org/ja/3/library/multiprocessing.html#sharing-state-between-processes)"
      ],
      "metadata": {
        "id": "tLgc99XWkv0f"
      }
    },
    {
      "cell_type": "code",
      "source": [
        "from multiprocessing import Process, Manager\n",
        "from tqdm.contrib.concurrent import process_map\n",
        "import time\n",
        "\n",
        "def f(data):\n",
        "    d, l, idx = data\n",
        "    d[idx] = idx\n",
        "    l[idx] = -l[idx]\n",
        "\n",
        "with Manager() as manager:\n",
        "    d = manager.dict()\n",
        "    l = manager.list(range(100))\n",
        "\n",
        "    process_map(f, [(d, l, idx) for idx in range(100)])\n",
        "\n",
        "    print(d)\n",
        "    print(l)"
      ],
      "metadata": {
        "colab": {
          "base_uri": "https://localhost:8080/",
          "height": 104,
          "referenced_widgets": [
            "246b3902cc21405fb8ad77a54de14820",
            "e3f4b241930b445d821c796e60b20595",
            "66fd7e1e4707438eb7f3f1f083fde15a",
            "f7ca196811a34e529c0da00d6d7bc286",
            "0df2641bbd88404a9f48003226742549",
            "6070e169835d487ea5b910f55331702e",
            "02b01db37a5547f6ae709d8033d3274c",
            "e567a4df353e4f028f844903bded2f06",
            "9a01ff37c88143f7a5eb6c5a736281f8",
            "9f37d177eaf44237a46fe1d382c98c1d",
            "4c605ca71a084b4cad6d5c5d54ff8405"
          ]
        },
        "id": "PaCCd9y2kzu9",
        "outputId": "e8e5c904-b7f9-46f4-b0a9-ab2a5ab7d630"
      },
      "execution_count": 18,
      "outputs": [
        {
          "output_type": "display_data",
          "data": {
            "text/plain": [
              "  0%|          | 0/100 [00:00<?, ?it/s]"
            ],
            "application/vnd.jupyter.widget-view+json": {
              "version_major": 2,
              "version_minor": 0,
              "model_id": "246b3902cc21405fb8ad77a54de14820"
            }
          },
          "metadata": {}
        },
        {
          "output_type": "stream",
          "name": "stdout",
          "text": [
            "{0: 0, 1: 1, 2: 2, 3: 3, 4: 4, 5: 5, 6: 6, 7: 7, 8: 8, 9: 9, 10: 10, 11: 11, 12: 12, 13: 13, 14: 14, 15: 15, 16: 16, 17: 17, 18: 18, 19: 19, 20: 20, 21: 21, 22: 22, 23: 23, 24: 24, 26: 26, 27: 27, 29: 29, 25: 25, 28: 28, 31: 31, 32: 32, 33: 33, 30: 30, 34: 34, 35: 35, 36: 36, 37: 37, 38: 38, 40: 40, 39: 39, 41: 41, 42: 42, 43: 43, 44: 44, 46: 46, 47: 47, 45: 45, 48: 48, 50: 50, 51: 51, 52: 52, 53: 53, 49: 49, 54: 54, 57: 57, 58: 58, 55: 55, 56: 56, 59: 59, 60: 60, 65: 65, 62: 62, 63: 63, 61: 61, 64: 64, 66: 66, 67: 67, 68: 68, 71: 71, 69: 69, 70: 70, 72: 72, 73: 73, 74: 74, 76: 76, 75: 75, 77: 77, 78: 78, 79: 79, 81: 81, 83: 83, 80: 80, 84: 84, 85: 85, 82: 82, 86: 86, 88: 88, 87: 87, 89: 89, 90: 90, 91: 91, 93: 93, 92: 92, 94: 94, 95: 95, 96: 96, 97: 97, 98: 98, 99: 99}\n",
            "[0, -1, -2, -3, -4, -5, -6, -7, -8, -9, -10, -11, -12, -13, -14, -15, -16, -17, -18, -19, -20, -21, -22, -23, -24, -25, -26, -27, -28, -29, -30, -31, -32, -33, -34, -35, -36, -37, -38, -39, -40, -41, -42, -43, -44, -45, -46, -47, -48, -49, -50, -51, -52, -53, -54, -55, -56, -57, -58, -59, -60, -61, -62, -63, -64, -65, -66, -67, -68, -69, -70, -71, -72, -73, -74, -75, -76, -77, -78, -79, -80, -81, -82, -83, -84, -85, -86, -87, -88, -89, -90, -91, -92, -93, -94, -95, -96, -97, -98, -99]\n"
          ]
        }
      ]
    },
    {
      "cell_type": "markdown",
      "source": [
        "## データロードの高速化"
      ],
      "metadata": {
        "id": "ahodSORk0tt1"
      }
    },
    {
      "cell_type": "code",
      "source": [
        "%%capture\n",
        "!pip install dask[dataframe] orjson"
      ],
      "metadata": {
        "id": "XSMukFjL11PD"
      },
      "execution_count": 19,
      "outputs": []
    },
    {
      "cell_type": "code",
      "source": [
        "import pandas as pd\n",
        "import dask.dataframe as dd\n",
        "import json\n",
        "import orjson"
      ],
      "metadata": {
        "id": "Yyc4MVNn13wZ"
      },
      "execution_count": 20,
      "outputs": []
    },
    {
      "cell_type": "markdown",
      "source": [
        "### CSV"
      ],
      "metadata": {
        "id": "dYeJPF9Zh6w7"
      }
    },
    {
      "cell_type": "markdown",
      "source": [
        "CSV データを用意"
      ],
      "metadata": {
        "id": "MzeJTOUFg2cF"
      }
    },
    {
      "cell_type": "code",
      "source": [
        "import urllib\n",
        "\n",
        "url = \"https://github.com/mwaskom/seaborn-data/raw/refs/heads/master/diamonds.csv\"\n",
        "\n",
        "with urllib.request.urlopen(url) as web_file:\n",
        "  with open(\"diamonds.csv\", 'wb') as local_file:\n",
        "    local_file.write(web_file.read())"
      ],
      "metadata": {
        "id": "RKr79WJ2Dnu4"
      },
      "execution_count": 21,
      "outputs": []
    },
    {
      "cell_type": "markdown",
      "source": [
        "pandas で読み込み"
      ],
      "metadata": {
        "id": "9waX09jCg6Hq"
      }
    },
    {
      "cell_type": "code",
      "source": [
        "%%time\n",
        "df = pd.read_csv(\"diamonds.csv\")"
      ],
      "metadata": {
        "id": "taFADPkQ2Bmt",
        "outputId": "13fb9bcb-f64b-40c0-e92e-2c9296f17b1b",
        "colab": {
          "base_uri": "https://localhost:8080/"
        }
      },
      "execution_count": 22,
      "outputs": [
        {
          "output_type": "stream",
          "name": "stdout",
          "text": [
            "CPU times: user 55.1 ms, sys: 15 ms, total: 70 ms\n",
            "Wall time: 99 ms\n"
          ]
        }
      ]
    },
    {
      "cell_type": "markdown",
      "source": [
        "dask で並列読み込み"
      ],
      "metadata": {
        "id": "wwEp7wFlg8tO"
      }
    },
    {
      "cell_type": "code",
      "source": [
        "%%time\n",
        "df = dd.read_csv(\"diamonds.csv\", dtype={'table': 'float64'}).compute()"
      ],
      "metadata": {
        "id": "ZMMpGNnm2jPt",
        "outputId": "4e3d6d5a-0370-4253-fc26-6d2121299d67",
        "colab": {
          "base_uri": "https://localhost:8080/"
        }
      },
      "execution_count": 23,
      "outputs": [
        {
          "output_type": "stream",
          "name": "stdout",
          "text": [
            "CPU times: user 515 ms, sys: 76 ms, total: 591 ms\n",
            "Wall time: 1.17 s\n"
          ]
        }
      ]
    },
    {
      "cell_type": "markdown",
      "source": [
        "### Json"
      ],
      "metadata": {
        "id": "85qXiE7ih3mr"
      }
    },
    {
      "cell_type": "markdown",
      "source": [
        "json データ取得"
      ],
      "metadata": {
        "id": "345ot-8hg_4s"
      }
    },
    {
      "cell_type": "code",
      "source": [
        "url = \"https://github.com/json-iterator/test-data/raw/refs/heads/master/large-file.json\"\n",
        "\n",
        "with urllib.request.urlopen(url) as web_file:\n",
        "  with open(\"large-file.json\", 'wb') as local_file:\n",
        "    local_file.write(web_file.read())"
      ],
      "metadata": {
        "id": "b18AJjNLE_sl"
      },
      "execution_count": 24,
      "outputs": []
    },
    {
      "cell_type": "markdown",
      "source": [
        "標準の json ライブラリで取得"
      ],
      "metadata": {
        "id": "GeQ4u6nthBdy"
      }
    },
    {
      "cell_type": "code",
      "source": [
        "%%time\n",
        "with open(\"large-file.json\", mode=\"r\") as f:\n",
        "    data = json.load(f)"
      ],
      "metadata": {
        "id": "AbTfkAxw2nIS",
        "outputId": "8b77d6bb-0efd-4bbd-a3ea-4d30a1435417",
        "colab": {
          "base_uri": "https://localhost:8080/"
        }
      },
      "execution_count": 25,
      "outputs": [
        {
          "output_type": "stream",
          "name": "stdout",
          "text": [
            "CPU times: user 475 ms, sys: 150 ms, total: 625 ms\n",
            "Wall time: 1.62 s\n"
          ]
        }
      ]
    },
    {
      "cell_type": "markdown",
      "source": [
        "orjson で高速に処理"
      ],
      "metadata": {
        "id": "Mx48U_CDhE75"
      }
    },
    {
      "cell_type": "code",
      "source": [
        "%%time\n",
        "with open(\"large-file.json\", mode=\"r\") as f:\n",
        "    data = orjson.loads(f.read())"
      ],
      "metadata": {
        "id": "vEUbC41x2vIB",
        "outputId": "409a67ad-46d5-4705-9320-fd6b9ee466e7",
        "colab": {
          "base_uri": "https://localhost:8080/"
        }
      },
      "execution_count": 26,
      "outputs": [
        {
          "output_type": "stream",
          "name": "stdout",
          "text": [
            "CPU times: user 505 ms, sys: 226 ms, total: 731 ms\n",
            "Wall time: 1.01 s\n"
          ]
        }
      ]
    },
    {
      "cell_type": "markdown",
      "source": [
        "書き出しも比較。まずは標準ライブラリ。"
      ],
      "metadata": {
        "id": "uoMFABwvhdQT"
      }
    },
    {
      "cell_type": "code",
      "source": [
        "%%time\n",
        "with open(\"large-file.json\", mode=\"w\") as f:\n",
        "    json.dump(data, f, ensure_ascii=False)"
      ],
      "metadata": {
        "id": "vL7kp_Db3CN0",
        "colab": {
          "base_uri": "https://localhost:8080/"
        },
        "outputId": "15b4caa3-5d1c-4447-ed57-0707826114f3"
      },
      "execution_count": 27,
      "outputs": [
        {
          "output_type": "stream",
          "name": "stdout",
          "text": [
            "CPU times: user 1.86 s, sys: 80.9 ms, total: 1.94 s\n",
            "Wall time: 2.55 s\n"
          ]
        }
      ]
    },
    {
      "cell_type": "markdown",
      "source": [
        "次は orjson"
      ],
      "metadata": {
        "id": "AVDReeujiATJ"
      }
    },
    {
      "cell_type": "code",
      "source": [
        "%%time\n",
        "with open(\"large-file.json\", mode=\"wb\") as f:\n",
        "    f.write(orjson.dumps(data))"
      ],
      "metadata": {
        "colab": {
          "base_uri": "https://localhost:8080/"
        },
        "id": "Z2G9RX1yiBYi",
        "outputId": "14d54651-a83e-4941-e129-7141285ae601"
      },
      "execution_count": 28,
      "outputs": [
        {
          "output_type": "stream",
          "name": "stdout",
          "text": [
            "CPU times: user 42.4 ms, sys: 36.6 ms, total: 79.1 ms\n",
            "Wall time: 117 ms\n"
          ]
        }
      ]
    },
    {
      "cell_type": "code",
      "source": [],
      "metadata": {
        "id": "L97FskpQifTQ"
      },
      "execution_count": 28,
      "outputs": []
    }
  ]
}