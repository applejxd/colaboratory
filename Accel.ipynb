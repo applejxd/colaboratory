{
  "nbformat": 4,
  "nbformat_minor": 0,
  "metadata": {
    "colab": {
      "name": "Accel.ipynb",
      "provenance": [],
      "collapsed_sections": [],
      "authorship_tag": "ABX9TyNot+5z41kaZxWGLu1n9pTu",
      "include_colab_link": true
    },
    "kernelspec": {
      "name": "python3",
      "display_name": "Python 3"
    }
  },
  "cells": [
    {
      "cell_type": "markdown",
      "metadata": {
        "id": "view-in-github",
        "colab_type": "text"
      },
      "source": [
        "<a href=\"https://colab.research.google.com/github/applejxd/colaboratory/blob/master/Accel.ipynb\" target=\"_parent\"><img src=\"https://colab.research.google.com/assets/colab-badge.svg\" alt=\"Open In Colab\"/></a>"
      ]
    },
    {
      "cell_type": "markdown",
      "metadata": {
        "id": "KcoU51unXP29"
      },
      "source": [
        "重力加速度込みの加速度センサデータ（by phyphox for iOS）をダウンロード"
      ]
    },
    {
      "cell_type": "code",
      "metadata": {
        "colab": {
          "base_uri": "https://localhost:8080/"
        },
        "id": "rmV4H4PjV0ie",
        "outputId": "3340be2b-b6ea-4e4e-b0f9-33aa3a9100b7"
      },
      "source": [
        "import urllib.request\n",
        "\n",
        "url = 'https://raw.githubusercontent.com/applejxd/colaboratory/master/data/accel-with-gravity.csv'\n",
        "urllib.request.urlretrieve(url,'data.csv')"
      ],
      "execution_count": 3,
      "outputs": [
        {
          "output_type": "execute_result",
          "data": {
            "text/plain": [
              "('data.csv', <http.client.HTTPMessage at 0x7f58e24efdd8>)"
            ]
          },
          "metadata": {
            "tags": []
          },
          "execution_count": 3
        }
      ]
    },
    {
      "cell_type": "markdown",
      "metadata": {
        "id": "IXy_mvl0XUx1"
      },
      "source": [
        "Dataframe にパースして表示。\n",
        "座標系は画面右に$+x$, 画面上に$+y$, 画面手前に$+z$。 "
      ]
    },
    {
      "cell_type": "code",
      "metadata": {
        "colab": {
          "base_uri": "https://localhost:8080/",
          "height": 402
        },
        "id": "3vyzkqlSWZFt",
        "outputId": "117b3093-a09d-4c92-9268-879273dcae17"
      },
      "source": [
        "import pandas as pd\n",
        "\n",
        "df = pd.read_csv('data.csv')\n",
        "display(df)"
      ],
      "execution_count": 18,
      "outputs": [
        {
          "output_type": "display_data",
          "data": {
            "text/html": [
              "<div>\n",
              "<style scoped>\n",
              "    .dataframe tbody tr th:only-of-type {\n",
              "        vertical-align: middle;\n",
              "    }\n",
              "\n",
              "    .dataframe tbody tr th {\n",
              "        vertical-align: top;\n",
              "    }\n",
              "\n",
              "    .dataframe thead th {\n",
              "        text-align: right;\n",
              "    }\n",
              "</style>\n",
              "<table border=\"1\" class=\"dataframe\">\n",
              "  <thead>\n",
              "    <tr style=\"text-align: right;\">\n",
              "      <th></th>\n",
              "      <th>Time (s)</th>\n",
              "      <th>Acceleration x (m/s^2)</th>\n",
              "      <th>Acceleration y (m/s^2)</th>\n",
              "      <th>Acceleration z (m/s^2)</th>\n",
              "      <th>Absolute acceleration (m/s^2)</th>\n",
              "    </tr>\n",
              "  </thead>\n",
              "  <tbody>\n",
              "    <tr>\n",
              "      <th>0</th>\n",
              "      <td>0.000000</td>\n",
              "      <td>-2.558629</td>\n",
              "      <td>2.964884</td>\n",
              "      <td>10.221494</td>\n",
              "      <td>10.946053</td>\n",
              "    </tr>\n",
              "    <tr>\n",
              "      <th>1</th>\n",
              "      <td>0.010050</td>\n",
              "      <td>-2.395020</td>\n",
              "      <td>3.016976</td>\n",
              "      <td>10.424772</td>\n",
              "      <td>11.113691</td>\n",
              "    </tr>\n",
              "    <tr>\n",
              "      <th>2</th>\n",
              "      <td>0.020099</td>\n",
              "      <td>-2.151476</td>\n",
              "      <td>3.052901</td>\n",
              "      <td>10.492730</td>\n",
              "      <td>11.137614</td>\n",
              "    </tr>\n",
              "    <tr>\n",
              "      <th>3</th>\n",
              "      <td>0.030148</td>\n",
              "      <td>-1.965413</td>\n",
              "      <td>3.089276</td>\n",
              "      <td>10.542277</td>\n",
              "      <td>11.160022</td>\n",
              "    </tr>\n",
              "    <tr>\n",
              "      <th>4</th>\n",
              "      <td>0.040198</td>\n",
              "      <td>-1.824256</td>\n",
              "      <td>3.133733</td>\n",
              "      <td>10.575957</td>\n",
              "      <td>11.180298</td>\n",
              "    </tr>\n",
              "    <tr>\n",
              "      <th>...</th>\n",
              "      <td>...</td>\n",
              "      <td>...</td>\n",
              "      <td>...</td>\n",
              "      <td>...</td>\n",
              "      <td>...</td>\n",
              "    </tr>\n",
              "    <tr>\n",
              "      <th>991</th>\n",
              "      <td>9.958880</td>\n",
              "      <td>-0.591720</td>\n",
              "      <td>6.807544</td>\n",
              "      <td>6.167325</td>\n",
              "      <td>9.204818</td>\n",
              "    </tr>\n",
              "    <tr>\n",
              "      <th>992</th>\n",
              "      <td>9.968929</td>\n",
              "      <td>-0.722847</td>\n",
              "      <td>6.685847</td>\n",
              "      <td>6.175857</td>\n",
              "      <td>9.130403</td>\n",
              "    </tr>\n",
              "    <tr>\n",
              "      <th>993</th>\n",
              "      <td>9.978979</td>\n",
              "      <td>-0.957708</td>\n",
              "      <td>6.538703</td>\n",
              "      <td>6.309080</td>\n",
              "      <td>9.136538</td>\n",
              "    </tr>\n",
              "    <tr>\n",
              "      <th>994</th>\n",
              "      <td>9.989028</td>\n",
              "      <td>-1.226549</td>\n",
              "      <td>6.480623</td>\n",
              "      <td>6.546337</td>\n",
              "      <td>9.292870</td>\n",
              "    </tr>\n",
              "    <tr>\n",
              "      <th>995</th>\n",
              "      <td>9.999077</td>\n",
              "      <td>-1.466201</td>\n",
              "      <td>6.378386</td>\n",
              "      <td>6.778504</td>\n",
              "      <td>9.422403</td>\n",
              "    </tr>\n",
              "  </tbody>\n",
              "</table>\n",
              "<p>996 rows × 5 columns</p>\n",
              "</div>"
            ],
            "text/plain": [
              "     Time (s)  ...  Absolute acceleration (m/s^2)\n",
              "0    0.000000  ...                      10.946053\n",
              "1    0.010050  ...                      11.113691\n",
              "2    0.020099  ...                      11.137614\n",
              "3    0.030148  ...                      11.160022\n",
              "4    0.040198  ...                      11.180298\n",
              "..        ...  ...                            ...\n",
              "991  9.958880  ...                       9.204818\n",
              "992  9.968929  ...                       9.130403\n",
              "993  9.978979  ...                       9.136538\n",
              "994  9.989028  ...                       9.292870\n",
              "995  9.999077  ...                       9.422403\n",
              "\n",
              "[996 rows x 5 columns]"
            ]
          },
          "metadata": {
            "tags": []
          }
        }
      ]
    },
    {
      "cell_type": "markdown",
      "metadata": {
        "id": "cBOb6YZfX_0g"
      },
      "source": [
        "加速度の絶対値をプロット"
      ]
    },
    {
      "cell_type": "code",
      "metadata": {
        "colab": {
          "base_uri": "https://localhost:8080/",
          "height": 265
        },
        "id": "ScLtcdO7XKN3",
        "outputId": "b54de496-2ba2-4b0e-a684-c1ce3a9ece62"
      },
      "source": [
        "import matplotlib.pyplot as plt\n",
        "\n",
        "plt.plot(df[['Time (s)']],df[['Absolute acceleration (m/s^2)']])\n",
        "plt.show()"
      ],
      "execution_count": 17,
      "outputs": [
        {
          "output_type": "display_data",
          "data": {
            "image/png": "[encoded data removed]",
            "text/plain": [
              "<Figure size 432x288 with 1 Axes>"
            ]
          },
          "metadata": {
            "tags": [],
            "needs_background": "light"
          }
        }
      ]
    },
    {
      "cell_type": "code",
      "metadata": {
        "id": "V0GRGd_7YF5W"
      },
      "source": [
        ""
      ],
      "execution_count": null,
      "outputs": []
    }
  ]
}