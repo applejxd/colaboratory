{
  "nbformat": 4,
  "nbformat_minor": 0,
  "metadata": {
    "colab": {
      "provenance": [],
      "authorship_tag": "ABX9TyNPEfNl3ezioY6+O1KAiA1q",
      "include_colab_link": true
    },
    "kernelspec": {
      "name": "python3",
      "display_name": "Python 3"
    },
    "language_info": {
      "name": "python"
    }
  },
  "cells": [
    {
      "cell_type": "markdown",
      "metadata": {
        "id": "view-in-github",
        "colab_type": "text"
      },
      "source": [
        "<a href=\"https://colab.research.google.com/github/applejxd/colaboratory/blob/master/quantum/grover.ipynb\" target=\"_parent\"><img src=\"https://colab.research.google.com/assets/colab-badge.svg\" alt=\"Open In Colab\"/></a>"
      ]
    },
    {
      "cell_type": "code",
      "source": [
        "%%capture\n",
        "!pip install qulacs"
      ],
      "metadata": {
        "id": "E0iyaNPiCqap"
      },
      "execution_count": 2,
      "outputs": []
    },
    {
      "cell_type": "code",
      "execution_count": 3,
      "metadata": {
        "colab": {
          "base_uri": "https://localhost:8080/"
        },
        "id": "VN50gwz7ud8B",
        "outputId": "bdd734f1-0785-4aec-e1d0-9cd3327d1562"
      },
      "outputs": [
        {
          "output_type": "stream",
          "name": "stdout",
          "text": [
            "Looking in indexes: https://pypi.org/simple, https://us-python.pkg.dev/colab-wheels/public/simple/\n",
            "Collecting wurlitzer\n",
            "  Downloading wurlitzer-3.0.3-py3-none-any.whl (7.3 kB)\n",
            "Installing collected packages: wurlitzer\n",
            "Successfully installed wurlitzer-3.0.3\n"
          ]
        }
      ],
      "source": [
        "## ライブラリのインポート\n",
        "import matplotlib.pyplot as plt\n",
        "import numpy as np\n",
        "import time\n",
        "import random\n",
        "from qulacs import QuantumState\n",
        "from qulacs.state import inner_product\n",
        "from qulacs import QuantumCircuit\n",
        "from qulacs.gate import to_matrix_gate\n",
        "from qulacs import QuantumState\n",
        "from qulacs.gate import Identity, X,Y,Z #パウリ演算子\n",
        "from qulacs.gate import H\n",
        "from qulacs.gate import RX,RY,RZ #パウリ演算子についての回転演算\n",
        "\n",
        "## Google Colaboratory / (Linux or Mac)のjupyter notebook 環境の場合にのみ実行してください。\n",
        "## Qulacsのエラーが正常に出力されるようになります。\n",
        "!pip3 install wurlitzer\n",
        "%load_ext wurlitzer"
      ]
    },
    {
      "cell_type": "code",
      "source": [
        "## 係数の絶対値の分布をプロットする関数\n",
        "def show_distribution(state,nqubits):\n",
        "    plt.bar([i for i in range(pow(2,nqubits))], abs(state.get_vector()))\n",
        "    plt.show()"
      ],
      "metadata": {
        "id": "whnIezRpClh_"
      },
      "execution_count": 4,
      "outputs": []
    },
    {
      "cell_type": "markdown",
      "source": [
        "[量子状態を初期化](https://dojo.qulacs.org/ja/latest/notebooks/3.1_Qulacs_tutorial.html?highlight=set_computational_basis#%E9%87%8F%E5%AD%90%E7%8A%B6%E6%85%8B%E3%81%AE%E5%88%9D%E6%9C%9F%E5%8C%96)"
      ],
      "metadata": {
        "id": "XOIjAiH9Eqc9"
      }
    },
    {
      "cell_type": "code",
      "source": [
        "nqubits = 5\n",
        "state: QuantumState = QuantumState(nqubits)\n",
        "state.set_zero_state()\n",
        "\n",
        "show_distribution(state,nqubits)"
      ],
      "metadata": {
        "colab": {
          "base_uri": "https://localhost:8080/",
          "height": 265
        },
        "id": "qnadQajfC00y",
        "outputId": "4face65e-dc0d-48b0-8055-f1e07cde4425"
      },
      "execution_count": 14,
      "outputs": [
        {
          "output_type": "display_data",
          "data": {
            "text/plain": [
              "<Figure size 432x288 with 1 Axes>"
            ],
            "image/png": "[encoded data removed]"
          },
          "metadata": {
            "needs_background": "light"
          }
        }
      ]
    },
    {
      "cell_type": "markdown",
      "source": [
        "Hadamard 変換で一様状態に変換"
      ],
      "metadata": {
        "id": "NVE4re6XGAIB"
      }
    },
    {
      "cell_type": "code",
      "source": [
        "def make_Hadamard(nqubits):\n",
        "    Hadamard = QuantumCircuit(nqubits)\n",
        "    for i in range(nqubits):\n",
        "        Hadamard.add_gate(H(i))\n",
        "    return Hadamard\n",
        "\n",
        "Hadamard = make_Hadamard(nqubits)\n",
        "Hadamard.update_quantum_state(state)\n",
        "\n",
        "show_distribution(state,nqubits)"
      ],
      "metadata": {
        "colab": {
          "base_uri": "https://localhost:8080/",
          "height": 265
        },
        "id": "LD7AmR0FF8Mh",
        "outputId": "82f7002d-e441-48f3-adfb-ad7299230b7d"
      },
      "execution_count": 15,
      "outputs": [
        {
          "output_type": "display_data",
          "data": {
            "text/plain": [
              "<Figure size 432x288 with 1 Axes>"
            ],
            "image/png": "[encoded data removed]"
          },
          "metadata": {
            "needs_background": "light"
          }
        }
      ]
    },
    {
      "cell_type": "markdown",
      "source": [
        "Oracle を作成 (正答に対する位相反転)。\n",
        "回答は $|11...1>$。"
      ],
      "metadata": {
        "id": "JufYrmq7GSse"
      }
    },
    {
      "cell_type": "code",
      "source": [
        "def make_U_w(nqubits):\n",
        "    U_w = QuantumCircuit(nqubits)\n",
        "    # Z ゲート (z 方向 Pauli 行列) は位相反転演算子\n",
        "    # & Z ゲートを最後の量子ビットに作用 ((nqubits-1)-th qubit)\n",
        "    # cf. http://docs.qulacs.org/ja/latest/intro/4.1_python_tutorial.html#id13\n",
        "    CnZ = to_matrix_gate(Z(nqubits-1))\n",
        "    # |11...1>　だけ位相反転 (|1> に対する位相反転は常に符号反転)\n",
        "    for i in range(nqubits-1):\n",
        "        control_index = i\n",
        "        control_with_value = 1\n",
        "        # 対象を i 番目成分が 1 であるベクトルに制限\n",
        "        # cf. http://docs.qulacs.org/ja/latest/intro/4.1_python_tutorial.html#id12\n",
        "        CnZ.add_control_qubit(control_index, control_with_value)\n",
        "    U_w.add_gate(CnZ)\n",
        "    return U_w"
      ],
      "metadata": {
        "id": "MyME19ihC4E2"
      },
      "execution_count": 17,
      "outputs": []
    },
    {
      "cell_type": "markdown",
      "source": [
        "正答に対する位相反転を確認"
      ],
      "metadata": {
        "id": "h3Sw0zAgH41q"
      }
    },
    {
      "cell_type": "code",
      "source": [
        "hoge: QuantumState = state.copy()\n",
        "U_w = make_U_w(nqubits)\n",
        "U_w.update_quantum_state(hoge)\n",
        "print(hoge.get_vector())"
      ],
      "metadata": {
        "colab": {
          "base_uri": "https://localhost:8080/"
        },
        "id": "cB_V1XwEC6uT",
        "outputId": "8865f09b-1d91-488e-ebee-cb4894093b40"
      },
      "execution_count": 7,
      "outputs": [
        {
          "output_type": "stream",
          "name": "stdout",
          "text": [
            "[ 0.1767767+0.j  0.1767767+0.j  0.1767767+0.j  0.1767767+0.j\n",
            "  0.1767767+0.j  0.1767767+0.j  0.1767767+0.j  0.1767767+0.j\n",
            "  0.1767767+0.j  0.1767767+0.j  0.1767767+0.j  0.1767767+0.j\n",
            "  0.1767767+0.j  0.1767767+0.j  0.1767767+0.j  0.1767767+0.j\n",
            "  0.1767767+0.j  0.1767767+0.j  0.1767767+0.j  0.1767767+0.j\n",
            "  0.1767767+0.j  0.1767767+0.j  0.1767767+0.j  0.1767767+0.j\n",
            "  0.1767767+0.j  0.1767767+0.j  0.1767767+0.j  0.1767767+0.j\n",
            "  0.1767767+0.j  0.1767767+0.j  0.1767767+0.j -0.1767767+0.j]\n"
          ]
        }
      ]
    },
    {
      "cell_type": "markdown",
      "source": [
        "拡散変換"
      ],
      "metadata": {
        "id": "uK-HuD2HIO09"
      }
    },
    {
      "cell_type": "code",
      "source": [
        "def make_U_s(nqubits):\n",
        "    U_s = QuantumCircuit(nqubits)\n",
        "    for i in range(nqubits):\n",
        "        U_s.add_gate(H(i))\n",
        "\n",
        "    # 2|0><0| - I = diag(1, -1, -1, ...) の実装\n",
        "    # まず、位相(-1)を全ての状態に付与する。ゲート行列は array([[-1,0],[0,-1]])\n",
        "    U_s.add_gate(to_matrix_gate(RZ(nqubits-1, 2*np.pi)))\n",
        "\n",
        "    # ---------------------- #\n",
        "    # |00...0> のみ 位相反転 #\n",
        "    # ---------------------- #\n",
        "\n",
        "    # X ゲート (x 方向 Pauli 行列) は NOT ゲートとみなせる\n",
        "    # |00...00> -> |00...01>\n",
        "    U_s.add_gate( X(nqubits-1) )\n",
        "\n",
        "    # |00...01> -> -|00...01>\n",
        "    CnZ = to_matrix_gate(Z(nqubits-1))\n",
        "    for i in range(nqubits-1):\n",
        "        control_index = i\n",
        "        control_with_value = 0\n",
        "        # 対象を i 番目成分が 0 のベクトルに制限する\n",
        "        # cf. http://docs.qulacs.org/ja/latest/intro/4.1_python_tutorial.html#id12\n",
        "        CnZ.add_control_qubit(control_index, control_with_value)\n",
        "    U_s.add_gate( CnZ )\n",
        "    # -|00...01> -> -|00...00>\n",
        "    U_s.add_gate( X(nqubits-1) )\n",
        "\n",
        "    for i in range(nqubits):\n",
        "        U_s.add_gate(H(i))\n",
        "\n",
        "    return U_s"
      ],
      "metadata": {
        "id": "qbzO1JJNC9IS"
      },
      "execution_count": 18,
      "outputs": []
    },
    {
      "cell_type": "code",
      "source": [
        "# 初期状態の準備\n",
        "state = QuantumState(nqubits)\n",
        "state.set_zero_state()\n",
        "Hadamard.update_quantum_state(state)\n",
        "\n",
        "# U_s U_w を作用\n",
        "U_s = make_U_s(nqubits)\n",
        "U_w.update_quantum_state(state)\n",
        "U_s.update_quantum_state(state)\n",
        "show_distribution(state,nqubits)"
      ],
      "metadata": {
        "colab": {
          "base_uri": "https://localhost:8080/",
          "height": 265
        },
        "id": "IPvGjFInC_k6",
        "outputId": "17af7c79-a794-4fe6-81db-c6a0946eb2c2"
      },
      "execution_count": 9,
      "outputs": [
        {
          "output_type": "display_data",
          "data": {
            "text/plain": [
              "<Figure size 432x288 with 1 Axes>"
            ],
            "image/png": "[encoded data removed]"
          },
          "metadata": {
            "needs_background": "light"
          }
        }
      ]
    },
    {
      "cell_type": "code",
      "source": [
        "# 内積を評価するために 解状態 |1...1> を作っておく\n",
        "target_state = QuantumState(nqubits)\n",
        "# 2**n_qubits-1 は 2進数で 1...1\n",
        "target_state.set_computational_basis(2**nqubits-1)\n",
        "\n",
        "# グローバーのアルゴリズムの実行\n",
        "state = QuantumState(nqubits)\n",
        "state.set_zero_state()\n",
        "\n",
        "Hadamard.update_quantum_state(state)\n",
        "\n",
        "for i in range(4):\n",
        "    U_w.update_quantum_state(state)\n",
        "    U_s.update_quantum_state(state)\n",
        "    show_distribution(state,nqubits)\n",
        "    print(np.linalg.norm(inner_product(state, target_state)))"
      ],
      "metadata": {
        "colab": {
          "base_uri": "https://localhost:8080/",
          "height": 1000
        },
        "id": "Z89_W2RNDBJ6",
        "outputId": "5fc5c833-4752-4447-dbf5-c4f797e2e630"
      },
      "execution_count": 10,
      "outputs": [
        {
          "output_type": "display_data",
          "data": {
            "text/plain": [
              "<Figure size 432x288 with 1 Axes>"
            ],
            "image/png": "[encoded data removed]"
          },
          "metadata": {
            "needs_background": "light"
          }
        },
        {
          "output_type": "stream",
          "name": "stdout",
          "text": [
            "0.5082329989778305\n"
          ]
        },
        {
          "output_type": "display_data",
          "data": {
            "text/plain": [
              "<Figure size 432x288 with 1 Axes>"
            ],
            "image/png": "[encoded data removed]"
          },
          "metadata": {
            "needs_background": "light"
          }
        },
        {
          "output_type": "stream",
          "name": "stdout",
          "text": [
            "0.7761601777867947\n"
          ]
        },
        {
          "output_type": "display_data",
          "data": {
            "text/plain": [
              "<Figure size 432x288 with 1 Axes>"
            ],
            "image/png": "[encoded data removed]"
          },
          "metadata": {
            "needs_background": "light"
          }
        },
        {
          "output_type": "stream",
          "name": "stdout",
          "text": [
            "0.9470673343724091\n"
          ]
        },
        {
          "output_type": "display_data",
          "data": {
            "text/plain": [
              "<Figure size 432x288 with 1 Axes>"
            ],
            "image/png": "[encoded data removed]"
          },
          "metadata": {
            "needs_background": "light"
          }
        },
        {
          "output_type": "stream",
          "name": "stdout",
          "text": [
            "0.9995910741614723\n"
          ]
        }
      ]
    },
    {
      "cell_type": "code",
      "source": [
        "nqubits = 10\n",
        "state = QuantumState(nqubits)\n",
        "state.set_zero_state()\n",
        "\n",
        "## 内積を評価するために 解状態 |1...1> を作っておく\n",
        "target_state = QuantumState(nqubits)\n",
        "target_state.set_computational_basis(2**nqubits-1) ## 2**n_qubits-1 は 2進数で 1...1\n",
        "\n",
        "## グローバーのアルゴリズムの実行\n",
        "Hadamard = make_Hadamard(nqubits)\n",
        "U_w= make_U_w(nqubits)\n",
        "U_s = make_U_s(nqubits)\n",
        "\n",
        "result = []\n",
        "\n",
        "state = QuantumState(nqubits)\n",
        "state.set_zero_state()\n",
        "Hadamard.update_quantum_state(state)\n",
        "for k in range(30):\n",
        "    U_w.update_quantum_state(state)\n",
        "    U_s.update_quantum_state(state)\n",
        "    #show_distribution(state,nqubits)\n",
        "    result.append(np.linalg.norm(inner_product(state, target_state)))\n",
        "\n",
        "max_k = np.argmax(result)\n",
        "print( f\"maximal probability {result[max_k]:5e} is obtained at k = {max_k+1}\")\n",
        "\n",
        "plt.plot(np.arange(1, 30+1), result, \"o-\")"
      ],
      "metadata": {
        "colab": {
          "base_uri": "https://localhost:8080/",
          "height": 300
        },
        "id": "pGE_Mg7PDDW4",
        "outputId": "0bc92327-3bdc-42b6-860a-9da96af0bc85"
      },
      "execution_count": 11,
      "outputs": [
        {
          "output_type": "stream",
          "name": "stdout",
          "text": [
            "maximal probability 9.997306e-01 is obtained at k = 25\n"
          ]
        },
        {
          "output_type": "execute_result",
          "data": {
            "text/plain": [
              "[<matplotlib.lines.Line2D at 0x7f857d041d00>]"
            ]
          },
          "metadata": {},
          "execution_count": 11
        },
        {
          "output_type": "display_data",
          "data": {
            "text/plain": [
              "<Figure size 432x288 with 1 Axes>"
            ],
            "image/png": "[encoded data removed]"
          },
          "metadata": {
            "needs_background": "light"
          }
        }
      ]
    },
    {
      "cell_type": "code",
      "source": [
        "result = []\n",
        "min_nqubits = 6\n",
        "max_nqubits = 16\n",
        "for nqubits in range(min_nqubits, max_nqubits+1, 2):\n",
        "    # 回路の準備\n",
        "    Hadamard = make_Hadamard(nqubits)\n",
        "    U_w= make_U_w(nqubits)\n",
        "    U_s = make_U_s(nqubits)\n",
        "\n",
        "    # 内積を評価するために 解状態 |1...1> を作っておく\n",
        "    target_state = QuantumState(nqubits)\n",
        "    # 2**n_qubits-1 は 2進数で 1...1\n",
        "    target_state.set_computational_basis(2**nqubits-1)\n",
        "\n",
        "    state = QuantumState(nqubits)\n",
        "    state.set_zero_state()\n",
        "    Hadamard.update_quantum_state(state)\n",
        "\n",
        "    # 確率が減少を始めるまで U_s U_w をかける\n",
        "    tmp = 0\n",
        "    flag = 0\n",
        "    num_iter = 0\n",
        "    while flag == 0 and num_iter <= 1000:\n",
        "        num_iter += 1\n",
        "        U_w.update_quantum_state(state)\n",
        "        U_s.update_quantum_state(state)\n",
        "        suc_prob = np.linalg.norm(inner_product(state, target_state))\n",
        "        if tmp < suc_prob:\n",
        "            tmp = suc_prob\n",
        "        else:\n",
        "            flag = 1\n",
        "    result.append( [nqubits, num_iter, suc_prob] )\n",
        "    print(f\"nqubits={nqubits}, num_iter={num_iter}, suc_prob={suc_prob:5e}\")"
      ],
      "metadata": {
        "colab": {
          "base_uri": "https://localhost:8080/"
        },
        "id": "bomERGl8DFcG",
        "outputId": "2581b3fd-78b9-44f5-d107-87add8ecb020"
      },
      "execution_count": 12,
      "outputs": [
        {
          "output_type": "stream",
          "name": "stdout",
          "text": [
            "nqubits=6, num_iter=7, suc_prob=9.526013e-01\n",
            "nqubits=8, num_iter=13, suc_prob=9.930691e-01\n",
            "nqubits=10, num_iter=26, suc_prob=9.963280e-01\n",
            "nqubits=12, num_iter=51, suc_prob=9.992534e-01\n",
            "nqubits=14, num_iter=101, suc_prob=9.998851e-01\n",
            "nqubits=16, num_iter=202, suc_prob=9.999368e-01\n"
          ]
        }
      ]
    },
    {
      "cell_type": "code",
      "source": [
        "result_array = np.array(result)\n",
        "\n",
        "plt.xlim(min_nqubits-1, max_nqubits+1)\n",
        "plt.xlabel(\"n, # of qubits\", fontsize=15)\n",
        "plt.ylabel(\"k, # of iteration\", fontsize=15)\n",
        "plt.semilogy(result_array[:,0], result_array[:,1], \"o-\", label=\"experiment\")\n",
        "plt.semilogy(result_array[:,0], 0.05*2**result_array[:,0], \"-\", label=r\"$\\propto N=2^n$\")\n",
        "plt.semilogy(result_array[:,0], 2**(0.5*result_array[:,0]), \"-\", label=r\"$\\propto \\sqrt{N}=2^{n/2}$\")\n",
        "plt.legend(fontsize=10)"
      ],
      "metadata": {
        "colab": {
          "base_uri": "https://localhost:8080/",
          "height": 301
        },
        "id": "E_0ja-X6DHT9",
        "outputId": "5a72fc5d-08aa-4905-ca65-ba204f3a8b6f"
      },
      "execution_count": 13,
      "outputs": [
        {
          "output_type": "execute_result",
          "data": {
            "text/plain": [
              "<matplotlib.legend.Legend at 0x7f857c666f10>"
            ]
          },
          "metadata": {},
          "execution_count": 13
        },
        {
          "output_type": "display_data",
          "data": {
            "text/plain": [
              "<Figure size 432x288 with 1 Axes>"
            ],
            "image/png": "[encoded data removed]"
          },
          "metadata": {
            "needs_background": "light"
          }
        }
      ]
    },
    {
      "cell_type": "code",
      "source": [],
      "metadata": {
        "id": "jCCH6PXsDI6A"
      },
      "execution_count": null,
      "outputs": []
    }
  ]
}