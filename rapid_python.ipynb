{
  "nbformat": 4,
  "nbformat_minor": 0,
  "metadata": {
    "colab": {
      "provenance": [],
      "toc_visible": true,
      "authorship_tag": "ABX9TyNmsRccJTW+c4NMBOWmjM1b",
      "include_colab_link": true
    },
    "kernelspec": {
      "name": "python3",
      "display_name": "Python 3"
    },
    "language_info": {
      "name": "python"
    },
    "accelerator": "GPU",
    "gpuClass": "standard"
  },
  "cells": [
    {
      "cell_type": "markdown",
      "metadata": {
        "id": "view-in-github",
        "colab_type": "text"
      },
      "source": [
        "<a href=\"https://colab.research.google.com/github/applejxd/colaboratory/blob/master/rapid_python.ipynb\" target=\"_parent\"><img src=\"https://colab.research.google.com/assets/colab-badge.svg\" alt=\"Open In Colab\"/></a>"
      ]
    },
    {
      "cell_type": "markdown",
      "source": [
        "## numba での高速化"
      ],
      "metadata": {
        "id": "8IdvJH2vMY8Q"
      }
    },
    {
      "cell_type": "markdown",
      "source": [
        "### njit: numba の nopython モード"
      ],
      "metadata": {
        "id": "IzedeV8I4L9-"
      }
    },
    {
      "cell_type": "markdown",
      "source": [
        "[numpy での重い計算の例](https://qiita.com/gyu-don/items/9d223b007ca620e95abc)"
      ],
      "metadata": {
        "id": "Tl2lr6Ye0Bfj"
      }
    },
    {
      "cell_type": "code",
      "execution_count": 1,
      "metadata": {
        "id": "q7gnobz9z72j"
      },
      "outputs": [],
      "source": [
        "import sys\n",
        "sys.setrecursionlimit(100000)\n",
        "\n",
        "def ack(m, n):\n",
        "    if m == 0:\n",
        "        return n + 1\n",
        "    if n == 0:\n",
        "        return ack(m - 1, 1)\n",
        "    return ack(m - 1, ack(m, n - 1))"
      ]
    },
    {
      "cell_type": "markdown",
      "source": [
        "通常時の計算時間を測定"
      ],
      "metadata": {
        "id": "HM09YR631y6L"
      }
    },
    {
      "cell_type": "code",
      "source": [
        "import time\n",
        "from contextlib import contextmanager\n",
        "\n",
        "@contextmanager\n",
        "def timer(target: str):\n",
        "    t = time.perf_counter()\n",
        "    yield None\n",
        "    # 有効数字3桁表示\n",
        "    print(f\"[{target}]: {time.perf_counter() - t: .3g} s\")\n",
        "\n",
        "with timer(\"ack(3, 10)\"):\n",
        "    ack(3, 10)"
      ],
      "metadata": {
        "colab": {
          "base_uri": "https://localhost:8080/"
        },
        "id": "VmDSM--G1sZ0",
        "outputId": "e8767b5e-aece-4a71-9d5f-3650bf62921c"
      },
      "execution_count": 2,
      "outputs": [
        {
          "output_type": "stream",
          "name": "stdout",
          "text": [
            "[ack(3, 10)]:  13 s\n"
          ]
        }
      ]
    },
    {
      "cell_type": "markdown",
      "source": [
        "njit で高速化。[型推論は自動。ポリモーフィズムも対応。](https://numba.readthedocs.io/en/stable/user/jit.html)"
      ],
      "metadata": {
        "id": "rceYjPsx4OgL"
      }
    },
    {
      "cell_type": "code",
      "source": [
        "from numba import njit\n",
        "\n",
        "with timer(\"define njit function\"):\n",
        "    @njit(cache=True)\n",
        "    def lazy_ack(m, n):\n",
        "        if m == 0:\n",
        "            return n + 1\n",
        "        if n == 0:\n",
        "            return lazy_ack(m - 1, 1)\n",
        "        return lazy_ack(m - 1, lazy_ack(m, n - 1))\n",
        "\n",
        "# コンパイル時間含む\n",
        "with timer(\"1st try\"):\n",
        "    lazy_ack(3, 10)\n",
        "\n",
        "# コンパイル時間含まない\n",
        "with timer(\"2nd try\"):\n",
        "    lazy_ack(3, 10)"
      ],
      "metadata": {
        "colab": {
          "base_uri": "https://localhost:8080/"
        },
        "id": "vTYXlQfi1340",
        "outputId": "544e77ad-f2c3-4a05-ceb2-76c17b255452"
      },
      "execution_count": 3,
      "outputs": [
        {
          "output_type": "stream",
          "name": "stdout",
          "text": [
            "[define njit function]:  0.138 s\n",
            "[1st try]:  0.825 s\n",
            "[2nd try]:  0.292 s\n"
          ]
        }
      ]
    },
    {
      "cell_type": "markdown",
      "source": [
        "定義時に型指定でコンパイル。トータル時間は変化なし。\n",
        "ポリモーフィズムもないため処理速度を図る目的等がなければ使わなくてもよい。"
      ],
      "metadata": {
        "id": "vnlzwn-d4I1u"
      }
    },
    {
      "cell_type": "code",
      "source": [
        "with timer(\"define njit function\"):\n",
        "    @njit(\"int32(int32, int32)\", cache=True)\n",
        "    def eager_ack(m, n):\n",
        "        if m == 0:\n",
        "            return n + 1\n",
        "        if n == 0:\n",
        "            return eager_ack(m - 1, 1)\n",
        "        return eager_ack(m - 1, eager_ack(m, n - 1))\n",
        "\n",
        "# 初回\n",
        "with timer(\"compile time included\"):\n",
        "    eager_ack(3, 10)\n",
        "\n",
        "# 事前にコンパイル済なので二回目以降の計算時間も同等\n",
        "with timer(\"compile time excluded\"):\n",
        "    eager_ack(3, 10)"
      ],
      "metadata": {
        "id": "_Irxms7w1Cp4",
        "outputId": "7fd3ff07-a856-46e8-e022-926b4c10c0bf",
        "colab": {
          "base_uri": "https://localhost:8080/"
        }
      },
      "execution_count": 4,
      "outputs": [
        {
          "output_type": "stream",
          "name": "stdout",
          "text": [
            "[define njit function]:  0.371 s\n",
            "[compile time included]:  0.315 s\n",
            "[compile time excluded]:  0.301 s\n"
          ]
        }
      ]
    },
    {
      "cell_type": "markdown",
      "source": [
        "### 並列化 & fastmath\n"
      ],
      "metadata": {
        "id": "_SAW0HDr79A5"
      }
    },
    {
      "cell_type": "markdown",
      "source": [
        "[検証が容易な2重ループの例](https://qiita.com/AnchorBlues/items/59a8543765549fe7bac0)\n",
        "\\begin{equation}\n",
        " S_L=\\sum_{i=0}^{L-1}\\sum_{j=0}^{L-1} (i-j)\n",
        "\\end{equation}"
      ],
      "metadata": {
        "id": "PfkZQqBI4foh"
      }
    },
    {
      "cell_type": "code",
      "source": [
        "def double_sum(size):\n",
        "    sum = 0\n",
        "    for i in range(size):\n",
        "        for j in range(size):\n",
        "            sum += i - j\n",
        "    return sum\n",
        "\n",
        "size = 10000\n",
        "\n",
        "with timer(\"pure python\"):\n",
        "    # 0 となることを確認\n",
        "    print(f\"ans={double_sum(size)}\")"
      ],
      "metadata": {
        "id": "Lr8D90Wa4YJo",
        "outputId": "da2bd272-b9a3-4889-81c7-07e38c40190b",
        "colab": {
          "base_uri": "https://localhost:8080/"
        }
      },
      "execution_count": 17,
      "outputs": [
        {
          "output_type": "stream",
          "name": "stdout",
          "text": [
            "ans=0\n",
            "[pure python]:  8.83 s\n"
          ]
        }
      ]
    },
    {
      "cell_type": "markdown",
      "source": [
        "numba を用いたケース"
      ],
      "metadata": {
        "id": "uAFQloBC9Ks9"
      }
    },
    {
      "cell_type": "code",
      "source": [
        "with timer(\"define njit function\"):\n",
        "    @njit(\"int32(int32)\", cache=True)\n",
        "    def double_sum_njit(size):\n",
        "        sum = 0\n",
        "        for i in range(size):\n",
        "            for j in range(size):\n",
        "                sum += i - j\n",
        "        return sum\n",
        "\n",
        "with timer(\"njit enabled\"):\n",
        "    print(f\"ans={double_sum_njit(size)}\")"
      ],
      "metadata": {
        "id": "VUPNzmDW5Jcn",
        "outputId": "fbb1f6e2-b775-4254-e4df-ff70b792fb80",
        "colab": {
          "base_uri": "https://localhost:8080/"
        }
      },
      "execution_count": 7,
      "outputs": [
        {
          "output_type": "stream",
          "name": "stdout",
          "text": [
            "[define njit function]:  0.0712 s\n",
            "ans=0\n",
            "[njit enabled]:  3.81e-05 s\n"
          ]
        }
      ]
    },
    {
      "cell_type": "markdown",
      "source": [
        "更に高速化するには[追加オプション](https://numba.readthedocs.io/en/stable/user/performance-tips.html)を使用する。\n",
        "\n",
        "次の例は prange を用いた並列化. ただしこのケースではマルチコア化のバウンドの方が大きいため高速化されない。"
      ],
      "metadata": {
        "id": "wkj6dg9j8kWk"
      }
    },
    {
      "cell_type": "code",
      "source": [
        "from numba import prange\n",
        "\n",
        "with timer(\"define njit function\"):\n",
        "    @njit(\"int32(int32)\", cache=True, parallel=True)\n",
        "    def double_sum_parallel(size):\n",
        "        sum = 0\n",
        "        # 並列化の対象のループには prange を使う\n",
        "        for i in prange(size):\n",
        "            for j in range(size):\n",
        "                sum += i - j\n",
        "        return sum\n",
        "\n",
        "with timer(\"njit with parallel\"):\n",
        "    print(f\"ans={double_sum_parallel(size)}\")"
      ],
      "metadata": {
        "id": "DkJRD8v-5iCx",
        "outputId": "80b6f250-65da-436e-b413-ae2bb95c4550",
        "colab": {
          "base_uri": "https://localhost:8080/"
        }
      },
      "execution_count": 8,
      "outputs": [
        {
          "output_type": "stream",
          "name": "stdout",
          "text": [
            "[define njit function]:  0.583 s\n",
            "ans=0\n",
            "[njit with parallel]:  0.000816 s\n"
          ]
        }
      ]
    },
    {
      "cell_type": "markdown",
      "source": [
        "C++ の最適化のように fastmath も使用可能"
      ],
      "metadata": {
        "id": "cjw7SvhB8eyU"
      }
    },
    {
      "cell_type": "code",
      "source": [
        "with timer(\"define njit function\"):\n",
        "    @njit(\"int32(int32)\", cache=True, parallel=True, fastmath=True)\n",
        "    def double_sum_fast(size):\n",
        "        sum = 0\n",
        "        for i in prange(size):\n",
        "            for j in range(size):\n",
        "                sum += i - j\n",
        "        return sum\n",
        "\n",
        "with timer(\"njit with parallel & fastmath\"):\n",
        "    print(f\"ans={double_sum_fast(size)}\")"
      ],
      "metadata": {
        "id": "6fJYU2Yb5s_S",
        "outputId": "fa9ef423-348f-41cc-f018-3acf2bb18512",
        "colab": {
          "base_uri": "https://localhost:8080/"
        }
      },
      "execution_count": 9,
      "outputs": [
        {
          "output_type": "stream",
          "name": "stdout",
          "text": [
            "[define njit function]:  0.387 s\n",
            "ans=0\n",
            "[njit with parallel & fastmath]:  0.000772 s\n"
          ]
        }
      ]
    },
    {
      "cell_type": "markdown",
      "source": [
        "### numba.cuda"
      ],
      "metadata": {
        "id": "aa8OkDYfANbH"
      }
    },
    {
      "cell_type": "markdown",
      "source": [
        "[GPUを意識したプログラミング](https://co-crea.jp/wp-content/uploads/2016/07/File_2.pdf)が必要：\n",
        "- [グリッド・ブロック中のスレッド位置の取得方法](https://numba.pydata.org/numba-doc/latest/cuda/kernels.html#absolute-positions)\n",
        "- [CPU・GPU間のデータ転送方法](https://numba.pydata.org/numba-doc/latest/cuda/memory.html)"
      ],
      "metadata": {
        "id": "uMbOwe8ULOuG"
      }
    },
    {
      "cell_type": "code",
      "source": [
        "from numba import cuda\n",
        "import numpy as np\n",
        "import sys\n",
        "sys.setrecursionlimit(100000)\n",
        "\n",
        "\n",
        "# カーネル関数\n",
        "@cuda.jit\n",
        "def add_kernel(a, b, c):\n",
        "    i = cuda.grid(1)\n",
        "    c[i] = a[i] + b[i]\n",
        "\n",
        "# 起動関数\n",
        "def add_arrays(a, b, threads_per_block=256):\n",
        "    # threads_per_block は1ブロックあたりのスレッド数 (128~512)\n",
        "    # GPU の使用ブロック数を計算\n",
        "    blocks = (a.size + threads_per_block - 1) // threads_per_block\n",
        "\n",
        "    # 結果保存用にメモリ確保\n",
        "    result = cuda.to_device(np.zeros_like(a))\n",
        "    add_kernel[blocks, threads_per_block](\n",
        "        cuda.to_device(a), cuda.to_device(b), result)\n",
        "    return result.copy_to_host()\n",
        "\n",
        "array_size = 100000000\n",
        "a = np.ones(array_size, dtype=np.float32)\n",
        "b = np.ones(array_size, dtype=np.float32)\n",
        "\n",
        "with timer(\"CPU computation\"):\n",
        "    a + b\n",
        "\n",
        "add_arrays(a, b)\n",
        "with timer(\"GPU computation\"):\n",
        "    add_arrays(a, b)"
      ],
      "metadata": {
        "colab": {
          "base_uri": "https://localhost:8080/"
        },
        "id": "_PgVm8_TBBZD",
        "outputId": "77ce5ae5-7954-4cd5-e075-c7510d8f4684"
      },
      "execution_count": 10,
      "outputs": [
        {
          "output_type": "stream",
          "name": "stdout",
          "text": [
            "[CPU computation]:  0.149 s\n",
            "[GPU computation]:  0.498 s\n"
          ]
        }
      ]
    },
    {
      "cell_type": "markdown",
      "source": [
        "## concurrent.futures での高速化"
      ],
      "metadata": {
        "id": "IG_QHzQlMckh"
      }
    },
    {
      "cell_type": "markdown",
      "source": [
        "CPU 数を確認"
      ],
      "metadata": {
        "id": "hz2CDo4jBR9d"
      }
    },
    {
      "cell_type": "code",
      "source": [
        "import os\n",
        "\n",
        "print(f\"CPU count is {os.cpu_count()}.\")\n",
        "print(f\"CPU for current thread is {len(os.sched_getaffinity(0))}.\")\n",
        "\n",
        "import multiprocessing\n",
        "print(f\"CPU count by multiprocessing is {multiprocessing.cpu_count()}.\")"
      ],
      "metadata": {
        "id": "F2l6VRhmBOCB",
        "outputId": "4dfe902a-c7c2-45cf-e232-3ede9b5e8242",
        "colab": {
          "base_uri": "https://localhost:8080/"
        }
      },
      "execution_count": 11,
      "outputs": [
        {
          "output_type": "stream",
          "name": "stdout",
          "text": [
            "CPU count is 2.\n",
            "CPU for current thread is 2.\n",
            "CPU count by multiprocessing is 2.\n"
          ]
        }
      ]
    },
    {
      "cell_type": "markdown",
      "source": [
        "ProcessPoolExecutor は CPU bound のタスクに有効。\n",
        "\n",
        "以下はmax_workers の最適値を見つけるサンプル。"
      ],
      "metadata": {
        "id": "wwekeS81DZbT"
      }
    },
    {
      "cell_type": "code",
      "source": [
        "import numpy as np\n",
        "import concurrent.futures\n",
        "\n",
        "def do_something(size):\n",
        "    return np.dot(np.ones((size, size)), np.ones((size, size)))\n",
        "\n",
        "worker_values = [1, 2, 4, 8, 16, 32, 64]\n",
        "tasks = [1000] * 10\n",
        "\n",
        "for max_workers in worker_values:\n",
        "    with timer(f\"max_workers={max_workers}\"):\n",
        "        with concurrent.futures.ProcessPoolExecutor(max_workers) as executor:\n",
        "            futures = [executor.submit(do_something, task) for task in tasks]\n",
        "            results = [f.result() for f in concurrent.futures.as_completed(futures)]"
      ],
      "metadata": {
        "colab": {
          "base_uri": "https://localhost:8080/"
        },
        "id": "CfJwduFK0csU",
        "outputId": "ddab5a3c-38bb-4f93-a552-3c7cda712469"
      },
      "execution_count": 12,
      "outputs": [
        {
          "output_type": "stream",
          "name": "stdout",
          "text": [
            "[max_workers=1]:  0.866 s\n",
            "[max_workers=2]:  0.954 s\n",
            "[max_workers=4]:  1.01 s\n",
            "[max_workers=8]:  1.18 s\n",
            "[max_workers=16]:  1.73 s\n",
            "[max_workers=32]:  1.47 s\n",
            "[max_workers=64]:  1.77 s\n"
          ]
        }
      ]
    },
    {
      "cell_type": "markdown",
      "source": [
        "上記は submit メソッドを使用した。\n",
        "submit は for 文などで順次タスクを追加する場合に便利。\n",
        "\n",
        "既に処理対象がリストなどでまとまっている場合は map メソッドが便利。使い方は以下。"
      ],
      "metadata": {
        "id": "Dyz-vddJ-MpP"
      }
    },
    {
      "cell_type": "code",
      "source": [
        "import numpy as np\n",
        "import concurrent.futures\n",
        "\n",
        "def do_something(size):\n",
        "    return np.dot(np.ones((size, size)), np.ones((size, size)))\n",
        "\n",
        "worker_values = [1, 2, 4, 8, 16, 32, 64]\n",
        "tasks = [1000] * 10\n",
        "\n",
        "for max_workers in worker_values:\n",
        "    with timer(f\"max_workers={max_workers}\"):\n",
        "        with concurrent.futures.ProcessPoolExecutor(max_workers) as executor:\n",
        "            futures = executor.map(do_something, tasks)"
      ],
      "metadata": {
        "id": "NNet8Nsz-TNg",
        "outputId": "2ebe20ed-aaad-4ff1-a88d-e257634a5569",
        "colab": {
          "base_uri": "https://localhost:8080/"
        }
      },
      "execution_count": 14,
      "outputs": [
        {
          "output_type": "stream",
          "name": "stdout",
          "text": [
            "[max_workers=1]:  0.912 s\n",
            "[max_workers=2]:  0.92 s\n",
            "[max_workers=4]:  1 s\n",
            "[max_workers=8]:  1.04 s\n",
            "[max_workers=16]:  1.12 s\n",
            "[max_workers=32]:  1.92 s\n",
            "[max_workers=64]:  2.28 s\n"
          ]
        }
      ]
    },
    {
      "cell_type": "markdown",
      "source": [
        "ThreadPoolExecutor は I/O bound のタスクに有効"
      ],
      "metadata": {
        "id": "mGfwcN4e7iD_"
      }
    },
    {
      "cell_type": "code",
      "source": [
        "import numpy as np\n",
        "import requests\n",
        "import concurrent.futures\n",
        "\n",
        "def do_something(url):\n",
        "    response = requests.get(url)\n",
        "    return response.content\n",
        "\n",
        "worker_values = [1, 2, 4, 8, 16, 32, 64]\n",
        "tasks = ['https://google.com', 'https://facebook.com', 'https://twitter.com',\n",
        "         'https://www.youtube.com/', 'https://www.amazon.co.jp/',\n",
        "         'https://github.com/']\n",
        "\n",
        "for max_workers in worker_values:\n",
        "    with timer(f\"max_workers={max_workers}\"):\n",
        "        with concurrent.futures.ThreadPoolExecutor(max_workers) as executor:\n",
        "            futures = [executor.submit(do_something, task) for task in tasks]\n",
        "            results = [f.result() for f in concurrent.futures.as_completed(futures)]"
      ],
      "metadata": {
        "id": "rfJ_vZXl054L",
        "colab": {
          "base_uri": "https://localhost:8080/"
        },
        "outputId": "c3621fab-cd42-4e30-bdc8-95ed3412b5f5"
      },
      "execution_count": 16,
      "outputs": [
        {
          "output_type": "stream",
          "name": "stdout",
          "text": [
            "[max_workers=1]:  2.31 s\n",
            "[max_workers=2]:  1.1 s\n",
            "[max_workers=4]:  1 s\n",
            "[max_workers=8]:  0.841 s\n",
            "[max_workers=16]:  0.86 s\n",
            "[max_workers=32]:  0.919 s\n",
            "[max_workers=64]:  1.34 s\n"
          ]
        }
      ]
    },
    {
      "cell_type": "code",
      "source": [],
      "metadata": {
        "id": "bxr8Rwi273EI"
      },
      "execution_count": null,
      "outputs": []
    }
  ]
}