{
  "nbformat": 4,
  "nbformat_minor": 0,
  "metadata": {
    "colab": {
      "provenance": [],
      "toc_visible": true,
      "authorship_tag": "ABX9TyO1iIrqr+1mJg8W83e+ongM",
      "include_colab_link": true
    },
    "kernelspec": {
      "name": "python3",
      "display_name": "Python 3"
    },
    "language_info": {
      "name": "python"
    },
    "accelerator": "GPU",
    "gpuClass": "standard"
  },
  "cells": [
    {
      "cell_type": "markdown",
      "metadata": {
        "id": "view-in-github",
        "colab_type": "text"
      },
      "source": [
        "<a href=\"https://colab.research.google.com/github/applejxd/colaboratory/blob/master/rapid_python.ipynb\" target=\"_parent\"><img src=\"https://colab.research.google.com/assets/colab-badge.svg\" alt=\"Open In Colab\"/></a>"
      ]
    },
    {
      "cell_type": "markdown",
      "source": [
        "## numba での高速化"
      ],
      "metadata": {
        "id": "8IdvJH2vMY8Q"
      }
    },
    {
      "cell_type": "markdown",
      "source": [
        "[numpy での重い計算の例](https://qiita.com/gyu-don/items/9d223b007ca620e95abc)"
      ],
      "metadata": {
        "id": "Tl2lr6Ye0Bfj"
      }
    },
    {
      "cell_type": "code",
      "execution_count": 1,
      "metadata": {
        "id": "q7gnobz9z72j"
      },
      "outputs": [],
      "source": [
        "import sys\n",
        "sys.setrecursionlimit(100000)\n",
        "\n",
        "def ack(m, n):\n",
        "    if m == 0:\n",
        "        return n + 1\n",
        "    if n == 0:\n",
        "        return ack(m - 1, 1)\n",
        "    return ack(m - 1, ack(m, n - 1))"
      ]
    },
    {
      "cell_type": "markdown",
      "source": [
        "通常時の計算時間を測定"
      ],
      "metadata": {
        "id": "HM09YR631y6L"
      }
    },
    {
      "cell_type": "code",
      "source": [
        "import time\n",
        "from contextlib import contextmanager\n",
        "\n",
        "@contextmanager\n",
        "def timer(target: str):\n",
        "    t = time.perf_counter()\n",
        "    yield None\n",
        "    # 有効数字3桁表示\n",
        "    print(f\"[{target}]: {time.perf_counter() - t: .3g} s\")\n",
        "\n",
        "with timer(\"ack(3, 10)\"):\n",
        "    ack(3, 10)"
      ],
      "metadata": {
        "colab": {
          "base_uri": "https://localhost:8080/"
        },
        "id": "VmDSM--G1sZ0",
        "outputId": "4099c0e6-d6bf-410f-fb66-36ae0e39468d"
      },
      "execution_count": 2,
      "outputs": [
        {
          "output_type": "stream",
          "name": "stdout",
          "text": [
            "[ack(3, 10)]:  15.1 s\n"
          ]
        }
      ]
    },
    {
      "cell_type": "markdown",
      "source": [
        "## njit: numba の nopython モード"
      ],
      "metadata": {
        "id": "A7fUK8fD2W8y"
      }
    },
    {
      "cell_type": "code",
      "source": [
        "from numba import njit\n",
        "\n",
        "@njit\n",
        "def ack(m, n):\n",
        "    if m == 0:\n",
        "        return n + 1\n",
        "    if n == 0:\n",
        "        return ack(m - 1, 1)\n",
        "    return ack(m - 1, ack(m, n - 1))\n",
        "\n",
        "# コンパイル時間含む\n",
        "with timer(\"compile time included\"):\n",
        "    ack(3, 10)\n",
        "\n",
        "# コンパイル時間含まない\n",
        "with timer(\"compile time excluded\"):\n",
        "    ack(3, 10)"
      ],
      "metadata": {
        "colab": {
          "base_uri": "https://localhost:8080/"
        },
        "id": "vTYXlQfi1340",
        "outputId": "839b8be6-f77e-4857-f03a-a0fb49f8613a"
      },
      "execution_count": 3,
      "outputs": [
        {
          "output_type": "stream",
          "name": "stdout",
          "text": [
            "[compile time included]:  0.808 s\n",
            "[compile time excluded]:  0.289 s\n"
          ]
        }
      ]
    },
    {
      "cell_type": "markdown",
      "source": [
        "### 並列化 & fastmath\n"
      ],
      "metadata": {
        "id": "_SAW0HDr79A5"
      }
    },
    {
      "cell_type": "markdown",
      "source": [
        "更に高速化するには[追加オプション](https://numba.readthedocs.io/en/stable/user/performance-tips.html)を使用する"
      ],
      "metadata": {
        "id": "67xOjNbuAVYe"
      }
    },
    {
      "cell_type": "code",
      "source": [
        "import numpy as np\n",
        "from numba import prange\n",
        "\n",
        "\n",
        "@njit\n",
        "def sum_of_squares(arr):\n",
        "    s = 0\n",
        "    for i in range(arr.shape[0]):\n",
        "        s += arr[i] ** 2\n",
        "    return s\n",
        "\n",
        "@njit(parallel=True)\n",
        "def sum_of_squares_parallel(arr):\n",
        "    s = 0\n",
        "    for i in prange(arr.shape[0]):\n",
        "        s += arr[i] ** 2\n",
        "    return s\n",
        "\n",
        "@njit(parallel=True, fastmath=True)\n",
        "def sum_of_squares_fast(arr):\n",
        "    s = 0\n",
        "    for i in prange(arr.shape[0]):\n",
        "        s += arr[i] ** 2\n",
        "    return s\n",
        "\n",
        "arr = np.random.randn(1000000)\n",
        "\n",
        "sum_of_squares(arr)\n",
        "with timer(\"njit only\"):\n",
        "    sum_of_squares(arr)\n",
        "    \n",
        "sum_of_squares_parallel(arr)\n",
        "with timer(\"njit with parallel\"):\n",
        "    sum_of_squares_parallel(arr)\n",
        "\n",
        "sum_of_squares_fast(arr)\n",
        "with timer(\"njit with parallel & fastmath\"):\n",
        "    sum_of_squares_fast(arr)"
      ],
      "metadata": {
        "colab": {
          "base_uri": "https://localhost:8080/"
        },
        "id": "mVIlqVGh7-0G",
        "outputId": "4a7cc679-3c4c-4481-c28e-0e21b7827495"
      },
      "execution_count": 4,
      "outputs": [
        {
          "output_type": "stream",
          "name": "stdout",
          "text": [
            "[njit only]:  0.00137 s\n",
            "[njit with parallel]:  0.000741 s\n",
            "[njit with parallel & fastmath]:  0.000598 s\n"
          ]
        }
      ]
    },
    {
      "cell_type": "markdown",
      "source": [
        "### numba.cuda"
      ],
      "metadata": {
        "id": "aa8OkDYfANbH"
      }
    },
    {
      "cell_type": "markdown",
      "source": [
        "[GPUを意識したプログラミング](https://co-crea.jp/wp-content/uploads/2016/07/File_2.pdf)が必要：\n",
        "- [グリッド・ブロック中のスレッド位置の取得方法](https://numba.pydata.org/numba-doc/latest/cuda/kernels.html#absolute-positions)\n",
        "- [CPU・GPU間のデータ転送方法](https://numba.pydata.org/numba-doc/latest/cuda/memory.html)"
      ],
      "metadata": {
        "id": "uMbOwe8ULOuG"
      }
    },
    {
      "cell_type": "code",
      "source": [
        "from numba import cuda\n",
        "import numpy as np\n",
        "import sys\n",
        "sys.setrecursionlimit(100000)\n",
        "\n",
        "\n",
        "# カーネル関数\n",
        "@cuda.jit\n",
        "def add_kernel(a, b, c):\n",
        "    i = cuda.grid(1)\n",
        "    c[i] = a[i] + b[i]\n",
        "\n",
        "# 起動関数\n",
        "def add_arrays(a, b, threads_per_block=256):\n",
        "    # threads_per_block は1ブロックあたりのスレッド数 (128~512)\n",
        "    # GPU の使用ブロック数を計算\n",
        "    blocks = (a.size + threads_per_block - 1) // threads_per_block\n",
        "\n",
        "    # 結果保存用にメモリ確保\n",
        "    result = cuda.to_device(np.zeros_like(a))\n",
        "    add_kernel[blocks, threads_per_block](\n",
        "        cuda.to_device(a), cuda.to_device(b), result)\n",
        "    return result.copy_to_host()\n",
        "\n",
        "array_size = 100000000\n",
        "a = np.ones(array_size, dtype=np.float32)\n",
        "b = np.ones(array_size, dtype=np.float32)\n",
        "\n",
        "with timer(\"CPU computation\"):\n",
        "    a + b\n",
        "\n",
        "add_arrays(a, b)\n",
        "with timer(\"GPU computation\"):\n",
        "    add_arrays(a, b)"
      ],
      "metadata": {
        "colab": {
          "base_uri": "https://localhost:8080/"
        },
        "id": "_PgVm8_TBBZD",
        "outputId": "cb0a185a-5179-4213-ac7c-5cbd4a3b3214"
      },
      "execution_count": 5,
      "outputs": [
        {
          "output_type": "stream",
          "name": "stdout",
          "text": [
            "[CPU computation]:  0.147 s\n",
            "[GPU computation]:  0.552 s\n"
          ]
        }
      ]
    },
    {
      "cell_type": "markdown",
      "source": [
        "## concurrent.futures での高速化"
      ],
      "metadata": {
        "id": "IG_QHzQlMckh"
      }
    },
    {
      "cell_type": "markdown",
      "source": [
        "CPU 数を確認"
      ],
      "metadata": {
        "id": "hz2CDo4jBR9d"
      }
    },
    {
      "cell_type": "code",
      "source": [
        "import os\n",
        "\n",
        "print(f\"CPU count is {os.cpu_count()}.\")\n",
        "print(f\"CPU for current thread is {len(os.sched_getaffinity(0))}.\")\n",
        "\n",
        "import multiprocessing\n",
        "print(f\"CPU count by multiprocessing is {multiprocessing.cpu_count()}.\")"
      ],
      "metadata": {
        "id": "F2l6VRhmBOCB",
        "outputId": "67308f36-697f-4c1f-820f-3084c8bd8cd1",
        "colab": {
          "base_uri": "https://localhost:8080/"
        }
      },
      "execution_count": 6,
      "outputs": [
        {
          "output_type": "stream",
          "name": "stdout",
          "text": [
            "CPU count is 2.\n",
            "CPU for current thread is 2.\n",
            "CPU count by multiprocessing is 2.\n"
          ]
        }
      ]
    },
    {
      "cell_type": "markdown",
      "source": [
        "ProcessPoolExecutor は CPU bound のタスクに有効。\n",
        "\n",
        "以下はmax_workers の最適値を見つけるサンプル。"
      ],
      "metadata": {
        "id": "wwekeS81DZbT"
      }
    },
    {
      "cell_type": "code",
      "source": [
        "import numpy as np\n",
        "import concurrent.futures\n",
        "\n",
        "def do_something(size):\n",
        "    return np.dot(np.ones((size, size)), np.ones((size, size)))\n",
        "\n",
        "worker_values = [1, 2, 4, 8, 16, 32, 64]\n",
        "tasks = [1000] * 10\n",
        "\n",
        "for max_workers in worker_values:\n",
        "    with timer(f\"max_workers={max_workers}\"):\n",
        "        with concurrent.futures.ProcessPoolExecutor(max_workers) as executor:\n",
        "            futures = [executor.submit(do_something, task) for task in tasks]\n",
        "            results = [f.result() for f in concurrent.futures.as_completed(futures)]"
      ],
      "metadata": {
        "colab": {
          "base_uri": "https://localhost:8080/"
        },
        "id": "CfJwduFK0csU",
        "outputId": "dcda8352-5c0a-4c2c-d723-0393642e5923"
      },
      "execution_count": 10,
      "outputs": [
        {
          "output_type": "stream",
          "name": "stdout",
          "text": [
            "[max_workers=1]:  0.891 s\n",
            "[max_workers=2]:  1.45 s\n",
            "[max_workers=4]:  1.4 s\n",
            "[max_workers=8]:  1.13 s\n",
            "[max_workers=16]:  1.17 s\n",
            "[max_workers=32]:  1.49 s\n",
            "[max_workers=64]:  2.06 s\n"
          ]
        }
      ]
    },
    {
      "cell_type": "markdown",
      "source": [
        "上記は submit メソッドを使用した。\n",
        "submit は for 文などで順次タスクを追加する場合に便利。\n",
        "\n",
        "既に処理対象がリストなどでまとまっている場合は map メソッドが便利。使い方は以下。"
      ],
      "metadata": {
        "id": "Dyz-vddJ-MpP"
      }
    },
    {
      "cell_type": "code",
      "source": [
        "import numpy as np\n",
        "import concurrent.futures\n",
        "\n",
        "def do_something(size):\n",
        "    return np.dot(np.ones((size, size)), np.ones((size, size)))\n",
        "\n",
        "worker_values = [1, 2, 4, 8, 16, 32, 64]\n",
        "tasks = [1000] * 10\n",
        "\n",
        "for max_workers in worker_values:\n",
        "    with timer(f\"max_workers={max_workers}\"):\n",
        "        with concurrent.futures.ProcessPoolExecutor(max_workers) as executor:\n",
        "            futures = executor.map(do_something, tasks)"
      ],
      "metadata": {
        "id": "NNet8Nsz-TNg",
        "outputId": "fe164d87-7e59-424e-b2c9-75207419246a",
        "colab": {
          "base_uri": "https://localhost:8080/"
        }
      },
      "execution_count": 12,
      "outputs": [
        {
          "output_type": "stream",
          "name": "stdout",
          "text": [
            "[max_workers=1]:  0.873 s\n",
            "[max_workers=2]:  1.15 s\n",
            "[max_workers=4]:  1.57 s\n",
            "[max_workers=8]:  1.23 s\n",
            "[max_workers=16]:  1.17 s\n",
            "[max_workers=32]:  1.55 s\n",
            "[max_workers=64]:  1.97 s\n"
          ]
        }
      ]
    },
    {
      "cell_type": "markdown",
      "source": [
        "ThreadPoolExecutor は I/O bound のタスクに有効"
      ],
      "metadata": {
        "id": "mGfwcN4e7iD_"
      }
    },
    {
      "cell_type": "code",
      "source": [
        "import numpy as np\n",
        "import requests\n",
        "import concurrent.futures\n",
        "\n",
        "def do_something(url):\n",
        "    response = requests.get(url)\n",
        "    return response.content\n",
        "\n",
        "worker_values = [1, 2, 4, 8, 16, 32, 64]\n",
        "tasks = ['https://google.com', 'https://facebook.com', 'https://twitter.com',\n",
        "         'https://www.youtube.com/', 'https://www.amazon.co.jp/',\n",
        "         'https://github.com/']\n",
        "\n",
        "for max_workers in worker_values:\n",
        "    with timer(f\"max_workers={max_workers}\"):\n",
        "        with concurrent.futures.ThreadPoolExecutor(max_workers) as executor:\n",
        "            futures = [executor.submit(do_something, task) for task in tasks]\n",
        "            results = [f.result() for f in concurrent.futures.as_completed(futures)]"
      ],
      "metadata": {
        "id": "rfJ_vZXl054L",
        "colab": {
          "base_uri": "https://localhost:8080/"
        },
        "outputId": "15ab2765-127f-46a3-8560-b06c23b7f621"
      },
      "execution_count": 8,
      "outputs": [
        {
          "output_type": "stream",
          "name": "stdout",
          "text": [
            "[max_workers=1]:  3.01 s\n",
            "[max_workers=2]:  1.58 s\n",
            "[max_workers=4]:  1.15 s\n",
            "[max_workers=8]:  1.09 s\n",
            "[max_workers=16]:  0.697 s\n",
            "[max_workers=32]:  0.963 s\n",
            "[max_workers=64]:  0.709 s\n"
          ]
        }
      ]
    },
    {
      "cell_type": "code",
      "source": [],
      "metadata": {
        "id": "bxr8Rwi273EI"
      },
      "execution_count": 8,
      "outputs": []
    }
  ]
}