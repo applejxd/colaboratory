{
  "nbformat": 4,
  "nbformat_minor": 0,
  "metadata": {
    "colab": {
      "name": "OdeSolver.ipynb",
      "provenance": [],
      "collapsed_sections": [],
      "authorship_tag": "ABX9TyNhe7DchunJCTFsEiWaOztg",
      "include_colab_link": true
    },
    "kernelspec": {
      "name": "python3",
      "display_name": "Python 3"
    }
  },
  "cells": [
    {
      "cell_type": "markdown",
      "metadata": {
        "id": "view-in-github",
        "colab_type": "text"
      },
      "source": [
        "<a href=\"https://colab.research.google.com/github/applejxd/colaboratory/blob/master/OdeSolver.ipynb\" target=\"_parent\"><img src=\"https://colab.research.google.com/assets/colab-badge.svg\" alt=\"Open In Colab\"/></a>"
      ]
    },
    {
      "cell_type": "markdown",
      "metadata": {
        "id": "33UnpUjOjyQw"
      },
      "source": [
        "万有引力が働く系\n",
        "\\begin{equation}\n",
        "    m\\ddot{\\vec{r}}=-G\\frac{Mm}{r^2}\\vec{e}_r\n",
        "    \\Leftrightarrow\n",
        "    \\ddot{\\vec{r}}=-\\frac{GM}{r^2}\\vec{e}_r\n",
        "\\end{equation}\n",
        "を考える。\n",
        "簡便のため $GM=1$ となるように単位系を取る。\n",
        "このとき系を直交座標系に書き換えると\n",
        "\\begin{equation}\n",
        "    \\ddot{x}=-\\frac{x}{(x^2+y^2)^{5/2}},\\quad\n",
        "    \\ddot{y}=-\\frac{y}{(x^2+y^2)^{5/2}}\n",
        "\\end{equation}\n",
        "となる。\n",
        "更にハミルトン系へと書き換えると\n",
        "\\begin{align}\n",
        "    &\\dot{q}_x=p_x,\\quad\n",
        "    \\dot{p}_x=-\\frac{q_x}{(q_x^2+q_y^2)^{3/2}},\\\\\n",
        "    &\\dot{q}_y=p_y,\\quad\n",
        "    \\dot{p}_y=-\\frac{q_y}{(q_x^2+q_y^2)^{3/2}}\n",
        "\\end{align}\n",
        "となる。\n",
        "エネルギーは運動の積分で\n",
        "\\begin{equation}\n",
        "    E=\\frac{1}{2}(p_x^2+p_y^2)-\\frac{1}{(q_x^2+q_y^2)^{1/2}}\n",
        "\\end{equation}\n",
        "である。\n"
      ]
    },
    {
      "cell_type": "code",
      "metadata": {
        "id": "xZ-C_ZAi93ZE"
      },
      "source": [
        "from typing import List, Callable\n",
        "\n",
        "def dqxdt(x: List[float]) -> float:\n",
        "    return x[2]\n",
        "\n",
        "def dqydt(x: List[float]) -> float:\n",
        "    return x[3]\n",
        "\n",
        "def dpxdt(x: List[float]) -> float:\n",
        "    return -x[0]/(x[0]**2 + x[1]**2)**1.5\n",
        "\n",
        "def dpydt(x: List[float]) -> float:\n",
        "    return -x[1]/(x[0]**2 + x[1]**2)**1.5\n",
        "\n",
        "# 運動方程式\n",
        "dxdt: List[Callable[[List[float]], float]] = [dqxdt,dqydt,dpxdt,dpydt]"
      ],
      "execution_count": 1,
      "outputs": []
    },
    {
      "cell_type": "code",
      "metadata": {
        "id": "dJRgj6C9iyxN"
      },
      "source": [
        "import math\n",
        "import numpy as np\n",
        "from numpy import ndarray\n",
        "\n",
        "def euler(dxdt: List[Callable[[List[float]], float]],\n",
        "          init: List[float], t_end: float) -> ndarray:\n",
        "    '''\n",
        "    2次元空間に対するオイラー法\n",
        "    '''\n",
        "    if len(dxdt) != 4 or len(init) != 4:\n",
        "        raise Exception(\"Initial condition error!\")\n",
        "\n",
        "    # ソルバーのパラメータ\n",
        "    dt: float = 1e-2\n",
        "    steps: list[int] = range(1, math.floor(t_end/dt), 1)\n",
        "\n",
        "    # 初期化\n",
        "    x_list: list[list[float]] = [init]\n",
        "    e_list: list[float] = [(init[2]**2+init[3]**2)/2\n",
        "                           -(init[0]**2+init[1]**2)**(-1/2)]\n",
        "    for t in steps:\n",
        "        x_next: list[float] = [0,0,0,0]\n",
        "        for k in range(4):\n",
        "            x_next[k] = x_list[-1][k] + dxdt[k](x_list[-1]) * dt\n",
        "        x_list.append(x_next)\n",
        "        e_list.append(\n",
        "            (x_next[2]**2+x_next[3]**2)/2-(x_next[0]**2+x_next[1]**2)**(-1/2)\n",
        "        )\n",
        "    \n",
        "    return np.vstack((np.array(x_list).T, np.array(e_list)))"
      ],
      "execution_count": 42,
      "outputs": []
    },
    {
      "cell_type": "code",
      "metadata": {
        "id": "X9vZo4mtBOtv",
        "outputId": "461f42cb-95a6-4e55-bb18-dbd6a2ab121e",
        "colab": {
          "base_uri": "https://localhost:8080/",
          "height": 286
        }
      },
      "source": [
        "import matplotlib.pyplot as plt\n",
        "\n",
        "plt.plot(euler(dxdt, [1,0,0,1], 100)[4])"
      ],
      "execution_count": 44,
      "outputs": [
        {
          "output_type": "execute_result",
          "data": {
            "text/plain": [
              "[<matplotlib.lines.Line2D at 0x7f63439a0160>]"
            ]
          },
          "metadata": {
            "tags": []
          },
          "execution_count": 44
        },
        {
          "output_type": "display_data",
          "data": {
            "image/png": "[encoded data removed]",
            "text/plain": [
              "<Figure size 432x288 with 1 Axes>"
            ]
          },
          "metadata": {
            "tags": [],
            "needs_background": "light"
          }
        }
      ]
    },
    {
      "cell_type": "code",
      "metadata": {
        "id": "2Lye_zxPU3xT"
      },
      "source": [
        ""
      ],
      "execution_count": null,
      "outputs": []
    }
  ]
}