{
  "nbformat": 4,
  "nbformat_minor": 0,
  "metadata": {
    "colab": {
      "name": "OpenCvKalmanFilter.ipynb",
      "provenance": [],
      "collapsed_sections": [],
      "authorship_tag": "ABX9TyNPrm/XpNYoZvnENY83/UXR",
      "include_colab_link": true
    },
    "kernelspec": {
      "name": "python3",
      "display_name": "Python 3"
    }
  },
  "cells": [
    {
      "cell_type": "markdown",
      "metadata": {
        "id": "view-in-github",
        "colab_type": "text"
      },
      "source": [
        "<a href=\"https://colab.research.google.com/github/applejxd/colaboratory/blob/master/OpenCvKalmanFilter.ipynb\" target=\"_parent\"><img src=\"https://colab.research.google.com/assets/colab-badge.svg\" alt=\"Open In Colab\"/></a>"
      ]
    },
    {
      "cell_type": "markdown",
      "metadata": {
        "id": "FCrS7aCp_8vE"
      },
      "source": [
        "C++ 版の Point 型の代わりに Tuple を使用"
      ]
    },
    {
      "cell_type": "code",
      "metadata": {
        "id": "emm2gIuh3ClN"
      },
      "source": [
        "from typing import Tuple\n",
        "\n",
        "# 円上の点を計算\n",
        "def calcPoint(center: Tuple[float], R: float, angle: float) -> Tuple :\n",
        "    return center + cvPoint(cos(angle), -sin(angle)) * R"
      ],
      "execution_count": 1,
      "outputs": []
    },
    {
      "cell_type": "markdown",
      "metadata": {
        "id": "FXjivRXgBu08"
      },
      "source": [
        "C++ 版の Mat 型の代わりに ndarray を使用"
      ]
    },
    {
      "cell_type": "code",
      "metadata": {
        "id": "TzHMjuh_8y1S"
      },
      "source": [
        "import numpy as np\n",
        "from numpy import ndarray\n",
        "\n",
        "# キャンバス\n",
        "img: ndarray = np.zeros((500,500,3), np.uint8)"
      ],
      "execution_count": 2,
      "outputs": []
    },
    {
      "cell_type": "markdown",
      "metadata": {
        "id": "-t0euLvFCNJ3"
      },
      "source": [
        "カルマンフィルタクラスを初期化"
      ]
    },
    {
      "cell_type": "code",
      "metadata": {
        "id": "0FEh7zBpB88t",
        "outputId": "464c9f9b-2885-4c19-da6f-988222003e4f",
        "colab": {
          "base_uri": "https://localhost:8080/"
        }
      },
      "source": [
        "import cv2\n",
        "\n",
        "cv2.KalmanFilter(2, 2)"
      ],
      "execution_count": 3,
      "outputs": [
        {
          "output_type": "execute_result",
          "data": {
            "text/plain": [
              "<KalmanFilter 0x7f621b75ea70>"
            ]
          },
          "metadata": {
            "tags": []
          },
          "execution_count": 3
        }
      ]
    }
  ]
}