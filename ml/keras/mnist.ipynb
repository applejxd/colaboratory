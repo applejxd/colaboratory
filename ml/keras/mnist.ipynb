{
  "nbformat": 4,
  "nbformat_minor": 0,
  "metadata": {
    "colab": {
      "name": "Untitled5.ipynb",
      "provenance": [],
      "toc_visible": true,
      "gpuType": "T4",
      "authorship_tag": "ABX9TyMAApzo6vN4Q7U/K7FjFB1K",
      "include_colab_link": true
    },
    "kernelspec": {
      "name": "python3",
      "display_name": "Python 3"
    },
    "language_info": {
      "name": "python"
    },
    "accelerator": "GPU"
  },
  "cells": [
    {
      "cell_type": "markdown",
      "metadata": {
        "id": "view-in-github",
        "colab_type": "text"
      },
      "source": [
        "<a href=\"https://colab.research.google.com/github/applejxd/colaboratory/blob/master/ml/keras/mnist.ipynb\" target=\"_parent\"><img src=\"https://colab.research.google.com/assets/colab-badge.svg\" alt=\"Open In Colab\"/></a>"
      ]
    },
    {
      "cell_type": "markdown",
      "source": [
        "# MNIST を使用した画像分類のデモ"
      ],
      "metadata": {
        "id": "HozT3lX7MaRe"
      }
    },
    {
      "cell_type": "markdown",
      "source": [
        "## データの読み込み\n",
        "\n"
      ],
      "metadata": {
        "id": "krD0PRao-ERx"
      }
    },
    {
      "cell_type": "markdown",
      "source": [
        "バージョンとデバイス確認"
      ],
      "metadata": {
        "id": "LYTSPpUCil84"
      }
    },
    {
      "cell_type": "code",
      "execution_count": 1,
      "metadata": {
        "colab": {
          "base_uri": "https://localhost:8080/"
        },
        "id": "7SLxk22MsdhL",
        "outputId": "e1b76cc7-1bfd-41bd-b4e8-1603413689e3"
      },
      "outputs": [
        {
          "output_type": "stream",
          "name": "stdout",
          "text": [
            "TensorFlow version: 2.14.0\n",
            "GPU(s): [PhysicalDevice(name='/physical_device:GPU:0', device_type='GPU')]\n"
          ]
        }
      ],
      "source": [
        "import tensorflow as tf\n",
        "\n",
        "print(f\"TensorFlow version: {tf.__version__}\")\n",
        "print(f\"GPU(s): {tf.config.list_physical_devices('GPU')}\")"
      ]
    },
    {
      "cell_type": "markdown",
      "source": [
        "データの用意"
      ],
      "metadata": {
        "id": "byHemeZ-jmkL"
      }
    },
    {
      "cell_type": "code",
      "source": [
        "mnist = tf.keras.datasets.mnist\n",
        "\n",
        "(x_train, y_train), (x_test, y_test) = mnist.load_data()\n",
        "# 規格化\n",
        "x_train, x_test = x_train / 255.0, x_test / 255.0\n",
        "\n",
        "print(f\"train dataset shape={x_train.shape}\")"
      ],
      "metadata": {
        "colab": {
          "base_uri": "https://localhost:8080/"
        },
        "id": "x5Fw8ZACslx5",
        "outputId": "81a521c3-6b50-417e-afe5-aa7458a5097e"
      },
      "execution_count": 2,
      "outputs": [
        {
          "output_type": "stream",
          "name": "stdout",
          "text": [
            "train dataset shape=(60000, 28, 28)\n"
          ]
        }
      ]
    },
    {
      "cell_type": "markdown",
      "source": [
        "## NN (平坦化 & 全結合層)で解く"
      ],
      "metadata": {
        "id": "iLFFKu9gwBnf"
      }
    },
    {
      "cell_type": "markdown",
      "source": [
        "3層の全結合層モデルを定義"
      ],
      "metadata": {
        "id": "mb8k7KM2j3UD"
      }
    },
    {
      "cell_type": "code",
      "source": [
        "# Dense・アファイン・全結合層　+ 活性化層\n",
        "simple_model = tf.keras.models.Sequential([\n",
        "  tf.keras.layers.Flatten(input_shape=(28, 28)),\n",
        "  tf.keras.layers.Dense(50, activation='sigmoid'),\n",
        "  tf.keras.layers.Dense(100, activation='sigmoid'),\n",
        "  tf.keras.layers.Dense(10),\n",
        "  tf.keras.layers.Softmax()\n",
        "])\n",
        "# サマリ出力\n",
        "simple_model.summary()"
      ],
      "metadata": {
        "colab": {
          "base_uri": "https://localhost:8080/"
        },
        "id": "d2OrUtgesvOB",
        "outputId": "7da62879-ce09-4e9d-f7f2-dd44fbd4e51e"
      },
      "execution_count": 3,
      "outputs": [
        {
          "output_type": "stream",
          "name": "stdout",
          "text": [
            "Model: \"sequential\"\n",
            "_________________________________________________________________\n",
            " Layer (type)                Output Shape              Param #   \n",
            "=================================================================\n",
            " flatten (Flatten)           (None, 784)               0         \n",
            "                                                                 \n",
            " dense (Dense)               (None, 50)                39250     \n",
            "                                                                 \n",
            " dense_1 (Dense)             (None, 100)               5100      \n",
            "                                                                 \n",
            " dense_2 (Dense)             (None, 10)                1010      \n",
            "                                                                 \n",
            " softmax (Softmax)           (None, 10)                0         \n",
            "                                                                 \n",
            "=================================================================\n",
            "Total params: 45360 (177.19 KB)\n",
            "Trainable params: 45360 (177.19 KB)\n",
            "Non-trainable params: 0 (0.00 Byte)\n",
            "_________________________________________________________________\n"
          ]
        }
      ]
    },
    {
      "cell_type": "markdown",
      "source": [
        "各画像は 28x28。データ数は60000。"
      ],
      "metadata": {
        "id": "vvQJ1t-_k9G-"
      }
    },
    {
      "cell_type": "code",
      "source": [
        "import matplotlib.pyplot as plt\n",
        "\n",
        "print(f\"test data set shape={x_test.shape}\")\n",
        "plt.imshow(x_test[0, ...])"
      ],
      "metadata": {
        "id": "0z-vlhxBkVNT",
        "outputId": "38ecc8a3-23ff-4d16-8411-86716d4cd7e9",
        "colab": {
          "base_uri": "https://localhost:8080/",
          "height": 466
        }
      },
      "execution_count": 4,
      "outputs": [
        {
          "output_type": "stream",
          "name": "stdout",
          "text": [
            "test data set shape=(10000, 28, 28)\n"
          ]
        },
        {
          "output_type": "execute_result",
          "data": {
            "text/plain": [
              "<matplotlib.image.AxesImage at 0x7bfed79b5210>"
            ]
          },
          "metadata": {},
          "execution_count": 4
        },
        {
          "output_type": "display_data",
          "data": {
            "text/plain": [
              "<Figure size 640x480 with 1 Axes>"
            ],
            "image/png": "[encoded data removed]"
          },
          "metadata": {}
        }
      ]
    },
    {
      "cell_type": "markdown",
      "source": [
        "試しに1サンプルで推論してみる。\n",
        "未学習なので不正解になる(はず)。\n",
        "\n",
        "入力はバッチになっている必要がある。この場合はデータ数1のバッチとして渡している。"
      ],
      "metadata": {
        "id": "lKtZsTrJlEqC"
      }
    },
    {
      "cell_type": "code",
      "source": [
        "import numpy as np\n",
        "\n",
        "single_batch = x_test[:1]\n",
        "print(f\"size of single_batch = {single_batch.shape}\\n\")\n",
        "\n",
        "predictions = simple_model(single_batch).numpy()\n",
        "print(f\"probs for single_batch=\\n{predictions[0]}\\n\")\n",
        "print(f\"estimation for single_batch={np.argmax(predictions[0])}\")"
      ],
      "metadata": {
        "colab": {
          "base_uri": "https://localhost:8080/"
        },
        "id": "NCkyEVxCuJ73",
        "outputId": "4a22fbae-39e2-49a9-8817-95df320e3d2f"
      },
      "execution_count": 5,
      "outputs": [
        {
          "output_type": "stream",
          "name": "stdout",
          "text": [
            "size of single_batch = (1, 28, 28)\n",
            "\n",
            "probs for single_batch=\n",
            "[0.04255802 0.14083476 0.03622935 0.06859273 0.04542318 0.11272988\n",
            " 0.06591336 0.24336156 0.02681796 0.21753918]\n",
            "\n",
            "estimation for single_batch=7\n"
          ]
        }
      ]
    },
    {
      "cell_type": "markdown",
      "source": [
        "交差エントロピーによる損失計算"
      ],
      "metadata": {
        "id": "eyie-BnXmYj-"
      }
    },
    {
      "cell_type": "code",
      "source": [
        "loss_fn = tf.keras.losses.SparseCategoricalCrossentropy()\n",
        "print(f\"spase categorical cross entropy = {loss_fn(y_train[:1], predictions).numpy():.4f}\")"
      ],
      "metadata": {
        "colab": {
          "base_uri": "https://localhost:8080/"
        },
        "id": "EXqp2YR5udo9",
        "outputId": "dfa2a3db-e9ef-4387-8111-59cebbdca63b"
      },
      "execution_count": 6,
      "outputs": [
        {
          "output_type": "stream",
          "name": "stdout",
          "text": [
            "spase categorical cross entropy = 2.1828\n"
          ]
        }
      ]
    },
    {
      "cell_type": "markdown",
      "source": [
        "学習方法(最適化手法・損失関数・メトリック)を指定"
      ],
      "metadata": {
        "id": "sLsQsg2QmwL5"
      }
    },
    {
      "cell_type": "code",
      "source": [
        "simple_model.compile(optimizer='adam', loss=loss_fn, metrics=['accuracy'])"
      ],
      "metadata": {
        "id": "LKhxN0tqu-f1"
      },
      "execution_count": 7,
      "outputs": []
    },
    {
      "cell_type": "markdown",
      "source": [
        "学習を実施"
      ],
      "metadata": {
        "id": "fI729wrOm8g-"
      }
    },
    {
      "cell_type": "code",
      "source": [
        "simple_model.fit(x_train, y_train, epochs=5)"
      ],
      "metadata": {
        "colab": {
          "base_uri": "https://localhost:8080/"
        },
        "id": "WtUT9nXuvYO1",
        "outputId": "519033d5-8f9b-4700-f25f-fea5a4fe1c8d"
      },
      "execution_count": 8,
      "outputs": [
        {
          "output_type": "stream",
          "name": "stdout",
          "text": [
            "Epoch 1/5\n",
            "1875/1875 [==============================] - 11s 4ms/step - loss: 0.5494 - accuracy: 0.8618\n",
            "Epoch 2/5\n",
            "1875/1875 [==============================] - 5s 3ms/step - loss: 0.2031 - accuracy: 0.9406\n",
            "Epoch 3/5\n",
            "1875/1875 [==============================] - 5s 3ms/step - loss: 0.1498 - accuracy: 0.9565\n",
            "Epoch 4/5\n",
            "1875/1875 [==============================] - 6s 3ms/step - loss: 0.1188 - accuracy: 0.9650\n",
            "Epoch 5/5\n",
            "1875/1875 [==============================] - 5s 3ms/step - loss: 0.0991 - accuracy: 0.9703\n"
          ]
        },
        {
          "output_type": "execute_result",
          "data": {
            "text/plain": [
              "<keras.src.callbacks.History at 0x7bfed1380970>"
            ]
          },
          "metadata": {},
          "execution_count": 8
        }
      ]
    },
    {
      "cell_type": "markdown",
      "source": [
        "評価"
      ],
      "metadata": {
        "id": "B69UB_ianQh8"
      }
    },
    {
      "cell_type": "code",
      "source": [
        "simple_model.evaluate(x_test,  y_test, verbose=2)"
      ],
      "metadata": {
        "colab": {
          "base_uri": "https://localhost:8080/"
        },
        "id": "OIVlPbUFvgCx",
        "outputId": "c37e79c2-83ff-41f6-993d-7ce58312a708"
      },
      "execution_count": 9,
      "outputs": [
        {
          "output_type": "stream",
          "name": "stdout",
          "text": [
            "313/313 - 1s - loss: 0.1146 - accuracy: 0.9652 - 790ms/epoch - 3ms/step\n"
          ]
        },
        {
          "output_type": "execute_result",
          "data": {
            "text/plain": [
              "[0.11463548243045807, 0.9652000069618225]"
            ]
          },
          "metadata": {},
          "execution_count": 9
        }
      ]
    },
    {
      "cell_type": "markdown",
      "source": [
        "再度推論を実施。正答する(はず)。"
      ],
      "metadata": {
        "id": "-V6VLbw8njUQ"
      }
    },
    {
      "cell_type": "code",
      "source": [
        "predictions = simple_model(single_batch).numpy()\n",
        "print(f\"probs for single_batch={predictions[0]}\\n\")\n",
        "print(f\"estimation for single_batch={np.argmax(predictions[0])}\")"
      ],
      "metadata": {
        "id": "-619b9JVnl3A",
        "outputId": "89bbc008-3669-469c-b111-c0430f3386ab",
        "colab": {
          "base_uri": "https://localhost:8080/"
        }
      },
      "execution_count": 10,
      "outputs": [
        {
          "output_type": "stream",
          "name": "stdout",
          "text": [
            "probs for single_batch=[1.89886714e-06 1.41887285e-05 8.99083607e-05 1.21733150e-03\n",
            " 3.55280378e-07 1.20191689e-05 1.11425050e-10 9.98595655e-01\n",
            " 2.55075201e-06 6.61200029e-05]\n",
            "\n",
            "estimation for single_batch=7\n"
          ]
        }
      ]
    },
    {
      "cell_type": "markdown",
      "source": [
        "不正解の例を見てみる"
      ],
      "metadata": {
        "id": "f5wm8bbAq8Dr"
      }
    },
    {
      "cell_type": "code",
      "source": [
        "probs = simple_model(x_test).numpy()\n",
        "preds = np.argmax(probs, axis=1)\n",
        "false_mask = preds != y_test\n",
        "\n",
        "false_images = x_test[false_mask]\n",
        "\n",
        "print(f\"prediction = {preds[false_mask][0]}\")\n",
        "print(f\"answer = {y_test[false_mask][0]}\")\n",
        "plt.imshow(false_images[0])"
      ],
      "metadata": {
        "id": "275tcoAmpnLZ",
        "outputId": "ac5c506e-df38-456f-e957-3fb47d1f1e91",
        "colab": {
          "base_uri": "https://localhost:8080/",
          "height": 484
        }
      },
      "execution_count": 11,
      "outputs": [
        {
          "output_type": "stream",
          "name": "stdout",
          "text": [
            "prediction = 6\n",
            "answer = 5\n"
          ]
        },
        {
          "output_type": "execute_result",
          "data": {
            "text/plain": [
              "<matplotlib.image.AxesImage at 0x7bfed11c6a70>"
            ]
          },
          "metadata": {},
          "execution_count": 11
        },
        {
          "output_type": "display_data",
          "data": {
            "text/plain": [
              "<Figure size 640x480 with 1 Axes>"
            ],
            "image/png": "[encoded data removed]"
          },
          "metadata": {}
        }
      ]
    },
    {
      "cell_type": "markdown",
      "source": [
        "## CNN で解く"
      ],
      "metadata": {
        "id": "e1RC4uywxmXd"
      }
    },
    {
      "cell_type": "markdown",
      "source": [
        "Conv2D と MaxPool2D を利用して特徴量学習。Dense で分類を実施。"
      ],
      "metadata": {
        "id": "styVCIL1oYbK"
      }
    },
    {
      "cell_type": "code",
      "source": [
        "# kernel_size = filter_size\n",
        "cnn_model = tf.keras.models.Sequential([\n",
        "  tf.keras.layers.Conv2D(filters=30, kernel_size=(5, 5),\n",
        "                         padding=\"valid\", strides=1, activation=\"relu\",\n",
        "                         input_shape=(28, 28, 1)),\n",
        "  tf.keras.layers.MaxPool2D((2, 2)),\n",
        "  tf.keras.layers.Flatten(input_shape=(12, 12)),\n",
        "  tf.keras.layers.Dense(100, activation=\"relu\"),\n",
        "  tf.keras.layers.Dense(10),\n",
        "  tf.keras.layers.Softmax()\n",
        "])\n",
        "cnn_model.summary()"
      ],
      "metadata": {
        "colab": {
          "base_uri": "https://localhost:8080/"
        },
        "id": "NBfKoGQpxlmF",
        "outputId": "fbb4feb9-cdca-4f30-fb33-fae08f87fc44"
      },
      "execution_count": 12,
      "outputs": [
        {
          "output_type": "stream",
          "name": "stdout",
          "text": [
            "Model: \"sequential_1\"\n",
            "_________________________________________________________________\n",
            " Layer (type)                Output Shape              Param #   \n",
            "=================================================================\n",
            " conv2d (Conv2D)             (None, 24, 24, 30)        780       \n",
            "                                                                 \n",
            " max_pooling2d (MaxPooling2  (None, 12, 12, 30)        0         \n",
            " D)                                                              \n",
            "                                                                 \n",
            " flatten_1 (Flatten)         (None, 4320)              0         \n",
            "                                                                 \n",
            " dense_3 (Dense)             (None, 100)               432100    \n",
            "                                                                 \n",
            " dense_4 (Dense)             (None, 10)                1010      \n",
            "                                                                 \n",
            " softmax_1 (Softmax)         (None, 10)                0         \n",
            "                                                                 \n",
            "=================================================================\n",
            "Total params: 433890 (1.66 MB)\n",
            "Trainable params: 433890 (1.66 MB)\n",
            "Non-trainable params: 0 (0.00 Byte)\n",
            "_________________________________________________________________\n"
          ]
        }
      ]
    },
    {
      "cell_type": "markdown",
      "source": [
        "学習を実施"
      ],
      "metadata": {
        "id": "Smievf7Vortw"
      }
    },
    {
      "cell_type": "code",
      "source": [
        "# 学習方法を指定\n",
        "cnn_model.compile(optimizer='adam', loss=loss_fn, metrics=['accuracy'])\n",
        "# 学習を実施\n",
        "cnn_model.fit(x_train, y_train, epochs=5)"
      ],
      "metadata": {
        "colab": {
          "base_uri": "https://localhost:8080/"
        },
        "id": "j1ulnIzY5gVf",
        "outputId": "bc5b23de-5ef4-434a-8e5f-cfd89a58c5f5"
      },
      "execution_count": 13,
      "outputs": [
        {
          "output_type": "stream",
          "name": "stdout",
          "text": [
            "Epoch 1/5\n",
            "1875/1875 [==============================] - 8s 3ms/step - loss: 0.1443 - accuracy: 0.9567\n",
            "Epoch 2/5\n",
            "1875/1875 [==============================] - 6s 3ms/step - loss: 0.0475 - accuracy: 0.9854\n",
            "Epoch 3/5\n",
            "1875/1875 [==============================] - 6s 3ms/step - loss: 0.0325 - accuracy: 0.9901\n",
            "Epoch 4/5\n",
            "1875/1875 [==============================] - 6s 3ms/step - loss: 0.0233 - accuracy: 0.9927\n",
            "Epoch 5/5\n",
            "1875/1875 [==============================] - 7s 4ms/step - loss: 0.0167 - accuracy: 0.9945\n"
          ]
        },
        {
          "output_type": "execute_result",
          "data": {
            "text/plain": [
              "<keras.src.callbacks.History at 0x7bfe9818d420>"
            ]
          },
          "metadata": {},
          "execution_count": 13
        }
      ]
    },
    {
      "cell_type": "markdown",
      "source": [
        "評価を実施。全結合層のみより性能が高い(はず)。"
      ],
      "metadata": {
        "id": "Sn4iY6V_oxZ1"
      }
    },
    {
      "cell_type": "code",
      "source": [
        "cnn_model.evaluate(x_test,  y_test, verbose=2)"
      ],
      "metadata": {
        "colab": {
          "base_uri": "https://localhost:8080/"
        },
        "id": "wYaCDY4L5wGo",
        "outputId": "67608a05-a3c1-4768-9fb1-dbbe7c069ae8"
      },
      "execution_count": 14,
      "outputs": [
        {
          "output_type": "stream",
          "name": "stdout",
          "text": [
            "313/313 - 1s - loss: 0.0489 - accuracy: 0.9869 - 751ms/epoch - 2ms/step\n"
          ]
        },
        {
          "output_type": "execute_result",
          "data": {
            "text/plain": [
              "[0.04889736324548721, 0.9868999719619751]"
            ]
          },
          "metadata": {},
          "execution_count": 14
        }
      ]
    },
    {
      "cell_type": "markdown",
      "source": [
        "不正解の例を見てみる"
      ],
      "metadata": {
        "id": "77x7V_yUrBSS"
      }
    },
    {
      "cell_type": "code",
      "source": [
        "probs = cnn_model(x_test).numpy()\n",
        "preds = np.argmax(probs, axis=1)\n",
        "false_mask = preds != y_test\n",
        "\n",
        "false_images = x_test[false_mask]\n",
        "\n",
        "print(f\"prediction = {preds[false_mask][0]}\")\n",
        "print(f\"answer = {y_test[false_mask][0]}\")\n",
        "plt.imshow(false_images[0])"
      ],
      "metadata": {
        "id": "F6ZAZtr8rDBf",
        "outputId": "219eb99f-0e14-40ef-b1e4-013a6d30a3e7",
        "colab": {
          "base_uri": "https://localhost:8080/",
          "height": 484
        }
      },
      "execution_count": 15,
      "outputs": [
        {
          "output_type": "stream",
          "name": "stdout",
          "text": [
            "prediction = 0\n",
            "answer = 4\n"
          ]
        },
        {
          "output_type": "execute_result",
          "data": {
            "text/plain": [
              "<matplotlib.image.AxesImage at 0x7bfe871afd00>"
            ]
          },
          "metadata": {},
          "execution_count": 15
        },
        {
          "output_type": "display_data",
          "data": {
            "text/plain": [
              "<Figure size 640x480 with 1 Axes>"
            ],
            "image/png": "[encoded data removed]"
          },
          "metadata": {}
        }
      ]
    },
    {
      "cell_type": "markdown",
      "source": [
        "## PyCaret で解く"
      ],
      "metadata": {
        "id": "z1nKzXzyrU_9"
      }
    },
    {
      "cell_type": "code",
      "source": [
        "import numpy as np\n",
        "import pandas as pd\n",
        "\n",
        "def flatten(data):\n",
        "    flat_data = np.array([\n",
        "        [mat[row, col]\n",
        "            for row in range(mat.shape[0])\n",
        "            for col in range(mat.shape[1])]\n",
        "         for mat in data])\n",
        "    return flat_data\n",
        "\n",
        "x_flat_train = flatten(x_train)\n",
        "x_flat_test = flatten(x_test)\n",
        "\n",
        "header = list([f\"cell_{num:0>3d}\" for num in range(0, 784)])\n",
        "header.append(\"label\")\n",
        "\n",
        "train_df = pd.DataFrame(\n",
        "    np.hstack([x_flat_train, np.array([y_train]).T]), columns=header)\n",
        "test_df = pd.DataFrame(\n",
        "    np.hstack([x_flat_test, np.array([y_test]).T]), columns=header)"
      ],
      "metadata": {
        "id": "laMf4cMRB-dX"
      },
      "execution_count": 16,
      "outputs": []
    },
    {
      "cell_type": "code",
      "source": [
        "%%capture\n",
        "# install pycaret and hide the log by %%capture\n",
        "!pip install --upgrade pycaret pandas-profiling==3.1.0"
      ],
      "metadata": {
        "id": "ScPrPlsbrXfF"
      },
      "execution_count": null,
      "outputs": []
    },
    {
      "cell_type": "code",
      "source": [
        "from pycaret import classification\n",
        "\n",
        "exp = classification.setup(\n",
        "    data=train_df, target=\"label\", session_id=123, silent=True,\n",
        "    # 相関関係から数値変数の重複を削除\n",
        "    remove_multicollinearity = True, multicollinearity_threshold = 0.95,\n",
        "    pca=True, pca_method=\"linear\")"
      ],
      "metadata": {
        "id": "KE9tsLIqvLFa"
      },
      "execution_count": null,
      "outputs": []
    },
    {
      "cell_type": "code",
      "source": [
        "best = classification.compare_models()"
      ],
      "metadata": {
        "id": "c4mOUJ6U0Jdo"
      },
      "execution_count": null,
      "outputs": []
    },
    {
      "cell_type": "code",
      "source": [],
      "metadata": {
        "id": "Xs_YAMwK1cui"
      },
      "execution_count": null,
      "outputs": []
    }
  ]
}