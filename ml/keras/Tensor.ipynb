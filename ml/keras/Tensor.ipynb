{
  "nbformat": 4,
  "nbformat_minor": 0,
  "metadata": {
    "colab": {
      "name": "tensor.ipynb",
      "provenance": [],
      "toc_visible": true,
      "authorship_tag": "ABX9TyMDwsu5cEBEIfwNt3QQQ7A2",
      "include_colab_link": true
    },
    "kernelspec": {
      "name": "python3",
      "display_name": "Python 3"
    },
    "language_info": {
      "name": "python"
    }
  },
  "cells": [
    {
      "cell_type": "markdown",
      "metadata": {
        "id": "view-in-github",
        "colab_type": "text"
      },
      "source": [
        "<a href=\"https://colab.research.google.com/github/applejxd/colaboratory/blob/master/ml/Tensor.ipynb\" target=\"_parent\"><img src=\"https://colab.research.google.com/assets/colab-badge.svg\" alt=\"Open In Colab\"/></a>"
      ]
    },
    {
      "cell_type": "markdown",
      "source": [
        "# TensorFlow テンソル操作メモ"
      ],
      "metadata": {
        "id": "ZCsBQSYiZAY4"
      }
    },
    {
      "cell_type": "markdown",
      "source": [
        "[TensorFlow メソッド、shape をいじる系メモ](https://qiita.com/cfiken/items/04925d4da39e1a24114e)"
      ],
      "metadata": {
        "id": "liyRUeceZC3G"
      }
    },
    {
      "cell_type": "code",
      "execution_count": 1,
      "metadata": {
        "id": "d0M36WteuMW2"
      },
      "outputs": [],
      "source": [
        "import numpy as np\n",
        "import tensorflow as tf\n",
        "from tensorflow import keras"
      ]
    },
    {
      "cell_type": "code",
      "source": [
        "a_tensor = tf.random.uniform(shape=[4, 2, 3], minval=-10, maxval=10, dtype=tf.float64)\n",
        "a_tensor"
      ],
      "metadata": {
        "id": "RE20tJgfuRbq",
        "colab": {
          "base_uri": "https://localhost:8080/"
        },
        "outputId": "f60e0631-72b5-40b0-bc86-ce12d70adac0"
      },
      "execution_count": 2,
      "outputs": [
        {
          "output_type": "execute_result",
          "data": {
            "text/plain": [
              "<tf.Tensor: shape=(4, 2, 3), dtype=float64, numpy=\n",
              "array([[[ 1.73369404,  2.11681321, -5.86720335],\n",
              "        [-4.38655271, -2.11421878, -9.61098953]],\n",
              "\n",
              "       [[-5.71577344, -8.67702183,  8.54644893],\n",
              "        [-3.22580896, -2.9048623 , -6.15847763]],\n",
              "\n",
              "       [[ 1.28737215, -6.51552529, -9.22646899],\n",
              "        [-9.92081893, -1.05985511, -5.39704617]],\n",
              "\n",
              "       [[ 8.53265156,  1.65726111,  9.79532013],\n",
              "        [ 3.21406123, -9.45604106, -1.55242791]]])>"
            ]
          },
          "metadata": {},
          "execution_count": 2
        }
      ]
    },
    {
      "cell_type": "code",
      "source": [
        "tf.shape(a_tensor)"
      ],
      "metadata": {
        "colab": {
          "base_uri": "https://localhost:8080/"
        },
        "id": "hfYVYNq_xjUS",
        "outputId": "843aedc8-6817-49d9-ade1-8de6a69a2925"
      },
      "execution_count": 3,
      "outputs": [
        {
          "output_type": "execute_result",
          "data": {
            "text/plain": [
              "<tf.Tensor: shape=(3,), dtype=int32, numpy=array([4, 2, 3], dtype=int32)>"
            ]
          },
          "metadata": {},
          "execution_count": 3
        }
      ]
    },
    {
      "cell_type": "code",
      "source": [
        "b_tensor = tf.constant([[[1, 3, 5], [7, 11, 13]]], dtype=tf.float64)\n",
        "b_tensor"
      ],
      "metadata": {
        "id": "JG-DYcYpo58M",
        "outputId": "d5f38430-4e9c-472e-f088-82bcebc1f502",
        "colab": {
          "base_uri": "https://localhost:8080/"
        }
      },
      "execution_count": 4,
      "outputs": [
        {
          "output_type": "execute_result",
          "data": {
            "text/plain": [
              "<tf.Tensor: shape=(1, 2, 3), dtype=float64, numpy=\n",
              "array([[[ 1.,  3.,  5.],\n",
              "        [ 7., 11., 13.]]])>"
            ]
          },
          "metadata": {},
          "execution_count": 4
        }
      ]
    },
    {
      "cell_type": "markdown",
      "source": [
        "## 変形する"
      ],
      "metadata": {
        "id": "U5TXUsRteCHO"
      }
    },
    {
      "cell_type": "code",
      "source": [
        "# 合計サイズが 3x5x2 となるように変形する必要がある\n",
        "tf.reshape(a_tensor, shape=(-1, 3, 2))"
      ],
      "metadata": {
        "colab": {
          "base_uri": "https://localhost:8080/"
        },
        "id": "wwRiQ6KqeBig",
        "outputId": "47d3ad77-8beb-47ee-cfcd-bedb9b60d4cd"
      },
      "execution_count": 5,
      "outputs": [
        {
          "output_type": "execute_result",
          "data": {
            "text/plain": [
              "<tf.Tensor: shape=(4, 3, 2), dtype=float64, numpy=\n",
              "array([[[ 1.73369404,  2.11681321],\n",
              "        [-5.86720335, -4.38655271],\n",
              "        [-2.11421878, -9.61098953]],\n",
              "\n",
              "       [[-5.71577344, -8.67702183],\n",
              "        [ 8.54644893, -3.22580896],\n",
              "        [-2.9048623 , -6.15847763]],\n",
              "\n",
              "       [[ 1.28737215, -6.51552529],\n",
              "        [-9.22646899, -9.92081893],\n",
              "        [-1.05985511, -5.39704617]],\n",
              "\n",
              "       [[ 8.53265156,  1.65726111],\n",
              "        [ 9.79532013,  3.21406123],\n",
              "        [-9.45604106, -1.55242791]]])>"
            ]
          },
          "metadata": {},
          "execution_count": 5
        }
      ]
    },
    {
      "cell_type": "markdown",
      "source": [
        "## 拡大する"
      ],
      "metadata": {
        "id": "Q-OixoeFeKfK"
      }
    },
    {
      "cell_type": "markdown",
      "source": [
        "### 次元(添字)を増やす"
      ],
      "metadata": {
        "id": "uiEUkt-wgfW_"
      }
    },
    {
      "cell_type": "code",
      "source": [
        "tf.expand_dims(a_tensor, axis=2)"
      ],
      "metadata": {
        "colab": {
          "base_uri": "https://localhost:8080/"
        },
        "id": "L50IxT_BeLty",
        "outputId": "c5adcea9-ccd2-4c3c-b38d-5879d930147d"
      },
      "execution_count": 6,
      "outputs": [
        {
          "output_type": "execute_result",
          "data": {
            "text/plain": [
              "<tf.Tensor: shape=(4, 2, 1, 3), dtype=float64, numpy=\n",
              "array([[[[ 1.73369404,  2.11681321, -5.86720335]],\n",
              "\n",
              "        [[-4.38655271, -2.11421878, -9.61098953]]],\n",
              "\n",
              "\n",
              "       [[[-5.71577344, -8.67702183,  8.54644893]],\n",
              "\n",
              "        [[-3.22580896, -2.9048623 , -6.15847763]]],\n",
              "\n",
              "\n",
              "       [[[ 1.28737215, -6.51552529, -9.22646899]],\n",
              "\n",
              "        [[-9.92081893, -1.05985511, -5.39704617]]],\n",
              "\n",
              "\n",
              "       [[[ 8.53265156,  1.65726111,  9.79532013]],\n",
              "\n",
              "        [[ 3.21406123, -9.45604106, -1.55242791]]]])>"
            ]
          },
          "metadata": {},
          "execution_count": 6
        }
      ]
    },
    {
      "cell_type": "markdown",
      "source": [
        "### パディングする"
      ],
      "metadata": {
        "id": "lTIIUfywgi4g"
      }
    },
    {
      "cell_type": "code",
      "source": [
        "tf.pad(a_tensor, paddings=[[0,0],[0,0],[0,1]])"
      ],
      "metadata": {
        "colab": {
          "base_uri": "https://localhost:8080/"
        },
        "id": "yjfmT8AVeVlU",
        "outputId": "2212a2b2-3e27-48a7-bf99-732ff6a7af85"
      },
      "execution_count": 7,
      "outputs": [
        {
          "output_type": "execute_result",
          "data": {
            "text/plain": [
              "<tf.Tensor: shape=(4, 2, 4), dtype=float64, numpy=\n",
              "array([[[ 1.73369404,  2.11681321, -5.86720335,  0.        ],\n",
              "        [-4.38655271, -2.11421878, -9.61098953,  0.        ]],\n",
              "\n",
              "       [[-5.71577344, -8.67702183,  8.54644893,  0.        ],\n",
              "        [-3.22580896, -2.9048623 , -6.15847763,  0.        ]],\n",
              "\n",
              "       [[ 1.28737215, -6.51552529, -9.22646899,  0.        ],\n",
              "        [-9.92081893, -1.05985511, -5.39704617,  0.        ]],\n",
              "\n",
              "       [[ 8.53265156,  1.65726111,  9.79532013,  0.        ],\n",
              "        [ 3.21406123, -9.45604106, -1.55242791,  0.        ]]])>"
            ]
          },
          "metadata": {},
          "execution_count": 7
        }
      ]
    },
    {
      "cell_type": "markdown",
      "source": [
        "## 繰り返す"
      ],
      "metadata": {
        "id": "NmkhaygNd0_B"
      }
    },
    {
      "cell_type": "markdown",
      "source": [
        "### 次元(添字)を増やさず繰り返す"
      ],
      "metadata": {
        "id": "zvUD52nigok1"
      }
    },
    {
      "cell_type": "code",
      "source": [
        "tf.tile(a_tensor, multiples=(1,1,2))"
      ],
      "metadata": {
        "colab": {
          "base_uri": "https://localhost:8080/"
        },
        "id": "rhgUgaLCg-tI",
        "outputId": "6d17af03-64a5-4a32-c5dd-9c9cfb1dd76a"
      },
      "execution_count": 8,
      "outputs": [
        {
          "output_type": "execute_result",
          "data": {
            "text/plain": [
              "<tf.Tensor: shape=(4, 2, 6), dtype=float64, numpy=\n",
              "array([[[ 1.73369404,  2.11681321, -5.86720335,  1.73369404,\n",
              "          2.11681321, -5.86720335],\n",
              "        [-4.38655271, -2.11421878, -9.61098953, -4.38655271,\n",
              "         -2.11421878, -9.61098953]],\n",
              "\n",
              "       [[-5.71577344, -8.67702183,  8.54644893, -5.71577344,\n",
              "         -8.67702183,  8.54644893],\n",
              "        [-3.22580896, -2.9048623 , -6.15847763, -3.22580896,\n",
              "         -2.9048623 , -6.15847763]],\n",
              "\n",
              "       [[ 1.28737215, -6.51552529, -9.22646899,  1.28737215,\n",
              "         -6.51552529, -9.22646899],\n",
              "        [-9.92081893, -1.05985511, -5.39704617, -9.92081893,\n",
              "         -1.05985511, -5.39704617]],\n",
              "\n",
              "       [[ 8.53265156,  1.65726111,  9.79532013,  8.53265156,\n",
              "          1.65726111,  9.79532013],\n",
              "        [ 3.21406123, -9.45604106, -1.55242791,  3.21406123,\n",
              "         -9.45604106, -1.55242791]]])>"
            ]
          },
          "metadata": {},
          "execution_count": 8
        }
      ]
    },
    {
      "cell_type": "markdown",
      "source": [
        "\\begin{equation}\n",
        "    b_{ijkl} = (a_{jkl} a_{jkl})\n",
        "\\end{equation}"
      ],
      "metadata": {
        "id": "5GZtfVFbT-5A"
      }
    },
    {
      "cell_type": "markdown",
      "source": [
        "### 次元(添字)を増やして繰り返す"
      ],
      "metadata": {
        "id": "f860_G1EiAI4"
      }
    },
    {
      "cell_type": "code",
      "source": [
        "tf.tile(tf.expand_dims(a_tensor, 0), [2, 1, 1, 1]) "
      ],
      "metadata": {
        "id": "LsORSgDCk344",
        "colab": {
          "base_uri": "https://localhost:8080/"
        },
        "outputId": "15b71e27-a06d-42a4-fd8d-b382ade4dacd"
      },
      "execution_count": 9,
      "outputs": [
        {
          "output_type": "execute_result",
          "data": {
            "text/plain": [
              "<tf.Tensor: shape=(2, 4, 2, 3), dtype=float64, numpy=\n",
              "array([[[[ 1.73369404,  2.11681321, -5.86720335],\n",
              "         [-4.38655271, -2.11421878, -9.61098953]],\n",
              "\n",
              "        [[-5.71577344, -8.67702183,  8.54644893],\n",
              "         [-3.22580896, -2.9048623 , -6.15847763]],\n",
              "\n",
              "        [[ 1.28737215, -6.51552529, -9.22646899],\n",
              "         [-9.92081893, -1.05985511, -5.39704617]],\n",
              "\n",
              "        [[ 8.53265156,  1.65726111,  9.79532013],\n",
              "         [ 3.21406123, -9.45604106, -1.55242791]]],\n",
              "\n",
              "\n",
              "       [[[ 1.73369404,  2.11681321, -5.86720335],\n",
              "         [-4.38655271, -2.11421878, -9.61098953]],\n",
              "\n",
              "        [[-5.71577344, -8.67702183,  8.54644893],\n",
              "         [-3.22580896, -2.9048623 , -6.15847763]],\n",
              "\n",
              "        [[ 1.28737215, -6.51552529, -9.22646899],\n",
              "         [-9.92081893, -1.05985511, -5.39704617]],\n",
              "\n",
              "        [[ 8.53265156,  1.65726111,  9.79532013],\n",
              "         [ 3.21406123, -9.45604106, -1.55242791]]]])>"
            ]
          },
          "metadata": {},
          "execution_count": 9
        }
      ]
    },
    {
      "cell_type": "markdown",
      "source": [
        "## 分割する"
      ],
      "metadata": {
        "id": "Au0hMLp9ebFI"
      }
    },
    {
      "cell_type": "code",
      "source": [
        "tf.split(a_tensor, num_or_size_splits=[-1, 1], axis=-1)"
      ],
      "metadata": {
        "colab": {
          "base_uri": "https://localhost:8080/"
        },
        "id": "ULb3qFCfWcwR",
        "outputId": "1d2a537d-86df-4baf-c073-4ef01d05803e"
      },
      "execution_count": 10,
      "outputs": [
        {
          "output_type": "execute_result",
          "data": {
            "text/plain": [
              "[<tf.Tensor: shape=(4, 2, 2), dtype=float64, numpy=\n",
              " array([[[ 1.73369404,  2.11681321],\n",
              "         [-4.38655271, -2.11421878]],\n",
              " \n",
              "        [[-5.71577344, -8.67702183],\n",
              "         [-3.22580896, -2.9048623 ]],\n",
              " \n",
              "        [[ 1.28737215, -6.51552529],\n",
              "         [-9.92081893, -1.05985511]],\n",
              " \n",
              "        [[ 8.53265156,  1.65726111],\n",
              "         [ 3.21406123, -9.45604106]]])>,\n",
              " <tf.Tensor: shape=(4, 2, 1), dtype=float64, numpy=\n",
              " array([[[-5.86720335],\n",
              "         [-9.61098953]],\n",
              " \n",
              "        [[ 8.54644893],\n",
              "         [-6.15847763]],\n",
              " \n",
              "        [[-9.22646899],\n",
              "         [-5.39704617]],\n",
              " \n",
              "        [[ 9.79532013],\n",
              "         [-1.55242791]]])>]"
            ]
          },
          "metadata": {},
          "execution_count": 10
        }
      ]
    },
    {
      "cell_type": "markdown",
      "source": [
        "## 結合する"
      ],
      "metadata": {
        "id": "r0ET4SKqocOq"
      }
    },
    {
      "cell_type": "markdown",
      "source": [
        "### 次元(添字)を増やさず結合する"
      ],
      "metadata": {
        "id": "JkqBMDvNz5ii"
      }
    },
    {
      "cell_type": "markdown",
      "source": [
        "以下の条件が必要:\n",
        "- 型が一致している\n",
        "- 結合する axis 以外が一致している"
      ],
      "metadata": {
        "id": "-wU_IV5iz9ue"
      }
    },
    {
      "cell_type": "code",
      "source": [
        "tf.concat([a_tensor, b_tensor], axis=0)"
      ],
      "metadata": {
        "id": "QdMxMjMbodiF",
        "outputId": "e5d27e4b-36ec-4fa2-d599-67188a8a9956",
        "colab": {
          "base_uri": "https://localhost:8080/"
        }
      },
      "execution_count": 11,
      "outputs": [
        {
          "output_type": "execute_result",
          "data": {
            "text/plain": [
              "<tf.Tensor: shape=(5, 2, 3), dtype=float64, numpy=\n",
              "array([[[ 1.73369404,  2.11681321, -5.86720335],\n",
              "        [-4.38655271, -2.11421878, -9.61098953]],\n",
              "\n",
              "       [[-5.71577344, -8.67702183,  8.54644893],\n",
              "        [-3.22580896, -2.9048623 , -6.15847763]],\n",
              "\n",
              "       [[ 1.28737215, -6.51552529, -9.22646899],\n",
              "        [-9.92081893, -1.05985511, -5.39704617]],\n",
              "\n",
              "       [[ 8.53265156,  1.65726111,  9.79532013],\n",
              "        [ 3.21406123, -9.45604106, -1.55242791]],\n",
              "\n",
              "       [[ 1.        ,  3.        ,  5.        ],\n",
              "        [ 7.        , 11.        , 13.        ]]])>"
            ]
          },
          "metadata": {},
          "execution_count": 11
        }
      ]
    },
    {
      "cell_type": "markdown",
      "source": [
        "## 縮小する"
      ],
      "metadata": {
        "id": "BNPN9JEWlBFw"
      }
    },
    {
      "cell_type": "markdown",
      "source": [
        "ｔｆ.extend_dim の逆は tf.squeeze"
      ],
      "metadata": {
        "id": "_iWOROtYlD0v"
      }
    },
    {
      "cell_type": "code",
      "source": [
        "tf.squeeze(tf.expand_dims(a_tensor, axis=2))"
      ],
      "metadata": {
        "colab": {
          "base_uri": "https://localhost:8080/"
        },
        "id": "IPClzd1CkAMO",
        "outputId": "ae0d0c9d-981f-4ba7-914c-0de0ef055365"
      },
      "execution_count": 12,
      "outputs": [
        {
          "output_type": "execute_result",
          "data": {
            "text/plain": [
              "<tf.Tensor: shape=(4, 2, 3), dtype=float64, numpy=\n",
              "array([[[ 1.73369404,  2.11681321, -5.86720335],\n",
              "        [-4.38655271, -2.11421878, -9.61098953]],\n",
              "\n",
              "       [[-5.71577344, -8.67702183,  8.54644893],\n",
              "        [-3.22580896, -2.9048623 , -6.15847763]],\n",
              "\n",
              "       [[ 1.28737215, -6.51552529, -9.22646899],\n",
              "        [-9.92081893, -1.05985511, -5.39704617]],\n",
              "\n",
              "       [[ 8.53265156,  1.65726111,  9.79532013],\n",
              "        [ 3.21406123, -9.45604106, -1.55242791]]])>"
            ]
          },
          "metadata": {},
          "execution_count": 12
        }
      ]
    }
  ]
}