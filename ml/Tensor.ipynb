{
  "nbformat": 4,
  "nbformat_minor": 0,
  "metadata": {
    "colab": {
      "name": "tensor.ipynb",
      "provenance": [],
      "toc_visible": true,
      "authorship_tag": "ABX9TyPUS9Gcuh+ZqMH7XgOPUogH",
      "include_colab_link": true
    },
    "kernelspec": {
      "name": "python3",
      "display_name": "Python 3"
    },
    "language_info": {
      "name": "python"
    }
  },
  "cells": [
    {
      "cell_type": "markdown",
      "metadata": {
        "id": "view-in-github",
        "colab_type": "text"
      },
      "source": [
        "<a href=\"https://colab.research.google.com/github/applejxd/colaboratory/blob/master/ml/Tensor.ipynb\" target=\"_parent\"><img src=\"https://colab.research.google.com/assets/colab-badge.svg\" alt=\"Open In Colab\"/></a>"
      ]
    },
    {
      "cell_type": "markdown",
      "source": [
        "# TensorFlow テンソル操作メモ"
      ],
      "metadata": {
        "id": "ZCsBQSYiZAY4"
      }
    },
    {
      "cell_type": "markdown",
      "source": [
        "[TensorFlow メソッド、shape をいじる系メモ](https://qiita.com/cfiken/items/04925d4da39e1a24114e)"
      ],
      "metadata": {
        "id": "liyRUeceZC3G"
      }
    },
    {
      "cell_type": "code",
      "execution_count": 1,
      "metadata": {
        "id": "d0M36WteuMW2"
      },
      "outputs": [],
      "source": [
        "import numpy as np\n",
        "import tensorflow as tf\n",
        "from tensorflow import keras"
      ]
    },
    {
      "cell_type": "code",
      "source": [
        "a_tensor = tf.random.uniform(shape=[4, 2, 3], minval=-10, maxval=10, dtype=tf.float64)\n",
        "a_tensor"
      ],
      "metadata": {
        "id": "RE20tJgfuRbq",
        "colab": {
          "base_uri": "https://localhost:8080/"
        },
        "outputId": "3cc1fade-04cf-4318-cee7-5bdfd2be914b"
      },
      "execution_count": 2,
      "outputs": [
        {
          "output_type": "execute_result",
          "data": {
            "text/plain": [
              "<tf.Tensor: shape=(4, 2, 3), dtype=float64, numpy=\n",
              "array([[[-4.91963095, -4.66853684,  8.81406452],\n",
              "        [ 4.74523416,  9.70933287, -7.63327008]],\n",
              "\n",
              "       [[-7.96193703, -8.5054882 , -2.74834238],\n",
              "        [ 3.98221438,  7.87066089,  0.65405054]],\n",
              "\n",
              "       [[-8.13854054,  3.60798422,  0.0287366 ],\n",
              "        [-7.06542367, -3.03645089, -7.31469691]],\n",
              "\n",
              "       [[ 5.63056176, -5.707417  ,  4.07563791],\n",
              "        [-9.33349076, -2.45003457,  8.41547415]]])>"
            ]
          },
          "metadata": {},
          "execution_count": 2
        }
      ]
    },
    {
      "cell_type": "code",
      "source": [
        "tf.shape(a_tensor)"
      ],
      "metadata": {
        "colab": {
          "base_uri": "https://localhost:8080/"
        },
        "id": "hfYVYNq_xjUS",
        "outputId": "ff87ba2a-bd3b-4201-c745-750ac27dc16a"
      },
      "execution_count": 3,
      "outputs": [
        {
          "output_type": "execute_result",
          "data": {
            "text/plain": [
              "<tf.Tensor: shape=(3,), dtype=int32, numpy=array([4, 2, 3], dtype=int32)>"
            ]
          },
          "metadata": {},
          "execution_count": 3
        }
      ]
    },
    {
      "cell_type": "code",
      "source": [
        "b_tensor = tf.constant([[[1, 3, 5], [7, 11, 13]]], dtype=tf.float64)\n",
        "b_tensor"
      ],
      "metadata": {
        "id": "JG-DYcYpo58M",
        "outputId": "92735ed6-c72d-421a-f39e-cce509618b66",
        "colab": {
          "base_uri": "https://localhost:8080/"
        }
      },
      "execution_count": 4,
      "outputs": [
        {
          "output_type": "execute_result",
          "data": {
            "text/plain": [
              "<tf.Tensor: shape=(1, 2, 3), dtype=float64, numpy=\n",
              "array([[[ 1.,  3.,  5.],\n",
              "        [ 7., 11., 13.]]])>"
            ]
          },
          "metadata": {},
          "execution_count": 4
        }
      ]
    },
    {
      "cell_type": "markdown",
      "source": [
        "## 変形する"
      ],
      "metadata": {
        "id": "U5TXUsRteCHO"
      }
    },
    {
      "cell_type": "code",
      "source": [
        "# 合計サイズが 3x5x2 となるように変形する必要がある\n",
        "tf.reshape(a_tensor, shape=(-1, 3, 2))"
      ],
      "metadata": {
        "colab": {
          "base_uri": "https://localhost:8080/"
        },
        "id": "wwRiQ6KqeBig",
        "outputId": "aeb8ed52-5210-4807-f136-a00222c5f7df"
      },
      "execution_count": 5,
      "outputs": [
        {
          "output_type": "execute_result",
          "data": {
            "text/plain": [
              "<tf.Tensor: shape=(4, 3, 2), dtype=float64, numpy=\n",
              "array([[[-4.91963095, -4.66853684],\n",
              "        [ 8.81406452,  4.74523416],\n",
              "        [ 9.70933287, -7.63327008]],\n",
              "\n",
              "       [[-7.96193703, -8.5054882 ],\n",
              "        [-2.74834238,  3.98221438],\n",
              "        [ 7.87066089,  0.65405054]],\n",
              "\n",
              "       [[-8.13854054,  3.60798422],\n",
              "        [ 0.0287366 , -7.06542367],\n",
              "        [-3.03645089, -7.31469691]],\n",
              "\n",
              "       [[ 5.63056176, -5.707417  ],\n",
              "        [ 4.07563791, -9.33349076],\n",
              "        [-2.45003457,  8.41547415]]])>"
            ]
          },
          "metadata": {},
          "execution_count": 5
        }
      ]
    },
    {
      "cell_type": "markdown",
      "source": [
        "## 拡大する"
      ],
      "metadata": {
        "id": "Q-OixoeFeKfK"
      }
    },
    {
      "cell_type": "markdown",
      "source": [
        "### 次元(添字)を増やす"
      ],
      "metadata": {
        "id": "uiEUkt-wgfW_"
      }
    },
    {
      "cell_type": "code",
      "source": [
        "tf.expand_dims(a_tensor, axis=2)"
      ],
      "metadata": {
        "colab": {
          "base_uri": "https://localhost:8080/"
        },
        "id": "L50IxT_BeLty",
        "outputId": "5aecc346-5353-4655-b828-34a7b124af76"
      },
      "execution_count": 6,
      "outputs": [
        {
          "output_type": "execute_result",
          "data": {
            "text/plain": [
              "<tf.Tensor: shape=(4, 2, 1, 3), dtype=float64, numpy=\n",
              "array([[[[-4.91963095, -4.66853684,  8.81406452]],\n",
              "\n",
              "        [[ 4.74523416,  9.70933287, -7.63327008]]],\n",
              "\n",
              "\n",
              "       [[[-7.96193703, -8.5054882 , -2.74834238]],\n",
              "\n",
              "        [[ 3.98221438,  7.87066089,  0.65405054]]],\n",
              "\n",
              "\n",
              "       [[[-8.13854054,  3.60798422,  0.0287366 ]],\n",
              "\n",
              "        [[-7.06542367, -3.03645089, -7.31469691]]],\n",
              "\n",
              "\n",
              "       [[[ 5.63056176, -5.707417  ,  4.07563791]],\n",
              "\n",
              "        [[-9.33349076, -2.45003457,  8.41547415]]]])>"
            ]
          },
          "metadata": {},
          "execution_count": 6
        }
      ]
    },
    {
      "cell_type": "markdown",
      "source": [
        "### パディングする"
      ],
      "metadata": {
        "id": "lTIIUfywgi4g"
      }
    },
    {
      "cell_type": "code",
      "source": [
        "tf.pad(a_tensor, paddings=[[0,0],[0,0],[0,1]])"
      ],
      "metadata": {
        "colab": {
          "base_uri": "https://localhost:8080/"
        },
        "id": "yjfmT8AVeVlU",
        "outputId": "b6696f85-480c-4b0c-c085-cb0b11d55297"
      },
      "execution_count": 7,
      "outputs": [
        {
          "output_type": "execute_result",
          "data": {
            "text/plain": [
              "<tf.Tensor: shape=(4, 2, 4), dtype=float64, numpy=\n",
              "array([[[-4.91963095, -4.66853684,  8.81406452,  0.        ],\n",
              "        [ 4.74523416,  9.70933287, -7.63327008,  0.        ]],\n",
              "\n",
              "       [[-7.96193703, -8.5054882 , -2.74834238,  0.        ],\n",
              "        [ 3.98221438,  7.87066089,  0.65405054,  0.        ]],\n",
              "\n",
              "       [[-8.13854054,  3.60798422,  0.0287366 ,  0.        ],\n",
              "        [-7.06542367, -3.03645089, -7.31469691,  0.        ]],\n",
              "\n",
              "       [[ 5.63056176, -5.707417  ,  4.07563791,  0.        ],\n",
              "        [-9.33349076, -2.45003457,  8.41547415,  0.        ]]])>"
            ]
          },
          "metadata": {},
          "execution_count": 7
        }
      ]
    },
    {
      "cell_type": "markdown",
      "source": [
        "## 繰り返す"
      ],
      "metadata": {
        "id": "NmkhaygNd0_B"
      }
    },
    {
      "cell_type": "markdown",
      "source": [
        "### 次元(添字)を増やさず繰り返す"
      ],
      "metadata": {
        "id": "zvUD52nigok1"
      }
    },
    {
      "cell_type": "code",
      "source": [
        "tf.tile(a_tensor, multiples=(1,1,2))"
      ],
      "metadata": {
        "colab": {
          "base_uri": "https://localhost:8080/"
        },
        "id": "rhgUgaLCg-tI",
        "outputId": "6181ffc0-4357-4567-939d-62c068de6a2f"
      },
      "execution_count": 8,
      "outputs": [
        {
          "output_type": "execute_result",
          "data": {
            "text/plain": [
              "<tf.Tensor: shape=(4, 2, 6), dtype=float64, numpy=\n",
              "array([[[-4.91963095, -4.66853684,  8.81406452, -4.91963095,\n",
              "         -4.66853684,  8.81406452],\n",
              "        [ 4.74523416,  9.70933287, -7.63327008,  4.74523416,\n",
              "          9.70933287, -7.63327008]],\n",
              "\n",
              "       [[-7.96193703, -8.5054882 , -2.74834238, -7.96193703,\n",
              "         -8.5054882 , -2.74834238],\n",
              "        [ 3.98221438,  7.87066089,  0.65405054,  3.98221438,\n",
              "          7.87066089,  0.65405054]],\n",
              "\n",
              "       [[-8.13854054,  3.60798422,  0.0287366 , -8.13854054,\n",
              "          3.60798422,  0.0287366 ],\n",
              "        [-7.06542367, -3.03645089, -7.31469691, -7.06542367,\n",
              "         -3.03645089, -7.31469691]],\n",
              "\n",
              "       [[ 5.63056176, -5.707417  ,  4.07563791,  5.63056176,\n",
              "         -5.707417  ,  4.07563791],\n",
              "        [-9.33349076, -2.45003457,  8.41547415, -9.33349076,\n",
              "         -2.45003457,  8.41547415]]])>"
            ]
          },
          "metadata": {},
          "execution_count": 8
        }
      ]
    },
    {
      "cell_type": "markdown",
      "source": [
        "\\begin{equation}\n",
        "    b_{ijkl} = (a_{jkl} a_{jkl})\n",
        "\\end{equation}"
      ],
      "metadata": {
        "id": "5GZtfVFbT-5A"
      }
    },
    {
      "cell_type": "markdown",
      "source": [
        "### 次元(添字)を増やして繰り返す"
      ],
      "metadata": {
        "id": "f860_G1EiAI4"
      }
    },
    {
      "cell_type": "code",
      "source": [
        "tf.tile(tf.expand_dims(a_tensor, 0), [2, 1, 1, 1]) "
      ],
      "metadata": {
        "id": "LsORSgDCk344",
        "colab": {
          "base_uri": "https://localhost:8080/"
        },
        "outputId": "f700b4b8-6514-4335-aabb-20b28bb248b2"
      },
      "execution_count": 9,
      "outputs": [
        {
          "output_type": "execute_result",
          "data": {
            "text/plain": [
              "<tf.Tensor: shape=(2, 4, 2, 3), dtype=float64, numpy=\n",
              "array([[[[-4.91963095, -4.66853684,  8.81406452],\n",
              "         [ 4.74523416,  9.70933287, -7.63327008]],\n",
              "\n",
              "        [[-7.96193703, -8.5054882 , -2.74834238],\n",
              "         [ 3.98221438,  7.87066089,  0.65405054]],\n",
              "\n",
              "        [[-8.13854054,  3.60798422,  0.0287366 ],\n",
              "         [-7.06542367, -3.03645089, -7.31469691]],\n",
              "\n",
              "        [[ 5.63056176, -5.707417  ,  4.07563791],\n",
              "         [-9.33349076, -2.45003457,  8.41547415]]],\n",
              "\n",
              "\n",
              "       [[[-4.91963095, -4.66853684,  8.81406452],\n",
              "         [ 4.74523416,  9.70933287, -7.63327008]],\n",
              "\n",
              "        [[-7.96193703, -8.5054882 , -2.74834238],\n",
              "         [ 3.98221438,  7.87066089,  0.65405054]],\n",
              "\n",
              "        [[-8.13854054,  3.60798422,  0.0287366 ],\n",
              "         [-7.06542367, -3.03645089, -7.31469691]],\n",
              "\n",
              "        [[ 5.63056176, -5.707417  ,  4.07563791],\n",
              "         [-9.33349076, -2.45003457,  8.41547415]]]])>"
            ]
          },
          "metadata": {},
          "execution_count": 9
        }
      ]
    },
    {
      "cell_type": "markdown",
      "source": [
        "## 分割する"
      ],
      "metadata": {
        "id": "Au0hMLp9ebFI"
      }
    },
    {
      "cell_type": "code",
      "source": [
        "tf.split(a_tensor, num_or_size_splits=[-1, 1], axis=2)"
      ],
      "metadata": {
        "colab": {
          "base_uri": "https://localhost:8080/"
        },
        "id": "ULb3qFCfWcwR",
        "outputId": "99577ea7-8a17-48fd-adcd-31774d7f18af"
      },
      "execution_count": 10,
      "outputs": [
        {
          "output_type": "execute_result",
          "data": {
            "text/plain": [
              "[<tf.Tensor: shape=(4, 2, 2), dtype=float64, numpy=\n",
              " array([[[-4.91963095, -4.66853684],\n",
              "         [ 4.74523416,  9.70933287]],\n",
              " \n",
              "        [[-7.96193703, -8.5054882 ],\n",
              "         [ 3.98221438,  7.87066089]],\n",
              " \n",
              "        [[-8.13854054,  3.60798422],\n",
              "         [-7.06542367, -3.03645089]],\n",
              " \n",
              "        [[ 5.63056176, -5.707417  ],\n",
              "         [-9.33349076, -2.45003457]]])>,\n",
              " <tf.Tensor: shape=(4, 2, 1), dtype=float64, numpy=\n",
              " array([[[ 8.81406452],\n",
              "         [-7.63327008]],\n",
              " \n",
              "        [[-2.74834238],\n",
              "         [ 0.65405054]],\n",
              " \n",
              "        [[ 0.0287366 ],\n",
              "         [-7.31469691]],\n",
              " \n",
              "        [[ 4.07563791],\n",
              "         [ 8.41547415]]])>]"
            ]
          },
          "metadata": {},
          "execution_count": 10
        }
      ]
    },
    {
      "cell_type": "markdown",
      "source": [
        "## 結合する"
      ],
      "metadata": {
        "id": "r0ET4SKqocOq"
      }
    },
    {
      "cell_type": "markdown",
      "source": [
        "### 次元(添字)を増やさず結合する"
      ],
      "metadata": {
        "id": "JkqBMDvNz5ii"
      }
    },
    {
      "cell_type": "markdown",
      "source": [
        "以下の条件が必要:\n",
        "- 型が一致している\n",
        "- 結合する axis 以外が一致している"
      ],
      "metadata": {
        "id": "-wU_IV5iz9ue"
      }
    },
    {
      "cell_type": "code",
      "source": [
        "tf.concat([a_tensor, b_tensor], axis=0)"
      ],
      "metadata": {
        "id": "QdMxMjMbodiF",
        "outputId": "47778e43-52f3-4742-ab1c-b6b61862cc79",
        "colab": {
          "base_uri": "https://localhost:8080/"
        }
      },
      "execution_count": 11,
      "outputs": [
        {
          "output_type": "execute_result",
          "data": {
            "text/plain": [
              "<tf.Tensor: shape=(5, 2, 3), dtype=float64, numpy=\n",
              "array([[[-4.91963095, -4.66853684,  8.81406452],\n",
              "        [ 4.74523416,  9.70933287, -7.63327008]],\n",
              "\n",
              "       [[-7.96193703, -8.5054882 , -2.74834238],\n",
              "        [ 3.98221438,  7.87066089,  0.65405054]],\n",
              "\n",
              "       [[-8.13854054,  3.60798422,  0.0287366 ],\n",
              "        [-7.06542367, -3.03645089, -7.31469691]],\n",
              "\n",
              "       [[ 5.63056176, -5.707417  ,  4.07563791],\n",
              "        [-9.33349076, -2.45003457,  8.41547415]],\n",
              "\n",
              "       [[ 1.        ,  3.        ,  5.        ],\n",
              "        [ 7.        , 11.        , 13.        ]]])>"
            ]
          },
          "metadata": {},
          "execution_count": 11
        }
      ]
    },
    {
      "cell_type": "markdown",
      "source": [
        "## 縮小する"
      ],
      "metadata": {
        "id": "BNPN9JEWlBFw"
      }
    },
    {
      "cell_type": "markdown",
      "source": [
        "ｔｆ.extend_dim の逆は tf.squeeze"
      ],
      "metadata": {
        "id": "_iWOROtYlD0v"
      }
    },
    {
      "cell_type": "code",
      "source": [
        "tf.squeeze(tf.expand_dims(a_tensor, axis=2))"
      ],
      "metadata": {
        "colab": {
          "base_uri": "https://localhost:8080/"
        },
        "id": "IPClzd1CkAMO",
        "outputId": "d3cf1e4f-51d3-4631-8351-6d8ea9d30403"
      },
      "execution_count": 12,
      "outputs": [
        {
          "output_type": "execute_result",
          "data": {
            "text/plain": [
              "<tf.Tensor: shape=(4, 2, 3), dtype=float64, numpy=\n",
              "array([[[-4.91963095, -4.66853684,  8.81406452],\n",
              "        [ 4.74523416,  9.70933287, -7.63327008]],\n",
              "\n",
              "       [[-7.96193703, -8.5054882 , -2.74834238],\n",
              "        [ 3.98221438,  7.87066089,  0.65405054]],\n",
              "\n",
              "       [[-8.13854054,  3.60798422,  0.0287366 ],\n",
              "        [-7.06542367, -3.03645089, -7.31469691]],\n",
              "\n",
              "       [[ 5.63056176, -5.707417  ,  4.07563791],\n",
              "        [-9.33349076, -2.45003457,  8.41547415]]])>"
            ]
          },
          "metadata": {},
          "execution_count": 12
        }
      ]
    }
  ]
}