{
  "nbformat": 4,
  "nbformat_minor": 0,
  "metadata": {
    "colab": {
      "provenance": [],
      "gpuType": "T4",
      "toc_visible": true,
      "authorship_tag": "ABX9TyN2oys+5Ghyoj4Jxrj8HtId",
      "include_colab_link": true
    },
    "kernelspec": {
      "name": "python3",
      "display_name": "Python 3"
    },
    "language_info": {
      "name": "python"
    },
    "accelerator": "GPU"
  },
  "cells": [
    {
      "cell_type": "markdown",
      "metadata": {
        "id": "view-in-github",
        "colab_type": "text"
      },
      "source": [
        "<a href=\"https://colab.research.google.com/github/applejxd/colaboratory/blob/master/ml/torch/mnist_convert.ipynb\" target=\"_parent\"><img src=\"https://colab.research.google.com/assets/colab-badge.svg\" alt=\"Open In Colab\"/></a>"
      ]
    },
    {
      "cell_type": "markdown",
      "source": [
        "# MNIST 認識モデルを PyTorch で構築して変換"
      ],
      "metadata": {
        "id": "CdtJfRLDk99f"
      }
    },
    {
      "cell_type": "markdown",
      "source": [
        "[公式サンプル](https://github.com/pytorch/examples/blob/main/mnist/main.py)をベースに実装"
      ],
      "metadata": {
        "id": "npgWlwYymD-6"
      }
    },
    {
      "cell_type": "markdown",
      "source": [
        "## 事前確認"
      ],
      "metadata": {
        "id": "JBP-5GkT5wJt"
      }
    },
    {
      "cell_type": "markdown",
      "source": [
        "バージョンチェック"
      ],
      "metadata": {
        "id": "CtqNKLpKlCMk"
      }
    },
    {
      "cell_type": "code",
      "execution_count": 1,
      "metadata": {
        "colab": {
          "base_uri": "https://localhost:8080/"
        },
        "id": "9IE9CixSjhB2",
        "outputId": "cf7b8d6c-2465-4afe-9e31-dff7f054b20d"
      },
      "outputs": [
        {
          "output_type": "stream",
          "name": "stdout",
          "text": [
            "torch.__version__=2.1.0+cu118\n",
            "torch.cuda.is_available()=True\n",
            "\n",
            "torch.cuda.device_count()=True\n",
            "torch.cuda.current_device()=True\n",
            "torch.cuda.device(0)=<torch.cuda.device object at 0x7850f5862080>\n",
            "\n",
            "torch.cuda.get_device_name(0)=Tesla T4\n",
            "torch.cuda.get_device_capability()=(7, 5)\n"
          ]
        }
      ],
      "source": [
        "import torch\n",
        "\n",
        "print(f\"torch.__version__={torch.__version__}\")\n",
        "print(f\"torch.cuda.is_available()={torch.cuda.is_available()}\\n\")\n",
        "\n",
        "print(f\"torch.cuda.device_count()={torch.cuda.is_available()}\")\n",
        "print(f\"torch.cuda.current_device()={torch.cuda.is_available()}\")\n",
        "print(f\"torch.cuda.device(0)={torch.cuda.device(0)}\\n\")\n",
        "\n",
        "if torch.cuda.is_available():\n",
        "    print(f\"torch.cuda.get_device_name(0)={torch.cuda.get_device_name(0)}\")\n",
        "    print(f\"torch.cuda.get_device_capability()={torch.cuda.get_device_capability()}\")"
      ]
    },
    {
      "cell_type": "markdown",
      "source": [
        "[使用するデバイスを確認](https://colab.research.google.com/notebooks/pro.ipynb#scrollTo=23TOba33L4qf)"
      ],
      "metadata": {
        "id": "ONL0tIoB2cKx"
      }
    },
    {
      "cell_type": "code",
      "source": [
        "gpu_info = !nvidia-smi\n",
        "gpu_info = '\\n'.join(gpu_info)\n",
        "if gpu_info.find('failed') >= 0:\n",
        "  print('Not connected to a GPU')\n",
        "else:\n",
        "  print(gpu_info)"
      ],
      "metadata": {
        "id": "ZUyESmq92ezR",
        "outputId": "13f9a498-b145-476a-de50-39c4e81cb8de",
        "colab": {
          "base_uri": "https://localhost:8080/"
        }
      },
      "execution_count": 2,
      "outputs": [
        {
          "output_type": "stream",
          "name": "stdout",
          "text": [
            "Sun Nov 12 15:55:16 2023       \n",
            "+-----------------------------------------------------------------------------+\n",
            "| NVIDIA-SMI 525.105.17   Driver Version: 525.105.17   CUDA Version: 12.0     |\n",
            "|-------------------------------+----------------------+----------------------+\n",
            "| GPU  Name        Persistence-M| Bus-Id        Disp.A | Volatile Uncorr. ECC |\n",
            "| Fan  Temp  Perf  Pwr:Usage/Cap|         Memory-Usage | GPU-Util  Compute M. |\n",
            "|                               |                      |               MIG M. |\n",
            "|===============================+======================+======================|\n",
            "|   0  Tesla T4            Off  | 00000000:00:04.0 Off |                    0 |\n",
            "| N/A   59C    P8    11W /  70W |      3MiB / 15360MiB |      0%      Default |\n",
            "|                               |                      |                  N/A |\n",
            "+-------------------------------+----------------------+----------------------+\n",
            "                                                                               \n",
            "+-----------------------------------------------------------------------------+\n",
            "| Processes:                                                                  |\n",
            "|  GPU   GI   CI        PID   Type   Process name                  GPU Memory |\n",
            "|        ID   ID                                                   Usage      |\n",
            "|=============================================================================|\n",
            "|  No running processes found                                                 |\n",
            "+-----------------------------------------------------------------------------+\n"
          ]
        }
      ]
    },
    {
      "cell_type": "markdown",
      "source": [
        "seed の固定。deterministic は処理低下を起こすため注意。"
      ],
      "metadata": {
        "id": "SxIPUjmRa_xf"
      }
    },
    {
      "cell_type": "code",
      "source": [
        "import random\n",
        "import numpy as np\n",
        "\n",
        "def torch_fix_seed(seed=42):\n",
        "    # Python random\n",
        "    random.seed(seed)\n",
        "    # Numpy\n",
        "    np.random.seed(seed)\n",
        "    # Pytorch\n",
        "    torch.manual_seed(seed)\n",
        "    torch.cuda.manual_seed(seed)\n",
        "    # torch.backends.cudnn.deterministic = True\n",
        "    # torch.use_deterministic_algorithms = True\n",
        "\n",
        "torch_fix_seed()"
      ],
      "metadata": {
        "id": "TgEyv5e8bBHb"
      },
      "execution_count": 3,
      "outputs": []
    },
    {
      "cell_type": "markdown",
      "source": [
        "Tensorboard の用意"
      ],
      "metadata": {
        "id": "EdSFLrhTN6NY"
      }
    },
    {
      "cell_type": "code",
      "source": [
        "from torch.utils.tensorboard import SummaryWriter\n",
        "\n",
        "# Writer will output to ./runs/ directory by default\n",
        "writer = SummaryWriter()"
      ],
      "metadata": {
        "id": "-nvReMPJN_sp"
      },
      "execution_count": 5,
      "outputs": []
    },
    {
      "cell_type": "markdown",
      "source": [
        "## データセットの用意"
      ],
      "metadata": {
        "id": "Ym1ivrpfaxui"
      }
    },
    {
      "cell_type": "markdown",
      "source": [
        "データの読み込み"
      ],
      "metadata": {
        "id": "rkZ6Xe7U71Cd"
      }
    },
    {
      "cell_type": "code",
      "source": [
        "%%capture\n",
        "from torchvision import datasets, transforms\n",
        "\n",
        "mean, scale = 0.1307, 0.3081\n",
        "transform=transforms.Compose([\n",
        "    transforms.ToTensor(),\n",
        "    transforms.Normalize((mean,), (scale,))\n",
        "])\n",
        "\n",
        "dataset1 = datasets.MNIST(\n",
        "    '../data', train=True, download=True, transform=transform)\n",
        "dataset2 = datasets.MNIST(\n",
        "    '../data', train=False, transform=transform)"
      ],
      "metadata": {
        "id": "_KL0PVezmU2u"
      },
      "execution_count": 6,
      "outputs": []
    },
    {
      "cell_type": "markdown",
      "source": [
        "データの可視化"
      ],
      "metadata": {
        "id": "eiAhcoG978N1"
      }
    },
    {
      "cell_type": "code",
      "source": [
        "import matplotlib.pyplot as plt\n",
        "\n",
        "dataset1_data = dataset1.data.numpy()\n",
        "dataset1_targets = dataset1.targets.numpy()\n",
        "\n",
        "print(f\"dataset1_targets[0]={dataset1_targets[0]}\")\n",
        "print(f\"dataset1_data.shape={dataset1_data.shape}\")\n",
        "img = dataset1_data[0]\n",
        "plt.imshow(img)"
      ],
      "metadata": {
        "colab": {
          "base_uri": "https://localhost:8080/",
          "height": 484
        },
        "id": "DYxJOf2imuzr",
        "outputId": "4d9a2542-f749-4650-d643-1a6d30d63277"
      },
      "execution_count": 7,
      "outputs": [
        {
          "output_type": "stream",
          "name": "stdout",
          "text": [
            "dataset1_targets[0]=5\n",
            "dataset1_data.shape=(60000, 28, 28)\n"
          ]
        },
        {
          "output_type": "execute_result",
          "data": {
            "text/plain": [
              "<matplotlib.image.AxesImage at 0x784fb1441300>"
            ]
          },
          "metadata": {},
          "execution_count": 7
        },
        {
          "output_type": "display_data",
          "data": {
            "text/plain": [
              "<Figure size 640x480 with 1 Axes>"
            ],
            "image/png": "[encoded data removed]"
          },
          "metadata": {}
        }
      ]
    },
    {
      "cell_type": "markdown",
      "source": [
        "データローダの作成。\n",
        "[高速化のためのオプション](https://qiita.com/sugulu_Ogawa_ISID/items/62f5f7adee083d96a587)を設定。"
      ],
      "metadata": {
        "id": "m7-UvLMc9Hv3"
      }
    },
    {
      "cell_type": "code",
      "source": [
        "cuda_kwargs = {\n",
        "    'num_workers': 2,\n",
        "    'pin_memory': True,\n",
        "    'shuffle': True\n",
        "}\n",
        "\n",
        "train_batch_size, test_batch_size = 64, 1000\n",
        "train_kwargs = {'batch_size': train_batch_size}\n",
        "test_kwargs = {'batch_size': test_batch_size}\n",
        "\n",
        "train_kwargs.update(cuda_kwargs)\n",
        "test_kwargs.update(cuda_kwargs)\n",
        "\n",
        "train_loader = torch.utils.data.DataLoader(dataset1,**train_kwargs)\n",
        "test_loader = torch.utils.data.DataLoader(dataset2, **test_kwargs)"
      ],
      "metadata": {
        "id": "YKlXkbQJm7Xg"
      },
      "execution_count": null,
      "outputs": []
    },
    {
      "cell_type": "markdown",
      "source": [
        "## モデル作成"
      ],
      "metadata": {
        "id": "2oPLSDAxavRh"
      }
    },
    {
      "cell_type": "markdown",
      "source": [
        "モデル定義"
      ],
      "metadata": {
        "id": "MlXEO5HJ9YxI"
      }
    },
    {
      "cell_type": "code",
      "source": [
        "import torch.nn as nn\n",
        "import torch.nn.functional as F\n",
        "\n",
        "class Net(nn.Module):\n",
        "    def __init__(self):\n",
        "        super(Net, self).__init__()\n",
        "        self.conv1 = nn.Conv2d(1, 32, 3, 1)\n",
        "        self.conv2 = nn.Conv2d(32, 64, 3, 1)\n",
        "        self.dropout1 = nn.Dropout(0.25)\n",
        "        self.dropout2 = nn.Dropout(0.5)\n",
        "        self.fc1 = nn.Linear(9216, 128)\n",
        "        self.fc2 = nn.Linear(128, 10)\n",
        "\n",
        "    def forward(self, x):\n",
        "        x = self.conv1(x)\n",
        "        x = F.relu(x)\n",
        "        x = self.conv2(x)\n",
        "        x = F.relu(x)\n",
        "        x = F.max_pool2d(x, 2)\n",
        "        x = self.dropout1(x)\n",
        "        x = torch.flatten(x, 1)\n",
        "        x = self.fc1(x)\n",
        "        x = F.relu(x)\n",
        "        x = self.dropout2(x)\n",
        "        x = self.fc2(x)\n",
        "        output = F.log_softmax(x, dim=1)\n",
        "        return output"
      ],
      "metadata": {
        "id": "cY1Nb4iy9ZcX"
      },
      "execution_count": null,
      "outputs": []
    },
    {
      "cell_type": "markdown",
      "source": [
        "モデルのインスタンスを作成"
      ],
      "metadata": {
        "id": "T9vQjCdn_5Z7"
      }
    },
    {
      "cell_type": "code",
      "source": [
        "device_str = \"cuda\" if torch.cuda.is_available() else \"cpu\"\n",
        "print(f\"Use device={device_str}\")\n",
        "device = torch.device(device_str)\n",
        "\n",
        "model = Net().to(device)"
      ],
      "metadata": {
        "id": "IRJLCiFN9nxV"
      },
      "execution_count": null,
      "outputs": []
    },
    {
      "cell_type": "markdown",
      "source": [
        "単一データで推論する関数を定義。推論前に `model.eval()` が必要なことに注意。"
      ],
      "metadata": {
        "id": "5GXkFosubTPS"
      }
    },
    {
      "cell_type": "code",
      "source": [
        "def single_inference(model, idx):\n",
        "    # slice only 1 data\n",
        "    img = dataset1.data[[idx], ...].to(device)\n",
        "    # add channel axis (size 1)\n",
        "    img = img[:, None, ...]\n",
        "    # normalization\n",
        "    img = (img - mean) / scale\n",
        "\n",
        "    print(f\"input data shape = {img.shape}\")\n",
        "\n",
        "    # use inference mode\n",
        "    # (otherwise 32 batch size needed)\n",
        "    model.eval()\n",
        "    with torch.no_grad():\n",
        "        probs = model(img)\n",
        "\n",
        "    # get highest probability\n",
        "    inference = probs.argmax(dim=1, keepdim=True)[0, 0]\n",
        "    answer = dataset1.targets[idx]\n",
        "\n",
        "    print(f\"inference={inference}\")\n",
        "    print(f\"answer={answer}\")"
      ],
      "metadata": {
        "id": "PQ-w2ZtdaON7"
      },
      "execution_count": null,
      "outputs": []
    },
    {
      "cell_type": "markdown",
      "source": [
        "実際に推論。未学習なので不正解。"
      ],
      "metadata": {
        "id": "zOSkNEs5bW5H"
      }
    },
    {
      "cell_type": "code",
      "source": [
        "single_inference(model, idx=0)"
      ],
      "metadata": {
        "id": "e4ElM2MPbZnF"
      },
      "execution_count": null,
      "outputs": []
    },
    {
      "cell_type": "markdown",
      "source": [
        "## 学習"
      ],
      "metadata": {
        "id": "7oAnlffUasZ6"
      }
    },
    {
      "cell_type": "markdown",
      "source": [
        "最適化手法を定義"
      ],
      "metadata": {
        "id": "na1sdxMgAIsB"
      }
    },
    {
      "cell_type": "code",
      "source": [
        "import torch.optim as optim\n",
        "from torch.optim.lr_scheduler import StepLR\n",
        "\n",
        "lr = 1.0\n",
        "gamma = 0.7\n",
        "optimizer = optim.Adadelta(model.parameters(), lr=lr)\n",
        "scheduler = StepLR(optimizer, step_size=1, gamma=gamma)"
      ],
      "metadata": {
        "id": "XpbCtU8E_nQ4"
      },
      "execution_count": null,
      "outputs": []
    },
    {
      "cell_type": "markdown",
      "source": [
        "学習方法を定義"
      ],
      "metadata": {
        "id": "rpvHlmpwMAZQ"
      }
    },
    {
      "cell_type": "code",
      "source": [
        "log_interval = 10\n",
        "dry_run = False\n",
        "amp_dtype = torch.float16 if device_str == \"cuda\" else torch.bfloat16\n",
        "\n",
        "def train(model, device, train_loader, optimizer, epoch):\n",
        "    model.train()\n",
        "\n",
        "    # AMP: Automatic Mixed Precision\n",
        "    scaler = torch.cuda.amp.GradScaler()\n",
        "\n",
        "    for batch_idx, (data, target) in enumerate(train_loader):\n",
        "        # data transfer\n",
        "        data, target = data.to(device), target.to(device)\n",
        "\n",
        "        optimizer.zero_grad()\n",
        "\n",
        "        # AMP: Automatic Mixed Precision\n",
        "        with torch.amp.autocast(device_str, dtype=amp_dtype):\n",
        "            # inference\n",
        "            output = model(data)\n",
        "            # nll = negative log likelihood loss\n",
        "            loss = F.nll_loss(output, target)\n",
        "\n",
        "        writer.add_scalar(\"Loss/train\", loss, epoch)\n",
        "\n",
        "        # back propagation\n",
        "        scaler.scale(loss).backward()\n",
        "        # gradient decent\n",
        "        scaler.step(optimizer)\n",
        "        # update scale\n",
        "        scaler.update()\n",
        "\n",
        "#        if batch_idx % log_interval != 0:\n",
        "#            continue\n",
        "\n",
        "#        print('Train Epoch: {} [{}/{} ({:.0f}%)]\\tLoss: {:.6f}'.format(\n",
        "#            epoch, batch_idx * len(data), len(train_loader.dataset),\n",
        "#            100. * batch_idx / len(train_loader), loss.item()))\n",
        "\n",
        "#        if dry_run:\n",
        "#            break"
      ],
      "metadata": {
        "id": "xtZvqbdyAGzl"
      },
      "execution_count": null,
      "outputs": []
    },
    {
      "cell_type": "markdown",
      "source": [
        "推論・バリデーション"
      ],
      "metadata": {
        "id": "IENi3VgUbeGG"
      }
    },
    {
      "cell_type": "code",
      "source": [
        "def test(model, device, test_loader):\n",
        "    model.eval()\n",
        "\n",
        "    test_loss = 0\n",
        "    correct = 0\n",
        "    with torch.no_grad():\n",
        "        for data, target in test_loader:\n",
        "            data, target = data.to(device), target.to(device)\n",
        "\n",
        "            output = model(data)\n",
        "            # sum up batch loss\n",
        "            test_loss += F.nll_loss(output, target, reduction='sum').item()\n",
        "            # get the index of the max log-probability\n",
        "            pred = output.argmax(dim=1, keepdim=True)\n",
        "            correct += pred.eq(target.view_as(pred)).sum().item()\n",
        "\n",
        "    test_loss /= len(test_loader.dataset)\n",
        "\n",
        "    # print(f\"Test set: Average loss: {test_loss:.4f}, Accuracy: {correct}/{len(test_loader.dataset)} ({100. * correct / len(test_loader.dataset):.3f}%)\")"
      ],
      "metadata": {
        "id": "_l9bjrQzN8mr"
      },
      "execution_count": null,
      "outputs": []
    },
    {
      "cell_type": "markdown",
      "source": [
        "学習を実行"
      ],
      "metadata": {
        "id": "EzJeYxj9bjzM"
      }
    },
    {
      "cell_type": "code",
      "source": [
        "from tqdm import tqdm\n",
        "\n",
        "epochs = 14\n",
        "for epoch in tqdm(range(1, epochs + 1)):\n",
        "    train(model, device, train_loader, optimizer, epoch)\n",
        "    test(model, device, test_loader)\n",
        "    scheduler.step()\n",
        "\n",
        "writer.flush()"
      ],
      "metadata": {
        "id": "9DZzjZdgONRl"
      },
      "execution_count": null,
      "outputs": []
    },
    {
      "cell_type": "markdown",
      "source": [
        "Tensorboard の起動。\n",
        "Chrome との相性が悪いため [Tips](https://github.com/googlecolab/colabtools/issues/3990#issuecomment-1782676249) を利用。"
      ],
      "metadata": {
        "id": "tz4ViDSYQ3Mu"
      }
    },
    {
      "cell_type": "code",
      "source": [
        "%%capture\n",
        "\n",
        "%load_ext tensorboard\n",
        "# Start tensorboard\n",
        "# Please ignore the error page in the output and go to the next cell\n",
        "%tensorboard --logdir ./logs --host=127.0.0.1 --port=6006 --load_fast=false"
      ],
      "metadata": {
        "id": "ybxiNsJ7OHo-"
      },
      "execution_count": null,
      "outputs": []
    },
    {
      "cell_type": "markdown",
      "source": [
        "外部リンクから Tensorboard にアクセス"
      ],
      "metadata": {
        "id": "fZ7YMD2URQYp"
      }
    },
    {
      "cell_type": "code",
      "source": [
        "# Access tensorboard via colab's proxy\n",
        "# Click the link that appears in the output\n",
        "from google.colab import output\n",
        "output.serve_kernel_port_as_window(6006, path=\"\")"
      ],
      "metadata": {
        "id": "flivFxYbQYnN"
      },
      "execution_count": null,
      "outputs": []
    },
    {
      "cell_type": "markdown",
      "source": [
        "モデルの保存。対象は元のモデル。"
      ],
      "metadata": {
        "id": "QiR1m3drcMg5"
      }
    },
    {
      "cell_type": "code",
      "source": [
        "torch.save(model.state_dict(), \"mnist_cnn.pth\")"
      ],
      "metadata": {
        "id": "S9vmJLdocLDL"
      },
      "execution_count": null,
      "outputs": []
    },
    {
      "cell_type": "markdown",
      "source": [
        "## 推論"
      ],
      "metadata": {
        "id": "eRmwlK3uapKX"
      }
    },
    {
      "cell_type": "markdown",
      "source": [
        "保存したモデルのロード"
      ],
      "metadata": {
        "id": "Wh4KFVrPcner"
      }
    },
    {
      "cell_type": "code",
      "source": [
        "model = Net().to(device)\n",
        "model.load_state_dict(torch.load('mnist_cnn.pth'))"
      ],
      "metadata": {
        "id": "a-RXTXNxcp6Z"
      },
      "execution_count": null,
      "outputs": []
    },
    {
      "cell_type": "markdown",
      "source": [
        "推論を実施"
      ],
      "metadata": {
        "id": "TApM_4MDbSOf"
      }
    },
    {
      "cell_type": "code",
      "source": [
        "single_inference(model, idx=0)"
      ],
      "metadata": {
        "id": "B373mx2RSyFN"
      },
      "execution_count": null,
      "outputs": []
    },
    {
      "cell_type": "markdown",
      "source": [
        "## 別形式への変換"
      ],
      "metadata": {
        "id": "ejZYlLQ6jfLv"
      }
    },
    {
      "cell_type": "markdown",
      "source": [
        "[ここ](https://qiita.com/hirune924/items/06520f44927b0844a86c)を参照"
      ],
      "metadata": {
        "id": "KiZ1y7YkjitP"
      }
    },
    {
      "cell_type": "markdown",
      "source": [
        "### TorchScript"
      ],
      "metadata": {
        "id": "KBHSLPB3jPg3"
      }
    },
    {
      "cell_type": "markdown",
      "source": [
        "[Scripting による変換](https://rarejob-tech-dept.hatenablog.com/entry/2022/07/29/190000)"
      ],
      "metadata": {
        "id": "TKOcPheElvmJ"
      }
    },
    {
      "cell_type": "code",
      "source": [
        "script_model = torch.jit.script(model)\n",
        "script_model.save(\"mnist_cnn_script.pth\")\n",
        "script_model = torch.jit.load(\"mnist_cnn_script.pth\")\n",
        "single_inference(script_model, idx=0)"
      ],
      "metadata": {
        "id": "DYu2pXPYhF1t"
      },
      "execution_count": null,
      "outputs": []
    },
    {
      "cell_type": "markdown",
      "source": [
        "### ONNX"
      ],
      "metadata": {
        "id": "Fx8UoUVTsZtV"
      }
    },
    {
      "cell_type": "markdown",
      "source": [
        "[ここを参照](https://colab.research.google.com/drive/13CxIsi4CfV-Cn40B9xnAfka9NqzSjk84?usp=sharing)"
      ],
      "metadata": {
        "id": "_pJVJcxksbxD"
      }
    },
    {
      "cell_type": "markdown",
      "source": [
        "torch.onnx の利用に onnx ライブラリが必要。\n",
        "GPUでの実行は onnxruntime-gpu をインストール。"
      ],
      "metadata": {
        "id": "YKNenC_k5Q1b"
      }
    },
    {
      "cell_type": "code",
      "source": [
        "%%capture\n",
        "!pip install onnx\n",
        "!pip install onnxruntime-gpu"
      ],
      "metadata": {
        "id": "n2Hqz2o4hGju"
      },
      "execution_count": null,
      "outputs": []
    },
    {
      "cell_type": "markdown",
      "source": [
        "ダミーの入力を利用して変換・出力"
      ],
      "metadata": {
        "id": "KRtnVJlNtlvG"
      }
    },
    {
      "cell_type": "code",
      "source": [
        "def get_dummy_input(model, idx):\n",
        "    # slice only 1 data\n",
        "    img = dataset1.data[[idx], ...].to(device)\n",
        "    # add channel axis (size 1)\n",
        "    img = img[:, None, ...]\n",
        "    # normalization\n",
        "    img = (img - mean) / scale\n",
        "    return img\n",
        "\n",
        "dummy_input = get_dummy_input(model, idx=0)\n",
        "torch.onnx.export(model, dummy_input, \"mnist_cnn.onnx\", verbose=True,\n",
        "                  # for ONNX -> TensorFlow\n",
        "                  input_names=['input'], output_names=['output'])"
      ],
      "metadata": {
        "id": "uwfa7SS5sg0D"
      },
      "execution_count": null,
      "outputs": []
    },
    {
      "cell_type": "markdown",
      "source": [
        "[ロードしてモデルの確認](https://qiita.com/studio_haneya/items/be9bc7c56af44b7c1e0a#4-2-%E3%83%A2%E3%83%87%E3%83%AB%E3%81%AE%E6%BA%96%E5%82%99)"
      ],
      "metadata": {
        "id": "IuLxXzyWv0oH"
      }
    },
    {
      "cell_type": "code",
      "source": [
        "import onnx\n",
        "\n",
        "onnx_model = onnx.load(\"mnist_cnn.onnx\")\n",
        "\n",
        "onnx.checker.check_model(onnx_model)\n",
        "print(onnx.helper.printable_graph(onnx_model.graph))"
      ],
      "metadata": {
        "id": "kSk7FQ_BvM_d"
      },
      "execution_count": null,
      "outputs": []
    },
    {
      "cell_type": "markdown",
      "source": [
        "セッション作成"
      ],
      "metadata": {
        "id": "k_ZJJz7Yz7Ev"
      }
    },
    {
      "cell_type": "code",
      "source": [
        "import onnxruntime\n",
        "\n",
        "sess = onnxruntime.InferenceSession(\n",
        "    \"mnist_cnn.onnx\", providers=['CUDAExecutionProvider', 'CPUExecutionProvider'])"
      ],
      "metadata": {
        "id": "nocNX58_tGnF"
      },
      "execution_count": null,
      "outputs": []
    },
    {
      "cell_type": "markdown",
      "source": [
        "[推論を実施](https://colab.research.google.com/github/YutaroOgawa/pytorch_tutorials_jp/blob/main/notebook/5_Deployment/5_4_super_resolution_with_onnxruntime_jp.ipynb#scrollTo=MRcd4bt0cnAt)"
      ],
      "metadata": {
        "id": "8CXz2aWi1Z5c"
      }
    },
    {
      "cell_type": "code",
      "source": [
        "def to_numpy(tensor):\n",
        "    return tensor.detach().cpu().numpy() if tensor.requires_grad else tensor.cpu().numpy()\n",
        "\n",
        "def onnx_single_inference(idx):\n",
        "    # slice only 1 data\n",
        "    img = dataset1.data[[idx], ...]\n",
        "    # add channel axis (size 1)\n",
        "    img = img[:, None, ...]\n",
        "    # normalization\n",
        "    img = (img - mean) / scale\n",
        "    img = to_numpy(img)\n",
        "\n",
        "    print(f\"input data shape = {img.shape}\")\n",
        "\n",
        "    ort_inputs = {sess.get_inputs()[0].name: img}\n",
        "    probs = sess.run(None, ort_inputs)\n",
        "\n",
        "    # get highest probability\n",
        "    inference = np.argmax(np.array(probs))\n",
        "    answer = dataset1.targets[idx]\n",
        "\n",
        "    print(f\"inference={inference}\")\n",
        "    print(f\"answer={answer}\")\n",
        "\n",
        "onnx_single_inference(idx=0)"
      ],
      "metadata": {
        "id": "2SYQwohf0FvP"
      },
      "execution_count": null,
      "outputs": []
    },
    {
      "cell_type": "markdown",
      "source": [
        "### TensorFlow"
      ],
      "metadata": {
        "id": "CyOduinD13_M"
      }
    },
    {
      "cell_type": "markdown",
      "source": [
        "[onnx-tensorflow](https://github.com/onnx/onnx-tensorflow) をインストール"
      ],
      "metadata": {
        "id": "pK5RTtXi4Csc"
      }
    },
    {
      "cell_type": "code",
      "source": [
        "%%capture\n",
        "!pip install onnx-tf"
      ],
      "metadata": {
        "id": "RwZt-XYV1doo"
      },
      "execution_count": null,
      "outputs": []
    },
    {
      "cell_type": "markdown",
      "source": [
        "[ここ](https://colab.research.google.com/drive/13CxIsi4CfV-Cn40B9xnAfka9NqzSjk84?usp=sharing#scrollTo=_EH_Sd64nE9p)を参考にONNXのモデルを読み込み。\n",
        "[ここ](https://github.com/onnx/onnx-tensorflow/blob/main/doc/API.md)からTFのモデルへ変換。"
      ],
      "metadata": {
        "id": "M8jYCj6r4GAN"
      }
    },
    {
      "cell_type": "code",
      "source": [
        "from onnx_tf.backend import prepare\n",
        "\n",
        "# onnx_tf.backend_rep.TensorflowRep\n",
        "tf_rep_model = prepare(onnx_model)\n",
        "# save TF model\n",
        "tf_rep_model.export_graph(\"mnist_cnn_tf\")"
      ],
      "metadata": {
        "id": "gHHVyzgt2Kyk"
      },
      "execution_count": null,
      "outputs": []
    },
    {
      "cell_type": "markdown",
      "source": [
        "TensorflowRep のまま推論"
      ],
      "metadata": {
        "id": "L37N0dYCBEMZ"
      }
    },
    {
      "cell_type": "code",
      "source": [
        "def tf_rep_single_inference(idx):\n",
        "    # slice only 1 data\n",
        "    img = dataset1.data[[idx], ...]\n",
        "    # add channel axis (size 1)\n",
        "    img = img[:, None, ...]\n",
        "    # normalization\n",
        "    img = (img - mean) / scale\n",
        "    img = to_numpy(img)\n",
        "\n",
        "    print(f\"input data shape = {img.shape}\")\n",
        "\n",
        "    probs = tf_rep_model.run(img)\n",
        "\n",
        "    # get highest probability\n",
        "    inference = np.argmax(np.array(probs))\n",
        "    answer = dataset1.targets[idx]\n",
        "\n",
        "    print(f\"inference={inference}\")\n",
        "    print(f\"answer={answer}\")\n",
        "\n",
        "tf_rep_single_inference(idx=0)"
      ],
      "metadata": {
        "id": "M1iPjQyb4SWJ"
      },
      "execution_count": null,
      "outputs": []
    },
    {
      "cell_type": "markdown",
      "source": [
        "TenforFlow のモデルと推論機能を読み込み"
      ],
      "metadata": {
        "id": "cra8U_XEBHI_"
      }
    },
    {
      "cell_type": "code",
      "source": [
        "import tensorflow as tf\n",
        "\n",
        "tf_model = tf.saved_model.load(\"mnist_cnn_tf\")\n",
        "infer = tf_model.signatures[\"serving_default\"]"
      ],
      "metadata": {
        "id": "Pu7nxHiU6x_O"
      },
      "execution_count": null,
      "outputs": []
    },
    {
      "cell_type": "markdown",
      "source": [
        "出力形式を確認しておく"
      ],
      "metadata": {
        "id": "1NU7SytMBKt2"
      }
    },
    {
      "cell_type": "code",
      "source": [
        "tf_infer = tf_model.signatures[\"serving_default\"]\n",
        "print(tf_infer.structured_outputs)"
      ],
      "metadata": {
        "id": "ItYHXueyAmU-"
      },
      "execution_count": null,
      "outputs": []
    },
    {
      "cell_type": "markdown",
      "source": [
        "推論を実施"
      ],
      "metadata": {
        "id": "jw56NMOzBMtt"
      }
    },
    {
      "cell_type": "code",
      "source": [
        "def tf_single_inference(idx):\n",
        "    # slice only 1 data\n",
        "    img = dataset1.data[[idx], ...]\n",
        "    # add channel axis (size 1)\n",
        "    img = img[:, None, ...]\n",
        "    # normalization\n",
        "    img = (img - mean) / scale\n",
        "    img = to_numpy(img)\n",
        "\n",
        "    print(f\"input data shape = {img.shape}\")\n",
        "\n",
        "    output_name = tf_infer.structured_outputs[\"output\"].name\n",
        "    probs = tf_infer(tf.constant(img))[output_name]\n",
        "\n",
        "    # get highest probability\n",
        "    inference = np.argmax(np.array(probs))\n",
        "    answer = dataset1.targets[idx]\n",
        "\n",
        "    print(f\"inference={inference}\")\n",
        "    print(f\"answer={answer}\")\n",
        "\n",
        "tf_single_inference(idx=0)"
      ],
      "metadata": {
        "id": "1Psfsijf92Cy"
      },
      "execution_count": null,
      "outputs": []
    },
    {
      "cell_type": "markdown",
      "source": [
        "### TFLite"
      ],
      "metadata": {
        "id": "mXc3z3D3Bchb"
      }
    },
    {
      "cell_type": "code",
      "source": [
        "converter = tf.lite.TFLiteConverter.from_saved_model(\"mnist_cnn_tf\")\n",
        "tflite_model = converter.convert()\n",
        "open(\"mnist_cnn.tflite\", \"wb\").write(tflite_model)"
      ],
      "metadata": {
        "id": "O4iaCc5XAaFK"
      },
      "execution_count": null,
      "outputs": []
    },
    {
      "cell_type": "markdown",
      "source": [
        "[ここ](https://qiita.com/yohachi/items/434f0da356161e82c242)を参考にモデルの読み込み"
      ],
      "metadata": {
        "id": "2qiV86XhCRxv"
      }
    },
    {
      "cell_type": "code",
      "source": [
        "# TFLiteモデルの読み込み\n",
        "tfl_model = tf.lite.Interpreter(model_path=\"mnist_cnn.tflite\")\n",
        "# メモリ確保。これはモデル読み込み直後に必須\n",
        "tfl_model.allocate_tensors()"
      ],
      "metadata": {
        "id": "RAu3L3OPBjjh"
      },
      "execution_count": null,
      "outputs": []
    },
    {
      "cell_type": "markdown",
      "source": [
        "入力形式について確認"
      ],
      "metadata": {
        "id": "h3IoMpHGDIke"
      }
    },
    {
      "cell_type": "code",
      "source": [
        "tfl_model.get_input_details()"
      ],
      "metadata": {
        "id": "sOZFGD_LC4GQ"
      },
      "execution_count": null,
      "outputs": []
    },
    {
      "cell_type": "code",
      "source": [
        "def tfl_single_inference(idx):\n",
        "    # slice only 1 data\n",
        "    img = dataset1.data[[idx], ...]\n",
        "    # add channel axis (size 1)\n",
        "    img = img[:, None, ...]\n",
        "    # normalization\n",
        "    img = (img - mean) / scale\n",
        "    img = to_numpy(img)\n",
        "\n",
        "    print(f\"input data shape = {img.shape}\")\n",
        "\n",
        "    # indexにテンソルデータのポインタをセット\n",
        "    input_details = tfl_model.get_input_details()\n",
        "    tfl_model.set_tensor(input_details[0]['index'], img)\n",
        "\n",
        "    # 推論実行\n",
        "    tfl_model.invoke()\n",
        "\n",
        "    # 推論結果は、output_detailsのindexに保存されている\n",
        "    output_details = tfl_model.get_output_details()\n",
        "    probs = tfl_model.get_tensor(output_details[0]['index'])\n",
        "\n",
        "    # get highest probability\n",
        "    inference = np.argmax(np.array(probs))\n",
        "    answer = dataset1.targets[idx]\n",
        "\n",
        "    print(f\"inference={inference}\")\n",
        "    print(f\"answer={answer}\")\n",
        "\n",
        "\n",
        "tfl_single_inference(idx=0)"
      ],
      "metadata": {
        "id": "qyLvtRw2CxPh"
      },
      "execution_count": null,
      "outputs": []
    },
    {
      "cell_type": "markdown",
      "source": [
        "### OpenVINO"
      ],
      "metadata": {
        "id": "TDd6cTpkHJWB"
      }
    },
    {
      "cell_type": "code",
      "source": [
        "%%capture\n",
        "!pip install openvino\n",
        "!pip install openvino-dev"
      ],
      "metadata": {
        "id": "7tp0LPu1EtQe"
      },
      "execution_count": null,
      "outputs": []
    },
    {
      "cell_type": "markdown",
      "source": [
        "PyTorch から OpenVINO のモデルへ変換"
      ],
      "metadata": {
        "id": "bfqMACjlLpTy"
      }
    },
    {
      "cell_type": "code",
      "source": [
        "from openvino.tools.mo import convert_model\n",
        "\n",
        "ov_model = convert_model(model, example_input=dummy_input)"
      ],
      "metadata": {
        "id": "yUAZ-EE6HMTQ"
      },
      "execution_count": null,
      "outputs": []
    },
    {
      "cell_type": "code",
      "source": [
        "import openvino as ov\n",
        "import ipywidgets as widgets\n",
        "\n",
        "core = ov.Core()\n",
        "device = widgets.Dropdown(\n",
        "    options=core.available_devices + [\"AUTO\"],\n",
        "    value='AUTO',\n",
        "    description='Device:',\n",
        "    disabled=False,\n",
        ")\n",
        "print(device)"
      ],
      "metadata": {
        "id": "quxFX4uBL7t6"
      },
      "execution_count": null,
      "outputs": []
    },
    {
      "cell_type": "markdown",
      "source": [
        "コンパイルを実施"
      ],
      "metadata": {
        "id": "l2tYXJJBNbQf"
      }
    },
    {
      "cell_type": "code",
      "source": [
        "ov_compiled_model = core.compile_model(model=ov_model, device_name=device.value)"
      ],
      "metadata": {
        "id": "Vm4hk6tTMtLS"
      },
      "execution_count": null,
      "outputs": []
    },
    {
      "cell_type": "markdown",
      "source": [
        "推論"
      ],
      "metadata": {
        "id": "pJc5MrQINcyc"
      }
    },
    {
      "cell_type": "code",
      "source": [
        "def ov_single_inference(idx):\n",
        "    # slice only 1 data\n",
        "    img = dataset1.data[[idx], ...]\n",
        "    # add channel axis (size 1)\n",
        "    img = img[:, None, ...]\n",
        "    # normalization\n",
        "    img = (img - mean) / scale\n",
        "    img = to_numpy(img)\n",
        "\n",
        "    print(f\"input data shape = {img.shape}\")\n",
        "\n",
        "    probs = ov_compiled_model([img])[0]\n",
        "    print(probs)\n",
        "\n",
        "    # get highest probability\n",
        "    inference = np.argmax(np.array(probs))\n",
        "    answer = dataset1.targets[idx]\n",
        "\n",
        "    print(f\"inference={inference}\")\n",
        "    print(f\"answer={answer}\")\n",
        "\n",
        "ov_single_inference(idx=0)"
      ],
      "metadata": {
        "id": "rc0blzroK0tP"
      },
      "execution_count": null,
      "outputs": []
    },
    {
      "cell_type": "markdown",
      "source": [
        "### MyriadX blob for OAK-D camera"
      ],
      "metadata": {
        "id": "PPmqh6e1UorO"
      }
    },
    {
      "cell_type": "code",
      "source": [
        "%%capture\n",
        "!pip install blobconverter"
      ],
      "metadata": {
        "id": "idrlLkB5VUDs"
      },
      "execution_count": null,
      "outputs": []
    },
    {
      "cell_type": "markdown",
      "source": [
        "[ここ](https://docs.luxonis.com/en/latest/pages/model_conversion/)に従って Web API で変換。\n",
        "ローカルのコンパイルが必要な場合は[ここ](https://docs.luxonis.com/en/latest/pages/tutorials/local_convert_openvino/)を参照。"
      ],
      "metadata": {
        "id": "zpBDSIcvWaj4"
      }
    },
    {
      "cell_type": "code",
      "source": [
        "import blobconverter\n",
        "\n",
        "blob_path = blobconverter.from_onnx(\n",
        "    model=\"mnist_cnn.onnx\",\n",
        "    data_type=\"FP16\",\n",
        "    shaves=5,\n",
        "    optimizer_params=[\n",
        "        \"--input_shape=[1,1,28,28]\",\n",
        "    ]\n",
        ")"
      ],
      "metadata": {
        "id": "YGsTtImFV09b"
      },
      "execution_count": null,
      "outputs": []
    },
    {
      "cell_type": "code",
      "source": [
        "blob_path"
      ],
      "metadata": {
        "id": "QZcCA1BK4KRB"
      },
      "execution_count": null,
      "outputs": []
    }
  ]
}