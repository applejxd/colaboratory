{
  "nbformat": 4,
  "nbformat_minor": 0,
  "metadata": {
    "colab": {
      "provenance": [],
      "gpuType": "T4",
      "toc_visible": true,
      "authorship_tag": "ABX9TyNVZUj8Hv0YNHbgYSQd6JUO",
      "include_colab_link": true
    },
    "kernelspec": {
      "name": "python3",
      "display_name": "Python 3"
    },
    "language_info": {
      "name": "python"
    },
    "accelerator": "GPU"
  },
  "cells": [
    {
      "cell_type": "markdown",
      "metadata": {
        "id": "view-in-github",
        "colab_type": "text"
      },
      "source": [
        "<a href=\"https://colab.research.google.com/github/applejxd/colaboratory/blob/master/ml/torch/mnist.ipynb\" target=\"_parent\"><img src=\"https://colab.research.google.com/assets/colab-badge.svg\" alt=\"Open In Colab\"/></a>"
      ]
    },
    {
      "cell_type": "markdown",
      "source": [
        "# PyTorch で MNIST"
      ],
      "metadata": {
        "id": "CdtJfRLDk99f"
      }
    },
    {
      "cell_type": "markdown",
      "source": [
        "[公式サンプル](https://github.com/pytorch/examples/blob/main/mnist/main.py)をベースに実装"
      ],
      "metadata": {
        "id": "npgWlwYymD-6"
      }
    },
    {
      "cell_type": "markdown",
      "source": [
        "## 事前確認"
      ],
      "metadata": {
        "id": "JBP-5GkT5wJt"
      }
    },
    {
      "cell_type": "markdown",
      "source": [
        "バージョンチェック"
      ],
      "metadata": {
        "id": "CtqNKLpKlCMk"
      }
    },
    {
      "cell_type": "code",
      "execution_count": 1,
      "metadata": {
        "colab": {
          "base_uri": "https://localhost:8080/"
        },
        "id": "9IE9CixSjhB2",
        "outputId": "0b9f15c5-2b9d-488a-c7b3-a488f5f53ba5"
      },
      "outputs": [
        {
          "output_type": "stream",
          "name": "stdout",
          "text": [
            "torch.__version__=2.1.0+cu118\n",
            "torch.cuda.is_available()=True\n",
            "\n",
            "torch.cuda.device_count()=True\n",
            "torch.cuda.current_device()=True\n",
            "torch.cuda.device(0)=<torch.cuda.device object at 0x79ae89959120>\n",
            "\n",
            "torch.cuda.get_device_name(0)=Tesla T4\n",
            "torch.cuda.get_device_capability()=(7, 5)\n"
          ]
        }
      ],
      "source": [
        "import torch\n",
        "\n",
        "print(f\"torch.__version__={torch.__version__}\")\n",
        "print(f\"torch.cuda.is_available()={torch.cuda.is_available()}\\n\")\n",
        "\n",
        "print(f\"torch.cuda.device_count()={torch.cuda.is_available()}\")\n",
        "print(f\"torch.cuda.current_device()={torch.cuda.is_available()}\")\n",
        "print(f\"torch.cuda.device(0)={torch.cuda.device(0)}\\n\")\n",
        "\n",
        "if torch.cuda.is_available():\n",
        "    print(f\"torch.cuda.get_device_name(0)={torch.cuda.get_device_name(0)}\")\n",
        "    print(f\"torch.cuda.get_device_capability()={torch.cuda.get_device_capability()}\")"
      ]
    },
    {
      "cell_type": "markdown",
      "source": [
        "seed の固定。deterministic は処理低下を起こすため注意。"
      ],
      "metadata": {
        "id": "SxIPUjmRa_xf"
      }
    },
    {
      "cell_type": "code",
      "source": [
        "import random\n",
        "import numpy as np\n",
        "\n",
        "def torch_fix_seed(seed=42):\n",
        "    # Python random\n",
        "    random.seed(seed)\n",
        "    # Numpy\n",
        "    np.random.seed(seed)\n",
        "    # Pytorch\n",
        "    torch.manual_seed(seed)\n",
        "    torch.cuda.manual_seed(seed)\n",
        "    # torch.backends.cudnn.deterministic = True\n",
        "    # torch.use_deterministic_algorithms = True\n",
        "\n",
        "\n",
        "torch_fix_seed()"
      ],
      "metadata": {
        "id": "TgEyv5e8bBHb"
      },
      "execution_count": 2,
      "outputs": []
    },
    {
      "cell_type": "markdown",
      "source": [
        "Tensorboard の用意"
      ],
      "metadata": {
        "id": "EdSFLrhTN6NY"
      }
    },
    {
      "cell_type": "code",
      "source": [
        "from torch.utils.tensorboard import SummaryWriter\n",
        "\n",
        "# Writer will output to ./runs/ directory by default\n",
        "writer = SummaryWriter()"
      ],
      "metadata": {
        "id": "-nvReMPJN_sp"
      },
      "execution_count": 3,
      "outputs": []
    },
    {
      "cell_type": "markdown",
      "source": [
        "## データセットの用意"
      ],
      "metadata": {
        "id": "Ym1ivrpfaxui"
      }
    },
    {
      "cell_type": "markdown",
      "source": [
        "データの読み込み"
      ],
      "metadata": {
        "id": "rkZ6Xe7U71Cd"
      }
    },
    {
      "cell_type": "code",
      "source": [
        "%%capture\n",
        "from torchvision import datasets, transforms\n",
        "\n",
        "mean, scale = 0.1307, 0.3081\n",
        "transform=transforms.Compose([\n",
        "    transforms.ToTensor(),\n",
        "    transforms.Normalize((mean,), (scale,))\n",
        "])\n",
        "dataset1 = datasets.MNIST(\n",
        "    '../data', train=True, download=True, transform=transform)\n",
        "dataset2 = datasets.MNIST(\n",
        "    '../data', train=False, transform=transform)"
      ],
      "metadata": {
        "id": "_KL0PVezmU2u"
      },
      "execution_count": 4,
      "outputs": []
    },
    {
      "cell_type": "markdown",
      "source": [
        "データの可視化"
      ],
      "metadata": {
        "id": "eiAhcoG978N1"
      }
    },
    {
      "cell_type": "code",
      "source": [
        "import matplotlib.pyplot as plt\n",
        "\n",
        "dataset1_data = dataset1.data.numpy()\n",
        "dataset1_targets = dataset1.targets.numpy()\n",
        "\n",
        "print(f\"answer={dataset1_targets[0]}\")\n",
        "img = dataset1_data[0]\n",
        "plt.imshow(img)"
      ],
      "metadata": {
        "colab": {
          "base_uri": "https://localhost:8080/",
          "height": 466
        },
        "id": "DYxJOf2imuzr",
        "outputId": "9c6341ea-bda3-4986-b2d6-b790fcbc449a"
      },
      "execution_count": 5,
      "outputs": [
        {
          "output_type": "stream",
          "name": "stdout",
          "text": [
            "answer=5\n"
          ]
        },
        {
          "output_type": "execute_result",
          "data": {
            "text/plain": [
              "<matplotlib.image.AxesImage at 0x79ad41ff5e40>"
            ]
          },
          "metadata": {},
          "execution_count": 5
        },
        {
          "output_type": "display_data",
          "data": {
            "text/plain": [
              "<Figure size 640x480 with 1 Axes>"
            ],
            "image/png": "[encoded data removed]"
          },
          "metadata": {}
        }
      ]
    },
    {
      "cell_type": "markdown",
      "source": [
        "データローダの作成。\n",
        "[高速化のためのオプション](https://qiita.com/sugulu_Ogawa_ISID/items/62f5f7adee083d96a587)を設定。"
      ],
      "metadata": {
        "id": "m7-UvLMc9Hv3"
      }
    },
    {
      "cell_type": "code",
      "source": [
        "cuda_kwargs = {\n",
        "    'num_workers': 2,\n",
        "    'pin_memory': True,\n",
        "    'shuffle': True\n",
        "}\n",
        "\n",
        "train_batch_size, test_batch_size = 64, 1000\n",
        "train_kwargs = {'batch_size': train_batch_size}\n",
        "test_kwargs = {'batch_size': test_batch_size}\n",
        "\n",
        "train_kwargs.update(cuda_kwargs)\n",
        "test_kwargs.update(cuda_kwargs)\n",
        "\n",
        "train_loader = torch.utils.data.DataLoader(dataset1,**train_kwargs)\n",
        "test_loader = torch.utils.data.DataLoader(dataset2, **test_kwargs)"
      ],
      "metadata": {
        "id": "YKlXkbQJm7Xg"
      },
      "execution_count": 6,
      "outputs": []
    },
    {
      "cell_type": "markdown",
      "source": [
        "## モデル作成"
      ],
      "metadata": {
        "id": "2oPLSDAxavRh"
      }
    },
    {
      "cell_type": "markdown",
      "source": [
        "モデル定義"
      ],
      "metadata": {
        "id": "MlXEO5HJ9YxI"
      }
    },
    {
      "cell_type": "code",
      "source": [
        "import torch.nn as nn\n",
        "import torch.nn.functional as F\n",
        "\n",
        "class Net(nn.Module):\n",
        "    def __init__(self):\n",
        "        super(Net, self).__init__()\n",
        "        self.conv1 = nn.Conv2d(1, 32, 3, 1)\n",
        "        self.conv2 = nn.Conv2d(32, 64, 3, 1)\n",
        "        self.dropout1 = nn.Dropout(0.25)\n",
        "        self.dropout2 = nn.Dropout(0.5)\n",
        "        self.fc1 = nn.Linear(9216, 128)\n",
        "        self.fc2 = nn.Linear(128, 10)\n",
        "\n",
        "    def forward(self, x):\n",
        "        x = self.conv1(x)\n",
        "        x = F.relu(x)\n",
        "        x = self.conv2(x)\n",
        "        x = F.relu(x)\n",
        "        x = F.max_pool2d(x, 2)\n",
        "        x = self.dropout1(x)\n",
        "        x = torch.flatten(x, 1)\n",
        "        x = self.fc1(x)\n",
        "        x = F.relu(x)\n",
        "        x = self.dropout2(x)\n",
        "        x = self.fc2(x)\n",
        "        output = F.log_softmax(x, dim=1)\n",
        "        return output"
      ],
      "metadata": {
        "id": "cY1Nb4iy9ZcX"
      },
      "execution_count": 7,
      "outputs": []
    },
    {
      "cell_type": "markdown",
      "source": [
        "モデルのインスタンスを作成"
      ],
      "metadata": {
        "id": "T9vQjCdn_5Z7"
      }
    },
    {
      "cell_type": "code",
      "source": [
        "device_str = \"cuda\" if torch.cuda.is_available() else \"cpu\"\n",
        "print(f\"Use device={device_str}\")\n",
        "device = torch.device(device_str)\n",
        "\n",
        "model = Net().to(device)"
      ],
      "metadata": {
        "id": "IRJLCiFN9nxV",
        "outputId": "441750d5-3b34-4a0b-b961-4231df44a109",
        "colab": {
          "base_uri": "https://localhost:8080/"
        }
      },
      "execution_count": 8,
      "outputs": [
        {
          "output_type": "stream",
          "name": "stdout",
          "text": [
            "Use device=cuda\n"
          ]
        }
      ]
    },
    {
      "cell_type": "markdown",
      "source": [
        "単一データで推論する関数を定義。推論前に `model.eval()` が必要なことに注意。"
      ],
      "metadata": {
        "id": "5GXkFosubTPS"
      }
    },
    {
      "cell_type": "code",
      "source": [
        "def single_inference(model, idx):\n",
        "    # slice only 1 data\n",
        "    img = dataset1.data[[idx], ...].to(device)\n",
        "    # add channel axis (size 1)\n",
        "    img = img[:, None, ...]\n",
        "    # normalization\n",
        "    img = (img - mean) / scale\n",
        "\n",
        "    print(f\"input data shape = {img.shape}\")\n",
        "\n",
        "    # use inference mode\n",
        "    # (otherwise 32 batch size needed)\n",
        "    model.eval()\n",
        "    with torch.no_grad():\n",
        "        probs = model(img)\n",
        "\n",
        "    # get highest probability\n",
        "    inference = probs.argmax(dim=1, keepdim=True)[0, 0]\n",
        "    answer = dataset1.targets[idx]\n",
        "\n",
        "    print(f\"inference={inference}\")\n",
        "    print(f\"answer={answer}\")"
      ],
      "metadata": {
        "id": "PQ-w2ZtdaON7"
      },
      "execution_count": 9,
      "outputs": []
    },
    {
      "cell_type": "markdown",
      "source": [
        "実際に推論。未学習なので不正解。"
      ],
      "metadata": {
        "id": "zOSkNEs5bW5H"
      }
    },
    {
      "cell_type": "code",
      "source": [
        "single_inference(model, idx=0)"
      ],
      "metadata": {
        "id": "e4ElM2MPbZnF",
        "outputId": "bd00e222-d6bd-4583-a509-7eb8d4dd0c23",
        "colab": {
          "base_uri": "https://localhost:8080/"
        }
      },
      "execution_count": 10,
      "outputs": [
        {
          "output_type": "stream",
          "name": "stdout",
          "text": [
            "input data shape = torch.Size([1, 1, 28, 28])\n",
            "inference=0\n",
            "answer=5\n"
          ]
        }
      ]
    },
    {
      "cell_type": "markdown",
      "source": [
        "## 学習"
      ],
      "metadata": {
        "id": "7oAnlffUasZ6"
      }
    },
    {
      "cell_type": "markdown",
      "source": [
        "最適化手法を定義"
      ],
      "metadata": {
        "id": "na1sdxMgAIsB"
      }
    },
    {
      "cell_type": "code",
      "source": [
        "import torch.optim as optim\n",
        "from torch.optim.lr_scheduler import StepLR\n",
        "\n",
        "lr = 1.0\n",
        "gamma = 0.7\n",
        "optimizer = optim.Adadelta(model.parameters(), lr=lr)\n",
        "scheduler = StepLR(optimizer, step_size=1, gamma=gamma)"
      ],
      "metadata": {
        "id": "XpbCtU8E_nQ4"
      },
      "execution_count": 11,
      "outputs": []
    },
    {
      "cell_type": "markdown",
      "source": [
        "学習方法を定義"
      ],
      "metadata": {
        "id": "rpvHlmpwMAZQ"
      }
    },
    {
      "cell_type": "code",
      "source": [
        "log_interval = 10\n",
        "dry_run = False\n",
        "amp_dtype = torch.float16 if device_str == \"cuda\" else torch.bfloat16\n",
        "\n",
        "def train(model, device, train_loader, optimizer, epoch):\n",
        "    model.train()\n",
        "\n",
        "    # AMP: Automatic Mixed Precision\n",
        "    scaler = torch.cuda.amp.GradScaler()\n",
        "\n",
        "    for batch_idx, (data, target) in enumerate(train_loader):\n",
        "        # data transfer\n",
        "        data, target = data.to(device), target.to(device)\n",
        "\n",
        "        optimizer.zero_grad()\n",
        "\n",
        "        # AMP: Automatic Mixed Precision\n",
        "        with torch.amp.autocast(device_str, dtype=amp_dtype):\n",
        "            # inference\n",
        "            output = model(data)\n",
        "            # nll = negative log likelihood loss\n",
        "            loss = F.nll_loss(output, target)\n",
        "\n",
        "        writer.add_scalar(\"Loss/train\", loss, epoch)\n",
        "\n",
        "        # back propagation\n",
        "        scaler.scale(loss).backward()\n",
        "        # gradient decent\n",
        "        scaler.step(optimizer)\n",
        "        # update scale\n",
        "        scaler.update()\n",
        "\n",
        "#        if batch_idx % log_interval != 0:\n",
        "#            continue\n",
        "\n",
        "#        print('Train Epoch: {} [{}/{} ({:.0f}%)]\\tLoss: {:.6f}'.format(\n",
        "#            epoch, batch_idx * len(data), len(train_loader.dataset),\n",
        "#            100. * batch_idx / len(train_loader), loss.item()))\n",
        "\n",
        "#        if dry_run:\n",
        "#            break"
      ],
      "metadata": {
        "id": "xtZvqbdyAGzl"
      },
      "execution_count": 12,
      "outputs": []
    },
    {
      "cell_type": "markdown",
      "source": [
        "推論・バリデーション"
      ],
      "metadata": {
        "id": "IENi3VgUbeGG"
      }
    },
    {
      "cell_type": "code",
      "source": [
        "def test(model, device, test_loader):\n",
        "    model.eval()\n",
        "\n",
        "    test_loss = 0\n",
        "    correct = 0\n",
        "    with torch.no_grad():\n",
        "        for data, target in test_loader:\n",
        "            data, target = data.to(device), target.to(device)\n",
        "\n",
        "            output = model(data)\n",
        "            # sum up batch loss\n",
        "            test_loss += F.nll_loss(output, target, reduction='sum').item()\n",
        "            # get the index of the max log-probability\n",
        "            pred = output.argmax(dim=1, keepdim=True)\n",
        "            correct += pred.eq(target.view_as(pred)).sum().item()\n",
        "\n",
        "    test_loss /= len(test_loader.dataset)\n",
        "\n",
        "    # print(f\"Test set: Average loss: {test_loss:.4f}, Accuracy: {correct}/{len(test_loader.dataset)} ({100. * correct / len(test_loader.dataset):.3f}%)\")"
      ],
      "metadata": {
        "id": "_l9bjrQzN8mr"
      },
      "execution_count": 13,
      "outputs": []
    },
    {
      "cell_type": "markdown",
      "source": [
        "学習を実行"
      ],
      "metadata": {
        "id": "EzJeYxj9bjzM"
      }
    },
    {
      "cell_type": "code",
      "source": [
        "from tqdm import tqdm\n",
        "\n",
        "epochs = 14\n",
        "for epoch in tqdm(range(1, epochs + 1)):\n",
        "    train(model, device, train_loader, optimizer, epoch)\n",
        "    test(model, device, test_loader)\n",
        "    scheduler.step()\n",
        "\n",
        "writer.flush()"
      ],
      "metadata": {
        "colab": {
          "base_uri": "https://localhost:8080/"
        },
        "id": "9DZzjZdgONRl",
        "outputId": "edf7d048-fc4a-4e52-bed8-70deb813433f"
      },
      "execution_count": 14,
      "outputs": [
        {
          "output_type": "stream",
          "name": "stderr",
          "text": [
            "100%|██████████| 14/14 [04:24<00:00, 18.90s/it]\n"
          ]
        }
      ]
    },
    {
      "cell_type": "markdown",
      "source": [
        "Tensorboard の起動。\n",
        "Chrome との相性が悪いため [Tips](https://github.com/googlecolab/colabtools/issues/3990#issuecomment-1782676249) を利用。"
      ],
      "metadata": {
        "id": "tz4ViDSYQ3Mu"
      }
    },
    {
      "cell_type": "code",
      "source": [
        "%%capture\n",
        "\n",
        "%load_ext tensorboard\n",
        "# Start tensorboard\n",
        "# Please ignore the error page in the output and go to the next cell\n",
        "%tensorboard --logdir ./logs --host=127.0.0.1 --port=6006 --load_fast=false"
      ],
      "metadata": {
        "id": "ybxiNsJ7OHo-"
      },
      "execution_count": 15,
      "outputs": []
    },
    {
      "cell_type": "markdown",
      "source": [
        "外部リンクから Tensorboard にアクセス"
      ],
      "metadata": {
        "id": "fZ7YMD2URQYp"
      }
    },
    {
      "cell_type": "code",
      "source": [
        "# Access tensorboard via colab's proxy\n",
        "# Click the link that appears in the output\n",
        "from google.colab import output\n",
        "output.serve_kernel_port_as_window(6006, path=\"\")"
      ],
      "metadata": {
        "colab": {
          "base_uri": "https://localhost:8080/",
          "height": 34
        },
        "id": "flivFxYbQYnN",
        "outputId": "7b3cd337-564a-4db4-d34f-929ece7fe062"
      },
      "execution_count": 16,
      "outputs": [
        {
          "output_type": "display_data",
          "data": {
            "text/plain": [
              "<IPython.core.display.Javascript object>"
            ],
            "application/javascript": [
              "(async (port, path, text, element) => {\n",
              "    if (!google.colab.kernel.accessAllowed) {\n",
              "      return;\n",
              "    }\n",
              "    element.appendChild(document.createTextNode(''));\n",
              "    const url = await google.colab.kernel.proxyPort(port);\n",
              "    const anchor = document.createElement('a');\n",
              "    anchor.href = new URL(path, url).toString();\n",
              "    anchor.target = '_blank';\n",
              "    anchor.setAttribute('data-href', url + path);\n",
              "    anchor.textContent = text;\n",
              "    element.appendChild(anchor);\n",
              "  })(6006, \"\", \"https://localhost:6006\", window.element)"
            ]
          },
          "metadata": {}
        }
      ]
    },
    {
      "cell_type": "markdown",
      "source": [
        "モデルの保存。対象は元のモデル。"
      ],
      "metadata": {
        "id": "QiR1m3drcMg5"
      }
    },
    {
      "cell_type": "code",
      "source": [
        "torch.save(model.state_dict(), \"mnist_cnn.pth\")"
      ],
      "metadata": {
        "id": "S9vmJLdocLDL"
      },
      "execution_count": 17,
      "outputs": []
    },
    {
      "cell_type": "markdown",
      "source": [
        "## 推論"
      ],
      "metadata": {
        "id": "eRmwlK3uapKX"
      }
    },
    {
      "cell_type": "markdown",
      "source": [
        "保存したモデルのロード"
      ],
      "metadata": {
        "id": "Wh4KFVrPcner"
      }
    },
    {
      "cell_type": "code",
      "source": [
        "model = Net().to(device)\n",
        "model.load_state_dict(torch.load('mnist_cnn.pth'))"
      ],
      "metadata": {
        "id": "a-RXTXNxcp6Z",
        "colab": {
          "base_uri": "https://localhost:8080/"
        },
        "outputId": "18afc646-f398-4f58-9d1e-93fb97de5968"
      },
      "execution_count": 18,
      "outputs": [
        {
          "output_type": "execute_result",
          "data": {
            "text/plain": [
              "<All keys matched successfully>"
            ]
          },
          "metadata": {},
          "execution_count": 18
        }
      ]
    },
    {
      "cell_type": "markdown",
      "source": [
        "推論を実施"
      ],
      "metadata": {
        "id": "TApM_4MDbSOf"
      }
    },
    {
      "cell_type": "code",
      "source": [
        "single_inference(model, idx=0)"
      ],
      "metadata": {
        "id": "B373mx2RSyFN",
        "colab": {
          "base_uri": "https://localhost:8080/"
        },
        "outputId": "bf788a10-7c16-4573-d61a-85266fd9d523"
      },
      "execution_count": 20,
      "outputs": [
        {
          "output_type": "stream",
          "name": "stdout",
          "text": [
            "input data shape = torch.Size([1, 1, 28, 28])\n",
            "inference=5\n",
            "answer=5\n"
          ]
        }
      ]
    }
  ]
}