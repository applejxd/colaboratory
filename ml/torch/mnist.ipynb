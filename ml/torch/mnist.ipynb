{
  "nbformat": 4,
  "nbformat_minor": 0,
  "metadata": {
    "colab": {
      "provenance": [],
      "gpuType": "T4",
      "authorship_tag": "ABX9TyOpRYXCtY0cu8pVMKxZ/tEG",
      "include_colab_link": true
    },
    "kernelspec": {
      "name": "python3",
      "display_name": "Python 3"
    },
    "language_info": {
      "name": "python"
    },
    "accelerator": "GPU"
  },
  "cells": [
    {
      "cell_type": "markdown",
      "metadata": {
        "id": "view-in-github",
        "colab_type": "text"
      },
      "source": [
        "<a href=\"https://colab.research.google.com/github/applejxd/colaboratory/blob/master/ml/torch/mnist.ipynb\" target=\"_parent\"><img src=\"https://colab.research.google.com/assets/colab-badge.svg\" alt=\"Open In Colab\"/></a>"
      ]
    },
    {
      "cell_type": "markdown",
      "source": [
        "# PyTorch で MNIST"
      ],
      "metadata": {
        "id": "CdtJfRLDk99f"
      }
    },
    {
      "cell_type": "markdown",
      "source": [
        "[公式サンプル](https://github.com/pytorch/examples/blob/main/mnist/main.py)をベースに実装"
      ],
      "metadata": {
        "id": "npgWlwYymD-6"
      }
    },
    {
      "cell_type": "markdown",
      "source": [
        "## 事前確認"
      ],
      "metadata": {
        "id": "JBP-5GkT5wJt"
      }
    },
    {
      "cell_type": "markdown",
      "source": [
        "バージョンチェック"
      ],
      "metadata": {
        "id": "CtqNKLpKlCMk"
      }
    },
    {
      "cell_type": "code",
      "execution_count": 1,
      "metadata": {
        "colab": {
          "base_uri": "https://localhost:8080/"
        },
        "id": "9IE9CixSjhB2",
        "outputId": "61e21eaa-bf16-4261-c85b-4d37c0e514f7"
      },
      "outputs": [
        {
          "output_type": "stream",
          "name": "stdout",
          "text": [
            "torch.__version__=2.1.0+cu118\n",
            "torch.cuda.is_available()=False\n",
            "\n",
            "torch.cuda.device_count()=False\n",
            "torch.cuda.current_device()=False\n",
            "torch.cuda.device(0)=<torch.cuda.device object at 0x79eae5419090>\n",
            "\n"
          ]
        }
      ],
      "source": [
        "import torch\n",
        "\n",
        "print(f\"torch.__version__={torch.__version__}\")\n",
        "print(f\"torch.cuda.is_available()={torch.cuda.is_available()}\\n\")\n",
        "\n",
        "print(f\"torch.cuda.device_count()={torch.cuda.is_available()}\")\n",
        "print(f\"torch.cuda.current_device()={torch.cuda.is_available()}\")\n",
        "print(f\"torch.cuda.device(0)={torch.cuda.device(0)}\\n\")\n",
        "if torch.cuda.is_available():\n",
        "    print(f\"torch.cuda.get_device_name(0)={torch.cuda.get_device_name(0)}\")"
      ]
    },
    {
      "cell_type": "markdown",
      "source": [
        "seed の固定。deterministic は処理低下を起こすため注意。"
      ],
      "metadata": {
        "id": "SxIPUjmRa_xf"
      }
    },
    {
      "cell_type": "code",
      "source": [
        "import random\n",
        "import numpy as np\n",
        "\n",
        "def torch_fix_seed(seed=42):\n",
        "    # Python random\n",
        "    random.seed(seed)\n",
        "    # Numpy\n",
        "    np.random.seed(seed)\n",
        "    # Pytorch\n",
        "    torch.manual_seed(seed)\n",
        "    torch.cuda.manual_seed(seed)\n",
        "    torch.backends.cudnn.deterministic = True\n",
        "    torch.use_deterministic_algorithms = True\n",
        "\n",
        "\n",
        "torch_fix_seed()"
      ],
      "metadata": {
        "id": "TgEyv5e8bBHb"
      },
      "execution_count": 2,
      "outputs": []
    },
    {
      "cell_type": "markdown",
      "source": [
        "## データセットの用意"
      ],
      "metadata": {
        "id": "Ym1ivrpfaxui"
      }
    },
    {
      "cell_type": "markdown",
      "source": [
        "データの読み込み"
      ],
      "metadata": {
        "id": "rkZ6Xe7U71Cd"
      }
    },
    {
      "cell_type": "code",
      "source": [
        "%%capture\n",
        "from torchvision import datasets, transforms\n",
        "\n",
        "mean, scale = 0.1307, 0.3081\n",
        "transform=transforms.Compose([\n",
        "    transforms.ToTensor(),\n",
        "    transforms.Normalize((mean,), (scale,))\n",
        "])\n",
        "dataset1 = datasets.MNIST(\n",
        "    '../data', train=True, download=True, transform=transform)\n",
        "dataset2 = datasets.MNIST(\n",
        "    '../data', train=False, transform=transform)"
      ],
      "metadata": {
        "id": "_KL0PVezmU2u"
      },
      "execution_count": 3,
      "outputs": []
    },
    {
      "cell_type": "markdown",
      "source": [
        "データの可視化"
      ],
      "metadata": {
        "id": "eiAhcoG978N1"
      }
    },
    {
      "cell_type": "code",
      "source": [
        "import matplotlib.pyplot as plt\n",
        "\n",
        "dataset1_data = dataset1.data.numpy()\n",
        "dataset1_targets = dataset1.targets.numpy()\n",
        "\n",
        "print(f\"answer={dataset1_targets[0]}\")\n",
        "img = dataset1_data[0]\n",
        "plt.imshow(img)"
      ],
      "metadata": {
        "colab": {
          "base_uri": "https://localhost:8080/",
          "height": 466
        },
        "id": "DYxJOf2imuzr",
        "outputId": "a9a89846-02f1-4b88-b432-7cfaa99111d5"
      },
      "execution_count": 4,
      "outputs": [
        {
          "output_type": "stream",
          "name": "stdout",
          "text": [
            "answer=5\n"
          ]
        },
        {
          "output_type": "execute_result",
          "data": {
            "text/plain": [
              "<matplotlib.image.AxesImage at 0x79ea1a650490>"
            ]
          },
          "metadata": {},
          "execution_count": 4
        },
        {
          "output_type": "display_data",
          "data": {
            "text/plain": [
              "<Figure size 640x480 with 1 Axes>"
            ],
            "image/png": "[encoded data removed]"
          },
          "metadata": {}
        }
      ]
    },
    {
      "cell_type": "markdown",
      "source": [
        "データローダの作成。\n",
        "[高速化のためのオプション](https://qiita.com/sugulu_Ogawa_ISID/items/62f5f7adee083d96a587)を設定。"
      ],
      "metadata": {
        "id": "m7-UvLMc9Hv3"
      }
    },
    {
      "cell_type": "code",
      "source": [
        "cuda_kwargs = {\n",
        "    'num_workers': 2,\n",
        "    'pin_memory': True,\n",
        "    'shuffle': True\n",
        "}\n",
        "\n",
        "train_batch_size, test_batch_size = 64, 1000\n",
        "train_kwargs = {'batch_size': train_batch_size}\n",
        "test_kwargs = {'batch_size': test_batch_size}\n",
        "\n",
        "train_kwargs.update(cuda_kwargs)\n",
        "test_kwargs.update(cuda_kwargs)\n",
        "\n",
        "train_loader = torch.utils.data.DataLoader(dataset1,**train_kwargs)\n",
        "test_loader = torch.utils.data.DataLoader(dataset2, **test_kwargs)"
      ],
      "metadata": {
        "id": "YKlXkbQJm7Xg"
      },
      "execution_count": 5,
      "outputs": []
    },
    {
      "cell_type": "markdown",
      "source": [
        "## モデル作成"
      ],
      "metadata": {
        "id": "2oPLSDAxavRh"
      }
    },
    {
      "cell_type": "markdown",
      "source": [
        "モデル定義"
      ],
      "metadata": {
        "id": "MlXEO5HJ9YxI"
      }
    },
    {
      "cell_type": "code",
      "source": [
        "import torch.nn as nn\n",
        "import torch.nn.functional as F\n",
        "\n",
        "class Net(nn.Module):\n",
        "    def __init__(self):\n",
        "        super(Net, self).__init__()\n",
        "        self.conv1 = nn.Conv2d(1, 32, 3, 1)\n",
        "        self.conv2 = nn.Conv2d(32, 64, 3, 1)\n",
        "        self.dropout1 = nn.Dropout(0.25)\n",
        "        self.dropout2 = nn.Dropout(0.5)\n",
        "        self.fc1 = nn.Linear(9216, 128)\n",
        "        self.fc2 = nn.Linear(128, 10)\n",
        "\n",
        "    def forward(self, x):\n",
        "        x = self.conv1(x)\n",
        "        x = F.relu(x)\n",
        "        x = self.conv2(x)\n",
        "        x = F.relu(x)\n",
        "        x = F.max_pool2d(x, 2)\n",
        "        x = self.dropout1(x)\n",
        "        x = torch.flatten(x, 1)\n",
        "        x = self.fc1(x)\n",
        "        x = F.relu(x)\n",
        "        x = self.dropout2(x)\n",
        "        x = self.fc2(x)\n",
        "        output = F.log_softmax(x, dim=1)\n",
        "        return output"
      ],
      "metadata": {
        "id": "cY1Nb4iy9ZcX"
      },
      "execution_count": 6,
      "outputs": []
    },
    {
      "cell_type": "markdown",
      "source": [
        "モデルのインスタンスを作成。`torch.compile`で高速化。"
      ],
      "metadata": {
        "id": "T9vQjCdn_5Z7"
      }
    },
    {
      "cell_type": "code",
      "source": [
        "device_str = \"cuda\" if torch.cuda.is_available() else \"cpu\"\n",
        "device = torch.device(device_str)\n",
        "model = torch.compile(Net()).to(device)"
      ],
      "metadata": {
        "id": "IRJLCiFN9nxV"
      },
      "execution_count": 7,
      "outputs": []
    },
    {
      "cell_type": "markdown",
      "source": [
        "## 学習"
      ],
      "metadata": {
        "id": "7oAnlffUasZ6"
      }
    },
    {
      "cell_type": "markdown",
      "source": [
        "最適化手法を定義"
      ],
      "metadata": {
        "id": "na1sdxMgAIsB"
      }
    },
    {
      "cell_type": "code",
      "source": [
        "import torch.optim as optim\n",
        "from torch.optim.lr_scheduler import StepLR\n",
        "\n",
        "lr = 1.0\n",
        "gamma = 0.7\n",
        "optimizer = optim.Adadelta(model.parameters(), lr=lr)\n",
        "scheduler = StepLR(optimizer, step_size=1, gamma=gamma)"
      ],
      "metadata": {
        "id": "XpbCtU8E_nQ4"
      },
      "execution_count": 8,
      "outputs": []
    },
    {
      "cell_type": "markdown",
      "source": [
        "学習方法を定義"
      ],
      "metadata": {
        "id": "rpvHlmpwMAZQ"
      }
    },
    {
      "cell_type": "code",
      "source": [
        "log_interval = 10\n",
        "dry_run = False\n",
        "amp_dtype = torch.float16 if device_str == \"cuda\" else torch.bfloat16\n",
        "\n",
        "def train(model, device, train_loader, optimizer, epoch):\n",
        "    model.train()\n",
        "\n",
        "    # AMP: Automatic Mixed Precision\n",
        "    scaler = torch.cuda.amp.GradScaler()\n",
        "\n",
        "    for batch_idx, (data, target) in enumerate(train_loader):\n",
        "        # data transfer\n",
        "        data, target = data.to(device), target.to(device)\n",
        "\n",
        "        optimizer.zero_grad()\n",
        "\n",
        "        # AMP: Automatic Mixed Precision\n",
        "        with torch.amp.autocast(device_str, dtype=torch.float16):\n",
        "            # inference\n",
        "            output = model(data)\n",
        "            # nll = negative log likelihood loss\n",
        "            loss = F.nll_loss(output, target)\n",
        "\n",
        "        # back propagation\n",
        "        scaler.scale(loss).backward()\n",
        "        # gradient decent\n",
        "        scaler.step(optimizer)\n",
        "        # update scale\n",
        "        scaler.update()\n",
        "\n",
        "#        if batch_idx % log_interval != 0:\n",
        "#            continue\n",
        "\n",
        "#        print('Train Epoch: {} [{}/{} ({:.0f}%)]\\tLoss: {:.6f}'.format(\n",
        "#            epoch, batch_idx * len(data), len(train_loader.dataset),\n",
        "#            100. * batch_idx / len(train_loader), loss.item()))\n",
        "\n",
        "#        if dry_run:\n",
        "#            break"
      ],
      "metadata": {
        "id": "xtZvqbdyAGzl"
      },
      "execution_count": 9,
      "outputs": []
    },
    {
      "cell_type": "markdown",
      "source": [
        "推論・バリデーション"
      ],
      "metadata": {
        "id": "IENi3VgUbeGG"
      }
    },
    {
      "cell_type": "code",
      "source": [
        "def test(model, device, test_loader):\n",
        "    model.eval()\n",
        "\n",
        "    test_loss = 0\n",
        "    correct = 0\n",
        "    with torch.no_grad():\n",
        "        for data, target in test_loader:\n",
        "            data, target = data.to(device), target.to(device)\n",
        "\n",
        "            output = model(data)\n",
        "            # sum up batch loss\n",
        "            test_loss += F.nll_loss(output, target, reduction='sum').item()\n",
        "            # get the index of the max log-probability\n",
        "            pred = output.argmax(dim=1, keepdim=True)\n",
        "            correct += pred.eq(target.view_as(pred)).sum().item()\n",
        "\n",
        "    test_loss /= len(test_loader.dataset)\n",
        "\n",
        "    print(f\"Test set: Average loss: {test_loss:.4f}, Accuracy: {correct}/{len(test_loader.dataset)} ({100. * correct / len(test_loader.dataset):.3f}%)\")"
      ],
      "metadata": {
        "id": "_l9bjrQzN8mr"
      },
      "execution_count": 10,
      "outputs": []
    },
    {
      "cell_type": "markdown",
      "source": [
        "学習を実行"
      ],
      "metadata": {
        "id": "EzJeYxj9bjzM"
      }
    },
    {
      "cell_type": "code",
      "source": [
        "epochs = 14\n",
        "\n",
        "for epoch in range(1, epochs + 1):\n",
        "    train(model, device, train_loader, optimizer, epoch)\n",
        "    test(model, device, test_loader)\n",
        "    scheduler.step()"
      ],
      "metadata": {
        "colab": {
          "base_uri": "https://localhost:8080/",
          "height": 492
        },
        "id": "9DZzjZdgONRl",
        "outputId": "be8fa5d6-3501-4aa6-eeae-39f91949de90"
      },
      "execution_count": 11,
      "outputs": [
        {
          "output_type": "stream",
          "name": "stderr",
          "text": [
            "/usr/local/lib/python3.10/dist-packages/torch/cuda/amp/grad_scaler.py:125: UserWarning: torch.cuda.amp.GradScaler is enabled, but CUDA is not available.  Disabling.\n",
            "  warnings.warn(\n",
            "/usr/local/lib/python3.10/dist-packages/torch/amp/autocast_mode.py:266: UserWarning: In CPU autocast, but the target dtype is not supported. Disabling autocast.\n",
            "CPU Autocast only supports dtype of torch.bfloat16 currently.\n",
            "  warnings.warn(error_message)\n"
          ]
        },
        {
          "output_type": "error",
          "ename": "RuntimeError",
          "evalue": "ignored",
          "traceback": [
            "\u001b[0;31m---------------------------------------------------------------------------\u001b[0m",
            "\u001b[0;31mRuntimeError\u001b[0m                              Traceback (most recent call last)",
            "\u001b[0;32m<ipython-input-11-955f29e03f2f>\u001b[0m in \u001b[0;36m<cell line: 3>\u001b[0;34m()\u001b[0m\n\u001b[1;32m      2\u001b[0m \u001b[0;34m\u001b[0m\u001b[0m\n\u001b[1;32m      3\u001b[0m \u001b[0;32mfor\u001b[0m \u001b[0mepoch\u001b[0m \u001b[0;32min\u001b[0m \u001b[0mrange\u001b[0m\u001b[0;34m(\u001b[0m\u001b[0;36m1\u001b[0m\u001b[0;34m,\u001b[0m \u001b[0mepochs\u001b[0m \u001b[0;34m+\u001b[0m \u001b[0;36m1\u001b[0m\u001b[0;34m)\u001b[0m\u001b[0;34m:\u001b[0m\u001b[0;34m\u001b[0m\u001b[0;34m\u001b[0m\u001b[0m\n\u001b[0;32m----> 4\u001b[0;31m     \u001b[0mtrain\u001b[0m\u001b[0;34m(\u001b[0m\u001b[0mmodel\u001b[0m\u001b[0;34m,\u001b[0m \u001b[0mdevice\u001b[0m\u001b[0;34m,\u001b[0m \u001b[0mtrain_loader\u001b[0m\u001b[0;34m,\u001b[0m \u001b[0moptimizer\u001b[0m\u001b[0;34m,\u001b[0m \u001b[0mepoch\u001b[0m\u001b[0;34m)\u001b[0m\u001b[0;34m\u001b[0m\u001b[0;34m\u001b[0m\u001b[0m\n\u001b[0m\u001b[1;32m      5\u001b[0m     \u001b[0mtest\u001b[0m\u001b[0;34m(\u001b[0m\u001b[0mmodel\u001b[0m\u001b[0;34m,\u001b[0m \u001b[0mdevice\u001b[0m\u001b[0;34m,\u001b[0m \u001b[0mtest_loader\u001b[0m\u001b[0;34m)\u001b[0m\u001b[0;34m\u001b[0m\u001b[0;34m\u001b[0m\u001b[0m\n\u001b[1;32m      6\u001b[0m     \u001b[0mscheduler\u001b[0m\u001b[0;34m.\u001b[0m\u001b[0mstep\u001b[0m\u001b[0;34m(\u001b[0m\u001b[0;34m)\u001b[0m\u001b[0;34m\u001b[0m\u001b[0;34m\u001b[0m\u001b[0m\n",
            "\u001b[0;32m<ipython-input-9-5736cb4f66a4>\u001b[0m in \u001b[0;36mtrain\u001b[0;34m(model, device, train_loader, optimizer, epoch)\u001b[0m\n\u001b[1;32m     16\u001b[0m \u001b[0;34m\u001b[0m\u001b[0m\n\u001b[1;32m     17\u001b[0m         \u001b[0;31m# AMP: Automatic Mixed Precision\u001b[0m\u001b[0;34m\u001b[0m\u001b[0;34m\u001b[0m\u001b[0m\n\u001b[0;32m---> 18\u001b[0;31m         \u001b[0;32mwith\u001b[0m \u001b[0mtorch\u001b[0m\u001b[0;34m.\u001b[0m\u001b[0mamp\u001b[0m\u001b[0;34m.\u001b[0m\u001b[0mautocast\u001b[0m\u001b[0;34m(\u001b[0m\u001b[0mdevice_str\u001b[0m\u001b[0;34m,\u001b[0m \u001b[0mdtype\u001b[0m\u001b[0;34m=\u001b[0m\u001b[0mtorch\u001b[0m\u001b[0;34m.\u001b[0m\u001b[0mfloat16\u001b[0m\u001b[0;34m)\u001b[0m\u001b[0;34m:\u001b[0m\u001b[0;34m\u001b[0m\u001b[0;34m\u001b[0m\u001b[0m\n\u001b[0m\u001b[1;32m     19\u001b[0m             \u001b[0;31m# inference\u001b[0m\u001b[0;34m\u001b[0m\u001b[0;34m\u001b[0m\u001b[0m\n\u001b[1;32m     20\u001b[0m             \u001b[0moutput\u001b[0m \u001b[0;34m=\u001b[0m \u001b[0mmodel\u001b[0m\u001b[0;34m(\u001b[0m\u001b[0mdata\u001b[0m\u001b[0;34m)\u001b[0m\u001b[0;34m\u001b[0m\u001b[0;34m\u001b[0m\u001b[0m\n",
            "\u001b[0;32m/usr/local/lib/python3.10/dist-packages/torch/amp/autocast_mode.py\u001b[0m in \u001b[0;36m__enter__\u001b[0;34m(self)\u001b[0m\n\u001b[1;32m    327\u001b[0m             \u001b[0mself\u001b[0m\u001b[0;34m.\u001b[0m\u001b[0mprev_fastdtype\u001b[0m \u001b[0;34m=\u001b[0m \u001b[0mtorch\u001b[0m\u001b[0;34m.\u001b[0m\u001b[0mget_autocast_cpu_dtype\u001b[0m\u001b[0;34m(\u001b[0m\u001b[0;34m)\u001b[0m\u001b[0;34m\u001b[0m\u001b[0;34m\u001b[0m\u001b[0m\n\u001b[1;32m    328\u001b[0m             \u001b[0mtorch\u001b[0m\u001b[0;34m.\u001b[0m\u001b[0mset_autocast_cpu_enabled\u001b[0m\u001b[0;34m(\u001b[0m\u001b[0mself\u001b[0m\u001b[0;34m.\u001b[0m\u001b[0m_enabled\u001b[0m\u001b[0;34m)\u001b[0m\u001b[0;34m\u001b[0m\u001b[0;34m\u001b[0m\u001b[0m\n\u001b[0;32m--> 329\u001b[0;31m             \u001b[0mtorch\u001b[0m\u001b[0;34m.\u001b[0m\u001b[0mset_autocast_cpu_dtype\u001b[0m\u001b[0;34m(\u001b[0m\u001b[0mself\u001b[0m\u001b[0;34m.\u001b[0m\u001b[0mfast_dtype\u001b[0m\u001b[0;34m)\u001b[0m  \u001b[0;31m# type: ignore[arg-type]\u001b[0m\u001b[0;34m\u001b[0m\u001b[0;34m\u001b[0m\u001b[0m\n\u001b[0m\u001b[1;32m    330\u001b[0m             \u001b[0mtorch\u001b[0m\u001b[0;34m.\u001b[0m\u001b[0mautocast_increment_nesting\u001b[0m\u001b[0;34m(\u001b[0m\u001b[0;34m)\u001b[0m\u001b[0;34m\u001b[0m\u001b[0;34m\u001b[0m\u001b[0m\n\u001b[1;32m    331\u001b[0m         \u001b[0;32melif\u001b[0m \u001b[0mself\u001b[0m\u001b[0;34m.\u001b[0m\u001b[0mdevice\u001b[0m \u001b[0;34m==\u001b[0m \u001b[0;34m\"xpu\"\u001b[0m\u001b[0;34m:\u001b[0m\u001b[0;34m\u001b[0m\u001b[0;34m\u001b[0m\u001b[0m\n",
            "\u001b[0;31mRuntimeError\u001b[0m: Currently, AutocastCPU only support Bfloat16 as the autocast_cpu_dtype"
          ]
        }
      ]
    },
    {
      "cell_type": "markdown",
      "source": [
        "モデルの保存"
      ],
      "metadata": {
        "id": "QiR1m3drcMg5"
      }
    },
    {
      "cell_type": "code",
      "source": [
        "torch.save(model.state_dict(), \"mnist_cnn.pth\")"
      ],
      "metadata": {
        "id": "S9vmJLdocLDL"
      },
      "execution_count": null,
      "outputs": []
    },
    {
      "cell_type": "markdown",
      "source": [
        "## 推論"
      ],
      "metadata": {
        "id": "eRmwlK3uapKX"
      }
    },
    {
      "cell_type": "markdown",
      "source": [
        "保存したモデルのロード"
      ],
      "metadata": {
        "id": "Wh4KFVrPcner"
      }
    },
    {
      "cell_type": "code",
      "source": [
        "device = torch.device(\"cuda\")\n",
        "model = Net().to(device)\n",
        "model.load_state_dict(torch.load('mnist_cnn.pth'))"
      ],
      "metadata": {
        "id": "a-RXTXNxcp6Z"
      },
      "execution_count": null,
      "outputs": []
    },
    {
      "cell_type": "markdown",
      "source": [
        "試しに推論を実施。実行前に `model.eval()` が必要なことに注意。"
      ],
      "metadata": {
        "id": "TApM_4MDbSOf"
      }
    },
    {
      "cell_type": "code",
      "source": [
        "# slice only 1 data\n",
        "img = dataset1.data[:1, ...].to(device)\n",
        "# add channel axis (size 1)\n",
        "img = img[:, None, ...]\n",
        "# normalization\n",
        "img = (img - mean) / scale\n",
        "\n",
        "print(f\"input data shape = {img.shape}\")\n",
        "\n",
        "# use inference mode\n",
        "# (otherwise 32 batch size needed)\n",
        "model.eval()\n",
        "with torch.no_grad():\n",
        "    probs = model(img)\n",
        "\n",
        "# get highest probability\n",
        "answer = probs.argmax(dim=1, keepdim=True)[0, 0].cpu().numpy()\n",
        "print(f\"answer={answer}\")"
      ],
      "metadata": {
        "id": "B373mx2RSyFN"
      },
      "execution_count": null,
      "outputs": []
    }
  ]
}