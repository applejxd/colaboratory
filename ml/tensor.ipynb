{
  "nbformat": 4,
  "nbformat_minor": 0,
  "metadata": {
    "colab": {
      "name": "tensor.ipynb",
      "provenance": [],
      "toc_visible": true,
      "authorship_tag": "ABX9TyOdImPPyqZtfQzP4H1OV1YH",
      "include_colab_link": true
    },
    "kernelspec": {
      "name": "python3",
      "display_name": "Python 3"
    },
    "language_info": {
      "name": "python"
    }
  },
  "cells": [
    {
      "cell_type": "markdown",
      "metadata": {
        "id": "view-in-github",
        "colab_type": "text"
      },
      "source": [
        "<a href=\"https://colab.research.google.com/github/applejxd/colaboratory/blob/master/ml/tensor.ipynb\" target=\"_parent\"><img src=\"https://colab.research.google.com/assets/colab-badge.svg\" alt=\"Open In Colab\"/></a>"
      ]
    },
    {
      "cell_type": "markdown",
      "source": [
        "# TensorFlow テンソル操作メモ"
      ],
      "metadata": {
        "id": "ZCsBQSYiZAY4"
      }
    },
    {
      "cell_type": "markdown",
      "source": [
        "[TensorFlow メソッド、shape をいじる系メモ](https://qiita.com/cfiken/items/04925d4da39e1a24114e)"
      ],
      "metadata": {
        "id": "liyRUeceZC3G"
      }
    },
    {
      "cell_type": "code",
      "execution_count": 19,
      "metadata": {
        "id": "d0M36WteuMW2"
      },
      "outputs": [],
      "source": [
        "import numpy as np\n",
        "import tensorflow as tf\n",
        "from tensorflow import keras"
      ]
    },
    {
      "cell_type": "code",
      "source": [
        "a_tensor = tf.random.uniform(shape=[3, 4, 2], minval=-10, maxval=10, dtype=tf.float64)\n",
        "a_tensor"
      ],
      "metadata": {
        "id": "RE20tJgfuRbq",
        "colab": {
          "base_uri": "https://localhost:8080/"
        },
        "outputId": "c4900736-4cd0-4e15-bbc3-87441b756433"
      },
      "execution_count": 20,
      "outputs": [
        {
          "output_type": "execute_result",
          "data": {
            "text/plain": [
              "<tf.Tensor: shape=(3, 4, 2), dtype=float64, numpy=\n",
              "array([[[ 1.47630569,  4.43977872],\n",
              "        [-7.43028114, -0.80163526],\n",
              "        [-9.95360956,  3.06618057],\n",
              "        [-9.4019737 , -1.51439202]],\n",
              "\n",
              "       [[-9.47173424,  6.68559221],\n",
              "        [ 5.9331059 , -6.34907511],\n",
              "        [-2.93324985,  5.0203594 ],\n",
              "        [ 9.0118155 ,  9.76772985]],\n",
              "\n",
              "       [[ 8.34078037,  5.23837545],\n",
              "        [ 4.70718525, -3.4766256 ],\n",
              "        [ 0.34922764,  3.16928852],\n",
              "        [-4.51750996,  0.02442664]]])>"
            ]
          },
          "metadata": {},
          "execution_count": 20
        }
      ]
    },
    {
      "cell_type": "code",
      "source": [
        "tf.shape(a_tensor)"
      ],
      "metadata": {
        "id": "hfYVYNq_xjUS",
        "outputId": "fef1d9bf-94f6-444e-a1f0-79199cd4bd64",
        "colab": {
          "base_uri": "https://localhost:8080/"
        }
      },
      "execution_count": 21,
      "outputs": [
        {
          "output_type": "execute_result",
          "data": {
            "text/plain": [
              "<tf.Tensor: shape=(3,), dtype=int32, numpy=array([3, 4, 2], dtype=int32)>"
            ]
          },
          "metadata": {},
          "execution_count": 21
        }
      ]
    },
    {
      "cell_type": "markdown",
      "source": [
        "## 変形する"
      ],
      "metadata": {
        "id": "U5TXUsRteCHO"
      }
    },
    {
      "cell_type": "code",
      "source": [
        "# 合計サイズが 3x5x2 となるように変形する必要がある\n",
        "tf.reshape(a_tensor, shape=(-1, 3, 2))"
      ],
      "metadata": {
        "id": "wwRiQ6KqeBig",
        "outputId": "ed375566-b3a1-4466-9764-38e41d0c48c8",
        "colab": {
          "base_uri": "https://localhost:8080/"
        }
      },
      "execution_count": 22,
      "outputs": [
        {
          "output_type": "execute_result",
          "data": {
            "text/plain": [
              "<tf.Tensor: shape=(4, 3, 2), dtype=float64, numpy=\n",
              "array([[[ 1.47630569,  4.43977872],\n",
              "        [-7.43028114, -0.80163526],\n",
              "        [-9.95360956,  3.06618057]],\n",
              "\n",
              "       [[-9.4019737 , -1.51439202],\n",
              "        [-9.47173424,  6.68559221],\n",
              "        [ 5.9331059 , -6.34907511]],\n",
              "\n",
              "       [[-2.93324985,  5.0203594 ],\n",
              "        [ 9.0118155 ,  9.76772985],\n",
              "        [ 8.34078037,  5.23837545]],\n",
              "\n",
              "       [[ 4.70718525, -3.4766256 ],\n",
              "        [ 0.34922764,  3.16928852],\n",
              "        [-4.51750996,  0.02442664]]])>"
            ]
          },
          "metadata": {},
          "execution_count": 22
        }
      ]
    },
    {
      "cell_type": "markdown",
      "source": [
        "## 拡大する"
      ],
      "metadata": {
        "id": "Q-OixoeFeKfK"
      }
    },
    {
      "cell_type": "markdown",
      "source": [
        "### 次元(添字)を増やす"
      ],
      "metadata": {
        "id": "uiEUkt-wgfW_"
      }
    },
    {
      "cell_type": "code",
      "source": [
        "tf.expand_dims(a_tensor, axis=2)"
      ],
      "metadata": {
        "id": "L50IxT_BeLty",
        "outputId": "10381e71-66b4-4d83-f87c-c8479db4ac16",
        "colab": {
          "base_uri": "https://localhost:8080/"
        }
      },
      "execution_count": 23,
      "outputs": [
        {
          "output_type": "execute_result",
          "data": {
            "text/plain": [
              "<tf.Tensor: shape=(3, 4, 1, 2), dtype=float64, numpy=\n",
              "array([[[[ 1.47630569,  4.43977872]],\n",
              "\n",
              "        [[-7.43028114, -0.80163526]],\n",
              "\n",
              "        [[-9.95360956,  3.06618057]],\n",
              "\n",
              "        [[-9.4019737 , -1.51439202]]],\n",
              "\n",
              "\n",
              "       [[[-9.47173424,  6.68559221]],\n",
              "\n",
              "        [[ 5.9331059 , -6.34907511]],\n",
              "\n",
              "        [[-2.93324985,  5.0203594 ]],\n",
              "\n",
              "        [[ 9.0118155 ,  9.76772985]]],\n",
              "\n",
              "\n",
              "       [[[ 8.34078037,  5.23837545]],\n",
              "\n",
              "        [[ 4.70718525, -3.4766256 ]],\n",
              "\n",
              "        [[ 0.34922764,  3.16928852]],\n",
              "\n",
              "        [[-4.51750996,  0.02442664]]]])>"
            ]
          },
          "metadata": {},
          "execution_count": 23
        }
      ]
    },
    {
      "cell_type": "markdown",
      "source": [
        "### パディングする"
      ],
      "metadata": {
        "id": "lTIIUfywgi4g"
      }
    },
    {
      "cell_type": "code",
      "source": [
        "tf.pad(a_tensor, paddings=[[0,0],[0,0],[0,1]])"
      ],
      "metadata": {
        "id": "yjfmT8AVeVlU",
        "outputId": "4d5757d6-223b-452b-9aaa-54e7ad4c7201",
        "colab": {
          "base_uri": "https://localhost:8080/"
        }
      },
      "execution_count": 24,
      "outputs": [
        {
          "output_type": "execute_result",
          "data": {
            "text/plain": [
              "<tf.Tensor: shape=(3, 4, 3), dtype=float64, numpy=\n",
              "array([[[ 1.47630569,  4.43977872,  0.        ],\n",
              "        [-7.43028114, -0.80163526,  0.        ],\n",
              "        [-9.95360956,  3.06618057,  0.        ],\n",
              "        [-9.4019737 , -1.51439202,  0.        ]],\n",
              "\n",
              "       [[-9.47173424,  6.68559221,  0.        ],\n",
              "        [ 5.9331059 , -6.34907511,  0.        ],\n",
              "        [-2.93324985,  5.0203594 ,  0.        ],\n",
              "        [ 9.0118155 ,  9.76772985,  0.        ]],\n",
              "\n",
              "       [[ 8.34078037,  5.23837545,  0.        ],\n",
              "        [ 4.70718525, -3.4766256 ,  0.        ],\n",
              "        [ 0.34922764,  3.16928852,  0.        ],\n",
              "        [-4.51750996,  0.02442664,  0.        ]]])>"
            ]
          },
          "metadata": {},
          "execution_count": 24
        }
      ]
    },
    {
      "cell_type": "markdown",
      "source": [
        "## 繰り返す"
      ],
      "metadata": {
        "id": "NmkhaygNd0_B"
      }
    },
    {
      "cell_type": "markdown",
      "source": [
        "### 次元(添字)を増やさず繰り返す"
      ],
      "metadata": {
        "id": "zvUD52nigok1"
      }
    },
    {
      "cell_type": "code",
      "source": [
        "tf.tile(a_tensor, multiples=(1,1,2))"
      ],
      "metadata": {
        "colab": {
          "base_uri": "https://localhost:8080/"
        },
        "id": "rhgUgaLCg-tI",
        "outputId": "29d60603-824b-4941-9c8b-8b020fdc3c5d"
      },
      "execution_count": 25,
      "outputs": [
        {
          "output_type": "execute_result",
          "data": {
            "text/plain": [
              "<tf.Tensor: shape=(3, 4, 4), dtype=float64, numpy=\n",
              "array([[[ 1.47630569,  4.43977872,  1.47630569,  4.43977872],\n",
              "        [-7.43028114, -0.80163526, -7.43028114, -0.80163526],\n",
              "        [-9.95360956,  3.06618057, -9.95360956,  3.06618057],\n",
              "        [-9.4019737 , -1.51439202, -9.4019737 , -1.51439202]],\n",
              "\n",
              "       [[-9.47173424,  6.68559221, -9.47173424,  6.68559221],\n",
              "        [ 5.9331059 , -6.34907511,  5.9331059 , -6.34907511],\n",
              "        [-2.93324985,  5.0203594 , -2.93324985,  5.0203594 ],\n",
              "        [ 9.0118155 ,  9.76772985,  9.0118155 ,  9.76772985]],\n",
              "\n",
              "       [[ 8.34078037,  5.23837545,  8.34078037,  5.23837545],\n",
              "        [ 4.70718525, -3.4766256 ,  4.70718525, -3.4766256 ],\n",
              "        [ 0.34922764,  3.16928852,  0.34922764,  3.16928852],\n",
              "        [-4.51750996,  0.02442664, -4.51750996,  0.02442664]]])>"
            ]
          },
          "metadata": {},
          "execution_count": 25
        }
      ]
    },
    {
      "cell_type": "markdown",
      "source": [
        "\\begin{equation}\n",
        "    b_{ijkl} = (a_{jkl} a_{jkl})\n",
        "\\end{equation}"
      ],
      "metadata": {
        "id": "5GZtfVFbT-5A"
      }
    },
    {
      "cell_type": "markdown",
      "source": [
        "### 次元(添字)を増やして繰り返す"
      ],
      "metadata": {
        "id": "f860_G1EiAI4"
      }
    },
    {
      "cell_type": "code",
      "source": [
        "tf.tile(tf.expand_dims(a_tensor, 0), [2, 1, 1, 1]) "
      ],
      "metadata": {
        "id": "LsORSgDCk344",
        "outputId": "d5046aae-8893-4f31-9846-0366f0256f62",
        "colab": {
          "base_uri": "https://localhost:8080/"
        }
      },
      "execution_count": 26,
      "outputs": [
        {
          "output_type": "execute_result",
          "data": {
            "text/plain": [
              "<tf.Tensor: shape=(2, 3, 4, 2), dtype=float64, numpy=\n",
              "array([[[[ 1.47630569,  4.43977872],\n",
              "         [-7.43028114, -0.80163526],\n",
              "         [-9.95360956,  3.06618057],\n",
              "         [-9.4019737 , -1.51439202]],\n",
              "\n",
              "        [[-9.47173424,  6.68559221],\n",
              "         [ 5.9331059 , -6.34907511],\n",
              "         [-2.93324985,  5.0203594 ],\n",
              "         [ 9.0118155 ,  9.76772985]],\n",
              "\n",
              "        [[ 8.34078037,  5.23837545],\n",
              "         [ 4.70718525, -3.4766256 ],\n",
              "         [ 0.34922764,  3.16928852],\n",
              "         [-4.51750996,  0.02442664]]],\n",
              "\n",
              "\n",
              "       [[[ 1.47630569,  4.43977872],\n",
              "         [-7.43028114, -0.80163526],\n",
              "         [-9.95360956,  3.06618057],\n",
              "         [-9.4019737 , -1.51439202]],\n",
              "\n",
              "        [[-9.47173424,  6.68559221],\n",
              "         [ 5.9331059 , -6.34907511],\n",
              "         [-2.93324985,  5.0203594 ],\n",
              "         [ 9.0118155 ,  9.76772985]],\n",
              "\n",
              "        [[ 8.34078037,  5.23837545],\n",
              "         [ 4.70718525, -3.4766256 ],\n",
              "         [ 0.34922764,  3.16928852],\n",
              "         [-4.51750996,  0.02442664]]]])>"
            ]
          },
          "metadata": {},
          "execution_count": 26
        }
      ]
    },
    {
      "cell_type": "markdown",
      "source": [
        "## 分割する"
      ],
      "metadata": {
        "id": "Au0hMLp9ebFI"
      }
    },
    {
      "cell_type": "code",
      "source": [
        "tf.split(a_tensor, [1, 1], 2)"
      ],
      "metadata": {
        "id": "ULb3qFCfWcwR",
        "outputId": "e069810d-421e-45fd-963a-92ca288d227d",
        "colab": {
          "base_uri": "https://localhost:8080/"
        }
      },
      "execution_count": 29,
      "outputs": [
        {
          "output_type": "execute_result",
          "data": {
            "text/plain": [
              "[<tf.Tensor: shape=(3, 4, 1), dtype=float64, numpy=\n",
              " array([[[ 1.47630569],\n",
              "         [-7.43028114],\n",
              "         [-9.95360956],\n",
              "         [-9.4019737 ]],\n",
              " \n",
              "        [[-9.47173424],\n",
              "         [ 5.9331059 ],\n",
              "         [-2.93324985],\n",
              "         [ 9.0118155 ]],\n",
              " \n",
              "        [[ 8.34078037],\n",
              "         [ 4.70718525],\n",
              "         [ 0.34922764],\n",
              "         [-4.51750996]]])>, <tf.Tensor: shape=(3, 4, 1), dtype=float64, numpy=\n",
              " array([[[ 4.43977872],\n",
              "         [-0.80163526],\n",
              "         [ 3.06618057],\n",
              "         [-1.51439202]],\n",
              " \n",
              "        [[ 6.68559221],\n",
              "         [-6.34907511],\n",
              "         [ 5.0203594 ],\n",
              "         [ 9.76772985]],\n",
              " \n",
              "        [[ 5.23837545],\n",
              "         [-3.4766256 ],\n",
              "         [ 3.16928852],\n",
              "         [ 0.02442664]]])>]"
            ]
          },
          "metadata": {},
          "execution_count": 29
        }
      ]
    },
    {
      "cell_type": "markdown",
      "source": [
        "## 縮小する"
      ],
      "metadata": {
        "id": "BNPN9JEWlBFw"
      }
    },
    {
      "cell_type": "markdown",
      "source": [
        "ｔｆ.extend_dim の逆は tf.squeeze"
      ],
      "metadata": {
        "id": "_iWOROtYlD0v"
      }
    },
    {
      "cell_type": "code",
      "source": [
        "tf.squeeze(tf.expand_dims(a_tensor, axis=2))"
      ],
      "metadata": {
        "id": "IPClzd1CkAMO",
        "outputId": "37ec4983-ce81-4897-d0d6-aa210a8622b0",
        "colab": {
          "base_uri": "https://localhost:8080/"
        }
      },
      "execution_count": 30,
      "outputs": [
        {
          "output_type": "execute_result",
          "data": {
            "text/plain": [
              "<tf.Tensor: shape=(3, 4, 2), dtype=float64, numpy=\n",
              "array([[[ 1.47630569,  4.43977872],\n",
              "        [-7.43028114, -0.80163526],\n",
              "        [-9.95360956,  3.06618057],\n",
              "        [-9.4019737 , -1.51439202]],\n",
              "\n",
              "       [[-9.47173424,  6.68559221],\n",
              "        [ 5.9331059 , -6.34907511],\n",
              "        [-2.93324985,  5.0203594 ],\n",
              "        [ 9.0118155 ,  9.76772985]],\n",
              "\n",
              "       [[ 8.34078037,  5.23837545],\n",
              "        [ 4.70718525, -3.4766256 ],\n",
              "        [ 0.34922764,  3.16928852],\n",
              "        [-4.51750996,  0.02442664]]])>"
            ]
          },
          "metadata": {},
          "execution_count": 30
        }
      ]
    },
    {
      "cell_type": "code",
      "source": [
        ""
      ],
      "metadata": {
        "id": "fCeHNDFdlKlV"
      },
      "execution_count": null,
      "outputs": []
    }
  ]
}