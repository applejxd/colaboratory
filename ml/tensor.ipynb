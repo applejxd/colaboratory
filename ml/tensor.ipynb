{
  "nbformat": 4,
  "nbformat_minor": 0,
  "metadata": {
    "colab": {
      "name": "tensor.ipynb",
      "provenance": [],
      "authorship_tag": "ABX9TyNXdjOaD3+iXFlK1Nw9TgBd",
      "include_colab_link": true
    },
    "kernelspec": {
      "name": "python3",
      "display_name": "Python 3"
    },
    "language_info": {
      "name": "python"
    }
  },
  "cells": [
    {
      "cell_type": "markdown",
      "metadata": {
        "id": "view-in-github",
        "colab_type": "text"
      },
      "source": [
        "<a href=\"https://colab.research.google.com/github/applejxd/colaboratory/blob/master/ml/tensor.ipynb\" target=\"_parent\"><img src=\"https://colab.research.google.com/assets/colab-badge.svg\" alt=\"Open In Colab\"/></a>"
      ]
    },
    {
      "cell_type": "markdown",
      "source": [
        "# TensorFlow テンソル操作メモ"
      ],
      "metadata": {
        "id": "ZCsBQSYiZAY4"
      }
    },
    {
      "cell_type": "markdown",
      "source": [
        "[TensorFlow メソッド、shape をいじる系メモ](https://qiita.com/cfiken/items/04925d4da39e1a24114e)"
      ],
      "metadata": {
        "id": "liyRUeceZC3G"
      }
    },
    {
      "cell_type": "code",
      "execution_count": 1,
      "metadata": {
        "id": "d0M36WteuMW2"
      },
      "outputs": [],
      "source": [
        "import numpy as np\n",
        "import tensorflow as tf\n",
        "from tensorflow import keras"
      ]
    },
    {
      "cell_type": "code",
      "source": [
        "a_tensor = tf.random.uniform(shape=[3, 5, 2], minval=-10, maxval=10, dtype=tf.float64)\n",
        "a_tensor"
      ],
      "metadata": {
        "id": "RE20tJgfuRbq",
        "colab": {
          "base_uri": "https://localhost:8080/"
        },
        "outputId": "f6054e22-ac27-48a1-c171-cc72baa9b102"
      },
      "execution_count": 6,
      "outputs": [
        {
          "output_type": "execute_result",
          "data": {
            "text/plain": [
              "<tf.Tensor: shape=(3, 5, 2), dtype=float64, numpy=\n",
              "array([[[ 1.93958273,  2.47649068],\n",
              "        [-2.68770597, -9.37096954],\n",
              "        [ 0.86441707,  3.58717915],\n",
              "        [-1.70364915,  5.74635864],\n",
              "        [ 2.19768924,  0.43933695]],\n",
              "\n",
              "       [[ 4.22154174, -9.6846359 ],\n",
              "        [ 7.75456721,  7.88153707],\n",
              "        [ 0.4655373 , -0.62459365],\n",
              "        [-7.74720726,  0.20680975],\n",
              "        [ 5.31531865,  4.30025464]],\n",
              "\n",
              "       [[-1.80344762,  6.7775036 ],\n",
              "        [-9.12488846,  8.33154901],\n",
              "        [ 9.59081269, -6.7596981 ],\n",
              "        [ 5.4673734 ,  6.01628773],\n",
              "        [ 6.87358599, -6.45304105]]])>"
            ]
          },
          "metadata": {},
          "execution_count": 6
        }
      ]
    },
    {
      "cell_type": "code",
      "source": [
        "tf.tile(a_tensor, multiples=(1,1,2))"
      ],
      "metadata": {
        "colab": {
          "base_uri": "https://localhost:8080/"
        },
        "id": "rhgUgaLCg-tI",
        "outputId": "500e0394-1fc8-44e4-9b00-3658d42d1efa"
      },
      "execution_count": 14,
      "outputs": [
        {
          "output_type": "execute_result",
          "data": {
            "text/plain": [
              "<tf.Tensor: shape=(3, 5, 4), dtype=float64, numpy=\n",
              "array([[[ 1.93958273,  2.47649068,  1.93958273,  2.47649068],\n",
              "        [-2.68770597, -9.37096954, -2.68770597, -9.37096954],\n",
              "        [ 0.86441707,  3.58717915,  0.86441707,  3.58717915],\n",
              "        [-1.70364915,  5.74635864, -1.70364915,  5.74635864],\n",
              "        [ 2.19768924,  0.43933695,  2.19768924,  0.43933695]],\n",
              "\n",
              "       [[ 4.22154174, -9.6846359 ,  4.22154174, -9.6846359 ],\n",
              "        [ 7.75456721,  7.88153707,  7.75456721,  7.88153707],\n",
              "        [ 0.4655373 , -0.62459365,  0.4655373 , -0.62459365],\n",
              "        [-7.74720726,  0.20680975, -7.74720726,  0.20680975],\n",
              "        [ 5.31531865,  4.30025464,  5.31531865,  4.30025464]],\n",
              "\n",
              "       [[-1.80344762,  6.7775036 , -1.80344762,  6.7775036 ],\n",
              "        [-9.12488846,  8.33154901, -9.12488846,  8.33154901],\n",
              "        [ 9.59081269, -6.7596981 ,  9.59081269, -6.7596981 ],\n",
              "        [ 5.4673734 ,  6.01628773,  5.4673734 ,  6.01628773],\n",
              "        [ 6.87358599, -6.45304105,  6.87358599, -6.45304105]]])>"
            ]
          },
          "metadata": {},
          "execution_count": 14
        }
      ]
    },
    {
      "cell_type": "code",
      "source": [
        "tf.expand_dims(a_tensor, axis=2)"
      ],
      "metadata": {
        "colab": {
          "base_uri": "https://localhost:8080/"
        },
        "id": "ztVXtggfiI23",
        "outputId": "32aeb806-4f93-48d5-f51c-666234dcbde5"
      },
      "execution_count": 19,
      "outputs": [
        {
          "output_type": "execute_result",
          "data": {
            "text/plain": [
              "<tf.Tensor: shape=(3, 5, 1, 2), dtype=float64, numpy=\n",
              "array([[[[ 1.93958273,  2.47649068]],\n",
              "\n",
              "        [[-2.68770597, -9.37096954]],\n",
              "\n",
              "        [[ 0.86441707,  3.58717915]],\n",
              "\n",
              "        [[-1.70364915,  5.74635864]],\n",
              "\n",
              "        [[ 2.19768924,  0.43933695]]],\n",
              "\n",
              "\n",
              "       [[[ 4.22154174, -9.6846359 ]],\n",
              "\n",
              "        [[ 7.75456721,  7.88153707]],\n",
              "\n",
              "        [[ 0.4655373 , -0.62459365]],\n",
              "\n",
              "        [[-7.74720726,  0.20680975]],\n",
              "\n",
              "        [[ 5.31531865,  4.30025464]]],\n",
              "\n",
              "\n",
              "       [[[-1.80344762,  6.7775036 ]],\n",
              "\n",
              "        [[-9.12488846,  8.33154901]],\n",
              "\n",
              "        [[ 9.59081269, -6.7596981 ]],\n",
              "\n",
              "        [[ 5.4673734 ,  6.01628773]],\n",
              "\n",
              "        [[ 6.87358599, -6.45304105]]]])>"
            ]
          },
          "metadata": {},
          "execution_count": 19
        }
      ]
    },
    {
      "cell_type": "code",
      "source": [
        "# 合計サイズが 3x5x2 となるように変形する必要がある\n",
        "tf.reshape(a_tensor, shape=(-1, 3, 2))"
      ],
      "metadata": {
        "colab": {
          "base_uri": "https://localhost:8080/"
        },
        "id": "VUA4mKBGjWlG",
        "outputId": "6736f612-5274-4142-9535-02d3c3a49c75"
      },
      "execution_count": 21,
      "outputs": [
        {
          "output_type": "execute_result",
          "data": {
            "text/plain": [
              "<tf.Tensor: shape=(5, 3, 2), dtype=float64, numpy=\n",
              "array([[[ 1.93958273,  2.47649068],\n",
              "        [-2.68770597, -9.37096954],\n",
              "        [ 0.86441707,  3.58717915]],\n",
              "\n",
              "       [[-1.70364915,  5.74635864],\n",
              "        [ 2.19768924,  0.43933695],\n",
              "        [ 4.22154174, -9.6846359 ]],\n",
              "\n",
              "       [[ 7.75456721,  7.88153707],\n",
              "        [ 0.4655373 , -0.62459365],\n",
              "        [-7.74720726,  0.20680975]],\n",
              "\n",
              "       [[ 5.31531865,  4.30025464],\n",
              "        [-1.80344762,  6.7775036 ],\n",
              "        [-9.12488846,  8.33154901]],\n",
              "\n",
              "       [[ 9.59081269, -6.7596981 ],\n",
              "        [ 5.4673734 ,  6.01628773],\n",
              "        [ 6.87358599, -6.45304105]]])>"
            ]
          },
          "metadata": {},
          "execution_count": 21
        }
      ]
    },
    {
      "cell_type": "code",
      "source": [
        ""
      ],
      "metadata": {
        "id": "LsORSgDCk344"
      },
      "execution_count": null,
      "outputs": []
    }
  ]
}