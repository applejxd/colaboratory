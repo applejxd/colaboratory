{
  "nbformat": 4,
  "nbformat_minor": 0,
  "metadata": {
    "colab": {
      "name": "tensor.ipynb",
      "provenance": [],
      "toc_visible": true,
      "authorship_tag": "ABX9TyNDkxsgTFjK07lG5ec469h+",
      "include_colab_link": true
    },
    "kernelspec": {
      "name": "python3",
      "display_name": "Python 3"
    },
    "language_info": {
      "name": "python"
    }
  },
  "cells": [
    {
      "cell_type": "markdown",
      "metadata": {
        "id": "view-in-github",
        "colab_type": "text"
      },
      "source": [
        "<a href=\"https://colab.research.google.com/github/applejxd/colaboratory/blob/master/ml/tensor.ipynb\" target=\"_parent\"><img src=\"https://colab.research.google.com/assets/colab-badge.svg\" alt=\"Open In Colab\"/></a>"
      ]
    },
    {
      "cell_type": "markdown",
      "source": [
        "# TensorFlow テンソル操作メモ"
      ],
      "metadata": {
        "id": "ZCsBQSYiZAY4"
      }
    },
    {
      "cell_type": "markdown",
      "source": [
        "[TensorFlow メソッド、shape をいじる系メモ](https://qiita.com/cfiken/items/04925d4da39e1a24114e)"
      ],
      "metadata": {
        "id": "liyRUeceZC3G"
      }
    },
    {
      "cell_type": "code",
      "execution_count": 135,
      "metadata": {
        "id": "d0M36WteuMW2"
      },
      "outputs": [],
      "source": [
        "import numpy as np\n",
        "import tensorflow as tf\n",
        "from tensorflow import keras"
      ]
    },
    {
      "cell_type": "code",
      "source": [
        "a_tensor = tf.random.uniform(shape=[4, 2, 3], minval=-10, maxval=10, dtype=tf.float64)\n",
        "a_tensor"
      ],
      "metadata": {
        "id": "RE20tJgfuRbq",
        "colab": {
          "base_uri": "https://localhost:8080/"
        },
        "outputId": "eb442d51-97ae-461b-c02c-402e162f69d6"
      },
      "execution_count": 136,
      "outputs": [
        {
          "output_type": "execute_result",
          "data": {
            "text/plain": [
              "<tf.Tensor: shape=(4, 2, 3), dtype=float64, numpy=\n",
              "array([[[-0.97107534, -9.71347533, -3.5854277 ],\n",
              "        [ 0.84162925,  6.47108725,  7.69971562]],\n",
              "\n",
              "       [[-8.38022846, -4.35354346, -2.24024079],\n",
              "        [ 9.71530559, -7.27968402, -9.03988732]],\n",
              "\n",
              "       [[-6.33562056,  3.1541116 ,  8.40375905],\n",
              "        [ 7.5423454 ,  1.25421169, -8.83770458]],\n",
              "\n",
              "       [[ 5.31751367,  0.07312144,  3.0733425 ],\n",
              "        [ 5.97940871,  1.98106017, -5.06841261]]])>"
            ]
          },
          "metadata": {},
          "execution_count": 136
        }
      ]
    },
    {
      "cell_type": "code",
      "source": [
        "tf.shape(a_tensor)"
      ],
      "metadata": {
        "colab": {
          "base_uri": "https://localhost:8080/"
        },
        "id": "hfYVYNq_xjUS",
        "outputId": "2e1fb8c7-58e8-43bc-84eb-9b5696086974"
      },
      "execution_count": 137,
      "outputs": [
        {
          "output_type": "execute_result",
          "data": {
            "text/plain": [
              "<tf.Tensor: shape=(3,), dtype=int32, numpy=array([4, 2, 3], dtype=int32)>"
            ]
          },
          "metadata": {},
          "execution_count": 137
        }
      ]
    },
    {
      "cell_type": "code",
      "source": [
        "b_tensor = tf.constant([[[1, 3, 5], [7, 11, 13]]], dtype=tf.float64)\n",
        "b_tensor"
      ],
      "metadata": {
        "id": "JG-DYcYpo58M",
        "outputId": "26d0588a-836c-4308-edcc-7c3f855f09d4",
        "colab": {
          "base_uri": "https://localhost:8080/"
        }
      },
      "execution_count": 138,
      "outputs": [
        {
          "output_type": "execute_result",
          "data": {
            "text/plain": [
              "<tf.Tensor: shape=(1, 2, 3), dtype=float64, numpy=\n",
              "array([[[ 1.,  3.,  5.],\n",
              "        [ 7., 11., 13.]]])>"
            ]
          },
          "metadata": {},
          "execution_count": 138
        }
      ]
    },
    {
      "cell_type": "markdown",
      "source": [
        "## 変形する"
      ],
      "metadata": {
        "id": "U5TXUsRteCHO"
      }
    },
    {
      "cell_type": "code",
      "source": [
        "# 合計サイズが 3x5x2 となるように変形する必要がある\n",
        "tf.reshape(a_tensor, shape=(-1, 3, 2))"
      ],
      "metadata": {
        "colab": {
          "base_uri": "https://localhost:8080/"
        },
        "id": "wwRiQ6KqeBig",
        "outputId": "1df23824-38d8-46ee-c4b4-29554cfb0b38"
      },
      "execution_count": 139,
      "outputs": [
        {
          "output_type": "execute_result",
          "data": {
            "text/plain": [
              "<tf.Tensor: shape=(4, 3, 2), dtype=float64, numpy=\n",
              "array([[[-0.97107534, -9.71347533],\n",
              "        [-3.5854277 ,  0.84162925],\n",
              "        [ 6.47108725,  7.69971562]],\n",
              "\n",
              "       [[-8.38022846, -4.35354346],\n",
              "        [-2.24024079,  9.71530559],\n",
              "        [-7.27968402, -9.03988732]],\n",
              "\n",
              "       [[-6.33562056,  3.1541116 ],\n",
              "        [ 8.40375905,  7.5423454 ],\n",
              "        [ 1.25421169, -8.83770458]],\n",
              "\n",
              "       [[ 5.31751367,  0.07312144],\n",
              "        [ 3.0733425 ,  5.97940871],\n",
              "        [ 1.98106017, -5.06841261]]])>"
            ]
          },
          "metadata": {},
          "execution_count": 139
        }
      ]
    },
    {
      "cell_type": "markdown",
      "source": [
        "## 拡大する"
      ],
      "metadata": {
        "id": "Q-OixoeFeKfK"
      }
    },
    {
      "cell_type": "markdown",
      "source": [
        "### 次元(添字)を増やす"
      ],
      "metadata": {
        "id": "uiEUkt-wgfW_"
      }
    },
    {
      "cell_type": "code",
      "source": [
        "tf.expand_dims(a_tensor, axis=2)"
      ],
      "metadata": {
        "colab": {
          "base_uri": "https://localhost:8080/"
        },
        "id": "L50IxT_BeLty",
        "outputId": "1ffac3da-a3fc-467a-8a3e-7cb43efa7dee"
      },
      "execution_count": 140,
      "outputs": [
        {
          "output_type": "execute_result",
          "data": {
            "text/plain": [
              "<tf.Tensor: shape=(4, 2, 1, 3), dtype=float64, numpy=\n",
              "array([[[[-0.97107534, -9.71347533, -3.5854277 ]],\n",
              "\n",
              "        [[ 0.84162925,  6.47108725,  7.69971562]]],\n",
              "\n",
              "\n",
              "       [[[-8.38022846, -4.35354346, -2.24024079]],\n",
              "\n",
              "        [[ 9.71530559, -7.27968402, -9.03988732]]],\n",
              "\n",
              "\n",
              "       [[[-6.33562056,  3.1541116 ,  8.40375905]],\n",
              "\n",
              "        [[ 7.5423454 ,  1.25421169, -8.83770458]]],\n",
              "\n",
              "\n",
              "       [[[ 5.31751367,  0.07312144,  3.0733425 ]],\n",
              "\n",
              "        [[ 5.97940871,  1.98106017, -5.06841261]]]])>"
            ]
          },
          "metadata": {},
          "execution_count": 140
        }
      ]
    },
    {
      "cell_type": "markdown",
      "source": [
        "### パディングする"
      ],
      "metadata": {
        "id": "lTIIUfywgi4g"
      }
    },
    {
      "cell_type": "code",
      "source": [
        "tf.pad(a_tensor, paddings=[[0,0],[0,0],[0,1]])"
      ],
      "metadata": {
        "colab": {
          "base_uri": "https://localhost:8080/"
        },
        "id": "yjfmT8AVeVlU",
        "outputId": "1115023e-4fac-4042-8f8a-ce78269b66e0"
      },
      "execution_count": 141,
      "outputs": [
        {
          "output_type": "execute_result",
          "data": {
            "text/plain": [
              "<tf.Tensor: shape=(4, 2, 4), dtype=float64, numpy=\n",
              "array([[[-0.97107534, -9.71347533, -3.5854277 ,  0.        ],\n",
              "        [ 0.84162925,  6.47108725,  7.69971562,  0.        ]],\n",
              "\n",
              "       [[-8.38022846, -4.35354346, -2.24024079,  0.        ],\n",
              "        [ 9.71530559, -7.27968402, -9.03988732,  0.        ]],\n",
              "\n",
              "       [[-6.33562056,  3.1541116 ,  8.40375905,  0.        ],\n",
              "        [ 7.5423454 ,  1.25421169, -8.83770458,  0.        ]],\n",
              "\n",
              "       [[ 5.31751367,  0.07312144,  3.0733425 ,  0.        ],\n",
              "        [ 5.97940871,  1.98106017, -5.06841261,  0.        ]]])>"
            ]
          },
          "metadata": {},
          "execution_count": 141
        }
      ]
    },
    {
      "cell_type": "markdown",
      "source": [
        "## 繰り返す"
      ],
      "metadata": {
        "id": "NmkhaygNd0_B"
      }
    },
    {
      "cell_type": "markdown",
      "source": [
        "### 次元(添字)を増やさず繰り返す"
      ],
      "metadata": {
        "id": "zvUD52nigok1"
      }
    },
    {
      "cell_type": "code",
      "source": [
        "tf.tile(a_tensor, multiples=(1,1,2))"
      ],
      "metadata": {
        "colab": {
          "base_uri": "https://localhost:8080/"
        },
        "id": "rhgUgaLCg-tI",
        "outputId": "cacafbf5-f4d9-4228-defb-2cfab47a3759"
      },
      "execution_count": 142,
      "outputs": [
        {
          "output_type": "execute_result",
          "data": {
            "text/plain": [
              "<tf.Tensor: shape=(4, 2, 6), dtype=float64, numpy=\n",
              "array([[[-0.97107534, -9.71347533, -3.5854277 , -0.97107534,\n",
              "         -9.71347533, -3.5854277 ],\n",
              "        [ 0.84162925,  6.47108725,  7.69971562,  0.84162925,\n",
              "          6.47108725,  7.69971562]],\n",
              "\n",
              "       [[-8.38022846, -4.35354346, -2.24024079, -8.38022846,\n",
              "         -4.35354346, -2.24024079],\n",
              "        [ 9.71530559, -7.27968402, -9.03988732,  9.71530559,\n",
              "         -7.27968402, -9.03988732]],\n",
              "\n",
              "       [[-6.33562056,  3.1541116 ,  8.40375905, -6.33562056,\n",
              "          3.1541116 ,  8.40375905],\n",
              "        [ 7.5423454 ,  1.25421169, -8.83770458,  7.5423454 ,\n",
              "          1.25421169, -8.83770458]],\n",
              "\n",
              "       [[ 5.31751367,  0.07312144,  3.0733425 ,  5.31751367,\n",
              "          0.07312144,  3.0733425 ],\n",
              "        [ 5.97940871,  1.98106017, -5.06841261,  5.97940871,\n",
              "          1.98106017, -5.06841261]]])>"
            ]
          },
          "metadata": {},
          "execution_count": 142
        }
      ]
    },
    {
      "cell_type": "markdown",
      "source": [
        "\\begin{equation}\n",
        "    b_{ijkl} = (a_{jkl} a_{jkl})\n",
        "\\end{equation}"
      ],
      "metadata": {
        "id": "5GZtfVFbT-5A"
      }
    },
    {
      "cell_type": "markdown",
      "source": [
        "### 次元(添字)を増やして繰り返す"
      ],
      "metadata": {
        "id": "f860_G1EiAI4"
      }
    },
    {
      "cell_type": "code",
      "source": [
        "tf.tile(tf.expand_dims(a_tensor, 0), [2, 1, 1, 1]) "
      ],
      "metadata": {
        "id": "LsORSgDCk344",
        "colab": {
          "base_uri": "https://localhost:8080/"
        },
        "outputId": "8dcd087e-099e-48ef-b964-faa2c61b2f93"
      },
      "execution_count": 143,
      "outputs": [
        {
          "output_type": "execute_result",
          "data": {
            "text/plain": [
              "<tf.Tensor: shape=(2, 4, 2, 3), dtype=float64, numpy=\n",
              "array([[[[-0.97107534, -9.71347533, -3.5854277 ],\n",
              "         [ 0.84162925,  6.47108725,  7.69971562]],\n",
              "\n",
              "        [[-8.38022846, -4.35354346, -2.24024079],\n",
              "         [ 9.71530559, -7.27968402, -9.03988732]],\n",
              "\n",
              "        [[-6.33562056,  3.1541116 ,  8.40375905],\n",
              "         [ 7.5423454 ,  1.25421169, -8.83770458]],\n",
              "\n",
              "        [[ 5.31751367,  0.07312144,  3.0733425 ],\n",
              "         [ 5.97940871,  1.98106017, -5.06841261]]],\n",
              "\n",
              "\n",
              "       [[[-0.97107534, -9.71347533, -3.5854277 ],\n",
              "         [ 0.84162925,  6.47108725,  7.69971562]],\n",
              "\n",
              "        [[-8.38022846, -4.35354346, -2.24024079],\n",
              "         [ 9.71530559, -7.27968402, -9.03988732]],\n",
              "\n",
              "        [[-6.33562056,  3.1541116 ,  8.40375905],\n",
              "         [ 7.5423454 ,  1.25421169, -8.83770458]],\n",
              "\n",
              "        [[ 5.31751367,  0.07312144,  3.0733425 ],\n",
              "         [ 5.97940871,  1.98106017, -5.06841261]]]])>"
            ]
          },
          "metadata": {},
          "execution_count": 143
        }
      ]
    },
    {
      "cell_type": "markdown",
      "source": [
        "## 分割する"
      ],
      "metadata": {
        "id": "Au0hMLp9ebFI"
      }
    },
    {
      "cell_type": "code",
      "source": [
        "tf.split(a_tensor, [2, 1], 2)"
      ],
      "metadata": {
        "colab": {
          "base_uri": "https://localhost:8080/"
        },
        "id": "ULb3qFCfWcwR",
        "outputId": "723df2d9-96ad-4d6c-d514-971ab2c207af"
      },
      "execution_count": 144,
      "outputs": [
        {
          "output_type": "execute_result",
          "data": {
            "text/plain": [
              "[<tf.Tensor: shape=(4, 2, 2), dtype=float64, numpy=\n",
              " array([[[-0.97107534, -9.71347533],\n",
              "         [ 0.84162925,  6.47108725]],\n",
              " \n",
              "        [[-8.38022846, -4.35354346],\n",
              "         [ 9.71530559, -7.27968402]],\n",
              " \n",
              "        [[-6.33562056,  3.1541116 ],\n",
              "         [ 7.5423454 ,  1.25421169]],\n",
              " \n",
              "        [[ 5.31751367,  0.07312144],\n",
              "         [ 5.97940871,  1.98106017]]])>,\n",
              " <tf.Tensor: shape=(4, 2, 1), dtype=float64, numpy=\n",
              " array([[[-3.5854277 ],\n",
              "         [ 7.69971562]],\n",
              " \n",
              "        [[-2.24024079],\n",
              "         [-9.03988732]],\n",
              " \n",
              "        [[ 8.40375905],\n",
              "         [-8.83770458]],\n",
              " \n",
              "        [[ 3.0733425 ],\n",
              "         [-5.06841261]]])>]"
            ]
          },
          "metadata": {},
          "execution_count": 144
        }
      ]
    },
    {
      "cell_type": "markdown",
      "source": [
        "## 結合する"
      ],
      "metadata": {
        "id": "r0ET4SKqocOq"
      }
    },
    {
      "cell_type": "markdown",
      "source": [
        "### 次元(添字)を増やさず結合する"
      ],
      "metadata": {
        "id": "JkqBMDvNz5ii"
      }
    },
    {
      "cell_type": "markdown",
      "source": [
        "以下の条件が必要:\n",
        "- 型が一致している\n",
        "- 結合する axis 以外が一致している"
      ],
      "metadata": {
        "id": "-wU_IV5iz9ue"
      }
    },
    {
      "cell_type": "code",
      "source": [
        "tf.concat([a_tensor, b_tensor], axis=0)"
      ],
      "metadata": {
        "id": "QdMxMjMbodiF",
        "outputId": "48f72eeb-8ae8-4503-b310-819b625b6afb",
        "colab": {
          "base_uri": "https://localhost:8080/"
        }
      },
      "execution_count": 145,
      "outputs": [
        {
          "output_type": "execute_result",
          "data": {
            "text/plain": [
              "<tf.Tensor: shape=(5, 2, 3), dtype=float64, numpy=\n",
              "array([[[-0.97107534, -9.71347533, -3.5854277 ],\n",
              "        [ 0.84162925,  6.47108725,  7.69971562]],\n",
              "\n",
              "       [[-8.38022846, -4.35354346, -2.24024079],\n",
              "        [ 9.71530559, -7.27968402, -9.03988732]],\n",
              "\n",
              "       [[-6.33562056,  3.1541116 ,  8.40375905],\n",
              "        [ 7.5423454 ,  1.25421169, -8.83770458]],\n",
              "\n",
              "       [[ 5.31751367,  0.07312144,  3.0733425 ],\n",
              "        [ 5.97940871,  1.98106017, -5.06841261]],\n",
              "\n",
              "       [[ 1.        ,  3.        ,  5.        ],\n",
              "        [ 7.        , 11.        , 13.        ]]])>"
            ]
          },
          "metadata": {},
          "execution_count": 145
        }
      ]
    },
    {
      "cell_type": "markdown",
      "source": [
        "## 縮小する"
      ],
      "metadata": {
        "id": "BNPN9JEWlBFw"
      }
    },
    {
      "cell_type": "markdown",
      "source": [
        "ｔｆ.extend_dim の逆は tf.squeeze"
      ],
      "metadata": {
        "id": "_iWOROtYlD0v"
      }
    },
    {
      "cell_type": "code",
      "source": [
        "tf.squeeze(tf.expand_dims(a_tensor, axis=2))"
      ],
      "metadata": {
        "colab": {
          "base_uri": "https://localhost:8080/"
        },
        "id": "IPClzd1CkAMO",
        "outputId": "40045539-2edc-4413-ca31-739ae6baf412"
      },
      "execution_count": 146,
      "outputs": [
        {
          "output_type": "execute_result",
          "data": {
            "text/plain": [
              "<tf.Tensor: shape=(4, 2, 3), dtype=float64, numpy=\n",
              "array([[[-0.97107534, -9.71347533, -3.5854277 ],\n",
              "        [ 0.84162925,  6.47108725,  7.69971562]],\n",
              "\n",
              "       [[-8.38022846, -4.35354346, -2.24024079],\n",
              "        [ 9.71530559, -7.27968402, -9.03988732]],\n",
              "\n",
              "       [[-6.33562056,  3.1541116 ,  8.40375905],\n",
              "        [ 7.5423454 ,  1.25421169, -8.83770458]],\n",
              "\n",
              "       [[ 5.31751367,  0.07312144,  3.0733425 ],\n",
              "        [ 5.97940871,  1.98106017, -5.06841261]]])>"
            ]
          },
          "metadata": {},
          "execution_count": 146
        }
      ]
    }
  ]
}