{
  "nbformat": 4,
  "nbformat_minor": 0,
  "metadata": {
    "colab": {
      "provenance": [],
      "authorship_tag": "ABX9TyNVAwDsRbPfcc1I+yY1S1y4",
      "include_colab_link": true
    },
    "kernelspec": {
      "name": "python3",
      "display_name": "Python 3"
    },
    "language_info": {
      "name": "python"
    }
  },
  "cells": [
    {
      "cell_type": "markdown",
      "metadata": {
        "id": "view-in-github",
        "colab_type": "text"
      },
      "source": [
        "<a href=\"https://colab.research.google.com/github/applejxd/colaboratory/blob/master/ml/winograd.ipynb\" target=\"_parent\"><img src=\"https://colab.research.google.com/assets/colab-badge.svg\" alt=\"Open In Colab\"/></a>"
      ]
    },
    {
      "cell_type": "markdown",
      "source": [
        "深層学習での convolution は信号処理の correlation であることに注意.\n",
        "\n",
        "scipy の [correlate2d](https://docs.scipy.org/doc/scipy/reference/generated/scipy.signal.correlate2d.html) を使う."
      ],
      "metadata": {
        "id": "8d1aj5hmdqgW"
      }
    },
    {
      "cell_type": "code",
      "source": [
        "import numpy as np\n",
        "from scipy.signal import correlate2d\n",
        "\n",
        "def normal_convolution(input_matrix, kernel):\n",
        "    return correlate2d(input_matrix, kernel, mode='valid')\n",
        "\n",
        "# 入力画像（4x4）\n",
        "input_matrix = np.array([\n",
        "    [1, 2, 3, 4],\n",
        "    [5, 6, 7, 8],\n",
        "    [9, 10, 11, 12],\n",
        "    [13, 14, 15, 16]\n",
        "])\n",
        "\n",
        "# 3x3のカーネル\n",
        "kernel = np.array([\n",
        "    [1, 0, -1],\n",
        "    [1, 0, -1],\n",
        "    [1, 0, -1]\n",
        "])\n",
        "\n",
        "# 通常の畳み込みを実行\n",
        "output_normal = normal_convolution(input_matrix, kernel)\n",
        "print(\"通常の畳み込み結果:\")\n",
        "print(output_normal)"
      ],
      "metadata": {
        "colab": {
          "base_uri": "https://localhost:8080/"
        },
        "id": "JntYZo2ZZf0G",
        "outputId": "a7c893f7-2617-4a24-a1c6-a9f1dec84254"
      },
      "execution_count": 30,
      "outputs": [
        {
          "output_type": "stream",
          "name": "stdout",
          "text": [
            "通常の畳み込み結果:\n",
            "[[-6 -6]\n",
            " [-6 -6]]\n"
          ]
        }
      ]
    },
    {
      "cell_type": "markdown",
      "source": [
        "Winograd 畳み込み $F(2\\times2,3\\times3)$ を実行.\n",
        "\n",
        "これは出力する行列が 2x2 で、カーネルが 3x3 という意味。\n",
        "逆算して入力する行列は 4x4.\n",
        "\n",
        "公式は[こちら](https://proc-cpuinfo.fixstars.com/2017/06/winograd-minimal-filtering/)参照."
      ],
      "metadata": {
        "id": "jLNjbOzCd9Wq"
      }
    },
    {
      "cell_type": "code",
      "source": [
        "def winograd_convolution(input_matrix, kernel):\n",
        "    # フィルタ変換行列\n",
        "    G = np.array([\n",
        "        [1, 0, 0],\n",
        "        [0.5, 0.5, 0.5],\n",
        "        [0.5, -0.5, 0.5],\n",
        "        [0, 0, 1]\n",
        "    ])\n",
        "\n",
        "    # 入力変換行列\n",
        "    B = np.array([\n",
        "        [1, 0, -1, 0],\n",
        "        [0, 1, 1, 0],\n",
        "        [0, -1, 1, 0],\n",
        "        [0, 1, 0, -1]\n",
        "    ])\n",
        "\n",
        "    # 出力変換行列\n",
        "    A = np.array([\n",
        "        [1, 1, 1, 0],\n",
        "        [0, 1, -1, -1]\n",
        "    ])\n",
        "\n",
        "    # フィルタ変換\n",
        "    Gg = np.dot(G, np.dot(kernel, G.T))\n",
        "\n",
        "    # 入力ブロックの変換\n",
        "    d = input_matrix[:4, :4]\n",
        "    Bd = np.dot(B, np.dot(d, B.T))\n",
        "\n",
        "    # 要素ごとの積\n",
        "    Y = Gg * Bd\n",
        "\n",
        "    # 出力変換\n",
        "    Y_transformed = np.dot(A, np.dot(Y, A.T))\n",
        "\n",
        "    return Y_transformed[:2, :2]\n",
        "\n",
        "# Winogradアルゴリズムによる畳み込みを実行\n",
        "output_winograd = winograd_convolution(input_matrix, kernel)\n",
        "print(\"Winogradアルゴリズムによる畳み込み結果:\")\n",
        "print(output_winograd)"
      ],
      "metadata": {
        "colab": {
          "base_uri": "https://localhost:8080/"
        },
        "id": "-mde77tHaRjJ",
        "outputId": "926c27ea-7f03-42ab-f41e-6fd7ff076e93"
      },
      "execution_count": 31,
      "outputs": [
        {
          "output_type": "stream",
          "name": "stdout",
          "text": [
            "Winogradアルゴリズムによる畳み込み結果:\n",
            "[[-6. -6.]\n",
            " [-6. -6.]]\n"
          ]
        }
      ]
    },
    {
      "cell_type": "code",
      "source": [],
      "metadata": {
        "id": "4fDWTtE_a2iU"
      },
      "execution_count": null,
      "outputs": []
    }
  ]
}