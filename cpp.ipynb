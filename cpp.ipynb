{
  "nbformat": 4,
  "nbformat_minor": 0,
  "metadata": {
    "colab": {
      "provenance": [],
      "authorship_tag": "ABX9TyMWa1PpjpDvbqAa+YNh3+Zt",
      "include_colab_link": true
    },
    "kernelspec": {
      "name": "python3",
      "display_name": "Python 3"
    },
    "language_info": {
      "name": "python"
    }
  },
  "cells": [
    {
      "cell_type": "markdown",
      "metadata": {
        "id": "view-in-github",
        "colab_type": "text"
      },
      "source": [
        "<a href=\"https://colab.research.google.com/github/applejxd/colaboratory/blob/master/cpp.ipynb\" target=\"_parent\"><img src=\"https://colab.research.google.com/assets/colab-badge.svg\" alt=\"Open In Colab\"/></a>"
      ]
    },
    {
      "cell_type": "markdown",
      "source": [
        "## C++ コードの実行方法"
      ],
      "metadata": {
        "id": "Zs5Kf0Jp_raj"
      }
    },
    {
      "cell_type": "code",
      "source": [
        "!g++ --version"
      ],
      "metadata": {
        "colab": {
          "base_uri": "https://localhost:8080/"
        },
        "id": "O9KjI-oq_MG2",
        "outputId": "e926cda6-6632-476e-f33a-50a3767af923"
      },
      "execution_count": 28,
      "outputs": [
        {
          "output_type": "stream",
          "name": "stdout",
          "text": [
            "g++ (Ubuntu 9.4.0-1ubuntu1~20.04.1) 9.4.0\n",
            "Copyright (C) 2019 Free Software Foundation, Inc.\n",
            "This is free software; see the source for copying conditions.  There is NO\n",
            "warranty; not even for MERCHANTABILITY or FITNESS FOR A PARTICULAR PURPOSE.\n",
            "\n"
          ]
        }
      ]
    },
    {
      "cell_type": "code",
      "execution_count": 25,
      "metadata": {
        "colab": {
          "base_uri": "https://localhost:8080/"
        },
        "id": "pCvdzjPx-zFF",
        "outputId": "b563f866-1d48-4171-dffe-faaeb498c357"
      },
      "outputs": [
        {
          "output_type": "stream",
          "name": "stdout",
          "text": [
            "Overwriting temp.cpp\n"
          ]
        }
      ],
      "source": [
        "%%writefile temp.cpp\n",
        "#include <iostream>\n",
        "int main() {\n",
        "  std::cout << \"Hello World!\" << std::endl;\n",
        "}"
      ]
    },
    {
      "cell_type": "code",
      "source": [
        "!g++ temp.cpp; ./a.out"
      ],
      "metadata": {
        "colab": {
          "base_uri": "https://localhost:8080/"
        },
        "id": "j2lfNR91-73X",
        "outputId": "2d048f0c-ec34-4e95-bb42-e0b8cba29328"
      },
      "execution_count": 27,
      "outputs": [
        {
          "output_type": "stream",
          "name": "stdout",
          "text": [
            "Hello World!\n"
          ]
        }
      ]
    },
    {
      "cell_type": "markdown",
      "source": [
        "## 計算時間計測"
      ],
      "metadata": {
        "id": "9y6keLrp_uXJ"
      }
    },
    {
      "cell_type": "markdown",
      "source": [
        "処理時間の計測は標準ライブラリの chrono で実施可能"
      ],
      "metadata": {
        "id": "33cIwNXKBD-9"
      }
    },
    {
      "cell_type": "code",
      "source": [
        "%%writefile temp.cpp\n",
        "#include <iostream>\n",
        "#include <vector>\n",
        "#include <chrono>\n",
        "\n",
        "int main() {\n",
        "    // 計測スタート時刻を保存\n",
        "    auto start = std::chrono::system_clock::now();\n",
        "\n",
        "    // 計測対象の計算\n",
        "    std::vector<int> v;\n",
        "    constexpr int N = 1000*1000;\n",
        "    for (int i = 0; i < N; ++i) {\n",
        "        v.push_back(i);\n",
        "    }\n",
        "\n",
        "    // 計測終了時刻を保存\n",
        "    auto end = std::chrono::system_clock::now();\n",
        "    // 要した時間を計算\n",
        "    auto dur = end - start;\n",
        "    auto msec = std::chrono::duration_cast<std::chrono::milliseconds>(dur).count();\n",
        "\n",
        "    // 要した時間をミリ秒（1/1000秒）に変換して表示\n",
        "    std::cout << msec << \" milli sec \\n\";\n",
        "\n",
        "    return 0;\n",
        "}"
      ],
      "metadata": {
        "id": "0GBYAoRz-_4C",
        "outputId": "3d12a7fe-128a-49dd-8cea-c1d43746da32",
        "colab": {
          "base_uri": "https://localhost:8080/"
        }
      },
      "execution_count": 22,
      "outputs": [
        {
          "output_type": "stream",
          "name": "stdout",
          "text": [
            "Overwriting temp.cpp\n"
          ]
        }
      ]
    },
    {
      "cell_type": "code",
      "source": [
        "!g++ temp.cpp; ./a.out"
      ],
      "metadata": {
        "id": "9_tqaJZbAWHs",
        "outputId": "acfdefc8-1834-4db1-f2c7-60de33b11e6b",
        "colab": {
          "base_uri": "https://localhost:8080/"
        }
      },
      "execution_count": 23,
      "outputs": [
        {
          "output_type": "stream",
          "name": "stdout",
          "text": [
            "14 milli sec \n"
          ]
        }
      ]
    },
    {
      "cell_type": "markdown",
      "source": [
        "## OpenMP"
      ],
      "metadata": {
        "id": "yXtQOzXHB7C1"
      }
    },
    {
      "cell_type": "code",
      "source": [
        "%%writefile temp.cpp\n",
        "#include <stdio.h>\n",
        "#include <omp.h>\n",
        "\n",
        "int main() {\n",
        "#ifdef _OPENMP\n",
        "    printf(\"OpenMP\\n\");\n",
        "#else\n",
        "    printf(\"no use\\n\");\n",
        "#endif\n",
        "    return 0;\n",
        "}"
      ],
      "metadata": {
        "id": "f81tFbJFB8kX",
        "outputId": "fe472983-342f-48fc-9134-c36eb4fe04ef",
        "colab": {
          "base_uri": "https://localhost:8080/"
        }
      },
      "execution_count": 29,
      "outputs": [
        {
          "output_type": "stream",
          "name": "stdout",
          "text": [
            "Overwriting temp.cpp\n"
          ]
        }
      ]
    },
    {
      "cell_type": "code",
      "source": [
        "!g++ -fopenmp temp.cpp; ./a.out"
      ],
      "metadata": {
        "id": "JoSKTmDyCDmm",
        "outputId": "7004d35d-143c-4600-dbe3-194ac4b0b1a1",
        "colab": {
          "base_uri": "https://localhost:8080/"
        }
      },
      "execution_count": 31,
      "outputs": [
        {
          "output_type": "stream",
          "name": "stdout",
          "text": [
            "OpenMP\n"
          ]
        }
      ]
    },
    {
      "cell_type": "code",
      "source": [
        "%%writefile temp.cpp\n",
        "#include <iostream>\n",
        "#include <vector>\n",
        "#include <chrono>\n",
        "#include <omp.h>\n",
        "\n",
        "int main() {\n",
        "    // 計測スタート時刻を保存\n",
        "    auto start = std::chrono::system_clock::now();\n",
        "\n",
        "    // 計測対象の計算\n",
        "    constexpr int N = 1000*1000;\n",
        "    std::vector<int> v(N);\n",
        "#pragma omp parallel for\n",
        "    for (int i = 0; i < N; ++i) {\n",
        "        v[i] = i;\n",
        "    }\n",
        "\n",
        "    // 計測終了時刻を保存\n",
        "    auto end = std::chrono::system_clock::now();\n",
        "    // 要した時間を計算\n",
        "    auto dur = end - start;\n",
        "    auto msec = std::chrono::duration_cast<std::chrono::milliseconds>(dur).count();\n",
        "\n",
        "    // 要した時間をミリ秒（1/1000秒）に変換して表示\n",
        "    std::cout << msec << \" milli sec \\n\";\n",
        "\n",
        "    return 0;\n",
        "}"
      ],
      "metadata": {
        "id": "cLjL6zZAAegI",
        "outputId": "3f740585-6ce4-4dbb-c6d0-bdacaa96ff68",
        "colab": {
          "base_uri": "https://localhost:8080/"
        }
      },
      "execution_count": 44,
      "outputs": [
        {
          "output_type": "stream",
          "name": "stdout",
          "text": [
            "Overwriting temp.cpp\n"
          ]
        }
      ]
    },
    {
      "cell_type": "code",
      "source": [
        "!g++ -fopenmp temp.cpp; ./a.out"
      ],
      "metadata": {
        "id": "DR_EPzsUBXJe",
        "outputId": "3b715e77-f46e-41d6-e54d-b95ac28b950b",
        "colab": {
          "base_uri": "https://localhost:8080/"
        }
      },
      "execution_count": 45,
      "outputs": [
        {
          "output_type": "stream",
          "name": "stdout",
          "text": [
            "4 milli sec \n"
          ]
        }
      ]
    },
    {
      "cell_type": "code",
      "source": [],
      "metadata": {
        "id": "zVkxa8coBeH8"
      },
      "execution_count": null,
      "outputs": []
    }
  ]
}