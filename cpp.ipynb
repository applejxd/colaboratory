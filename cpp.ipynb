{
  "nbformat": 4,
  "nbformat_minor": 0,
  "metadata": {
    "colab": {
      "provenance": [],
      "authorship_tag": "ABX9TyM8rnmvPSeLcR+m/l0Idwxm",
      "include_colab_link": true
    },
    "kernelspec": {
      "name": "python3",
      "display_name": "Python 3"
    },
    "language_info": {
      "name": "python"
    },
    "accelerator": "GPU",
    "gpuClass": "standard"
  },
  "cells": [
    {
      "cell_type": "markdown",
      "metadata": {
        "id": "view-in-github",
        "colab_type": "text"
      },
      "source": [
        "<a href=\"https://colab.research.google.com/github/applejxd/colaboratory/blob/master/cpp.ipynb\" target=\"_parent\"><img src=\"https://colab.research.google.com/assets/colab-badge.svg\" alt=\"Open In Colab\"/></a>"
      ]
    },
    {
      "cell_type": "markdown",
      "source": [
        "## C++ コードの実行方法"
      ],
      "metadata": {
        "id": "Zs5Kf0Jp_raj"
      }
    },
    {
      "cell_type": "code",
      "source": [
        "!g++ --version"
      ],
      "metadata": {
        "colab": {
          "base_uri": "https://localhost:8080/"
        },
        "id": "O9KjI-oq_MG2",
        "outputId": "ab97298c-de17-48f7-b222-25235119bfc0"
      },
      "execution_count": 1,
      "outputs": [
        {
          "output_type": "stream",
          "name": "stdout",
          "text": [
            "g++ (Ubuntu 9.4.0-1ubuntu1~20.04.1) 9.4.0\n",
            "Copyright (C) 2019 Free Software Foundation, Inc.\n",
            "This is free software; see the source for copying conditions.  There is NO\n",
            "warranty; not even for MERCHANTABILITY or FITNESS FOR A PARTICULAR PURPOSE.\n",
            "\n"
          ]
        }
      ]
    },
    {
      "cell_type": "code",
      "execution_count": 2,
      "metadata": {
        "colab": {
          "base_uri": "https://localhost:8080/"
        },
        "id": "pCvdzjPx-zFF",
        "outputId": "fb00526e-9364-40f2-f562-6d227574dc52"
      },
      "outputs": [
        {
          "output_type": "stream",
          "name": "stdout",
          "text": [
            "Writing temp.cpp\n"
          ]
        }
      ],
      "source": [
        "%%writefile temp.cpp\n",
        "#include <iostream>\n",
        "int main() {\n",
        "  std::cout << \"Hello World!\" << std::endl;\n",
        "}"
      ]
    },
    {
      "cell_type": "code",
      "source": [
        "!g++ temp.cpp; ./a.out"
      ],
      "metadata": {
        "colab": {
          "base_uri": "https://localhost:8080/"
        },
        "id": "j2lfNR91-73X",
        "outputId": "bacf32c1-4cd6-41db-8986-b53e1c9fa497"
      },
      "execution_count": 3,
      "outputs": [
        {
          "output_type": "stream",
          "name": "stdout",
          "text": [
            "Hello World!\n"
          ]
        }
      ]
    },
    {
      "cell_type": "markdown",
      "source": [
        "## 計算時間計測"
      ],
      "metadata": {
        "id": "9y6keLrp_uXJ"
      }
    },
    {
      "cell_type": "markdown",
      "source": [
        "処理時間の計測は[標準ライブラリの chrono で実施可能](http://vivi.dyndns.org/tech/cpp/timeMeasurement.html)"
      ],
      "metadata": {
        "id": "33cIwNXKBD-9"
      }
    },
    {
      "cell_type": "code",
      "source": [
        "%%writefile temp.cpp\n",
        "#include <iostream>\n",
        "#include <vector>\n",
        "#include <chrono>\n",
        "\n",
        "int main() {\n",
        "    // 計測スタート時刻を保存\n",
        "    auto start = std::chrono::system_clock::now();\n",
        "\n",
        "    // 計測対象の計算\n",
        "    std::vector<int> v;\n",
        "    constexpr int N = 1000*1000;\n",
        "    for (int i = 0; i < N; ++i) {\n",
        "        v.push_back(i);\n",
        "    }\n",
        "\n",
        "    // 計測終了時刻を保存\n",
        "    auto end = std::chrono::system_clock::now();\n",
        "    // 要した時間を計算\n",
        "    auto dur = end - start;\n",
        "    auto msec = std::chrono::duration_cast<std::chrono::milliseconds>(dur).count();\n",
        "\n",
        "    // 要した時間をミリ秒（1/1000秒）に変換して表示\n",
        "    std::cout << msec << \" milli sec \\n\";\n",
        "\n",
        "    return 0;\n",
        "}"
      ],
      "metadata": {
        "id": "0GBYAoRz-_4C",
        "colab": {
          "base_uri": "https://localhost:8080/"
        },
        "outputId": "5cbad156-3f84-4ffb-f7d7-73fd0f214d2d"
      },
      "execution_count": 4,
      "outputs": [
        {
          "output_type": "stream",
          "name": "stdout",
          "text": [
            "Overwriting temp.cpp\n"
          ]
        }
      ]
    },
    {
      "cell_type": "code",
      "source": [
        "!g++ temp.cpp; ./a.out"
      ],
      "metadata": {
        "colab": {
          "base_uri": "https://localhost:8080/"
        },
        "id": "9_tqaJZbAWHs",
        "outputId": "1d4185ed-5237-4ab8-d3b3-9712f389a617"
      },
      "execution_count": 5,
      "outputs": [
        {
          "output_type": "stream",
          "name": "stdout",
          "text": [
            "23 milli sec \n"
          ]
        }
      ]
    },
    {
      "cell_type": "markdown",
      "source": [
        "## OpenMP"
      ],
      "metadata": {
        "id": "yXtQOzXHB7C1"
      }
    },
    {
      "cell_type": "code",
      "source": [
        "%%writefile temp.cpp\n",
        "#include <stdio.h>\n",
        "#include <omp.h>\n",
        "\n",
        "int main() {\n",
        "#ifdef _OPENMP\n",
        "    printf(\"OpenMP\\n\");\n",
        "#else\n",
        "    printf(\"no use\\n\");\n",
        "#endif\n",
        "    return 0;\n",
        "}"
      ],
      "metadata": {
        "colab": {
          "base_uri": "https://localhost:8080/"
        },
        "id": "f81tFbJFB8kX",
        "outputId": "3623eeca-d9a6-4ccf-fff3-377736b75c17"
      },
      "execution_count": 6,
      "outputs": [
        {
          "output_type": "stream",
          "name": "stdout",
          "text": [
            "Overwriting temp.cpp\n"
          ]
        }
      ]
    },
    {
      "cell_type": "code",
      "source": [
        "!g++ -fopenmp temp.cpp; ./a.out"
      ],
      "metadata": {
        "colab": {
          "base_uri": "https://localhost:8080/"
        },
        "id": "JoSKTmDyCDmm",
        "outputId": "be87f04b-a9cf-4538-a28d-e3e93cbba05f"
      },
      "execution_count": 7,
      "outputs": [
        {
          "output_type": "stream",
          "name": "stdout",
          "text": [
            "OpenMP\n"
          ]
        }
      ]
    },
    {
      "cell_type": "code",
      "source": [
        "%%writefile temp.cpp\n",
        "#include <iostream>\n",
        "#include <vector>\n",
        "#include <chrono>\n",
        "#ifdef _OPENMP\n",
        "#include <omp.h>\n",
        "#endif\n",
        "\n",
        "int main() {\n",
        "    // 計測スタート時刻を保存\n",
        "    auto start = std::chrono::system_clock::now();\n",
        "\n",
        "    // 計測対象の計算\n",
        "    constexpr int N = 1000*1000;\n",
        "    std::vector<int> v(N);\n",
        "#pragma omp parallel for\n",
        "    for (int i = 0; i < N; ++i) {\n",
        "        v[i] = i;\n",
        "    }\n",
        "\n",
        "    // 計測終了時刻を保存\n",
        "    auto end = std::chrono::system_clock::now();\n",
        "    // 要した時間を計算\n",
        "    auto dur = end - start;\n",
        "    auto msec = std::chrono::duration_cast<std::chrono::milliseconds>(dur).count();\n",
        "\n",
        "    // 要した時間をミリ秒（1/1000秒）に変換して表示\n",
        "    std::cout << msec << \" milli sec \\n\";\n",
        "\n",
        "    return 0;\n",
        "}"
      ],
      "metadata": {
        "colab": {
          "base_uri": "https://localhost:8080/"
        },
        "id": "cLjL6zZAAegI",
        "outputId": "ffc14224-e38e-4796-8d6a-6ccb9021dc42"
      },
      "execution_count": 8,
      "outputs": [
        {
          "output_type": "stream",
          "name": "stdout",
          "text": [
            "Overwriting temp.cpp\n"
          ]
        }
      ]
    },
    {
      "cell_type": "code",
      "source": [
        "!g++ -fopenmp temp.cpp; ./a.out"
      ],
      "metadata": {
        "colab": {
          "base_uri": "https://localhost:8080/"
        },
        "id": "DR_EPzsUBXJe",
        "outputId": "37b79d76-2227-45b1-ec17-50aabb222b1a"
      },
      "execution_count": 9,
      "outputs": [
        {
          "output_type": "stream",
          "name": "stdout",
          "text": [
            "16 milli sec \n"
          ]
        }
      ]
    },
    {
      "cell_type": "markdown",
      "source": [
        "## OpenACC"
      ],
      "metadata": {
        "id": "OZzi91W5C7Xo"
      }
    },
    {
      "cell_type": "markdown",
      "source": [
        "[OpenACC/CUDA training for beginners](https://enccs.github.io/OpenACC-CUDA-beginners/)"
      ],
      "metadata": {
        "id": "qB8Ar-boEPrm"
      }
    },
    {
      "cell_type": "code",
      "source": [
        "%%writefile temp.cpp\n",
        "#include <iostream>\n",
        "#include <vector>\n",
        "#include <chrono>\n",
        "#ifdef _OPENACC\n",
        "#include <openacc.h>\n",
        "#endif\n",
        "\n",
        "int main() {\n",
        "    // 計測スタート時刻を保存\n",
        "    auto start = std::chrono::system_clock::now();\n",
        "\n",
        "    // 計測対象の計算\n",
        "    constexpr int N = 1000*1000;\n",
        "    std::vector<int> v(N);\n",
        "\n",
        "#pragma acc data copy(v)\n",
        "    {\n",
        "#pragma acc kernels\n",
        "        for (int i = 0; i < N; ++i) {\n",
        "            v[i] = i;\n",
        "        }   \n",
        "    }\n",
        "\n",
        "    // 計測終了時刻を保存\n",
        "    auto end = std::chrono::system_clock::now();\n",
        "    // 要した時間を計算\n",
        "    auto dur = end - start;\n",
        "    auto msec = std::chrono::duration_cast<std::chrono::milliseconds>(dur).count();\n",
        "\n",
        "    // 要した時間をミリ秒（1/1000秒）に変換して表示\n",
        "    std::cout << msec << \" milli sec \\n\";\n",
        "\n",
        "    return 0;\n",
        "}"
      ],
      "metadata": {
        "colab": {
          "base_uri": "https://localhost:8080/"
        },
        "id": "zVkxa8coBeH8",
        "outputId": "5799d9e2-df6a-46da-d29f-3ccbca3a74e3"
      },
      "execution_count": 10,
      "outputs": [
        {
          "output_type": "stream",
          "name": "stdout",
          "text": [
            "Overwriting temp.cpp\n"
          ]
        }
      ]
    },
    {
      "cell_type": "code",
      "source": [
        "!g++ -B -fopenacc temp.cpp; ./a.out"
      ],
      "metadata": {
        "colab": {
          "base_uri": "https://localhost:8080/"
        },
        "id": "hx2p52YKEAW7",
        "outputId": "92c695c3-0bcd-4154-d071-7a00400aa7a5"
      },
      "execution_count": 11,
      "outputs": [
        {
          "output_type": "stream",
          "name": "stdout",
          "text": [
            "8 milli sec \n"
          ]
        }
      ]
    },
    {
      "cell_type": "code",
      "source": [],
      "metadata": {
        "id": "5HNzfXGsEfQW"
      },
      "execution_count": 11,
      "outputs": []
    }
  ]
}