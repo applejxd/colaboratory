{
  "nbformat": 4,
  "nbformat_minor": 0,
  "metadata": {
    "colab": {
      "provenance": [],
      "authorship_tag": "ABX9TyMS3hJeaFXpw5d0qQCXYbEH",
      "include_colab_link": true
    },
    "kernelspec": {
      "name": "python3",
      "display_name": "Python 3"
    },
    "language_info": {
      "name": "python"
    },
    "accelerator": "GPU",
    "gpuClass": "standard"
  },
  "cells": [
    {
      "cell_type": "markdown",
      "metadata": {
        "id": "view-in-github",
        "colab_type": "text"
      },
      "source": [
        "<a href=\"https://colab.research.google.com/github/applejxd/colaboratory/blob/master/cpp.ipynb\" target=\"_parent\"><img src=\"https://colab.research.google.com/assets/colab-badge.svg\" alt=\"Open In Colab\"/></a>"
      ]
    },
    {
      "cell_type": "markdown",
      "source": [
        "## C++ コードの実行方法"
      ],
      "metadata": {
        "id": "Zs5Kf0Jp_raj"
      }
    },
    {
      "cell_type": "code",
      "source": [
        "!g++ --version"
      ],
      "metadata": {
        "colab": {
          "base_uri": "https://localhost:8080/"
        },
        "id": "O9KjI-oq_MG2",
        "outputId": "a64ea0df-1f9a-47a0-ded0-f5e4599aec49"
      },
      "execution_count": 1,
      "outputs": [
        {
          "output_type": "stream",
          "name": "stdout",
          "text": [
            "g++ (Ubuntu 9.4.0-1ubuntu1~20.04.1) 9.4.0\n",
            "Copyright (C) 2019 Free Software Foundation, Inc.\n",
            "This is free software; see the source for copying conditions.  There is NO\n",
            "warranty; not even for MERCHANTABILITY or FITNESS FOR A PARTICULAR PURPOSE.\n",
            "\n"
          ]
        }
      ]
    },
    {
      "cell_type": "code",
      "execution_count": 2,
      "metadata": {
        "colab": {
          "base_uri": "https://localhost:8080/"
        },
        "id": "pCvdzjPx-zFF",
        "outputId": "c1b9abff-4a64-4d87-dc0e-ad450b96c799"
      },
      "outputs": [
        {
          "output_type": "stream",
          "name": "stdout",
          "text": [
            "Writing temp.cpp\n"
          ]
        }
      ],
      "source": [
        "%%writefile temp.cpp\n",
        "#include <iostream>\n",
        "int main() {\n",
        "  std::cout << \"Hello World!\" << std::endl;\n",
        "}"
      ]
    },
    {
      "cell_type": "code",
      "source": [
        "!g++ temp.cpp; ./a.out"
      ],
      "metadata": {
        "colab": {
          "base_uri": "https://localhost:8080/"
        },
        "id": "j2lfNR91-73X",
        "outputId": "86d3344c-e4fc-4fc1-c357-0f17f8c74908"
      },
      "execution_count": 3,
      "outputs": [
        {
          "output_type": "stream",
          "name": "stdout",
          "text": [
            "Hello World!\n"
          ]
        }
      ]
    },
    {
      "cell_type": "markdown",
      "source": [
        "## 計算時間計測"
      ],
      "metadata": {
        "id": "9y6keLrp_uXJ"
      }
    },
    {
      "cell_type": "markdown",
      "source": [
        "処理時間の計測は[標準ライブラリの chrono で実施可能](http://vivi.dyndns.org/tech/cpp/timeMeasurement.html)"
      ],
      "metadata": {
        "id": "33cIwNXKBD-9"
      }
    },
    {
      "cell_type": "code",
      "source": [
        "%%writefile temp.cpp\n",
        "#include <iostream>\n",
        "#include <vector>\n",
        "#include <chrono>\n",
        "\n",
        "int main() {\n",
        "    // 計測スタート時刻を保存\n",
        "    auto start = std::chrono::system_clock::now();\n",
        "\n",
        "    // 計測対象の計算\n",
        "    std::vector<int> v;\n",
        "    constexpr int N = 1000*1000;\n",
        "    for (int i = 0; i < N; ++i) {\n",
        "        v.push_back(i);\n",
        "    }\n",
        "\n",
        "    // 計測終了時刻を保存\n",
        "    auto end = std::chrono::system_clock::now();\n",
        "    // 要した時間を計算\n",
        "    auto dur = end - start;\n",
        "    auto msec = std::chrono::duration_cast<std::chrono::milliseconds>(dur).count();\n",
        "\n",
        "    // 要した時間をミリ秒（1/1000秒）に変換して表示\n",
        "    std::cout << msec << \" milli sec \\n\";\n",
        "\n",
        "    return 0;\n",
        "}"
      ],
      "metadata": {
        "id": "0GBYAoRz-_4C",
        "colab": {
          "base_uri": "https://localhost:8080/"
        },
        "outputId": "a4942d22-7af4-4e94-ba74-0565c8601267"
      },
      "execution_count": 4,
      "outputs": [
        {
          "output_type": "stream",
          "name": "stdout",
          "text": [
            "Overwriting temp.cpp\n"
          ]
        }
      ]
    },
    {
      "cell_type": "code",
      "source": [
        "!g++ temp.cpp; ./a.out"
      ],
      "metadata": {
        "colab": {
          "base_uri": "https://localhost:8080/"
        },
        "id": "9_tqaJZbAWHs",
        "outputId": "8d446501-a6fd-4853-fef5-908da844eb00"
      },
      "execution_count": 5,
      "outputs": [
        {
          "output_type": "stream",
          "name": "stdout",
          "text": [
            "24 milli sec \n"
          ]
        }
      ]
    },
    {
      "cell_type": "markdown",
      "source": [
        "## OpenMP"
      ],
      "metadata": {
        "id": "yXtQOzXHB7C1"
      }
    },
    {
      "cell_type": "code",
      "source": [
        "%%writefile temp.cpp\n",
        "#include <stdio.h>\n",
        "#include <omp.h>\n",
        "\n",
        "int main() {\n",
        "#ifdef _OPENMP\n",
        "    printf(\"OpenMP\\n\");\n",
        "#else\n",
        "    printf(\"no use\\n\");\n",
        "#endif\n",
        "    return 0;\n",
        "}"
      ],
      "metadata": {
        "colab": {
          "base_uri": "https://localhost:8080/"
        },
        "id": "f81tFbJFB8kX",
        "outputId": "e1dd6541-50d3-4f1e-e4a0-e46f78e5b7d1"
      },
      "execution_count": 6,
      "outputs": [
        {
          "output_type": "stream",
          "name": "stdout",
          "text": [
            "Overwriting temp.cpp\n"
          ]
        }
      ]
    },
    {
      "cell_type": "code",
      "source": [
        "!g++ -fopenmp temp.cpp; ./a.out"
      ],
      "metadata": {
        "colab": {
          "base_uri": "https://localhost:8080/"
        },
        "id": "JoSKTmDyCDmm",
        "outputId": "5974a12e-7fac-4fd9-9306-47f3a9b21260"
      },
      "execution_count": 7,
      "outputs": [
        {
          "output_type": "stream",
          "name": "stdout",
          "text": [
            "OpenMP\n"
          ]
        }
      ]
    },
    {
      "cell_type": "code",
      "source": [
        "%%writefile temp.cpp\n",
        "#include <iostream>\n",
        "#include <vector>\n",
        "#include <chrono>\n",
        "#ifdef _OPENMP\n",
        "#include <omp.h>\n",
        "#endif\n",
        "\n",
        "int main() {\n",
        "    // 計測スタート時刻を保存\n",
        "    auto start = std::chrono::system_clock::now();\n",
        "\n",
        "    // 計測対象の計算\n",
        "    constexpr int N = 1000*1000;\n",
        "    std::vector<int> v(N);\n",
        "#pragma omp parallel for\n",
        "    for (int i = 0; i < N; ++i) {\n",
        "        v[i] = i;\n",
        "    }\n",
        "\n",
        "    // 計測終了時刻を保存\n",
        "    auto end = std::chrono::system_clock::now();\n",
        "    // 要した時間を計算\n",
        "    auto dur = end - start;\n",
        "    auto msec = std::chrono::duration_cast<std::chrono::milliseconds>(dur).count();\n",
        "\n",
        "    // 要した時間をミリ秒（1/1000秒）に変換して表示\n",
        "    std::cout << msec << \" milli sec \\n\";\n",
        "\n",
        "    return 0;\n",
        "}"
      ],
      "metadata": {
        "colab": {
          "base_uri": "https://localhost:8080/"
        },
        "id": "cLjL6zZAAegI",
        "outputId": "cd77617d-3358-4f0c-dd83-b637d448d956"
      },
      "execution_count": 15,
      "outputs": [
        {
          "output_type": "stream",
          "name": "stdout",
          "text": [
            "Overwriting temp.cpp\n"
          ]
        }
      ]
    },
    {
      "cell_type": "code",
      "source": [
        "!g++ -fopenmp temp.cpp; ./a.out"
      ],
      "metadata": {
        "colab": {
          "base_uri": "https://localhost:8080/"
        },
        "id": "DR_EPzsUBXJe",
        "outputId": "9e76b279-2354-476d-8f3b-50638aa674f0"
      },
      "execution_count": 16,
      "outputs": [
        {
          "output_type": "stream",
          "name": "stdout",
          "text": [
            "6 milli sec \n"
          ]
        }
      ]
    },
    {
      "cell_type": "markdown",
      "source": [
        "## OpenACC"
      ],
      "metadata": {
        "id": "OZzi91W5C7Xo"
      }
    },
    {
      "cell_type": "markdown",
      "source": [
        "[OpenACC/CUDA training for beginners](https://enccs.github.io/OpenACC-CUDA-beginners/)"
      ],
      "metadata": {
        "id": "qB8Ar-boEPrm"
      }
    },
    {
      "cell_type": "code",
      "source": [
        "%%writefile temp.cpp\n",
        "#include <iostream>\n",
        "#include <vector>\n",
        "#include <chrono>\n",
        "#ifdef _OPENACC\n",
        "#include <openacc.h>\n",
        "#endif\n",
        "\n",
        "int main() {\n",
        "    // 計測スタート時刻を保存\n",
        "    auto start = std::chrono::system_clock::now();\n",
        "\n",
        "    // 計測対象の計算\n",
        "    constexpr int N = 1000*1000;\n",
        "    std::vector<int> v(N);\n",
        "\n",
        "#pragma acc data copy(v)\n",
        "    {\n",
        "#pragma acc kernels\n",
        "        for (int i = 0; i < N; ++i) {\n",
        "            v[i] = i;\n",
        "        }   \n",
        "    }\n",
        "\n",
        "    // 計測終了時刻を保存\n",
        "    auto end = std::chrono::system_clock::now();\n",
        "    // 要した時間を計算\n",
        "    auto dur = end - start;\n",
        "    auto msec = std::chrono::duration_cast<std::chrono::milliseconds>(dur).count();\n",
        "\n",
        "    // 要した時間をミリ秒（1/1000秒）に変換して表示\n",
        "    std::cout << msec << \" milli sec \\n\";\n",
        "\n",
        "    return 0;\n",
        "}"
      ],
      "metadata": {
        "colab": {
          "base_uri": "https://localhost:8080/"
        },
        "id": "zVkxa8coBeH8",
        "outputId": "971f93b3-83be-4a3d-e162-f503b96584c2"
      },
      "execution_count": 17,
      "outputs": [
        {
          "output_type": "stream",
          "name": "stdout",
          "text": [
            "Overwriting temp.cpp\n"
          ]
        }
      ]
    },
    {
      "cell_type": "code",
      "source": [
        "!g++ -fopenacc temp.cpp; ./a.out"
      ],
      "metadata": {
        "id": "hx2p52YKEAW7",
        "outputId": "ed6cb478-f5f7-4506-c902-4327ee7b92d3",
        "colab": {
          "base_uri": "https://localhost:8080/"
        }
      },
      "execution_count": 18,
      "outputs": [
        {
          "output_type": "stream",
          "name": "stdout",
          "text": [
            "lto-wrapper: fatal error: could not find accel/nvptx-none/mkoffload in /usr/lib/gcc/x86_64-linux-gnu/9/:/usr/lib/gcc/x86_64-linux-gnu/9/:/usr/lib/gcc/x86_64-linux-gnu/:/usr/lib/gcc/x86_64-linux-gnu/9/:/usr/lib/gcc/x86_64-linux-gnu/ (consider using ‘-B’)\n",
            "\n",
            "compilation terminated.\n",
            "/usr/bin/ld: error: lto-wrapper failed\n",
            "collect2: error: ld returned 1 exit status\n",
            "/bin/bash: ./a.out: No such file or directory\n"
          ]
        }
      ]
    },
    {
      "cell_type": "code",
      "source": [],
      "metadata": {
        "id": "5HNzfXGsEfQW"
      },
      "execution_count": 11,
      "outputs": []
    }
  ]
}