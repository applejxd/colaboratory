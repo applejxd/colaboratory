{
  "nbformat": 4,
  "nbformat_minor": 0,
  "metadata": {
    "colab": {
      "name": "QM_Well.ipynb",
      "provenance": [],
      "collapsed_sections": [],
      "authorship_tag": "ABX9TyPHSrzd6Q9wDL77kiNy0oxW",
      "include_colab_link": true
    },
    "kernelspec": {
      "name": "python3",
      "display_name": "Python 3"
    }
  },
  "cells": [
    {
      "cell_type": "markdown",
      "metadata": {
        "id": "view-in-github",
        "colab_type": "text"
      },
      "source": [
        "<a href=\"https://colab.research.google.com/github/applejxd/colaboratory/blob/master/QM_Well.ipynb\" target=\"_parent\"><img src=\"https://colab.research.google.com/assets/colab-badge.svg\" alt=\"Open In Colab\"/></a>"
      ]
    },
    {
      "cell_type": "markdown",
      "metadata": {
        "id": "Fij2Ghj1pdKW"
      },
      "source": [
        "[Julia で学ぶ量子力学](https://cometscome.github.io/QM/docs/build/)の Python への移植。\n",
        "シュレディンガー方程式は\n",
        "\\begin{equation}\n",
        "  \\left(-\\frac{\\hbar^2}{2m}\\nabla^2+U(x)\\right) \\psi(x) = E \\psi(x)\n",
        "\\end{equation}\n",
        "である。\n",
        "1次元の場合に適切に無次元化すると\n",
        "\\begin{equation}\n",
        "  \\left(-\\frac{d^2}{dx^2}+U(x)\\right)\\psi(x)=E\\psi\n",
        "\\end{equation}\n",
        "となる。\n",
        "ハミルトニアンに含まれる2階微分の単純な差分表示は\n",
        "\\begin{equation}\n",
        "\\begin{split}\n",
        "  &\\left.\\frac{d^2}{dx^2}\\psi(x)\\right|_{x=x_i}\n",
        "  \\sim\\left.\\frac{d}{dx}\\frac{\\psi(x+a/2)-\\psi(x-a/2)}{a}\\right|_{x=x_i} \\\\\n",
        "  &\\sim\\left.\\frac{d}{dx}\\frac{\\psi(x+a/2)-\\psi(x-a/2)}{a}\\right|_{x=x_i} \\\\\n",
        "  &\\sim\\frac{\\psi(x_i+a)-2\\psi(x_i)+\\psi(x_i-a)}{a^2}\n",
        "\\end{split}  \n",
        "\\end{equation}\n",
        "となる。\n",
        "これよりハミルトニアンの行列表示を得る。"
      ]
    },
    {
      "cell_type": "code",
      "metadata": {
        "id": "e4Uy7pazpZtI",
        "outputId": "3453927b-755b-4c74-b791-96f59b231635",
        "colab": {
          "base_uri": "https://localhost:8080/",
          "height": 140
        }
      },
      "source": [
        "import numpy as np\n",
        "\n",
        "a = 0.01\n",
        "N = 1000\n",
        "H_mat: np.ndarray = np.zeros((N,N))\n",
        "for i in range(N):\n",
        "    for dx in range(-1,2):\n",
        "        j = i + dx\n",
        "        v = 0.0\n",
        "        if dx == 0:\n",
        "            v = 2/a**2\n",
        "        elif dx == 1:\n",
        "            v = -1/a**2\n",
        "        elif dx == -1:\n",
        "            v = -1/a**2\n",
        "        if 0 <= j < N:\n",
        "            H_mat[i,j] = v\n",
        "print(H_mat)"
      ],
      "execution_count": 1,
      "outputs": [
        {
          "output_type": "stream",
          "text": [
            "[[ 20000. -10000.      0. ...      0.      0.      0.]\n",
            " [-10000.  20000. -10000. ...      0.      0.      0.]\n",
            " [     0. -10000.  20000. ...      0.      0.      0.]\n",
            " ...\n",
            " [     0.      0.      0. ...  20000. -10000.      0.]\n",
            " [     0.      0.      0. ... -10000.  20000. -10000.]\n",
            " [     0.      0.      0. ...      0. -10000.  20000.]]\n"
          ],
          "name": "stdout"
        }
      ]
    },
    {
      "cell_type": "markdown",
      "metadata": {
        "id": "rBDFHdl89c3p"
      },
      "source": [
        "ハミルトニアンの行列表示を対角化することで固有関数・エネルギー固有値を得る。"
      ]
    },
    {
      "cell_type": "code",
      "metadata": {
        "id": "8Zi3eeiK3YFb"
      },
      "source": [
        "from scipy import linalg\n",
        "e_val, e_vec = linalg.eigh(H_mat)"
      ],
      "execution_count": 4,
      "outputs": []
    },
    {
      "cell_type": "markdown",
      "metadata": {
        "id": "n0AAxVMA_AnX"
      },
      "source": [
        "固有値をプロットする"
      ]
    },
    {
      "cell_type": "code",
      "metadata": {
        "id": "2xnEOBFQ-nII",
        "outputId": "cf21cb83-46dd-4029-c4d3-a5ad06969310",
        "colab": {
          "base_uri": "https://localhost:8080/",
          "height": 304
        }
      },
      "source": [
        "import matplotlib.pyplot as plt\n",
        "\n",
        "sn = 200\n",
        "level = np.arange(sn)\n",
        "print()\n",
        "plt.plot(level, e_val[level])"
      ],
      "execution_count": 3,
      "outputs": [
        {
          "output_type": "stream",
          "text": [
            "\n"
          ],
          "name": "stdout"
        },
        {
          "output_type": "execute_result",
          "data": {
            "text/plain": [
              "[<matplotlib.lines.Line2D at 0x7f9dd0e2b0b8>]"
            ]
          },
          "metadata": {
            "tags": []
          },
          "execution_count": 3
        },
        {
          "output_type": "display_data",
          "data": {
            "image/png": "[encoded data removed]",
            "text/plain": [
              "<Figure size 432x288 with 1 Axes>"
            ]
          },
          "metadata": {
            "tags": [],
            "needs_background": "light"
          }
        }
      ]
    },
    {
      "cell_type": "markdown",
      "metadata": {
        "id": "kK7uNJ2dE0ts"
      },
      "source": [
        "固有関数をプロット"
      ]
    },
    {
      "cell_type": "code",
      "metadata": {
        "id": "09IFUf4kAKG7",
        "outputId": "c206be62-e1c8-4c2a-df4f-8aa9130da4a3",
        "colab": {
          "base_uri": "https://localhost:8080/",
          "height": 282
        }
      },
      "source": [
        "plt.plot(e_vec[2])"
      ],
      "execution_count": 14,
      "outputs": [
        {
          "output_type": "execute_result",
          "data": {
            "text/plain": [
              "[<matplotlib.lines.Line2D at 0x7f9dc854a240>]"
            ]
          },
          "metadata": {
            "tags": []
          },
          "execution_count": 14
        },
        {
          "output_type": "display_data",
          "data": {
            "image/png": "[encoded data removed]",
            "text/plain": [
              "<Figure size 432x288 with 1 Axes>"
            ]
          },
          "metadata": {
            "tags": [],
            "needs_background": "light"
          }
        }
      ]
    },
    {
      "cell_type": "code",
      "metadata": {
        "id": "jQ6eR4NtE_YB"
      },
      "source": [
        ""
      ],
      "execution_count": null,
      "outputs": []
    }
  ]
}