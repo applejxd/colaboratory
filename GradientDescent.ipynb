{
  "nbformat": 4,
  "nbformat_minor": 0,
  "metadata": {
    "colab": {
      "name": "GradientDescent.ipynb",
      "provenance": [],
      "collapsed_sections": [],
      "authorship_tag": "ABX9TyNzuEv/7PNbpIVtuadPCm9c",
      "include_colab_link": true
    },
    "kernelspec": {
      "name": "python3",
      "display_name": "Python 3"
    }
  },
  "cells": [
    {
      "cell_type": "markdown",
      "metadata": {
        "id": "view-in-github",
        "colab_type": "text"
      },
      "source": [
        "<a href=\"https://colab.research.google.com/github/applejxd/colaboratory/blob/master/GradientDescent.ipynb\" target=\"_parent\"><img src=\"https://colab.research.google.com/assets/colab-badge.svg\" alt=\"Open In Colab\"/></a>"
      ]
    },
    {
      "cell_type": "markdown",
      "metadata": {
        "id": "10Qdg6Is1KF5"
      },
      "source": [
        "原点からずれた点を中心に,、近似的に円状に分布する点を生成する関数"
      ]
    },
    {
      "cell_type": "code",
      "metadata": {
        "colab": {
          "base_uri": "https://localhost:8080/"
        },
        "id": "CaiHS76ExRKm",
        "outputId": "cb0c6507-e415-4020-da19-9ad6a103dfdb"
      },
      "source": [
        "import numpy as np\n",
        "from typing import List\n",
        "\n",
        "# 再現性のためシードは固定\n",
        "np.random.seed(42)\n",
        "\n",
        "def get_point() -> List[float]:\n",
        "    r = 10. + np.random.normal(0,0.5)\n",
        "    center = [0.1, -0.2]\n",
        "\n",
        "    theta = np.random.uniform(0, 2*np.pi)\n",
        "    return [r*np.cos(theta)+center[0], r*np.sin(theta)+center[1]]\n",
        "get_point()"
      ],
      "execution_count": 11,
      "outputs": [
        {
          "output_type": "execute_result",
          "data": {
            "text/plain": [
              "[-1.0569801383343806, -10.382839472714007]"
            ]
          },
          "metadata": {
            "tags": []
          },
          "execution_count": 11
        }
      ]
    },
    {
      "cell_type": "markdown",
      "metadata": {
        "id": "359608Bz1Q1z"
      },
      "source": [
        "データ生成"
      ]
    },
    {
      "cell_type": "code",
      "metadata": {
        "colab": {
          "base_uri": "https://localhost:8080/",
          "height": 369
        },
        "id": "iV4PUqqu1SK0",
        "outputId": "0a230daf-d01c-4392-c7a7-92bf4a7c21e4"
      },
      "source": [
        "data_list = []\n",
        "for k in range(20):\n",
        "    data_list.append(get_point())\n",
        "\n",
        "data = np.array(data_list)\n",
        "display(data)"
      ],
      "execution_count": 13,
      "outputs": [
        {
          "output_type": "display_data",
          "data": {
            "text/plain": [
              "array([[ -9.21503473,  -1.38080745],\n",
              "       [  9.26594555,  -1.97330238],\n",
              "       [  1.68806597, -10.17278033],\n",
              "       [  8.9072666 ,   5.27293834],\n",
              "       [  3.45773688,   9.31034319],\n",
              "       [ -7.50764529,   6.2008276 ],\n",
              "       [ -1.21724559,   9.56096783],\n",
              "       [ -1.78697224,   9.38571829],\n",
              "       [-10.0519712 ,  -2.99071315],\n",
              "       [  9.16743522,   4.38788794],\n",
              "       [  9.87418916,  -1.00714034],\n",
              "       [  9.75572408,   0.13515419],\n",
              "       [  4.22034633,  -9.64632447],\n",
              "       [  1.50116975, -10.62173011],\n",
              "       [  9.45330571,   4.49524165],\n",
              "       [  6.34954217,  -7.46134416],\n",
              "       [ -6.93578852,  -7.08690491],\n",
              "       [ -3.54899074,   8.85265299],\n",
              "       [ -4.40792606,   8.62216698],\n",
              "       [  8.00077347,  -6.9725982 ]])"
            ]
          },
          "metadata": {
            "tags": []
          }
        }
      ]
    },
    {
      "cell_type": "markdown",
      "metadata": {
        "id": "pngTjvSI2Id1"
      },
      "source": [
        "プロット"
      ]
    },
    {
      "cell_type": "code",
      "metadata": {
        "colab": {
          "base_uri": "https://localhost:8080/",
          "height": 265
        },
        "id": "X8IYS3zwxIVT",
        "outputId": "f0678b08-bdba-48a6-f150-db21da842e95"
      },
      "source": [
        "import matplotlib.pyplot as plt\n",
        "\n",
        "plt.axes().set_aspect('equal', 'datalim')\n",
        "plt.se\n",
        "plt.scatter(data[:,0],data[:,1])\n",
        "plt.show()"
      ],
      "execution_count": 18,
      "outputs": [
        {
          "output_type": "display_data",
          "data": {
            "image/png": "[encoded data removed]",
            "text/plain": [
              "<Figure size 432x288 with 1 Axes>"
            ]
          },
          "metadata": {
            "tags": [],
            "needs_background": "light"
          }
        }
      ]
    },
    {
      "cell_type": "code",
      "metadata": {
        "id": "e33eLAqwwqqv"
      },
      "source": [
        "def back_tracking():\n",
        "    rho = 0.5\n",
        "    "
      ],
      "execution_count": null,
      "outputs": []
    }
  ]
}