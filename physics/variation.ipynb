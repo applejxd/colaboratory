{
  "nbformat": 4,
  "nbformat_minor": 0,
  "metadata": {
    "colab": {
      "name": "Untitled8.ipynb",
      "provenance": [],
      "collapsed_sections": [],
      "authorship_tag": "ABX9TyO6jhG+/aIGPVEkImGVYxyE",
      "include_colab_link": true
    },
    "kernelspec": {
      "name": "python3",
      "display_name": "Python 3"
    },
    "language_info": {
      "name": "python"
    }
  },
  "cells": [
    {
      "cell_type": "markdown",
      "metadata": {
        "id": "view-in-github",
        "colab_type": "text"
      },
      "source": [
        "<a href=\"https://colab.research.google.com/github/applejxd/colaboratory/blob/master/physics/variation.ipynb\" target=\"_parent\"><img src=\"https://colab.research.google.com/assets/colab-badge.svg\" alt=\"Open In Colab\"/></a>"
      ]
    },
    {
      "cell_type": "markdown",
      "source": [
        "# 変分原理のデモ"
      ],
      "metadata": {
        "id": "MUy5W4T7lq1m"
      }
    },
    {
      "cell_type": "markdown",
      "source": [
        "調和振動子の作用（汎関数）\n",
        "\\begin{equation}\n",
        "    S[q]\n",
        "    =\\int dt \\left(\\frac{1}{2}m\\dot{q}(t)^2-\\frac{1}{2}kq(t)^2\\right)\n",
        "\\end{equation}\n",
        "に対する変分原理を最適化問題として解く。"
      ],
      "metadata": {
        "id": "ou6tyw79lusT"
      }
    },
    {
      "cell_type": "code",
      "execution_count": 32,
      "metadata": {
        "colab": {
          "base_uri": "https://localhost:8080/",
          "height": 296
        },
        "id": "mBrNLblmlqJC",
        "outputId": "894888f3-79dc-4375-84d7-6cac260e4da9"
      },
      "outputs": [
        {
          "output_type": "stream",
          "name": "stdout",
          "text": [
            "len(t_list)=1000, dt = 0.01\n"
          ]
        },
        {
          "output_type": "display_data",
          "data": {
            "text/plain": [
              "<Figure size 432x288 with 1 Axes>"
            ],
            "image/png": "[encoded data removed]"
          },
          "metadata": {
            "needs_background": "light"
          }
        }
      ],
      "source": [
        "import numpy as np\n",
        "import matplotlib.pyplot as plt\n",
        "\n",
        "t_list = np.arange(0, 10, 0.01)\n",
        "dt = t_list[1] - t_list[0]\n",
        "print(f\"len(t_list)={len(t_list)}, dt = {dt}\")\n",
        "q_first, q_last = -5, 5\n",
        "q_list = np.linspace(q_first, q_last, len(t_list)-2)\n",
        "\n",
        "plt.plot(t_list, np.hstack([q_first, q_list, q_last]))\n",
        "plt.xlabel(\"t\")\n",
        "plt.ylabel(\"q(t)\")\n",
        "plt.show()"
      ]
    },
    {
      "cell_type": "code",
      "source": [
        "def dq_list(q_list: np.ndarray) -> np.ndarray:\n",
        "    q_list_all = np.hstack([q_first, q_list, q_last])\n",
        "    result = np.array([(q_list_all[idx+1] - q_list_all[idx-1]) / (2 * dt)\n",
        "                        for idx in range(1, len(q_list_all)-1)])\n",
        "    return result\n",
        "\n",
        "print(f\"len(dq_list)={len(dq_list(q_list))}\")\n",
        "plt.plot(t_list[1:-1], dq_list(q_list))\n",
        "plt.xlabel(\"t\")\n",
        "plt.ylabel(\"dq/dt\")\n",
        "plt.show()"
      ],
      "metadata": {
        "colab": {
          "base_uri": "https://localhost:8080/",
          "height": 296
        },
        "id": "7ahgTPsgB44c",
        "outputId": "04e665ac-b9d3-46fc-a328-17894f82e1d1"
      },
      "execution_count": 33,
      "outputs": [
        {
          "output_type": "stream",
          "name": "stdout",
          "text": [
            "len(dq_list)=998\n"
          ]
        },
        {
          "output_type": "display_data",
          "data": {
            "text/plain": [
              "<Figure size 432x288 with 1 Axes>"
            ],
            "image/png": "[encoded data removed]"
          },
          "metadata": {
            "needs_background": "light"
          }
        }
      ]
    },
    {
      "cell_type": "code",
      "source": [
        "m, k = 1, 1\n",
        "\n",
        "def action(q_list: np.ndarray) -> float:\n",
        "    kinetic_energy = 0.5 * m * np.sum(dq_list(q_list)**2) * dt\n",
        "    potential_energy = 0.5 * k * np.sum(q_list**2) * dt\n",
        "    return kinetic_energy - potential_energy\n",
        "\n",
        "print(f\"action = {action(q_list)}\")"
      ],
      "metadata": {
        "colab": {
          "base_uri": "https://localhost:8080/"
        },
        "id": "obYHzD8pDOKR",
        "outputId": "efee3805-8a77-4d57-eff4-751f42b4fa7c"
      },
      "execution_count": 34,
      "outputs": [
        {
          "output_type": "stream",
          "name": "stdout",
          "text": [
            "action = -36.65422018311705\n"
          ]
        }
      ]
    },
    {
      "cell_type": "code",
      "source": [
        "def ddq_list(q_list: np.ndarray) -> np.ndarray:\n",
        "    q_list_all = np.hstack([q_first, q_list, q_last])\n",
        "    result = np.array([(q_list_all[idx+1] - 2*q_list_all[idx] + q_list_all[idx-1]) / dt\n",
        "                        for idx in range(1, len(q_list_all)-1)])\n",
        "    return result\n",
        "\n",
        "def eom(q_list: np.ndarray) -> np.ndarray:\n",
        "    return m * ddq_list(q_list) - k * q_list\n",
        "\n",
        "plt.plot(t_list[1:-1], eom(q_list))\n",
        "plt.xlabel(\"t\")\n",
        "plt.ylabel(\"eom\")\n",
        "plt.show()"
      ],
      "metadata": {
        "colab": {
          "base_uri": "https://localhost:8080/",
          "height": 279
        },
        "id": "pKC2fwi87YR6",
        "outputId": "319f2446-1040-4b47-8421-a8d7c3bd6a3b"
      },
      "execution_count": 35,
      "outputs": [
        {
          "output_type": "display_data",
          "data": {
            "text/plain": [
              "<Figure size 432x288 with 1 Axes>"
            ],
            "image/png": "[encoded data removed]"
          },
          "metadata": {
            "needs_background": "light"
          }
        }
      ]
    },
    {
      "cell_type": "code",
      "source": [
        "from scipy.optimize import minimize\n",
        "\n",
        "def minimize_callback(xk) -> bool:\n",
        "    print(f\"action={action(xk)}\")\n",
        "\n",
        "res = minimize(action, q_list, method=\"CG\", callback=minimize_callback)\n",
        "plt.plot(t_list[1:-1], eom(res.x))\n",
        "plt.xlabel(\"t\")\n",
        "plt.ylabel(\"eom\")\n",
        "plt.show()"
      ],
      "metadata": {
        "colab": {
          "base_uri": "https://localhost:8080/",
          "height": 1000
        },
        "id": "3_CODlnrFq5X",
        "outputId": "54e2a845-f5bd-40d6-c012-f56102cc7339"
      },
      "execution_count": 36,
      "outputs": [
        {
          "output_type": "stream",
          "name": "stdout",
          "text": [
            "action=-36.70280235588538\n",
            "action=-36.8354064873953\n",
            "action=-37.094082668256775\n",
            "action=-37.45370752888904\n",
            "action=-37.806374145803694\n",
            "action=-38.15612030266308\n",
            "action=-38.55723770682327\n",
            "action=-38.84329178326122\n",
            "action=-39.012658685483544\n",
            "action=-39.331340290606235\n",
            "action=-39.49395573476352\n",
            "action=-39.57960759911788\n",
            "action=-39.65490149998495\n",
            "action=-39.808373057196114\n",
            "action=-40.07815389485549\n",
            "action=-40.358597785649465\n",
            "action=-40.84716201574708\n",
            "action=-41.41763441544984\n",
            "action=-42.08959002380895\n",
            "action=-42.63680045761326\n",
            "action=-42.97698540047512\n",
            "action=-44.17520116360108\n",
            "action=-45.78407241524531\n",
            "action=-46.65693849982468\n",
            "action=-47.241513449603524\n",
            "action=-47.71332666587678\n",
            "action=-48.21060741940644\n",
            "action=-48.77890200802718\n",
            "action=-49.07380818970342\n",
            "action=-49.26222212438384\n",
            "action=-49.50183763967199\n",
            "action=-49.65559774597127\n",
            "action=-49.82326983639297\n",
            "action=-49.92860764586994\n",
            "action=-50.01259630008211\n",
            "action=-50.4025206021786\n",
            "action=-50.6342364148252\n",
            "action=-50.828997043521895\n",
            "action=-51.02848211617885\n",
            "action=-51.287075811643874\n",
            "action=-51.4509021479226\n",
            "action=-51.56993524095138\n",
            "action=-51.68237612173924\n",
            "action=-52.02845329536094\n",
            "action=-52.31774342851046\n",
            "action=-52.67675093759804\n",
            "action=-53.06554273329799\n",
            "action=-53.29495269085907\n",
            "action=-53.41321791133799\n",
            "action=-53.56987305889682\n",
            "action=-53.69988144660889\n",
            "action=-53.786291276605404\n",
            "action=-54.01013344315513\n",
            "action=-54.27254377435344\n",
            "action=-54.44441349889681\n",
            "action=-54.55180351605903\n",
            "action=-54.908913924647635\n",
            "action=-55.532406213656124\n",
            "action=-56.80888850371834\n",
            "action=-59.508600101056345\n",
            "action=-65.96437954506155\n",
            "action=-81.188713934846\n",
            "action=-119.01216220887959\n",
            "action=-519.8247003003708\n",
            "action=-243627158.45894098\n",
            "action=-7004856008.261398\n"
          ]
        },
        {
          "output_type": "display_data",
          "data": {
            "text/plain": [
              "<Figure size 432x288 with 1 Axes>"
            ],
            "image/png": "[encoded data removed]"
          },
          "metadata": {
            "needs_background": "light"
          }
        }
      ]
    },
    {
      "cell_type": "code",
      "source": [
        "plt.plot(t_list, np.hstack([q_first, res.x, q_last]))"
      ],
      "metadata": {
        "colab": {
          "base_uri": "https://localhost:8080/",
          "height": 282
        },
        "id": "1cwPURZUF-vD",
        "outputId": "ac9c69ba-06f5-496c-932b-2bdae0b57348"
      },
      "execution_count": 37,
      "outputs": [
        {
          "output_type": "execute_result",
          "data": {
            "text/plain": [
              "[<matplotlib.lines.Line2D at 0x7fbd5c1d2690>]"
            ]
          },
          "metadata": {},
          "execution_count": 37
        },
        {
          "output_type": "display_data",
          "data": {
            "text/plain": [
              "<Figure size 432x288 with 1 Axes>"
            ],
            "image/png": "[encoded data removed]"
          },
          "metadata": {
            "needs_background": "light"
          }
        }
      ]
    },
    {
      "cell_type": "code",
      "source": [
        ""
      ],
      "metadata": {
        "id": "-cIEqVzbLiFs"
      },
      "execution_count": 37,
      "outputs": []
    }
  ]
}