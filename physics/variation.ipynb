{
  "nbformat": 4,
  "nbformat_minor": 0,
  "metadata": {
    "colab": {
      "name": "Untitled8.ipynb",
      "provenance": [],
      "collapsed_sections": [],
      "authorship_tag": "ABX9TyOEH9A7BiU9lkGFeJSwwzf5",
      "include_colab_link": true
    },
    "kernelspec": {
      "name": "python3",
      "display_name": "Python 3"
    },
    "language_info": {
      "name": "python"
    }
  },
  "cells": [
    {
      "cell_type": "markdown",
      "metadata": {
        "id": "view-in-github",
        "colab_type": "text"
      },
      "source": [
        "<a href=\"https://colab.research.google.com/github/applejxd/colaboratory/blob/master/physics/variation.ipynb\" target=\"_parent\"><img src=\"https://colab.research.google.com/assets/colab-badge.svg\" alt=\"Open In Colab\"/></a>"
      ]
    },
    {
      "cell_type": "markdown",
      "source": [
        "# 変分原理のデモ"
      ],
      "metadata": {
        "id": "MUy5W4T7lq1m"
      }
    },
    {
      "cell_type": "markdown",
      "source": [
        "調和振動子の作用（汎関数）\n",
        "\\begin{equation}\n",
        "    S[q]\n",
        "    =\\int dt \\left(\\frac{1}{2}m\\dot{q}(t)^2-\\frac{1}{2}kq(t)^2\\right)\n",
        "\\end{equation}\n",
        "に対する変分原理を最適化問題として解く。"
      ],
      "metadata": {
        "id": "ou6tyw79lusT"
      }
    },
    {
      "cell_type": "code",
      "execution_count": 55,
      "metadata": {
        "colab": {
          "base_uri": "https://localhost:8080/",
          "height": 296
        },
        "id": "mBrNLblmlqJC",
        "outputId": "63687834-3c4b-44fc-9fb0-e5a6da755e79"
      },
      "outputs": [
        {
          "output_type": "stream",
          "name": "stdout",
          "text": [
            "len(t_list)=600, dt = 0.016666666666666666\n"
          ]
        },
        {
          "output_type": "display_data",
          "data": {
            "text/plain": [
              "<Figure size 432x288 with 1 Axes>"
            ],
            "image/png": "[encoded data removed]"
          },
          "metadata": {
            "needs_background": "light"
          }
        }
      ],
      "source": [
        "import numpy as np\n",
        "import matplotlib.pyplot as plt\n",
        "\n",
        "t_list = np.arange(0, 10, 1/60)\n",
        "dt = t_list[1] - t_list[0]\n",
        "print(f\"len(t_list)={len(t_list)}, dt = {dt}\")\n",
        "q_first, q_last = -5, 5\n",
        "q_list = np.linspace(0, 0, len(t_list)-2)\n",
        "\n",
        "plt.plot(t_list, np.hstack([q_first, q_list, q_last]))\n",
        "plt.xlabel(\"t\")\n",
        "plt.ylabel(\"q(t)\")\n",
        "plt.show()"
      ]
    },
    {
      "cell_type": "code",
      "source": [
        "def dq_list(q_list: np.ndarray) -> np.ndarray:\n",
        "    result = np.array([(q_list[idx+1] - q_list[idx-1]) / (2 * dt)\n",
        "                        for idx in range(1, len(q_list)-1)])\n",
        "    first = (q_list[1]-q_first) / (2 * dt)\n",
        "    last = (q_last - q_list[-2]) / (2 * dt)\n",
        "    result = np.hstack([first, result, last])\n",
        "    return result\n",
        "\n",
        "print(f\"len(dq_list)={len(dq_list(q_list))}\")"
      ],
      "metadata": {
        "colab": {
          "base_uri": "https://localhost:8080/"
        },
        "id": "7ahgTPsgB44c",
        "outputId": "8ff01dae-21fd-4d45-a6e4-d678c7752595"
      },
      "execution_count": 45,
      "outputs": [
        {
          "output_type": "stream",
          "name": "stdout",
          "text": [
            "len(dq_list)=598\n"
          ]
        }
      ]
    },
    {
      "cell_type": "code",
      "source": [
        "m, k = 1, 1\n",
        "\n",
        "def action(q_list: np.ndarray) -> float:\n",
        "    v_first = (q_list[0] - q_first) / dt\n",
        "    v_last = (q_last - q_list[-1]) / dt\n",
        "    kinetic_energy = 0.5 * m * (v_first**2 + np.sum(dq_list(q_list)**2) * dt + v_last **2)\n",
        "    potential_energy = 0.5 * k * (q_first **2 + np.sum(q_list**2) * dt + q_last **2)\n",
        "    return kinetic_energy - potential_energy\n",
        "\n",
        "print(f\"action = {action(q_list)}\")"
      ],
      "metadata": {
        "colab": {
          "base_uri": "https://localhost:8080/"
        },
        "id": "obYHzD8pDOKR",
        "outputId": "af1bfed4-38ef-4660-fd3f-aeaeed8c2d3d"
      },
      "execution_count": 51,
      "outputs": [
        {
          "output_type": "stream",
          "name": "stdout",
          "text": [
            "action = -61.64598233116073\n"
          ]
        }
      ]
    },
    {
      "cell_type": "code",
      "source": [
        "from scipy.optimize import minimize\n",
        "\n",
        "def minimize_callback(xk) -> bool:\n",
        "    print(f\"action={action(xk)}\")\n",
        "\n",
        "res = minimize(action, q_list, method=\"BFGS\", callback=minimize_callback)\n",
        "res.x"
      ],
      "metadata": {
        "colab": {
          "base_uri": "https://localhost:8080/"
        },
        "id": "3_CODlnrFq5X",
        "outputId": "b64139ad-9ab9-495e-959f-495a92d12600"
      },
      "execution_count": 56,
      "outputs": [
        {
          "output_type": "stream",
          "name": "stdout",
          "text": [
            "action=66483.16476086629\n",
            "action=57394.390630758455\n",
            "action=41645.21607925345\n",
            "action=41222.76681018277\n",
            "action=37234.37468098484\n",
            "action=31436.23044271683\n",
            "action=25579.184915854745\n",
            "action=18544.2972188513\n",
            "action=10656.13019947545\n",
            "action=5883.80176401266\n",
            "action=4291.298324832842\n",
            "action=2932.254884076802\n",
            "action=2685.0540144567294\n",
            "action=2294.5590191779556\n",
            "action=1782.3404062493962\n",
            "action=1217.1911877989392\n",
            "action=741.6363977934266\n",
            "action=474.72782944761485\n",
            "action=311.4851890276017\n",
            "action=235.95947493024843\n",
            "action=173.7706135572272\n",
            "action=137.68573720171008\n",
            "action=102.40812052111707\n",
            "action=72.98068865490877\n",
            "action=48.38612199775038\n",
            "action=31.182598384858572\n",
            "action=20.364454161210265\n",
            "action=13.93968709222932\n",
            "action=9.895757892472062\n",
            "action=7.180861815031477\n",
            "action=5.069207987542423\n",
            "action=3.2757182069623205\n",
            "action=1.6318186497925815\n",
            "action=0.11535820068084846\n",
            "action=-1.2209222464386293\n",
            "action=-2.3234118537920416\n",
            "action=-3.2163908750395507\n",
            "action=-3.978127426336858\n",
            "action=-4.6968655606389405\n",
            "action=-5.460339585362636\n",
            "action=-6.3609100227412725\n",
            "action=-7.502026199027103\n",
            "action=-8.987896825266393\n",
            "action=-10.866992505276325\n",
            "action=-13.003028174160178\n",
            "action=-14.993823787881489\n",
            "action=-16.524816750987522\n",
            "action=-17.687945647693642\n",
            "action=-18.594227952876718\n",
            "action=-19.359985571796408\n",
            "action=-20.05765630994053\n",
            "action=-20.73411270375235\n",
            "action=-21.410137978895836\n",
            "action=-22.084639271600228\n",
            "action=-22.743336682479153\n",
            "action=-23.376827749012172\n",
            "action=-23.995451420349294\n",
            "action=-24.629460099285893\n",
            "action=-25.323389858166138\n",
            "action=-26.132455607980155\n",
            "action=-27.117603133511157\n",
            "action=-28.328776523197384\n",
            "action=-29.761927018043295\n",
            "action=-31.293948055575896\n",
            "action=-32.688357695362896\n",
            "action=-33.79689931490945\n",
            "action=-34.66176712419413\n",
            "action=-35.362728610694575\n",
            "action=-35.98343811195444\n",
            "action=-36.59303827286031\n",
            "action=-37.25357774107229\n",
            "action=-38.025844820334626\n",
            "action=-38.971222402429234\n",
            "action=-40.14325319474425\n",
            "action=-41.564911168332465\n",
            "action=-43.19991659411317\n",
            "action=-44.95395155096938\n",
            "action=-46.73466407790838\n",
            "action=-48.51018605435517\n",
            "action=-50.300769152683124\n",
            "action=-52.14561192462566\n",
            "action=-54.07765810049581\n",
            "action=-56.10569765372121\n",
            "action=-58.206949606641416\n",
            "action=-60.340477736639926\n",
            "action=-62.48289778790186\n",
            "action=-64.662940002648\n",
            "action=-66.97360663649178\n",
            "action=-69.57365762129832\n",
            "action=-72.69828123456807\n",
            "action=-76.68525521258084\n",
            "action=-82.01113862911814\n",
            "action=-89.31736209428783\n",
            "action=-99.37885898071818\n",
            "action=-112.93821007609108\n",
            "action=-130.37901027095063\n",
            "action=-151.50638904901587\n",
            "action=-176.0283544265792\n",
            "action=-204.70155633902846\n",
            "action=-240.31470577898153\n",
            "action=-288.9573215012347\n",
            "action=-363.403554777904\n",
            "action=-492.37598975289256\n",
            "action=-1593.7537942886993\n"
          ]
        },
        {
          "output_type": "execute_result",
          "data": {
            "text/plain": [
              "array([-5.03537932e+00, -1.20778230e+01, -1.21068246e+01, -1.91173619e+01,\n",
              "       -1.91456271e+01, -2.63816743e+01, -2.64106891e+01, -3.38468030e+01,\n",
              "       -3.38762139e+01, -4.14739868e+01, -4.15039565e+01, -4.93155492e+01,\n",
              "       -4.93462140e+01, -5.72555294e+01, -5.72868422e+01, -6.52528781e+01,\n",
              "       -6.52843842e+01, -7.34758887e+01, -7.35084987e+01, -8.18713219e+01,\n",
              "       -8.19050623e+01, -9.02218906e+01, -9.02556991e+01, -9.83971966e+01,\n",
              "       -9.84306166e+01, -1.06684088e+02, -1.06718232e+02, -1.14903261e+02,\n",
              "       -1.14937394e+02, -1.22994098e+02, -1.23027852e+02, -1.30859716e+02,\n",
              "       -1.30892641e+02, -1.38419732e+02, -1.38451557e+02, -1.45738348e+02,\n",
              "       -1.45769198e+02, -1.52836805e+02, -1.52866778e+02, -1.59679022e+02,\n",
              "       -1.59707978e+02, -1.66388879e+02, -1.66417339e+02, -1.72758985e+02,\n",
              "       -1.72786020e+02, -1.78929292e+02, -1.78955676e+02, -1.84857190e+02,\n",
              "       -1.84882692e+02, -1.90595430e+02, -1.90620234e+02, -1.96088641e+02,\n",
              "       -1.96112743e+02, -2.01244037e+02, -2.01266864e+02, -2.05969551e+02,\n",
              "       -2.05990880e+02, -2.10205223e+02, -2.10224540e+02, -2.13952903e+02,\n",
              "       -2.13970111e+02, -2.17198857e+02, -2.17213937e+02, -2.19946214e+02,\n",
              "       -2.19958952e+02, -2.22204278e+02, -2.22214658e+02, -2.24028982e+02,\n",
              "       -2.24037289e+02, -2.25538127e+02, -2.25544612e+02, -2.26891235e+02,\n",
              "       -2.26896587e+02, -2.28228899e+02, -2.28233802e+02, -2.29608943e+02,\n",
              "       -2.29613598e+02, -2.30984070e+02, -2.30988408e+02, -2.32236640e+02,\n",
              "       -2.32240145e+02, -2.33237954e+02, -2.33240232e+02, -2.33944040e+02,\n",
              "       -2.33944937e+02, -2.34503306e+02, -2.34503649e+02, -2.35251985e+02,\n",
              "       -2.35253170e+02, -2.36449016e+02, -2.36452284e+02, -2.37912878e+02,\n",
              "       -2.37917535e+02, -2.39280221e+02, -2.39284851e+02, -2.40350184e+02,\n",
              "       -2.40353864e+02, -2.41083531e+02, -2.41086168e+02, -2.41528179e+02,\n",
              "       -2.41529934e+02, -2.41787881e+02, -2.41789138e+02, -2.41863208e+02,\n",
              "       -2.41863799e+02, -2.41631204e+02, -2.41630657e+02, -2.40938625e+02,\n",
              "       -2.40936221e+02, -2.39768881e+02, -2.39764597e+02, -2.38270617e+02,\n",
              "       -2.38264975e+02, -2.36611036e+02, -2.36604749e+02, -2.34835648e+02,\n",
              "       -2.34828916e+02, -2.32822614e+02, -2.32815118e+02, -2.30321644e+02,\n",
              "       -2.30312072e+02, -2.27069269e+02, -2.27056714e+02, -2.22967633e+02,\n",
              "       -2.22951494e+02, -2.18241110e+02, -2.18222617e+02, -2.13330213e+02,\n",
              "       -2.13310910e+02, -2.08373413e+02, -2.08354013e+02, -2.03105670e+02,\n",
              "       -2.03085010e+02, -1.97339756e+02, -1.97317163e+02, -1.90898482e+02,\n",
              "       -1.90872851e+02, -1.83733313e+02, -1.83704739e+02, -1.75924431e+02,\n",
              "       -1.75892841e+02, -1.67655796e+02, -1.67622119e+02, -1.59154702e+02,\n",
              "       -1.59119485e+02, -1.50618056e+02, -1.50582564e+02, -1.42138069e+02,\n",
              "       -1.42102401e+02, -1.33670717e+02, -1.33634863e+02, -1.25124997e+02,\n",
              "       -1.25088427e+02, -1.16517277e+02, -1.16480362e+02, -1.07989034e+02,\n",
              "       -1.07952205e+02, -9.96782089e+01, -9.96421521e+01, -9.16537518e+01,\n",
              "       -9.16189513e+01, -8.39239132e+01, -8.38903486e+01, -7.64775839e+01,\n",
              "       -7.64452250e+01, -6.93362455e+01, -6.93051802e+01, -6.25743794e+01,\n",
              "       -6.25451029e+01, -5.62817371e+01, -5.62546040e+01, -5.04949423e+01,\n",
              "       -5.04701963e+01, -4.51661504e+01, -4.51434863e+01, -4.01805226e+01,\n",
              "       -4.01593518e+01, -3.53965216e+01, -3.53761723e+01, -3.06907104e+01,\n",
              "       -3.06706798e+01, -2.59996468e+01, -2.59795208e+01, -2.13629508e+01,\n",
              "       -2.13429582e+01, -1.69618152e+01, -1.69426773e+01, -1.31222159e+01,\n",
              "       -1.31053276e+01, -1.02146986e+01, -1.02018195e+01, -8.45184518e+00,\n",
              "       -8.44377070e+00, -7.68465797e+00, -7.68099198e+00, -7.49416422e+00,\n",
              "       -7.49330218e+00, -7.41378111e+00, -7.41367457e+00, -7.02940455e+00,\n",
              "       -7.02821981e+00, -6.00808918e+00, -6.00429545e+00, -4.11291313e+00,\n",
              "       -4.10534190e+00, -3.60842218e-02, -1.93186898e-02, -2.25798534e-03,\n",
              "       -2.18836782e-03, -2.22519490e-03, -2.18365509e-03, -2.17755138e-03,\n",
              "       -2.19799296e-03, -2.18988350e-03, -2.24091273e-03, -2.18781604e-03,\n",
              "       -2.17213201e-03, -2.17315257e-03, -2.24605741e-03, -2.19293148e-03,\n",
              "       -2.19310407e-03, -2.19150376e-03, -2.23411558e-03, -2.21940041e-03,\n",
              "       -2.17452530e-03, -2.19661166e-03, -2.26267695e-03, -2.19499862e-03,\n",
              "       -2.22792065e-03, -2.20613512e-03, -2.18866887e-03, -2.18800840e-03,\n",
              "       -2.20513170e-03, -2.17366843e-03, -2.19163517e-03, -2.19105356e-03,\n",
              "       -2.18073895e-03, -2.20003847e-03, -2.15258759e-03, -2.20674590e-03,\n",
              "       -2.16992580e-03, -2.21053699e-03, -2.17475388e-03, -2.21980339e-03,\n",
              "       -2.18717499e-03, -2.24056964e-03, -2.18261583e-03, -2.17494248e-03,\n",
              "       -2.19818937e-03, -2.23697406e-03, -2.18547065e-03, -2.16283494e-03,\n",
              "       -2.18378572e-03, -2.22651411e-03, -2.18545837e-03, -2.20210317e-03,\n",
              "       -2.19562995e-03, -2.25403617e-03, -2.23117119e-03, -2.18572338e-03,\n",
              "       -2.19343212e-03, -2.24884369e-03, -2.19865104e-03, -2.20315837e-03,\n",
              "       -2.20393970e-03, -2.23975980e-03, -2.22063875e-03, -2.21560779e-03,\n",
              "       -2.22729669e-03, -2.20835207e-03, -2.23242079e-03, -2.19375713e-03,\n",
              "       -2.20776325e-03, -2.22257352e-03, -2.21694427e-03, -2.20413861e-03,\n",
              "       -2.20952982e-03, -2.19804134e-03, -2.19428491e-03, -2.19911105e-03,\n",
              "       -2.21431557e-03, -2.21080042e-03, -2.22025895e-03, -2.21782591e-03,\n",
              "       -2.23684246e-03, -2.20084653e-03, -2.26336357e-03, -2.22732319e-03,\n",
              "       -2.23516011e-03, -2.25722109e-03, -2.22809217e-03, -2.25418704e-03,\n",
              "       -2.25646821e-03, -2.31734438e-03, -2.26098675e-03, -2.28343048e-03,\n",
              "       -2.32801408e-03, -2.33754758e-03, -2.32721030e-03, -2.33396529e-03,\n",
              "       -2.31791446e-03, -2.32860982e-03, -2.33433557e-03, -2.32940046e-03,\n",
              "       -2.27018628e-03, -2.33902208e-03, -2.40770154e-03, -2.34034654e-03,\n",
              "       -2.27636325e-03, -2.38163990e-03, -2.31802710e-03, -2.35275484e-03,\n",
              "       -2.32913723e-03, -2.42030655e-03, -2.31580947e-03, -2.35859311e-03,\n",
              "       -2.35372015e-03, -2.37623397e-03, -2.30300432e-03, -2.37737984e-03,\n",
              "       -2.37200487e-03, -2.33594837e-03, -2.32278645e-03, -2.35035624e-03,\n",
              "       -2.34039966e-03, -2.36085414e-03, -2.38902394e-03, -2.36021533e-03,\n",
              "       -2.34299584e-03, -2.36917119e-03, -2.37826668e-03, -2.38207490e-03,\n",
              "       -2.34416701e-03, -2.32911090e-03, -2.34461485e-03, -2.34221049e-03,\n",
              "       -2.34161722e-03, -2.37404776e-03, -2.36768066e-03, -2.34124722e-03,\n",
              "       -2.35908128e-03, -2.36885748e-03, -2.32795539e-03, -2.36261932e-03,\n",
              "       -2.34550784e-03, -2.31749942e-03, -2.38390459e-03, -2.37321631e-03,\n",
              "       -2.32501379e-03, -2.32860445e-03, -2.35470495e-03, -2.33866136e-03,\n",
              "       -2.33610974e-03, -2.38213095e-03, -2.33177356e-03, -2.39381273e-03,\n",
              "       -2.32982740e-03, -2.38190703e-03, -2.34192100e-03, -2.38310374e-03,\n",
              "       -2.31905607e-03, -2.42843434e-03, -2.34289050e-03, -2.41589822e-03,\n",
              "       -2.29675289e-03, -2.44249806e-03, -2.33705937e-03, -2.43753456e-03,\n",
              "       -2.33942681e-03, -2.51816443e-03, -2.34069754e-03, -2.53162795e-03,\n",
              "       -2.35206631e-03, -2.54246893e-03, -2.34863275e-03, -2.54969127e-03,\n",
              "       -2.29186220e-03, -2.51390713e-03, -2.34041728e-03, -2.55008256e-03,\n",
              "       -2.31974436e-03, -2.53018617e-03, -2.33470823e-03, -2.54487888e-03,\n",
              "       -2.28721870e-03, -2.57033918e-03, -2.35425900e-03, -2.51684589e-03,\n",
              "       -2.30481230e-03, -2.56529903e-03, -2.32830565e-03,  1.44954584e-02,\n",
              "        3.17478870e-02,  4.10043614e+00,  4.10891833e+00,  5.99906234e+00,\n",
              "        6.00383648e+00,  7.02181026e+00,  7.02394950e+00,  7.40584097e+00,\n",
              "        7.40627260e+00,  7.48341273e+00,  7.48395103e+00,  7.66941603e+00,\n",
              "        7.67161998e+00,  8.43021909e+00,  8.43629953e+00,  1.01867924e+01,\n",
              "        1.01973077e+01,  1.30894817e+01,  1.31037626e+01,  1.69262841e+01,\n",
              "        1.69430528e+01,  2.13264311e+01,  2.13442261e+01,  2.59627970e+01,\n",
              "        2.59810329e+01,  3.06539399e+01,  3.06722499e+01,  3.53590850e+01,\n",
              "        3.53777242e+01,  4.01415761e+01,  4.01610615e+01,  4.51249223e+01,\n",
              "        4.51455322e+01,  5.04505695e+01,  5.04729942e+01,  5.62339459e+01,\n",
              "        5.62581645e+01,  6.25233869e+01,  6.25493172e+01,  6.92826794e+01,\n",
              "        6.93099940e+01,  7.64221072e+01,  7.64506603e+01,  8.38671098e+01,\n",
              "        8.38965711e+01,  9.15961436e+01,  9.16268231e+01,  9.96202451e+01,\n",
              "        9.96524218e+01,  1.07931811e+02,  1.07965080e+02,  1.16462346e+02,\n",
              "        1.16496126e+02,  1.25073018e+02,  1.25107215e+02,  1.33622683e+02,\n",
              "        1.33656755e+02,  1.42093615e+02,  1.42128520e+02,  1.50577476e+02,\n",
              "        1.50613064e+02,  1.59118016e+02,  1.59154197e+02,  1.67624121e+02,\n",
              "        1.67659743e+02,  1.75898123e+02,  1.75932506e+02,  1.83712666e+02,\n",
              "        1.83744724e+02,  1.90883071e+02,  1.90912343e+02,  1.97328647e+02,\n",
              "        1.97355345e+02,  2.03097484e+02,  2.03122010e+02,  2.08367036e+02,\n",
              "        2.08390052e+02,  2.13323686e+02,  2.13346485e+02,  2.18235377e+02,\n",
              "        2.18257194e+02,  2.22963669e+02,  2.22982810e+02,  2.27068101e+02,\n",
              "        2.27083706e+02,  2.30322617e+02,  2.30334945e+02,  2.32824544e+02,\n",
              "        2.32834558e+02,  2.34837119e+02,  2.34846151e+02,  2.36611659e+02,\n",
              "        2.36619902e+02,  2.38270604e+02,  2.38278130e+02,  2.39768594e+02,\n",
              "        2.39774513e+02,  2.40938594e+02,  2.40942498e+02,  2.41630862e+02,\n",
              "        2.41632471e+02,  2.41861488e+02,  2.41861616e+02,  2.41783898e+02,\n",
              "        2.41782775e+02,  2.41521700e+02,  2.41519469e+02,  2.41074589e+02,\n",
              "        2.41070537e+02,  2.40338946e+02,  2.40333034e+02,  2.39266659e+02,\n",
              "        2.39258834e+02,  2.37896504e+02,  2.37887859e+02,  2.36428821e+02,\n",
              "        2.36420632e+02,  2.35228111e+02,  2.35221675e+02,  2.34477832e+02,\n",
              "        2.34471964e+02,  2.33919612e+02,  2.33913232e+02,  2.33216220e+02,\n",
              "        2.33208794e+02,  2.32218286e+02,  2.32210315e+02,  2.30969678e+02,\n",
              "        2.30961491e+02,  2.29598339e+02,  2.29590854e+02,  2.28222856e+02,\n",
              "        2.28216085e+02,  2.26890108e+02,  2.26884122e+02,  2.25542767e+02,\n",
              "        2.25536883e+02,  2.24039873e+02,  2.24033365e+02,  2.22221151e+02,\n",
              "        2.22213600e+02,  2.19968954e+02,  2.19959764e+02,  2.17226562e+02,\n",
              "        2.17215534e+02,  2.13984518e+02,  2.13971554e+02,  2.10239980e+02,\n",
              "        2.10225056e+02,  2.06006423e+02,  2.05989416e+02,  2.01282081e+02,\n",
              "        2.01262852e+02,  1.96126976e+02,  1.96106106e+02,  1.90633365e+02,\n",
              "        1.90611208e+02,  1.84894323e+02,  1.84871097e+02,  1.78965868e+02,\n",
              "        1.78941442e+02,  1.72794762e+02,  1.72769319e+02,  1.66424686e+02,\n",
              "        1.66397644e+02,  1.59713797e+02,  1.59686224e+02,  1.52871185e+02,\n",
              "        1.52842472e+02,  1.45771994e+02,  1.45742282e+02,  1.38452583e+02,\n",
              "        1.38421653e+02,  1.30891616e+02,  1.30859322e+02,  1.23024595e+02,\n",
              "        1.22991050e+02,  1.14931372e+02,  1.14896981e+02,  1.06709538e+02,\n",
              "        1.06674349e+02,  9.84190337e+01,  9.83838002e+01,  9.02412788e+01,\n",
              "        9.02048865e+01,  8.18881547e+01,  8.18510370e+01,  7.34894825e+01,\n",
              "        7.34527011e+01,  6.52639504e+01,  6.52276677e+01,  5.72655622e+01,\n",
              "        5.72294513e+01,  4.93255398e+01,  4.92896655e+01,  4.14843883e+01,\n",
              "        4.14497058e+01,  3.38591741e+01,  3.38252308e+01,  2.63970011e+01,\n",
              "        2.63644351e+01,  1.91359953e+01,  1.91050715e+01,  1.21018177e+01,\n",
              "        1.20715102e+01,  5.03695524e+00])"
            ]
          },
          "metadata": {},
          "execution_count": 56
        }
      ]
    },
    {
      "cell_type": "code",
      "source": [
        "plt.plot(t_list, np.hstack([q_first, res.x, q_last]))"
      ],
      "metadata": {
        "colab": {
          "base_uri": "https://localhost:8080/",
          "height": 282
        },
        "id": "1cwPURZUF-vD",
        "outputId": "b3ed4bb3-2066-4212-c8bc-63f413b33df0"
      },
      "execution_count": 57,
      "outputs": [
        {
          "output_type": "execute_result",
          "data": {
            "text/plain": [
              "[<matplotlib.lines.Line2D at 0x7f7ce024cd90>]"
            ]
          },
          "metadata": {},
          "execution_count": 57
        },
        {
          "output_type": "display_data",
          "data": {
            "text/plain": [
              "<Figure size 432x288 with 1 Axes>"
            ],
            "image/png": "[encoded data removed]"
          },
          "metadata": {
            "needs_background": "light"
          }
        }
      ]
    },
    {
      "cell_type": "code",
      "source": [
        ""
      ],
      "metadata": {
        "id": "-cIEqVzbLiFs"
      },
      "execution_count": null,
      "outputs": []
    }
  ]
}