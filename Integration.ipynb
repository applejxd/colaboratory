{
  "nbformat": 4,
  "nbformat_minor": 0,
  "metadata": {
    "colab": {
      "name": "Integration.ipynb",
      "provenance": [],
      "collapsed_sections": [],
      "authorship_tag": "ABX9TyMtWHFv0jocG7r4UWSTmk41",
      "include_colab_link": true
    },
    "kernelspec": {
      "name": "python3",
      "display_name": "Python 3"
    }
  },
  "cells": [
    {
      "cell_type": "markdown",
      "metadata": {
        "id": "view-in-github",
        "colab_type": "text"
      },
      "source": [
        "<a href=\"https://colab.research.google.com/github/applejxd/colaboratory/blob/master/Integration.ipynb\" target=\"_parent\"><img src=\"https://colab.research.google.com/assets/colab-badge.svg\" alt=\"Open In Colab\"/></a>"
      ]
    },
    {
      "cell_type": "markdown",
      "metadata": {
        "id": "XHMRBsmL3xTR"
      },
      "source": [
        "数値積分法の精度を円周率の計算\n",
        "\\begin{equation}\n",
        "    I\\equiv\\int_a^b dx f(x)\n",
        "    =\\int_{0}^1dx\\frac{4}{1+x^2}=\\pi\n",
        "\\end{equation}\n",
        "で比較する。"
      ]
    },
    {
      "cell_type": "markdown",
      "metadata": {
        "id": "Y4dFIB3K5iqA"
      },
      "source": [
        "台形公式は積分を単純な差分で表したもので\n",
        "\\begin{equation}\n",
        "I\\simeq\\frac{\\Delta x}{2}\\left(f(x_0)+2\\sum_{k=1}^{n-1}f(x_k)+f(x_n)\\right),\\quad\n",
        "\\Delta x\\equiv\\frac{x_n - x_0}{n},\\quad x_k\\equiv x_0 + k\\Delta x\n",
        "\\end{equation}\n",
        "である。"
      ]
    },
    {
      "cell_type": "code",
      "metadata": {
        "id": "tCOyk2yTrl4N"
      },
      "source": [
        "import numpy as np\n",
        "\n",
        "#: 被積分関数\n",
        "def integrand(x: float) -> float:\n",
        "    return 4 / (1 + x**2)"
      ],
      "execution_count": 3,
      "outputs": []
    },
    {
      "cell_type": "code",
      "metadata": {
        "id": "WcoU2I5t3eig",
        "outputId": "5558b505-e26d-44a3-89db-e0c63003278e",
        "colab": {
          "base_uri": "https://localhost:8080/",
          "height": 34
        }
      },
      "source": [
        "from typing import Callable\n",
        "\n",
        "def trapezoid(integrand: Callable[[float], float], \n",
        "              x_0: float, x_n: float, num: int) -> float:\n",
        "    # 分割幅\n",
        "    dx: float = 1./num\n",
        "    # 台形公式\n",
        "    sum: float = dx / 2 * (integrand(x_0) + integrand(x_n))\n",
        "    for k in range(1, num):\n",
        "        x_k = x_0 + k * dx\n",
        "        sum += dx * integrand(x_k)\n",
        "    return sum\n",
        "\n",
        "print(trapezoid(integrand, 0, 1, 100))"
      ],
      "execution_count": 19,
      "outputs": [
        {
          "output_type": "stream",
          "text": [
            "3.141575986923127\n"
          ],
          "name": "stdout"
        }
      ]
    },
    {
      "cell_type": "markdown",
      "metadata": {
        "id": "wNXNpDpm9Psj"
      },
      "source": [
        "シンプソン公式は 2 次のニュートン・コーツ公式（2 次のラグランジュ補間による積分）で\n",
        "\\begin{equation}\n",
        "I\\simeq\\frac{\\Delta x}{3}\\left(f(x_0)+4\\sum_{k=1,3,\\cdots}^{2n-1}f(x_k)+2\\sum_{k=2,4,\\cdots}^{2n-2}f(x_k)+f(x_{2n})\\right),\\quad\n",
        "\\Delta x\\equiv\\frac{x_{2n}-x_0}{2n},\\quad\n",
        "x_k\\equiv x_0 + k\\Delta x\n",
        "\\end{equation}\n",
        "となる。"
      ]
    },
    {
      "cell_type": "code",
      "metadata": {
        "id": "GxB5lvDM9Vg-",
        "outputId": "3933f3fe-2e5c-49b8-a666-37eeb3fffd53",
        "colab": {
          "base_uri": "https://localhost:8080/",
          "height": 34
        }
      },
      "source": [
        "def simpson(integrand: Callable[[float], float], \n",
        "            x_0: float, x_2n: float, num: int) -> float:\n",
        "    dx = (x_2n - x_0) / (2 * num)\n",
        "    sum = dx / 3 * (integrand(x_0) + integrand(x_2n))\n",
        "    \n",
        "    #: 奇数の場合\n",
        "    for k in np.arange(1, 2*num, 2):\n",
        "        x_k = x_0 + k * dx\n",
        "        sum += dx * 4/3 * integrand(x_k)\n",
        "    #: 偶数の場合\n",
        "    for k in np.arange(2, 2*num, 2):\n",
        "        x_k = x_0 + k * dx\n",
        "        sum += dx * 2/3 * integrand(x_k)\n",
        "    return sum\n",
        "\n",
        "print(simpson(integrand, 0, 1, 50))"
      ],
      "execution_count": 20,
      "outputs": [
        {
          "output_type": "stream",
          "text": [
            "3.141592653589754\n"
          ],
          "name": "stdout"
        }
      ]
    },
    {
      "cell_type": "markdown",
      "metadata": {
        "id": "hXFZytZN9WDd"
      },
      "source": [
        "ロンバーグ法は収束値が真の積分値であるような収束列を用いて、補外を行うことで積分値を求めるアルゴリズムである。\n",
        "このような収束列を台形公式によって\n",
        "\\begin{equation}\n",
        "\\begin{split}\n",
        "&T_0^n\\equiv\\frac{\\Delta x}{2}\\left(f(x_0)+2\\sum_{k=1}^{2^n-1}f(x_k)+f(x_{2^n})\\right)\\overset{n\\rightarrow\\infty}{\\rightarrow}I,\\\\\n",
        "&\\Delta x\\equiv\\frac{x_{2^n}-x_0}{2^n},\\quad x_k\\equiv k\\Delta x\n",
        "\\end{split}\n",
        "\\end{equation}\n",
        "のように作る。\n",
        "上の添字は分割数の添字であり、下の添字は補外回数の添字である。\n",
        "ロンバーグ法は各 $T^n_0$ に対して\n",
        "\\begin{equation}\n",
        "T^{n+1}_m \\equiv\\frac{4^m T^{n+1}_{m-1} - T^n_{m-1}}{4^m-1}\n",
        "\\end{equation}\n",
        "を計算する。\n",
        "計算は更新幅が一定以下になるまで行う。"
      ]
    },
    {
      "cell_type": "code",
      "metadata": {
        "id": "A6eESrwj9aP5",
        "outputId": "f157a26d-8f0d-4a23-c763-321838dadf97",
        "colab": {
          "base_uri": "https://localhost:8080/",
          "height": 330
        }
      },
      "source": [
        "def romberg(integrand: Callable[[float], float], num: int) -> float:\n",
        "    epsilon: float = 1e-10\n",
        "    #: インデックスは下添字\n",
        "    T_list: list = [trapezoid(integrand, 0, 1, 100)]\n",
        "    for up_index in range(1, num+1):\n",
        "        #: T_0 のリスト更新\n",
        "        T_0: float = trapezoid(integrand, 0, 1, up_index)\n",
        "        # 終了判定\n",
        "        if abs(T_0 - T_list[-1]) < epsilon:\n",
        "            return T_0\n",
        "\n",
        "        #: 2^up_index 分割に対する Romberg 補外\n",
        "        T_tmp_list: list = [T_0]\n",
        "        for low_index in range(1, up_index+1):\n",
        "            T_tmp_list.append(\n",
        "                (4. ** low_index * T_tmp_list[low_index] - T_list[low_index])\n",
        "                / (4. ** low_index - 1.)\n",
        "                )\n",
        "            #: 終了判定\n",
        "            if abs(T_tmp_list[-1] - T_tmp_list[-2]) < epsilon:\n",
        "                return T_tmp_list[-1]\n",
        "        #: リスト更新\n",
        "        T_list = T_tmp_list\n",
        "    return T_list[-1]\n",
        "            \n",
        "print(romberg(integrand, 6))"
      ],
      "execution_count": 22,
      "outputs": [
        {
          "output_type": "error",
          "ename": "IndexError",
          "evalue": "ignored",
          "traceback": [
            "\u001b[0;31m---------------------------------------------------------------------------\u001b[0m",
            "\u001b[0;31mIndexError\u001b[0m                                Traceback (most recent call last)",
            "\u001b[0;32m<ipython-input-22-6608bf1b2111>\u001b[0m in \u001b[0;36m<module>\u001b[0;34m()\u001b[0m\n\u001b[1;32m     24\u001b[0m     \u001b[0;32mreturn\u001b[0m \u001b[0mT_list\u001b[0m\u001b[0;34m[\u001b[0m\u001b[0;34m-\u001b[0m\u001b[0;36m1\u001b[0m\u001b[0;34m]\u001b[0m\u001b[0;34m\u001b[0m\u001b[0;34m\u001b[0m\u001b[0m\n\u001b[1;32m     25\u001b[0m \u001b[0;34m\u001b[0m\u001b[0m\n\u001b[0;32m---> 26\u001b[0;31m \u001b[0mprint\u001b[0m\u001b[0;34m(\u001b[0m\u001b[0mromberg\u001b[0m\u001b[0;34m(\u001b[0m\u001b[0mintegrand\u001b[0m\u001b[0;34m,\u001b[0m \u001b[0;36m6\u001b[0m\u001b[0;34m)\u001b[0m\u001b[0;34m)\u001b[0m\u001b[0;34m\u001b[0m\u001b[0;34m\u001b[0m\u001b[0m\n\u001b[0m",
            "\u001b[0;32m<ipython-input-22-6608bf1b2111>\u001b[0m in \u001b[0;36mromberg\u001b[0;34m(integrand, num)\u001b[0m\n\u001b[1;32m     14\u001b[0m         \u001b[0;32mfor\u001b[0m \u001b[0mlow_index\u001b[0m \u001b[0;32min\u001b[0m \u001b[0mrange\u001b[0m\u001b[0;34m(\u001b[0m\u001b[0;36m1\u001b[0m\u001b[0;34m,\u001b[0m \u001b[0mup_index\u001b[0m\u001b[0;34m+\u001b[0m\u001b[0;36m1\u001b[0m\u001b[0;34m)\u001b[0m\u001b[0;34m:\u001b[0m\u001b[0;34m\u001b[0m\u001b[0;34m\u001b[0m\u001b[0m\n\u001b[1;32m     15\u001b[0m             T_tmp_list.append(\n\u001b[0;32m---> 16\u001b[0;31m                 \u001b[0;34m(\u001b[0m\u001b[0;36m4.\u001b[0m \u001b[0;34m**\u001b[0m \u001b[0mlow_index\u001b[0m \u001b[0;34m*\u001b[0m \u001b[0mT_tmp_list\u001b[0m\u001b[0;34m[\u001b[0m\u001b[0mlow_index\u001b[0m\u001b[0;34m]\u001b[0m \u001b[0;34m-\u001b[0m \u001b[0mT_list\u001b[0m\u001b[0;34m[\u001b[0m\u001b[0mlow_index\u001b[0m\u001b[0;34m]\u001b[0m\u001b[0;34m)\u001b[0m\u001b[0;34m\u001b[0m\u001b[0;34m\u001b[0m\u001b[0m\n\u001b[0m\u001b[1;32m     17\u001b[0m                 \u001b[0;34m/\u001b[0m \u001b[0;34m(\u001b[0m\u001b[0;36m4.\u001b[0m \u001b[0;34m**\u001b[0m \u001b[0mlow_index\u001b[0m \u001b[0;34m-\u001b[0m \u001b[0;36m1.\u001b[0m\u001b[0;34m)\u001b[0m\u001b[0;34m\u001b[0m\u001b[0;34m\u001b[0m\u001b[0m\n\u001b[1;32m     18\u001b[0m                 )\n",
            "\u001b[0;31mIndexError\u001b[0m: list index out of range"
          ]
        }
      ]
    },
    {
      "cell_type": "markdown",
      "metadata": {
        "id": "ES4cNgPW9axF"
      },
      "source": [
        "ガウス・ルジャンドル積分"
      ]
    },
    {
      "cell_type": "code",
      "metadata": {
        "id": "JoJVq2fh9duC"
      },
      "source": [
        ""
      ],
      "execution_count": null,
      "outputs": []
    }
  ]
}