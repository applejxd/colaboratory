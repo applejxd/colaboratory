{
  "nbformat": 4,
  "nbformat_minor": 0,
  "metadata": {
    "colab": {
      "name": "Integration.ipynb",
      "provenance": [],
      "collapsed_sections": [],
      "authorship_tag": "ABX9TyN1lxArZeP4scu9S/kNNgxb",
      "include_colab_link": true
    },
    "kernelspec": {
      "name": "python3",
      "display_name": "Python 3"
    }
  },
  "cells": [
    {
      "cell_type": "markdown",
      "metadata": {
        "id": "view-in-github",
        "colab_type": "text"
      },
      "source": [
        "<a href=\"https://colab.research.google.com/github/applejxd/colaboratory/blob/master/Integration.ipynb\" target=\"_parent\"><img src=\"https://colab.research.google.com/assets/colab-badge.svg\" alt=\"Open In Colab\"/></a>"
      ]
    },
    {
      "cell_type": "markdown",
      "metadata": {
        "id": "XHMRBsmL3xTR"
      },
      "source": [
        "数値積分法の精度を円周率の計算\n",
        "\\begin{equation}\n",
        "    I\\equiv\\int_a^b dx f(x)\n",
        "    =\\int_{0}^1dx\\frac{4}{1+x^2}=\\pi\n",
        "\\end{equation}\n",
        "で比較する。"
      ]
    },
    {
      "cell_type": "markdown",
      "metadata": {
        "id": "Y4dFIB3K5iqA"
      },
      "source": [
        "台形公式は\n",
        "\\begin{equation}\n",
        "\\begin{split}\n",
        "    &I\\simeq\\frac{\\Delta x}{2}\\left(f(x_0)+2\\sum_{k=1}^{n-1}f(x_k)+f(x_n)\\right)\n",
        "    =\\Delta x\\left(2+\\sum_{k=1}^{n-1}\\frac{4}{1+x_k^2}+1\\right),\\\\\n",
        "    &\\Delta x\\equiv\\frac{1}{n},\\quad\n",
        "    x_k\\equiv k\\Delta x\n",
        "\\end{split}\n",
        "\\end{equation}\n",
        "となる。"
      ]
    },
    {
      "cell_type": "code",
      "metadata": {
        "id": "WcoU2I5t3eig",
        "outputId": "3756e4a6-7f03-4729-f555-ee44526b7195",
        "colab": {
          "base_uri": "https://localhost:8080/",
          "height": 34
        }
      },
      "source": [
        "import numpy as np\n",
        "\n",
        "num: float = 100.\n",
        "dx: float = 1./num\n",
        "sum: float = 3. * dx\n",
        "x_list: np.ndarray = np.arange(dx, 1., dx)\n",
        "\n",
        "for x_k in x_list:\n",
        "    sum += dx * 4 / (1 + x_k**2)\n",
        "\n",
        "print(sum)"
      ],
      "execution_count": 15,
      "outputs": [
        {
          "output_type": "stream",
          "text": [
            "3.141575986923127\n"
          ],
          "name": "stdout"
        }
      ]
    },
    {
      "cell_type": "markdown",
      "metadata": {
        "id": "wNXNpDpm9Psj"
      },
      "source": [
        "シンプソン公式は\n",
        "\\begin{equation}\n",
        "\\begin{split}\n",
        "    &I\\simeq\\frac{\\Delta x}{3}\\left(f(x_0)+4\\sum_{k=1,3,\\cdots}^{2n-1}f(x_k)+2\\sum_{k=2,4,\\cdots}^{2n-2}f(x_k)+f(x_{2n})\\right)\\\\\n",
        "    &=\\frac{\\Delta x}{3}\\left(4+\\sum_{k=1,3,\\cdots}^{2n-1}\\frac{16}{1+x_k^2}+\\sum_{k=2,4,\\cdots}^{2n-2}\\frac{8}{1+x_k^2}+2\\right),\\\\\n",
        "    &\\Delta x\\equiv\\frac{1-(-1)}{2n},\\quad\n",
        "    x_k\\equiv-1+k\\Delta x\n",
        "\\end{split}\n",
        "\\end{equation}\n",
        "となる。"
      ]
    },
    {
      "cell_type": "code",
      "metadata": {
        "id": "GxB5lvDM9Vg-",
        "outputId": "f94f683d-1ea6-486b-8882-c08f93721c03",
        "colab": {
          "base_uri": "https://localhost:8080/",
          "height": 34
        }
      },
      "source": [
        "num = 50.\n",
        "dx = 1./(2 * num)\n",
        "sum = 2 * dx\n",
        "x_odd_list: np.ndarray = np.arange(dx, 1., 2*dx)\n",
        "x_even_list: np.ndarray = np.arange(2*dx, 1.-dx, 2*dx)\n",
        "\n",
        "for x_k in x_odd_list:\n",
        "    sum += dx * 16./3. / (1+x_k**2)\n",
        "\n",
        "for x_k in x_even_list:\n",
        "    sum += dx * 8./3. / (1+x_k**2)\n",
        "\n",
        "print(sum)"
      ],
      "execution_count": 21,
      "outputs": [
        {
          "output_type": "stream",
          "text": [
            "3.141592653589754\n"
          ],
          "name": "stdout"
        }
      ]
    },
    {
      "cell_type": "markdown",
      "metadata": {
        "id": "hXFZytZN9WDd"
      },
      "source": [
        "ロンバーグ法"
      ]
    },
    {
      "cell_type": "code",
      "metadata": {
        "id": "A6eESrwj9aP5"
      },
      "source": [
        ""
      ],
      "execution_count": null,
      "outputs": []
    },
    {
      "cell_type": "markdown",
      "metadata": {
        "id": "ES4cNgPW9axF"
      },
      "source": [
        "ガウス・ルジャンドル積分"
      ]
    },
    {
      "cell_type": "code",
      "metadata": {
        "id": "JoJVq2fh9duC"
      },
      "source": [
        ""
      ],
      "execution_count": null,
      "outputs": []
    }
  ]
}