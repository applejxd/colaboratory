{
  "nbformat": 4,
  "nbformat_minor": 0,
  "metadata": {
    "colab": {
      "name": "Integration.ipynb",
      "provenance": [],
      "collapsed_sections": [],
      "authorship_tag": "ABX9TyOpUv9XrJLTcZCUOU6cLHna",
      "include_colab_link": true
    },
    "kernelspec": {
      "name": "python3",
      "display_name": "Python 3"
    }
  },
  "cells": [
    {
      "cell_type": "markdown",
      "metadata": {
        "id": "view-in-github",
        "colab_type": "text"
      },
      "source": [
        "<a href=\"https://colab.research.google.com/github/applejxd/colaboratory/blob/master/Integration.ipynb\" target=\"_parent\"><img src=\"https://colab.research.google.com/assets/colab-badge.svg\" alt=\"Open In Colab\"/></a>"
      ]
    },
    {
      "cell_type": "markdown",
      "metadata": {
        "id": "XHMRBsmL3xTR"
      },
      "source": [
        "数値積分法の精度を円周率の計算\n",
        "\\begin{equation}\n",
        "    I\\equiv\\int_a^b dx f(x)\n",
        "    =\\int_{0}^1dx\\frac{4}{1+x^2}=\\pi\n",
        "\\end{equation}\n",
        "で比較する。"
      ]
    },
    {
      "cell_type": "markdown",
      "metadata": {
        "id": "9B0GAgHY8aNq"
      },
      "source": [
        "## 台形公式"
      ]
    },
    {
      "cell_type": "markdown",
      "metadata": {
        "id": "Y4dFIB3K5iqA"
      },
      "source": [
        "台形公式は積分を単純な差分で表したもので\n",
        "\\begin{equation}\n",
        "I\\simeq\\frac{\\Delta x}{2}\\left(f(x_0)+2\\sum_{k=1}^{n-1}f(x_k)+f(x_n)\\right),\\quad\n",
        "\\Delta x\\equiv\\frac{x_n - x_0}{n},\\quad x_k\\equiv x_0 + k\\Delta x\n",
        "\\end{equation}\n",
        "である。"
      ]
    },
    {
      "cell_type": "code",
      "metadata": {
        "id": "tCOyk2yTrl4N"
      },
      "source": [
        "import numpy as np\n",
        "\n",
        "#: 被積分関数\n",
        "def integrand(x: float) -> float:\n",
        "    return 4 / (1 + x**2)"
      ],
      "execution_count": 1,
      "outputs": []
    },
    {
      "cell_type": "code",
      "metadata": {
        "id": "WcoU2I5t3eig",
        "outputId": "cbbef0b6-a4e6-4351-ef69-ec738a78ff95",
        "colab": {
          "base_uri": "https://localhost:8080/"
        }
      },
      "source": [
        "from typing import Callable\n",
        "\n",
        "def trapezoid(integrand: Callable[[float], float], \n",
        "              x_0: float, x_n: float, num: int) -> float:\n",
        "    # 分割幅\n",
        "    dx: float = 1./num\n",
        "    # 台形公式\n",
        "    sum: float = dx / 2 * (integrand(x_0) + integrand(x_n))\n",
        "    for k in range(1, num):\n",
        "        x_k = x_0 + k * dx\n",
        "        sum += dx * integrand(x_k)\n",
        "    return sum\n",
        "\n",
        "print(f\"pi = {trapezoid(integrand, 0, 1, 100):.10f}\")"
      ],
      "execution_count": 2,
      "outputs": [
        {
          "output_type": "stream",
          "text": [
            "pi = 3.1415759869\n"
          ],
          "name": "stdout"
        }
      ]
    },
    {
      "cell_type": "markdown",
      "metadata": {
        "id": "rRMiaTOu8eM3"
      },
      "source": [
        "## シンプソン公式"
      ]
    },
    {
      "cell_type": "markdown",
      "metadata": {
        "id": "wNXNpDpm9Psj"
      },
      "source": [
        "\n",
        "シンプソン公式は 2 次のニュートン・コーツ公式（2 次のラグランジュ補間による積分）で\n",
        "\\begin{equation}\n",
        "I\\simeq\\frac{\\Delta x}{3}\\left(f(x_0)+4\\sum_{k=1,3,\\cdots}^{2n-1}f(x_k)+2\\sum_{k=2,4,\\cdots}^{2n-2}f(x_k)+f(x_{2n})\\right),\\quad\n",
        "\\Delta x\\equiv\\frac{x_{2n}-x_0}{2n},\\quad\n",
        "x_k\\equiv x_0 + k\\Delta x\n",
        "\\end{equation}\n",
        "となる。"
      ]
    },
    {
      "cell_type": "code",
      "metadata": {
        "id": "GxB5lvDM9Vg-",
        "outputId": "ca91686a-c669-463f-9e5c-76671659b8aa",
        "colab": {
          "base_uri": "https://localhost:8080/"
        }
      },
      "source": [
        "def simpson(integrand: Callable[[float], float], \n",
        "            x_0: float, x_2n: float, num: int) -> float:\n",
        "    dx = (x_2n - x_0) / (2 * num)\n",
        "    sum = dx / 3 * (integrand(x_0) + integrand(x_2n))\n",
        "    \n",
        "    #: 奇数の場合\n",
        "    for k in np.arange(1, 2*num, 2):\n",
        "        x_k = x_0 + k * dx\n",
        "        sum += dx * 4/3 * integrand(x_k)\n",
        "    #: 偶数の場合\n",
        "    for k in np.arange(2, 2*num, 2):\n",
        "        x_k = x_0 + k * dx\n",
        "        sum += dx * 2/3 * integrand(x_k)\n",
        "    return sum\n",
        "\n",
        "print(f\"pi = {simpson(integrand, 0, 1, 50):.15f}\")"
      ],
      "execution_count": 3,
      "outputs": [
        {
          "output_type": "stream",
          "text": [
            "pi = 3.141592653589754\n"
          ],
          "name": "stdout"
        }
      ]
    },
    {
      "cell_type": "markdown",
      "metadata": {
        "id": "Wfr82Gg58hon"
      },
      "source": [
        "## ロンバーグ法"
      ]
    },
    {
      "cell_type": "markdown",
      "metadata": {
        "id": "hXFZytZN9WDd"
      },
      "source": [
        "ロンバーグ法は収束値が真の積分値であるような収束列を用いて、補外を行うことで積分値を求めるアルゴリズムである。\n",
        "このような収束列を台形公式によって\n",
        "\\begin{equation}\n",
        "\\begin{split}\n",
        "&T_0^n\\equiv\\frac{\\Delta x}{2}\\left(f(x_0)+2\\sum_{k=1}^{2^n-1}f(x_k)+f(x_{2^n})\\right)\\overset{n\\rightarrow\\infty}{\\rightarrow}I,\\\\\n",
        "&\\Delta x\\equiv\\frac{x_{2^n}-x_0}{2^n},\\quad x_k\\equiv k\\Delta x\n",
        "\\end{split}\n",
        "\\end{equation}\n",
        "のように作る。\n",
        "上の添字は分割数の添字であり、下の添字は補外回数の添字である。\n",
        "ロンバーグ法は各 $T^n_0$ に対して\n",
        "\\begin{equation}\n",
        "T^{n+1}_m \\equiv\\frac{4^m T^{n+1}_{m-1} - T^n_{m-1}}{4^m-1}\n",
        "\\end{equation}\n",
        "を計算する。\n",
        "計算は\n",
        "\\begin{equation}\n",
        "T_0^0\\overset{\\text{分割}}{\\rightarrow}\n",
        "T_1^0\\overset{\\text{補外}}{\\rightarrow}\n",
        "T_1^1\\overset{\\text{分割}}{\\rightarrow}\n",
        "T_2^0\\overset{\\text{補外}}{\\rightarrow}\n",
        "T_2^1\\overset{\\text{補外}}{\\rightarrow}\n",
        "T_2^2\\overset{\\text{分割}}{\\rightarrow}\n",
        "\\cdots\n",
        "\\end{equation}\n",
        "の順に行い更新幅が一定以下になるまで行う。"
      ]
    },
    {
      "cell_type": "code",
      "metadata": {
        "id": "A6eESrwj9aP5",
        "outputId": "df8cfafc-5312-4d76-f04f-08d96e783eae",
        "colab": {
          "base_uri": "https://localhost:8080/"
        }
      },
      "source": [
        "def romberg(integrand: Callable[[float], float], num: int) -> float:\n",
        "    epsilon: float = 1e-10\n",
        "    #: インデックスは下添字\n",
        "    T_list: list = [trapezoid(integrand, 0, 1, 1)]\n",
        "    for up_index in range(1, num+1):\n",
        "        #: T_0 のリスト更新\n",
        "        T_0: float = trapezoid(integrand, 0, 1, 2 ** up_index)\n",
        "        # 終了判定\n",
        "        if abs(T_0 - T_list[-1]) < epsilon:\n",
        "            return T_0\n",
        "\n",
        "        #: 2^up_index 分割に対する Romberg 補外\n",
        "        T_tmp_list: list = [T_0]\n",
        "        for low_index in range(1, up_index+1):\n",
        "            T_tmp_list.append(\n",
        "                (4. ** low_index * T_tmp_list[low_index-1] - T_list[low_index-1])\n",
        "                / (4. ** low_index - 1.)\n",
        "                )\n",
        "            #: 終了判定\n",
        "            if low_index > 1:\n",
        "                if abs(T_tmp_list[-1] - T_tmp_list[-2]) < epsilon:\n",
        "                    return T_tmp_list[-1]\n",
        "        #: リスト更新\n",
        "        T_list = T_tmp_list\n",
        "    return T_list[-1]\n",
        "            \n",
        "print(f\"pi = {romberg(integrand, 6):.15f}\")"
      ],
      "execution_count": 4,
      "outputs": [
        {
          "output_type": "stream",
          "text": [
            "pi = 3.141592653649611\n"
          ],
          "name": "stdout"
        }
      ]
    },
    {
      "cell_type": "markdown",
      "metadata": {
        "id": "7s8yz3518oXg"
      },
      "source": [
        "## ガウス・ルジャンドル積分"
      ]
    },
    {
      "cell_type": "markdown",
      "metadata": {
        "id": "ES4cNgPW9axF"
      },
      "source": [
        "ガウス・ルジャンドル積分はルジャンドル多項式のゼロ点\n",
        "\\begin{equation}\n",
        "x_1\\leq x_2\\leq\\cdots\\leq x_k\\leq\\cdots\\leq x_N\\quad\n",
        "\\text{s.t.}\\quad P_N(x_k)=0\n",
        "\\end{equation}\n",
        "を利用する。\n",
        "ルジャンドル多項式はボネの漸化式\n",
        "\\begin{equation}\n",
        "P_0(x)=1,\\quad\n",
        "P_1(x)=x,\\quad\n",
        "(n+1)P_{n+1}(x)=(2n+1)xP_n(x)-nP_{n-1}(x)\n",
        "\\end{equation}\n",
        "によって生成される。"
      ]
    },
    {
      "cell_type": "code",
      "metadata": {
        "id": "JoJVq2fh9duC",
        "outputId": "c5ee1350-ab3a-4d93-c91f-57d649b01be2",
        "colab": {
          "base_uri": "https://localhost:8080/"
        }
      },
      "source": [
        "def legendre(n: int, x: float) -> float:\n",
        "    '''\n",
        "    ルジャンドル多項式\n",
        "    '''\n",
        "    if n == 0:\n",
        "        return 1\n",
        "    elif n == 1:\n",
        "        return x\n",
        "    \n",
        "    p: list[float] = [0., 1., x]\n",
        "\n",
        "    for k in range(n-1):\n",
        "        p[0] = p[1]\n",
        "        p[1] = p[2]\n",
        "        # ボネの漸化式\n",
        "        p[2] = ((2*k+3) * x * p[1] - (k+1) * p[0]) / (k+2)\n",
        "    return p[2]\n",
        "\n",
        "print(f\"P_10(0.148874) = {legendre(10, 0.148874):.4e}\")"
      ],
      "execution_count": 5,
      "outputs": [
        {
          "output_type": "stream",
          "text": [
            "P_10(0.148874) = -8.9179e-07\n"
          ],
          "name": "stdout"
        }
      ]
    },
    {
      "cell_type": "markdown",
      "metadata": {
        "id": "V5m854mpwydz"
      },
      "source": [
        "ルジャンドル多項式のゼロ点は二分法で求める。\n",
        "\n",
        "二分法では解が含まれる領域 $[a,b]$ を事前に指定し、この領域の幅を次々に半分にしていく。\n",
        "中点を利用して領域を $[a,(a+b)/2]$ と $[(a+b)/2,b]$ の2つに分割する。どちらかの領域に解が含まれているため、解を含む領域を選択して新たに計算する領域とする。\n",
        "解を含む領域は中間値の定理で判定可能である。\n",
        "\n",
        "中間値の定理から領域 $[a,b]$ に対して $f(a)f(b)<0$ なら、この領域 $[a,b]$ に $f(x)=0$ の解が含まれる事がわかる。"
      ]
    },
    {
      "cell_type": "code",
      "metadata": {
        "id": "WIGRKwcKQary",
        "outputId": "0b0db2ad-21f9-4468-f0d7-95dc61b78a2a",
        "colab": {
          "base_uri": "https://localhost:8080/"
        }
      },
      "source": [
        "def bisection(func: Callable[[float],float],\n",
        "              left: float, right: float) -> float:\n",
        "    '''\n",
        "    二分法のアルゴリズム\n",
        "    '''\n",
        "    # 二分法で解けない場合\n",
        "    if func(left) * func(right) >= 0:\n",
        "        raise Exception('Cannot be solved by bisection method!')\n",
        "\n",
        "    # 数値精度\n",
        "    epsilon: float = 1e-10\n",
        "\n",
        "    middle: float = 0.\n",
        "    while True:\n",
        "        # 中点計算\n",
        "        middle = (left + right)/2.\n",
        "        # 中間値の定理から解を含む区間を選択\n",
        "        if func(left) * func(middle) < 0:\n",
        "            right = middle\n",
        "        else:\n",
        "            left = middle\n",
        "        # 終了判定\n",
        "        if abs(func(left) - func(right)) < epsilon:\n",
        "            break\n",
        "    \n",
        "    middle = (left+right)/2.\n",
        "    return middle\n",
        "\n",
        "print(f\"x = {bisection(lambda x: legendre(3, x), 0.1, 1):.4f} s.t. P_3(x) < 1e-10\")"
      ],
      "execution_count": 6,
      "outputs": [
        {
          "output_type": "stream",
          "text": [
            "x = 0.7746 s.t. P_3(x) < 1e-10\n"
          ],
          "name": "stdout"
        }
      ]
    },
    {
      "cell_type": "markdown",
      "metadata": {
        "id": "U7G0NTh7ZW0O"
      },
      "source": [
        "$n$ 次ルジャンドル関数の正のゼロ点 $x_k$ は\n",
        "\\begin{equation}\n",
        "\\begin{split}\n",
        "&n=2m\\quad\\text{($n$ is even)}\\\\\n",
        "&n=2m+1\\quad\\text{($n$ is odd)}\n",
        "\\end{split}\n",
        "\\end{equation}\n",
        "とすると\n",
        "\\begin{equation}\n",
        "\\sin\\left(\\frac{n-1-2k}{2n+1}\\pi\\right)\n",
        "< x_k <\n",
        "\\sin\\left(\\frac{n+1-2k}{2n+1}\\pi\\right)\n",
        "\\end{equation}\n",
        "にある。\n",
        "また$-x_k$もゼロ点であることが知られている。\n",
        "$n$ が奇数の場合は $x=0$ もゼロ点になる。\n",
        "この性質を利用してルジャンドル関数のゼロ点を二分法によって求めることができる。"
      ]
    },
    {
      "cell_type": "code",
      "metadata": {
        "id": "-ShhEJkXk2Um",
        "outputId": "967fe2a6-6c51-4b78-b99b-c9f9c4331857",
        "colab": {
          "base_uri": "https://localhost:8080/"
        }
      },
      "source": [
        "import math\n",
        "\n",
        "def legendre_zeros(num: int) -> list:\n",
        "    # 初期化\n",
        "    m: int = 0\n",
        "    zeros: list[float ] = []\n",
        "    if num % 2 == 0:\n",
        "        m = num / 2\n",
        "    else:\n",
        "        m = (num - 1) / 2\n",
        "        zeros.append(0)\n",
        "\n",
        "    # 二分法の区間算出\n",
        "    sections: list[float] = []\n",
        "    for k in np.arange(0, m+1, 1):\n",
        "        boundary: float = math.sin((num-(2*m+1)+2*k)/(2*num+1) * math.pi)\n",
        "        if boundary > 0:\n",
        "            sections.append(boundary)\n",
        "        else:\n",
        "            sections.append(1e-10)\n",
        "\n",
        "    # ゼロ点の計算\n",
        "    for k in range(0, int(m)):\n",
        "        zero_tmp: float = bisection(lambda x: legendre(num, x), \n",
        "                                    sections[k], sections[k+1])\n",
        "        zeros.append(zero_tmp)\n",
        "        zeros.insert(0, -zero_tmp)\n",
        "    return zeros\n",
        "print(legendre_zeros(5))"
      ],
      "execution_count": 16,
      "outputs": [
        {
          "output_type": "stream",
          "text": [
            "[-0.9061798459380039, -0.5384693101074591, 0, 0.5384693101074591, 0.9061798459380039]\n"
          ],
          "name": "stdout"
        }
      ]
    },
    {
      "cell_type": "markdown",
      "metadata": {
        "id": "lmD9e3-SOuDe"
      },
      "source": [
        "差分近似\n",
        "\\begin{equation}\n",
        "I\\equiv\\int_{-1}^1dx \\tilde{f}(x)\n",
        "\\simeq\\sum_{k=1}^N w_k \\tilde{f}(x_k),\\quad\n",
        "w_k\\equiv 2\\left[\\sum_{l=0}^{N-1}(2l+1)\\left[P_l(x_k)\\right]^2\\right]^{-1}\n",
        "\\end{equation}\n",
        "の係数を計算する。"
      ]
    },
    {
      "cell_type": "code",
      "metadata": {
        "id": "XuDKBzcbxriq",
        "outputId": "c9d4f574-fba4-49cd-c8b4-3509dbeae58f",
        "colab": {
          "base_uri": "https://localhost:8080/"
        }
      },
      "source": [
        "def legendre_coeff(num: int) -> list:\n",
        "    zeros: list[float] = legendre_zeros(num)\n",
        "\n",
        "    coeff: list[float] = []\n",
        "    for k in range(0, num):\n",
        "        sum: float = 0\n",
        "        for l in range(0, num):\n",
        "            sum += (2*l+1)*legendre(l,zeros[k])**2\n",
        "        coeff.append(2/sum)\n",
        "    return coeff\n",
        "legendre_coeff(5)"
      ],
      "execution_count": 17,
      "outputs": [
        {
          "output_type": "execute_result",
          "data": {
            "text/plain": [
              "[0.23692688505777393,\n",
              " 0.47862867049807717,\n",
              " 0.5688888888888889,\n",
              " 0.47862867049807717,\n",
              " 0.23692688505777393]"
            ]
          },
          "metadata": {
            "tags": []
          },
          "execution_count": 17
        }
      ]
    },
    {
      "cell_type": "markdown",
      "metadata": {
        "id": "80tkEGZiUYTE"
      },
      "source": [
        "積分を変形\n",
        "\\begin{equation}\n",
        "    I=\\int_{0}^1dx\\frac{4}{1+x^2}\n",
        "    =\\frac{1}{2}\\int_{-1}^1dx\\frac{4}{1+x^2}\n",
        "    =\\pi\n",
        "\\end{equation}\n",
        "してガウス・ルジャンドル積分を実施。"
      ]
    },
    {
      "cell_type": "code",
      "metadata": {
        "id": "S22Irz5JRvfz",
        "outputId": "1bdc494c-cc39-4ec5-9cc7-73463b781add",
        "colab": {
          "base_uri": "https://localhost:8080/"
        }
      },
      "source": [
        "def gauss_legendre(integrand: Callable[[float], float], num: int) -> float:\n",
        "    zeros: list[float] = legendre_zeros(num)\n",
        "    coeff: list[float] = legendre_coeff(num)\n",
        "\n",
        "    ans: float = 0\n",
        "    for k in range(0,num):\n",
        "        ans += coeff[k] * integrand(zeros[k])\n",
        "    \n",
        "    return ans\n",
        "    \n",
        "print(f\"pi = {gauss_legendre(integrand, 20)/2:.15f}\")"
      ],
      "execution_count": 15,
      "outputs": [
        {
          "output_type": "stream",
          "text": [
            "pi = 3.141592653590604\n"
          ],
          "name": "stdout"
        }
      ]
    },
    {
      "cell_type": "code",
      "metadata": {
        "id": "vipVVrd5WCC3"
      },
      "source": [
        ""
      ],
      "execution_count": null,
      "outputs": []
    }
  ]
}