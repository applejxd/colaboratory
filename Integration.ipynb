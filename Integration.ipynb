{
  "nbformat": 4,
  "nbformat_minor": 0,
  "metadata": {
    "colab": {
      "name": "Integration.ipynb",
      "provenance": [],
      "collapsed_sections": [],
      "authorship_tag": "ABX9TyODhulkIMLjJXQlNTNhfRbV",
      "include_colab_link": true
    },
    "kernelspec": {
      "name": "python3",
      "display_name": "Python 3"
    }
  },
  "cells": [
    {
      "cell_type": "markdown",
      "metadata": {
        "id": "view-in-github",
        "colab_type": "text"
      },
      "source": [
        "<a href=\"https://colab.research.google.com/github/applejxd/colaboratory/blob/master/Integration.ipynb\" target=\"_parent\"><img src=\"https://colab.research.google.com/assets/colab-badge.svg\" alt=\"Open In Colab\"/></a>"
      ]
    },
    {
      "cell_type": "markdown",
      "metadata": {
        "id": "XHMRBsmL3xTR"
      },
      "source": [
        "数値積分法の精度を円周率の計算\n",
        "\\begin{equation}\n",
        "    I\\equiv\\int_a^b dx f(x)\n",
        "    =\\int_{0}^1dx\\frac{4}{1+x^2}=\\pi\n",
        "\\end{equation}\n",
        "で比較する。"
      ]
    },
    {
      "cell_type": "markdown",
      "metadata": {
        "id": "Y4dFIB3K5iqA"
      },
      "source": [
        "## 台形公式\n",
        "\n",
        "台形公式は積分を単純な差分で表したもので\n",
        "\\begin{equation}\n",
        "I\\simeq\\frac{\\Delta x}{2}\\left(f(x_0)+2\\sum_{k=1}^{n-1}f(x_k)+f(x_n)\\right),\\quad\n",
        "\\Delta x\\equiv\\frac{x_n - x_0}{n},\\quad x_k\\equiv x_0 + k\\Delta x\n",
        "\\end{equation}\n",
        "である。"
      ]
    },
    {
      "cell_type": "code",
      "metadata": {
        "id": "tCOyk2yTrl4N"
      },
      "source": [
        "import numpy as np\n",
        "\n",
        "#: 被積分関数\n",
        "def integrand(x: float) -> float:\n",
        "    return 4 / (1 + x**2)"
      ],
      "execution_count": 2,
      "outputs": []
    },
    {
      "cell_type": "code",
      "metadata": {
        "id": "WcoU2I5t3eig",
        "outputId": "f1438e67-ef01-4841-e27b-4fb7d99f7f07",
        "colab": {
          "base_uri": "https://localhost:8080/"
        }
      },
      "source": [
        "from typing import Callable\n",
        "\n",
        "def trapezoid(integrand: Callable[[float], float], \n",
        "              x_0: float, x_n: float, num: int) -> float:\n",
        "    # 分割幅\n",
        "    dx: float = 1./num\n",
        "    # 台形公式\n",
        "    sum: float = dx / 2 * (integrand(x_0) + integrand(x_n))\n",
        "    for k in range(1, num):\n",
        "        x_k = x_0 + k * dx\n",
        "        sum += dx * integrand(x_k)\n",
        "    return sum\n",
        "\n",
        "print(trapezoid(integrand, 0, 1, 100))"
      ],
      "execution_count": 3,
      "outputs": [
        {
          "output_type": "stream",
          "text": [
            "3.141575986923127\n"
          ],
          "name": "stdout"
        }
      ]
    },
    {
      "cell_type": "markdown",
      "metadata": {
        "id": "wNXNpDpm9Psj"
      },
      "source": [
        "## シンプソン公式\n",
        "\n",
        "シンプソン公式は 2 次のニュートン・コーツ公式（2 次のラグランジュ補間による積分）で\n",
        "\\begin{equation}\n",
        "I\\simeq\\frac{\\Delta x}{3}\\left(f(x_0)+4\\sum_{k=1,3,\\cdots}^{2n-1}f(x_k)+2\\sum_{k=2,4,\\cdots}^{2n-2}f(x_k)+f(x_{2n})\\right),\\quad\n",
        "\\Delta x\\equiv\\frac{x_{2n}-x_0}{2n},\\quad\n",
        "x_k\\equiv x_0 + k\\Delta x\n",
        "\\end{equation}\n",
        "となる。"
      ]
    },
    {
      "cell_type": "code",
      "metadata": {
        "id": "GxB5lvDM9Vg-",
        "outputId": "43e84613-6907-4475-aefc-b0954cb79414",
        "colab": {
          "base_uri": "https://localhost:8080/"
        }
      },
      "source": [
        "def simpson(integrand: Callable[[float], float], \n",
        "            x_0: float, x_2n: float, num: int) -> float:\n",
        "    dx = (x_2n - x_0) / (2 * num)\n",
        "    sum = dx / 3 * (integrand(x_0) + integrand(x_2n))\n",
        "    \n",
        "    #: 奇数の場合\n",
        "    for k in np.arange(1, 2*num, 2):\n",
        "        x_k = x_0 + k * dx\n",
        "        sum += dx * 4/3 * integrand(x_k)\n",
        "    #: 偶数の場合\n",
        "    for k in np.arange(2, 2*num, 2):\n",
        "        x_k = x_0 + k * dx\n",
        "        sum += dx * 2/3 * integrand(x_k)\n",
        "    return sum\n",
        "\n",
        "print(simpson(integrand, 0, 1, 50))"
      ],
      "execution_count": 4,
      "outputs": [
        {
          "output_type": "stream",
          "text": [
            "3.141592653589754\n"
          ],
          "name": "stdout"
        }
      ]
    },
    {
      "cell_type": "markdown",
      "metadata": {
        "id": "hXFZytZN9WDd"
      },
      "source": [
        "## ロンバーグ法\n",
        "\n",
        "ロンバーグ法は収束値が真の積分値であるような収束列を用いて、補外を行うことで積分値を求めるアルゴリズムである。\n",
        "このような収束列を台形公式によって\n",
        "\\begin{equation}\n",
        "\\begin{split}\n",
        "&T_0^n\\equiv\\frac{\\Delta x}{2}\\left(f(x_0)+2\\sum_{k=1}^{2^n-1}f(x_k)+f(x_{2^n})\\right)\\overset{n\\rightarrow\\infty}{\\rightarrow}I,\\\\\n",
        "&\\Delta x\\equiv\\frac{x_{2^n}-x_0}{2^n},\\quad x_k\\equiv k\\Delta x\n",
        "\\end{split}\n",
        "\\end{equation}\n",
        "のように作る。\n",
        "上の添字は分割数の添字であり、下の添字は補外回数の添字である。\n",
        "ロンバーグ法は各 $T^n_0$ に対して\n",
        "\\begin{equation}\n",
        "T^{n+1}_m \\equiv\\frac{4^m T^{n+1}_{m-1} - T^n_{m-1}}{4^m-1}\n",
        "\\end{equation}\n",
        "を計算する。\n",
        "計算は\n",
        "\\begin{equation}\n",
        "T_0^0\\overset{\\text{分割}}{\\rightarrow}\n",
        "T_1^0\\overset{\\text{補外}}{\\rightarrow}\n",
        "T_1^1\\overset{\\text{分割}}{\\rightarrow}\n",
        "T_2^0\\overset{\\text{補外}}{\\rightarrow}\n",
        "T_2^1\\overset{\\text{補外}}{\\rightarrow}\n",
        "T_2^2\\overset{\\text{分割}}{\\rightarrow}\n",
        "\\cdots\n",
        "\\end{equation}\n",
        "の順に行い更新幅が一定以下になるまで行う。"
      ]
    },
    {
      "cell_type": "code",
      "metadata": {
        "id": "A6eESrwj9aP5",
        "outputId": "d8ff40a2-4475-48c9-be3e-b3921c24188a",
        "colab": {
          "base_uri": "https://localhost:8080/"
        }
      },
      "source": [
        "def romberg(integrand: Callable[[float], float], num: int) -> float:\n",
        "    epsilon: float = 1e-10\n",
        "    #: インデックスは下添字\n",
        "    T_list: list = [trapezoid(integrand, 0, 1, 1)]\n",
        "    for up_index in range(1, num+1):\n",
        "        #: T_0 のリスト更新\n",
        "        T_0: float = trapezoid(integrand, 0, 1, 2 ** up_index)\n",
        "        # 終了判定\n",
        "        if abs(T_0 - T_list[-1]) < epsilon:\n",
        "            return T_0\n",
        "\n",
        "        #: 2^up_index 分割に対する Romberg 補外\n",
        "        T_tmp_list: list = [T_0]\n",
        "        for low_index in range(1, up_index+1):\n",
        "            T_tmp_list.append(\n",
        "                (4. ** low_index * T_tmp_list[low_index-1] - T_list[low_index-1])\n",
        "                / (4. ** low_index - 1.)\n",
        "                )\n",
        "            #: 終了判定\n",
        "            if low_index > 1:\n",
        "                if abs(T_tmp_list[-1] - T_tmp_list[-2]) < epsilon:\n",
        "                    return T_tmp_list[-1]\n",
        "        #: リスト更新\n",
        "        T_list = T_tmp_list\n",
        "    return T_list[-1]\n",
        "            \n",
        "print(romberg(integrand, 6))"
      ],
      "execution_count": 5,
      "outputs": [
        {
          "output_type": "stream",
          "text": [
            "3.1415926536496106\n"
          ],
          "name": "stdout"
        }
      ]
    },
    {
      "cell_type": "markdown",
      "metadata": {
        "id": "ES4cNgPW9axF"
      },
      "source": [
        "## ガウス・ルジャンドル積分\n",
        "\n",
        "ガウス・ルジャンドル積分はルジャンドル関数のゼロ点\n",
        "\\begin{equation}\n",
        "x_1\\leq x_2\\leq\\cdots\\leq x_k\\leq\\cdots\\leq x_N\\quad\n",
        "\\text{s.t.}\\quad P_N(x_k)=0\n",
        "\\end{equation}\n",
        "を利用した差分近似\n",
        "\\begin{equation}\n",
        "I\\equiv\\int_{-1}^1dx \\tilde{f}(x)\n",
        "\\simeq\\sum_{k=1}^N w_k \\tilde{f}(x_k),\\quad\n",
        "w_k\\equiv 2\\left[\\sum_{l=0}^{N-1}(2l+1)\\left[P_l(x_k)\\right]^2\\right]^{-1}\n",
        "\\end{equation}\n",
        "である。"
      ]
    },
    {
      "cell_type": "markdown",
      "metadata": {
        "id": "U7G0NTh7ZW0O"
      },
      "source": [
        "$n$ 次ルジャンドル関数の正のゼロ点 $x_k$ は\n",
        "\\begin{equation}\n",
        "\\begin{split}\n",
        "&n=2m\\quad\\text{($n$ is even)}\\\\\n",
        "&n=2m+1\\quad\\text{($n$ is odd)}\n",
        "\\end{split}\n",
        "\\end{equation}\n",
        "とすると\n",
        "\\begin{equation}\n",
        "\\sin\\left(\\pi\\frac{n-1-2k}{2n+1}\\right)\n",
        "< x_k <\n",
        "\\sin\\left(\\pi\\frac{n+1-2k}{2n+1}\\right)\n",
        "\\end{equation}\n",
        "にある。\n",
        "また$-x_k$もゼロ点であることが知られている。\n",
        "$n$ が奇数の場合は $x=0$ もゼロ点になる。\n",
        "この性質を利用してルジャンドル関数のゼロ点を二分法によって求めることができる。"
      ]
    },
    {
      "cell_type": "code",
      "metadata": {
        "id": "JoJVq2fh9duC",
        "outputId": "f63f9837-b8d9-425e-8248-1beab56c46f0",
        "colab": {
          "base_uri": "https://localhost:8080/"
        }
      },
      "source": [
        "def bisection(func: Callable[[float],float],\n",
        "              a: float, b: float) -> float:\n",
        "    epsilon: float = 1e-10\n",
        "    c: float = 0.\n",
        "\n",
        "    while True:\n",
        "        c = (a+b)/2.\n",
        "        if func(a) * func(c) < 0:\n",
        "            b = c\n",
        "        else:\n",
        "            a = c\n",
        "        if abs(func(a) - func(b)) < epsilon:\n",
        "            break\n",
        "    \n",
        "    c = (a+b)/2.\n",
        "    return c\n",
        "\n",
        "def legendre(n: int, x: float) -> float:\n",
        "    if n == 0:\n",
        "        return 1\n",
        "    elif n == 1:\n",
        "        return x\n",
        "    \n",
        "    p: list[float] = [0., 1., x]\n",
        "\n",
        "    for k in range(n-1):\n",
        "        p[0] = p[1]\n",
        "        p[1] = p[2]\n",
        "        # Bonnet's recursion formula\n",
        "        p[2] = ((2*k+3) * x * p[1] - (k+1) * p[0]) / (k+2)\n",
        "    return p[2]\n",
        "\n",
        "print(legendre(10, 0.148874))\n",
        "print(bisection(lambda x: legendre(10, x), 0.1, 0.2))"
      ],
      "execution_count": 22,
      "outputs": [
        {
          "output_type": "stream",
          "text": [
            "-8.917877254432938e-07\n",
            "0.14887433898402386\n"
          ],
          "name": "stdout"
        }
      ]
    },
    {
      "cell_type": "code",
      "metadata": {
        "id": "WIGRKwcKQary"
      },
      "source": [
        "\n",
        "\n"
      ],
      "execution_count": null,
      "outputs": []
    }
  ]
}