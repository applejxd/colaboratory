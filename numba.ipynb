{
  "nbformat": 4,
  "nbformat_minor": 0,
  "metadata": {
    "colab": {
      "provenance": [],
      "authorship_tag": "ABX9TyOuOVZ/6no2lY32mp3H2JNe",
      "include_colab_link": true
    },
    "kernelspec": {
      "name": "python3",
      "display_name": "Python 3"
    },
    "language_info": {
      "name": "python"
    },
    "accelerator": "GPU",
    "gpuClass": "standard"
  },
  "cells": [
    {
      "cell_type": "markdown",
      "metadata": {
        "id": "view-in-github",
        "colab_type": "text"
      },
      "source": [
        "<a href=\"https://colab.research.google.com/github/applejxd/colaboratory/blob/master/numba.ipynb\" target=\"_parent\"><img src=\"https://colab.research.google.com/assets/colab-badge.svg\" alt=\"Open In Colab\"/></a>"
      ]
    },
    {
      "cell_type": "markdown",
      "source": [
        "[numpy での重い計算の例](https://qiita.com/gyu-don/items/9d223b007ca620e95abc)"
      ],
      "metadata": {
        "id": "Tl2lr6Ye0Bfj"
      }
    },
    {
      "cell_type": "code",
      "execution_count": 8,
      "metadata": {
        "id": "q7gnobz9z72j"
      },
      "outputs": [],
      "source": [
        "import sys\n",
        "sys.setrecursionlimit(100000)\n",
        "\n",
        "def ack(m, n):\n",
        "    if m == 0:\n",
        "        return n + 1\n",
        "    if n == 0:\n",
        "        return ack(m - 1, 1)\n",
        "    return ack(m - 1, ack(m, n - 1))"
      ]
    },
    {
      "cell_type": "markdown",
      "source": [
        "通常時の計算時間を測定"
      ],
      "metadata": {
        "id": "HM09YR631y6L"
      }
    },
    {
      "cell_type": "code",
      "source": [
        "import time\n",
        "from contextlib import contextmanager\n",
        "\n",
        "@contextmanager\n",
        "def timer():\n",
        "    t = time.perf_counter()\n",
        "    yield None\n",
        "    print('Elapsed:', time.perf_counter() - t)\n",
        "\n",
        "with timer():\n",
        "    ack(3, 10)"
      ],
      "metadata": {
        "colab": {
          "base_uri": "https://localhost:8080/"
        },
        "id": "VmDSM--G1sZ0",
        "outputId": "c3fdd79a-02f6-4f07-8075-db863ac2894f"
      },
      "execution_count": 9,
      "outputs": [
        {
          "output_type": "stream",
          "name": "stdout",
          "text": [
            "Elapsed: 8.20762064400003\n"
          ]
        }
      ]
    },
    {
      "cell_type": "markdown",
      "source": [
        "numba の nopython モード (njit) 利用"
      ],
      "metadata": {
        "id": "A7fUK8fD2W8y"
      }
    },
    {
      "cell_type": "code",
      "source": [
        "from numba import njit\n",
        "\n",
        "@njit\n",
        "def ack(m, n):\n",
        "    if m == 0:\n",
        "        return n + 1\n",
        "    if n == 0:\n",
        "        return ack(m - 1, 1)\n",
        "    return ack(m - 1, ack(m, n - 1))\n",
        "\n",
        "# コンパイル時間含む\n",
        "with timer():\n",
        "    ack(3, 10)\n",
        "\n",
        "# コンパイル時間含まない\n",
        "with timer():\n",
        "    ack(3, 10)"
      ],
      "metadata": {
        "colab": {
          "base_uri": "https://localhost:8080/"
        },
        "id": "vTYXlQfi1340",
        "outputId": "6f38d40b-ff95-47cb-ea51-70c951f674c1"
      },
      "execution_count": 10,
      "outputs": [
        {
          "output_type": "stream",
          "name": "stdout",
          "text": [
            "Elapsed: 0.5134473350000235\n",
            "Elapsed: 0.30062071299994386\n"
          ]
        }
      ]
    },
    {
      "cell_type": "markdown",
      "source": [
        "[高速化のテクニック](https://numba.readthedocs.io/en/stable/user/performance-tips.html)。\n",
        "並列化 & fastmath。"
      ],
      "metadata": {
        "id": "_SAW0HDr79A5"
      }
    },
    {
      "cell_type": "code",
      "source": [
        "import numpy as np\n",
        "from numba import prange\n",
        "\n",
        "\n",
        "@njit\n",
        "def sum_of_squares(arr):\n",
        "    s = 0\n",
        "    for i in range(arr.shape[0]):\n",
        "        s += arr[i] ** 2\n",
        "    return s\n",
        "\n",
        "@njit(parallel=True)\n",
        "def sum_of_squares_parallel(arr):\n",
        "    s = 0\n",
        "    for i in prange(arr.shape[0]):\n",
        "        s += arr[i] ** 2\n",
        "    return s\n",
        "\n",
        "@njit(parallel=True, fastmath=True)\n",
        "def sum_of_squares_fast(arr):\n",
        "    s = 0\n",
        "    for i in prange(arr.shape[0]):\n",
        "        s += arr[i] ** 2\n",
        "    return s\n",
        "\n",
        "arr = np.random.randn(1000000)\n",
        "\n",
        "sum_of_squares(arr)\n",
        "with timer():\n",
        "    sum_of_squares(arr)\n",
        "    \n",
        "sum_of_squares_parallel(arr)\n",
        "with timer():\n",
        "    sum_of_squares_parallel(arr)\n",
        "\n",
        "sum_of_squares_fast(arr)\n",
        "with timer():\n",
        "    sum_of_squares_fast(arr)"
      ],
      "metadata": {
        "colab": {
          "base_uri": "https://localhost:8080/"
        },
        "id": "mVIlqVGh7-0G",
        "outputId": "eb8c8f6a-bd2f-4ddd-e7ff-40881066df98"
      },
      "execution_count": 11,
      "outputs": [
        {
          "output_type": "stream",
          "name": "stdout",
          "text": [
            "Elapsed: 0.001429400999995778\n",
            "Elapsed: 0.0007882520000066506\n",
            "Elapsed: 0.0005882750000409942\n"
          ]
        }
      ]
    },
    {
      "cell_type": "code",
      "source": [
        "from numba import cuda\n",
        "import numpy as np\n",
        "import sys\n",
        "sys.setrecursionlimit(100000)\n",
        "\n",
        "\n",
        "# カーネル関数\n",
        "@cuda.jit\n",
        "def add_kernel(a, b, c):\n",
        "    i = cuda.grid(1)\n",
        "    c[i] = a[i] + b[i]\n",
        "\n",
        "# 起動関数\n",
        "def add_arrays(a, b):\n",
        "    # GPU の使用ブロック数を計算\n",
        "    threads_per_block = 128\n",
        "    blocks = (a.size + threads_per_block - 1) // threads_per_block\n",
        "\n",
        "    # 結果保存用にメモリ確保\n",
        "    result = cuda.to_device(np.zeros_like(a))\n",
        "\n",
        "    add_kernel[blocks, threads_per_block](\n",
        "        cuda.to_device(a), cuda.to_device(b), result)\n",
        "    return result\n",
        "\n",
        "array_size = 100000000\n",
        "a = np.ones(array_size, dtype=np.float32)\n",
        "b = np.ones(array_size, dtype=np.float32)\n",
        "\n",
        "with timer():\n",
        "    a + b\n",
        "\n",
        "add_arrays(a, b)\n",
        "with timer():\n",
        "    add_arrays(a, b)"
      ],
      "metadata": {
        "colab": {
          "base_uri": "https://localhost:8080/"
        },
        "id": "_PgVm8_TBBZD",
        "outputId": "1c9188ba-c8d8-4c71-b297-99053719ccc2"
      },
      "execution_count": 17,
      "outputs": [
        {
          "output_type": "stream",
          "name": "stdout",
          "text": [
            "Elapsed: 0.10005498299983628\n",
            "Elapsed: 0.3054407480001373\n"
          ]
        }
      ]
    },
    {
      "cell_type": "code",
      "source": [
        "from numba import cuda\n",
        "\n",
        "@njit(parallel=True, fastmath=True)\n",
        "def sum_of_squares_fast(arr):\n",
        "    s = 0\n",
        "    for i in prange(arr.shape[0]):\n",
        "        s += arr[i] ** 2\n",
        "    return s"
      ],
      "metadata": {
        "id": "zR3PB0BXAfGb"
      },
      "execution_count": 13,
      "outputs": []
    },
    {
      "cell_type": "code",
      "source": [
        " from concurrent import futures\n",
        "\n",
        "with futures.ProcessPoolExecutor() as executor:\n",
        "    results = executor.map(test_func, np.arange(100))\n",
        "\n",
        "print(list(results))"
      ],
      "metadata": {
        "colab": {
          "base_uri": "https://localhost:8080/",
          "height": 236
        },
        "id": "CfJwduFK0csU",
        "outputId": "b8774535-b554-496d-d0f9-e77f597d4246"
      },
      "execution_count": 14,
      "outputs": [
        {
          "output_type": "error",
          "ename": "NameError",
          "evalue": "ignored",
          "traceback": [
            "\u001b[0;31m---------------------------------------------------------------------------\u001b[0m",
            "\u001b[0;31mNameError\u001b[0m                                 Traceback (most recent call last)",
            "\u001b[0;32m<ipython-input-14-ca7d2ee7ea83>\u001b[0m in \u001b[0;36m<module>\u001b[0;34m\u001b[0m\n\u001b[1;32m      2\u001b[0m \u001b[0;34m\u001b[0m\u001b[0m\n\u001b[1;32m      3\u001b[0m \u001b[0;32mwith\u001b[0m \u001b[0mfutures\u001b[0m\u001b[0;34m.\u001b[0m\u001b[0mProcessPoolExecutor\u001b[0m\u001b[0;34m(\u001b[0m\u001b[0;34m)\u001b[0m \u001b[0;32mas\u001b[0m \u001b[0mexecutor\u001b[0m\u001b[0;34m:\u001b[0m\u001b[0;34m\u001b[0m\u001b[0;34m\u001b[0m\u001b[0m\n\u001b[0;32m----> 4\u001b[0;31m    \u001b[0mresults\u001b[0m \u001b[0;34m=\u001b[0m \u001b[0mexecutor\u001b[0m\u001b[0;34m.\u001b[0m\u001b[0mmap\u001b[0m\u001b[0;34m(\u001b[0m\u001b[0mtest_func\u001b[0m\u001b[0;34m,\u001b[0m \u001b[0mnp\u001b[0m\u001b[0;34m.\u001b[0m\u001b[0marange\u001b[0m\u001b[0;34m(\u001b[0m\u001b[0;36m100\u001b[0m\u001b[0;34m)\u001b[0m\u001b[0;34m)\u001b[0m\u001b[0;34m\u001b[0m\u001b[0;34m\u001b[0m\u001b[0m\n\u001b[0m\u001b[1;32m      5\u001b[0m \u001b[0;34m\u001b[0m\u001b[0m\n\u001b[1;32m      6\u001b[0m \u001b[0mprint\u001b[0m\u001b[0;34m(\u001b[0m\u001b[0mlist\u001b[0m\u001b[0;34m(\u001b[0m\u001b[0mresults\u001b[0m\u001b[0;34m)\u001b[0m\u001b[0;34m)\u001b[0m\u001b[0;34m\u001b[0m\u001b[0;34m\u001b[0m\u001b[0m\n",
            "\u001b[0;31mNameError\u001b[0m: name 'test_func' is not defined"
          ]
        }
      ]
    },
    {
      "cell_type": "code",
      "source": [],
      "metadata": {
        "id": "rfJ_vZXl054L"
      },
      "execution_count": null,
      "outputs": []
    }
  ]
}