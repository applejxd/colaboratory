{
  "nbformat": 4,
  "nbformat_minor": 0,
  "metadata": {
    "colab": {
      "provenance": [],
      "authorship_tag": "ABX9TyM80QObGT8RNM2dZHlXKP5Y",
      "include_colab_link": true
    },
    "kernelspec": {
      "name": "python3",
      "display_name": "Python 3"
    },
    "language_info": {
      "name": "python"
    },
    "accelerator": "GPU",
    "gpuClass": "standard"
  },
  "cells": [
    {
      "cell_type": "markdown",
      "metadata": {
        "id": "view-in-github",
        "colab_type": "text"
      },
      "source": [
        "<a href=\"https://colab.research.google.com/github/applejxd/colaboratory/blob/master/numba.ipynb\" target=\"_parent\"><img src=\"https://colab.research.google.com/assets/colab-badge.svg\" alt=\"Open In Colab\"/></a>"
      ]
    },
    {
      "cell_type": "markdown",
      "source": [
        "## numba での高速化"
      ],
      "metadata": {
        "id": "8IdvJH2vMY8Q"
      }
    },
    {
      "cell_type": "markdown",
      "source": [
        "[numpy での重い計算の例](https://qiita.com/gyu-don/items/9d223b007ca620e95abc)"
      ],
      "metadata": {
        "id": "Tl2lr6Ye0Bfj"
      }
    },
    {
      "cell_type": "code",
      "execution_count": 1,
      "metadata": {
        "id": "q7gnobz9z72j"
      },
      "outputs": [],
      "source": [
        "import sys\n",
        "sys.setrecursionlimit(100000)\n",
        "\n",
        "def ack(m, n):\n",
        "    if m == 0:\n",
        "        return n + 1\n",
        "    if n == 0:\n",
        "        return ack(m - 1, 1)\n",
        "    return ack(m - 1, ack(m, n - 1))"
      ]
    },
    {
      "cell_type": "markdown",
      "source": [
        "通常時の計算時間を測定"
      ],
      "metadata": {
        "id": "HM09YR631y6L"
      }
    },
    {
      "cell_type": "code",
      "source": [
        "import time\n",
        "from contextlib import contextmanager\n",
        "\n",
        "@contextmanager\n",
        "def timer():\n",
        "    t = time.perf_counter()\n",
        "    yield None\n",
        "    print('Elapsed:', time.perf_counter() - t)\n",
        "\n",
        "with timer():\n",
        "    ack(3, 10)"
      ],
      "metadata": {
        "colab": {
          "base_uri": "https://localhost:8080/"
        },
        "id": "VmDSM--G1sZ0",
        "outputId": "7a70b733-589f-44bb-fe71-a479b4cff04d"
      },
      "execution_count": 2,
      "outputs": [
        {
          "output_type": "stream",
          "name": "stdout",
          "text": [
            "Elapsed: 15.715511877999994\n"
          ]
        }
      ]
    },
    {
      "cell_type": "markdown",
      "source": [
        "## njit: numba の nopython モード"
      ],
      "metadata": {
        "id": "A7fUK8fD2W8y"
      }
    },
    {
      "cell_type": "code",
      "source": [
        "from numba import njit\n",
        "\n",
        "@njit\n",
        "def ack(m, n):\n",
        "    if m == 0:\n",
        "        return n + 1\n",
        "    if n == 0:\n",
        "        return ack(m - 1, 1)\n",
        "    return ack(m - 1, ack(m, n - 1))\n",
        "\n",
        "# コンパイル時間含む\n",
        "with timer():\n",
        "    ack(3, 10)\n",
        "\n",
        "# コンパイル時間含まない\n",
        "with timer():\n",
        "    ack(3, 10)"
      ],
      "metadata": {
        "colab": {
          "base_uri": "https://localhost:8080/"
        },
        "id": "vTYXlQfi1340",
        "outputId": "92cbd883-4627-4817-b754-1bff7e549863"
      },
      "execution_count": 3,
      "outputs": [
        {
          "output_type": "stream",
          "name": "stdout",
          "text": [
            "Elapsed: 1.094479265000004\n",
            "Elapsed: 0.2952723059999869\n"
          ]
        }
      ]
    },
    {
      "cell_type": "markdown",
      "source": [
        "### 並列化 & fastmath\n"
      ],
      "metadata": {
        "id": "_SAW0HDr79A5"
      }
    },
    {
      "cell_type": "markdown",
      "source": [
        "更に高速化するには[追加オプション](https://numba.readthedocs.io/en/stable/user/performance-tips.html)を使用する"
      ],
      "metadata": {
        "id": "67xOjNbuAVYe"
      }
    },
    {
      "cell_type": "code",
      "source": [
        "import numpy as np\n",
        "from numba import prange\n",
        "\n",
        "\n",
        "@njit\n",
        "def sum_of_squares(arr):\n",
        "    s = 0\n",
        "    for i in range(arr.shape[0]):\n",
        "        s += arr[i] ** 2\n",
        "    return s\n",
        "\n",
        "@njit(parallel=True)\n",
        "def sum_of_squares_parallel(arr):\n",
        "    s = 0\n",
        "    for i in prange(arr.shape[0]):\n",
        "        s += arr[i] ** 2\n",
        "    return s\n",
        "\n",
        "@njit(parallel=True, fastmath=True)\n",
        "def sum_of_squares_fast(arr):\n",
        "    s = 0\n",
        "    for i in prange(arr.shape[0]):\n",
        "        s += arr[i] ** 2\n",
        "    return s\n",
        "\n",
        "arr = np.random.randn(1000000)\n",
        "\n",
        "sum_of_squares(arr)\n",
        "with timer():\n",
        "    sum_of_squares(arr)\n",
        "    \n",
        "sum_of_squares_parallel(arr)\n",
        "with timer():\n",
        "    sum_of_squares_parallel(arr)\n",
        "\n",
        "sum_of_squares_fast(arr)\n",
        "with timer():\n",
        "    sum_of_squares_fast(arr)"
      ],
      "metadata": {
        "colab": {
          "base_uri": "https://localhost:8080/"
        },
        "id": "mVIlqVGh7-0G",
        "outputId": "e771cb4f-08d5-4a4e-a60c-f3f8fb65cbbd"
      },
      "execution_count": 4,
      "outputs": [
        {
          "output_type": "stream",
          "name": "stdout",
          "text": [
            "Elapsed: 0.0013868989999963333\n",
            "Elapsed: 0.0007452540000087993\n",
            "Elapsed: 0.0026067459999978837\n"
          ]
        }
      ]
    },
    {
      "cell_type": "markdown",
      "source": [
        "### numba.cuda"
      ],
      "metadata": {
        "id": "aa8OkDYfANbH"
      }
    },
    {
      "cell_type": "markdown",
      "source": [
        "[GPUを意識したプログラミング](https://co-crea.jp/wp-content/uploads/2016/07/File_2.pdf)が必要：\n",
        "- [グリッド・ブロック中のスレッド位置の取得方法](https://numba.pydata.org/numba-doc/latest/cuda/kernels.html#absolute-positions)\n",
        "- [CPU・GPU間のデータ転送方法](https://numba.pydata.org/numba-doc/latest/cuda/memory.html)"
      ],
      "metadata": {
        "id": "uMbOwe8ULOuG"
      }
    },
    {
      "cell_type": "code",
      "source": [
        "from numba import cuda\n",
        "import numpy as np\n",
        "import sys\n",
        "sys.setrecursionlimit(100000)\n",
        "\n",
        "\n",
        "# カーネル関数\n",
        "@cuda.jit\n",
        "def add_kernel(a, b, c):\n",
        "    i = cuda.grid(1)\n",
        "    c[i] = a[i] + b[i]\n",
        "\n",
        "# 起動関数\n",
        "def add_arrays(a, b, threads_per_block=256):\n",
        "    # threads_per_block は1ブロックあたりのスレッド数 (128~512)\n",
        "    # GPU の使用ブロック数を計算\n",
        "    blocks = (a.size + threads_per_block - 1) // threads_per_block\n",
        "\n",
        "    # 結果保存用にメモリ確保\n",
        "    result = cuda.to_device(np.zeros_like(a))\n",
        "    add_kernel[blocks, threads_per_block](\n",
        "        cuda.to_device(a), cuda.to_device(b), result)\n",
        "    return result.copy_to_host()\n",
        "\n",
        "array_size = 100000000\n",
        "a = np.ones(array_size, dtype=np.float32)\n",
        "b = np.ones(array_size, dtype=np.float32)\n",
        "\n",
        "with timer():\n",
        "    a + b\n",
        "\n",
        "add_arrays(a, b)\n",
        "with timer():\n",
        "    add_arrays(a, b)"
      ],
      "metadata": {
        "colab": {
          "base_uri": "https://localhost:8080/"
        },
        "id": "_PgVm8_TBBZD",
        "outputId": "bfab6540-33c0-4609-ad35-d605329cae94"
      },
      "execution_count": 6,
      "outputs": [
        {
          "output_type": "stream",
          "name": "stdout",
          "text": [
            "Elapsed: 0.15795063500000595\n",
            "Elapsed: 0.3968715780000025\n"
          ]
        }
      ]
    },
    {
      "cell_type": "markdown",
      "source": [
        "## concurrent.futures での高速化"
      ],
      "metadata": {
        "id": "IG_QHzQlMckh"
      }
    },
    {
      "cell_type": "markdown",
      "source": [
        "CPU 数を確認"
      ],
      "metadata": {
        "id": "hz2CDo4jBR9d"
      }
    },
    {
      "cell_type": "code",
      "source": [
        "import os\n",
        "\n",
        "print(os.cpu_count())\n",
        "print(len(os.sched_getaffinity(0)))\n",
        "\n",
        "import multiprocessing\n",
        "multiprocessing.cpu_count()"
      ],
      "metadata": {
        "id": "F2l6VRhmBOCB",
        "outputId": "06f5d7f3-8e56-4e7b-b016-f87c0939e572",
        "colab": {
          "base_uri": "https://localhost:8080/"
        }
      },
      "execution_count": 2,
      "outputs": [
        {
          "output_type": "stream",
          "name": "stdout",
          "text": [
            "2\n",
            "2\n"
          ]
        },
        {
          "output_type": "execute_result",
          "data": {
            "text/plain": [
              "2"
            ]
          },
          "metadata": {},
          "execution_count": 2
        }
      ]
    },
    {
      "cell_type": "markdown",
      "source": [
        "max_workers の最適値を見つけるサンプル"
      ],
      "metadata": {
        "id": "wwekeS81DZbT"
      }
    },
    {
      "cell_type": "code",
      "source": [
        "import numpy as np\n",
        "import time\n",
        "import concurrent.futures\n",
        "\n",
        "def do_something(size):\n",
        "    return np.dot(np.ones((size, size)), np.ones((size, size)))\n",
        "\n",
        "worker_values = [1, 2, 4, 8, 16, 32, 64]\n",
        "tasks = [1000, 1000, 1000, 1000, 1000, 1000, 1000, 1000, 1000, 1000]\n",
        "\n",
        "for max_workers in worker_values:\n",
        "    start_time = time.time()\n",
        "    with concurrent.futures.ProcessPoolExecutor(max_workers) as executor:\n",
        "        results = [executor.submit(do_something, task) for task in tasks]\n",
        "        for f in concurrent.futures.as_completed(results):\n",
        "            f.result()\n",
        "    total_time = time.time() - start_time\n",
        "    print(f'max_workers={max_workers} finished in {total_time:.2f} seconds.')"
      ],
      "metadata": {
        "colab": {
          "base_uri": "https://localhost:8080/"
        },
        "id": "CfJwduFK0csU",
        "outputId": "ef4355c7-737f-4111-8d38-4c26020b5e96"
      },
      "execution_count": 9,
      "outputs": [
        {
          "output_type": "stream",
          "name": "stdout",
          "text": [
            "max_workers=1 finished in 0.81 seconds.\n",
            "max_workers=2 finished in 0.93 seconds.\n",
            "max_workers=4 finished in 1.04 seconds.\n",
            "max_workers=8 finished in 1.05 seconds.\n",
            "max_workers=16 finished in 1.10 seconds.\n",
            "max_workers=32 finished in 1.35 seconds.\n",
            "max_workers=64 finished in 1.83 seconds.\n"
          ]
        }
      ]
    },
    {
      "cell_type": "code",
      "source": [],
      "metadata": {
        "id": "rfJ_vZXl054L"
      },
      "execution_count": null,
      "outputs": []
    }
  ]
}