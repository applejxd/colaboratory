{
  "nbformat": 4,
  "nbformat_minor": 0,
  "metadata": {
    "colab": {
      "provenance": [],
      "authorship_tag": "ABX9TyOPy/DzjiBBXQn6oKnlIS2J",
      "include_colab_link": true
    },
    "kernelspec": {
      "name": "python3",
      "display_name": "Python 3"
    },
    "language_info": {
      "name": "python"
    }
  },
  "cells": [
    {
      "cell_type": "markdown",
      "metadata": {
        "id": "view-in-github",
        "colab_type": "text"
      },
      "source": [
        "<a href=\"https://colab.research.google.com/github/applejxd/colaboratory/blob/master/algorithm/AutoDerivative.ipynb\" target=\"_parent\"><img src=\"https://colab.research.google.com/assets/colab-badge.svg\" alt=\"Open In Colab\"/></a>"
      ]
    },
    {
      "cell_type": "markdown",
      "source": [
        "## Automatic Derivative by myself"
      ],
      "metadata": {
        "id": "y1GDkC92pmQn"
      }
    },
    {
      "cell_type": "markdown",
      "source": [
        "[Automatic Derivatives - Ceres Solver](http://ceres-solver.org/automatic_derivatives.html)"
      ],
      "metadata": {
        "id": "hLU05wXFl9rx"
      }
    },
    {
      "cell_type": "code",
      "execution_count": 31,
      "metadata": {
        "colab": {
          "base_uri": "https://localhost:8080/"
        },
        "id": "wZXoK4wCj7dU",
        "outputId": "1ae31070-1524-4fe4-9481-c519e261f5f9"
      },
      "outputs": [
        {
          "output_type": "stream",
          "name": "stdout",
          "text": [
            "5+[7 9]\n",
            "2+[4. 6.]\n"
          ]
        }
      ],
      "source": [
        "import numpy as np\n",
        "\n",
        "class Jet:\n",
        "    def __init__(self, a: float, v):\n",
        "        self.a = a\n",
        "        self.v = np.array(v)\n",
        "\n",
        "    def __str__(self):\n",
        "        return f\"{self.a}+{self.v}\"\n",
        "\n",
        "    def __add__(self, other):\n",
        "        if isinstance(other, (int, float)):\n",
        "            other = Jet(other, np.zeors(len(self.v)))\n",
        "        return Jet(self.a + other.a, self.v + other.v)\n",
        "\n",
        "    def __sub__(self, other):\n",
        "        if isinstance(other, (int, float)):\n",
        "            other = Jet(other, np.zeors(len(self.v)))\n",
        "        return Jet(self.a - other.a, self.v - other.v)\n",
        "    \n",
        "    def __mul__(self, other):\n",
        "        if isinstance(other, (int, float)):\n",
        "            other = Jet(other, np.zeros(len(self.v)))\n",
        "        return Jet(self.a * other.a, self.a * other.v + self.v * other.a)\n",
        "    \n",
        "    def __truediv__(self, other):\n",
        "        if isinstance(other, (int, float)):\n",
        "            other = Jet(other, np.zeors(len(self.v)))\n",
        "        return Jet(self.a / other.a, self.v / other.a - self.a * other.v / other.a ** 2)\n",
        "    \n",
        "    def __pow__(self, other):\n",
        "        if isinstance(other, (int, float)):\n",
        "            other = Jet(other, np.zeros(len(self.v)))\n",
        "        return Jet(self.a ** other.a,\n",
        "                   other.a * self.a ** (other.a - 1) * self.v \n",
        "                   + self.a ** other.a * np.log(self.a) * other.v)\n",
        "\n",
        "    def __radd__(self, other):\n",
        "        return self.__add__(other)\n",
        "    \n",
        "    def __rsub__(self, other):\n",
        "        return self.__sub__(other)\n",
        "    \n",
        "    def __rmul__(self, other):\n",
        "        return self.__mul__(other)\n",
        "\n",
        "\n",
        "x = Jet(1, (2, 3))\n",
        "y = Jet(4, np.array((5, 6)))\n",
        "\n",
        "print(x+y)\n",
        "print(2*x)"
      ]
    },
    {
      "cell_type": "code",
      "source": [
        "def exp(x):\n",
        "    return Jet(np.exp(x.a), np.exp(x.a) * x.v)\n",
        "\n",
        "\n",
        "print(exp(Jet(2, (3, 4))))"
      ],
      "metadata": {
        "colab": {
          "base_uri": "https://localhost:8080/"
        },
        "id": "yuBUn-a6oKlZ",
        "outputId": "3f7ce366-42de-4d52-cdd2-7f4936e1f804"
      },
      "execution_count": 29,
      "outputs": [
        {
          "output_type": "stream",
          "name": "stdout",
          "text": [
            "7.38905609893065+[22.1671683 29.5562244]\n"
          ]
        }
      ]
    },
    {
      "cell_type": "markdown",
      "source": [
        "\\begin{equation}\n",
        "(\\nabla (x^2+2y^2+3xy))(x=2, y=1)\n",
        "\\end{equation}"
      ],
      "metadata": {
        "id": "5lmSg7O4pv-d"
      }
    },
    {
      "cell_type": "code",
      "source": [
        "def target_func(x, y):\n",
        "    return x**2 + 2*y**2 + 3*x*y\n",
        "\n",
        "# x=2\n",
        "x = Jet(2, (1, 0))\n",
        "# y=1\n",
        "y = Jet(1, (0, 1))\n",
        "\n",
        "print(target_func(x,y))"
      ],
      "metadata": {
        "colab": {
          "base_uri": "https://localhost:8080/"
        },
        "id": "7nAWdrkioy6Z",
        "outputId": "fbb3f496-d887-47d1-a2a3-6d63e8b30679"
      },
      "execution_count": 32,
      "outputs": [
        {
          "output_type": "stream",
          "name": "stdout",
          "text": [
            "12+[ 7. 10.]\n"
          ]
        }
      ]
    },
    {
      "cell_type": "code",
      "source": [],
      "metadata": {
        "id": "7lpu1mDWsHKM"
      },
      "execution_count": null,
      "outputs": []
    }
  ]
}