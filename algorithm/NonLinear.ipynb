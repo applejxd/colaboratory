{
  "nbformat": 4,
  "nbformat_minor": 0,
  "metadata": {
    "colab": {
      "name": "NonLinear.ipynb",
      "provenance": [],
      "collapsed_sections": [],
      "authorship_tag": "ABX9TyPv7TATmAo0WyGJc1YEUN3+",
      "include_colab_link": true
    },
    "kernelspec": {
      "name": "python3",
      "display_name": "Python 3"
    },
    "language_info": {
      "name": "python"
    }
  },
  "cells": [
    {
      "cell_type": "markdown",
      "metadata": {
        "id": "view-in-github",
        "colab_type": "text"
      },
      "source": [
        "<a href=\"https://colab.research.google.com/github/applejxd/colaboratory/blob/master/algorithm/NonLinear.ipynb\" target=\"_parent\"><img src=\"https://colab.research.google.com/assets/colab-badge.svg\" alt=\"Open In Colab\"/></a>"
      ]
    },
    {
      "cell_type": "markdown",
      "source": [
        "# 例題\n",
        "\n",
        "3次方程式\n",
        "\\begin{equation}\n",
        "x^3+6x^2+21x+32=0\n",
        "\\end{equation}\n",
        "の解は\n",
        "\\begin{equation}\n",
        "x=-9^{1/3}+3^{1/3}-2,\\ -9^{1/3}e^{i2\\pi/3}+3^{1/3}e^{i4\\pi/3}-2,\\ -9^{1/3}e^{i4\\pi/3}+3^{1/3}e^{i2\\pi/3}-2\n",
        "\\end{equation}\n",
        "または\n",
        "\\begin{equation}\n",
        "x\\sim-2.64,\\ -1.68-3.05i,\\ -1.68+3.05i\n",
        "\\end{equation}"
      ],
      "metadata": {
        "id": "gpQSh1AzEKqU"
      }
    },
    {
      "cell_type": "code",
      "source": [
        "def non_linear_func(x: float) -> float:\n",
        "    return x**3 + 6*x**2 + 21*x + 32\n",
        "\n",
        "x_real = -2.637834253"
      ],
      "metadata": {
        "id": "ob4iz09NIQBw"
      },
      "execution_count": 8,
      "outputs": []
    },
    {
      "cell_type": "markdown",
      "source": [
        "# 2分法\n",
        "\n",
        "1. 解が含まれる領域 $[a,b]$ を事前に指定する\n",
        "2. 中点を利用して領域を $[a,(a+b)/2]$ と $[(a+b)/2,b]$ の2つに分割する\n",
        "3. 解を含む領域を中間値の定理で判定する\n",
        "4. 解を含む領域を選択して新たに計算する領域として繰り返す\n",
        "5. 領域幅が一定以下になったら終了\n",
        "\n",
        "中間値の定理から領域 $[a,b]$ に対して $f(a)f(b)<0$ なら、この領域 $[a,b]$ に $f(x)=0$ の解が含まれる事がわかる。"
      ],
      "metadata": {
        "id": "NVXuwNSEHDEp"
      }
    },
    {
      "cell_type": "code",
      "source": [
        "from typing import Callable\n",
        "\n",
        "def bisection(func: Callable[[float],float],\n",
        "              left: float, right: float) -> float:\n",
        "    '''\n",
        "    二分法のアルゴリズム\n",
        "    '''\n",
        "    # 二分法で解けない場合\n",
        "    if func(left) * func(right) >= 0:\n",
        "        raise Exception('Cannot be solved by bisection method!')\n",
        "\n",
        "    # 代数式の数値精度\n",
        "    delta: float = 1e-10\n",
        "    # 解の更新の幅\n",
        "    epsilon: float = 5e-6\n",
        "\n",
        "    middle: float = 0.\n",
        "    while True:\n",
        "        # 中点計算\n",
        "        middle = (left + right)/2.\n",
        "\n",
        "        # 中間値の定理から解を含む区間を選択\n",
        "        if func(left) * func(middle) < 0:\n",
        "            right = middle\n",
        "        else:\n",
        "            left = middle\n",
        "\n",
        "        # 終了判定\n",
        "        if (abs(func(middle)) < delta):\n",
        "            print(f\"finished: f(x)={abs(func(middle))}\")\n",
        "            break\n",
        "        if (abs(left - right) < epsilon):\n",
        "            print(f\"finished: |left - right|={abs(left - right)} \")\n",
        "            break\n",
        "    \n",
        "    middle = (left+right)/2.\n",
        "    return middle"
      ],
      "metadata": {
        "id": "I8YxC34IHCyf"
      },
      "execution_count": 11,
      "outputs": []
    },
    {
      "cell_type": "code",
      "source": [
        "x = bisection(non_linear_func, -3.0, 0)\n",
        "print(f\"Δx = {x-x_real}, f(x)={non_linear_func(x)}\")"
      ],
      "metadata": {
        "id": "72HsYjwVJIop",
        "outputId": "5ca65f99-6c3e-402d-f5f3-6fc44c7855b3",
        "colab": {
          "base_uri": "https://localhost:8080/"
        }
      },
      "execution_count": 12,
      "outputs": [
        {
          "output_type": "stream",
          "name": "stdout",
          "text": [
            "finished: |left - right|=2.86102294921875e-06 \n",
            "Δx = 1.1345612791480164e-06, f(x)=1.1593166991730186e-05\n"
          ]
        }
      ]
    },
    {
      "cell_type": "code",
      "source": [
        ""
      ],
      "metadata": {
        "id": "LYGe1sHJMqsu"
      },
      "execution_count": null,
      "outputs": []
    }
  ]
}