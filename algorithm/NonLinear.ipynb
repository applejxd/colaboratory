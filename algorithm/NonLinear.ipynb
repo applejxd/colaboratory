{
  "nbformat": 4,
  "nbformat_minor": 0,
  "metadata": {
    "colab": {
      "name": "NonLinear.ipynb",
      "provenance": [],
      "collapsed_sections": [],
      "authorship_tag": "ABX9TyPK0G7smsLDV5Vnd1GTCEJ8",
      "include_colab_link": true
    },
    "kernelspec": {
      "name": "python3",
      "display_name": "Python 3"
    },
    "language_info": {
      "name": "python"
    }
  },
  "cells": [
    {
      "cell_type": "markdown",
      "metadata": {
        "id": "view-in-github",
        "colab_type": "text"
      },
      "source": [
        "<a href=\"https://colab.research.google.com/github/applejxd/colaboratory/blob/master/algorithm/NonLinear.ipynb\" target=\"_parent\"><img src=\"https://colab.research.google.com/assets/colab-badge.svg\" alt=\"Open In Colab\"/></a>"
      ]
    },
    {
      "cell_type": "markdown",
      "source": [
        "## 例題"
      ],
      "metadata": {
        "id": "gpQSh1AzEKqU"
      }
    },
    {
      "cell_type": "markdown",
      "source": [
        "3次方程式\n",
        "\\begin{equation}\n",
        "x^3+6x^2+21x+32=0\n",
        "\\end{equation}\n",
        "の解は\n",
        "\\begin{equation}\n",
        "x=-9^{1/3}+3^{1/3}-2,\\ -9^{1/3}e^{i2\\pi/3}+3^{1/3}e^{i4\\pi/3}-2,\\ -9^{1/3}e^{i4\\pi/3}+3^{1/3}e^{i2\\pi/3}-2\n",
        "\\end{equation}\n",
        "または\n",
        "\\begin{equation}\n",
        "x\\sim-2.64,\\ -1.68-3.05i,\\ -1.68+3.05i\n",
        "\\end{equation}"
      ],
      "metadata": {
        "id": "geIPv3yAPUyd"
      }
    },
    {
      "cell_type": "code",
      "source": [
        "def non_linear_func(x: float) -> float:\n",
        "    return x**3 + 6*x**2 + 21*x + 32\n",
        "\n",
        "x_real = -2.637834253"
      ],
      "metadata": {
        "id": "ob4iz09NIQBw"
      },
      "execution_count": 8,
      "outputs": []
    },
    {
      "cell_type": "markdown",
      "source": [
        "## 2分法\n"
      ],
      "metadata": {
        "id": "NVXuwNSEHDEp"
      }
    },
    {
      "cell_type": "markdown",
      "source": [
        "\n",
        "1. 解が含まれる領域 $[a,b]$ を事前に指定する\n",
        "2. 中点を利用して領域を $[a,(a+b)/2]$ と $[(a+b)/2,b]$ の2つに分割する\n",
        "3. 解を含む領域を中間値の定理で判定する\n",
        "4. 解を含む領域を選択して新たに計算する領域として繰り返す\n",
        "5. 領域幅が一定以下になったら終了\n",
        "\n",
        "中間値の定理から領域 $[a,b]$ に対して $f(a)f(b)<0$ なら、この領域 $[a,b]$ に $f(x)=0$ の解が含まれる事がわかる。"
      ],
      "metadata": {
        "id": "0y74VDNnPM8V"
      }
    },
    {
      "cell_type": "code",
      "source": [
        "from typing import Callable\n",
        "\n",
        "def bisection(func: Callable[[float],float],\n",
        "              left: float, right: float) -> float:\n",
        "    '''\n",
        "    二分法のアルゴリズム\n",
        "    '''\n",
        "    # 二分法で解けない場合\n",
        "    if func(left) * func(right) >= 0:\n",
        "        raise Exception('Cannot be solved by bisection method!')\n",
        "\n",
        "    # 代数式の数値精度\n",
        "    delta: float = 1e-10\n",
        "    # 解の数値精度\n",
        "    epsilon: float = 5e-6\n",
        "\n",
        "    middle: float = 0.\n",
        "    while True:\n",
        "        # 中点計算\n",
        "        middle = (left + right)/2.\n",
        "\n",
        "        # 中間値の定理から解を含む区間を選択\n",
        "        if func(left) * func(middle) < 0:\n",
        "            right = middle\n",
        "        else:\n",
        "            left = middle\n",
        "\n",
        "        # 終了判定\n",
        "        if (abs(func(middle)) < delta):\n",
        "            print(f\"finished: f(x)={abs(func(middle)):.4e}\")\n",
        "            break\n",
        "        if (abs(left - right) < epsilon):\n",
        "            print(f\"finished: |left - right|={abs(left - right):.4e} \")\n",
        "            break\n",
        "    \n",
        "    middle = (left+right)/2.\n",
        "    return middle"
      ],
      "metadata": {
        "id": "I8YxC34IHCyf"
      },
      "execution_count": 16,
      "outputs": []
    },
    {
      "cell_type": "code",
      "source": [
        "x = bisection(non_linear_func, -3.0, 0)\n",
        "print(f\"Δx = {x-x_real:.4e}, f(x)={non_linear_func(x):.4e}\")"
      ],
      "metadata": {
        "colab": {
          "base_uri": "https://localhost:8080/"
        },
        "id": "72HsYjwVJIop",
        "outputId": "d04a16a3-1c1d-4c8c-d0ad-0d0c180cc9a4"
      },
      "execution_count": 18,
      "outputs": [
        {
          "output_type": "stream",
          "name": "stdout",
          "text": [
            "finished: |left - right|=2.8610e-06 \n",
            "Δx = 1.1346e-06, f(x)=1.1593e-05\n"
          ]
        }
      ]
    },
    {
      "cell_type": "markdown",
      "source": [
        "## はさみうち法"
      ],
      "metadata": {
        "id": "Wo5xzmdPPzE9"
      }
    },
    {
      "cell_type": "markdown",
      "source": [
        "はさみうち法では2分法のアレンジとして、交点を中点ではなく直線近似の解を用いる。\n",
        "\\begin{equation}\n",
        "y(x)\\equiv\\frac{f(a)-f(b)}{a-b}(x-a)+f(a)\n",
        "\\end{equation}\n",
        "とした場合の\n",
        "\\begin{equation}\n",
        "y(c)=0 ⇔ c=-f(a)\\frac{a-b}{f(a)-f(b)}+a=\\frac{bf(a)-af(b)}{f(a)-f(b)}\n",
        "\\end{equation}"
      ],
      "metadata": {
        "id": "qHvBCo1yP3tQ"
      }
    },
    {
      "cell_type": "code",
      "source": [
        "def squeeze(func: Callable[[float],float], \n",
        "            left: float, right: float) -> float:\n",
        "    '''\n",
        "    はさみうち法のアルゴリズム\n",
        "    '''\n",
        "    # 二分法で解けない場合\n",
        "    if func(left) * func(right) >= 0:\n",
        "        raise Exception('Cannot be solved by squeeze method!')\n",
        "\n",
        "    # 代数式の数値精度\n",
        "    delta: float = 1e-10\n",
        "    # 解の数値精度\n",
        "    epsilon: float = 5e-6\n",
        "\n",
        "    middle: float = 0.\n",
        "    while True:\n",
        "        # 中点計算\n",
        "        f_left, f_right = func(left), func(right)\n",
        "        middle = (right*f_left - left*f_right)/(f_left - f_right)\n",
        "\n",
        "        # 中間値の定理から解を含む区間を選択\n",
        "        if func(left) * func(middle) < 0:\n",
        "            right = middle\n",
        "        else:\n",
        "            left = middle\n",
        "\n",
        "        # 終了判定\n",
        "        if (abs(func(middle)) < delta):\n",
        "            print(f\"finished: f(x)={abs(func(middle)):.4e}\")\n",
        "            break\n",
        "        if (abs(left - right) < epsilon):\n",
        "            print(f\"finished: |left - right|={abs(left - right):.4e} \")\n",
        "            break\n",
        "    \n",
        "    f_left, f_right = func(left), func(right)\n",
        "    middle = (right*f_left - left*f_right)/(f_left - f_right)\n",
        "    return middle"
      ],
      "metadata": {
        "id": "LYGe1sHJMqsu"
      },
      "execution_count": 22,
      "outputs": []
    },
    {
      "cell_type": "code",
      "source": [
        "x = squeeze(non_linear_func, -3.0, 0)\n",
        "print(f\"Δx = {x-x_real:.4e}, f(x)={non_linear_func(x):.4e}\")"
      ],
      "metadata": {
        "id": "EiKS3DdaVEHP",
        "outputId": "d1dfa7ff-082c-4432-d1f3-726f74e3b586",
        "colab": {
          "base_uri": "https://localhost:8080/"
        }
      },
      "execution_count": 23,
      "outputs": [
        {
          "output_type": "stream",
          "name": "stdout",
          "text": [
            "finished: f(x)=6.5590e-11\n",
            "Δx = 2.5449e-10, f(x)=-1.0338e-11\n"
          ]
        }
      ]
    },
    {
      "cell_type": "code",
      "source": [
        ""
      ],
      "metadata": {
        "id": "YYLm5f2TVGKb"
      },
      "execution_count": null,
      "outputs": []
    }
  ]
}