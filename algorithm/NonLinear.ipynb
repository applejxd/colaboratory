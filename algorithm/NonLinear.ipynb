{
  "nbformat": 4,
  "nbformat_minor": 0,
  "metadata": {
    "colab": {
      "name": "NonLinear.ipynb",
      "provenance": [],
      "collapsed_sections": [],
      "authorship_tag": "ABX9TyP8Cjqa9XtqJ6gC+I17ccHG",
      "include_colab_link": true
    },
    "kernelspec": {
      "name": "python3",
      "display_name": "Python 3"
    },
    "language_info": {
      "name": "python"
    }
  },
  "cells": [
    {
      "cell_type": "markdown",
      "metadata": {
        "id": "view-in-github",
        "colab_type": "text"
      },
      "source": [
        "<a href=\"https://colab.research.google.com/github/applejxd/colaboratory/blob/master/algorithm/NonLinear.ipynb\" target=\"_parent\"><img src=\"https://colab.research.google.com/assets/colab-badge.svg\" alt=\"Open In Colab\"/></a>"
      ]
    },
    {
      "cell_type": "markdown",
      "source": [
        "# 非線形方程式の数値解法\n",
        "\n",
        "3次方程式\n",
        "\\begin{equation}\n",
        "x^3+6x^2+21x+32=0\n",
        "\\end{equation}\n",
        "の解は\n",
        "\\begin{equation}\n",
        "x=-9^{1/3}+3^{1/3}-2,\\ -9^{1/3}e^{i2\\pi/3}+3^{1/3}e^{i4\\pi/3}-2,\\ -9^{1/3}e^{i4\\pi/3}+3^{1/3}e^{i2\\pi/3}-2\n",
        "\\end{equation}\n",
        "または\n",
        "\\begin{equation}\n",
        "x\\sim-2.64,\\ -1.68-3.05i,\\ -1.68+3.05i\n",
        "\\end{equation}"
      ],
      "metadata": {
        "id": "gpQSh1AzEKqU"
      }
    },
    {
      "cell_type": "code",
      "source": [
        "{}"
      ],
      "metadata": {
        "id": "DbYC7h38FYxN"
      },
      "execution_count": null,
      "outputs": []
    }
  ]
}