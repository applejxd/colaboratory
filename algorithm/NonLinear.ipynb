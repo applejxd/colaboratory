{
  "nbformat": 4,
  "nbformat_minor": 0,
  "metadata": {
    "colab": {
      "name": "NonLinear.ipynb",
      "provenance": [],
      "collapsed_sections": [],
      "authorship_tag": "ABX9TyNelGw21j/W5FnLdz2uTJUG",
      "include_colab_link": true
    },
    "kernelspec": {
      "name": "python3",
      "display_name": "Python 3"
    },
    "language_info": {
      "name": "python"
    }
  },
  "cells": [
    {
      "cell_type": "markdown",
      "metadata": {
        "id": "view-in-github",
        "colab_type": "text"
      },
      "source": [
        "<a href=\"https://colab.research.google.com/github/applejxd/colaboratory/blob/master/algorithm/NonLinear.ipynb\" target=\"_parent\"><img src=\"https://colab.research.google.com/assets/colab-badge.svg\" alt=\"Open In Colab\"/></a>"
      ]
    },
    {
      "cell_type": "markdown",
      "source": [
        "## 例題"
      ],
      "metadata": {
        "id": "gpQSh1AzEKqU"
      }
    },
    {
      "cell_type": "markdown",
      "source": [
        "3次方程式\n",
        "\\begin{equation}\n",
        "x^3+6x^2+21x+32=0\n",
        "\\end{equation}\n",
        "の解は\n",
        "\\begin{equation}\n",
        "x=-9^{1/3}+3^{1/3}-2,\\ -9^{1/3}e^{i2\\pi/3}+3^{1/3}e^{i4\\pi/3}-2,\\ -9^{1/3}e^{i4\\pi/3}+3^{1/3}e^{i2\\pi/3}-2\n",
        "\\end{equation}\n",
        "または\n",
        "\\begin{equation}\n",
        "x\\sim-2.64,\\ -1.68-3.05i,\\ -1.68+3.05i\n",
        "\\end{equation}"
      ],
      "metadata": {
        "id": "geIPv3yAPUyd"
      }
    },
    {
      "cell_type": "code",
      "source": [
        "def non_linear_func(x: float) -> float:\n",
        "    return x**3 + 6*x**2 + 21*x + 32\n",
        "\n",
        "def derivative_func(x: float) -> float:\n",
        "    return 3*x**2 + 12*x + 21\n",
        "\n",
        "x_real = -2.637834253"
      ],
      "metadata": {
        "id": "ob4iz09NIQBw"
      },
      "execution_count": 9,
      "outputs": []
    },
    {
      "cell_type": "markdown",
      "source": [
        "## 2分法\n"
      ],
      "metadata": {
        "id": "NVXuwNSEHDEp"
      }
    },
    {
      "cell_type": "markdown",
      "source": [
        "\n",
        "1. 解が含まれる領域 $[a,b]$ を事前に指定する\n",
        "2. 中点を利用して領域を $[a,(a+b)/2]$ と $[(a+b)/2,b]$ の2つに分割する\n",
        "3. 解を含む領域を中間値の定理で判定する\n",
        "4. 解を含む領域を選択して新たに計算する領域として繰り返す\n",
        "5. 領域幅が一定以下になったら終了\n",
        "\n",
        "中間値の定理から領域 $[a,b]$ に対して $f(a)f(b)<0$ なら、この領域 $[a,b]$ に $f(x)=0$ の解が含まれる事がわかる。"
      ],
      "metadata": {
        "id": "0y74VDNnPM8V"
      }
    },
    {
      "cell_type": "code",
      "source": [
        "from typing import Callable\n",
        "\n",
        "def bisection(func: Callable[[float],float],\n",
        "              left: float, right: float) -> float:\n",
        "    '''\n",
        "    二分法のアルゴリズム\n",
        "    '''\n",
        "    # 二分法で解けない場合\n",
        "    if func(left) * func(right) >= 0:\n",
        "        raise Exception('Cannot be solved by bisection method!')\n",
        "\n",
        "    # 代数式の数値精度\n",
        "    delta: float = 1e-10\n",
        "    # 解の数値精度\n",
        "    epsilon: float = 5e-6\n",
        "\n",
        "    middle: float = 0.\n",
        "    count: int = 0\n",
        "    while True:\n",
        "        # 中点計算\n",
        "        middle = (left + right)/2.\n",
        "        count += 1\n",
        "\n",
        "        # 中間値の定理から解を含む区間を選択\n",
        "        if func(left) * func(middle) < 0:\n",
        "            right = middle\n",
        "        else:\n",
        "            left = middle\n",
        "\n",
        "        # 終了判定\n",
        "        if (abs(func(middle)) < delta):\n",
        "            print(f\"finished: f(x)={abs(func(middle)):.6e} (count={count})\")\n",
        "            break\n",
        "        if (abs(left - right) < epsilon):\n",
        "            print(f\"finished: |left - right|={abs(left - right):.6e} (count={count})\")\n",
        "            break\n",
        "    \n",
        "    middle = (left+right)/2.\n",
        "    return middle"
      ],
      "metadata": {
        "id": "I8YxC34IHCyf"
      },
      "execution_count": 10,
      "outputs": []
    },
    {
      "cell_type": "code",
      "source": [
        "x = bisection(non_linear_func, -3.0, 0)\n",
        "print(f\"Δx = {x-x_real:.6e}, f(x)={non_linear_func(x):.6e}\")"
      ],
      "metadata": {
        "colab": {
          "base_uri": "https://localhost:8080/"
        },
        "id": "72HsYjwVJIop",
        "outputId": "7323f323-7f37-4e9c-d1fa-0505f91e812c"
      },
      "execution_count": 11,
      "outputs": [
        {
          "output_type": "stream",
          "name": "stdout",
          "text": [
            "finished: |left - right|=2.861023e-06 (count=20)\n",
            "Δx = 1.134561e-06, f(x)=1.159317e-05\n"
          ]
        }
      ]
    },
    {
      "cell_type": "markdown",
      "source": [
        "## はさみうち法"
      ],
      "metadata": {
        "id": "Wo5xzmdPPzE9"
      }
    },
    {
      "cell_type": "markdown",
      "source": [
        "はさみうち法では2分法のアレンジとして、交点を中点ではなく直線近似の解を用いる。\n",
        "\\begin{equation}\n",
        "y(x)\\equiv\\frac{f(a)-f(b)}{a-b}(x-a)+f(a)\n",
        "\\end{equation}\n",
        "とした場合の\n",
        "\\begin{equation}\n",
        "y(c)=0 ⇔ c=-f(a)\\frac{a-b}{f(a)-f(b)}+a=\\frac{bf(a)-af(b)}{f(a)-f(b)}\n",
        "\\end{equation}"
      ],
      "metadata": {
        "id": "qHvBCo1yP3tQ"
      }
    },
    {
      "cell_type": "code",
      "source": [
        "def squeeze(func: Callable[[float],float], \n",
        "            left: float, right: float) -> float:\n",
        "    '''\n",
        "    はさみうち法のアルゴリズム\n",
        "    '''\n",
        "    # 二分法で解けない場合\n",
        "    if func(left) * func(right) >= 0:\n",
        "        raise Exception('Cannot be solved by squeeze method!')\n",
        "\n",
        "    # 代数式の数値精度\n",
        "    delta: float = 1e-10\n",
        "    # 解の数値精度\n",
        "    epsilon: float = 5e-6\n",
        "\n",
        "    middle: float = 0.\n",
        "    count: int = 0\n",
        "    while True:\n",
        "        # 中点計算\n",
        "        f_left, f_right = func(left), func(right)\n",
        "        middle = (right*f_left - left*f_right)/(f_left - f_right)\n",
        "        count += 1\n",
        "\n",
        "        # 中間値の定理から解を含む区間を選択\n",
        "        if func(left) * func(middle) < 0:\n",
        "            right = middle\n",
        "        else:\n",
        "            left = middle\n",
        "\n",
        "        # 終了判定\n",
        "        if (abs(func(middle)) < delta):\n",
        "            print(f\"finished: f(x)={abs(func(middle)):.6e} (count={count})\")\n",
        "            break\n",
        "        if (abs(left - right) < epsilon):\n",
        "            print(f\"finished: |left - right|={abs(left - right):.6e} (count={count})\")\n",
        "            break\n",
        "    \n",
        "    f_left, f_right = func(left), func(right)\n",
        "    middle = (right*f_left - left*f_right)/(f_left - f_right)\n",
        "    return middle"
      ],
      "metadata": {
        "id": "LYGe1sHJMqsu"
      },
      "execution_count": 12,
      "outputs": []
    },
    {
      "cell_type": "code",
      "source": [
        "x = squeeze(non_linear_func, -3.0, 0)\n",
        "print(f\"Δx = {x-x_real:.6e}, f(x)={non_linear_func(x):.6e}\")"
      ],
      "metadata": {
        "colab": {
          "base_uri": "https://localhost:8080/"
        },
        "id": "EiKS3DdaVEHP",
        "outputId": "60297390-dd74-449b-b95b-185ce93eda0e"
      },
      "execution_count": 13,
      "outputs": [
        {
          "output_type": "stream",
          "name": "stdout",
          "text": [
            "finished: f(x)=6.559020e-11 (count=13)\n",
            "Δx = 2.544929e-10, f(x)=-1.033840e-11\n"
          ]
        }
      ]
    },
    {
      "cell_type": "markdown",
      "source": [
        "## ニュートン・ラフソン法"
      ],
      "metadata": {
        "id": "5gVY7VPXWQRQ"
      }
    },
    {
      "cell_type": "markdown",
      "source": [
        "非線形関数の$x=a$周りのテーラー展開を用いて\n",
        "\\begin{equation}\n",
        "f(x)=f(a)+f'(a)(x-a)+\\mathcal{O}(\\epsilon)=0\n",
        "⇔x=a-\\frac{f(a)}{f'(a)}+\\mathcal{O}(\\epsilon)\n",
        "\\end{equation}\n",
        "と解を1次近似する。"
      ],
      "metadata": {
        "id": "5MJacs0RWVzZ"
      }
    },
    {
      "cell_type": "code",
      "source": [
        "def newton1d(func: Callable[[float], float],\n",
        "             derivative: Callable[[float], float], seed: float) -> float:\n",
        "    '''\n",
        "    1D のニュートン・ラフソン法\n",
        "    '''\n",
        "    # 代数式の数値精度\n",
        "    delta: float = 1e-10\n",
        "\n",
        "    result: float = 0.\n",
        "    count: int = 0\n",
        "    while True:\n",
        "        result = result - func(result) / derivative(result)\n",
        "        count += 1\n",
        "\n",
        "        # 終了判定\n",
        "        if (abs(func(result)) < delta):\n",
        "            print(f\"finished: f(x)={abs(func(result)):.4e} (count={count})\")\n",
        "            break\n",
        "    \n",
        "    return result"
      ],
      "metadata": {
        "id": "5X5ccxEzWVBe"
      },
      "execution_count": 14,
      "outputs": []
    },
    {
      "cell_type": "code",
      "source": [
        "x = newton1d(non_linear_func, derivative_func, 0)\n",
        "print(f\"Δx = {x-x_real:.6e}, f(x)={non_linear_func(x):.6e}\")"
      ],
      "metadata": {
        "id": "07O1ZUjeCNgB",
        "outputId": "60f575ec-c9f1-49da-dd14-132d26f45b81",
        "colab": {
          "base_uri": "https://localhost:8080/"
        }
      },
      "execution_count": 15,
      "outputs": [
        {
          "output_type": "stream",
          "name": "stdout",
          "text": [
            "finished: f(x)=3.5527e-15 (count=5)\n",
            "Δx = 2.555036e-10, f(x)=3.552714e-15\n"
          ]
        }
      ]
    },
    {
      "cell_type": "code",
      "source": [
        ""
      ],
      "metadata": {
        "id": "nK-TFFszCm7S"
      },
      "execution_count": 15,
      "outputs": []
    }
  ]
}