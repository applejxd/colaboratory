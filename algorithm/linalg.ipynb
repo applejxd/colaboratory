{
  "nbformat": 4,
  "nbformat_minor": 0,
  "metadata": {
    "colab": {
      "provenance": [],
      "authorship_tag": "ABX9TyPIInn4m8M+OPpdd2S//85Y",
      "include_colab_link": true
    },
    "kernelspec": {
      "name": "python3",
      "display_name": "Python 3"
    },
    "language_info": {
      "name": "python"
    }
  },
  "cells": [
    {
      "cell_type": "markdown",
      "metadata": {
        "id": "view-in-github",
        "colab_type": "text"
      },
      "source": [
        "<a href=\"https://colab.research.google.com/github/applejxd/colaboratory/blob/master/algorithm/linalg.ipynb\" target=\"_parent\"><img src=\"https://colab.research.google.com/assets/colab-badge.svg\" alt=\"Open In Colab\"/></a>"
      ]
    },
    {
      "cell_type": "markdown",
      "source": [
        " 行列 $A$ の正定値の条件は任意の $\\vec{x}\\neq\\vec{0}$ に対して $\\vec{x}^TA\\vec{x}>0$.\n",
        " よって任意の $A, \\vec{x}\\neq\\vec{0}$ に対して $\\vec{x}^T(A^TA)\\vec{x}=||A\\vec{x}||^2>0$."
      ],
      "metadata": {
        "id": "kuPmF_GtMmcp"
      }
    },
    {
      "cell_type": "code",
      "execution_count": null,
      "metadata": {
        "id": "tTAQhxS3MiAU"
      },
      "outputs": [],
      "source": []
    }
  ]
}