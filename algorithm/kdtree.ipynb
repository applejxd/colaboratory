{
  "nbformat": 4,
  "nbformat_minor": 0,
  "metadata": {
    "colab": {
      "provenance": [],
      "authorship_tag": "ABX9TyNN87hTUJd3LTea4n5Aun88",
      "include_colab_link": true
    },
    "kernelspec": {
      "name": "python3",
      "display_name": "Python 3"
    },
    "language_info": {
      "name": "python"
    }
  },
  "cells": [
    {
      "cell_type": "markdown",
      "metadata": {
        "id": "view-in-github",
        "colab_type": "text"
      },
      "source": [
        "<a href=\"https://colab.research.google.com/github/applejxd/colaboratory/blob/master/algorithm/kdtree.ipynb\" target=\"_parent\"><img src=\"https://colab.research.google.com/assets/colab-badge.svg\" alt=\"Open In Colab\"/></a>"
      ]
    },
    {
      "cell_type": "code",
      "source": [
        "from typing import List, Optional\n",
        "\n",
        "class KDNode:\n",
        "    def __init__(self, point: List[float], left=None, right=None):\n",
        "        self.point: List[float] = point\n",
        "        self.left: Optional[KDNode] = left\n",
        "        self.right: Optional[KDNode] = right"
      ],
      "metadata": {
        "id": "0OXwflulWcih"
      },
      "execution_count": null,
      "outputs": []
    },
    {
      "cell_type": "code",
      "execution_count": null,
      "metadata": {
        "id": "RIVAWkj2S6rW"
      },
      "outputs": [],
      "source": [
        "import matplotlib.pyplot as plt\n",
        "\n",
        "class KDTree:\n",
        "    def __init__(self, points: List[List[float]]):\n",
        "        self.root = self.build_tree(points)\n",
        "\n",
        "    def build_tree(self, points: List[List[float]]):\n",
        "        if not points:\n",
        "            return None\n",
        "\n",
        "        k = len(points[0])  # 次元数\n",
        "        stack = [(points, 0, None, None)]  # (点のリスト, 次元, 親のノード, 位置)\n",
        "\n",
        "        root: Optional[KDNode] = None\n",
        "        while stack:\n",
        "            pts, depth, parent, position = stack.pop()\n",
        "            if not pts:\n",
        "                continue\n",
        "\n",
        "            axis = depth % k\n",
        "            pts.sort(key=lambda x: x[axis])\n",
        "            median = len(pts) // 2\n",
        "\n",
        "            node = KDNode(pts[median])\n",
        "            if not root:\n",
        "                root = node\n",
        "            else:\n",
        "                if position == \"left\":\n",
        "                    parent.left = node\n",
        "                elif position == \"right\":\n",
        "                    parent.right = node\n",
        "\n",
        "            left_points = pts[:median]\n",
        "            right_points = pts[median+1:]\n",
        "\n",
        "            stack.append((right_points, depth + 1, node, \"right\"))\n",
        "            stack.append((left_points, depth + 1, node, \"left\"))\n",
        "\n",
        "        return root\n",
        "\n",
        "    def print_tree(self, node, depth=0):\n",
        "        if not node:\n",
        "            return\n",
        "        print(\"  \" * depth + str(node.point))\n",
        "        self.print_tree(node.left, depth + 1)\n",
        "        self.print_tree(node.right, depth + 1)\n",
        "\n",
        "    def plot_tree(self, ax, node, xmin, xmax, ymin, ymax, depth=0):\n",
        "        if not node:\n",
        "            return\n",
        "\n",
        "        k = len(node.point)  # 次元数\n",
        "        axis = depth % k\n",
        "\n",
        "        if axis == 0:\n",
        "            ax.plot([node.point[0], node.point[0]], [ymin, ymax], 'r-')\n",
        "            self.plot_tree(ax, node.left, xmin, node.point[0], ymin, ymax, depth + 1)\n",
        "            self.plot_tree(ax, node.right, node.point[0], xmax, ymin, ymax, depth + 1)\n",
        "        else:\n",
        "            ax.plot([xmin, xmax], [node.point[1], node.point[1]], 'b-')\n",
        "            self.plot_tree(ax, node.left, xmin, xmax, ymin, node.point[1], depth + 1)\n",
        "            self.plot_tree(ax, node.right, xmin, xmax, node.point[1], ymax, depth + 1)\n",
        "\n",
        "        ax.plot(node.point[0], node.point[1], 'ko')\n",
        "        ax.text(node.point[0] + 0.2, node.point[1] + 0.2, f'D{depth}', color='black', fontsize=12, ha='right')\n",
        "\n",
        "    def plot_points(self, ax, points):\n",
        "        for point in points:\n",
        "            ax.plot(point[0], point[1], 'go')  # 'go' は緑の丸 (green circles) を意味します"
      ]
    },
    {
      "cell_type": "code",
      "source": [
        "# 使用例\n",
        "points = [(2, 3), (5, 4), (9, 6), (4, 7), (8, 1), (7, 2)]\n",
        "kd_tree = KDTree(points)\n",
        "\n",
        "fig, ax = plt.subplots()\n",
        "ax.set_xlim(0, 10)\n",
        "ax.set_ylim(0, 10)\n",
        "kd_tree.plot_tree(ax, kd_tree.root, 0, 10, 0, 10)\n",
        "kd_tree.plot_points(ax, points)  # すべての点をプロット\n",
        "plt.show()"
      ],
      "metadata": {
        "colab": {
          "base_uri": "https://localhost:8080/",
          "height": 435
        },
        "id": "k7KjQiOyTP6N",
        "outputId": "a924d6d6-1ba0-4955-b574-4d3490eaafe3"
      },
      "execution_count": null,
      "outputs": [
        {
          "output_type": "display_data",
          "data": {
            "text/plain": [
              "<Figure size 640x480 with 1 Axes>"
            ],
            "image/png": "[encoded data removed]"
          },
          "metadata": {}
        }
      ]
    },
    {
      "cell_type": "code",
      "source": [],
      "metadata": {
        "id": "dOCSGMSXWhRm"
      },
      "execution_count": null,
      "outputs": []
    }
  ]
}