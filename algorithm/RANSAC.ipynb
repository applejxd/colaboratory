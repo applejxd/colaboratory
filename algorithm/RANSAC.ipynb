{
  "nbformat": 4,
  "nbformat_minor": 0,
  "metadata": {
    "colab": {
      "provenance": [],
      "authorship_tag": "ABX9TyPtDNAjMJiDFSWXz/LzKiKw",
      "include_colab_link": true
    },
    "kernelspec": {
      "name": "python3",
      "display_name": "Python 3"
    },
    "language_info": {
      "name": "python"
    }
  },
  "cells": [
    {
      "cell_type": "markdown",
      "metadata": {
        "id": "view-in-github",
        "colab_type": "text"
      },
      "source": [
        "<a href=\"https://colab.research.google.com/github/applejxd/colaboratory/blob/master/algorithm/RANSAC.ipynb\" target=\"_parent\"><img src=\"https://colab.research.google.com/assets/colab-badge.svg\" alt=\"Open In Colab\"/></a>"
      ]
    },
    {
      "cell_type": "markdown",
      "source": [
        "## 直線フィッティング"
      ],
      "metadata": {
        "id": "lds28Hjbk9gX"
      }
    },
    {
      "cell_type": "markdown",
      "source": [
        "誤差分布は外れ値が大きいコーシー分布"
      ],
      "metadata": {
        "id": "S9Uol1SGbVqD"
      }
    },
    {
      "cell_type": "code",
      "execution_count": 1,
      "metadata": {
        "id": "JZXroLSDN5Ty",
        "colab": {
          "base_uri": "https://localhost:8080/",
          "height": 265
        },
        "outputId": "39d59c00-a4ac-4d14-9d72-47e7117dd9c9"
      },
      "outputs": [
        {
          "output_type": "display_data",
          "data": {
            "text/plain": [
              "<Figure size 432x288 with 1 Axes>"
            ],
            "image/png": "[encoded data removed]"
          },
          "metadata": {
            "needs_background": "light"
          }
        }
      ],
      "source": [
        "import numpy as np\n",
        "import matplotlib.pyplot as plt\n",
        "\n",
        "def cauchy(x: np.ndarray):\n",
        "    return 1/np.pi/(1+x*x)\n",
        "\n",
        "x = np.linspace(-5, 5, 100)\n",
        "y = cauchy(x)\n",
        "\n",
        "plt.plot(x, y)\n",
        "plt.show()"
      ]
    },
    {
      "cell_type": "markdown",
      "source": [
        "サンプルデータ生成"
      ],
      "metadata": {
        "id": "xqMf_WTtbeak"
      }
    },
    {
      "cell_type": "code",
      "source": [
        "point_num: int = 1000\n",
        "\n",
        "errors = np.random.standard_cauchy(point_num)\n",
        "x = np.linspace(0, 10, point_num)\n",
        "y = x + errors / 10\n",
        "\n",
        "points = np.vstack([x, y]).T\n",
        "\n",
        "plt.scatter(x, y, s=0.5)\n",
        "plt.ylim(-1, 11)\n",
        "plt.show()"
      ],
      "metadata": {
        "id": "1gK6AD90OqIg",
        "colab": {
          "base_uri": "https://localhost:8080/",
          "height": 265
        },
        "outputId": "7df722ce-fba2-41a1-fce7-e4a36683f9ae"
      },
      "execution_count": 2,
      "outputs": [
        {
          "output_type": "display_data",
          "data": {
            "text/plain": [
              "<Figure size 432x288 with 1 Axes>"
            ],
            "image/png": "[encoded data removed]"
          },
          "metadata": {
            "needs_background": "light"
          }
        }
      ]
    },
    {
      "cell_type": "markdown",
      "source": [
        "iteration の回数の目安は以下の通り：\n",
        "\n",
        "1. データ分布から、1回のサンプリングで inlier を引き当てる確率 $e$ を仮定\n",
        "2. 1回の試行でのサンプル数を $n$ とすると、それらのサンプルが全て inlier である確率は $e^n$\n",
        "3. 一方で$N$回の試行で 2. が1回も生じない場合(RANSAC が失敗する場合)の確率は$(1-e^n)^N$\n",
        "4. つまり RANSAC をほぼ確実(確率$p\\sim1$)で成功させたい場合は\n",
        "\\begin{equation}\n",
        "1-p=(1-e^n)^N⇔N=\\frac{\\ln(1-p)}{\\ln(1-e^n)}\n",
        "\\end{equation}\n",
        "くらいの$N$に設定して反復する。\n",
        "4. 更に早期終了を目指す場合は、最大の inlier 数更新のタイミングで $e\\sim$  (inlier とした数)/(データ数) として$N$を更新"
      ],
      "metadata": {
        "id": "iKd8qPKLaTgo"
      }
    },
    {
      "cell_type": "code",
      "source": [
        "# データの目視確認より 9/10 は対象データと想定\n",
        "e = 9/10\n",
        "# 直線のパラメータは2個 → サンプリング数は2個で十分\n",
        "n = 2\n",
        "# 99.99% の確率で RANSAC を成功させる\n",
        "p = 0.9999\n",
        "# zero division error 対策\n",
        "max_iteration = int(np.log(1-p)/_) if not np.isclose((_ := np.log(1-e**n)), 0) else 1e+5\n",
        "\n",
        "print(max_iteration)"
      ],
      "metadata": {
        "id": "iLFiobqtaUHH",
        "colab": {
          "base_uri": "https://localhost:8080/"
        },
        "outputId": "065fd233-fb43-4f4a-82a1-bad20690d1b0"
      },
      "execution_count": 3,
      "outputs": [
        {
          "output_type": "stream",
          "name": "stdout",
          "text": [
            "5\n"
          ]
        }
      ]
    },
    {
      "cell_type": "markdown",
      "source": [
        "乱数生成"
      ],
      "metadata": {
        "id": "qSjDSz45WusQ"
      }
    },
    {
      "cell_type": "code",
      "source": [
        "index_mat = np.random.randint(0, point_num, (max_iteration, 2))\n",
        "print(index_mat)"
      ],
      "metadata": {
        "id": "JmbKA5NhO8WF",
        "colab": {
          "base_uri": "https://localhost:8080/"
        },
        "outputId": "16f51dbf-8aa3-43d9-bd1b-2bf4c2d71215"
      },
      "execution_count": 4,
      "outputs": [
        {
          "output_type": "stream",
          "name": "stdout",
          "text": [
            "[[916  73]\n",
            " [699 891]\n",
            " [753 417]\n",
            " [991  36]\n",
            " [787 682]]\n"
          ]
        }
      ]
    },
    {
      "cell_type": "markdown",
      "source": [
        "ランダムサンプリング"
      ],
      "metadata": {
        "id": "6SlTwUDyWZ5E"
      }
    },
    {
      "cell_type": "code",
      "source": [
        "np.array([x[index_mat], y[index_mat]]).shape"
      ],
      "metadata": {
        "id": "SlAj6mcA2EnG",
        "colab": {
          "base_uri": "https://localhost:8080/"
        },
        "outputId": "865d6102-ac09-4bba-caa7-147287ed0fef"
      },
      "execution_count": 5,
      "outputs": [
        {
          "output_type": "execute_result",
          "data": {
            "text/plain": [
              "(2, 5, 2)"
            ]
          },
          "metadata": {},
          "execution_count": 5
        }
      ]
    },
    {
      "cell_type": "code",
      "source": [
        "# 転置前の成分数は (axis, trials, points)\n",
        "# 転置後の成分数は (trials, points, axis)\n",
        "samples_tensor = np.array([x[index_mat], y[index_mat]]).transpose(1, 2, 0)\n",
        "\n",
        "print(samples_tensor.shape)\n",
        "print(samples_tensor)"
      ],
      "metadata": {
        "id": "AIv8LkkGVLHe",
        "colab": {
          "base_uri": "https://localhost:8080/"
        },
        "outputId": "bed5c135-8956-43cf-b359-e361541db7df"
      },
      "execution_count": 6,
      "outputs": [
        {
          "output_type": "stream",
          "name": "stdout",
          "text": [
            "(5, 2, 2)\n",
            "[[[9.16916917 9.51105008]\n",
            "  [0.73073073 0.6393097 ]]\n",
            "\n",
            " [[6.996997   6.76116195]\n",
            "  [8.91891892 8.86002233]]\n",
            "\n",
            " [[7.53753754 7.4649352 ]\n",
            "  [4.17417417 4.09649061]]\n",
            "\n",
            " [[9.91991992 9.90098344]\n",
            "  [0.36036036 0.39359404]]\n",
            "\n",
            " [[7.87787788 7.68093766]\n",
            "  [6.82682683 6.81234059]]]\n"
          ]
        }
      ]
    },
    {
      "cell_type": "markdown",
      "source": [
        "傾きと切片計算"
      ],
      "metadata": {
        "id": "04Vi6Q42WysY"
      }
    },
    {
      "cell_type": "code",
      "source": [
        "params_tensor = np.array([np.polyfit(sample[:, 0], sample[:, 1], 1) \n",
        "                          for sample in samples_tensor])"
      ],
      "metadata": {
        "id": "bMS8ApJ4ViFQ"
      },
      "execution_count": 7,
      "outputs": []
    },
    {
      "cell_type": "markdown",
      "source": [
        "inlier の数を計算 → 最も良い候補を選択"
      ],
      "metadata": {
        "id": "UWppNTAra4pS"
      }
    },
    {
      "cell_type": "code",
      "source": [
        "def polynomial(params, points):\n",
        "    max_degree = len(params)\n",
        "    # shape=(params, points)\n",
        "    terms = np.array([params[degree] * points[:, 0] ** (max_degree - degree - 1)\n",
        "                      for degree in range(max_degree)])\n",
        "    return np.sum(terms, axis=0)\n",
        "\n",
        "def get_distances(params, points):\n",
        "    y_est = polynomial(params, points)\n",
        "    distances = np.abs(points[:, 1] - y_est)\n",
        "    return distances\n",
        "\n",
        "distances_tensor = np.array([\n",
        "    get_distances(params, points) for params in params_tensor])\n",
        "\n",
        "distance_th = 0.3\n",
        "inlier_bool_tensor = np.array([\n",
        "    distances < distance_th\n",
        "    for distances in distances_tensor\n",
        "])\n",
        "inlier_num_array = np.array([\n",
        "    np.sum(inlier_bool)\n",
        "    for inlier_bool in inlier_bool_tensor\n",
        "])\n",
        "\n",
        "best_idx = np.argmax(inlier_num_array)\n",
        "print(best_idx)"
      ],
      "metadata": {
        "id": "fiKCLkDYWMxA",
        "colab": {
          "base_uri": "https://localhost:8080/"
        },
        "outputId": "18530c96-cdf6-40be-bbad-850fe2a34af9"
      },
      "execution_count": 8,
      "outputs": [
        {
          "output_type": "stream",
          "name": "stdout",
          "text": [
            "3\n"
          ]
        }
      ]
    },
    {
      "cell_type": "markdown",
      "source": [
        "結果を確認"
      ],
      "metadata": {
        "id": "kBJ98PrmlmNT"
      }
    },
    {
      "cell_type": "code",
      "source": [
        "params = params_tensor[best_idx]\n",
        "inlier_idx = np.arange(point_num)[inlier_bool_tensor[best_idx]]\n",
        "outlier_idx = np.arange(point_num)[~inlier_bool_tensor[best_idx]]\n",
        "\n",
        "plt.scatter(points[inlier_idx, 0], points[inlier_idx, 1], s=0.5, color=\"orange\")\n",
        "plt.scatter(points[outlier_idx, 0], points[outlier_idx, 1], s=0.5, color=\"blue\")\n",
        "\n",
        "plt.plot(points[:, 0], polynomial(params, points),\n",
        "         color=\"green\")\n",
        "plt.ylim(-1, 11)\n",
        "plt.show()"
      ],
      "metadata": {
        "id": "wmJZAasGXxA3",
        "colab": {
          "base_uri": "https://localhost:8080/",
          "height": 265
        },
        "outputId": "7da82649-9fff-4830-c536-05bb0cd1537a"
      },
      "execution_count": 9,
      "outputs": [
        {
          "output_type": "display_data",
          "data": {
            "text/plain": [
              "<Figure size 432x288 with 1 Axes>"
            ],
            "image/png": "[encoded data removed]"
          },
          "metadata": {
            "needs_background": "light"
          }
        }
      ]
    },
    {
      "cell_type": "markdown",
      "source": [
        "再フィッティング"
      ],
      "metadata": {
        "id": "BuKZHktZlo7h"
      }
    },
    {
      "cell_type": "code",
      "source": [
        "refined_params = np.polyfit(points[inlier_idx, 0], points[inlier_idx, 1], 1)\n",
        "\n",
        "plt.scatter(points[inlier_idx, 0], points[inlier_idx, 1], s=0.5, color=\"orange\")\n",
        "plt.scatter(points[outlier_idx, 0], points[outlier_idx, 1], s=0.5, color=\"blue\")\n",
        "\n",
        "plt.plot(points[:, 0], polynomial(refined_params, points), color=\"green\")\n",
        "plt.plot(points[:, 0], polynomial(refined_params, points), color=\"red\")\n",
        "plt.ylim(-1, 11)\n",
        "plt.show()"
      ],
      "metadata": {
        "id": "XmoHP_A_kyAr",
        "colab": {
          "base_uri": "https://localhost:8080/",
          "height": 265
        },
        "outputId": "7864b729-d088-4faf-9974-73e7f6e42611"
      },
      "execution_count": 10,
      "outputs": [
        {
          "output_type": "display_data",
          "data": {
            "text/plain": [
              "<Figure size 432x288 with 1 Axes>"
            ],
            "image/png": "[encoded data removed]"
          },
          "metadata": {
            "needs_background": "light"
          }
        }
      ]
    },
    {
      "cell_type": "markdown",
      "source": [
        "## 2次曲線フィッティング"
      ],
      "metadata": {
        "id": "sHikSqMfzEBw"
      }
    },
    {
      "cell_type": "code",
      "source": [
        "point_num: int = 1000\n",
        "\n",
        "errors = np.random.standard_cauchy(point_num)\n",
        "x = np.linspace(0, 10, point_num)\n",
        "y = x**2 + errors / 10\n",
        "\n",
        "points = np.vstack([x, y]).T\n",
        "\n",
        "plt.scatter(x, y, s=0.5)\n",
        "plt.xlim(0, 3.5)\n",
        "plt.ylim(-1, 11)\n",
        "plt.show()"
      ],
      "metadata": {
        "id": "LXT-Wez1zF5G",
        "colab": {
          "base_uri": "https://localhost:8080/",
          "height": 265
        },
        "outputId": "91d96d67-7ea6-4f38-d7ab-72c9442fea3a"
      },
      "execution_count": 11,
      "outputs": [
        {
          "output_type": "display_data",
          "data": {
            "text/plain": [
              "<Figure size 432x288 with 1 Axes>"
            ],
            "image/png": "[encoded data removed]"
          },
          "metadata": {
            "needs_background": "light"
          }
        }
      ]
    },
    {
      "cell_type": "code",
      "source": [
        "e = 6/10\n",
        "n = 3\n",
        "p = 0.9999\n",
        "max_iteration = int(np.log(1-p)/_) if not np.isclose((_ := np.log(1-e**n)), 0) else 1e+5\n",
        "\n",
        "print(max_iteration)"
      ],
      "metadata": {
        "id": "HpkN8fVNavwT",
        "colab": {
          "base_uri": "https://localhost:8080/"
        },
        "outputId": "060699f9-d52e-4dda-e01d-6a9d6656bec3"
      },
      "execution_count": 12,
      "outputs": [
        {
          "output_type": "stream",
          "name": "stdout",
          "text": [
            "37\n"
          ]
        }
      ]
    },
    {
      "cell_type": "code",
      "source": [
        "index_mat = np.random.randint(0, point_num, (max_iteration, 3))\n",
        "\n",
        "# 転置前の成分数は (axis, trials, points)\n",
        "# 転置後の成分数は (trials, points, axis)\n",
        "samples_tensor = np.array([x[index_mat], y[index_mat]]).transpose(1, 2, 0)\n",
        "print(samples_tensor.shape)"
      ],
      "metadata": {
        "id": "4wk4y_ShzXDy",
        "colab": {
          "base_uri": "https://localhost:8080/"
        },
        "outputId": "1dbba3e2-fdc2-4769-aab7-5cc7b3bf32e9"
      },
      "execution_count": 13,
      "outputs": [
        {
          "output_type": "stream",
          "name": "stdout",
          "text": [
            "(37, 3, 2)\n"
          ]
        }
      ]
    },
    {
      "cell_type": "code",
      "source": [
        "params_tensor = np.array([\n",
        "    np.polyfit(sample[:, 0], sample[:, 1], 2)\n",
        "    for sample in samples_tensor])"
      ],
      "metadata": {
        "id": "LDojCLRi0Eba"
      },
      "execution_count": 14,
      "outputs": []
    },
    {
      "cell_type": "code",
      "source": [
        "def get_distances(params, points):\n",
        "    y_est =  params[0] * points[:, 0] **2 + params[1] * points[:, 0] + params[2]\n",
        "    distances = np.abs(points[:, 1] - y_est)\n",
        "    return distances\n",
        "\n",
        "distances_tensor = np.array([\n",
        "    get_distances(params, points) for params in params_tensor])\n",
        "\n",
        "distance_th = 0.3\n",
        "inlier_bool_tensor = np.array([\n",
        "    distances < distance_th\n",
        "    for distances in distances_tensor\n",
        "])\n",
        "inlier_num_array = np.array([\n",
        "    np.sum(inlier_bool)\n",
        "    for inlier_bool in inlier_bool_tensor\n",
        "])\n",
        "\n",
        "best_idx = np.argmax(inlier_num_array)\n",
        "print(best_idx)"
      ],
      "metadata": {
        "id": "F3NHjxXV0KJk",
        "colab": {
          "base_uri": "https://localhost:8080/"
        },
        "outputId": "f8ecf9aa-6706-44f3-b21d-e9052e22ae25"
      },
      "execution_count": 15,
      "outputs": [
        {
          "output_type": "stream",
          "name": "stdout",
          "text": [
            "12\n"
          ]
        }
      ]
    },
    {
      "cell_type": "code",
      "source": [
        "params = params_tensor[best_idx]\n",
        "inlier_idx = np.arange(point_num)[inlier_bool_tensor[best_idx]]\n",
        "outlier_idx = np.arange(point_num)[~inlier_bool_tensor[best_idx]]\n",
        "\n",
        "plt.scatter(points[inlier_idx, 0], points[inlier_idx, 1], s=0.5, color=\"orange\")\n",
        "plt.scatter(points[outlier_idx, 0], points[outlier_idx, 1], s=0.5, color=\"blue\")\n",
        "\n",
        "y_est =  params[0] * points[:, 0] **2 + params[1] * points[:, 0] + params[2]\n",
        "plt.plot(points[:, 0], y_est, color=\"green\")\n",
        "plt.xlim(0, 3.5)\n",
        "plt.ylim(-1, 11)\n",
        "plt.show()"
      ],
      "metadata": {
        "id": "4UNzRuMD20XW",
        "colab": {
          "base_uri": "https://localhost:8080/",
          "height": 265
        },
        "outputId": "db21818c-0037-4202-e403-4a452ab4b6c6"
      },
      "execution_count": 16,
      "outputs": [
        {
          "output_type": "display_data",
          "data": {
            "text/plain": [
              "<Figure size 432x288 with 1 Axes>"
            ],
            "image/png": "[encoded data removed]"
          },
          "metadata": {
            "needs_background": "light"
          }
        }
      ]
    },
    {
      "cell_type": "code",
      "source": [
        "refined_params = np.polyfit(points[inlier_idx, 0], points[inlier_idx, 1], 2)\n",
        "y_refined =  refined_params[0] * points[:, 0] **2 + params[1] * points[:, 0] + params[2]\n",
        "\n",
        "plt.scatter(points[inlier_idx, 0], points[inlier_idx, 1], s=0.5, color=\"orange\")\n",
        "plt.scatter(points[outlier_idx, 0], points[outlier_idx, 1], s=0.5, color=\"blue\")\n",
        "\n",
        "\n",
        "plt.plot(points[:, 0], polynomial(refined_params, points), color=\"green\")\n",
        "plt.plot(points[:, 0], polynomial(refined_params, points), color=\"red\")\n",
        "plt.xlim(0, 3.5)\n",
        "plt.ylim(-1, 11)\n",
        "plt.show()"
      ],
      "metadata": {
        "id": "VH_nOy3r3OTV",
        "colab": {
          "base_uri": "https://localhost:8080/",
          "height": 265
        },
        "outputId": "671fbdc4-2912-4395-8b20-22180a805d79"
      },
      "execution_count": 17,
      "outputs": [
        {
          "output_type": "display_data",
          "data": {
            "text/plain": [
              "<Figure size 432x288 with 1 Axes>"
            ],
            "image/png": "[encoded data removed]"
          },
          "metadata": {
            "needs_background": "light"
          }
        }
      ]
    },
    {
      "cell_type": "markdown",
      "source": [
        "## 陰関数フィッティング"
      ],
      "metadata": {
        "id": "y-_k_MawoBNI"
      }
    },
    {
      "cell_type": "markdown",
      "source": [
        "自動微分を実施するための Jet を定義"
      ],
      "metadata": {
        "id": "30c6t_GmD3fT"
      }
    },
    {
      "cell_type": "code",
      "source": [
        "class Jet:\n",
        "    def __init__(self, a: float, v):\n",
        "        self.a = a\n",
        "        self.v = np.array(v)\n",
        "\n",
        "    def __str__(self):\n",
        "        return f\"{self.a}+{self.v}\"\n",
        "\n",
        "    def __add__(self, other):\n",
        "        if isinstance(other, (int, float)):\n",
        "            other = Jet(other, np.zeros(len(self.v)))\n",
        "        return Jet(self.a + other.a, self.v + other.v)\n",
        "\n",
        "    def __sub__(self, other):\n",
        "        if isinstance(other, (int, float)):\n",
        "            other = Jet(other, np.zeors(len(self.v)))\n",
        "        return Jet(self.a - other.a, self.v - other.v)\n",
        "    \n",
        "    def __mul__(self, other):\n",
        "        if isinstance(other, (int, float)):\n",
        "            other = Jet(other, np.zeros(len(self.v)))\n",
        "        return Jet(self.a * other.a, self.a * other.v + self.v * other.a)\n",
        "    \n",
        "    def __truediv__(self, other):\n",
        "        if isinstance(other, (int, float)):\n",
        "            other = Jet(other, np.zeros(len(self.v)))\n",
        "        return Jet(self.a / other.a, self.v / other.a - self.a * other.v / other.a ** 2)\n",
        "    \n",
        "    def __pow__(self, other):\n",
        "        if isinstance(other, (int, float)):\n",
        "            other = Jet(other, np.zeros(len(self.v)))\n",
        "        value = self.a ** other.a\n",
        "        base_diff = other.a * self.a ** (other.a - 1) * self.v\n",
        "        # 底が0, 負の場合に注意\n",
        "        if np.isclose(self.a, 0):\n",
        "            exp_diff = 0\n",
        "        else:\n",
        "            exp_diff = value * other.v * np.log(np.abs(self.a))\n",
        "        return Jet(value, base_diff + exp_diff)\n",
        "\n",
        "    def __radd__(self, other):\n",
        "        return self.__add__(other)\n",
        "    \n",
        "    def __rsub__(self, other):\n",
        "        return self.__sub__(other)\n",
        "    \n",
        "    def __rmul__(self, other):\n",
        "        return self.__mul__(other)\n",
        "\n",
        "x = Jet(2, (3, 4))\n",
        "print(x.a)\n",
        "print(x.v)"
      ],
      "metadata": {
        "id": "eUJAgIaRDrxC",
        "colab": {
          "base_uri": "https://localhost:8080/"
        },
        "outputId": "86942293-dd69-4f20-eee9-cb1c4e203670"
      },
      "execution_count": 18,
      "outputs": [
        {
          "output_type": "stream",
          "name": "stdout",
          "text": [
            "2\n",
            "[3 4]\n"
          ]
        }
      ]
    },
    {
      "cell_type": "markdown",
      "source": [
        "基底関数を定義"
      ],
      "metadata": {
        "id": "E9ECDW8zsSts"
      }
    },
    {
      "cell_type": "code",
      "source": [
        "def linear_basis(point):\n",
        "    x, y = point\n",
        "    return [x, y, 1]\n",
        "\n",
        "def quad_basis(point):\n",
        "    x, y = point\n",
        "    return [x**2, 2*x*y, y**2, 2*x, 2*y, 1]\n",
        "\n",
        "x = Jet(1, (1, 0))\n",
        "y = Jet(2, (0, 1))\n",
        "print(quad_basis((x, y))[1])"
      ],
      "metadata": {
        "id": "ln8X2XPwChMN",
        "colab": {
          "base_uri": "https://localhost:8080/"
        },
        "outputId": "7ef421ca-f5ca-4c29-d554-052c8b830144"
      },
      "execution_count": 19,
      "outputs": [
        {
          "output_type": "stream",
          "name": "stdout",
          "text": [
            "4+[4. 2.]\n"
          ]
        }
      ]
    },
    {
      "cell_type": "markdown",
      "source": [
        "構造行列の計算例"
      ],
      "metadata": {
        "id": "MtcdKA8ehvXZ"
      }
    },
    {
      "cell_type": "code",
      "source": [
        "import numpy as np\n",
        "\n",
        "point = np.array([2, 3])\n",
        "xi = quad_basis(point)\n",
        "structure_mat = np.outer(xi, xi)\n",
        "print(structure_mat)\n",
        "\n",
        "e_value, e_vec = np.linalg.eigh(structure_mat)\n",
        "print(e_value)"
      ],
      "metadata": {
        "id": "N8yLV6e6hxpH",
        "outputId": "2257bddd-96af-43f1-c0d4-1d2da11d7471",
        "colab": {
          "base_uri": "https://localhost:8080/"
        }
      },
      "execution_count": 20,
      "outputs": [
        {
          "output_type": "stream",
          "name": "stdout",
          "text": [
            "[[ 16  48  36  16  24   4]\n",
            " [ 48 144 108  48  72  12]\n",
            " [ 36 108  81  36  54   9]\n",
            " [ 16  48  36  16  24   4]\n",
            " [ 24  72  54  24  36   6]\n",
            " [  4  12   9   4   6   1]]\n",
            "[-1.84288552e-14 -4.68982177e-15 -4.76667661e-33  2.30837481e-15\n",
            "  1.32052745e-14  2.94000000e+02]\n"
          ]
        }
      ]
    },
    {
      "cell_type": "markdown",
      "source": [
        "陰関数プロットのためのヘルパー関数を定義"
      ],
      "metadata": {
        "id": "8HcfUJYfif9_"
      }
    },
    {
      "cell_type": "code",
      "source": [
        "def get_contour(basis_func, points, params, diff):\n",
        "    x_range=np.arange(np.min(points[:, 0]), np.max(points[:, 0]), diff)\n",
        "    y_range=np.arange(np.min(points[:, 1]), np.max(points[:, 1]), diff)\n",
        "    x_mesh, y_mesh=np.meshgrid(x_range, y_range)\n",
        "\n",
        "    basises = basis_func((x_mesh, y_mesh))\n",
        "    z_mesh=sum([param*basis for param, basis in zip(params, basises)])\n",
        "    return x_mesh, y_mesh, z_mesh"
      ],
      "metadata": {
        "id": "W7oi3-VWh_ou"
      },
      "execution_count": 21,
      "outputs": []
    },
    {
      "cell_type": "markdown",
      "source": [
        "### RANSAC クラスの作成"
      ],
      "metadata": {
        "id": "4mIagc147uaf"
      }
    },
    {
      "cell_type": "markdown",
      "source": [
        "前セクションまでの処理を踏まえて、RANSAC を行うための一般的なクラスを定義する"
      ],
      "metadata": {
        "id": "cydSY9uboF-Z"
      }
    },
    {
      "cell_type": "code",
      "source": [
        "from typing import List\n",
        "import random\n",
        "import numpy.linalg as LA\n",
        "from tqdm import tqdm\n",
        "\n",
        "class RANSAC:\n",
        "    def __init__(self, basis_func, target_prob=0.9999):\n",
        "        # 関数: データ点 -> List[基底関数]\n",
        "        self.basis_func = basis_func\n",
        "        # RANSAC の目標成功確率\n",
        "        self.target_prob = target_prob\n",
        "\n",
        "    def fit(self, points):\n",
        "        xi_list = np.array([self.basis_func(point) for point in points])\n",
        "        mat_list = np.array([np.outer(xi, xi) for xi in xi_list])\n",
        "        mat = np.sum(mat_list, axis=0)\n",
        "\n",
        "        e_value, e_vec = LA.eigh(mat)\n",
        "        # 非負定値行列の固有値のため abs を取る必要はない\n",
        "        idx = np.argmin(e_value)\n",
        "        return e_vec[idx]\n",
        "\n",
        "    def jet_basis(self, point: np.ndarray) -> List[Jet]:\n",
        "        \"\"\"Jet 型の基底関数\n",
        "\n",
        "        :param point: データ値(規格化済)\n",
        "        :return:\n",
        "        \"\"\"\n",
        "        jets = [Jet(point[idx], np.eye(len(point))[idx])\n",
        "                for idx in range(len(point))]\n",
        "        basis_list = self.basis_func(jets)\n",
        "        return [basis + Jet(0, np.zeros_like(point)) for basis in basis_list]\n",
        "\n",
        "    def get_cov_mat(self, point: np.ndarray) -> np.ndarray:\n",
        "        \"\"\"正規化共分散行列\n",
        "\n",
        "        :param point: データ値(規格化済)\n",
        "        :return: 正規化共分散行列\n",
        "        \"\"\"\n",
        "        xi = self.jet_basis(point)\n",
        "        return np.array([[np.dot(xi[i].v, xi[j].v) for j in range(len(xi))] \n",
        "                         for i in range(len(xi))])\n",
        "        \n",
        "    def sampson_error(self, point: np.ndarray, params: np.ndarray):\n",
        "        cov_mat = self.get_cov_mat(point)\n",
        "        denominator = np.dot(params, cov_mat @ params)\n",
        "\n",
        "        xi = self.basis_func(point)\n",
        "        numerator = np.dot(xi, params) ** 2\n",
        "\n",
        "        return numerator/denominator if not np.isclose(denominator, 0) else np.inf\n",
        "\n",
        "    def criteria(self, inlier_prob: float, degree: int) -> int:\n",
        "        \"\"\"RANSAC の終了条件を計算\n",
        "\n",
        "        :param inlier_prob: inlier の割合/確率\n",
        "        :param degree: フィッティング次数/サンプル数\n",
        "        :return: RANSAC の反復回数の目安\n",
        "        \"\"\"\n",
        "        # zero division error 対策\n",
        "        return int(np.log(1-self.target_prob)/_) \\\n",
        "            if not np.isclose((_ := np.log(1-inlier_prob**degree)), 0) else 1e+5\n",
        "\n",
        "    def execute(self, points, distance_th=0.1):\n",
        "        data_num = points.shape[0]\n",
        "        # パラメータは規格化するのでその拘束条件で -1\n",
        "        degree = len(self.basis_func(points[0, :]))-1\n",
        "        # 最悪のケースとして inlier がデータの 1/10 と仮定\n",
        "        inlier_prob = 0.1\n",
        "        max_iteration = self.criteria(inlier_prob, degree)\n",
        "\n",
        "        iteration=0\n",
        "        best_inlier_bool = [False for _ in range(data_num)]\n",
        "        best_inlier_num = 0\n",
        "        best_params = []\n",
        "        with tqdm(total=max_iteration) as pbar:\n",
        "            while(iteration < max_iteration):\n",
        "                # ランダムサンプリング\n",
        "                rand_idx = random.sample(range(data_num), degree)\n",
        "                # フィッティング\n",
        "                params = self.fit(points[rand_idx, :])\n",
        "                distance_sq = np.array([self.sampson_error(point, params) for point in points])\n",
        "\n",
        "                # inlier 判定\n",
        "                inlier_bool = distance_sq < (distance_th ** 2)\n",
        "                inlier_num = np.sum(inlier_bool)\n",
        "\n",
        "                iteration += 1\n",
        "                pbar.update(1)\n",
        "\n",
        "                if inlier_num > best_inlier_num:\n",
        "                    best_inlier_bool = inlier_bool\n",
        "                    best_inlier_num = np.sum(best_inlier_bool)\n",
        "                    best_params = params\n",
        "                    # 繰り返し回数の再判定\n",
        "                    max_iteration = min(\n",
        "                        max_iteration, self.criteria(inlier_num/data_num, degree))\n",
        "                    pbar.total = max_iteration\n",
        "                    pbar.refresh()\n",
        "                    \n",
        "        # best_params = self.fit(points[best_inlier_bool, :])\n",
        "        return best_params, best_inlier_bool"
      ],
      "metadata": {
        "id": "L7GfvoV984Ck"
      },
      "execution_count": 22,
      "outputs": []
    },
    {
      "cell_type": "markdown",
      "source": [
        "### 線形フィッティング"
      ],
      "metadata": {
        "id": "KYrLF9HZ8Dfa"
      }
    },
    {
      "cell_type": "markdown",
      "source": [
        "実装の確認のために再度線形フィッティングを実施。\n",
        "上と同様にサンプルデータを生成。"
      ],
      "metadata": {
        "id": "esCawYft8J_j"
      }
    },
    {
      "cell_type": "code",
      "source": [
        "point_num: int = 1000\n",
        "\n",
        "errors = np.random.standard_cauchy(point_num)\n",
        "x = np.linspace(0, 10, point_num)\n",
        "y = x + errors / 10\n",
        "\n",
        "points = np.vstack([x, y]).T\n",
        "\n",
        "plt.scatter(x, y, s=0.5)\n",
        "plt.ylim(-1, 11)\n",
        "plt.show()"
      ],
      "metadata": {
        "id": "uFC1yvCK8FGi",
        "outputId": "76ff55b1-caa3-4b68-a681-69a20f5d27ff",
        "colab": {
          "base_uri": "https://localhost:8080/",
          "height": 265
        }
      },
      "execution_count": 23,
      "outputs": [
        {
          "output_type": "display_data",
          "data": {
            "text/plain": [
              "<Figure size 432x288 with 1 Axes>"
            ],
            "image/png": "[encoded data removed]"
          },
          "metadata": {
            "needs_background": "light"
          }
        }
      ]
    },
    {
      "cell_type": "code",
      "source": [
        "linear_estimator = RANSAC(linear_basis, target_prob=0.9999)\n",
        "params, inlier_bools = linear_estimator.execute(points, distance_th=0.2)\n",
        "\n",
        "print(f\"params={params}\")\n",
        "print(f\"inlier_ratio={np.sum(inlier_bools)/points.shape[0]}\")"
      ],
      "metadata": {
        "id": "lOmcd-lC8TnK",
        "outputId": "86ebe2a2-9ae0-4b85-fca8-f89ce3f765f5",
        "colab": {
          "base_uri": "https://localhost:8080/"
        }
      },
      "execution_count": 24,
      "outputs": [
        {
          "output_type": "stream",
          "name": "stderr",
          "text": [
            "116it [00:23,  4.91it/s]"
          ]
        },
        {
          "output_type": "stream",
          "name": "stdout",
          "text": [
            "params=[-0.64061927  0.71949594 -0.26820242]\n",
            "inlier_ratio=0.416\n"
          ]
        },
        {
          "output_type": "stream",
          "name": "stderr",
          "text": [
            "\n"
          ]
        }
      ]
    },
    {
      "cell_type": "markdown",
      "source": [
        "結果をプロット"
      ],
      "metadata": {
        "id": "2iso4Y-iijDL"
      }
    },
    {
      "cell_type": "code",
      "source": [
        "inlier_idx = np.arange(point_num)[inlier_bools]\n",
        "outlier_idx = np.arange(point_num)[~inlier_bools]\n",
        "\n",
        "plt.scatter(points[outlier_idx, 0], points[outlier_idx, 1], s=0.5, color=\"blue\")\n",
        "plt.scatter(points[inlier_idx, 0], points[inlier_idx, 1], s=0.5, color=\"orange\")\n",
        "\n",
        "plt.contour(*get_contour(linear_basis, points, params, 0.01), [0], colors=\"green\")\n",
        "plt.ylim(-1, 11)\n",
        "plt.show()"
      ],
      "metadata": {
        "colab": {
          "base_uri": "https://localhost:8080/",
          "height": 265
        },
        "id": "KEIrwlRTHjwG",
        "outputId": "b3c7a884-8d12-40ce-d2da-fd5bb9c0ad0b"
      },
      "execution_count": 25,
      "outputs": [
        {
          "output_type": "display_data",
          "data": {
            "text/plain": [
              "<Figure size 432x288 with 1 Axes>"
            ],
            "image/png": "[encoded data removed]"
          },
          "metadata": {
            "needs_background": "light"
          }
        }
      ]
    },
    {
      "cell_type": "markdown",
      "source": [
        "### 2次曲線のフィッティング"
      ],
      "metadata": {
        "id": "Xhp2aqrm7_cT"
      }
    },
    {
      "cell_type": "markdown",
      "source": [
        "サンプルデータ生成\n"
      ],
      "metadata": {
        "id": "EWi5wcpuWlrE"
      }
    },
    {
      "cell_type": "code",
      "source": [
        "# データ中心\n",
        "center = np.array([1, 2])\n",
        "# 回転角\n",
        "rad = np.deg2rad(-30)\n",
        "\n",
        "# 点数\n",
        "point_num = 500\n",
        "# 誤差\n",
        "errors = 0.03 * np.random.standard_cauchy((point_num, 2))\n",
        "# 媒介変数\n",
        "theta = np.linspace(0, 2*np.pi, point_num)\n",
        "x = center[0] + 3*np.cos(theta) + errors[:, 0]\n",
        "y = center[1] + 2*np.sin(theta) + errors[:, 1]\n",
        "\n",
        "points = np.vstack([x, y]).T\n",
        "# 回転行列\n",
        "rot_mat = np.array([[np.cos(rad), -np.sin(rad)], [np.sin(rad), np.cos(rad)]])\n",
        "points = points @ rot_mat\n",
        "\n",
        "plt.scatter(points[:, 0], points[:, 1], s=0.5)\n",
        "plt.xlim(-4, 4)\n",
        "plt.ylim(-2, 6)\n",
        "plt.show()"
      ],
      "metadata": {
        "id": "Gv-2_-_d1Y7E",
        "colab": {
          "base_uri": "https://localhost:8080/",
          "height": 269
        },
        "outputId": "3c392949-412a-4f74-c01c-246788e9f423"
      },
      "execution_count": 26,
      "outputs": [
        {
          "output_type": "display_data",
          "data": {
            "text/plain": [
              "<Figure size 432x288 with 1 Axes>"
            ],
            "image/png": "[encoded data removed]"
          },
          "metadata": {
            "needs_background": "light"
          }
        }
      ]
    },
    {
      "cell_type": "code",
      "source": [
        "quad_estimator = RANSAC(quad_basis, target_prob=0.9999)\n",
        "params, inlier_bools = quad_estimator.execute(points, distance_th=0.1)\n",
        "\n",
        "print(f\"params={params}\")\n",
        "print(f\"inlier_ratio={np.sum(inlier_bools)/points.shape[0]}\")"
      ],
      "metadata": {
        "id": "cuWJdj0PW-YF",
        "colab": {
          "base_uri": "https://localhost:8080/"
        },
        "outputId": "309ec8d0-fe5c-47e1-82a3-7f06f3835401"
      },
      "execution_count": null,
      "outputs": [
        {
          "output_type": "stream",
          "name": "stderr",
          "text": [
            "  0%|          | 259/100000.0 [00:58<6:03:18,  4.58it/s]"
          ]
        }
      ]
    },
    {
      "cell_type": "code",
      "source": [
        "inlier_idx = np.arange(point_num)[inlier_bools]\n",
        "outlier_idx = np.arange(point_num)[~inlier_bools]\n",
        "\n",
        "plt.scatter(points[outlier_idx, 0], points[outlier_idx, 1], s=0.5, color=\"blue\")\n",
        "plt.scatter(points[inlier_idx, 0], points[inlier_idx, 1], s=0.5, color=\"orange\")\n",
        "\n",
        "plt.contour(*get_contour(quad_basis, points, params, 0.01), [0], colors=\"green\")\n",
        "plt.xlim(-4, 4)\n",
        "plt.ylim(-1, 6)\n",
        "plt.show()"
      ],
      "metadata": {
        "id": "g4mjRuVhp-h_"
      },
      "execution_count": null,
      "outputs": []
    },
    {
      "cell_type": "code",
      "source": [],
      "metadata": {
        "id": "XXZJaebEA7nP"
      },
      "execution_count": null,
      "outputs": []
    }
  ]
}