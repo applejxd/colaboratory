{
  "nbformat": 4,
  "nbformat_minor": 0,
  "metadata": {
    "colab": {
      "provenance": [],
      "authorship_tag": "ABX9TyMp2WMy0pXAonyQGJ+xmBz1",
      "include_colab_link": true
    },
    "kernelspec": {
      "name": "python3",
      "display_name": "Python 3"
    },
    "language_info": {
      "name": "python"
    }
  },
  "cells": [
    {
      "cell_type": "markdown",
      "metadata": {
        "id": "view-in-github",
        "colab_type": "text"
      },
      "source": [
        "<a href=\"https://colab.research.google.com/github/applejxd/colaboratory/blob/master/algorithm/RANSAC.ipynb\" target=\"_parent\"><img src=\"https://colab.research.google.com/assets/colab-badge.svg\" alt=\"Open In Colab\"/></a>"
      ]
    },
    {
      "cell_type": "markdown",
      "source": [
        "## 直線フィッティング"
      ],
      "metadata": {
        "id": "lds28Hjbk9gX"
      }
    },
    {
      "cell_type": "markdown",
      "source": [
        "誤差分布は外れ値が大きいコーシー分布"
      ],
      "metadata": {
        "id": "S9Uol1SGbVqD"
      }
    },
    {
      "cell_type": "code",
      "execution_count": 42,
      "metadata": {
        "colab": {
          "base_uri": "https://localhost:8080/",
          "height": 265
        },
        "id": "JZXroLSDN5Ty",
        "outputId": "4c5748f4-b618-4b78-cbcf-eee996ea8d85"
      },
      "outputs": [
        {
          "output_type": "display_data",
          "data": {
            "text/plain": [
              "<Figure size 432x288 with 1 Axes>"
            ],
            "image/png": "[encoded data removed]"
          },
          "metadata": {
            "needs_background": "light"
          }
        }
      ],
      "source": [
        "import numpy as np\n",
        "import matplotlib.pyplot as plt\n",
        "\n",
        "def cauchy(x: np.ndarray):\n",
        "    return 1/np.pi/(1+x*x)\n",
        "\n",
        "x = np.linspace(-5, 5, 100)\n",
        "y = cauchy(x)\n",
        "\n",
        "plt.plot(x, y)\n",
        "plt.show()"
      ]
    },
    {
      "cell_type": "markdown",
      "source": [
        "サンプルデータ生成"
      ],
      "metadata": {
        "id": "xqMf_WTtbeak"
      }
    },
    {
      "cell_type": "code",
      "source": [
        "point_num: int = 1000\n",
        "\n",
        "errors = np.random.standard_cauchy(point_num)\n",
        "x = np.linspace(0, 10, point_num)\n",
        "y = x + errors / 10\n",
        "\n",
        "points = np.vstack([x, y]).T\n",
        "\n",
        "plt.scatter(x, y, s=0.5)\n",
        "plt.ylim(-1, 11)\n",
        "plt.show()"
      ],
      "metadata": {
        "colab": {
          "base_uri": "https://localhost:8080/",
          "height": 265
        },
        "id": "1gK6AD90OqIg",
        "outputId": "60b13dd4-551e-4635-fc5e-cfcee2190be7"
      },
      "execution_count": 43,
      "outputs": [
        {
          "output_type": "display_data",
          "data": {
            "text/plain": [
              "<Figure size 432x288 with 1 Axes>"
            ],
            "image/png": "[encoded data removed]"
          },
          "metadata": {
            "needs_background": "light"
          }
        }
      ]
    },
    {
      "cell_type": "markdown",
      "source": [
        "iteration の回数の目安は以下の通り：\n",
        "\n",
        "1. データ分布から、1回のサンプリングで inlier を引き当てる確率 $e$ を仮定\n",
        "2. 1回の試行でのサンプル数を $n$ とすると、それらのサンプルが全て inlier である確率は $e^n$\n",
        "3. 一方で$N$回の試行で 2. が1回も生じない場合(RANSAC が失敗する場合)の確率は$(1-e^n)^N$\n",
        "4. つまり RANSAC をほぼ確実(確率$p\\sim1$)で成功させたい場合は\n",
        "\\begin{equation}\n",
        "1-p=(1-e^n)^N⇔N=\\frac{\\ln(1-p)}{\\ln(1-e^n)}\n",
        "\\end{equation}\n",
        "くらいの$N$に設定して反復する。\n",
        "4. 更に早期終了を目指す場合は、最大の inlier 数更新のタイミングで $e\\sim$  (inlier とした数)/(データ数) として$N$を更新"
      ],
      "metadata": {
        "id": "iKd8qPKLaTgo"
      }
    },
    {
      "cell_type": "code",
      "source": [
        "# データの目視確認より 9/10 は対象データと想定\n",
        "e = 9/10\n",
        "# 直線のパラメータは2個 → サンプリング数は2個で十分\n",
        "n = 2\n",
        "# 99.99% の確率で RANSAC を成功させる\n",
        "p = 0.9999\n",
        "# zero division error 対策\n",
        "max_iteration = int(np.log(1-p)/_) if not np.isclose((_ := np.log(1-e**n)), 0) else 1e+5\n",
        "\n",
        "print(max_iteration)"
      ],
      "metadata": {
        "id": "iLFiobqtaUHH",
        "outputId": "91b41330-5c9d-4475-f515-5f90b5ae51f1",
        "colab": {
          "base_uri": "https://localhost:8080/"
        }
      },
      "execution_count": 44,
      "outputs": [
        {
          "output_type": "stream",
          "name": "stdout",
          "text": [
            "5\n"
          ]
        }
      ]
    },
    {
      "cell_type": "markdown",
      "source": [
        "乱数生成"
      ],
      "metadata": {
        "id": "qSjDSz45WusQ"
      }
    },
    {
      "cell_type": "code",
      "source": [
        "index_mat = np.random.randint(0, point_num, (max_iteration, 2))\n",
        "print(index_mat)"
      ],
      "metadata": {
        "colab": {
          "base_uri": "https://localhost:8080/"
        },
        "id": "JmbKA5NhO8WF",
        "outputId": "1a395e0a-3306-47e1-c81e-0a2d7571fa04"
      },
      "execution_count": 45,
      "outputs": [
        {
          "output_type": "stream",
          "name": "stdout",
          "text": [
            "[[461 924]\n",
            " [495 869]\n",
            " [475 322]\n",
            " [482 940]\n",
            " [951 187]]\n"
          ]
        }
      ]
    },
    {
      "cell_type": "markdown",
      "source": [
        "ランダムサンプリング"
      ],
      "metadata": {
        "id": "6SlTwUDyWZ5E"
      }
    },
    {
      "cell_type": "code",
      "source": [
        "np.array([x[index_mat], y[index_mat]]).shape"
      ],
      "metadata": {
        "colab": {
          "base_uri": "https://localhost:8080/"
        },
        "id": "SlAj6mcA2EnG",
        "outputId": "fab89cd0-b9a9-4b27-e1c2-2cfe57de39cf"
      },
      "execution_count": 46,
      "outputs": [
        {
          "output_type": "execute_result",
          "data": {
            "text/plain": [
              "(2, 5, 2)"
            ]
          },
          "metadata": {},
          "execution_count": 46
        }
      ]
    },
    {
      "cell_type": "code",
      "source": [
        "# 転置前の成分数は (axis, trials, points)\n",
        "# 転置後の成分数は (trials, points, axis)\n",
        "samples_tensor = np.array([x[index_mat], y[index_mat]]).transpose(1, 2, 0)\n",
        "\n",
        "print(samples_tensor.shape)\n",
        "print(samples_tensor)"
      ],
      "metadata": {
        "colab": {
          "base_uri": "https://localhost:8080/"
        },
        "id": "AIv8LkkGVLHe",
        "outputId": "18ff8458-0422-46db-9815-05360ac31466"
      },
      "execution_count": 47,
      "outputs": [
        {
          "output_type": "stream",
          "name": "stdout",
          "text": [
            "(5, 2, 2)\n",
            "[[[ 4.61461461  4.53407636]\n",
            "  [ 9.24924925  9.2183145 ]]\n",
            "\n",
            " [[ 4.95495495  5.04069661]\n",
            "  [ 8.6986987   8.81414208]]\n",
            "\n",
            " [[ 4.75475475  4.52599911]\n",
            "  [ 3.22322322  3.23269105]]\n",
            "\n",
            " [[ 4.82482482  4.95265298]\n",
            "  [ 9.40940941  9.56258389]]\n",
            "\n",
            " [[ 9.51951952 18.80421025]\n",
            "  [ 1.87187187  1.90024839]]]\n"
          ]
        }
      ]
    },
    {
      "cell_type": "markdown",
      "source": [
        "傾きと切片計算"
      ],
      "metadata": {
        "id": "04Vi6Q42WysY"
      }
    },
    {
      "cell_type": "code",
      "source": [
        "params_tensor = np.array([np.polyfit(sample[:, 0], sample[:, 1], 1) \n",
        "                          for sample in samples_tensor])"
      ],
      "metadata": {
        "id": "bMS8ApJ4ViFQ"
      },
      "execution_count": 48,
      "outputs": []
    },
    {
      "cell_type": "markdown",
      "source": [
        "inlier の数を計算 → 最も良い候補を選択"
      ],
      "metadata": {
        "id": "UWppNTAra4pS"
      }
    },
    {
      "cell_type": "code",
      "source": [
        "def polynomial(params, points):\n",
        "    max_degree = len(params)\n",
        "    # shape=(params, points)\n",
        "    terms = np.array([params[degree] * points[:, 0] ** (max_degree - degree - 1)\n",
        "                      for degree in range(max_degree)])\n",
        "    return np.sum(terms, axis=0)\n",
        "\n",
        "def get_distances(params, points):\n",
        "    y_est = polynomial(params, points)\n",
        "    distances = np.abs(points[:, 1] - y_est)\n",
        "    return distances\n",
        "\n",
        "distances_tensor = np.array([\n",
        "    get_distances(params, points) for params in params_tensor])\n",
        "\n",
        "distance_th = 0.3\n",
        "inlier_bool_tensor = np.array([\n",
        "    distances < distance_th\n",
        "    for distances in distances_tensor\n",
        "])\n",
        "inlier_num_array = np.array([\n",
        "    np.sum(inlier_bool)\n",
        "    for inlier_bool in inlier_bool_tensor\n",
        "])\n",
        "\n",
        "best_idx = np.argmax(inlier_num_array)\n",
        "print(best_idx)"
      ],
      "metadata": {
        "colab": {
          "base_uri": "https://localhost:8080/"
        },
        "id": "fiKCLkDYWMxA",
        "outputId": "6fea1c50-6324-4f35-e9da-b6e5c7255ada"
      },
      "execution_count": 49,
      "outputs": [
        {
          "output_type": "stream",
          "name": "stdout",
          "text": [
            "1\n"
          ]
        }
      ]
    },
    {
      "cell_type": "markdown",
      "source": [
        "結果を確認"
      ],
      "metadata": {
        "id": "kBJ98PrmlmNT"
      }
    },
    {
      "cell_type": "code",
      "source": [
        "params = params_tensor[best_idx]\n",
        "inlier_idx = np.arange(point_num)[inlier_bool_tensor[best_idx]]\n",
        "outlier_idx = np.arange(point_num)[~inlier_bool_tensor[best_idx]]\n",
        "\n",
        "plt.scatter(points[inlier_idx, 0], points[inlier_idx, 1], s=0.5, color=\"orange\")\n",
        "plt.scatter(points[outlier_idx, 0], points[outlier_idx, 1], s=0.5, color=\"blue\")\n",
        "\n",
        "plt.plot(points[:, 0], polynomial(params, points),\n",
        "         color=\"green\")\n",
        "plt.ylim(-1, 11)\n",
        "plt.show()"
      ],
      "metadata": {
        "colab": {
          "base_uri": "https://localhost:8080/",
          "height": 265
        },
        "id": "wmJZAasGXxA3",
        "outputId": "cdcd57fe-06d0-4263-f368-4848e484c5bc"
      },
      "execution_count": 50,
      "outputs": [
        {
          "output_type": "display_data",
          "data": {
            "text/plain": [
              "<Figure size 432x288 with 1 Axes>"
            ],
            "image/png": "[encoded data removed]"
          },
          "metadata": {
            "needs_background": "light"
          }
        }
      ]
    },
    {
      "cell_type": "markdown",
      "source": [
        "再フィッティング"
      ],
      "metadata": {
        "id": "BuKZHktZlo7h"
      }
    },
    {
      "cell_type": "code",
      "source": [
        "refined_params = np.polyfit(points[inlier_idx, 0], points[inlier_idx, 1], 1)\n",
        "\n",
        "plt.scatter(points[inlier_idx, 0], points[inlier_idx, 1], s=0.5, color=\"orange\")\n",
        "plt.scatter(points[outlier_idx, 0], points[outlier_idx, 1], s=0.5, color=\"blue\")\n",
        "\n",
        "plt.plot(points[:, 0], polynomial(refined_params, points), color=\"green\")\n",
        "plt.plot(points[:, 0], polynomial(refined_params, points), color=\"red\")\n",
        "plt.ylim(-1, 11)\n",
        "plt.show()"
      ],
      "metadata": {
        "id": "XmoHP_A_kyAr",
        "colab": {
          "base_uri": "https://localhost:8080/",
          "height": 265
        },
        "outputId": "c45019ca-6734-4961-873d-8e8a8dfdfe4d"
      },
      "execution_count": 51,
      "outputs": [
        {
          "output_type": "display_data",
          "data": {
            "text/plain": [
              "<Figure size 432x288 with 1 Axes>"
            ],
            "image/png": "[encoded data removed]"
          },
          "metadata": {
            "needs_background": "light"
          }
        }
      ]
    },
    {
      "cell_type": "markdown",
      "source": [
        "## 2次曲線フィッティング"
      ],
      "metadata": {
        "id": "sHikSqMfzEBw"
      }
    },
    {
      "cell_type": "code",
      "source": [
        "point_num: int = 1000\n",
        "\n",
        "errors = np.random.standard_cauchy(point_num)\n",
        "x = np.linspace(0, 10, point_num)\n",
        "y = x**2 + errors / 10\n",
        "\n",
        "points = np.vstack([x, y]).T\n",
        "\n",
        "plt.scatter(x, y, s=0.5)\n",
        "plt.xlim(0, 3.5)\n",
        "plt.ylim(-1, 11)\n",
        "plt.show()"
      ],
      "metadata": {
        "id": "LXT-Wez1zF5G",
        "outputId": "bfab6f70-6f7b-4902-ec12-a7b2fdada6fa",
        "colab": {
          "base_uri": "https://localhost:8080/",
          "height": 265
        }
      },
      "execution_count": 52,
      "outputs": [
        {
          "output_type": "display_data",
          "data": {
            "text/plain": [
              "<Figure size 432x288 with 1 Axes>"
            ],
            "image/png": "[encoded data removed]"
          },
          "metadata": {
            "needs_background": "light"
          }
        }
      ]
    },
    {
      "cell_type": "code",
      "source": [
        "e = 6/10\n",
        "n = 3\n",
        "p = 0.9999\n",
        "max_iteration = int(np.log(1-p)/_) if not np.isclose((_ := np.log(1-e**n)), 0) else 1e+5\n",
        "\n",
        "print(max_iteration)"
      ],
      "metadata": {
        "id": "HpkN8fVNavwT",
        "outputId": "90122bd2-0868-4f61-c478-229007e88676",
        "colab": {
          "base_uri": "https://localhost:8080/"
        }
      },
      "execution_count": 53,
      "outputs": [
        {
          "output_type": "stream",
          "name": "stdout",
          "text": [
            "37\n"
          ]
        }
      ]
    },
    {
      "cell_type": "code",
      "source": [
        "index_mat = np.random.randint(0, point_num, (max_iteration, 3))\n",
        "\n",
        "# 転置前の成分数は (axis, trials, points)\n",
        "# 転置後の成分数は (trials, points, axis)\n",
        "samples_tensor = np.array([x[index_mat], y[index_mat]]).transpose(1, 2, 0)\n",
        "print(samples_tensor.shape)"
      ],
      "metadata": {
        "id": "4wk4y_ShzXDy",
        "outputId": "61f7cdda-7690-4d7a-9741-3d60f10e278f",
        "colab": {
          "base_uri": "https://localhost:8080/"
        }
      },
      "execution_count": 54,
      "outputs": [
        {
          "output_type": "stream",
          "name": "stdout",
          "text": [
            "(37, 3, 2)\n"
          ]
        }
      ]
    },
    {
      "cell_type": "code",
      "source": [
        "params_tensor = np.array([\n",
        "    np.polyfit(sample[:, 0], sample[:, 1], 2)\n",
        "    for sample in samples_tensor])"
      ],
      "metadata": {
        "id": "LDojCLRi0Eba"
      },
      "execution_count": 55,
      "outputs": []
    },
    {
      "cell_type": "code",
      "source": [
        "def get_distances(params, points):\n",
        "    y_est =  params[0] * points[:, 0] **2 + params[1] * points[:, 0] + params[2]\n",
        "    distances = np.abs(points[:, 1] - y_est)\n",
        "    return distances\n",
        "\n",
        "distances_tensor = np.array([\n",
        "    get_distances(params, points) for params in params_tensor])\n",
        "\n",
        "distance_th = 0.3\n",
        "inlier_bool_tensor = np.array([\n",
        "    distances < distance_th\n",
        "    for distances in distances_tensor\n",
        "])\n",
        "inlier_num_array = np.array([\n",
        "    np.sum(inlier_bool)\n",
        "    for inlier_bool in inlier_bool_tensor\n",
        "])\n",
        "\n",
        "best_idx = np.argmax(inlier_num_array)\n",
        "print(best_idx)"
      ],
      "metadata": {
        "id": "F3NHjxXV0KJk",
        "colab": {
          "base_uri": "https://localhost:8080/"
        },
        "outputId": "a07e0c6e-247e-4bd5-e6a7-6012962699a5"
      },
      "execution_count": 56,
      "outputs": [
        {
          "output_type": "stream",
          "name": "stdout",
          "text": [
            "13\n"
          ]
        }
      ]
    },
    {
      "cell_type": "code",
      "source": [
        "params = params_tensor[best_idx]\n",
        "inlier_idx = np.arange(point_num)[inlier_bool_tensor[best_idx]]\n",
        "outlier_idx = np.arange(point_num)[~inlier_bool_tensor[best_idx]]\n",
        "\n",
        "plt.scatter(points[inlier_idx, 0], points[inlier_idx, 1], s=0.5, color=\"orange\")\n",
        "plt.scatter(points[outlier_idx, 0], points[outlier_idx, 1], s=0.5, color=\"blue\")\n",
        "\n",
        "y_est =  params[0] * points[:, 0] **2 + params[1] * points[:, 0] + params[2]\n",
        "plt.plot(points[:, 0], y_est, color=\"green\")\n",
        "plt.xlim(0, 3.5)\n",
        "plt.ylim(-1, 11)\n",
        "plt.show()"
      ],
      "metadata": {
        "id": "4UNzRuMD20XW",
        "outputId": "1ac272b8-4a9a-43f5-82ac-27c44e72c9ca",
        "colab": {
          "base_uri": "https://localhost:8080/",
          "height": 265
        }
      },
      "execution_count": 57,
      "outputs": [
        {
          "output_type": "display_data",
          "data": {
            "text/plain": [
              "<Figure size 432x288 with 1 Axes>"
            ],
            "image/png": "[encoded data removed]"
          },
          "metadata": {
            "needs_background": "light"
          }
        }
      ]
    },
    {
      "cell_type": "code",
      "source": [
        "refined_params = np.polyfit(points[inlier_idx, 0], points[inlier_idx, 1], 2)\n",
        "y_refined =  refined_params[0] * points[:, 0] **2 + params[1] * points[:, 0] + params[2]\n",
        "\n",
        "plt.scatter(points[inlier_idx, 0], points[inlier_idx, 1], s=0.5, color=\"orange\")\n",
        "plt.scatter(points[outlier_idx, 0], points[outlier_idx, 1], s=0.5, color=\"blue\")\n",
        "\n",
        "\n",
        "plt.plot(points[:, 0], polynomial(refined_params, points), color=\"green\")\n",
        "plt.plot(points[:, 0], polynomial(refined_params, points), color=\"red\")\n",
        "plt.xlim(0, 3.5)\n",
        "plt.ylim(-1, 11)\n",
        "plt.show()"
      ],
      "metadata": {
        "id": "VH_nOy3r3OTV",
        "outputId": "1ca2d963-a6ca-48f8-dd95-8053d712f530",
        "colab": {
          "base_uri": "https://localhost:8080/",
          "height": 265
        }
      },
      "execution_count": 58,
      "outputs": [
        {
          "output_type": "display_data",
          "data": {
            "text/plain": [
              "<Figure size 432x288 with 1 Axes>"
            ],
            "image/png": "[encoded data removed]"
          },
          "metadata": {
            "needs_background": "light"
          }
        }
      ]
    },
    {
      "cell_type": "code",
      "source": [],
      "metadata": {
        "id": "L7GfvoV984Ck"
      },
      "execution_count": 58,
      "outputs": []
    }
  ]
}