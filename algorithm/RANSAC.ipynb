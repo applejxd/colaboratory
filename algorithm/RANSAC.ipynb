{
  "nbformat": 4,
  "nbformat_minor": 0,
  "metadata": {
    "colab": {
      "provenance": [],
      "authorship_tag": "ABX9TyMcyg613Ez28+EigHIHBDmN",
      "include_colab_link": true
    },
    "kernelspec": {
      "name": "python3",
      "display_name": "Python 3"
    },
    "language_info": {
      "name": "python"
    }
  },
  "cells": [
    {
      "cell_type": "markdown",
      "metadata": {
        "id": "view-in-github",
        "colab_type": "text"
      },
      "source": [
        "<a href=\"https://colab.research.google.com/github/applejxd/colaboratory/blob/master/algorithm/RANSAC.ipynb\" target=\"_parent\"><img src=\"https://colab.research.google.com/assets/colab-badge.svg\" alt=\"Open In Colab\"/></a>"
      ]
    },
    {
      "cell_type": "markdown",
      "source": [
        "## 直線フィッティング"
      ],
      "metadata": {
        "id": "lds28Hjbk9gX"
      }
    },
    {
      "cell_type": "markdown",
      "source": [
        "誤差分布は外れ値が大きいコーシー分布"
      ],
      "metadata": {
        "id": "S9Uol1SGbVqD"
      }
    },
    {
      "cell_type": "code",
      "execution_count": 1,
      "metadata": {
        "id": "JZXroLSDN5Ty",
        "colab": {
          "base_uri": "https://localhost:8080/",
          "height": 265
        },
        "outputId": "df2d1be3-0186-4bfe-efde-db424c8c45cd"
      },
      "outputs": [
        {
          "output_type": "display_data",
          "data": {
            "text/plain": [
              "<Figure size 432x288 with 1 Axes>"
            ],
            "image/png": "[encoded data removed]"
          },
          "metadata": {
            "needs_background": "light"
          }
        }
      ],
      "source": [
        "import numpy as np\n",
        "import matplotlib.pyplot as plt\n",
        "\n",
        "def cauchy(x: np.ndarray):\n",
        "    return 1/np.pi/(1+x*x)\n",
        "\n",
        "x = np.linspace(-5, 5, 100)\n",
        "y = cauchy(x)\n",
        "\n",
        "plt.plot(x, y)\n",
        "plt.show()"
      ]
    },
    {
      "cell_type": "markdown",
      "source": [
        "サンプルデータ生成"
      ],
      "metadata": {
        "id": "xqMf_WTtbeak"
      }
    },
    {
      "cell_type": "code",
      "source": [
        "point_num: int = 1000\n",
        "\n",
        "errors = np.random.standard_cauchy(point_num)\n",
        "x = np.linspace(0, 10, point_num)\n",
        "y = x + errors / 10\n",
        "\n",
        "points = np.vstack([x, y]).T\n",
        "\n",
        "plt.scatter(x, y, s=0.5)\n",
        "plt.ylim(-1, 11)\n",
        "plt.show()"
      ],
      "metadata": {
        "id": "1gK6AD90OqIg",
        "colab": {
          "base_uri": "https://localhost:8080/",
          "height": 265
        },
        "outputId": "846c1a12-239a-46ec-e03e-e08231604a89"
      },
      "execution_count": 2,
      "outputs": [
        {
          "output_type": "display_data",
          "data": {
            "text/plain": [
              "<Figure size 432x288 with 1 Axes>"
            ],
            "image/png": "[encoded data removed]"
          },
          "metadata": {
            "needs_background": "light"
          }
        }
      ]
    },
    {
      "cell_type": "markdown",
      "source": [
        "iteration の回数の目安は以下の通り：\n",
        "\n",
        "1. データ分布から、1回のサンプリングで inlier を引き当てる確率 $e$ を仮定\n",
        "2. 1回の試行でのサンプル数を $n$ とすると、それらのサンプルが全て inlier である確率は $e^n$\n",
        "3. 一方で$N$回の試行で 2. が1回も生じない場合(RANSAC が失敗する場合)の確率は$(1-e^n)^N$\n",
        "4. つまり RANSAC をほぼ確実(確率$p\\sim1$)で成功させたい場合は\n",
        "\\begin{equation}\n",
        "1-p=(1-e^n)^N⇔N=\\frac{\\ln(1-p)}{\\ln(1-e^n)}\n",
        "\\end{equation}\n",
        "くらいの$N$に設定して反復する。\n",
        "4. 更に早期終了を目指す場合は、最大の inlier 数更新のタイミングで $e\\sim$  (inlier とした数)/(データ数) として$N$を更新"
      ],
      "metadata": {
        "id": "iKd8qPKLaTgo"
      }
    },
    {
      "cell_type": "code",
      "source": [
        "# データの目視確認より 9/10 は対象データと想定\n",
        "e = 9/10\n",
        "# 直線のパラメータは2個 → サンプリング数は2個で十分\n",
        "n = 2\n",
        "# 99.99% の確率で RANSAC を成功させる\n",
        "p = 0.9999\n",
        "# zero division error 対策\n",
        "max_iteration = int(np.log(1-p)/_) if not np.isclose((_ := np.log(1-e**n)), 0) else 1e+5\n",
        "\n",
        "print(max_iteration)"
      ],
      "metadata": {
        "id": "iLFiobqtaUHH",
        "colab": {
          "base_uri": "https://localhost:8080/"
        },
        "outputId": "c511c162-02ca-4540-caba-e5adc1f03860"
      },
      "execution_count": 3,
      "outputs": [
        {
          "output_type": "stream",
          "name": "stdout",
          "text": [
            "5\n"
          ]
        }
      ]
    },
    {
      "cell_type": "markdown",
      "source": [
        "乱数生成"
      ],
      "metadata": {
        "id": "qSjDSz45WusQ"
      }
    },
    {
      "cell_type": "code",
      "source": [
        "index_mat = np.random.randint(0, point_num, (max_iteration, 2))\n",
        "print(index_mat)"
      ],
      "metadata": {
        "id": "JmbKA5NhO8WF",
        "colab": {
          "base_uri": "https://localhost:8080/"
        },
        "outputId": "871a9f6e-2a73-404d-9ee4-4ff738a34551"
      },
      "execution_count": 4,
      "outputs": [
        {
          "output_type": "stream",
          "name": "stdout",
          "text": [
            "[[382 444]\n",
            " [643 138]\n",
            " [686  83]\n",
            " [202 540]\n",
            " [654 581]]\n"
          ]
        }
      ]
    },
    {
      "cell_type": "markdown",
      "source": [
        "ランダムサンプリング"
      ],
      "metadata": {
        "id": "6SlTwUDyWZ5E"
      }
    },
    {
      "cell_type": "code",
      "source": [
        "np.array([x[index_mat], y[index_mat]]).shape"
      ],
      "metadata": {
        "id": "SlAj6mcA2EnG",
        "colab": {
          "base_uri": "https://localhost:8080/"
        },
        "outputId": "4a7b585f-9893-4fd5-856f-ad3a27396d8e"
      },
      "execution_count": 5,
      "outputs": [
        {
          "output_type": "execute_result",
          "data": {
            "text/plain": [
              "(2, 5, 2)"
            ]
          },
          "metadata": {},
          "execution_count": 5
        }
      ]
    },
    {
      "cell_type": "code",
      "source": [
        "# 転置前の成分数は (axis, trials, points)\n",
        "# 転置後の成分数は (trials, points, axis)\n",
        "samples_tensor = np.array([x[index_mat], y[index_mat]]).transpose(1, 2, 0)\n",
        "\n",
        "print(samples_tensor.shape)\n",
        "print(samples_tensor)"
      ],
      "metadata": {
        "id": "AIv8LkkGVLHe",
        "colab": {
          "base_uri": "https://localhost:8080/"
        },
        "outputId": "972609bb-e680-4341-f1b2-ff3aa57ff5fb"
      },
      "execution_count": 6,
      "outputs": [
        {
          "output_type": "stream",
          "name": "stdout",
          "text": [
            "(5, 2, 2)\n",
            "[[[3.82382382 3.88955392]\n",
            "  [4.44444444 4.09094769]]\n",
            "\n",
            " [[6.43643644 6.36306559]\n",
            "  [1.38138138 1.05464862]]\n",
            "\n",
            " [[6.86686687 7.00697483]\n",
            "  [0.83083083 0.90917842]]\n",
            "\n",
            " [[2.02202202 1.95264511]\n",
            "  [5.40540541 5.51115787]]\n",
            "\n",
            " [[6.54654655 6.54259987]\n",
            "  [5.81581582 6.00092476]]]\n"
          ]
        }
      ]
    },
    {
      "cell_type": "markdown",
      "source": [
        "傾きと切片計算"
      ],
      "metadata": {
        "id": "04Vi6Q42WysY"
      }
    },
    {
      "cell_type": "code",
      "source": [
        "params_tensor = np.array([np.polyfit(sample[:, 0], sample[:, 1], 1) \n",
        "                          for sample in samples_tensor])"
      ],
      "metadata": {
        "id": "bMS8ApJ4ViFQ"
      },
      "execution_count": 7,
      "outputs": []
    },
    {
      "cell_type": "markdown",
      "source": [
        "inlier の数を計算 → 最も良い候補を選択"
      ],
      "metadata": {
        "id": "UWppNTAra4pS"
      }
    },
    {
      "cell_type": "code",
      "source": [
        "def polynomial(params, points):\n",
        "    max_degree = len(params)\n",
        "    # shape=(params, points)\n",
        "    terms = np.array([params[degree] * points[:, 0] ** (max_degree - degree - 1)\n",
        "                      for degree in range(max_degree)])\n",
        "    return np.sum(terms, axis=0)\n",
        "\n",
        "def get_distances(params, points):\n",
        "    y_est = polynomial(params, points)\n",
        "    distances = np.abs(points[:, 1] - y_est)\n",
        "    return distances\n",
        "\n",
        "distances_tensor = np.array([\n",
        "    get_distances(params, points) for params in params_tensor])\n",
        "\n",
        "distance_th = 0.3\n",
        "inlier_bool_tensor = np.array([\n",
        "    distances < distance_th\n",
        "    for distances in distances_tensor\n",
        "])\n",
        "inlier_num_array = np.array([\n",
        "    np.sum(inlier_bool)\n",
        "    for inlier_bool in inlier_bool_tensor\n",
        "])\n",
        "\n",
        "best_idx = np.argmax(inlier_num_array)\n",
        "print(best_idx)"
      ],
      "metadata": {
        "id": "fiKCLkDYWMxA",
        "colab": {
          "base_uri": "https://localhost:8080/"
        },
        "outputId": "8f019bd7-480b-4f59-d4bd-9ac13d24c0dd"
      },
      "execution_count": 8,
      "outputs": [
        {
          "output_type": "stream",
          "name": "stdout",
          "text": [
            "2\n"
          ]
        }
      ]
    },
    {
      "cell_type": "markdown",
      "source": [
        "結果を確認"
      ],
      "metadata": {
        "id": "kBJ98PrmlmNT"
      }
    },
    {
      "cell_type": "code",
      "source": [
        "params = params_tensor[best_idx]\n",
        "inlier_idx = np.arange(point_num)[inlier_bool_tensor[best_idx]]\n",
        "outlier_idx = np.arange(point_num)[~inlier_bool_tensor[best_idx]]\n",
        "\n",
        "plt.scatter(points[inlier_idx, 0], points[inlier_idx, 1], s=0.5, color=\"orange\")\n",
        "plt.scatter(points[outlier_idx, 0], points[outlier_idx, 1], s=0.5, color=\"blue\")\n",
        "\n",
        "plt.plot(points[:, 0], polynomial(params, points),\n",
        "         color=\"green\")\n",
        "plt.ylim(-1, 11)\n",
        "plt.show()"
      ],
      "metadata": {
        "id": "wmJZAasGXxA3",
        "colab": {
          "base_uri": "https://localhost:8080/",
          "height": 265
        },
        "outputId": "fbdddd6d-ea8f-4369-cc1b-cc3846f78965"
      },
      "execution_count": 9,
      "outputs": [
        {
          "output_type": "display_data",
          "data": {
            "text/plain": [
              "<Figure size 432x288 with 1 Axes>"
            ],
            "image/png": "[encoded data removed]"
          },
          "metadata": {
            "needs_background": "light"
          }
        }
      ]
    },
    {
      "cell_type": "markdown",
      "source": [
        "再フィッティング"
      ],
      "metadata": {
        "id": "BuKZHktZlo7h"
      }
    },
    {
      "cell_type": "code",
      "source": [
        "refined_params = np.polyfit(points[inlier_idx, 0], points[inlier_idx, 1], 1)\n",
        "\n",
        "plt.scatter(points[inlier_idx, 0], points[inlier_idx, 1], s=0.5, color=\"orange\")\n",
        "plt.scatter(points[outlier_idx, 0], points[outlier_idx, 1], s=0.5, color=\"blue\")\n",
        "\n",
        "plt.plot(points[:, 0], polynomial(refined_params, points), color=\"green\")\n",
        "plt.plot(points[:, 0], polynomial(refined_params, points), color=\"red\")\n",
        "plt.ylim(-1, 11)\n",
        "plt.show()"
      ],
      "metadata": {
        "id": "XmoHP_A_kyAr",
        "colab": {
          "base_uri": "https://localhost:8080/",
          "height": 265
        },
        "outputId": "7025d86c-233a-4daa-ea39-55a64f9a6553"
      },
      "execution_count": 10,
      "outputs": [
        {
          "output_type": "display_data",
          "data": {
            "text/plain": [
              "<Figure size 432x288 with 1 Axes>"
            ],
            "image/png": "[encoded data removed]"
          },
          "metadata": {
            "needs_background": "light"
          }
        }
      ]
    },
    {
      "cell_type": "markdown",
      "source": [
        "## 2次曲線フィッティング"
      ],
      "metadata": {
        "id": "sHikSqMfzEBw"
      }
    },
    {
      "cell_type": "code",
      "source": [
        "point_num: int = 1000\n",
        "\n",
        "errors = np.random.standard_cauchy(point_num)\n",
        "x = np.linspace(0, 10, point_num)\n",
        "y = x**2 + errors / 10\n",
        "\n",
        "points = np.vstack([x, y]).T\n",
        "\n",
        "plt.scatter(x, y, s=0.5)\n",
        "plt.xlim(0, 3.5)\n",
        "plt.ylim(-1, 11)\n",
        "plt.show()"
      ],
      "metadata": {
        "id": "LXT-Wez1zF5G",
        "colab": {
          "base_uri": "https://localhost:8080/",
          "height": 265
        },
        "outputId": "b570c758-0c07-4abb-ac84-699bc02f9f9b"
      },
      "execution_count": 11,
      "outputs": [
        {
          "output_type": "display_data",
          "data": {
            "text/plain": [
              "<Figure size 432x288 with 1 Axes>"
            ],
            "image/png": "[encoded data removed]"
          },
          "metadata": {
            "needs_background": "light"
          }
        }
      ]
    },
    {
      "cell_type": "code",
      "source": [
        "e = 6/10\n",
        "n = 3\n",
        "p = 0.9999\n",
        "max_iteration = int(np.log(1-p)/_) if not np.isclose((_ := np.log(1-e**n)), 0) else 1e+5\n",
        "\n",
        "print(max_iteration)"
      ],
      "metadata": {
        "id": "HpkN8fVNavwT",
        "colab": {
          "base_uri": "https://localhost:8080/"
        },
        "outputId": "722d9bd4-088b-4b6a-b2e3-310e45b6ed73"
      },
      "execution_count": 12,
      "outputs": [
        {
          "output_type": "stream",
          "name": "stdout",
          "text": [
            "37\n"
          ]
        }
      ]
    },
    {
      "cell_type": "code",
      "source": [
        "index_mat = np.random.randint(0, point_num, (max_iteration, 3))\n",
        "\n",
        "# 転置前の成分数は (axis, trials, points)\n",
        "# 転置後の成分数は (trials, points, axis)\n",
        "samples_tensor = np.array([x[index_mat], y[index_mat]]).transpose(1, 2, 0)\n",
        "print(samples_tensor.shape)"
      ],
      "metadata": {
        "id": "4wk4y_ShzXDy",
        "colab": {
          "base_uri": "https://localhost:8080/"
        },
        "outputId": "f6b79395-6028-4931-d0e1-8caecf1a98e7"
      },
      "execution_count": 13,
      "outputs": [
        {
          "output_type": "stream",
          "name": "stdout",
          "text": [
            "(37, 3, 2)\n"
          ]
        }
      ]
    },
    {
      "cell_type": "code",
      "source": [
        "params_tensor = np.array([\n",
        "    np.polyfit(sample[:, 0], sample[:, 1], 2)\n",
        "    for sample in samples_tensor])"
      ],
      "metadata": {
        "id": "LDojCLRi0Eba"
      },
      "execution_count": 14,
      "outputs": []
    },
    {
      "cell_type": "code",
      "source": [
        "def get_distances(params, points):\n",
        "    y_est =  params[0] * points[:, 0] **2 + params[1] * points[:, 0] + params[2]\n",
        "    distances = np.abs(points[:, 1] - y_est)\n",
        "    return distances\n",
        "\n",
        "distances_tensor = np.array([\n",
        "    get_distances(params, points) for params in params_tensor])\n",
        "\n",
        "distance_th = 0.3\n",
        "inlier_bool_tensor = np.array([\n",
        "    distances < distance_th\n",
        "    for distances in distances_tensor\n",
        "])\n",
        "inlier_num_array = np.array([\n",
        "    np.sum(inlier_bool)\n",
        "    for inlier_bool in inlier_bool_tensor\n",
        "])\n",
        "\n",
        "best_idx = np.argmax(inlier_num_array)\n",
        "print(best_idx)"
      ],
      "metadata": {
        "id": "F3NHjxXV0KJk",
        "colab": {
          "base_uri": "https://localhost:8080/"
        },
        "outputId": "866032be-4374-4197-95b5-65ff73703c91"
      },
      "execution_count": 15,
      "outputs": [
        {
          "output_type": "stream",
          "name": "stdout",
          "text": [
            "19\n"
          ]
        }
      ]
    },
    {
      "cell_type": "code",
      "source": [
        "params = params_tensor[best_idx]\n",
        "inlier_idx = np.arange(point_num)[inlier_bool_tensor[best_idx]]\n",
        "outlier_idx = np.arange(point_num)[~inlier_bool_tensor[best_idx]]\n",
        "\n",
        "plt.scatter(points[inlier_idx, 0], points[inlier_idx, 1], s=0.5, color=\"orange\")\n",
        "plt.scatter(points[outlier_idx, 0], points[outlier_idx, 1], s=0.5, color=\"blue\")\n",
        "\n",
        "y_est =  params[0] * points[:, 0] **2 + params[1] * points[:, 0] + params[2]\n",
        "plt.plot(points[:, 0], y_est, color=\"green\")\n",
        "plt.xlim(0, 3.5)\n",
        "plt.ylim(-1, 11)\n",
        "plt.show()"
      ],
      "metadata": {
        "id": "4UNzRuMD20XW",
        "colab": {
          "base_uri": "https://localhost:8080/",
          "height": 265
        },
        "outputId": "83a04bf2-32a4-463d-c799-03dcdb676063"
      },
      "execution_count": 16,
      "outputs": [
        {
          "output_type": "display_data",
          "data": {
            "text/plain": [
              "<Figure size 432x288 with 1 Axes>"
            ],
            "image/png": "[encoded data removed]"
          },
          "metadata": {
            "needs_background": "light"
          }
        }
      ]
    },
    {
      "cell_type": "code",
      "source": [
        "refined_params = np.polyfit(points[inlier_idx, 0], points[inlier_idx, 1], 2)\n",
        "y_refined =  refined_params[0] * points[:, 0] **2 + params[1] * points[:, 0] + params[2]\n",
        "\n",
        "plt.scatter(points[inlier_idx, 0], points[inlier_idx, 1], s=0.5, color=\"orange\")\n",
        "plt.scatter(points[outlier_idx, 0], points[outlier_idx, 1], s=0.5, color=\"blue\")\n",
        "\n",
        "\n",
        "plt.plot(points[:, 0], polynomial(refined_params, points), color=\"green\")\n",
        "plt.plot(points[:, 0], polynomial(refined_params, points), color=\"red\")\n",
        "plt.xlim(0, 3.5)\n",
        "plt.ylim(-1, 11)\n",
        "plt.show()"
      ],
      "metadata": {
        "id": "VH_nOy3r3OTV",
        "colab": {
          "base_uri": "https://localhost:8080/",
          "height": 265
        },
        "outputId": "7ad59de8-f513-4051-afcb-40e620ef8126"
      },
      "execution_count": 17,
      "outputs": [
        {
          "output_type": "display_data",
          "data": {
            "text/plain": [
              "<Figure size 432x288 with 1 Axes>"
            ],
            "image/png": "[encoded data removed]"
          },
          "metadata": {
            "needs_background": "light"
          }
        }
      ]
    },
    {
      "cell_type": "markdown",
      "source": [
        "## 陰関数フィッティング"
      ],
      "metadata": {
        "id": "y-_k_MawoBNI"
      }
    },
    {
      "cell_type": "markdown",
      "source": [
        "### RANSAC クラスの作成"
      ],
      "metadata": {
        "id": "4mIagc147uaf"
      }
    },
    {
      "cell_type": "markdown",
      "source": [
        "自動微分を実施するための Jet を定義"
      ],
      "metadata": {
        "id": "30c6t_GmD3fT"
      }
    },
    {
      "cell_type": "code",
      "source": [
        "class Jet:\n",
        "    def __init__(self, a: float, v):\n",
        "        self.a = a\n",
        "        self.v = np.array(v)\n",
        "\n",
        "    def __str__(self):\n",
        "        return f\"{self.a}+{self.v}\"\n",
        "\n",
        "    def __add__(self, other):\n",
        "        if isinstance(other, (int, float)):\n",
        "            other = Jet(other, np.zeros(len(self.v)))\n",
        "        return Jet(self.a + other.a, self.v + other.v)\n",
        "\n",
        "    def __sub__(self, other):\n",
        "        if isinstance(other, (int, float)):\n",
        "            other = Jet(other, np.zeors(len(self.v)))\n",
        "        return Jet(self.a - other.a, self.v - other.v)\n",
        "    \n",
        "    def __mul__(self, other):\n",
        "        if isinstance(other, (int, float)):\n",
        "            other = Jet(other, np.zeros(len(self.v)))\n",
        "        return Jet(self.a * other.a, self.a * other.v + self.v * other.a)\n",
        "    \n",
        "    def __truediv__(self, other):\n",
        "        if isinstance(other, (int, float)):\n",
        "            other = Jet(other, np.zeros(len(self.v)))\n",
        "        return Jet(self.a / other.a, self.v / other.a - self.a * other.v / other.a ** 2)\n",
        "    \n",
        "    def __pow__(self, other):\n",
        "        if isinstance(other, (int, float)):\n",
        "            other = Jet(other, np.zeros(len(self.v)))\n",
        "        value = self.a ** other.a\n",
        "        base_diff = other.a * self.a ** (other.a - 1) * self.v\n",
        "        if np.isclose(self.a, 0):\n",
        "            exp_diff = 0\n",
        "        else:\n",
        "            exp_diff = value * other.v * np.log(np.abs(self.a))\n",
        "        return Jet(value, base_diff + exp_diff)\n",
        "\n",
        "    def __radd__(self, other):\n",
        "        return self.__add__(other)\n",
        "    \n",
        "    def __rsub__(self, other):\n",
        "        return self.__sub__(other)\n",
        "    \n",
        "    def __rmul__(self, other):\n",
        "        return self.__mul__(other)\n",
        "\n",
        "x = Jet(2, (3, 4))\n",
        "print(x.a)\n",
        "print(x.v)"
      ],
      "metadata": {
        "id": "eUJAgIaRDrxC",
        "colab": {
          "base_uri": "https://localhost:8080/"
        },
        "outputId": "4e1145a4-d257-4b53-c3b6-c47a680eca32"
      },
      "execution_count": 18,
      "outputs": [
        {
          "output_type": "stream",
          "name": "stdout",
          "text": [
            "2\n",
            "[3 4]\n"
          ]
        }
      ]
    },
    {
      "cell_type": "markdown",
      "source": [
        "基底関数を定義"
      ],
      "metadata": {
        "id": "E9ECDW8zsSts"
      }
    },
    {
      "cell_type": "code",
      "source": [
        "def linear_basis(point):\n",
        "    x, y = point\n",
        "    return [x, y, 1]\n",
        "\n",
        "def poly_basis(point):\n",
        "    x, y = point\n",
        "    return [x**2, 2*x*y, y**2, 2*x, 2*y, 1]\n",
        "\n",
        "x = Jet(1, (1, 0))\n",
        "y = Jet(2, (0, 1))\n",
        "print(poly_basis((x, y))[1])"
      ],
      "metadata": {
        "id": "ln8X2XPwChMN",
        "colab": {
          "base_uri": "https://localhost:8080/"
        },
        "outputId": "773503ce-844d-4fc3-9bd9-6f1375229636"
      },
      "execution_count": 19,
      "outputs": [
        {
          "output_type": "stream",
          "name": "stdout",
          "text": [
            "4+[4. 2.]\n"
          ]
        }
      ]
    },
    {
      "cell_type": "markdown",
      "source": [
        "前セクションまでの処理を踏まえて、RANSAC を行うための一般的なクラスを定義する"
      ],
      "metadata": {
        "id": "cydSY9uboF-Z"
      }
    },
    {
      "cell_type": "code",
      "source": [
        "from typing import List\n",
        "import numpy.linalg as LA\n",
        "from tqdm import tqdm\n",
        "\n",
        "class RANSAC:\n",
        "    def __init__(self, basis_func, target_prob=0.9999):\n",
        "        # 関数: データ点 -> List[基底関数]\n",
        "        self.basis_func = basis_func\n",
        "        # RANSAC の目標成功確率\n",
        "        self.target_prob = target_prob\n",
        "\n",
        "    def fit(self, points):\n",
        "        xi_list = np.array([self.basis_func(point) for point in points])\n",
        "        mat_list = np.array([np.outer(xi, xi) for xi in xi_list])\n",
        "\n",
        "        e_value, e_vec = LA.eig(np.sum(mat_list, axis=0))\n",
        "        # 非負定値行列の固有値のため abs を取る必要はない\n",
        "        idx = np.argmin(e_value)\n",
        "        return e_vec[idx]\n",
        "\n",
        "    def jet_basis(self, point: np.ndarray) -> List[Jet]:\n",
        "        \"\"\"Jet 型の基底関数\n",
        "\n",
        "        :param point: データ値(規格化済)\n",
        "        :return:\n",
        "        \"\"\"\n",
        "        jets = [Jet(point[idx], np.eye(len(point))[idx])\n",
        "                for idx in range(len(point))]\n",
        "        basis_list = self.basis_func(jets)\n",
        "        return [basis + Jet(0, np.zeros_like(point)) for basis in basis_list]\n",
        "\n",
        "    def get_cov_mat(self, point: np.ndarray) -> np.ndarray:\n",
        "        \"\"\"正規化共分散行列\n",
        "\n",
        "        :param point: データ値(規格化済)\n",
        "        :return: 正規化共分散行列\n",
        "        \"\"\"\n",
        "        xi = self.jet_basis(point)\n",
        "        return np.array([[np.dot(xi[i].v, xi[j].v) for j in range(len(xi))] \n",
        "                         for i in range(len(xi))])\n",
        "        \n",
        "    def sampson_error(self, point: np.ndarray, params: np.ndarray):\n",
        "        cov_mat = self.get_cov_mat(point)\n",
        "        denominator = np.dot(params, cov_mat @ params)\n",
        "\n",
        "        xi = self.basis_func(point)\n",
        "        numerator = np.dot(xi, params) ** 2\n",
        "\n",
        "        return numerator/denominator if np.isclose(denominator, 0) else np.inf\n",
        "\n",
        "    def criteria(self, inlier_prob: float, degree: int) -> int:\n",
        "        \"\"\"RANSAC の終了条件を計算\n",
        "\n",
        "        :param inlier_prob: inlier の割合/確率\n",
        "        :param degree: フィッティング次数/サンプル数\n",
        "        :return: RANSAC の反復回数の目安\n",
        "        \"\"\"\n",
        "        # zero division error 対策\n",
        "        return int(np.log(1-self.target_prob)/_) \\\n",
        "            if not np.isclose((_ := np.log(1-inlier_prob**degree)), 0) else 1e+5\n",
        "\n",
        "    def execute(self, points, distance_th=0.3):\n",
        "        data_num = points.shape[0]\n",
        "        # パラメータは規格化するのでその拘束条件で -1\n",
        "        degree = len(self.basis_func(points[0, :]))-1\n",
        "        # 最悪のケースとして inlier がデータの 1/10 と仮定\n",
        "        inlier_prob = 0.1\n",
        "        max_iteration = self.criteria(inlier_prob, degree)\n",
        "\n",
        "        iteration=0\n",
        "        best_inlier_bool = [False for _ in range(data_num)]\n",
        "        best_inlier_num = 0\n",
        "\n",
        "        with tqdm(total=max_iteration) as pbar:\n",
        "            while(iteration < max_iteration):\n",
        "                # ランダムサンプリング\n",
        "                rand_idx = np.random.randint(0, point_num, degree)\n",
        "                # フィッティング\n",
        "                params = self.fit(points[rand_idx, :])\n",
        "                distances = np.array([self.sampson_error(point, params) for point in points])\n",
        "\n",
        "                # inlier 判定\n",
        "                inlier_bool = distances < distance_th                \n",
        "                inlier_num = np.sum(inlier_bool)\n",
        "\n",
        "                iteration += 1\n",
        "                pbar.update(1)\n",
        "\n",
        "                if inlier_num <= best_inlier_num: continue\n",
        "                best_inlier_bool = inlier_bool\n",
        "                # 繰り返し回数の再判定\n",
        "                max_iteration = min(\n",
        "                    max_iteration, self.criteria(inlier_num/data_num, degree))\n",
        "                pbar.total = max_iteration\n",
        "                pbar.refresh()\n",
        "                    \n",
        "        best_params = self.fit(points[best_inlier_bool, :])\n",
        "        return best_params"
      ],
      "metadata": {
        "id": "L7GfvoV984Ck"
      },
      "execution_count": 20,
      "outputs": []
    },
    {
      "cell_type": "markdown",
      "source": [
        "### 線形フィッティング"
      ],
      "metadata": {
        "id": "KYrLF9HZ8Dfa"
      }
    },
    {
      "cell_type": "markdown",
      "source": [
        "実装の確認のために再度線形フィッティングを実施。\n",
        "上と同様にサンプルデータを生成。"
      ],
      "metadata": {
        "id": "esCawYft8J_j"
      }
    },
    {
      "cell_type": "code",
      "source": [
        "point_num: int = 1000\n",
        "\n",
        "errors = np.random.standard_cauchy(point_num)\n",
        "x = np.linspace(0, 10, point_num)\n",
        "y = x + errors / 10\n",
        "\n",
        "points = np.vstack([x, y]).T\n",
        "\n",
        "plt.scatter(x, y, s=0.5)\n",
        "plt.ylim(-1, 11)\n",
        "plt.show()"
      ],
      "metadata": {
        "id": "uFC1yvCK8FGi",
        "outputId": "04706d75-95be-445d-ea3e-38648787ed9c",
        "colab": {
          "base_uri": "https://localhost:8080/",
          "height": 265
        }
      },
      "execution_count": 21,
      "outputs": [
        {
          "output_type": "display_data",
          "data": {
            "text/plain": [
              "<Figure size 432x288 with 1 Axes>"
            ],
            "image/png": "[encoded data removed]"
          },
          "metadata": {
            "needs_background": "light"
          }
        }
      ]
    },
    {
      "cell_type": "code",
      "source": [
        "linear_estimator = RANSAC(poly_basis, target_prob=0.9999)\n",
        "params = linear_estimator.execute(points)"
      ],
      "metadata": {
        "id": "lOmcd-lC8TnK",
        "outputId": "3b76a3a7-726f-429e-a8dd-2303bbf6b2a5",
        "colab": {
          "base_uri": "https://localhost:8080/"
        }
      },
      "execution_count": null,
      "outputs": [
        {
          "output_type": "stream",
          "name": "stderr",
          "text": [
            "  0%|          | 0/921029 [00:00<?, ?it/s]<ipython-input-18-75d7e11122ec>:35: RuntimeWarning: invalid value encountered in log\n",
            "  exp_diff = self.a ** other.a * np.log(self.a) * other.v if not np.isclose(self.a, 0) else 0\n",
            "  1%|          | 7111/921029 [40:59<84:30:05,  3.00it/s]"
          ]
        }
      ]
    },
    {
      "cell_type": "markdown",
      "source": [
        "### 2次曲線のフィッティング"
      ],
      "metadata": {
        "id": "Xhp2aqrm7_cT"
      }
    },
    {
      "cell_type": "markdown",
      "source": [
        "サンプルデータ生成\n"
      ],
      "metadata": {
        "id": "EWi5wcpuWlrE"
      }
    },
    {
      "cell_type": "code",
      "source": [
        "# データ中心\n",
        "center = np.array([1, 2])\n",
        "# 回転角\n",
        "rad = np.deg2rad(-30)\n",
        "\n",
        "# 点数\n",
        "point_num = 200\n",
        "# 誤差\n",
        "errors = 0.05 * np.random.standard_cauchy((point_num, 2))\n",
        "# 媒介変数\n",
        "theta = np.linspace(0, 2*np.pi, point_num)\n",
        "x = center[0] + 3*np.cos(theta) + errors[:, 0]\n",
        "y = center[1] + 2*np.sin(theta) + errors[:, 1]\n",
        "\n",
        "points = np.vstack([x, y]).T\n",
        "# 回転行列\n",
        "rot_mat = np.array([[np.cos(rad), -np.sin(rad)], [np.sin(rad), np.cos(rad)]])\n",
        "points = points @ rot_mat\n",
        "\n",
        "plt.scatter(points[:, 0], points[:, 1], s=0.5)\n",
        "plt.xlim(-4, 4)\n",
        "plt.ylim(-2, 6)\n",
        "plt.show()"
      ],
      "metadata": {
        "id": "Gv-2_-_d1Y7E"
      },
      "execution_count": null,
      "outputs": []
    },
    {
      "cell_type": "code",
      "source": [
        "estimator = RANSAC(poly_basis, target_prob=0.9999)\n",
        "params = estimator.execute(points)"
      ],
      "metadata": {
        "id": "cuWJdj0PW-YF"
      },
      "execution_count": null,
      "outputs": []
    },
    {
      "cell_type": "code",
      "source": [],
      "metadata": {
        "id": "g4mjRuVhp-h_"
      },
      "execution_count": null,
      "outputs": []
    }
  ]
}