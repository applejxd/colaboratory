{
  "nbformat": 4,
  "nbformat_minor": 0,
  "metadata": {
    "colab": {
      "provenance": [],
      "authorship_tag": "ABX9TyOhe7n2AT+TwoZ981Nd2Wm8",
      "include_colab_link": true
    },
    "kernelspec": {
      "name": "python3",
      "display_name": "Python 3"
    },
    "language_info": {
      "name": "python"
    }
  },
  "cells": [
    {
      "cell_type": "markdown",
      "metadata": {
        "id": "view-in-github",
        "colab_type": "text"
      },
      "source": [
        "<a href=\"https://colab.research.google.com/github/applejxd/colaboratory/blob/master/algorithm/RANSAC.ipynb\" target=\"_parent\"><img src=\"https://colab.research.google.com/assets/colab-badge.svg\" alt=\"Open In Colab\"/></a>"
      ]
    },
    {
      "cell_type": "markdown",
      "source": [
        "基本設定"
      ],
      "metadata": {
        "id": "lds28Hjbk9gX"
      }
    },
    {
      "cell_type": "code",
      "source": [
        "import matplotlib.pyplot as plt\n",
        "\n",
        "plt.figure(figsize=[10,10])"
      ],
      "metadata": {
        "colab": {
          "base_uri": "https://localhost:8080/",
          "height": 52
        },
        "id": "UZM_FRZxk_XW",
        "outputId": "34e6b48a-df6c-4d7c-cd22-bea818750948"
      },
      "execution_count": 11,
      "outputs": [
        {
          "output_type": "execute_result",
          "data": {
            "text/plain": [
              "<Figure size 720x720 with 0 Axes>"
            ]
          },
          "metadata": {},
          "execution_count": 11
        },
        {
          "output_type": "display_data",
          "data": {
            "text/plain": [
              "<Figure size 720x720 with 0 Axes>"
            ]
          },
          "metadata": {}
        }
      ]
    },
    {
      "cell_type": "markdown",
      "source": [
        "誤差分布は外れ値が大きいコーシー分布"
      ],
      "metadata": {
        "id": "S9Uol1SGbVqD"
      }
    },
    {
      "cell_type": "code",
      "execution_count": 12,
      "metadata": {
        "colab": {
          "base_uri": "https://localhost:8080/",
          "height": 265
        },
        "id": "JZXroLSDN5Ty",
        "outputId": "9bbdbdc1-15e0-4e55-e085-d01484930c7a"
      },
      "outputs": [
        {
          "output_type": "display_data",
          "data": {
            "text/plain": [
              "<Figure size 432x288 with 1 Axes>"
            ],
            "image/png": "[encoded data removed]"
          },
          "metadata": {
            "needs_background": "light"
          }
        }
      ],
      "source": [
        "import numpy as np\n",
        "\n",
        "def cauchy(x: np.ndarray):\n",
        "    return 1/np.pi/(1+x*x)\n",
        "\n",
        "x = np.linspace(-5, 5, 100)\n",
        "y = cauchy(x)\n",
        "\n",
        "plt.plot(x, y)\n",
        "plt.show()"
      ]
    },
    {
      "cell_type": "markdown",
      "source": [
        "サンプルデータ生成"
      ],
      "metadata": {
        "id": "xqMf_WTtbeak"
      }
    },
    {
      "cell_type": "code",
      "source": [
        "point_num: int = 1000\n",
        "\n",
        "errors = np.random.standard_cauchy(point_num)\n",
        "x = np.linspace(0, 10, point_num)\n",
        "y = x + errors / 10\n",
        "\n",
        "points = np.vstack([x, y]).T\n",
        "\n",
        "plt.scatter(x, y, s=0.5)\n",
        "plt.ylim(-1, 11)\n",
        "plt.show()"
      ],
      "metadata": {
        "colab": {
          "base_uri": "https://localhost:8080/",
          "height": 265
        },
        "id": "1gK6AD90OqIg",
        "outputId": "1a528bae-33cf-49f6-c6b8-a6729dd95679"
      },
      "execution_count": 13,
      "outputs": [
        {
          "output_type": "display_data",
          "data": {
            "text/plain": [
              "<Figure size 432x288 with 1 Axes>"
            ],
            "image/png": "[encoded data removed]"
          },
          "metadata": {
            "needs_background": "light"
          }
        }
      ]
    },
    {
      "cell_type": "markdown",
      "source": [
        "ランダムサンプリング"
      ],
      "metadata": {
        "id": "qSjDSz45WusQ"
      }
    },
    {
      "cell_type": "code",
      "source": [
        "index_mat = np.random.randint(0, point_num, (point_num, 2))\n",
        "print(index_mat)"
      ],
      "metadata": {
        "colab": {
          "base_uri": "https://localhost:8080/"
        },
        "id": "JmbKA5NhO8WF",
        "outputId": "0f512035-3798-4112-aa6b-895ec31b1894"
      },
      "execution_count": 14,
      "outputs": [
        {
          "output_type": "stream",
          "name": "stdout",
          "text": [
            "[[265 442]\n",
            " [136 779]\n",
            " [480 714]\n",
            " ...\n",
            " [ 27 985]\n",
            " [621 555]\n",
            " [726 550]]\n"
          ]
        }
      ]
    },
    {
      "cell_type": "code",
      "source": [
        "# 転置前の成分数は (axis, samples, points)\n",
        "samples_tensor = np.array([x[index_mat], y[index_mat]]).transpose(1, 0, 2)\n",
        "\n",
        "print(samples_tensor.shape)\n",
        "print(samples_tensor)"
      ],
      "metadata": {
        "colab": {
          "base_uri": "https://localhost:8080/"
        },
        "id": "AIv8LkkGVLHe",
        "outputId": "069da1ec-e932-4342-c77f-685bda03f7cd"
      },
      "execution_count": 15,
      "outputs": [
        {
          "output_type": "stream",
          "name": "stdout",
          "text": [
            "(1000, 2, 2)\n",
            "[[[2.65265265 4.42442442]\n",
            "  [2.54671797 4.51506578]]\n",
            "\n",
            " [[1.36136136 7.7977978 ]\n",
            "  [1.291343   7.5832177 ]]\n",
            "\n",
            " [[4.8048048  7.14714715]\n",
            "  [4.7762626  7.08325442]]\n",
            "\n",
            " ...\n",
            "\n",
            " [[0.27027027 9.85985986]\n",
            "  [0.65636094 9.80894448]]\n",
            "\n",
            " [[6.21621622 5.55555556]\n",
            "  [6.33513774 5.85773077]]\n",
            "\n",
            " [[7.26726727 5.50550551]\n",
            "  [7.22678761 5.72207779]]]\n"
          ]
        }
      ]
    },
    {
      "cell_type": "markdown",
      "source": [
        "傾きと切片計算"
      ],
      "metadata": {
        "id": "04Vi6Q42WysY"
      }
    },
    {
      "cell_type": "code",
      "source": [
        "def get_params(samples):\n",
        "    point1, point2 = samples[0], samples[1]\n",
        "    grad = (point2[1] - point1[1])/(point2[0] - point1[0])\n",
        "    line_slice = point1[1] - grad * point1[0]\n",
        "    return grad, line_slice\n",
        "\n",
        "params_tensor = np.array([get_params(sample) for sample in samples_tensor])"
      ],
      "metadata": {
        "id": "bMS8ApJ4ViFQ"
      },
      "execution_count": 16,
      "outputs": []
    },
    {
      "cell_type": "markdown",
      "source": [
        "inlier の数を計算 → 最も良い候補を選択"
      ],
      "metadata": {
        "id": "UWppNTAra4pS"
      }
    },
    {
      "cell_type": "code",
      "source": [
        "def get_distances(params, points):\n",
        "    y_est = params[0] * points[:, 0] + params[1]\n",
        "    distances = np.abs(points[:, 1] - y_est)\n",
        "    return distances\n",
        "\n",
        "distances_tensor = np.array([\n",
        "    get_distances(params, points) for params in params_tensor])\n",
        "\n",
        "distance_th = 0.3\n",
        "inlier_bool_tensor = np.array([\n",
        "    distances < distance_th\n",
        "    for distances in distances_tensor\n",
        "])\n",
        "inlier_num_array = np.array([\n",
        "    np.sum(inlier_bool)\n",
        "    for inlier_bool in inlier_bool_tensor\n",
        "])\n",
        "\n",
        "best_idx = np.argmax(inlier_num_array)\n",
        "print(best_idx)"
      ],
      "metadata": {
        "colab": {
          "base_uri": "https://localhost:8080/"
        },
        "id": "fiKCLkDYWMxA",
        "outputId": "d3adcb9d-b176-4c42-851b-3592b6bd1261"
      },
      "execution_count": 17,
      "outputs": [
        {
          "output_type": "stream",
          "name": "stdout",
          "text": [
            "962\n"
          ]
        }
      ]
    },
    {
      "cell_type": "markdown",
      "source": [
        "結果を確認"
      ],
      "metadata": {
        "id": "kBJ98PrmlmNT"
      }
    },
    {
      "cell_type": "code",
      "source": [
        "best_params = params_tensor[best_idx]\n",
        "inlier_idx = np.arange(point_num)[inlier_bool_tensor[best_idx]]\n",
        "outlier_idx = np.arange(point_num)[~inlier_bool_tensor[best_idx]]"
      ],
      "metadata": {
        "id": "Gh1ZPEjlJE6E"
      },
      "execution_count": 18,
      "outputs": []
    },
    {
      "cell_type": "code",
      "source": [
        "plt.scatter(points[inlier_idx, 0], points[inlier_idx, 1], s=0.5, color=\"orange\")\n",
        "plt.scatter(points[outlier_idx, 0], points[outlier_idx, 1], s=0.5, color=\"blue\")\n",
        "\n",
        "plt.plot(points[:, 0], best_params[0]*points[:, 0]+best_params[1],\n",
        "         color=\"green\")\n",
        "plt.ylim(-1, 11)\n",
        "plt.show()"
      ],
      "metadata": {
        "colab": {
          "base_uri": "https://localhost:8080/",
          "height": 265
        },
        "id": "wmJZAasGXxA3",
        "outputId": "5af543db-adfa-446c-aa99-63f31f2b87a1"
      },
      "execution_count": 19,
      "outputs": [
        {
          "output_type": "display_data",
          "data": {
            "text/plain": [
              "<Figure size 432x288 with 1 Axes>"
            ],
            "image/png": "[encoded data removed]"
          },
          "metadata": {
            "needs_background": "light"
          }
        }
      ]
    },
    {
      "cell_type": "markdown",
      "source": [
        "再フィッティング"
      ],
      "metadata": {
        "id": "BuKZHktZlo7h"
      }
    },
    {
      "cell_type": "code",
      "source": [
        "grad, line_slice = np.polyfit(points[inlier_idx, 0], points[inlier_idx, 1], 1)\n",
        "\n",
        "plt.scatter(points[inlier_idx, 0], points[inlier_idx, 1], s=0.5, color=\"orange\")\n",
        "plt.scatter(points[outlier_idx, 0], points[outlier_idx, 1], s=0.5, color=\"blue\")\n",
        "plt.plot(points[:, 0], best_params[0]*points[:, 0]+best_params[1],\n",
        "         color=\"green\")\n",
        "plt.plot(points[:, 0], grad*points[:, 0]+line_slice,\n",
        "         color=\"red\")\n",
        "plt.ylim(-1, 11)\n",
        "plt.show()"
      ],
      "metadata": {
        "id": "XmoHP_A_kyAr",
        "colab": {
          "base_uri": "https://localhost:8080/",
          "height": 265
        },
        "outputId": "ae6637ad-6302-44e5-e303-d25730982da9"
      },
      "execution_count": 21,
      "outputs": [
        {
          "output_type": "display_data",
          "data": {
            "text/plain": [
              "<Figure size 432x288 with 1 Axes>"
            ],
            "image/png": "[encoded data removed]"
          },
          "metadata": {
            "needs_background": "light"
          }
        }
      ]
    },
    {
      "cell_type": "code",
      "source": [],
      "metadata": {
        "id": "Hjs561E0nVL0"
      },
      "execution_count": null,
      "outputs": []
    }
  ]
}