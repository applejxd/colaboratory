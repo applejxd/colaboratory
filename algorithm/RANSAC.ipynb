{
  "nbformat": 4,
  "nbformat_minor": 0,
  "metadata": {
    "colab": {
      "provenance": [],
      "authorship_tag": "ABX9TyOElwZ6Xwyt/VPjIXms4dSp",
      "include_colab_link": true
    },
    "kernelspec": {
      "name": "python3",
      "display_name": "Python 3"
    },
    "language_info": {
      "name": "python"
    }
  },
  "cells": [
    {
      "cell_type": "markdown",
      "metadata": {
        "id": "view-in-github",
        "colab_type": "text"
      },
      "source": [
        "<a href=\"https://colab.research.google.com/github/applejxd/colaboratory/blob/master/algorithm/RANSAC.ipynb\" target=\"_parent\"><img src=\"https://colab.research.google.com/assets/colab-badge.svg\" alt=\"Open In Colab\"/></a>"
      ]
    },
    {
      "cell_type": "markdown",
      "source": [
        "基本設定"
      ],
      "metadata": {
        "id": "lds28Hjbk9gX"
      }
    },
    {
      "cell_type": "code",
      "source": [
        "import matplotlib.pyplot as plt\n",
        "\n",
        "plt.figure(figsize=[10,10])"
      ],
      "metadata": {
        "colab": {
          "base_uri": "https://localhost:8080/",
          "height": 52
        },
        "id": "UZM_FRZxk_XW",
        "outputId": "3ac3ec3c-c6b9-431b-cdf1-5789366e352e"
      },
      "execution_count": 47,
      "outputs": [
        {
          "output_type": "execute_result",
          "data": {
            "text/plain": [
              "<Figure size 720x720 with 0 Axes>"
            ]
          },
          "metadata": {},
          "execution_count": 47
        },
        {
          "output_type": "display_data",
          "data": {
            "text/plain": [
              "<Figure size 720x720 with 0 Axes>"
            ]
          },
          "metadata": {}
        }
      ]
    },
    {
      "cell_type": "markdown",
      "source": [
        "誤差分布は外れ値が大きいコーシー分布"
      ],
      "metadata": {
        "id": "S9Uol1SGbVqD"
      }
    },
    {
      "cell_type": "code",
      "execution_count": 48,
      "metadata": {
        "colab": {
          "base_uri": "https://localhost:8080/",
          "height": 265
        },
        "id": "JZXroLSDN5Ty",
        "outputId": "c84de4e8-c226-4ea9-de17-b1f371118d6d"
      },
      "outputs": [
        {
          "output_type": "display_data",
          "data": {
            "text/plain": [
              "<Figure size 432x288 with 1 Axes>"
            ],
            "image/png": "[encoded data removed]"
          },
          "metadata": {
            "needs_background": "light"
          }
        }
      ],
      "source": [
        "import numpy as np\n",
        "\n",
        "def cauchy(x: np.ndarray):\n",
        "    return 1/np.pi/(1+x*x)\n",
        "\n",
        "x = np.linspace(-5, 5, 100)\n",
        "y = cauchy(x)\n",
        "\n",
        "plt.plot(x, y)\n",
        "plt.show()"
      ]
    },
    {
      "cell_type": "markdown",
      "source": [
        "サンプルデータ生成"
      ],
      "metadata": {
        "id": "xqMf_WTtbeak"
      }
    },
    {
      "cell_type": "code",
      "source": [
        "point_num: int = 1000\n",
        "\n",
        "errors = np.random.standard_cauchy(point_num)\n",
        "x = np.linspace(0, 10, point_num)\n",
        "y = x + errors / 10\n",
        "\n",
        "points = np.vstack([x, y]).T\n",
        "\n",
        "plt.scatter(x, y, s=0.5)\n",
        "plt.ylim(-1, 11)\n",
        "plt.show()"
      ],
      "metadata": {
        "colab": {
          "base_uri": "https://localhost:8080/",
          "height": 265
        },
        "id": "1gK6AD90OqIg",
        "outputId": "7a744e5d-2780-4cf0-8a62-729359ed6bb0"
      },
      "execution_count": 49,
      "outputs": [
        {
          "output_type": "display_data",
          "data": {
            "text/plain": [
              "<Figure size 432x288 with 1 Axes>"
            ],
            "image/png": "[encoded data removed]"
          },
          "metadata": {
            "needs_background": "light"
          }
        }
      ]
    },
    {
      "cell_type": "markdown",
      "source": [
        "ランダムサンプリング"
      ],
      "metadata": {
        "id": "qSjDSz45WusQ"
      }
    },
    {
      "cell_type": "code",
      "source": [
        "index_mat = np.random.randint(0, point_num, (point_num, 2))\n",
        "print(index_mat)"
      ],
      "metadata": {
        "colab": {
          "base_uri": "https://localhost:8080/"
        },
        "id": "JmbKA5NhO8WF",
        "outputId": "432ca33a-223d-4d32-a82e-9f4df9f7296c"
      },
      "execution_count": 50,
      "outputs": [
        {
          "output_type": "stream",
          "name": "stdout",
          "text": [
            "[[466 446]\n",
            " [187 685]\n",
            " [386 145]\n",
            " ...\n",
            " [ 12 823]\n",
            " [833 783]\n",
            " [227 536]]\n"
          ]
        }
      ]
    },
    {
      "cell_type": "code",
      "source": [
        "# 転置前の成分数は (axis, samples, points)\n",
        "samples_tensor = np.array([x[index_mat], y[index_mat]]).transpose(1, 0, 2)\n",
        "\n",
        "print(samples_tensor.shape)\n",
        "print(samples_tensor)"
      ],
      "metadata": {
        "colab": {
          "base_uri": "https://localhost:8080/"
        },
        "id": "AIv8LkkGVLHe",
        "outputId": "041d8629-8df7-44f1-85f5-280b16a267f8"
      },
      "execution_count": 51,
      "outputs": [
        {
          "output_type": "stream",
          "name": "stdout",
          "text": [
            "(1000, 2, 2)\n",
            "[[[4.66466466 4.46446446]\n",
            "  [4.72902026 4.65447923]]\n",
            "\n",
            " [[1.87187187 6.85685686]\n",
            "  [2.68702408 6.31004759]]\n",
            "\n",
            " [[3.86386386 1.45145145]\n",
            "  [4.01649418 1.37920374]]\n",
            "\n",
            " ...\n",
            "\n",
            " [[0.12012012 8.23823824]\n",
            "  [0.05066394 8.12702927]]\n",
            "\n",
            " [[8.33833834 7.83783784]\n",
            "  [8.20010827 7.86176438]]\n",
            "\n",
            " [[2.27227227 5.36536537]\n",
            "  [2.13859148 5.43464098]]]\n"
          ]
        }
      ]
    },
    {
      "cell_type": "markdown",
      "source": [
        "傾きと切片計算"
      ],
      "metadata": {
        "id": "04Vi6Q42WysY"
      }
    },
    {
      "cell_type": "code",
      "source": [
        "def get_params(samples):\n",
        "    point1, point2 = samples[0], samples[1]\n",
        "    grad = (point2[1] - point1[1])/(point2[0] - point1[0])\n",
        "    line_slice = point1[1] - grad * point1[0]\n",
        "    return grad, line_slice\n",
        "\n",
        "params_tensor = np.array([get_params(sample) for sample in samples_tensor])"
      ],
      "metadata": {
        "id": "bMS8ApJ4ViFQ"
      },
      "execution_count": 52,
      "outputs": []
    },
    {
      "cell_type": "markdown",
      "source": [
        "inlier の数を計算 → 最も良い候補を選択"
      ],
      "metadata": {
        "id": "UWppNTAra4pS"
      }
    },
    {
      "cell_type": "code",
      "source": [
        "def get_distances(params, points):\n",
        "    y_est = params[0] * points[:, 0] + params[1]\n",
        "    distances = np.abs(points[:, 1] - y_est)\n",
        "    return distances\n",
        "\n",
        "distances_tensor = np.array([\n",
        "    get_distances(params, points) for params in params_tensor])\n",
        "\n",
        "distance_th = 0.3\n",
        "inlier_bool_tensor = np.array([\n",
        "    distances < distance_th\n",
        "    for distances in distances_tensor\n",
        "])\n",
        "inlier_num_array = np.array([\n",
        "    np.sum(inlier_bool)\n",
        "    for inlier_bool in inlier_bool_tensor\n",
        "])\n",
        "\n",
        "best_idx = np.argmax(inlier_num_array)\n",
        "print(best_idx)"
      ],
      "metadata": {
        "colab": {
          "base_uri": "https://localhost:8080/"
        },
        "id": "fiKCLkDYWMxA",
        "outputId": "788a89d1-a829-4695-99bc-f5fbb210bdef"
      },
      "execution_count": 53,
      "outputs": [
        {
          "output_type": "stream",
          "name": "stdout",
          "text": [
            "177\n"
          ]
        }
      ]
    },
    {
      "cell_type": "markdown",
      "source": [
        "結果を確認"
      ],
      "metadata": {
        "id": "kBJ98PrmlmNT"
      }
    },
    {
      "cell_type": "code",
      "source": [
        "best_params = params_tensor[best_idx]\n",
        "inlier_idx = np.arange(point_num)[inlier_bool_tensor[best_idx]]\n",
        "outlier_idx = np.arange(point_num)[~inlier_bool_tensor[best_idx]]"
      ],
      "metadata": {
        "id": "Gh1ZPEjlJE6E"
      },
      "execution_count": 54,
      "outputs": []
    },
    {
      "cell_type": "code",
      "source": [
        "plt.scatter(points[inlier_idx, 0], points[inlier_idx, 1], s=0.5, color=\"orange\")\n",
        "plt.scatter(points[outlier_idx, 0], points[outlier_idx, 1], s=0.5, color=\"blue\")\n",
        "\n",
        "plt.plot(points[:, 0], best_params[0]*points[:, 0]+best_params[1],\n",
        "         color=\"green\")\n",
        "plt.ylim(-1, 11)\n",
        "plt.show()"
      ],
      "metadata": {
        "colab": {
          "base_uri": "https://localhost:8080/",
          "height": 265
        },
        "id": "wmJZAasGXxA3",
        "outputId": "f1a83abc-0e4d-4789-b71a-fbfabcc5b636"
      },
      "execution_count": 55,
      "outputs": [
        {
          "output_type": "display_data",
          "data": {
            "text/plain": [
              "<Figure size 432x288 with 1 Axes>"
            ],
            "image/png": "[encoded data removed]"
          },
          "metadata": {
            "needs_background": "light"
          }
        }
      ]
    },
    {
      "cell_type": "markdown",
      "source": [
        "再フィッティング"
      ],
      "metadata": {
        "id": "BuKZHktZlo7h"
      }
    },
    {
      "cell_type": "code",
      "source": [],
      "metadata": {
        "id": "XmoHP_A_kyAr"
      },
      "execution_count": 55,
      "outputs": []
    }
  ]
}