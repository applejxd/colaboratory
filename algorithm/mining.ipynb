{
  "nbformat": 4,
  "nbformat_minor": 0,
  "metadata": {
    "colab": {
      "name": "Untitled1.ipynb",
      "provenance": [],
      "collapsed_sections": [],
      "authorship_tag": "ABX9TyPNJgtv9qUiNMW1YC4fl0uG",
      "include_colab_link": true
    },
    "kernelspec": {
      "name": "python3",
      "display_name": "Python 3"
    },
    "language_info": {
      "name": "python"
    }
  },
  "cells": [
    {
      "cell_type": "markdown",
      "metadata": {
        "id": "view-in-github",
        "colab_type": "text"
      },
      "source": [
        "<a href=\"https://colab.research.google.com/github/applejxd/colaboratory/blob/master/algorithm/mining.ipynb\" target=\"_parent\"><img src=\"https://colab.research.google.com/assets/colab-badge.svg\" alt=\"Open In Colab\"/></a>"
      ]
    },
    {
      "cell_type": "markdown",
      "source": [
        "# マイニングの仕組み"
      ],
      "metadata": {
        "id": "WATNLj2-mGEZ"
      }
    },
    {
      "cell_type": "markdown",
      "source": [
        "[Block 395791 - Blockchain.com](https://www.blockchain.com/btc/block/000000000000000003a0343cc001d21b97d15e97e665b68c790b98c871cf0731)\n",
        "と\n",
        "[Block 395790 - Blockchain.com](https://www.blockchain.com/btc/block/0000000000000000005629ef6b683f8f6301c7e6f8e796e7c58702a079db14e8)\n",
        "の内容の検証\n",
        "\n",
        "[参考サイト](https://qiita.com/ryskchy/items/a862139e9521942248fa)"
      ],
      "metadata": {
        "id": "0XyE_7kWl-Rb"
      }
    },
    {
      "cell_type": "code",
      "execution_count": 31,
      "metadata": {
        "id": "Rx2-5YUZlym5"
      },
      "outputs": [],
      "source": [
        "# ブロックのバージョン\n",
        "version: int = 4\n",
        "# 前のブロックのハッシュ値\n",
        "prev_block = 0x0000000000000000005629ef6b683f8f6301c7e6f8e796e7c58702a079db14e8\n",
        "# マークルルート\n",
        "markle_root = 0xefb8011cb97b5f1599b2e18f200188f1b8207da2884392672f92ac7985534eeb\n",
        "timestamp = \"2016-01-30 13:23:09\"\n",
        "bits = 403253488\n",
        "nonce = 1448681410"
      ]
    },
    {
      "cell_type": "markdown",
      "source": [
        "フォーマットを調整"
      ],
      "metadata": {
        "id": "hp7X84pTl9mo"
      }
    },
    {
      "cell_type": "code",
      "source": [
        "import struct\n",
        "\n",
        "version_h = version.to_bytes(8, \"little\")\n",
        "print(version_h)\n",
        "\n",
        "prev_block_h = prev_block.to_bytes(32, \"little\")\n",
        "print(prev_block_h)\n",
        "\n",
        "markle_root_h = markle_root.to_bytes(32, \"little\")\n",
        "print(markle_root_h)"
      ],
      "metadata": {
        "colab": {
          "base_uri": "https://localhost:8080/"
        },
        "id": "GFh9ej8SnTCx",
        "outputId": "98b8b47a-e2e7-4967-bffa-a1b408e0f819"
      },
      "execution_count": 32,
      "outputs": [
        {
          "output_type": "stream",
          "name": "stdout",
          "text": [
            "b'\\x04\\x00\\x00\\x00\\x00\\x00\\x00\\x00'\n",
            "b'\\xe8\\x14\\xdby\\xa0\\x02\\x87\\xc5\\xe7\\x96\\xe7\\xf8\\xe6\\xc7\\x01c\\x8f?hk\\xef)V\\x00\\x00\\x00\\x00\\x00\\x00\\x00\\x00\\x00'\n",
            "b'\\xebNS\\x85y\\xac\\x92/g\\x92C\\x88\\xa2} \\xb8\\xf1\\x88\\x01 \\x8f\\xe1\\xb2\\x99\\x15_{\\xb9\\x1c\\x01\\xb8\\xef'\n"
          ]
        }
      ]
    },
    {
      "cell_type": "code",
      "source": [
        "from datetime import datetime\n",
        "\n",
        "timestamp_s = int((datetime.strptime(timestamp, \"%Y-%m-%d %H:%M:%S\")-datetime(1970,1,1)).total_seconds())\n",
        "timestamp_h = timestamp_s.to_bytes(4, \"little\")\n",
        "print(timestamp_h)"
      ],
      "metadata": {
        "colab": {
          "base_uri": "https://localhost:8080/"
        },
        "id": "KpUXC18lnX2E",
        "outputId": "08dbc4da-8c14-408d-a741-6b0cd3db667a"
      },
      "execution_count": 33,
      "outputs": [
        {
          "output_type": "stream",
          "name": "stdout",
          "text": [
            "b'=\\xb9\\xacV'\n"
          ]
        }
      ]
    },
    {
      "cell_type": "code",
      "source": [
        "bits_h = bits.to_bytes(4, \"little\")\n",
        "print(bits_h)\n",
        "\n",
        "nonce_h = nonce.to_bytes(4, \"little\")\n",
        "print(nonce_h)"
      ],
      "metadata": {
        "colab": {
          "base_uri": "https://localhost:8080/"
        },
        "id": "Q8CxKFLWoML2",
        "outputId": "ff73975b-3e22-4f7b-ba7d-1bc02ac4c64c"
      },
      "execution_count": 34,
      "outputs": [
        {
          "output_type": "stream",
          "name": "stdout",
          "text": [
            "b'\\xf0(\\t\\x18'\n",
            "b'\\xc2\\x1fYV'\n"
          ]
        }
      ]
    },
    {
      "cell_type": "code",
      "source": [
        "from hashlib import sha256\n",
        "\n",
        "header = version_h + prev_block_h + markle_root_h + timestamp_h + bits_h + nonce_h\n",
        "print(header)\n",
        "\n",
        "result = int.from_bytes(sha256(sha256(header).digest()).digest(), byteorder=\"little\")\n",
        "print(hex(result))"
      ],
      "metadata": {
        "colab": {
          "base_uri": "https://localhost:8080/"
        },
        "id": "3k_ecZ_7d3ma",
        "outputId": "03baa8c9-57c1-4784-b855-1ce41d873fdd"
      },
      "execution_count": 36,
      "outputs": [
        {
          "output_type": "stream",
          "name": "stdout",
          "text": [
            "b'\\x04\\x00\\x00\\x00\\x00\\x00\\x00\\x00\\xe8\\x14\\xdby\\xa0\\x02\\x87\\xc5\\xe7\\x96\\xe7\\xf8\\xe6\\xc7\\x01c\\x8f?hk\\xef)V\\x00\\x00\\x00\\x00\\x00\\x00\\x00\\x00\\x00\\xebNS\\x85y\\xac\\x92/g\\x92C\\x88\\xa2} \\xb8\\xf1\\x88\\x01 \\x8f\\xe1\\xb2\\x99\\x15_{\\xb9\\x1c\\x01\\xb8\\xef=\\xb9\\xacV\\xf0(\\t\\x18\\xc2\\x1fYV'\n",
            "0x88ebec9544be68feb02843e2f5605726e3cd9d4c2acfdf437df72bc18c286440\n"
          ]
        }
      ]
    },
    {
      "cell_type": "code",
      "source": [
        ""
      ],
      "metadata": {
        "id": "MR9pz7yXhz3e"
      },
      "execution_count": 35,
      "outputs": []
    }
  ]
}