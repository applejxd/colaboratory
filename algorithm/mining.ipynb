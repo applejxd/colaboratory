{
  "nbformat": 4,
  "nbformat_minor": 0,
  "metadata": {
    "colab": {
      "name": "Untitled1.ipynb",
      "provenance": [],
      "collapsed_sections": [],
      "authorship_tag": "ABX9TyPeibyD22/CZdqFQxdkWpFK",
      "include_colab_link": true
    },
    "kernelspec": {
      "name": "python3",
      "display_name": "Python 3"
    },
    "language_info": {
      "name": "python"
    }
  },
  "cells": [
    {
      "cell_type": "markdown",
      "metadata": {
        "id": "view-in-github",
        "colab_type": "text"
      },
      "source": [
        "<a href=\"https://colab.research.google.com/github/applejxd/colaboratory/blob/master/algorithm/mining.ipynb\" target=\"_parent\"><img src=\"https://colab.research.google.com/assets/colab-badge.svg\" alt=\"Open In Colab\"/></a>"
      ]
    },
    {
      "cell_type": "markdown",
      "source": [
        "# マイニングの仕組み"
      ],
      "metadata": {
        "id": "WATNLj2-mGEZ"
      }
    },
    {
      "cell_type": "markdown",
      "source": [
        "[Block 395791](https://explorer.btc.com/btc/block/395791)\n",
        "と\n",
        "[Block 395790](https://explorer.btc.com/btc/block/395790)\n",
        "の内容の検証\n",
        "\n",
        "- [参考サイト1](https://en.bitcoin.it/wiki/Block_hashing_algorithm)\n",
        "- [参考サイト2](https://qiita.com/ryskchy/items/a862139e9521942248fa#%E5%8F%82%E8%80%83%E6%96%87%E7%8C%AE)"
      ],
      "metadata": {
        "id": "0XyE_7kWl-Rb"
      }
    },
    {
      "cell_type": "code",
      "execution_count": 1,
      "metadata": {
        "id": "Rx2-5YUZlym5"
      },
      "outputs": [],
      "source": [
        "# ブロックのバージョン\n",
        "version = 0x4\n",
        "# 前のブロックのハッシュ値\n",
        "prev_block = 0x0000000000000000005629ef6b683f8f6301c7e6f8e796e7c58702a079db14e8\n",
        "# マークルルート\n",
        "markle_root = 0xefb8011cb97b5f1599b2e18f200188f1b8207da2884392672f92ac7985534eeb\n",
        "timestamp = \"2016-01-30 13:23:09\"\n",
        "bits = 0x180928f0\n",
        "nonce = 0x56591fc2"
      ]
    },
    {
      "cell_type": "markdown",
      "source": [
        "フォーマットを調整"
      ],
      "metadata": {
        "id": "hp7X84pTl9mo"
      }
    },
    {
      "cell_type": "code",
      "source": [
        "import struct\n",
        "\n",
        "version_h = version.to_bytes(4, \"little\").hex()\n",
        "print(version_h)\n",
        "\n",
        "prev_block_h = prev_block.to_bytes(32, \"little\").hex()\n",
        "print(prev_block_h)\n",
        "\n",
        "markle_root_h = markle_root.to_bytes(32, \"little\").hex()\n",
        "print(markle_root_h)"
      ],
      "metadata": {
        "colab": {
          "base_uri": "https://localhost:8080/"
        },
        "id": "GFh9ej8SnTCx",
        "outputId": "079d9faf-6bf4-4e29-87f7-3a44669d0969"
      },
      "execution_count": 2,
      "outputs": [
        {
          "output_type": "stream",
          "name": "stdout",
          "text": [
            "04000000\n",
            "e814db79a00287c5e796e7f8e6c701638f3f686bef2956000000000000000000\n",
            "eb4e538579ac922f67924388a27d20b8f18801208fe1b299155f7bb91c01b8ef\n"
          ]
        }
      ]
    },
    {
      "cell_type": "code",
      "source": [
        "from datetime import datetime\n",
        "\n",
        "timestamp_s = int((datetime.strptime(timestamp, \"%Y-%m-%d %H:%M:%S\")-datetime(1970,1,1)).total_seconds())\n",
        "timestamp_h = timestamp_s.to_bytes(4, \"little\").hex()\n",
        "print(timestamp_h)"
      ],
      "metadata": {
        "colab": {
          "base_uri": "https://localhost:8080/"
        },
        "id": "KpUXC18lnX2E",
        "outputId": "a55b0198-002f-4620-bcee-65b3f99ae18e"
      },
      "execution_count": 3,
      "outputs": [
        {
          "output_type": "stream",
          "name": "stdout",
          "text": [
            "3db9ac56\n"
          ]
        }
      ]
    },
    {
      "cell_type": "code",
      "source": [
        "bits_h = bits.to_bytes(4, \"little\").hex()\n",
        "print(bits_h)\n",
        "\n",
        "nonce_h = nonce.to_bytes(4, \"little\").hex()\n",
        "print(nonce_h)"
      ],
      "metadata": {
        "colab": {
          "base_uri": "https://localhost:8080/"
        },
        "id": "Q8CxKFLWoML2",
        "outputId": "295ff7d5-02e2-4b2b-9f29-2bd79dc1f8c9"
      },
      "execution_count": 4,
      "outputs": [
        {
          "output_type": "stream",
          "name": "stdout",
          "text": [
            "f0280918\n",
            "c21f5956\n"
          ]
        }
      ]
    },
    {
      "cell_type": "code",
      "source": [
        "from hashlib import sha256\n",
        "from binascii import unhexlify, hexlify\n",
        "\n",
        "header_hex = (version_h + prev_block_h + markle_root_h + timestamp_h + bits_h + nonce_h)\n",
        "print(header_hex)\n",
        "\n",
        "header_bin = unhexlify(header_hex)\n",
        "hash = sha256(sha256(header_bin).digest()).digest()\n",
        "\n",
        "print(hexlify(hash).decode(\"utf-8\"))\n",
        "print(hexlify(hash[::-1]).decode(\"utf-8\"))"
      ],
      "metadata": {
        "colab": {
          "base_uri": "https://localhost:8080/"
        },
        "id": "3k_ecZ_7d3ma",
        "outputId": "183ff86b-0e02-4dab-d0ec-a0f00ddb1442"
      },
      "execution_count": 5,
      "outputs": [
        {
          "output_type": "stream",
          "name": "stdout",
          "text": [
            "04000000e814db79a00287c5e796e7f8e6c701638f3f686bef2956000000000000000000eb4e538579ac922f67924388a27d20b8f18801208fe1b299155f7bb91c01b8ef3db9ac56f0280918c21f5956\n",
            "3107cf71c8980b798cb665e6975ed1971bd201c03c34a0030000000000000000\n",
            "000000000000000003a0343cc001d21b97d15e97e665b68c790b98c871cf0731\n"
          ]
        }
      ]
    },
    {
      "cell_type": "code",
      "source": [
        ""
      ],
      "metadata": {
        "id": "qwqx0ZrMzKWc"
      },
      "execution_count": 5,
      "outputs": []
    }
  ]
}