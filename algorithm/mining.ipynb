{
  "nbformat": 4,
  "nbformat_minor": 0,
  "metadata": {
    "colab": {
      "name": "Untitled1.ipynb",
      "provenance": [],
      "collapsed_sections": [],
      "authorship_tag": "ABX9TyOvg4bKPfDznDiiAVOCvNsi",
      "include_colab_link": true
    },
    "kernelspec": {
      "name": "python3",
      "display_name": "Python 3"
    },
    "language_info": {
      "name": "python"
    }
  },
  "cells": [
    {
      "cell_type": "markdown",
      "metadata": {
        "id": "view-in-github",
        "colab_type": "text"
      },
      "source": [
        "<a href=\"https://colab.research.google.com/github/applejxd/colaboratory/blob/master/algorithm/mining.ipynb\" target=\"_parent\"><img src=\"https://colab.research.google.com/assets/colab-badge.svg\" alt=\"Open In Colab\"/></a>"
      ]
    },
    {
      "cell_type": "markdown",
      "source": [
        "# マイニングの仕組み"
      ],
      "metadata": {
        "id": "WATNLj2-mGEZ"
      }
    },
    {
      "cell_type": "markdown",
      "source": [
        "[Block 740625 - Blockchain.com](https://www.blockchain.com/btc/block/0000000000000000000828d0dec88074e2c04c79ab0c9eb236fc58e60db8f568)\n",
        "と\n",
        "[Block 740624 - Blockchain.com](https://www.blockchain.com/btc/block/000000000000000000064ac3f394e4650581f5ed41650396cf8ee6aaa35610cb)\n",
        "の内容の検証\n",
        "\n",
        "[参考サイト](https://qiita.com/ryskchy/items/a862139e9521942248fa)"
      ],
      "metadata": {
        "id": "0XyE_7kWl-Rb"
      }
    },
    {
      "cell_type": "code",
      "execution_count": 28,
      "metadata": {
        "id": "Rx2-5YUZlym5"
      },
      "outputs": [],
      "source": [
        "# ブロックのバージョン\n",
        "version: int = 4\n",
        "# 前のブロックのハッシュ値\n",
        "prev_block = \"0000000000000000005629ef6b683f8f6301c7e6f8e796e7c58702a079db14e8\"\n",
        "# マークルルート\n",
        "markle_root = \"efb8011cb97b5f1599b2e18f200188f1b8207da2884392672f92ac7985534eeb\"\n",
        "timestamp = \"2016-01-30 13:23:09\"\n",
        "bits = 403253488\n",
        "nonce = 1448681410"
      ]
    },
    {
      "cell_type": "markdown",
      "source": [
        "フォーマットを調整"
      ],
      "metadata": {
        "id": "hp7X84pTl9mo"
      }
    },
    {
      "cell_type": "code",
      "source": [
        "import struct\n",
        "\n",
        "version_h = version.to_bytes(2, \"little\")\n",
        "print(version_h)\n",
        "\n",
        "prev_block_h = bytes.fromhex(prev_block)[::-1]\n",
        "print(prev_block_h)\n",
        "\n",
        "markle_root_h = bytes.fromhex(markle_root)[::-1]\n",
        "print(markle_root_h)"
      ],
      "metadata": {
        "colab": {
          "base_uri": "https://localhost:8080/"
        },
        "id": "GFh9ej8SnTCx",
        "outputId": "f89b0f4c-4f26-4182-fb87-67c89c3e327c"
      },
      "execution_count": 30,
      "outputs": [
        {
          "output_type": "stream",
          "name": "stdout",
          "text": [
            "b'\\x04\\x00'\n",
            "b'\\xe8\\x14\\xdby\\xa0\\x02\\x87\\xc5\\xe7\\x96\\xe7\\xf8\\xe6\\xc7\\x01c\\x8f?hk\\xef)V\\x00\\x00\\x00\\x00\\x00\\x00\\x00\\x00\\x00'\n",
            "b'\\xebNS\\x85y\\xac\\x92/g\\x92C\\x88\\xa2} \\xb8\\xf1\\x88\\x01 \\x8f\\xe1\\xb2\\x99\\x15_{\\xb9\\x1c\\x01\\xb8\\xef'\n"
          ]
        }
      ]
    },
    {
      "cell_type": "code",
      "source": [
        "from datetime import datetime\n",
        "\n",
        "timestamp_s = int((datetime.strptime(timestamp, \"%Y-%m-%d %H:%M\")-datetime(1970,1,1)).total_seconds())\n",
        "timestamp_h =bytes.fromhex(hex(timestamp_s)[2:])[::-1]\n",
        "print(timestamp_h)"
      ],
      "metadata": {
        "colab": {
          "base_uri": "https://localhost:8080/"
        },
        "id": "KpUXC18lnX2E",
        "outputId": "3b5527e4-60b7-4fbb-934b-4f1f5e836df5"
      },
      "execution_count": 22,
      "outputs": [
        {
          "output_type": "stream",
          "name": "stdout",
          "text": [
            "b'\\x04\\xd3\\xa7b'\n"
          ]
        }
      ]
    },
    {
      "cell_type": "code",
      "source": [
        "bits_h = bytes.fromhex(hex(bits)[2:])[::-1]\n",
        "print(bits_h)\n",
        "\n",
        "nonce_h = bytes.fromhex(hex(nonce)[2:])[::-1]\n",
        "print(nonce_h)"
      ],
      "metadata": {
        "colab": {
          "base_uri": "https://localhost:8080/"
        },
        "id": "Q8CxKFLWoML2",
        "outputId": "68731ec2-57ee-4463-b325-6f2af5bce599"
      },
      "execution_count": 23,
      "outputs": [
        {
          "output_type": "stream",
          "name": "stdout",
          "text": [
            "b'jK\\t\\x17'\n",
            "b'8U+`'\n"
          ]
        }
      ]
    },
    {
      "cell_type": "code",
      "source": [
        "from hashlib import sha256\n",
        "\n",
        "header = version_h + prev_block_h + markle_root_h + timestamp_h + bits_h + nonce_h\n",
        "\n",
        "result = int.from_bytes(sha256(sha256(header).digest()).digest(), byteorder=\"little\")\n",
        "print(hex(result))"
      ],
      "metadata": {
        "colab": {
          "base_uri": "https://localhost:8080/"
        },
        "id": "3k_ecZ_7d3ma",
        "outputId": "69bf88c7-ccc0-4d71-ff7d-e0a2c870bf85"
      },
      "execution_count": 24,
      "outputs": [
        {
          "output_type": "stream",
          "name": "stdout",
          "text": [
            "0xf262554d9d2c330e4cfa7d0736f46e545da10456b2350bf2d5cfa20fa21ed9e4\n"
          ]
        }
      ]
    },
    {
      "cell_type": "code",
      "source": [
        ""
      ],
      "metadata": {
        "id": "MR9pz7yXhz3e"
      },
      "execution_count": 5,
      "outputs": []
    }
  ]
}