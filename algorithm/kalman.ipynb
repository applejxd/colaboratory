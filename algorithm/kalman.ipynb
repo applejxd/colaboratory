{
  "nbformat": 4,
  "nbformat_minor": 0,
  "metadata": {
    "colab": {
      "provenance": [],
      "authorship_tag": "ABX9TyOjF3Z85HYayKwGExZWK8+v",
      "include_colab_link": true
    },
    "kernelspec": {
      "name": "python3",
      "display_name": "Python 3"
    },
    "language_info": {
      "name": "python"
    }
  },
  "cells": [
    {
      "cell_type": "markdown",
      "metadata": {
        "id": "view-in-github",
        "colab_type": "text"
      },
      "source": [
        "<a href=\"https://colab.research.google.com/github/applejxd/colaboratory/blob/master/algorithm/kalman.ipynb\" target=\"_parent\"><img src=\"https://colab.research.google.com/assets/colab-badge.svg\" alt=\"Open In Colab\"/></a>"
      ]
    },
    {
      "cell_type": "markdown",
      "source": [
        "# Kalman Filters"
      ],
      "metadata": {
        "id": "FzCV2mLLtEBQ"
      }
    },
    {
      "cell_type": "markdown",
      "source": [
        "## 前準備"
      ],
      "metadata": {
        "id": "TQtY_NpwtK70"
      }
    },
    {
      "cell_type": "markdown",
      "source": [
        "配色を定義。\n",
        "詳細は [matplotlib - List of named colors](https://matplotlib.org/stable/gallery/color/named_colors.html#tableau-palette) を参照。"
      ],
      "metadata": {
        "id": "DYZvK5q2w6ih"
      }
    },
    {
      "cell_type": "code",
      "source": [
        "from matplotlib.colors import TABLEAU_COLORS\n",
        "\n",
        "BLUE = TABLEAU_COLORS[\"tab:blue\"]\n",
        "ORANGE = TABLEAU_COLORS[\"tab:orange\"]\n",
        "GREEN = TABLEAU_COLORS[\"tab:green\"]\n",
        "RED = TABLEAU_COLORS[\"tab:red\"]\n",
        "PURPLE = TABLEAU_COLORS[\"tab:purple\"]"
      ],
      "metadata": {
        "id": "6zBuxpTUGXRI"
      },
      "execution_count": null,
      "outputs": []
    },
    {
      "cell_type": "markdown",
      "source": [
        "## 使用する運動モデル"
      ],
      "metadata": {
        "id": "nUwdeRbgt_B5"
      }
    },
    {
      "cell_type": "markdown",
      "source": [
        "円運動モデル\n",
        "\\begin{equation}\n",
        "\\begin{pmatrix}\n",
        "x \\\\ y\n",
        "\\end{pmatrix}\n",
        "=\n",
        "\\begin{pmatrix}\n",
        "\\cos\\theta \\\\\n",
        "\\sin\\theta\n",
        "\\end{pmatrix}\n",
        "\\end{equation}"
      ],
      "metadata": {
        "id": "5XqY7B97lejD"
      }
    },
    {
      "cell_type": "code",
      "source": [
        "import numpy as np\n",
        "\n",
        "DT = 2 * np.pi / 100\n",
        "\n",
        "def create_points():\n",
        "    t = np.arange(0, 2*np.pi, DT)\n",
        "    x = np.sin(t)\n",
        "    y = np.cos(t)\n",
        "    points = np.vstack((x, y)).T\n",
        "    return points\n",
        "\n",
        "points = create_points()"
      ],
      "metadata": {
        "id": "rCBXlziFGK91"
      },
      "execution_count": null,
      "outputs": []
    },
    {
      "cell_type": "markdown",
      "source": [
        "軌跡のアニメーション作成"
      ],
      "metadata": {
        "id": "gCouVq2GbREQ"
      }
    },
    {
      "cell_type": "code",
      "execution_count": null,
      "metadata": {
        "id": "jatB78rPRyTb"
      },
      "outputs": [],
      "source": [
        "import matplotlib.pyplot as plt\n",
        "import matplotlib.animation as animation\n",
        "\n",
        "\n",
        "def traj_anim(points):\n",
        "    fig, ax = plt.subplots()\n",
        "\n",
        "    ax.set_aspect('equal')\n",
        "    ax.set_xlim(-1.3, 1.3)\n",
        "    ax.set_ylim(-1.3, 1.3)\n",
        "\n",
        "    traj_plt, = ax.plot([], [], c=BLUE, label=\"Trajectory\")\n",
        "    cur_pos_plt, = ax.plot(\n",
        "        [], [], c=ORANGE, marker=\"o\", markersize=5,\n",
        "        label=\"Current Position\")\n",
        "    ax.legend(loc=\"upper right\", fontsize=\"x-small\")\n",
        "\n",
        "    def anim_callback(i):\n",
        "        ax.set_title(f\"Frame {i}\")\n",
        "        traj_plt.set_data(points[:i, 0], points[:i, 1])\n",
        "        cur_pos_plt.set_data(points[i, 0], points[i, 1])\n",
        "\n",
        "    ani = animation.FuncAnimation(fig, anim_callback, frames=points.shape[0])\n",
        "    ani.save(\"move.gif\", writer=\"pillow\")\n",
        "\n",
        "traj_anim(points)"
      ]
    },
    {
      "cell_type": "code",
      "source": [
        "import IPython\n",
        "from IPython.display import Image\n",
        "\n",
        "# アニメーション再生\n",
        "Image(\"./move.gif\", format='png')"
      ],
      "metadata": {
        "id": "SsEfnaK5SsAj"
      },
      "execution_count": null,
      "outputs": []
    },
    {
      "cell_type": "markdown",
      "source": [
        "## EKF"
      ],
      "metadata": {
        "id": "EQqZRgLluDaP"
      }
    },
    {
      "cell_type": "markdown",
      "source": [
        "EKF は非線形運動モデルを線形近似して Kalman Filter を適用するだけ。\n",
        "Kalman Filter の公式は[ここ](https://ja.wikipedia.org/wiki/%E3%82%AB%E3%83%AB%E3%83%9E%E3%83%B3%E3%83%95%E3%82%A3%E3%83%AB%E3%82%BF%E3%83%BC)を参照。"
      ],
      "metadata": {
        "id": "HJEnzkHZabRM"
      }
    },
    {
      "cell_type": "markdown",
      "source": [
        "今回の EKF での運動モデルの近似式は次の通り。\n",
        "\\begin{equation}\n",
        "\\begin{pmatrix}\n",
        "x_{k+1} \\\\ y_{k+1}\n",
        "\\end{pmatrix}\n",
        "=\n",
        "\\begin{pmatrix}\n",
        "\\cos\\theta_{k+1} \\\\ \\sin\\theta_{k+1}\n",
        "\\end{pmatrix}\n",
        "=\n",
        "\\begin{pmatrix}\n",
        "\\cos(\\theta_k+\\delta\\theta) \\\\ \\sin(\\theta_k+\\delta\\theta)\n",
        "\\end{pmatrix}\n",
        "=\n",
        "\\begin{pmatrix}\n",
        "1 & -\\delta\\theta \\\\\n",
        "\\delta\\theta & 1\n",
        "\\end{pmatrix}\n",
        "\\begin{pmatrix}\n",
        "x_k \\\\ y_k\n",
        "\\end{pmatrix}\n",
        "+\\frac{1}{2}\n",
        "\\begin{pmatrix}\n",
        " \\cos\\theta_0\\delta\\theta^2 \\\\\n",
        " \\sin\\theta_0\\delta\\theta^2\n",
        "\\end{pmatrix}\n",
        "+\\mathcal{O}(\\delta\\theta^3)\n",
        "\\end{equation}"
      ],
      "metadata": {
        "id": "9mJzqIN2KUBv"
      }
    },
    {
      "cell_type": "markdown",
      "source": [
        "誤差絶対値の上限値を用いて次の近似をする。\n",
        "\\begin{equation}\n",
        "\\begin{pmatrix}\n",
        "x_{k+1} \\\\ y_{k+1}\n",
        "\\end{pmatrix}\n",
        "\\simeq\n",
        "\\begin{pmatrix}\n",
        "1 & -\\delta\\theta \\\\\n",
        "\\delta\\theta & 1\n",
        "\\end{pmatrix}\n",
        "\\begin{pmatrix}\n",
        "x_k \\\\ y_k\n",
        "\\end{pmatrix}\n",
        "+w_k,\\quad\n",
        "w_k\\sim N\\left(0,\\frac{1}{2}\\delta\\theta^2I\\right)\n",
        "\\end{equation}"
      ],
      "metadata": {
        "id": "pRkQJUoqnGJK"
      }
    },
    {
      "cell_type": "markdown",
      "source": [
        "観測モデルは$(x,y)$変数の多変量正規分布とする。\n",
        "\\begin{equation}\n",
        "\\begin{pmatrix}\n",
        "x_k' \\\\ y_k'\n",
        "\\end{pmatrix}\n",
        "=\n",
        "\\begin{pmatrix}\n",
        "x_k \\\\ y_k\n",
        "\\end{pmatrix}\n",
        "+ v_k,\\quad\n",
        "v_k\\sim N(0,\\sigma^2 I)\n",
        "\\end{equation}"
      ],
      "metadata": {
        "id": "UhyPTQAyLWUW"
      }
    },
    {
      "cell_type": "markdown",
      "source": [
        "差分化の刻み幅（FPS）は短いほど拡張カルマンフィルタの精度は良くなる。"
      ],
      "metadata": {
        "id": "Uf4aNu7UaVtO"
      }
    },
    {
      "cell_type": "code",
      "source": [
        "from abc import ABC, abstractmethod\n",
        "\n",
        "class Tracking(ABC):\n",
        "    def __init__(\n",
        "            self, state: np.ndarray, state_error: np.ndarray,\n",
        "            pred_error: np.ndarray,obs_error: np.ndarray):\n",
        "        self.state = state\n",
        "        self.state_error = state_error\n",
        "        self.pred_error = pred_error\n",
        "        self.obs_error = obs_error\n",
        "\n",
        "    @abstractmethod\n",
        "    def predict(self):\n",
        "        pass\n",
        "\n",
        "    @abstractmethod\n",
        "    def update(self, observation: np.ndarray):\n",
        "        pass"
      ],
      "metadata": {
        "id": "BYE2fsOtGa-n"
      },
      "execution_count": null,
      "outputs": []
    },
    {
      "cell_type": "code",
      "source": [
        "NOISE_SIGMA = 0.4\n",
        "\n",
        "\n",
        "class EKF(Tracking):\n",
        "    def __init__(\n",
        "            self, state: np.ndarray, state_error: np.ndarray,\n",
        "            pred_mat: np.ndarray, pred_error: np.ndarray,\n",
        "            obs_mat: np.ndarray, obs_error: np.ndarray):\n",
        "        super().__init__(state, state_error, pred_error, obs_error)\n",
        "        self.pred_mat = pred_mat\n",
        "        self.obs_mat = obs_mat\n",
        "\n",
        "    def predict(self):\n",
        "        self.state = self.state @ self.pred_mat\n",
        "        self.state_error = (\n",
        "            self.pred_mat @ self.state_error @ self.pred_mat.T\n",
        "            + self.pred_error\n",
        "        )\n",
        "\n",
        "    def update(self, observation: np.ndarray):\n",
        "        # カルマンゲインを計算\n",
        "        innovation = observation - self.state @ self.obs_mat\n",
        "        innovation_cov = (\n",
        "            self.obs_mat @ self.state_error @ self.obs_mat.T\n",
        "            + self.obs_error\n",
        "        )\n",
        "        kalman_gain = (\n",
        "            self.state_error @ self.obs_mat @ np.linalg.inv(innovation_cov)\n",
        "        )\n",
        "\n",
        "        # フィルタリング\n",
        "        self.state = self.state + kalman_gain @ innovation\n",
        "        self.state_error = (\n",
        "            (np.eye(len(self.state)) - kalman_gain) @ self.state_error\n",
        "        )"
      ],
      "metadata": {
        "id": "h_EkxNGsFSv9"
      },
      "execution_count": null,
      "outputs": []
    },
    {
      "cell_type": "markdown",
      "source": [
        "正規分布ノイズを与えて疑似観測データを作成"
      ],
      "metadata": {
        "id": "okg3UUbSbKlH"
      }
    },
    {
      "cell_type": "code",
      "source": [
        "def create_obs(points):\n",
        "    noise = np.random.normal(0, NOISE_SIGMA**2, (points.shape[0], 2))\n",
        "    points_obs = points + noise\n",
        "    return points_obs\n",
        "\n",
        "points_obs = create_obs(points)"
      ],
      "metadata": {
        "id": "XTF7RYUDu7Lw"
      },
      "execution_count": null,
      "outputs": []
    },
    {
      "cell_type": "markdown",
      "source": [
        "EKF 実行"
      ],
      "metadata": {
        "id": "BiPeuHQX5YD4"
      }
    },
    {
      "cell_type": "code",
      "source": [
        "def ekf_integrate(points_obs):\n",
        "    # 初期状態作成\n",
        "    init_state = points_obs[0, :]\n",
        "    init_state_error =np.array([[NOISE_SIGMA**2, 0], [0, NOISE_SIGMA**2]])\n",
        "\n",
        "    # EKF モデル作成\n",
        "    pred_mat = np.array([[1, -DT], [DT, 1]])\n",
        "    pred_error = np.array([[0.5*DT**2, 0], [0, 0.5*DT**2]])\n",
        "    obs_mat = np.eye(2)\n",
        "    obs_error = np.array([[NOISE_SIGMA**2, 0], [0, NOISE_SIGMA**2]])\n",
        "    ekf_filter = EKF(state=init_state, state_error=init_state_error,\n",
        "                     pred_mat=pred_mat, pred_error=pred_error,\n",
        "                     obs_mat=obs_mat, obs_error=obs_error)\n",
        "\n",
        "    # 予測状態・カルマンフィルタ後の状態を初期化\n",
        "    pred_states = [np.array([0, 1])]\n",
        "    filtered_states = [init_state]\n",
        "    filtered_state_errors = [init_state_error]\n",
        "\n",
        "    # 逐次ステップ計算\n",
        "    for i in range(0, points_obs.shape[0]-1):\n",
        "        # フィルタなし予測\n",
        "        pred_state = pred_states[-1] @ ekf_filter.pred_mat\n",
        "        pred_states.append(pred_state)\n",
        "\n",
        "        # カルマンフィルタ\n",
        "        ekf_filter.predict()\n",
        "        ekf_filter.update(points_obs[i+1, :])\n",
        "        filtered_states.append(ekf_filter.state)\n",
        "        filtered_state_errors.append(ekf_filter.state_error)\n",
        "\n",
        "    # np.ndarray に変換\n",
        "    pred_states = np.vstack(pred_states)\n",
        "    filtered_states = np.vstack(filtered_states)\n",
        "    filtered_state_errors = np.dstack(filtered_state_errors)\n",
        "\n",
        "    return pred_states, filtered_states, filtered_state_errors"
      ],
      "metadata": {
        "id": "gxWdBmSCvsVL"
      },
      "execution_count": null,
      "outputs": []
    },
    {
      "cell_type": "markdown",
      "source": [
        "誤差共分散行列を楕円で表すためのヘルパー関数"
      ],
      "metadata": {
        "id": "SCX25NDBbDza"
      }
    },
    {
      "cell_type": "code",
      "source": [
        "def cov2ellipse(cov: np.ndarray):\n",
        "    eig_val, eig_vec = np.linalg.eigh(cov)\n",
        "    angle = np.arctan2(eig_vec[1, 0], eig_vec[0, 0])\n",
        "    width = np.sqrt(eig_val[0])\n",
        "    height = np.sqrt(eig_val[1])\n",
        "    return width, height, angle"
      ],
      "metadata": {
        "id": "5MfPP8Q75aPv"
      },
      "execution_count": null,
      "outputs": []
    },
    {
      "cell_type": "markdown",
      "source": [
        "GT・予測データ・観測データ・フュージョン結果を誤差分布付きで描画"
      ],
      "metadata": {
        "id": "yUlone1ibZ1y"
      }
    },
    {
      "cell_type": "code",
      "source": [
        "from matplotlib.patches import Ellipse\n",
        "\n",
        "def ekf_anim(points, points_obs):\n",
        "    pred_state, joint_state, joint_state_error = ekf_integrate(points_obs)\n",
        "\n",
        "    x = points_obs[:, 0]\n",
        "    y = points_obs[:, 1]\n",
        "\n",
        "    fig, ax = plt.subplots()\n",
        "\n",
        "    ax.set_aspect('equal')\n",
        "    ax.set_xlim(-1.3, 1.3)\n",
        "    ax.set_ylim(-1.3, 1.3)\n",
        "\n",
        "    gt_traj_plt, = ax.plot([], [], c=BLUE, label=\"GT Trajectory\")\n",
        "    gt_pos_plt, = ax.plot(\n",
        "        [], [], c=ORANGE, marker=\"o\", markersize=5, label=\"GT Position\")\n",
        "\n",
        "    obs_pos_scat = ax.scatter([], [], s=5, c=RED, label=\"Measured Position\")\n",
        "    obs_ellipse = Ellipse(\n",
        "        xy=(0, 1), width=NOISE_SIGMA, height=NOISE_SIGMA, angle=0,\n",
        "        color=RED, alpha=0.1, animated=True)\n",
        "    ax.add_patch(obs_ellipse)\n",
        "\n",
        "    pred_pos_plt, = ax.plot(\n",
        "        [], [], c=PURPLE, marker=\"o\", markersize=5, label=\"Predicted Position\")\n",
        "    kalman_pos_plt, = ax.plot(\n",
        "        [], [], c=GREEN, marker=\"o\", markersize=5, label=\"Joint Position\")\n",
        "    kalman_ellipse = Ellipse(\n",
        "        xy=(0, 1), width=NOISE_SIGMA, height=NOISE_SIGMA, angle=0,\n",
        "        color=GREEN, alpha=0.3, animated=True)\n",
        "    ax.add_patch(kalman_ellipse)\n",
        "\n",
        "    ax.legend(loc=\"upper right\", fontsize=\"x-small\")\n",
        "\n",
        "    def anim_callback(i):\n",
        "        ax.set_title(f\"Frame {i}\")\n",
        "\n",
        "        # 正解\n",
        "        gt_traj_plt.set_data(points[:i+1, 0], points[:i+1, 1])\n",
        "        gt_pos_plt.set_data(points[i, 0], points[i, 1])\n",
        "\n",
        "        # 観測点\n",
        "        obs_pos_scat.set_offsets(points_obs[:i+1, :])\n",
        "        obs_ellipse.set_center(points_obs[i, :])\n",
        "\n",
        "        # 予測点\n",
        "        pred_pos_plt.set_data(pred_state[i, 0], pred_state[i, 1])\n",
        "        # フィルタ点\n",
        "        kalman_pos_plt.set_data(joint_state[i, 0], joint_state[i, 1])\n",
        "\n",
        "        # フィルタ誤差\n",
        "        width, height, angle = cov2ellipse(joint_state_error[:, :, i])\n",
        "        kalman_ellipse.set_center([joint_state[i, 0], joint_state[i, 1]])\n",
        "        kalman_ellipse.set_width(width)\n",
        "        kalman_ellipse.set_height(height)\n",
        "        kalman_ellipse.set_angle(angle)\n",
        "\n",
        "    ani = animation.FuncAnimation(fig, anim_callback, frames=len(x))\n",
        "    ani.save(\"ekf.gif\", writer=\"pillow\")\n",
        "\n",
        "ekf_anim(points, points_obs)"
      ],
      "metadata": {
        "id": "2N0Fu53qv5RR"
      },
      "execution_count": null,
      "outputs": []
    },
    {
      "cell_type": "code",
      "source": [
        "Image(\"./ekf.gif\", format='png')"
      ],
      "metadata": {
        "id": "NVmuDRgrx0_3"
      },
      "execution_count": null,
      "outputs": []
    },
    {
      "cell_type": "markdown",
      "source": [
        "## UKF"
      ],
      "metadata": {
        "id": "gsOvuIyAyklm"
      }
    },
    {
      "cell_type": "markdown",
      "source": [
        "シグマ点\n",
        "\\begin{align}\n",
        "&\\vec{s}^0=\\vec{\\mu},\\quad\n",
        "w_m^0=\\frac{\\lambda}{n+\\lambda},\\quad\n",
        "w_c^0=\\frac{\\lambda}{n+\\lambda}+(1-\\alpha^2+\\beta), \\\\\n",
        "&\\vec{s}^i=\\vec{\\mu}+\\sqrt{n+\\lambda}\\sqrt{\\Sigma}_{\\lceil i\\rceil}, \\quad\n",
        "\\vec{s}^{i+n}=\\vec{\\mu}-\\sqrt{n+\\lambda}\\sqrt{\\Sigma}_{\\lceil i\\rceil}, \\\\\n",
        "&w_m^i=w_c^i=\\frac{1}{2(n+\\lambda)},\\quad\n",
        "i=1,2,\\ldots,n\\,\\\\\n",
        "&\\kappa\\leq0,\\quad\\alpha\\in[0,1],\\quad\n",
        "\\lambda=\\alpha^2(n+\\kappa)-n,\\quad\\beta=2\n",
        "\\end{align}"
      ],
      "metadata": {
        "id": "sMdmzhDnEjLi"
      }
    },
    {
      "cell_type": "code",
      "source": [
        "from typing import Callable\n",
        "import numpy as np\n",
        "\n",
        "class UKF(Tracking):\n",
        "    def __init__(\n",
        "            self, state: np.ndarray, state_error: np.ndarray,\n",
        "            pred_map: Callable[[np.ndarray], np.ndarray], pred_error: np.ndarray,\n",
        "            obs_map: Callable[[np.ndarray], np.ndarray], obs_error: np.ndarray,\n",
        "            alpha: float=1e-3, beta: float=2, kappa: float=0):\n",
        "        super().__init__(state, state_error, pred_error, obs_error)\n",
        "\n",
        "        self.pred_map = pred_map\n",
        "        self.obs_map = obs_map\n",
        "\n",
        "        self.sigma_points = None\n",
        "\n",
        "        # パラメータ\n",
        "        n = state.shape[0]\n",
        "        self.lambda_ = alpha**2 * (n + kappa) - n\n",
        "\n",
        "        # ウェイト\n",
        "        w_0_m = self.lambda_ / (n + self.lambda_)\n",
        "        w_0_c = self.lambda_ / (n + self.lambda_) + (1 - alpha**2 + beta)\n",
        "        w_i = 1 / (2 * (n + self.lambda_))\n",
        "        self.w_m = np.block([w_0_m, *(w_i * np.ones(2*n))])\n",
        "        self.w_c = np.array([w_0_c, *(w_i * np.ones(2*n))])\n",
        "\n",
        "    def predict(self):\n",
        "        self.update_sigma_points()\n",
        "\n",
        "        self.sigma_points = np.array([\n",
        "            self.pred_map(sigma_point)\n",
        "            for sigma_point in self.sigma_points\n",
        "        ])\n",
        "\n",
        "        self.state = np.average(self.sigma_points, axis=0, weights=self.w_m)\n",
        "        self.state_error = np.average(\n",
        "            np.array([\n",
        "                np.outer(\n",
        "                    (self.sigma_points[idx] - self.state),\n",
        "                    (self.sigma_points[idx] - self.state))\n",
        "                for idx in range(len(self.sigma_points))]),\n",
        "            axis=0, weights=self.w_c\n",
        "        ) + self.pred_error\n",
        "\n",
        "    def update(self, observation: np.ndarray):\n",
        "        sigma_obs_points = np.array([\n",
        "            self.obs_map(sigma_point)\n",
        "            for sigma_point in self.sigma_points\n",
        "        ])\n",
        "\n",
        "        z_mu = np.average(sigma_obs_points, axis=0, weights=self.w_m)\n",
        "        z_error = np.average(\n",
        "            np.array([\n",
        "                np.outer(\n",
        "                    (sigma_obs_points[idx] - z_mu),\n",
        "                    (sigma_obs_points[idx] - z_mu).T)\n",
        "                for idx in range(len(sigma_obs_points))]),\n",
        "            axis=0, weights=self.w_c\n",
        "        )\n",
        "\n",
        "        xz_error = np.average(\n",
        "            np.array([\n",
        "                np.outer(\n",
        "                    (self.sigma_points[idx] - self.state),\n",
        "                    (sigma_obs_points[idx] - z_mu).T)\n",
        "                for idx in range(len(sigma_obs_points))]),\n",
        "            axis=0, weights=self.w_c\n",
        "        )\n",
        "\n",
        "        # フィルタリング\n",
        "        self.state = (\n",
        "            self.state\n",
        "            + xz_error @ np.linalg.inv(z_error) @ (observation - z_mu)\n",
        "        )\n",
        "        self.state_error = (\n",
        "            self.state_error - xz_error @ np.linalg.inv(z_error) @ xz_error.T\n",
        "        )\n",
        "\n",
        "    def update_sigma_points(self):\n",
        "        n = self.state.shape[0]\n",
        "        sqrt_cov = np.linalg.cholesky(self.state_error)\n",
        "\n",
        "        sigma_plus_points = np.array([\n",
        "            self.state + np.sqrt(n + self.lambda_) * sqrt_cov[:, i]\n",
        "            for i in range(n)\n",
        "        ])\n",
        "        sigma_minus_points = np.array([\n",
        "            self.state - np.sqrt(n + self.lambda_) * sqrt_cov[:, i]\n",
        "            for i in range(n)\n",
        "        ])\n",
        "\n",
        "        self.sigma_points = np.vstack(\n",
        "            [self.state, sigma_plus_points, sigma_minus_points])"
      ],
      "metadata": {
        "id": "FpB9V_4Z6dlc"
      },
      "execution_count": null,
      "outputs": []
    },
    {
      "cell_type": "code",
      "source": [
        "def ukf_integrate(points_obs):\n",
        "    # 初期状態作成\n",
        "    init_state = points_obs[0, :]\n",
        "    init_state_error =np.array([[NOISE_SIGMA**2, 0], [0, NOISE_SIGMA**2]])\n",
        "\n",
        "    # UKF モデル作成\n",
        "    pred_map = lambda x: x @ np.array([\n",
        "        [np.cos(DT), -np.sin(DT)], [np.sin(DT), np.cos(DT)]])\n",
        "    pred_error = np.array([[0.5*DT**2, 0], [0, 0.5*DT**2]])\n",
        "    obs_map = lambda x: x\n",
        "    obs_error = np.array([[NOISE_SIGMA**2, 0], [0, NOISE_SIGMA**2]])\n",
        "    ukf_filter = UKF(state=init_state, state_error=init_state_error,\n",
        "                     pred_map=pred_map, pred_error=pred_error,\n",
        "                     obs_map=obs_map, obs_error=obs_error)\n",
        "\n",
        "    # 予測状態・カルマンフィルタ後の状態を初期化\n",
        "    pred_states = [np.array([0, 1])]\n",
        "    filtered_states = [init_state]\n",
        "    filtered_state_errors = [init_state_error]\n",
        "\n",
        "    # 逐次ステップ計算\n",
        "    for i in range(0, points_obs.shape[0]-1):\n",
        "        # フィルタなし予測\n",
        "        pred_state = pred_map(pred_states[-1])\n",
        "        pred_states.append(pred_state)\n",
        "\n",
        "        # カルマンフィルタ\n",
        "        ukf_filter.predict()\n",
        "        ukf_filter.update(points_obs[i+1, :])\n",
        "        filtered_states.append(ukf_filter.state)\n",
        "        filtered_state_errors.append(ukf_filter.state_error)\n",
        "\n",
        "    # np.ndarray に変換\n",
        "    pred_states = np.vstack(pred_states)\n",
        "    filtered_states = np.vstack(filtered_states)\n",
        "    filtered_state_errors = np.dstack(filtered_state_errors)\n",
        "\n",
        "    return pred_states, filtered_states, filtered_state_errors"
      ],
      "metadata": {
        "id": "C3bUfDXKj_2E"
      },
      "execution_count": null,
      "outputs": []
    },
    {
      "cell_type": "code",
      "source": [
        "def ukf_anim(points, points_obs):\n",
        "    pred_state, filtered_state, filtered_state_error = ukf_integrate(points_obs)\n",
        "\n",
        "    x = points_obs[:, 0]\n",
        "    y = points_obs[:, 1]\n",
        "\n",
        "    fig, ax = plt.subplots()\n",
        "\n",
        "    ax.set_aspect('equal')\n",
        "    ax.set_xlim(-1.3, 1.3)\n",
        "    ax.set_ylim(-1.3, 1.3)\n",
        "\n",
        "    gt_traj_plt, = ax.plot([], [], c=BLUE, label=\"GT Trajectory\")\n",
        "    gt_pos_plt, = ax.plot(\n",
        "        [], [], c=ORANGE, marker=\"o\", markersize=5, label=\"GT Position\")\n",
        "\n",
        "    obs_pos_scat = ax.scatter([], [], s=5, c=RED, label=\"Measured Position\")\n",
        "    obs_ellipse = Ellipse(\n",
        "        xy=(0, 1), width=NOISE_SIGMA, height=NOISE_SIGMA, angle=0,\n",
        "        color=RED, alpha=0.1, animated=True)\n",
        "    ax.add_patch(obs_ellipse)\n",
        "\n",
        "    pred_pos_plt, = ax.plot(\n",
        "        [], [], c=PURPLE, marker=\"o\", markersize=5, label=\"Predicted Position\")\n",
        "    kalman_pos_plt, = ax.plot(\n",
        "        [], [], c=GREEN, marker=\"o\", markersize=5, label=\"Joint Position\")\n",
        "    kalman_ellipse = Ellipse(\n",
        "        xy=(0, 1), width=NOISE_SIGMA, height=NOISE_SIGMA, angle=0,\n",
        "        color=GREEN, alpha=0.3, animated=True)\n",
        "    ax.add_patch(kalman_ellipse)\n",
        "\n",
        "    ax.legend(loc=\"upper right\", fontsize=\"x-small\")\n",
        "\n",
        "    def anim_callback(i):\n",
        "        ax.set_title(f\"Frame {i}\")\n",
        "\n",
        "        # 正解\n",
        "        gt_traj_plt.set_data(points[:i+1, 0], points[:i+1, 1])\n",
        "        gt_pos_plt.set_data(points[i, 0], points[i, 1])\n",
        "\n",
        "        # 観測点\n",
        "        obs_pos_scat.set_offsets(points_obs[:i+1, :])\n",
        "        obs_ellipse.set_center(points_obs[i, :])\n",
        "\n",
        "        # 予測点\n",
        "        pred_pos_plt.set_data(pred_state[i, 0], pred_state[i, 1])\n",
        "        # フィルタ点\n",
        "        kalman_pos_plt.set_data(filtered_state[i, 0], filtered_state[i, 1])\n",
        "\n",
        "        # フィルタ誤差\n",
        "        width, height, angle = cov2ellipse(filtered_state_error[:, :, i])\n",
        "        kalman_ellipse.set_center([filtered_state[i, 0], filtered_state[i, 1]])\n",
        "        kalman_ellipse.set_width(width)\n",
        "        kalman_ellipse.set_height(height)\n",
        "        kalman_ellipse.set_angle(angle)\n",
        "\n",
        "    ani = animation.FuncAnimation(fig, anim_callback, frames=len(x))\n",
        "    ani.save(\"ukf.gif\", writer=\"pillow\")\n",
        "\n",
        "ukf_anim(points, points_obs)"
      ],
      "metadata": {
        "id": "X6K4yFTXnk0x"
      },
      "execution_count": null,
      "outputs": []
    },
    {
      "cell_type": "code",
      "source": [
        "Image(\"./ukf.gif\", format='png')"
      ],
      "metadata": {
        "id": "BMRvUZAToNFH"
      },
      "execution_count": null,
      "outputs": []
    }
  ]
}