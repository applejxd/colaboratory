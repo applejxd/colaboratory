{
  "nbformat": 4,
  "nbformat_minor": 0,
  "metadata": {
    "colab": {
      "name": "GradientDescent.ipynb",
      "provenance": [],
      "collapsed_sections": [],
      "authorship_tag": "ABX9TyPc1hJK4p5KDXh2exki43xp",
      "include_colab_link": true
    },
    "kernelspec": {
      "name": "python3",
      "display_name": "Python 3"
    }
  },
  "cells": [
    {
      "cell_type": "markdown",
      "metadata": {
        "id": "view-in-github",
        "colab_type": "text"
      },
      "source": [
        "<a href=\"https://colab.research.google.com/github/applejxd/colaboratory/blob/master/GradientDescent.ipynb\" target=\"_parent\"><img src=\"https://colab.research.google.com/assets/colab-badge.svg\" alt=\"Open In Colab\"/></a>"
      ]
    },
    {
      "cell_type": "markdown",
      "metadata": {
        "id": "10Qdg6Is1KF5"
      },
      "source": [
        "原点からずれた点を中心に,、近似的に円状に分布する点を生成する関数"
      ]
    },
    {
      "cell_type": "code",
      "metadata": {
        "colab": {
          "base_uri": "https://localhost:8080/"
        },
        "id": "CaiHS76ExRKm",
        "outputId": "6f401e69-da60-4353-aa1e-dc43a6a7ac5f"
      },
      "source": [
        "import numpy as np\n",
        "from typing import List\n",
        "\n",
        "# 再現性のためシードは固定\n",
        "np.random.seed(42)\n",
        "\n",
        "def get_point() -> List[float]:\n",
        "    r = 10. + np.random.normal(0,0.5)\n",
        "    center = [0.1, -0.2]\n",
        "\n",
        "    theta = np.random.uniform(0, 2*np.pi)\n",
        "    return [r*np.cos(theta)+center[0], r*np.sin(theta)+center[1]]\n",
        "get_point()"
      ],
      "execution_count": 1,
      "outputs": [
        {
          "output_type": "execute_result",
          "data": {
            "text/plain": [
              "[-1.0569801383343806, -10.382839472714007]"
            ]
          },
          "metadata": {
            "tags": []
          },
          "execution_count": 1
        }
      ]
    },
    {
      "cell_type": "markdown",
      "metadata": {
        "id": "359608Bz1Q1z"
      },
      "source": [
        "データ生成"
      ]
    },
    {
      "cell_type": "code",
      "metadata": {
        "colab": {
          "base_uri": "https://localhost:8080/",
          "height": 897
        },
        "id": "iV4PUqqu1SK0",
        "outputId": "2a40d2cd-758c-4874-c8d0-fc26269d46d4"
      },
      "source": [
        "data_list = []\n",
        "for k in range(50):\n",
        "    data_list.append(get_point())\n",
        "\n",
        "data = np.array(data_list)\n",
        "display(data)"
      ],
      "execution_count": 2,
      "outputs": [
        {
          "output_type": "display_data",
          "data": {
            "text/plain": [
              "array([[ -7.98315673,  -5.96929055],\n",
              "       [  9.33204952,   3.32724182],\n",
              "       [  6.69030475,  -7.56479591],\n",
              "       [ 10.79948867,   1.19159928],\n",
              "       [ 10.29868946,  -2.15149162],\n",
              "       [  4.15625806,   8.68296843],\n",
              "       [  4.27350919,   9.1851486 ],\n",
              "       [ -9.109716  ,   3.99706926],\n",
              "       [ -2.21657133,   8.54161628],\n",
              "       [ -2.38464942,   8.96267771],\n",
              "       [ -6.68197306,   7.36121701],\n",
              "       [  3.43754038,  10.00070309],\n",
              "       [ -9.74759427,  -1.08310126],\n",
              "       [ -7.4901633 ,  -6.28438016],\n",
              "       [  4.91521092,   8.62757303],\n",
              "       [ -3.79506153,  -9.08325957],\n",
              "       [ -9.06563139,   3.41877536],\n",
              "       [  9.86088502,   1.94247449],\n",
              "       [  8.07500899,  -5.3089931 ],\n",
              "       [ -3.83649296,   9.43839288],\n",
              "       [ -9.21503473,  -1.38080745],\n",
              "       [  9.26594555,  -1.97330238],\n",
              "       [  1.68806597, -10.17278033],\n",
              "       [  8.9072666 ,   5.27293834],\n",
              "       [  3.45773688,   9.31034319],\n",
              "       [ -7.50764529,   6.2008276 ],\n",
              "       [ -1.21724559,   9.56096783],\n",
              "       [ -1.78697224,   9.38571829],\n",
              "       [-10.0519712 ,  -2.99071315],\n",
              "       [  9.16743522,   4.38788794],\n",
              "       [  9.87418916,  -1.00714034],\n",
              "       [  9.75572408,   0.13515419],\n",
              "       [  4.22034633,  -9.64632447],\n",
              "       [  1.50116975, -10.62173011],\n",
              "       [  9.45330571,   4.49524165],\n",
              "       [  6.34954217,  -7.46134416],\n",
              "       [ -6.93578852,  -7.08690491],\n",
              "       [ -3.54899074,   8.85265299],\n",
              "       [ -4.40792606,   8.62216698],\n",
              "       [  8.00077347,  -6.9725982 ],\n",
              "       [-10.41581035,   1.65471822],\n",
              "       [  0.78936974, -10.35745169],\n",
              "       [ -8.86897823,  -3.83459445],\n",
              "       [ -9.78043412,  -1.62094406],\n",
              "       [ -9.58404455,   4.54107004],\n",
              "       [ -3.85143315,   9.03355517],\n",
              "       [ -9.73621677,  -0.7302051 ],\n",
              "       [ -8.26326779,   5.07930838],\n",
              "       [  0.45494418, -10.37236564],\n",
              "       [  8.77471984,  -4.30215981]])"
            ]
          },
          "metadata": {
            "tags": []
          }
        }
      ]
    },
    {
      "cell_type": "markdown",
      "metadata": {
        "id": "pngTjvSI2Id1"
      },
      "source": [
        "プロット"
      ]
    },
    {
      "cell_type": "code",
      "metadata": {
        "colab": {
          "base_uri": "https://localhost:8080/",
          "height": 265
        },
        "id": "X8IYS3zwxIVT",
        "outputId": "b467c4b3-8af5-4408-a698-7ff61172feac"
      },
      "source": [
        "import matplotlib.pyplot as plt\n",
        "\n",
        "# アスペクト比 1:1\n",
        "plt.axes().set_aspect('equal', 'datalim')\n",
        "# 散布図\n",
        "plt.scatter(data[:,0],data[:,1])\n",
        "plt.show()"
      ],
      "execution_count": 3,
      "outputs": [
        {
          "output_type": "display_data",
          "data": {
            "image/png": "[encoded data removed]",
            "text/plain": [
              "<Figure size 432x288 with 1 Axes>"
            ]
          },
          "metadata": {
            "tags": [],
            "needs_background": "light"
          }
        }
      ]
    },
    {
      "cell_type": "markdown",
      "metadata": {
        "id": "rFvoTmMZ5paM"
      },
      "source": [
        "このデータを中心・半径が未知の円として非線形フィッティング。\n",
        "MSSは\n",
        "\\begin{equation}\n",
        "  f(x_0,y_0,r) = \\frac{1}{N}\\sum_{k=1}^N \n",
        "    \\left[\\frac{(x_i-x_0)^2+(y_i-y_0)^2}{r^2} - 1\\right]^2\n",
        "\\end{equation}\n",
        "となる。\n",
        "ただし計算の都合上、無次元で平方根が含まれない形になっている。\n",
        "この関数の最適化を最急降下法で行う。"
      ]
    },
    {
      "cell_type": "code",
      "metadata": {
        "colab": {
          "base_uri": "https://localhost:8080/"
        },
        "id": "d-i7ketP7-7S",
        "outputId": "d4b50e09-e4d3-43ba-cbd5-011b2218cc0a"
      },
      "source": [
        "def residue(x0, y0, r) -> float:\n",
        "    result = 0.\n",
        "    for k in range(len(data)):\n",
        "        result += (((data[k,0]-x0)**2+(data[k,1]-y0)**2)/r**2-1)**2\n",
        "    return result/len(data)\n",
        "residue(0.1, -0.2, 10.)"
      ],
      "execution_count": 16,
      "outputs": [
        {
          "output_type": "execute_result",
          "data": {
            "text/plain": [
              "0.005860849564807571"
            ]
          },
          "metadata": {
            "tags": []
          },
          "execution_count": 16
        }
      ]
    },
    {
      "cell_type": "code",
      "metadata": {
        "id": "e33eLAqwwqqv"
      },
      "source": [
        "def back_tracking():\n",
        "    rho = 0.5"
      ],
      "execution_count": 5,
      "outputs": []
    }
  ]
}