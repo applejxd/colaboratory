{
  "nbformat": 4,
  "nbformat_minor": 0,
  "metadata": {
    "colab": {
      "provenance": [],
      "authorship_tag": "ABX9TyN+ILd6lJz96rqUh0krWfpN",
      "include_colab_link": true
    },
    "kernelspec": {
      "name": "python3",
      "display_name": "Python 3"
    },
    "language_info": {
      "name": "python"
    }
  },
  "cells": [
    {
      "cell_type": "markdown",
      "metadata": {
        "id": "view-in-github",
        "colab_type": "text"
      },
      "source": [
        "<a href=\"https://colab.research.google.com/github/applejxd/colaboratory/blob/master/algorithm/fitting.ipynb\" target=\"_parent\"><img src=\"https://colab.research.google.com/assets/colab-badge.svg\" alt=\"Open In Colab\"/></a>"
      ]
    },
    {
      "cell_type": "markdown",
      "source": [
        "## 外れ値なしフィッティング"
      ],
      "metadata": {
        "id": "a7m8t081xiNW"
      }
    },
    {
      "cell_type": "markdown",
      "source": [
        "### 陽関数の場合"
      ],
      "metadata": {
        "id": "QqDnTCPizo5l"
      }
    },
    {
      "cell_type": "markdown",
      "source": [
        "2次関数+正規分布誤差で検証"
      ],
      "metadata": {
        "id": "8RhYpGb181Px"
      }
    },
    {
      "cell_type": "code",
      "source": [
        "import numpy as np\n",
        "import matplotlib.pyplot as plt\n",
        "\n",
        "point_num: int = 1000\n",
        "\n",
        "# 誤差\n",
        "errors = np.random.normal(0, 2, (point_num,))\n",
        "x = np.linspace(0, 10, point_num)\n",
        "y = x**2 + errors / 10\n",
        "\n",
        "points = np.vstack([x, y]).T\n",
        "\n",
        "plt.scatter(x, y, s=0.5)\n",
        "plt.xlim(0, 3.5)\n",
        "plt.ylim(-1, 11)\n",
        "plt.show()"
      ],
      "metadata": {
        "colab": {
          "base_uri": "https://localhost:8080/",
          "height": 265
        },
        "id": "fbQ2Cd6dxmDr",
        "outputId": "fb5018b3-19a4-4490-abd0-a51d495c9e42"
      },
      "execution_count": 1,
      "outputs": [
        {
          "output_type": "display_data",
          "data": {
            "text/plain": [
              "<Figure size 432x288 with 1 Axes>"
            ],
            "image/png": "[encoded data removed]"
          },
          "metadata": {
            "needs_background": "light"
          }
        }
      ]
    },
    {
      "cell_type": "markdown",
      "source": [
        "陽関数フィッティング。\n",
        "代表的な Python ライブラリを使う方法は以下の3つ：\n",
        "1. [numpy.polyfit](https://numpy.org/doc/stable/reference/generated/numpy.polyfit.html)\n",
        "2. [scipy.optimize.curve_fit](https://docs.scipy.org/doc/scipy/reference/generated/scipy.optimize.curve_fit.html)\n",
        "3. [scipy.optimize.leastsq](https://docs.scipy.org/doc/scipy/reference/generated/scipy.optimize.leastsq.html)\n",
        "\n",
        "それぞれを使った方法を示す。"
      ],
      "metadata": {
        "id": "bKjGqCcD86Hf"
      }
    },
    {
      "cell_type": "markdown",
      "source": [
        "#### numpy.polyfit を使う方法"
      ],
      "metadata": {
        "id": "Pk5rfmgeO-vD"
      }
    },
    {
      "cell_type": "markdown",
      "source": [
        "多項式フィッティングを行う場合に簡便である。"
      ],
      "metadata": {
        "id": "C9zWULjpPXne"
      }
    },
    {
      "cell_type": "code",
      "source": [
        "params, cov_mat = np.polyfit(points[:, 0], points[:, 1], deg=2, cov=True)\n",
        "# 誤差共分散行列を可視化\n",
        "plt.imshow(cov_mat)"
      ],
      "metadata": {
        "id": "Y5CHOvBtNOuB",
        "outputId": "ddd322d6-c5b4-45b6-f5a3-50a9d25c036a",
        "colab": {
          "base_uri": "https://localhost:8080/",
          "height": 287
        }
      },
      "execution_count": 3,
      "outputs": [
        {
          "output_type": "execute_result",
          "data": {
            "text/plain": [
              "<matplotlib.image.AxesImage at 0x7fea757dd940>"
            ]
          },
          "metadata": {},
          "execution_count": 3
        },
        {
          "output_type": "display_data",
          "data": {
            "text/plain": [
              "<Figure size 432x288 with 1 Axes>"
            ],
            "image/png": "[encoded data removed]"
          },
          "metadata": {
            "needs_background": "light"
          }
        }
      ]
    },
    {
      "cell_type": "code",
      "source": [
        "def quad_func(x, a, b, c):\n",
        "    return a*x**2+b*x+c\n",
        "\n",
        "plt.scatter(x, y, s=0.5)\n",
        "plt.plot(x, quad_func(x, *params), color=\"orange\")\n",
        "plt.xlim(0, 3.5)\n",
        "plt.ylim(-1, 11)\n",
        "plt.show()"
      ],
      "metadata": {
        "id": "ZAaKGobqOzJt",
        "outputId": "90b02eaf-48f4-4ac6-c51f-c1f2193a6ca6",
        "colab": {
          "base_uri": "https://localhost:8080/",
          "height": 265
        }
      },
      "execution_count": 4,
      "outputs": [
        {
          "output_type": "display_data",
          "data": {
            "text/plain": [
              "<Figure size 432x288 with 1 Axes>"
            ],
            "image/png": "[encoded data removed]"
          },
          "metadata": {
            "needs_background": "light"
          }
        }
      ]
    },
    {
      "cell_type": "markdown",
      "source": [
        "#### scipy.optimize.curve_fit を使う方法"
      ],
      "metadata": {
        "id": "YvcxNKfIPEz4"
      }
    },
    {
      "cell_type": "markdown",
      "source": [
        "numpy.polyfit と比較して、多項式以外のフィッティングが可能である。"
      ],
      "metadata": {
        "id": "XNWr-qWDPevv"
      }
    },
    {
      "cell_type": "code",
      "source": [
        "import scipy.optimize as spo\n",
        "\n",
        "p_opt, p_cov = spo.curve_fit(quad_func, x, y)\n",
        "# 誤差共分散行列の可視化\n",
        "plt.imshow(p_cov)"
      ],
      "metadata": {
        "colab": {
          "base_uri": "https://localhost:8080/",
          "height": 287
        },
        "id": "l0GmzKIPy1kd",
        "outputId": "e7ce4de6-6c67-46f7-cf38-588708012b34"
      },
      "execution_count": 7,
      "outputs": [
        {
          "output_type": "execute_result",
          "data": {
            "text/plain": [
              "<matplotlib.image.AxesImage at 0x7fea77d47580>"
            ]
          },
          "metadata": {},
          "execution_count": 7
        },
        {
          "output_type": "display_data",
          "data": {
            "text/plain": [
              "<Figure size 432x288 with 1 Axes>"
            ],
            "image/png": "[encoded data removed]"
          },
          "metadata": {
            "needs_background": "light"
          }
        }
      ]
    },
    {
      "cell_type": "code",
      "source": [
        "plt.scatter(x, y, s=0.5)\n",
        "plt.plot(x, quad_func(x, *p_opt), color=\"orange\")\n",
        "plt.xlim(0, 3.5)\n",
        "plt.ylim(-1, 11)\n",
        "plt.show()"
      ],
      "metadata": {
        "colab": {
          "base_uri": "https://localhost:8080/",
          "height": 265
        },
        "id": "_IHQA3nQzckJ",
        "outputId": "5f6f36a3-59a5-4304-c8e2-406136f8c17c"
      },
      "execution_count": 6,
      "outputs": [
        {
          "output_type": "display_data",
          "data": {
            "text/plain": [
              "<Figure size 432x288 with 1 Axes>"
            ],
            "image/png": "[encoded data removed]"
          },
          "metadata": {
            "needs_background": "light"
          }
        }
      ]
    },
    {
      "cell_type": "markdown",
      "source": [
        "#### scipy.optimize.leastsq を使う方法"
      ],
      "metadata": {
        "id": "ZOPC0qskPnFe"
      }
    },
    {
      "cell_type": "markdown",
      "source": [
        "フィッティングの損失関数の設定が可能である。"
      ],
      "metadata": {
        "id": "lmWuSPJ-Prgh"
      }
    },
    {
      "cell_type": "code",
      "source": [
        "def loss_func(params, points):\n",
        "    y_est = quad_func(points[:, 0], *params)\n",
        "    return y_est - points[:, 1]\n",
        "\n",
        "result = spo.leastsq(loss_func, (0, 0, 0), args=(points), full_output=True)\n",
        "params = result[0]\n",
        "cov_mat = result[1]\n",
        "\n",
        "plt.imshow(cov_mat)"
      ],
      "metadata": {
        "id": "aVSv0cpnQvNh",
        "outputId": "b7e22bfc-1898-48d2-8eed-6386a67165ed",
        "colab": {
          "base_uri": "https://localhost:8080/",
          "height": 287
        }
      },
      "execution_count": 14,
      "outputs": [
        {
          "output_type": "execute_result",
          "data": {
            "text/plain": [
              "<matplotlib.image.AxesImage at 0x7fea63057d60>"
            ]
          },
          "metadata": {},
          "execution_count": 14
        },
        {
          "output_type": "display_data",
          "data": {
            "text/plain": [
              "<Figure size 432x288 with 1 Axes>"
            ],
            "image/png": "[encoded data removed]"
          },
          "metadata": {
            "needs_background": "light"
          }
        }
      ]
    },
    {
      "cell_type": "code",
      "source": [
        "plt.scatter(x, y, s=0.5)\n",
        "plt.plot(x, quad_func(x, *params), color=\"orange\")\n",
        "plt.xlim(0, 3.5)\n",
        "plt.ylim(-1, 11)\n",
        "plt.show()"
      ],
      "metadata": {
        "id": "AdJ5u7kvTsZo",
        "outputId": "dd134712-a454-42ba-a030-41dcc0155ac3",
        "colab": {
          "base_uri": "https://localhost:8080/",
          "height": 265
        }
      },
      "execution_count": 15,
      "outputs": [
        {
          "output_type": "display_data",
          "data": {
            "text/plain": [
              "<Figure size 432x288 with 1 Axes>"
            ],
            "image/png": "[encoded data removed]"
          },
          "metadata": {
            "needs_background": "light"
          }
        }
      ]
    },
    {
      "cell_type": "markdown",
      "source": [
        "### 陰関数の場合"
      ],
      "metadata": {
        "id": "ZPSQfhymzvK9"
      }
    },
    {
      "cell_type": "markdown",
      "source": [
        "円+正規分布誤差で検証"
      ],
      "metadata": {
        "id": "aWW-00lb8-tx"
      }
    },
    {
      "cell_type": "code",
      "source": [
        "# 点数\n",
        "point_num = 500\n",
        "# 誤差\n",
        "errors = 0.02 * np.random.normal(0, 1, (point_num, 2))\n",
        "# 媒介変数表示\n",
        "theta = np.linspace(0, 2*np.pi, point_num)\n",
        "\n",
        "radius, center = 1.3, (1, 2)\n",
        "x = radius*np.cos(theta) + center[0] + errors[:, 0]\n",
        "y = radius*np.sin(theta) + center[1] + errors[:, 1]\n",
        "\n",
        "points = np.vstack([x, y]).T\n",
        "\n",
        "plt.scatter(points[:, 0], points[:, 1], s=0.5)\n",
        "plt.axis(\"equal\")\n",
        "plt.show()"
      ],
      "metadata": {
        "id": "FtuTZTaIzxG6"
      },
      "execution_count": null,
      "outputs": []
    },
    {
      "cell_type": "markdown",
      "source": [
        "[ODR (Orthogonal Distance Regression)](https://pota.hatenablog.jp/entry/2014/10/31/033326)を実施"
      ],
      "metadata": {
        "id": "utTskVbL9Csu"
      }
    },
    {
      "cell_type": "code",
      "source": [
        "from scipy import odr\n",
        "\n",
        "def circ_func(beta, x):\n",
        "    return (x[0]-beta[0])**2+(x[1]-beta[1])**2-beta[2]**2\n",
        "\n",
        "model = odr.Model(circ_func, implicit=True)\n",
        "data = odr.Data(points.T, y=1)\n",
        "solver = odr.ODR(data, model, beta0=[0, 0, 1])\n",
        "\n",
        "result = solver.run()\n",
        "result.pprint()"
      ],
      "metadata": {
        "id": "T1PP-vgf0kqN"
      },
      "execution_count": null,
      "outputs": []
    },
    {
      "cell_type": "markdown",
      "source": [
        "推定結果の陰関数のヒートマップを作成(0となる部分空間が推定ライン)"
      ],
      "metadata": {
        "id": "rYy3s0BP9Rg6"
      }
    },
    {
      "cell_type": "code",
      "source": [
        "diff=0.01\n",
        "x_range=np.arange(np.min(points[:, 0]), np.max(points[:, 0]), diff)\n",
        "y_range=np.arange(np.min(points[:, 1]), np.max(points[:, 1]), diff)\n",
        "X, Y=np.meshgrid(x_range, y_range)\n",
        "\n",
        "Z = circ_func(result.beta, (X, Y))\n",
        "\n",
        "plt.imshow(Z)\n",
        "plt.colorbar()"
      ],
      "metadata": {
        "id": "Mh5gnMYP7HDL"
      },
      "execution_count": null,
      "outputs": []
    },
    {
      "cell_type": "code",
      "source": [
        "plt.scatter(points[:, 0], points[:, 1], s=0.5, color=\"blue\")\n",
        "plt.contour(X, Y, Z, [0], colors=\"orange\")\n",
        "plt.axis(\"equal\")"
      ],
      "metadata": {
        "id": "Nx3kcaQM7o3K"
      },
      "execution_count": null,
      "outputs": []
    },
    {
      "cell_type": "markdown",
      "source": [
        "## RANSAC"
      ],
      "metadata": {
        "id": "P6VQ7qsmqlcx"
      }
    },
    {
      "cell_type": "markdown",
      "source": [
        "### RANSAC (陽関数)"
      ],
      "metadata": {
        "id": "WPHl_AsmqXw_"
      }
    },
    {
      "cell_type": "markdown",
      "source": [
        "#### 直線フィッティング"
      ],
      "metadata": {
        "id": "lds28Hjbk9gX"
      }
    },
    {
      "cell_type": "markdown",
      "source": [
        "誤差分布として外れ値が大きいコーシー分布を仮定"
      ],
      "metadata": {
        "id": "S9Uol1SGbVqD"
      }
    },
    {
      "cell_type": "code",
      "execution_count": null,
      "metadata": {
        "id": "JZXroLSDN5Ty"
      },
      "outputs": [],
      "source": [
        "import numpy as np\n",
        "import matplotlib.pyplot as plt\n",
        "\n",
        "def cauchy(x: np.ndarray):\n",
        "    return 1/np.pi/(1+x*x)\n",
        "\n",
        "x = np.linspace(-5, 5, 100)\n",
        "y = cauchy(x)\n",
        "\n",
        "plt.plot(x, y)\n",
        "plt.show()"
      ]
    },
    {
      "cell_type": "markdown",
      "source": [
        "サンプルデータ生成"
      ],
      "metadata": {
        "id": "xqMf_WTtbeak"
      }
    },
    {
      "cell_type": "code",
      "source": [
        "point_num: int = 1000\n",
        "\n",
        "errors = np.random.standard_cauchy(point_num)\n",
        "x = np.linspace(0, 10, point_num)\n",
        "y = x + errors / 10\n",
        "\n",
        "points = np.vstack([x, y]).T\n",
        "\n",
        "plt.scatter(x, y, s=0.5)\n",
        "plt.ylim(-1, 11)\n",
        "plt.show()"
      ],
      "metadata": {
        "id": "1gK6AD90OqIg"
      },
      "execution_count": null,
      "outputs": []
    },
    {
      "cell_type": "markdown",
      "source": [
        "iteration の回数の目安は以下の通り：\n",
        "\n",
        "1. データ分布から、1回のサンプリングで inlier を引き当てる確率 $e$ を仮定\n",
        "2. 1回の試行でのサンプル数を $n$ とすると、それらのサンプルが全て inlier である確率は $e^n$\n",
        "3. 一方で$N$回の試行で 2. が1回も生じない場合(RANSAC が失敗する場合)の確率は$(1-e^n)^N$\n",
        "4. つまり RANSAC をほぼ確実(確率$p\\sim1$)で成功させたい場合は\n",
        "\\begin{equation}\n",
        "1-p=(1-e^n)^N⇔N=\\frac{\\ln(1-p)}{\\ln(1-e^n)}\n",
        "\\end{equation}\n",
        "くらいの$N$に設定して反復する。\n",
        "4. 更に早期終了を目指す場合は、最大の inlier 数更新のタイミングで $e\\sim$  (inlier とした数)/(データ数) として$N$を更新"
      ],
      "metadata": {
        "id": "iKd8qPKLaTgo"
      }
    },
    {
      "cell_type": "code",
      "source": [
        "# データの目視確認より 9/10 は対象データと想定\n",
        "e = 9/10\n",
        "# 直線のパラメータは2個 → サンプリング数は2個で十分\n",
        "n = 2\n",
        "# 99.99% の確率で RANSAC を成功させる\n",
        "p = 0.9999\n",
        "# zero division error 対策\n",
        "max_iteration = int(np.log(1-p)/_) if not np.isclose((_ := np.log(1-e**n)), 0) else 1e+5\n",
        "\n",
        "print(max_iteration)"
      ],
      "metadata": {
        "id": "iLFiobqtaUHH"
      },
      "execution_count": null,
      "outputs": []
    },
    {
      "cell_type": "markdown",
      "source": [
        "乱数生成"
      ],
      "metadata": {
        "id": "qSjDSz45WusQ"
      }
    },
    {
      "cell_type": "code",
      "source": [
        "index_mat = np.random.randint(0, point_num, (max_iteration, 2))\n",
        "print(index_mat)"
      ],
      "metadata": {
        "id": "JmbKA5NhO8WF"
      },
      "execution_count": null,
      "outputs": []
    },
    {
      "cell_type": "markdown",
      "source": [
        "ランダムサンプリング"
      ],
      "metadata": {
        "id": "6SlTwUDyWZ5E"
      }
    },
    {
      "cell_type": "code",
      "source": [
        "np.array([x[index_mat], y[index_mat]]).shape"
      ],
      "metadata": {
        "id": "SlAj6mcA2EnG"
      },
      "execution_count": null,
      "outputs": []
    },
    {
      "cell_type": "code",
      "source": [
        "# 転置前の成分数は (axis, trials, points)\n",
        "# 転置後の成分数は (trials, points, axis)\n",
        "samples_tensor = np.array([x[index_mat], y[index_mat]]).transpose(1, 2, 0)\n",
        "\n",
        "print(samples_tensor.shape)\n",
        "print(samples_tensor)"
      ],
      "metadata": {
        "id": "AIv8LkkGVLHe"
      },
      "execution_count": null,
      "outputs": []
    },
    {
      "cell_type": "markdown",
      "source": [
        "numpy.polyfit で傾きと切片計算"
      ],
      "metadata": {
        "id": "04Vi6Q42WysY"
      }
    },
    {
      "cell_type": "code",
      "source": [
        "params_tensor = np.array([np.polyfit(sample[:, 0], sample[:, 1], 1) \n",
        "                          for sample in samples_tensor])"
      ],
      "metadata": {
        "id": "bMS8ApJ4ViFQ"
      },
      "execution_count": null,
      "outputs": []
    },
    {
      "cell_type": "markdown",
      "source": [
        "inlier の数を計算 → 最も良い候補を選択"
      ],
      "metadata": {
        "id": "UWppNTAra4pS"
      }
    },
    {
      "cell_type": "code",
      "source": [
        "def polynomial(params, points):\n",
        "    max_degree = len(params)\n",
        "    # shape=(params, points)\n",
        "    terms = np.array([params[degree] * points[:, 0] ** (max_degree - degree - 1)\n",
        "                      for degree in range(max_degree)])\n",
        "    return np.sum(terms, axis=0)\n",
        "\n",
        "def get_distances(params, points):\n",
        "    y_est = polynomial(params, points)\n",
        "    distances = np.abs(points[:, 1] - y_est)\n",
        "    return distances\n",
        "\n",
        "distances_tensor = np.array([\n",
        "    get_distances(params, points) for params in params_tensor])\n",
        "\n",
        "distance_th = 0.3\n",
        "inlier_bool_tensor = np.array([\n",
        "    distances < distance_th\n",
        "    for distances in distances_tensor\n",
        "])\n",
        "inlier_num_array = np.array([\n",
        "    np.sum(inlier_bool)\n",
        "    for inlier_bool in inlier_bool_tensor\n",
        "])\n",
        "\n",
        "best_idx = np.argmax(inlier_num_array)\n",
        "print(best_idx)"
      ],
      "metadata": {
        "id": "fiKCLkDYWMxA"
      },
      "execution_count": null,
      "outputs": []
    },
    {
      "cell_type": "markdown",
      "source": [
        "結果を確認"
      ],
      "metadata": {
        "id": "kBJ98PrmlmNT"
      }
    },
    {
      "cell_type": "code",
      "source": [
        "params = params_tensor[best_idx]\n",
        "inlier_idx = np.arange(point_num)[inlier_bool_tensor[best_idx]]\n",
        "outlier_idx = np.arange(point_num)[~inlier_bool_tensor[best_idx]]\n",
        "\n",
        "plt.scatter(points[inlier_idx, 0], points[inlier_idx, 1], s=0.5, color=\"orange\")\n",
        "plt.scatter(points[outlier_idx, 0], points[outlier_idx, 1], s=0.5, color=\"blue\")\n",
        "\n",
        "plt.plot(points[:, 0], polynomial(params, points), color=\"green\")\n",
        "plt.ylim(-1, 11)\n",
        "plt.show()"
      ],
      "metadata": {
        "id": "wmJZAasGXxA3"
      },
      "execution_count": null,
      "outputs": []
    },
    {
      "cell_type": "markdown",
      "source": [
        "再フィッティング"
      ],
      "metadata": {
        "id": "BuKZHktZlo7h"
      }
    },
    {
      "cell_type": "code",
      "source": [
        "refined_params = np.polyfit(points[inlier_idx, 0], points[inlier_idx, 1], 1)\n",
        "\n",
        "plt.scatter(points[inlier_idx, 0], points[inlier_idx, 1], s=0.5, color=\"orange\")\n",
        "plt.scatter(points[outlier_idx, 0], points[outlier_idx, 1], s=0.5, color=\"blue\")\n",
        "\n",
        "plt.plot(points[:, 0], polynomial(refined_params, points), color=\"green\")\n",
        "plt.plot(points[:, 0], polynomial(refined_params, points), color=\"red\")\n",
        "plt.ylim(-1, 11)\n",
        "plt.show()"
      ],
      "metadata": {
        "id": "XmoHP_A_kyAr"
      },
      "execution_count": null,
      "outputs": []
    },
    {
      "cell_type": "markdown",
      "source": [
        "#### 2次曲線フィッティング"
      ],
      "metadata": {
        "id": "sHikSqMfzEBw"
      }
    },
    {
      "cell_type": "code",
      "source": [
        "point_num: int = 1000\n",
        "\n",
        "errors = np.random.standard_cauchy(point_num)\n",
        "x = np.linspace(0, 10, point_num)\n",
        "y = x**2 + errors / 10\n",
        "\n",
        "points = np.vstack([x, y]).T\n",
        "\n",
        "plt.scatter(x, y, s=0.5)\n",
        "plt.xlim(0, 3.5)\n",
        "plt.ylim(-1, 11)\n",
        "plt.show()"
      ],
      "metadata": {
        "id": "LXT-Wez1zF5G"
      },
      "execution_count": null,
      "outputs": []
    },
    {
      "cell_type": "code",
      "source": [
        "e = 6/10\n",
        "n = 3\n",
        "p = 0.9999\n",
        "max_iteration = int(np.log(1-p)/_) if not np.isclose((_ := np.log(1-e**n)), 0) else 1e+5\n",
        "\n",
        "print(max_iteration)"
      ],
      "metadata": {
        "id": "HpkN8fVNavwT"
      },
      "execution_count": null,
      "outputs": []
    },
    {
      "cell_type": "code",
      "source": [
        "index_mat = np.random.randint(0, point_num, (max_iteration, 3))\n",
        "\n",
        "# 転置前の成分数は (axis, trials, points)\n",
        "# 転置後の成分数は (trials, points, axis)\n",
        "samples_tensor = np.array([x[index_mat], y[index_mat]]).transpose(1, 2, 0)\n",
        "print(samples_tensor.shape)"
      ],
      "metadata": {
        "id": "4wk4y_ShzXDy"
      },
      "execution_count": null,
      "outputs": []
    },
    {
      "cell_type": "code",
      "source": [
        "params_tensor = np.array([\n",
        "    np.polyfit(sample[:, 0], sample[:, 1], 2)\n",
        "    for sample in samples_tensor])"
      ],
      "metadata": {
        "id": "LDojCLRi0Eba"
      },
      "execution_count": null,
      "outputs": []
    },
    {
      "cell_type": "code",
      "source": [
        "def get_distances(params, points):\n",
        "    y_est =  params[0] * points[:, 0] **2 + params[1] * points[:, 0] + params[2]\n",
        "    distances = np.abs(points[:, 1] - y_est)\n",
        "    return distances\n",
        "\n",
        "distances_tensor = np.array([\n",
        "    get_distances(params, points) for params in params_tensor])\n",
        "\n",
        "distance_th = 0.3\n",
        "inlier_bool_tensor = np.array([\n",
        "    distances < distance_th\n",
        "    for distances in distances_tensor\n",
        "])\n",
        "inlier_num_array = np.array([\n",
        "    np.sum(inlier_bool)\n",
        "    for inlier_bool in inlier_bool_tensor\n",
        "])\n",
        "\n",
        "best_idx = np.argmax(inlier_num_array)\n",
        "print(best_idx)"
      ],
      "metadata": {
        "id": "F3NHjxXV0KJk"
      },
      "execution_count": null,
      "outputs": []
    },
    {
      "cell_type": "code",
      "source": [
        "params = params_tensor[best_idx]\n",
        "inlier_idx = np.arange(point_num)[inlier_bool_tensor[best_idx]]\n",
        "outlier_idx = np.arange(point_num)[~inlier_bool_tensor[best_idx]]\n",
        "\n",
        "plt.scatter(points[inlier_idx, 0], points[inlier_idx, 1], s=0.5, color=\"orange\")\n",
        "plt.scatter(points[outlier_idx, 0], points[outlier_idx, 1], s=0.5, color=\"blue\")\n",
        "\n",
        "y_est =  params[0] * points[:, 0] **2 + params[1] * points[:, 0] + params[2]\n",
        "plt.plot(points[:, 0], y_est, color=\"green\")\n",
        "plt.xlim(0, 3.5)\n",
        "plt.ylim(-1, 11)\n",
        "plt.show()"
      ],
      "metadata": {
        "id": "4UNzRuMD20XW"
      },
      "execution_count": null,
      "outputs": []
    },
    {
      "cell_type": "code",
      "source": [
        "refined_params = np.polyfit(points[inlier_idx, 0], points[inlier_idx, 1], 2)\n",
        "y_refined =  refined_params[0] * points[:, 0] **2 + params[1] * points[:, 0] + params[2]\n",
        "\n",
        "plt.scatter(points[inlier_idx, 0], points[inlier_idx, 1], s=0.5, color=\"orange\")\n",
        "plt.scatter(points[outlier_idx, 0], points[outlier_idx, 1], s=0.5, color=\"blue\")\n",
        "\n",
        "\n",
        "plt.plot(points[:, 0], polynomial(refined_params, points), color=\"green\")\n",
        "plt.plot(points[:, 0], polynomial(refined_params, points), color=\"red\")\n",
        "plt.xlim(0, 3.5)\n",
        "plt.ylim(-1, 11)\n",
        "plt.show()"
      ],
      "metadata": {
        "id": "VH_nOy3r3OTV"
      },
      "execution_count": null,
      "outputs": []
    },
    {
      "cell_type": "markdown",
      "source": [
        "### RANSAC (陰関数)"
      ],
      "metadata": {
        "id": "y-_k_MawoBNI"
      }
    },
    {
      "cell_type": "markdown",
      "source": [
        "#### 円の例"
      ],
      "metadata": {
        "id": "yVhn0hB0qtXO"
      }
    },
    {
      "cell_type": "markdown",
      "source": [
        "基底関数を定義"
      ],
      "metadata": {
        "id": "E9ECDW8zsSts"
      }
    },
    {
      "cell_type": "code",
      "source": [
        "def linear_basis(point):\n",
        "    x, y = point\n",
        "    return [x, y, 1]\n",
        "\n",
        "def quad_basis(point):\n",
        "    x, y = point\n",
        "    return [x**2, 2*x*y, y**2, 2*x, 2*y, 1]"
      ],
      "metadata": {
        "id": "ln8X2XPwChMN"
      },
      "execution_count": null,
      "outputs": []
    },
    {
      "cell_type": "code",
      "source": [
        "# 点数\n",
        "point_num = 500\n",
        "# 誤差\n",
        "errors = 0.02 * np.random.normal(0, 1, (point_num, 2))\n",
        "# 媒介変数表示\n",
        "theta = np.linspace(0, 2*np.pi, point_num)\n",
        "x = np.cos(theta) + errors[:, 0]\n",
        "y = np.sin(theta) + errors[:, 1]\n",
        "\n",
        "points = np.vstack([x, y]).T\n",
        "\n",
        "plt.scatter(points[:, 0], points[:, 1], s=0.5)\n",
        "plt.axis(\"equal\")\n",
        "plt.xlim(-2, 2)\n",
        "plt.ylim(-2, 2)\n",
        "plt.show()"
      ],
      "metadata": {
        "id": "KrjR4uLOi2Yb"
      },
      "execution_count": null,
      "outputs": []
    },
    {
      "cell_type": "markdown",
      "source": [
        "構造行列の計算例"
      ],
      "metadata": {
        "id": "MtcdKA8ehvXZ"
      }
    },
    {
      "cell_type": "code",
      "source": [
        "xi=quad_basis(points[20])\n",
        "mat=np.outer(xi, xi)\n",
        "\n",
        "plt.imshow(mat)"
      ],
      "metadata": {
        "id": "JEPk0namr64i"
      },
      "execution_count": null,
      "outputs": []
    },
    {
      "cell_type": "markdown",
      "source": [
        "誤差がある系だと正定値行列。誤差がない系だと det=0 で非負定値。"
      ],
      "metadata": {
        "id": "jImDeV_eRPcf"
      }
    },
    {
      "cell_type": "code",
      "source": [
        "xi_list = np.array([quad_basis(point) for point in points])\n",
        "structure_mat = np.mean(np.array([np.outer(xi, xi) for xi in xi_list]), 0)\n",
        "plt.imshow(structure_mat)\n",
        "\n",
        "print(f\"det={np.linalg.det(structure_mat)}\")\n",
        "# 正定値性の確認(正定値でないと cholesky 分解でエラー)\n",
        "try:\n",
        "    np.linalg.cholesky(structure_mat)\n",
        "except np.linalg.LinAlgError as e:\n",
        "    print(e)\n",
        "else:\n",
        "    print(\"Matrix is positive definite\")\n",
        "\n",
        "e_value, e_vec = np.linalg.eig(structure_mat)\n",
        "print(f\"e_value={e_value}\")\n",
        "\n",
        "# 固有ベクトルは列毎に格納されていることに注意\n",
        "params=e_vec[:, np.argmin(e_value)]\n",
        "print(f\"params={params}\")"
      ],
      "metadata": {
        "id": "N8yLV6e6hxpH"
      },
      "execution_count": null,
      "outputs": []
    },
    {
      "cell_type": "code",
      "source": [
        "diff=0.01\n",
        "x_range=np.arange(np.min(points[:, 0]), np.max(points[:, 0]), diff)\n",
        "y_range=np.arange(np.min(points[:, 1]), np.max(points[:, 1]), diff)\n",
        "X, Y=np.meshgrid(x_range, y_range)\n",
        "\n",
        "basises=np.array([basis*np.ones_like(X) for basis in quad_basis((X, Y))])\n",
        "Z=np.einsum(\"i,ijk->jk\", params, basises)\n",
        "plt.imshow(Z)\n",
        "plt.colorbar()"
      ],
      "metadata": {
        "id": "qJiNGNsi946N"
      },
      "execution_count": null,
      "outputs": []
    },
    {
      "cell_type": "code",
      "source": [
        "plt.scatter(points[:, 0], points[:, 1], s=0.5, color=\"blue\")\n",
        "plt.contour(X, Y, Z, [0], colors=\"orange\")\n",
        "plt.axis(\"equal\")\n",
        "plt.show()"
      ],
      "metadata": {
        "id": "W7oi3-VWh_ou"
      },
      "execution_count": null,
      "outputs": []
    },
    {
      "cell_type": "markdown",
      "source": [
        "#### RANSAC クラスの作成"
      ],
      "metadata": {
        "id": "4mIagc147uaf"
      }
    },
    {
      "cell_type": "markdown",
      "source": [
        "自動微分を実施するための Jet を定義"
      ],
      "metadata": {
        "id": "30c6t_GmD3fT"
      }
    },
    {
      "cell_type": "code",
      "source": [
        "class Jet:\n",
        "    def __init__(self, a: float, v):\n",
        "        self.a = a\n",
        "        self.v = np.array(v)\n",
        "\n",
        "    def __str__(self):\n",
        "        return f\"{self.a}+{self.v}\"\n",
        "\n",
        "    def __add__(self, other):\n",
        "        if isinstance(other, (int, float)):\n",
        "            other = Jet(other, np.zeros(len(self.v)))\n",
        "        return Jet(self.a + other.a, self.v + other.v)\n",
        "\n",
        "    def __sub__(self, other):\n",
        "        if isinstance(other, (int, float)):\n",
        "            other = Jet(other, np.zeors(len(self.v)))\n",
        "        return Jet(self.a - other.a, self.v - other.v)\n",
        "    \n",
        "    def __mul__(self, other):\n",
        "        if isinstance(other, (int, float)):\n",
        "            other = Jet(other, np.zeros(len(self.v)))\n",
        "        return Jet(self.a * other.a, self.a * other.v + self.v * other.a)\n",
        "    \n",
        "    def __truediv__(self, other):\n",
        "        if isinstance(other, (int, float)):\n",
        "            other = Jet(other, np.zeros(len(self.v)))\n",
        "        return Jet(self.a / other.a, self.v / other.a - self.a * other.v / other.a ** 2)\n",
        "    \n",
        "    def __pow__(self, other):\n",
        "        if isinstance(other, (int, float)):\n",
        "            other = Jet(other, np.zeros(len(self.v)))\n",
        "        value = self.a ** other.a\n",
        "        base_diff = other.a * self.a ** (other.a - 1) * self.v\n",
        "        # 底が0, 負の場合に注意\n",
        "        if np.isclose(self.a, 0):\n",
        "            exp_diff = 0\n",
        "        else:\n",
        "            exp_diff = value * other.v * np.log(np.abs(self.a))\n",
        "        return Jet(value, base_diff + exp_diff)\n",
        "\n",
        "    def __radd__(self, other):\n",
        "        return self.__add__(other)\n",
        "    \n",
        "    def __rsub__(self, other):\n",
        "        return self.__sub__(other)\n",
        "    \n",
        "    def __rmul__(self, other):\n",
        "        return self.__mul__(other)\n",
        "        \n",
        "\n",
        "x = Jet(1, (1, 0))\n",
        "y = Jet(2, (0, 1))\n",
        "print(quad_basis((x, y))[1])"
      ],
      "metadata": {
        "id": "eUJAgIaRDrxC"
      },
      "execution_count": null,
      "outputs": []
    },
    {
      "cell_type": "markdown",
      "source": [
        "前セクションまでの処理を踏まえて、RANSAC を行うための一般的なクラスを定義する"
      ],
      "metadata": {
        "id": "cydSY9uboF-Z"
      }
    },
    {
      "cell_type": "code",
      "source": [
        "from typing import List\n",
        "import random\n",
        "import numpy.linalg as LA\n",
        "from tqdm import tqdm\n",
        "\n",
        "class RANSAC:\n",
        "    def __init__(self, basis_func, target_prob=0.9999):\n",
        "        # 関数: データ点 -> List[基底関数]\n",
        "        self.basis_func = basis_func\n",
        "        # RANSAC の目標成功確率\n",
        "        self.target_prob = target_prob\n",
        "\n",
        "    def fit(self, points):\n",
        "        xi_list = np.array([self.basis_func(point) for point in points])\n",
        "        mat_list = np.array([np.outer(xi, xi) for xi in xi_list])\n",
        "        mat = np.mean(mat_list/np.max(mat_list), axis=0)\n",
        "\n",
        "        if not np.isclose(np.linalg.det(mat), 0):\n",
        "            print(\"This fitting is statistics mode.\")\n",
        "\n",
        "        e_value, e_vec = LA.eig(mat)\n",
        "        # 非負定値行列だが行列式が0となることがあるため絶対値をとる(数値誤差のため)\n",
        "        idx = np.argmin(np.abs(e_value))\n",
        "        # 固有ベクトルは列毎に格納されていることに注意\n",
        "        return e_vec[:, idx]\n",
        "\n",
        "    def jet_basis(self, point: np.ndarray) -> List[Jet]:\n",
        "        \"\"\"Jet 型の基底関数\n",
        "\n",
        "        :param point: データ値(規格化済)\n",
        "        :return:\n",
        "        \"\"\"\n",
        "        jets = [Jet(point[idx], np.eye(len(point))[idx])\n",
        "                for idx in range(len(point))]\n",
        "        basis_list = self.basis_func(jets)\n",
        "        return [basis + Jet(0, np.zeros_like(point)) for basis in basis_list]\n",
        "\n",
        "    def get_cov_mat(self, point: np.ndarray) -> np.ndarray:\n",
        "        \"\"\"正規化共分散行列\n",
        "\n",
        "        :param point: データ値(規格化済)\n",
        "        :return: 正規化共分散行列\n",
        "        \"\"\"\n",
        "        xi = self.jet_basis(point)\n",
        "        return np.array([[np.dot(xi[i].v, xi[j].v) \n",
        "                         for j in range(len(xi))] \n",
        "                         for i in range(len(xi))])\n",
        "        \n",
        "    def sampson_error(self, point: np.ndarray, params: np.ndarray):\n",
        "        cov_mat = self.get_cov_mat(point)\n",
        "        denominator = np.dot(params, cov_mat @ params)\n",
        "\n",
        "        xi = self.basis_func(point)\n",
        "        numerator = np.dot(xi, params) ** 2\n",
        "\n",
        "        return numerator/denominator if not np.isclose(denominator, 0) else np.inf\n",
        "\n",
        "    def criteria(self, inlier_prob: float, degree: int) -> int:\n",
        "        \"\"\"RANSAC の終了条件を計算\n",
        "\n",
        "        :param inlier_prob: inlier の割合/確率\n",
        "        :param degree: フィッティング次数/サンプル数\n",
        "        :return: RANSAC の反復回数の目安\n",
        "        \"\"\"\n",
        "        # zero division error 対策\n",
        "        return int(np.log(1-self.target_prob)/_) \\\n",
        "            if not np.isclose((_ := np.log(1-inlier_prob**degree)), 0) else 1e+5\n",
        "\n",
        "    def execute(self, points, distance_th=0.1):\n",
        "        data_num = points.shape[0]\n",
        "        # パラメータは規格化するのでその拘束条件で -1\n",
        "        degree = len(self.basis_func(points[0, :]))-1\n",
        "        # 最悪のケースとして inlier がデータの 1/10 と仮定\n",
        "        inlier_prob = 0.1\n",
        "        max_iteration = self.criteria(inlier_prob, degree)\n",
        "\n",
        "        iteration=0\n",
        "        best_inlier_bool = [False for _ in range(data_num)]\n",
        "        best_inlier_num = 0\n",
        "        best_params = []\n",
        "        with tqdm(total=max_iteration) as pbar:\n",
        "            while(iteration < max_iteration):\n",
        "                # ランダムサンプリング\n",
        "                rand_idx = random.sample(range(data_num), degree)\n",
        "                # フィッティング\n",
        "                params = self.fit(points[rand_idx, :])\n",
        "                distance_sq = np.array([self.sampson_error(point, params) \n",
        "                                         for point in points])\n",
        "                # inlier 判定\n",
        "                inlier_bool = distance_sq < (distance_th ** 2)\n",
        "                inlier_num = np.sum(inlier_bool)\n",
        "\n",
        "                iteration += 1\n",
        "                pbar.update(1)\n",
        "\n",
        "                if inlier_num > best_inlier_num:\n",
        "                    # 繰り返し回数の再判定\n",
        "                    max_iteration = min(\n",
        "                        max_iteration, self.criteria(inlier_num/data_num, degree))\n",
        "                    \n",
        "                    best_inlier_bool = inlier_bool\n",
        "                    best_inlier_num = inlier_num\n",
        "                    best_params = params\n",
        "                    pbar.total = max_iteration\n",
        "                    pbar.refresh()\n",
        "                    \n",
        "        best_params = self.fit(points[best_inlier_bool, :])\n",
        "        print(f\"params={best_params}\")\n",
        "        print(f\"fitness={best_inlier_num/data_num}\")\n",
        "        return best_params, best_inlier_bool"
      ],
      "metadata": {
        "id": "L7GfvoV984Ck"
      },
      "execution_count": null,
      "outputs": []
    },
    {
      "cell_type": "markdown",
      "source": [
        "#### 線形フィッティング"
      ],
      "metadata": {
        "id": "KYrLF9HZ8Dfa"
      }
    },
    {
      "cell_type": "markdown",
      "source": [
        "実装の確認のために再度線形フィッティングを実施。\n",
        "上と同様にサンプルデータを生成。"
      ],
      "metadata": {
        "id": "esCawYft8J_j"
      }
    },
    {
      "cell_type": "code",
      "source": [
        "point_num: int = 1000\n",
        "\n",
        "errors = np.random.standard_cauchy(point_num)\n",
        "x = np.linspace(0, 10, point_num)\n",
        "y = x + errors / 10\n",
        "\n",
        "points = np.vstack([x, y]).T\n",
        "\n",
        "plt.scatter(x, y, s=0.5)\n",
        "plt.ylim(-1, 11)\n",
        "plt.show()"
      ],
      "metadata": {
        "id": "uFC1yvCK8FGi"
      },
      "execution_count": null,
      "outputs": []
    },
    {
      "cell_type": "code",
      "source": [
        "linear_estimator = RANSAC(linear_basis)\n",
        "params, inlier_bools = linear_estimator.execute(points, distance_th=0.3)"
      ],
      "metadata": {
        "id": "lOmcd-lC8TnK"
      },
      "execution_count": null,
      "outputs": []
    },
    {
      "cell_type": "markdown",
      "source": [
        "陰関数プロットのためのヘルパー関数を定義"
      ],
      "metadata": {
        "id": "8HcfUJYfif9_"
      }
    },
    {
      "cell_type": "code",
      "source": [
        "def get_contour(basis_func, points, params, diff):\n",
        "    # グリッド生成\n",
        "    x_range=np.arange(np.min(points[:, 0]), np.max(points[:, 0]), diff)\n",
        "    y_range=np.arange(np.min(points[:, 1]), np.max(points[:, 1]), diff)\n",
        "    x_mesh, y_mesh=np.meshgrid(x_range, y_range)\n",
        "\n",
        "    basises=np.array([basis*np.ones_like(x_mesh) \n",
        "                      for basis in basis_func((x_mesh, y_mesh))])\n",
        "    z_mesh=np.einsum(\"i,ijk->jk\", params, basises)\n",
        "    return x_mesh, y_mesh, z_mesh"
      ],
      "metadata": {
        "id": "l6cgAP3BSU5F"
      },
      "execution_count": null,
      "outputs": []
    },
    {
      "cell_type": "markdown",
      "source": [
        "結果をプロット"
      ],
      "metadata": {
        "id": "2iso4Y-iijDL"
      }
    },
    {
      "cell_type": "code",
      "source": [
        "inlier_idx = np.arange(point_num)[inlier_bools]\n",
        "outlier_idx = np.arange(point_num)[~inlier_bools]\n",
        "\n",
        "plt.scatter(points[outlier_idx, 0], points[outlier_idx, 1], s=0.5, color=\"blue\")\n",
        "plt.scatter(points[inlier_idx, 0], points[inlier_idx, 1], s=0.5, color=\"orange\")\n",
        "\n",
        "plt.contour(*get_contour(linear_basis, points, params, 0.01), [0], colors=\"green\")\n",
        "plt.ylim(-1, 11)\n",
        "plt.show()"
      ],
      "metadata": {
        "id": "KEIrwlRTHjwG"
      },
      "execution_count": null,
      "outputs": []
    },
    {
      "cell_type": "markdown",
      "source": [
        "#### 2次曲線フィッティング"
      ],
      "metadata": {
        "id": "Xhp2aqrm7_cT"
      }
    },
    {
      "cell_type": "markdown",
      "source": [
        "サンプルデータ生成\n"
      ],
      "metadata": {
        "id": "EWi5wcpuWlrE"
      }
    },
    {
      "cell_type": "code",
      "source": [
        "# データ中心\n",
        "center = np.array([1, 2])\n",
        "# 軸半径\n",
        "scales = np.array([2, 3])\n",
        "# 回転角\n",
        "rad = np.deg2rad(-30)\n",
        "\n",
        "# 点数\n",
        "point_num = 500\n",
        "# 誤差\n",
        "errors = 0.01 * np.random.standard_cauchy((point_num, 2))\n",
        "# 媒介変数表示\n",
        "theta = np.linspace(0, 2*np.pi, point_num)\n",
        "x = center[0] + scales[0]*np.cos(theta) + errors[:, 0]\n",
        "y = center[1] + scales[1]*np.sin(theta) + errors[:, 1]\n",
        "\n",
        "points = np.vstack([x, y]).T\n",
        "# 回転行列\n",
        "rot_mat = np.array([[np.cos(rad), -np.sin(rad)], [np.sin(rad), np.cos(rad)]])\n",
        "points = points @ rot_mat\n",
        "\n",
        "plt.scatter(points[:, 0], points[:, 1], s=0.5)\n",
        "plt.xlim((-3, 3))\n",
        "plt.ylim((-2, 6))\n",
        "plt.show()"
      ],
      "metadata": {
        "id": "Gv-2_-_d1Y7E"
      },
      "execution_count": null,
      "outputs": []
    },
    {
      "cell_type": "code",
      "source": [
        "quad_estimator = RANSAC(quad_basis)\n",
        "params, inlier_bools = quad_estimator.execute(points, distance_th=0.07)"
      ],
      "metadata": {
        "id": "cuWJdj0PW-YF"
      },
      "execution_count": null,
      "outputs": []
    },
    {
      "cell_type": "code",
      "source": [
        "inlier_idx = np.arange(point_num)[inlier_bools]\n",
        "outlier_idx = np.arange(point_num)[~inlier_bools]\n",
        "\n",
        "plt.scatter(points[outlier_idx, 0], points[outlier_idx, 1], s=0.5, color=\"blue\")\n",
        "plt.scatter(points[inlier_idx, 0], points[inlier_idx, 1], s=0.5, color=\"orange\")\n",
        "\n",
        "plt.contour(*get_contour(quad_basis, points, params, 0.01), [0], colors=\"green\")\n",
        "plt.xlim((-3, 3))\n",
        "plt.ylim((-2, 6))\n",
        "plt.show()"
      ],
      "metadata": {
        "id": "g4mjRuVhp-h_"
      },
      "execution_count": null,
      "outputs": []
    },
    {
      "cell_type": "markdown",
      "source": [
        "### 誤差分布"
      ],
      "metadata": {
        "id": "lVtiqmkjeF5d"
      }
    },
    {
      "cell_type": "markdown",
      "source": [
        "パラメータを$\\theta$, データ点を$\\vec{z}_i$, 推定値を$\\vec{x}_i$ とする。\n",
        "\n",
        "\\begin{equation}\n",
        "p(\\theta | z_i) = \\frac{p(z_i | \\theta)p(\\theta)}{p(z_i)}\n",
        "\\end{equation}\n",
        "\n",
        "\\begin{equation}\n",
        "p(\\theta)=\\int dz_i p(\\theta | z_i)p(z_i)\n",
        "\\end{equation}"
      ],
      "metadata": {
        "id": "63qGUtJJeHqe"
      }
    },
    {
      "cell_type": "code",
      "source": [],
      "metadata": {
        "id": "XXZJaebEA7nP"
      },
      "execution_count": null,
      "outputs": []
    }
  ]
}